{
 "cells": [
  {
   "cell_type": "code",
   "execution_count": 1,
   "metadata": {},
   "outputs": [],
   "source": [
    "import numpy as np\n",
    "import pandas as pd\n",
    "import matplotlib.pyplot as plt\n",
    "import seaborn as sns\n",
    "\n",
    "import plotly.offline as py\n",
    "import plotly.graph_objs as go"
   ]
  },
  {
   "cell_type": "code",
   "execution_count": 2,
   "metadata": {},
   "outputs": [],
   "source": [
    "data = pd.read_csv('/home/hasan/DATA SET/EDA/nutrition-facts/menu.csv')"
   ]
  },
  {
   "cell_type": "code",
   "execution_count": 3,
   "metadata": {},
   "outputs": [
    {
     "data": {
      "text/html": [
       "<div>\n",
       "<style scoped>\n",
       "    .dataframe tbody tr th:only-of-type {\n",
       "        vertical-align: middle;\n",
       "    }\n",
       "\n",
       "    .dataframe tbody tr th {\n",
       "        vertical-align: top;\n",
       "    }\n",
       "\n",
       "    .dataframe thead th {\n",
       "        text-align: right;\n",
       "    }\n",
       "</style>\n",
       "<table border=\"1\" class=\"dataframe\">\n",
       "  <thead>\n",
       "    <tr style=\"text-align: right;\">\n",
       "      <th></th>\n",
       "      <th>Category</th>\n",
       "      <th>Item</th>\n",
       "      <th>Serving Size</th>\n",
       "      <th>Calories</th>\n",
       "      <th>Calories from Fat</th>\n",
       "      <th>Total Fat</th>\n",
       "      <th>Total Fat (% Daily Value)</th>\n",
       "      <th>Saturated Fat</th>\n",
       "      <th>Saturated Fat (% Daily Value)</th>\n",
       "      <th>Trans Fat</th>\n",
       "      <th>...</th>\n",
       "      <th>Carbohydrates</th>\n",
       "      <th>Carbohydrates (% Daily Value)</th>\n",
       "      <th>Dietary Fiber</th>\n",
       "      <th>Dietary Fiber (% Daily Value)</th>\n",
       "      <th>Sugars</th>\n",
       "      <th>Protein</th>\n",
       "      <th>Vitamin A (% Daily Value)</th>\n",
       "      <th>Vitamin C (% Daily Value)</th>\n",
       "      <th>Calcium (% Daily Value)</th>\n",
       "      <th>Iron (% Daily Value)</th>\n",
       "    </tr>\n",
       "  </thead>\n",
       "  <tbody>\n",
       "    <tr>\n",
       "      <th>0</th>\n",
       "      <td>Breakfast</td>\n",
       "      <td>Egg McMuffin</td>\n",
       "      <td>4.8 oz (136 g)</td>\n",
       "      <td>300</td>\n",
       "      <td>120</td>\n",
       "      <td>13.0</td>\n",
       "      <td>20</td>\n",
       "      <td>5.0</td>\n",
       "      <td>25</td>\n",
       "      <td>0.0</td>\n",
       "      <td>...</td>\n",
       "      <td>31</td>\n",
       "      <td>10</td>\n",
       "      <td>4</td>\n",
       "      <td>17</td>\n",
       "      <td>3</td>\n",
       "      <td>17</td>\n",
       "      <td>10</td>\n",
       "      <td>0</td>\n",
       "      <td>25</td>\n",
       "      <td>15</td>\n",
       "    </tr>\n",
       "    <tr>\n",
       "      <th>1</th>\n",
       "      <td>Breakfast</td>\n",
       "      <td>Egg White Delight</td>\n",
       "      <td>4.8 oz (135 g)</td>\n",
       "      <td>250</td>\n",
       "      <td>70</td>\n",
       "      <td>8.0</td>\n",
       "      <td>12</td>\n",
       "      <td>3.0</td>\n",
       "      <td>15</td>\n",
       "      <td>0.0</td>\n",
       "      <td>...</td>\n",
       "      <td>30</td>\n",
       "      <td>10</td>\n",
       "      <td>4</td>\n",
       "      <td>17</td>\n",
       "      <td>3</td>\n",
       "      <td>18</td>\n",
       "      <td>6</td>\n",
       "      <td>0</td>\n",
       "      <td>25</td>\n",
       "      <td>8</td>\n",
       "    </tr>\n",
       "    <tr>\n",
       "      <th>2</th>\n",
       "      <td>Breakfast</td>\n",
       "      <td>Sausage McMuffin</td>\n",
       "      <td>3.9 oz (111 g)</td>\n",
       "      <td>370</td>\n",
       "      <td>200</td>\n",
       "      <td>23.0</td>\n",
       "      <td>35</td>\n",
       "      <td>8.0</td>\n",
       "      <td>42</td>\n",
       "      <td>0.0</td>\n",
       "      <td>...</td>\n",
       "      <td>29</td>\n",
       "      <td>10</td>\n",
       "      <td>4</td>\n",
       "      <td>17</td>\n",
       "      <td>2</td>\n",
       "      <td>14</td>\n",
       "      <td>8</td>\n",
       "      <td>0</td>\n",
       "      <td>25</td>\n",
       "      <td>10</td>\n",
       "    </tr>\n",
       "    <tr>\n",
       "      <th>3</th>\n",
       "      <td>Breakfast</td>\n",
       "      <td>Sausage McMuffin with Egg</td>\n",
       "      <td>5.7 oz (161 g)</td>\n",
       "      <td>450</td>\n",
       "      <td>250</td>\n",
       "      <td>28.0</td>\n",
       "      <td>43</td>\n",
       "      <td>10.0</td>\n",
       "      <td>52</td>\n",
       "      <td>0.0</td>\n",
       "      <td>...</td>\n",
       "      <td>30</td>\n",
       "      <td>10</td>\n",
       "      <td>4</td>\n",
       "      <td>17</td>\n",
       "      <td>2</td>\n",
       "      <td>21</td>\n",
       "      <td>15</td>\n",
       "      <td>0</td>\n",
       "      <td>30</td>\n",
       "      <td>15</td>\n",
       "    </tr>\n",
       "    <tr>\n",
       "      <th>4</th>\n",
       "      <td>Breakfast</td>\n",
       "      <td>Sausage McMuffin with Egg Whites</td>\n",
       "      <td>5.7 oz (161 g)</td>\n",
       "      <td>400</td>\n",
       "      <td>210</td>\n",
       "      <td>23.0</td>\n",
       "      <td>35</td>\n",
       "      <td>8.0</td>\n",
       "      <td>42</td>\n",
       "      <td>0.0</td>\n",
       "      <td>...</td>\n",
       "      <td>30</td>\n",
       "      <td>10</td>\n",
       "      <td>4</td>\n",
       "      <td>17</td>\n",
       "      <td>2</td>\n",
       "      <td>21</td>\n",
       "      <td>6</td>\n",
       "      <td>0</td>\n",
       "      <td>25</td>\n",
       "      <td>10</td>\n",
       "    </tr>\n",
       "  </tbody>\n",
       "</table>\n",
       "<p>5 rows × 24 columns</p>\n",
       "</div>"
      ],
      "text/plain": [
       "    Category                              Item    Serving Size  Calories  \\\n",
       "0  Breakfast                      Egg McMuffin  4.8 oz (136 g)       300   \n",
       "1  Breakfast                 Egg White Delight  4.8 oz (135 g)       250   \n",
       "2  Breakfast                  Sausage McMuffin  3.9 oz (111 g)       370   \n",
       "3  Breakfast         Sausage McMuffin with Egg  5.7 oz (161 g)       450   \n",
       "4  Breakfast  Sausage McMuffin with Egg Whites  5.7 oz (161 g)       400   \n",
       "\n",
       "   Calories from Fat  Total Fat  Total Fat (% Daily Value)  Saturated Fat  \\\n",
       "0                120       13.0                         20            5.0   \n",
       "1                 70        8.0                         12            3.0   \n",
       "2                200       23.0                         35            8.0   \n",
       "3                250       28.0                         43           10.0   \n",
       "4                210       23.0                         35            8.0   \n",
       "\n",
       "   Saturated Fat (% Daily Value)  Trans Fat  ...  Carbohydrates  \\\n",
       "0                             25        0.0  ...             31   \n",
       "1                             15        0.0  ...             30   \n",
       "2                             42        0.0  ...             29   \n",
       "3                             52        0.0  ...             30   \n",
       "4                             42        0.0  ...             30   \n",
       "\n",
       "   Carbohydrates (% Daily Value)  Dietary Fiber  \\\n",
       "0                             10              4   \n",
       "1                             10              4   \n",
       "2                             10              4   \n",
       "3                             10              4   \n",
       "4                             10              4   \n",
       "\n",
       "   Dietary Fiber (% Daily Value)  Sugars  Protein  Vitamin A (% Daily Value)  \\\n",
       "0                             17       3       17                         10   \n",
       "1                             17       3       18                          6   \n",
       "2                             17       2       14                          8   \n",
       "3                             17       2       21                         15   \n",
       "4                             17       2       21                          6   \n",
       "\n",
       "   Vitamin C (% Daily Value)  Calcium (% Daily Value)  Iron (% Daily Value)  \n",
       "0                          0                       25                    15  \n",
       "1                          0                       25                     8  \n",
       "2                          0                       25                    10  \n",
       "3                          0                       30                    15  \n",
       "4                          0                       25                    10  \n",
       "\n",
       "[5 rows x 24 columns]"
      ]
     },
     "execution_count": 3,
     "metadata": {},
     "output_type": "execute_result"
    }
   ],
   "source": [
    "data.head()"
   ]
  },
  {
   "cell_type": "code",
   "execution_count": 4,
   "metadata": {},
   "outputs": [
    {
     "data": {
      "text/plain": [
       "(260, 24)"
      ]
     },
     "execution_count": 4,
     "metadata": {},
     "output_type": "execute_result"
    }
   ],
   "source": [
    "data.shape"
   ]
  },
  {
   "cell_type": "markdown",
   "metadata": {},
   "source": [
    "### Checking Data Quality"
   ]
  },
  {
   "cell_type": "code",
   "execution_count": 5,
   "metadata": {},
   "outputs": [
    {
     "data": {
      "text/plain": [
       "Category                         0\n",
       "Item                             0\n",
       "Serving Size                     0\n",
       "Calories                         0\n",
       "Calories from Fat                0\n",
       "Total Fat                        0\n",
       "Total Fat (% Daily Value)        0\n",
       "Saturated Fat                    0\n",
       "Saturated Fat (% Daily Value)    0\n",
       "Trans Fat                        0\n",
       "Cholesterol                      0\n",
       "Cholesterol (% Daily Value)      0\n",
       "Sodium                           0\n",
       "Sodium (% Daily Value)           0\n",
       "Carbohydrates                    0\n",
       "Carbohydrates (% Daily Value)    0\n",
       "Dietary Fiber                    0\n",
       "Dietary Fiber (% Daily Value)    0\n",
       "Sugars                           0\n",
       "Protein                          0\n",
       "Vitamin A (% Daily Value)        0\n",
       "Vitamin C (% Daily Value)        0\n",
       "Calcium (% Daily Value)          0\n",
       "Iron (% Daily Value)             0\n",
       "dtype: int64"
      ]
     },
     "execution_count": 5,
     "metadata": {},
     "output_type": "execute_result"
    }
   ],
   "source": [
    "data.isnull().sum()"
   ]
  },
  {
   "cell_type": "code",
   "execution_count": 6,
   "metadata": {},
   "outputs": [
    {
     "data": {
      "text/html": [
       "<div>\n",
       "<style scoped>\n",
       "    .dataframe tbody tr th:only-of-type {\n",
       "        vertical-align: middle;\n",
       "    }\n",
       "\n",
       "    .dataframe tbody tr th {\n",
       "        vertical-align: top;\n",
       "    }\n",
       "\n",
       "    .dataframe thead th {\n",
       "        text-align: right;\n",
       "    }\n",
       "</style>\n",
       "<table border=\"1\" class=\"dataframe\">\n",
       "  <thead>\n",
       "    <tr style=\"text-align: right;\">\n",
       "      <th></th>\n",
       "      <th>Calories</th>\n",
       "      <th>Calories from Fat</th>\n",
       "      <th>Total Fat</th>\n",
       "      <th>Total Fat (% Daily Value)</th>\n",
       "      <th>Saturated Fat</th>\n",
       "      <th>Saturated Fat (% Daily Value)</th>\n",
       "      <th>Trans Fat</th>\n",
       "      <th>Cholesterol</th>\n",
       "      <th>Cholesterol (% Daily Value)</th>\n",
       "      <th>Sodium</th>\n",
       "      <th>...</th>\n",
       "      <th>Carbohydrates</th>\n",
       "      <th>Carbohydrates (% Daily Value)</th>\n",
       "      <th>Dietary Fiber</th>\n",
       "      <th>Dietary Fiber (% Daily Value)</th>\n",
       "      <th>Sugars</th>\n",
       "      <th>Protein</th>\n",
       "      <th>Vitamin A (% Daily Value)</th>\n",
       "      <th>Vitamin C (% Daily Value)</th>\n",
       "      <th>Calcium (% Daily Value)</th>\n",
       "      <th>Iron (% Daily Value)</th>\n",
       "    </tr>\n",
       "  </thead>\n",
       "  <tbody>\n",
       "    <tr>\n",
       "      <th>count</th>\n",
       "      <td>260.000000</td>\n",
       "      <td>260.000000</td>\n",
       "      <td>260.000000</td>\n",
       "      <td>260.000000</td>\n",
       "      <td>260.000000</td>\n",
       "      <td>260.000000</td>\n",
       "      <td>260.000000</td>\n",
       "      <td>260.000000</td>\n",
       "      <td>260.000000</td>\n",
       "      <td>260.000000</td>\n",
       "      <td>...</td>\n",
       "      <td>260.000000</td>\n",
       "      <td>260.000000</td>\n",
       "      <td>260.000000</td>\n",
       "      <td>260.000000</td>\n",
       "      <td>260.000000</td>\n",
       "      <td>260.000000</td>\n",
       "      <td>260.000000</td>\n",
       "      <td>260.000000</td>\n",
       "      <td>260.000000</td>\n",
       "      <td>260.000000</td>\n",
       "    </tr>\n",
       "    <tr>\n",
       "      <th>mean</th>\n",
       "      <td>368.269231</td>\n",
       "      <td>127.096154</td>\n",
       "      <td>14.165385</td>\n",
       "      <td>21.815385</td>\n",
       "      <td>6.007692</td>\n",
       "      <td>29.965385</td>\n",
       "      <td>0.203846</td>\n",
       "      <td>54.942308</td>\n",
       "      <td>18.392308</td>\n",
       "      <td>495.750000</td>\n",
       "      <td>...</td>\n",
       "      <td>47.346154</td>\n",
       "      <td>15.780769</td>\n",
       "      <td>1.630769</td>\n",
       "      <td>6.530769</td>\n",
       "      <td>29.423077</td>\n",
       "      <td>13.338462</td>\n",
       "      <td>13.426923</td>\n",
       "      <td>8.534615</td>\n",
       "      <td>20.973077</td>\n",
       "      <td>7.734615</td>\n",
       "    </tr>\n",
       "    <tr>\n",
       "      <th>std</th>\n",
       "      <td>240.269886</td>\n",
       "      <td>127.875914</td>\n",
       "      <td>14.205998</td>\n",
       "      <td>21.885199</td>\n",
       "      <td>5.321873</td>\n",
       "      <td>26.639209</td>\n",
       "      <td>0.429133</td>\n",
       "      <td>87.269257</td>\n",
       "      <td>29.091653</td>\n",
       "      <td>577.026323</td>\n",
       "      <td>...</td>\n",
       "      <td>28.252232</td>\n",
       "      <td>9.419544</td>\n",
       "      <td>1.567717</td>\n",
       "      <td>6.307057</td>\n",
       "      <td>28.679797</td>\n",
       "      <td>11.426146</td>\n",
       "      <td>24.366381</td>\n",
       "      <td>26.345542</td>\n",
       "      <td>17.019953</td>\n",
       "      <td>8.723263</td>\n",
       "    </tr>\n",
       "    <tr>\n",
       "      <th>min</th>\n",
       "      <td>0.000000</td>\n",
       "      <td>0.000000</td>\n",
       "      <td>0.000000</td>\n",
       "      <td>0.000000</td>\n",
       "      <td>0.000000</td>\n",
       "      <td>0.000000</td>\n",
       "      <td>0.000000</td>\n",
       "      <td>0.000000</td>\n",
       "      <td>0.000000</td>\n",
       "      <td>0.000000</td>\n",
       "      <td>...</td>\n",
       "      <td>0.000000</td>\n",
       "      <td>0.000000</td>\n",
       "      <td>0.000000</td>\n",
       "      <td>0.000000</td>\n",
       "      <td>0.000000</td>\n",
       "      <td>0.000000</td>\n",
       "      <td>0.000000</td>\n",
       "      <td>0.000000</td>\n",
       "      <td>0.000000</td>\n",
       "      <td>0.000000</td>\n",
       "    </tr>\n",
       "    <tr>\n",
       "      <th>25%</th>\n",
       "      <td>210.000000</td>\n",
       "      <td>20.000000</td>\n",
       "      <td>2.375000</td>\n",
       "      <td>3.750000</td>\n",
       "      <td>1.000000</td>\n",
       "      <td>4.750000</td>\n",
       "      <td>0.000000</td>\n",
       "      <td>5.000000</td>\n",
       "      <td>2.000000</td>\n",
       "      <td>107.500000</td>\n",
       "      <td>...</td>\n",
       "      <td>30.000000</td>\n",
       "      <td>10.000000</td>\n",
       "      <td>0.000000</td>\n",
       "      <td>0.000000</td>\n",
       "      <td>5.750000</td>\n",
       "      <td>4.000000</td>\n",
       "      <td>2.000000</td>\n",
       "      <td>0.000000</td>\n",
       "      <td>6.000000</td>\n",
       "      <td>0.000000</td>\n",
       "    </tr>\n",
       "    <tr>\n",
       "      <th>50%</th>\n",
       "      <td>340.000000</td>\n",
       "      <td>100.000000</td>\n",
       "      <td>11.000000</td>\n",
       "      <td>17.000000</td>\n",
       "      <td>5.000000</td>\n",
       "      <td>24.000000</td>\n",
       "      <td>0.000000</td>\n",
       "      <td>35.000000</td>\n",
       "      <td>11.000000</td>\n",
       "      <td>190.000000</td>\n",
       "      <td>...</td>\n",
       "      <td>44.000000</td>\n",
       "      <td>15.000000</td>\n",
       "      <td>1.000000</td>\n",
       "      <td>5.000000</td>\n",
       "      <td>17.500000</td>\n",
       "      <td>12.000000</td>\n",
       "      <td>8.000000</td>\n",
       "      <td>0.000000</td>\n",
       "      <td>20.000000</td>\n",
       "      <td>4.000000</td>\n",
       "    </tr>\n",
       "    <tr>\n",
       "      <th>75%</th>\n",
       "      <td>500.000000</td>\n",
       "      <td>200.000000</td>\n",
       "      <td>22.250000</td>\n",
       "      <td>35.000000</td>\n",
       "      <td>10.000000</td>\n",
       "      <td>48.000000</td>\n",
       "      <td>0.000000</td>\n",
       "      <td>65.000000</td>\n",
       "      <td>21.250000</td>\n",
       "      <td>865.000000</td>\n",
       "      <td>...</td>\n",
       "      <td>60.000000</td>\n",
       "      <td>20.000000</td>\n",
       "      <td>3.000000</td>\n",
       "      <td>10.000000</td>\n",
       "      <td>48.000000</td>\n",
       "      <td>19.000000</td>\n",
       "      <td>15.000000</td>\n",
       "      <td>4.000000</td>\n",
       "      <td>30.000000</td>\n",
       "      <td>15.000000</td>\n",
       "    </tr>\n",
       "    <tr>\n",
       "      <th>max</th>\n",
       "      <td>1880.000000</td>\n",
       "      <td>1060.000000</td>\n",
       "      <td>118.000000</td>\n",
       "      <td>182.000000</td>\n",
       "      <td>20.000000</td>\n",
       "      <td>102.000000</td>\n",
       "      <td>2.500000</td>\n",
       "      <td>575.000000</td>\n",
       "      <td>192.000000</td>\n",
       "      <td>3600.000000</td>\n",
       "      <td>...</td>\n",
       "      <td>141.000000</td>\n",
       "      <td>47.000000</td>\n",
       "      <td>7.000000</td>\n",
       "      <td>28.000000</td>\n",
       "      <td>128.000000</td>\n",
       "      <td>87.000000</td>\n",
       "      <td>170.000000</td>\n",
       "      <td>240.000000</td>\n",
       "      <td>70.000000</td>\n",
       "      <td>40.000000</td>\n",
       "    </tr>\n",
       "  </tbody>\n",
       "</table>\n",
       "<p>8 rows × 21 columns</p>\n",
       "</div>"
      ],
      "text/plain": [
       "          Calories  Calories from Fat   Total Fat  Total Fat (% Daily Value)  \\\n",
       "count   260.000000         260.000000  260.000000                 260.000000   \n",
       "mean    368.269231         127.096154   14.165385                  21.815385   \n",
       "std     240.269886         127.875914   14.205998                  21.885199   \n",
       "min       0.000000           0.000000    0.000000                   0.000000   \n",
       "25%     210.000000          20.000000    2.375000                   3.750000   \n",
       "50%     340.000000         100.000000   11.000000                  17.000000   \n",
       "75%     500.000000         200.000000   22.250000                  35.000000   \n",
       "max    1880.000000        1060.000000  118.000000                 182.000000   \n",
       "\n",
       "       Saturated Fat  Saturated Fat (% Daily Value)   Trans Fat  Cholesterol  \\\n",
       "count     260.000000                     260.000000  260.000000   260.000000   \n",
       "mean        6.007692                      29.965385    0.203846    54.942308   \n",
       "std         5.321873                      26.639209    0.429133    87.269257   \n",
       "min         0.000000                       0.000000    0.000000     0.000000   \n",
       "25%         1.000000                       4.750000    0.000000     5.000000   \n",
       "50%         5.000000                      24.000000    0.000000    35.000000   \n",
       "75%        10.000000                      48.000000    0.000000    65.000000   \n",
       "max        20.000000                     102.000000    2.500000   575.000000   \n",
       "\n",
       "       Cholesterol (% Daily Value)       Sodium  ...  Carbohydrates  \\\n",
       "count                   260.000000   260.000000  ...     260.000000   \n",
       "mean                     18.392308   495.750000  ...      47.346154   \n",
       "std                      29.091653   577.026323  ...      28.252232   \n",
       "min                       0.000000     0.000000  ...       0.000000   \n",
       "25%                       2.000000   107.500000  ...      30.000000   \n",
       "50%                      11.000000   190.000000  ...      44.000000   \n",
       "75%                      21.250000   865.000000  ...      60.000000   \n",
       "max                     192.000000  3600.000000  ...     141.000000   \n",
       "\n",
       "       Carbohydrates (% Daily Value)  Dietary Fiber  \\\n",
       "count                     260.000000     260.000000   \n",
       "mean                       15.780769       1.630769   \n",
       "std                         9.419544       1.567717   \n",
       "min                         0.000000       0.000000   \n",
       "25%                        10.000000       0.000000   \n",
       "50%                        15.000000       1.000000   \n",
       "75%                        20.000000       3.000000   \n",
       "max                        47.000000       7.000000   \n",
       "\n",
       "       Dietary Fiber (% Daily Value)      Sugars     Protein  \\\n",
       "count                     260.000000  260.000000  260.000000   \n",
       "mean                        6.530769   29.423077   13.338462   \n",
       "std                         6.307057   28.679797   11.426146   \n",
       "min                         0.000000    0.000000    0.000000   \n",
       "25%                         0.000000    5.750000    4.000000   \n",
       "50%                         5.000000   17.500000   12.000000   \n",
       "75%                        10.000000   48.000000   19.000000   \n",
       "max                        28.000000  128.000000   87.000000   \n",
       "\n",
       "       Vitamin A (% Daily Value)  Vitamin C (% Daily Value)  \\\n",
       "count                 260.000000                 260.000000   \n",
       "mean                   13.426923                   8.534615   \n",
       "std                    24.366381                  26.345542   \n",
       "min                     0.000000                   0.000000   \n",
       "25%                     2.000000                   0.000000   \n",
       "50%                     8.000000                   0.000000   \n",
       "75%                    15.000000                   4.000000   \n",
       "max                   170.000000                 240.000000   \n",
       "\n",
       "       Calcium (% Daily Value)  Iron (% Daily Value)  \n",
       "count               260.000000            260.000000  \n",
       "mean                 20.973077              7.734615  \n",
       "std                  17.019953              8.723263  \n",
       "min                   0.000000              0.000000  \n",
       "25%                   6.000000              0.000000  \n",
       "50%                  20.000000              4.000000  \n",
       "75%                  30.000000             15.000000  \n",
       "max                  70.000000             40.000000  \n",
       "\n",
       "[8 rows x 21 columns]"
      ]
     },
     "execution_count": 6,
     "metadata": {},
     "output_type": "execute_result"
    }
   ],
   "source": [
    "data.describe()"
   ]
  },
  {
   "cell_type": "code",
   "execution_count": null,
   "metadata": {},
   "outputs": [],
   "source": []
  },
  {
   "cell_type": "markdown",
   "metadata": {},
   "source": [
    "# Analysis"
   ]
  },
  {
   "cell_type": "code",
   "execution_count": 7,
   "metadata": {},
   "outputs": [
    {
     "data": {
      "text/plain": [
       "array(['Breakfast', 'Beef & Pork', 'Chicken & Fish', 'Salads',\n",
       "       'Snacks & Sides', 'Desserts', 'Beverages', 'Coffee & Tea',\n",
       "       'Smoothies & Shakes'], dtype=object)"
      ]
     },
     "execution_count": 7,
     "metadata": {},
     "output_type": "execute_result"
    }
   ],
   "source": [
    "data['Category'].unique()"
   ]
  },
  {
   "cell_type": "code",
   "execution_count": 8,
   "metadata": {},
   "outputs": [
    {
     "data": {
      "text/plain": [
       "260"
      ]
     },
     "execution_count": 8,
     "metadata": {},
     "output_type": "execute_result"
    }
   ],
   "source": [
    "data['Item'].nunique()"
   ]
  },
  {
   "cell_type": "code",
   "execution_count": 9,
   "metadata": {},
   "outputs": [
    {
     "data": {
      "text/html": [
       "<div>\n",
       "<style scoped>\n",
       "    .dataframe tbody tr th:only-of-type {\n",
       "        vertical-align: middle;\n",
       "    }\n",
       "\n",
       "    .dataframe tbody tr th {\n",
       "        vertical-align: top;\n",
       "    }\n",
       "\n",
       "    .dataframe thead th {\n",
       "        text-align: right;\n",
       "    }\n",
       "</style>\n",
       "<table border=\"1\" class=\"dataframe\">\n",
       "  <thead>\n",
       "    <tr style=\"text-align: right;\">\n",
       "      <th></th>\n",
       "      <th>Category</th>\n",
       "      <th>Item</th>\n",
       "      <th>Serving Size</th>\n",
       "      <th>Calories</th>\n",
       "    </tr>\n",
       "  </thead>\n",
       "  <tbody>\n",
       "    <tr>\n",
       "      <th>82</th>\n",
       "      <td>Chicken &amp; Fish</td>\n",
       "      <td>Chicken McNuggets (40 piece)</td>\n",
       "      <td>22.8 oz (646 g)</td>\n",
       "      <td>1880</td>\n",
       "    </tr>\n",
       "    <tr>\n",
       "      <th>32</th>\n",
       "      <td>Breakfast</td>\n",
       "      <td>Big Breakfast with Hotcakes (Large Biscuit)</td>\n",
       "      <td>15.3 oz (434 g)</td>\n",
       "      <td>1150</td>\n",
       "    </tr>\n",
       "    <tr>\n",
       "      <th>31</th>\n",
       "      <td>Breakfast</td>\n",
       "      <td>Big Breakfast with Hotcakes (Regular Biscuit)</td>\n",
       "      <td>14.8 oz (420 g)</td>\n",
       "      <td>1090</td>\n",
       "    </tr>\n",
       "    <tr>\n",
       "      <th>34</th>\n",
       "      <td>Breakfast</td>\n",
       "      <td>Big Breakfast with Hotcakes and Egg Whites (La...</td>\n",
       "      <td>15.4 oz (437 g)</td>\n",
       "      <td>1050</td>\n",
       "    </tr>\n",
       "    <tr>\n",
       "      <th>33</th>\n",
       "      <td>Breakfast</td>\n",
       "      <td>Big Breakfast with Hotcakes and Egg Whites (Re...</td>\n",
       "      <td>14.9 oz (423 g)</td>\n",
       "      <td>990</td>\n",
       "    </tr>\n",
       "  </tbody>\n",
       "</table>\n",
       "</div>"
      ],
      "text/plain": [
       "          Category                                               Item  \\\n",
       "82  Chicken & Fish                       Chicken McNuggets (40 piece)   \n",
       "32       Breakfast        Big Breakfast with Hotcakes (Large Biscuit)   \n",
       "31       Breakfast      Big Breakfast with Hotcakes (Regular Biscuit)   \n",
       "34       Breakfast  Big Breakfast with Hotcakes and Egg Whites (La...   \n",
       "33       Breakfast  Big Breakfast with Hotcakes and Egg Whites (Re...   \n",
       "\n",
       "       Serving Size  Calories  \n",
       "82  22.8 oz (646 g)      1880  \n",
       "32  15.3 oz (434 g)      1150  \n",
       "31  14.8 oz (420 g)      1090  \n",
       "34  15.4 oz (437 g)      1050  \n",
       "33  14.9 oz (423 g)       990  "
      ]
     },
     "execution_count": 9,
     "metadata": {},
     "output_type": "execute_result"
    }
   ],
   "source": [
    "#5 most calories food\n",
    "max_cal = data.iloc[:,:4]\n",
    "max_cal.sort_values('Calories', ascending=False).head()"
   ]
  },
  {
   "cell_type": "code",
   "execution_count": 10,
   "metadata": {},
   "outputs": [
    {
     "data": {
      "text/html": [
       "<div>\n",
       "<style scoped>\n",
       "    .dataframe tbody tr th:only-of-type {\n",
       "        vertical-align: middle;\n",
       "    }\n",
       "\n",
       "    .dataframe tbody tr th {\n",
       "        vertical-align: top;\n",
       "    }\n",
       "\n",
       "    .dataframe thead th {\n",
       "        text-align: right;\n",
       "    }\n",
       "</style>\n",
       "<table border=\"1\" class=\"dataframe\">\n",
       "  <thead>\n",
       "    <tr style=\"text-align: right;\">\n",
       "      <th></th>\n",
       "      <th>Category</th>\n",
       "      <th>Item</th>\n",
       "      <th>Serving Size</th>\n",
       "      <th>Calories</th>\n",
       "    </tr>\n",
       "  </thead>\n",
       "  <tbody>\n",
       "    <tr>\n",
       "      <th>125</th>\n",
       "      <td>Beverages</td>\n",
       "      <td>Diet Dr Pepper (Child)</td>\n",
       "      <td>12 fl oz cup</td>\n",
       "      <td>0</td>\n",
       "    </tr>\n",
       "    <tr>\n",
       "      <th>138</th>\n",
       "      <td>Coffee &amp; Tea</td>\n",
       "      <td>Iced Tea (Medium)</td>\n",
       "      <td>21 fl oz cup</td>\n",
       "      <td>0</td>\n",
       "    </tr>\n",
       "    <tr>\n",
       "      <th>137</th>\n",
       "      <td>Coffee &amp; Tea</td>\n",
       "      <td>Iced Tea (Small)</td>\n",
       "      <td>16 fl oz cup</td>\n",
       "      <td>0</td>\n",
       "    </tr>\n",
       "    <tr>\n",
       "      <th>136</th>\n",
       "      <td>Beverages</td>\n",
       "      <td>Dasani Water Bottle</td>\n",
       "      <td>16.9 fl oz</td>\n",
       "      <td>0</td>\n",
       "    </tr>\n",
       "    <tr>\n",
       "      <th>145</th>\n",
       "      <td>Coffee &amp; Tea</td>\n",
       "      <td>Coffee (Small)</td>\n",
       "      <td>12 fl oz cup</td>\n",
       "      <td>0</td>\n",
       "    </tr>\n",
       "  </tbody>\n",
       "</table>\n",
       "</div>"
      ],
      "text/plain": [
       "         Category                    Item  Serving Size  Calories\n",
       "125     Beverages  Diet Dr Pepper (Child)  12 fl oz cup         0\n",
       "138  Coffee & Tea       Iced Tea (Medium)  21 fl oz cup         0\n",
       "137  Coffee & Tea        Iced Tea (Small)  16 fl oz cup         0\n",
       "136     Beverages     Dasani Water Bottle    16.9 fl oz         0\n",
       "145  Coffee & Tea          Coffee (Small)  12 fl oz cup         0"
      ]
     },
     "execution_count": 10,
     "metadata": {},
     "output_type": "execute_result"
    }
   ],
   "source": [
    "#5 lowest calories food\n",
    "max_cal = data.iloc[:,:4]\n",
    "max_cal.sort_values('Calories', ascending=True).head()"
   ]
  },
  {
   "cell_type": "code",
   "execution_count": null,
   "metadata": {},
   "outputs": [],
   "source": []
  },
  {
   "cell_type": "markdown",
   "metadata": {},
   "source": [
    "### Analyzing Only Breakfast"
   ]
  },
  {
   "cell_type": "code",
   "execution_count": 11,
   "metadata": {},
   "outputs": [
    {
     "data": {
      "text/html": [
       "<div>\n",
       "<style scoped>\n",
       "    .dataframe tbody tr th:only-of-type {\n",
       "        vertical-align: middle;\n",
       "    }\n",
       "\n",
       "    .dataframe tbody tr th {\n",
       "        vertical-align: top;\n",
       "    }\n",
       "\n",
       "    .dataframe thead th {\n",
       "        text-align: right;\n",
       "    }\n",
       "</style>\n",
       "<table border=\"1\" class=\"dataframe\">\n",
       "  <thead>\n",
       "    <tr style=\"text-align: right;\">\n",
       "      <th></th>\n",
       "      <th>Category</th>\n",
       "      <th>Item</th>\n",
       "      <th>Serving Size</th>\n",
       "      <th>Calories</th>\n",
       "      <th>Calories from Fat</th>\n",
       "      <th>Total Fat</th>\n",
       "      <th>Total Fat (% Daily Value)</th>\n",
       "      <th>Saturated Fat</th>\n",
       "      <th>Saturated Fat (% Daily Value)</th>\n",
       "      <th>Trans Fat</th>\n",
       "      <th>...</th>\n",
       "      <th>Carbohydrates</th>\n",
       "      <th>Carbohydrates (% Daily Value)</th>\n",
       "      <th>Dietary Fiber</th>\n",
       "      <th>Dietary Fiber (% Daily Value)</th>\n",
       "      <th>Sugars</th>\n",
       "      <th>Protein</th>\n",
       "      <th>Vitamin A (% Daily Value)</th>\n",
       "      <th>Vitamin C (% Daily Value)</th>\n",
       "      <th>Calcium (% Daily Value)</th>\n",
       "      <th>Iron (% Daily Value)</th>\n",
       "    </tr>\n",
       "  </thead>\n",
       "  <tbody>\n",
       "    <tr>\n",
       "      <th>0</th>\n",
       "      <td>Breakfast</td>\n",
       "      <td>Egg McMuffin</td>\n",
       "      <td>4.8 oz (136 g)</td>\n",
       "      <td>300</td>\n",
       "      <td>120</td>\n",
       "      <td>13.0</td>\n",
       "      <td>20</td>\n",
       "      <td>5.0</td>\n",
       "      <td>25</td>\n",
       "      <td>0.0</td>\n",
       "      <td>...</td>\n",
       "      <td>31</td>\n",
       "      <td>10</td>\n",
       "      <td>4</td>\n",
       "      <td>17</td>\n",
       "      <td>3</td>\n",
       "      <td>17</td>\n",
       "      <td>10</td>\n",
       "      <td>0</td>\n",
       "      <td>25</td>\n",
       "      <td>15</td>\n",
       "    </tr>\n",
       "    <tr>\n",
       "      <th>1</th>\n",
       "      <td>Breakfast</td>\n",
       "      <td>Egg White Delight</td>\n",
       "      <td>4.8 oz (135 g)</td>\n",
       "      <td>250</td>\n",
       "      <td>70</td>\n",
       "      <td>8.0</td>\n",
       "      <td>12</td>\n",
       "      <td>3.0</td>\n",
       "      <td>15</td>\n",
       "      <td>0.0</td>\n",
       "      <td>...</td>\n",
       "      <td>30</td>\n",
       "      <td>10</td>\n",
       "      <td>4</td>\n",
       "      <td>17</td>\n",
       "      <td>3</td>\n",
       "      <td>18</td>\n",
       "      <td>6</td>\n",
       "      <td>0</td>\n",
       "      <td>25</td>\n",
       "      <td>8</td>\n",
       "    </tr>\n",
       "    <tr>\n",
       "      <th>2</th>\n",
       "      <td>Breakfast</td>\n",
       "      <td>Sausage McMuffin</td>\n",
       "      <td>3.9 oz (111 g)</td>\n",
       "      <td>370</td>\n",
       "      <td>200</td>\n",
       "      <td>23.0</td>\n",
       "      <td>35</td>\n",
       "      <td>8.0</td>\n",
       "      <td>42</td>\n",
       "      <td>0.0</td>\n",
       "      <td>...</td>\n",
       "      <td>29</td>\n",
       "      <td>10</td>\n",
       "      <td>4</td>\n",
       "      <td>17</td>\n",
       "      <td>2</td>\n",
       "      <td>14</td>\n",
       "      <td>8</td>\n",
       "      <td>0</td>\n",
       "      <td>25</td>\n",
       "      <td>10</td>\n",
       "    </tr>\n",
       "    <tr>\n",
       "      <th>3</th>\n",
       "      <td>Breakfast</td>\n",
       "      <td>Sausage McMuffin with Egg</td>\n",
       "      <td>5.7 oz (161 g)</td>\n",
       "      <td>450</td>\n",
       "      <td>250</td>\n",
       "      <td>28.0</td>\n",
       "      <td>43</td>\n",
       "      <td>10.0</td>\n",
       "      <td>52</td>\n",
       "      <td>0.0</td>\n",
       "      <td>...</td>\n",
       "      <td>30</td>\n",
       "      <td>10</td>\n",
       "      <td>4</td>\n",
       "      <td>17</td>\n",
       "      <td>2</td>\n",
       "      <td>21</td>\n",
       "      <td>15</td>\n",
       "      <td>0</td>\n",
       "      <td>30</td>\n",
       "      <td>15</td>\n",
       "    </tr>\n",
       "    <tr>\n",
       "      <th>4</th>\n",
       "      <td>Breakfast</td>\n",
       "      <td>Sausage McMuffin with Egg Whites</td>\n",
       "      <td>5.7 oz (161 g)</td>\n",
       "      <td>400</td>\n",
       "      <td>210</td>\n",
       "      <td>23.0</td>\n",
       "      <td>35</td>\n",
       "      <td>8.0</td>\n",
       "      <td>42</td>\n",
       "      <td>0.0</td>\n",
       "      <td>...</td>\n",
       "      <td>30</td>\n",
       "      <td>10</td>\n",
       "      <td>4</td>\n",
       "      <td>17</td>\n",
       "      <td>2</td>\n",
       "      <td>21</td>\n",
       "      <td>6</td>\n",
       "      <td>0</td>\n",
       "      <td>25</td>\n",
       "      <td>10</td>\n",
       "    </tr>\n",
       "  </tbody>\n",
       "</table>\n",
       "<p>5 rows × 24 columns</p>\n",
       "</div>"
      ],
      "text/plain": [
       "    Category                              Item    Serving Size  Calories  \\\n",
       "0  Breakfast                      Egg McMuffin  4.8 oz (136 g)       300   \n",
       "1  Breakfast                 Egg White Delight  4.8 oz (135 g)       250   \n",
       "2  Breakfast                  Sausage McMuffin  3.9 oz (111 g)       370   \n",
       "3  Breakfast         Sausage McMuffin with Egg  5.7 oz (161 g)       450   \n",
       "4  Breakfast  Sausage McMuffin with Egg Whites  5.7 oz (161 g)       400   \n",
       "\n",
       "   Calories from Fat  Total Fat  Total Fat (% Daily Value)  Saturated Fat  \\\n",
       "0                120       13.0                         20            5.0   \n",
       "1                 70        8.0                         12            3.0   \n",
       "2                200       23.0                         35            8.0   \n",
       "3                250       28.0                         43           10.0   \n",
       "4                210       23.0                         35            8.0   \n",
       "\n",
       "   Saturated Fat (% Daily Value)  Trans Fat  ...  Carbohydrates  \\\n",
       "0                             25        0.0  ...             31   \n",
       "1                             15        0.0  ...             30   \n",
       "2                             42        0.0  ...             29   \n",
       "3                             52        0.0  ...             30   \n",
       "4                             42        0.0  ...             30   \n",
       "\n",
       "   Carbohydrates (% Daily Value)  Dietary Fiber  \\\n",
       "0                             10              4   \n",
       "1                             10              4   \n",
       "2                             10              4   \n",
       "3                             10              4   \n",
       "4                             10              4   \n",
       "\n",
       "   Dietary Fiber (% Daily Value)  Sugars  Protein  Vitamin A (% Daily Value)  \\\n",
       "0                             17       3       17                         10   \n",
       "1                             17       3       18                          6   \n",
       "2                             17       2       14                          8   \n",
       "3                             17       2       21                         15   \n",
       "4                             17       2       21                          6   \n",
       "\n",
       "   Vitamin C (% Daily Value)  Calcium (% Daily Value)  Iron (% Daily Value)  \n",
       "0                          0                       25                    15  \n",
       "1                          0                       25                     8  \n",
       "2                          0                       25                    10  \n",
       "3                          0                       30                    15  \n",
       "4                          0                       25                    10  \n",
       "\n",
       "[5 rows x 24 columns]"
      ]
     },
     "execution_count": 11,
     "metadata": {},
     "output_type": "execute_result"
    }
   ],
   "source": [
    "#finding only breakfast item\n",
    "breakfast = data[data['Category']=='Breakfast']\n",
    "breakfast.head()"
   ]
  },
  {
   "cell_type": "code",
   "execution_count": 12,
   "metadata": {},
   "outputs": [
    {
     "data": {
      "text/html": [
       "<div>\n",
       "<style scoped>\n",
       "    .dataframe tbody tr th:only-of-type {\n",
       "        vertical-align: middle;\n",
       "    }\n",
       "\n",
       "    .dataframe tbody tr th {\n",
       "        vertical-align: top;\n",
       "    }\n",
       "\n",
       "    .dataframe thead th {\n",
       "        text-align: right;\n",
       "    }\n",
       "</style>\n",
       "<table border=\"1\" class=\"dataframe\">\n",
       "  <thead>\n",
       "    <tr style=\"text-align: right;\">\n",
       "      <th></th>\n",
       "      <th>Category</th>\n",
       "      <th>Item</th>\n",
       "      <th>Serving Size</th>\n",
       "      <th>Calories</th>\n",
       "    </tr>\n",
       "  </thead>\n",
       "  <tbody>\n",
       "    <tr>\n",
       "      <th>32</th>\n",
       "      <td>Breakfast</td>\n",
       "      <td>Big Breakfast with Hotcakes (Large Biscuit)</td>\n",
       "      <td>15.3 oz (434 g)</td>\n",
       "      <td>1150</td>\n",
       "    </tr>\n",
       "    <tr>\n",
       "      <th>31</th>\n",
       "      <td>Breakfast</td>\n",
       "      <td>Big Breakfast with Hotcakes (Regular Biscuit)</td>\n",
       "      <td>14.8 oz (420 g)</td>\n",
       "      <td>1090</td>\n",
       "    </tr>\n",
       "    <tr>\n",
       "      <th>34</th>\n",
       "      <td>Breakfast</td>\n",
       "      <td>Big Breakfast with Hotcakes and Egg Whites (La...</td>\n",
       "      <td>15.4 oz (437 g)</td>\n",
       "      <td>1050</td>\n",
       "    </tr>\n",
       "    <tr>\n",
       "      <th>33</th>\n",
       "      <td>Breakfast</td>\n",
       "      <td>Big Breakfast with Hotcakes and Egg Whites (Re...</td>\n",
       "      <td>14.9 oz (423 g)</td>\n",
       "      <td>990</td>\n",
       "    </tr>\n",
       "    <tr>\n",
       "      <th>28</th>\n",
       "      <td>Breakfast</td>\n",
       "      <td>Big Breakfast (Large Biscuit)</td>\n",
       "      <td>10 oz (283 g)</td>\n",
       "      <td>800</td>\n",
       "    </tr>\n",
       "  </tbody>\n",
       "</table>\n",
       "</div>"
      ],
      "text/plain": [
       "     Category                                               Item  \\\n",
       "32  Breakfast        Big Breakfast with Hotcakes (Large Biscuit)   \n",
       "31  Breakfast      Big Breakfast with Hotcakes (Regular Biscuit)   \n",
       "34  Breakfast  Big Breakfast with Hotcakes and Egg Whites (La...   \n",
       "33  Breakfast  Big Breakfast with Hotcakes and Egg Whites (Re...   \n",
       "28  Breakfast                      Big Breakfast (Large Biscuit)   \n",
       "\n",
       "       Serving Size  Calories  \n",
       "32  15.3 oz (434 g)      1150  \n",
       "31  14.8 oz (420 g)      1090  \n",
       "34  15.4 oz (437 g)      1050  \n",
       "33  14.9 oz (423 g)       990  \n",
       "28    10 oz (283 g)       800  "
      ]
     },
     "execution_count": 12,
     "metadata": {},
     "output_type": "execute_result"
    }
   ],
   "source": [
    "#5 maximum Calories food of breakfast\n",
    "bf = breakfast.iloc[:,:4]\n",
    "#bf[bf['Calories'].sort_values(ascending=False)]\n",
    "bf.sort_values('Calories',ascending=False).head()"
   ]
  },
  {
   "cell_type": "code",
   "execution_count": 13,
   "metadata": {},
   "outputs": [
    {
     "data": {
      "text/html": [
       "<div>\n",
       "<style scoped>\n",
       "    .dataframe tbody tr th:only-of-type {\n",
       "        vertical-align: middle;\n",
       "    }\n",
       "\n",
       "    .dataframe tbody tr th {\n",
       "        vertical-align: top;\n",
       "    }\n",
       "\n",
       "    .dataframe thead th {\n",
       "        text-align: right;\n",
       "    }\n",
       "</style>\n",
       "<table border=\"1\" class=\"dataframe\">\n",
       "  <thead>\n",
       "    <tr style=\"text-align: right;\">\n",
       "      <th></th>\n",
       "      <th>Category</th>\n",
       "      <th>Item</th>\n",
       "      <th>Serving Size</th>\n",
       "      <th>Calories</th>\n",
       "    </tr>\n",
       "  </thead>\n",
       "  <tbody>\n",
       "    <tr>\n",
       "      <th>38</th>\n",
       "      <td>Breakfast</td>\n",
       "      <td>Hash Brown</td>\n",
       "      <td>2 oz (56 g)</td>\n",
       "      <td>150</td>\n",
       "    </tr>\n",
       "    <tr>\n",
       "      <th>1</th>\n",
       "      <td>Breakfast</td>\n",
       "      <td>Egg White Delight</td>\n",
       "      <td>4.8 oz (135 g)</td>\n",
       "      <td>250</td>\n",
       "    </tr>\n",
       "    <tr>\n",
       "      <th>41</th>\n",
       "      <td>Breakfast</td>\n",
       "      <td>Fruit &amp; Maple Oatmeal without Brown Sugar</td>\n",
       "      <td>9.6 oz (251 g)</td>\n",
       "      <td>260</td>\n",
       "    </tr>\n",
       "    <tr>\n",
       "      <th>40</th>\n",
       "      <td>Breakfast</td>\n",
       "      <td>Fruit &amp; Maple Oatmeal</td>\n",
       "      <td>9.6 oz (251 g)</td>\n",
       "      <td>290</td>\n",
       "    </tr>\n",
       "    <tr>\n",
       "      <th>37</th>\n",
       "      <td>Breakfast</td>\n",
       "      <td>Sausage Burrito</td>\n",
       "      <td>3.9 oz (111 g)</td>\n",
       "      <td>300</td>\n",
       "    </tr>\n",
       "  </tbody>\n",
       "</table>\n",
       "</div>"
      ],
      "text/plain": [
       "     Category                                       Item    Serving Size  \\\n",
       "38  Breakfast                                 Hash Brown     2 oz (56 g)   \n",
       "1   Breakfast                          Egg White Delight  4.8 oz (135 g)   \n",
       "41  Breakfast  Fruit & Maple Oatmeal without Brown Sugar  9.6 oz (251 g)   \n",
       "40  Breakfast                      Fruit & Maple Oatmeal  9.6 oz (251 g)   \n",
       "37  Breakfast                            Sausage Burrito  3.9 oz (111 g)   \n",
       "\n",
       "    Calories  \n",
       "38       150  \n",
       "1        250  \n",
       "41       260  \n",
       "40       290  \n",
       "37       300  "
      ]
     },
     "execution_count": 13,
     "metadata": {},
     "output_type": "execute_result"
    }
   ],
   "source": [
    "#minimum calories food\n",
    "bf.sort_values('Calories', ascending=True).head()"
   ]
  },
  {
   "cell_type": "code",
   "execution_count": null,
   "metadata": {},
   "outputs": [],
   "source": []
  },
  {
   "cell_type": "markdown",
   "metadata": {},
   "source": [
    "### Contour plots\n",
    "\n",
    "To generate a Contour plot, it is a very simple Seaborn invocation of \"kdeplot( )\" as follows :"
   ]
  },
  {
   "cell_type": "code",
   "execution_count": 14,
   "metadata": {},
   "outputs": [
    {
     "data": {
      "image/png": "[encoded data removed]",
      "text/plain": [
       "<Figure size 720x720 with 9 Axes>"
      ]
     },
     "metadata": {
      "needs_background": "light"
     },
     "output_type": "display_data"
    }
   ],
   "source": [
    "# Plotting the KDEplots\n",
    "f, axes = plt.subplots(3, 3, figsize=(10, 10), sharex=True, sharey=True)\n",
    "\n",
    "s = np.linspace(0, 3, 10)\n",
    "cmap = sns.cubehelix_palette(start=0.0, light=1, as_cmap=True)\n",
    "\n",
    "# Generate and plot a random bivariate dataset\n",
    "x = data['Cholesterol (% Daily Value)'].values\n",
    "y = data['Sodium (% Daily Value)'].values\n",
    "sns.kdeplot(x, y, cmap=cmap, shade=True, cut=5, ax=axes[0,0])\n",
    "axes[0,0].set(xlim=(-10, 50), ylim=(-30, 70), title = 'Cholesterol and Sodium')\n",
    "\n",
    "\n",
    "cmap = sns.cubehelix_palette(start=0.333333333333, light=1, as_cmap=True)\n",
    "\n",
    "# Generate and plot a random bivariate dataset\n",
    "x = data['Carbohydrates (% Daily Value)'].values\n",
    "y = data['Sodium (% Daily Value)'].values\n",
    "sns.kdeplot(x, y, cmap=cmap, shade=True, ax=axes[0,1])\n",
    "axes[0,1].set(xlim=(-5, 50), ylim=(-10, 70),  title = 'Carbs and Sodium')\n",
    "\n",
    "\n",
    "cmap = sns.cubehelix_palette(start=0.666666666667, light=1, as_cmap=True)\n",
    "\n",
    "# Generate and plot a random bivariate dataset\n",
    "x = data['Carbohydrates (% Daily Value)'].values\n",
    "y = data['Cholesterol (% Daily Value)'].values\n",
    "sns.kdeplot(x, y, cmap=cmap, shade=True, ax=axes[0,2])\n",
    "axes[0,2].set(xlim=(-5, 50), ylim=(-10, 70),  title = 'Carbs and Cholesterol')\n",
    "\n",
    "cmap = sns.cubehelix_palette(start=1.0, light=1, as_cmap=True)\n",
    "\n",
    "# Generate and plot a random bivariate dataset\n",
    "x = data['Total Fat (% Daily Value)'].values\n",
    "y = data['Saturated Fat (% Daily Value)'].values\n",
    "sns.kdeplot(x, y, cmap=cmap, shade=True, ax=axes[1,0])\n",
    "axes[1,0].set(xlim=(-5, 50), ylim=(-10, 70),  title = 'Total Fat and Saturated Fat')\n",
    "\n",
    "\n",
    "cmap = sns.cubehelix_palette(start=1.333333333333, light=1, as_cmap=True)\n",
    "\n",
    "# Generate and plot a random bivariate dataset\n",
    "x = data['Total Fat (% Daily Value)'].values\n",
    "y = data['Cholesterol (% Daily Value)'].values\n",
    "sns.kdeplot(x, y, cmap=cmap, shade=True, ax=axes[1,1])\n",
    "axes[1,1].set(xlim=(-5, 50), ylim=(-10, 70),  title = 'Cholesterol and Total Fat')\n",
    "\n",
    "cmap = sns.cubehelix_palette(start=1.666666666667, light=1, as_cmap=True)\n",
    "\n",
    "# Generate and plot a random bivariate dataset\n",
    "x = data['Vitamin A (% Daily Value)'].values\n",
    "y = data['Cholesterol (% Daily Value)'].values\n",
    "sns.kdeplot(x, y, cmap=cmap, shade=True, ax=axes[1,2])\n",
    "axes[1,2].set(xlim=(-5, 50), ylim=(-10, 70),  title = 'Vitamin A and Cholesterol')\n",
    "\n",
    "cmap = sns.cubehelix_palette(start=2.0, light=1, as_cmap=True)\n",
    "\n",
    "# Generate and plot a random bivariate dataset\n",
    "x = data['Calcium (% Daily Value)'].values\n",
    "y = data['Sodium (% Daily Value)'].values\n",
    "sns.kdeplot(x, y, cmap=cmap, shade=True, ax=axes[2,0])\n",
    "axes[2,0].set(xlim=(-5, 50), ylim=(-10, 70),  title = 'Calcium and Sodium')\n",
    "\n",
    "\n",
    "cmap = sns.cubehelix_palette(start=2.333333333333, light=1, as_cmap=True)\n",
    "\n",
    "# Generate and plot a random bivariate dataset\n",
    "x = data['Calcium (% Daily Value)'].values\n",
    "y = data['Cholesterol (% Daily Value)'].values\n",
    "sns.kdeplot(x, y, cmap=cmap, shade=True, ax=axes[2,1])\n",
    "axes[2,1].set(xlim=(-5, 50), ylim=(-10, 70),  title = 'Cholesterol and Calcium')\n",
    "\n",
    "cmap = sns.cubehelix_palette(start=2.666666666667, light=1, as_cmap=True)\n",
    "\n",
    "# Generate and plot a random bivariate dataset\n",
    "x = data['Iron (% Daily Value)'].values\n",
    "y = data['Total Fat (% Daily Value)'].values\n",
    "sns.kdeplot(x, y, cmap=cmap, shade=True, ax=axes[2,2])\n",
    "axes[2,2].set(xlim=(-5, 50), ylim=(-10, 70),  title = 'Iron and Total Fat')\n",
    "\n",
    "\n",
    "f.tight_layout()\n",
    "\n"
   ]
  },
  {
   "cell_type": "code",
   "execution_count": null,
   "metadata": {},
   "outputs": [],
   "source": []
  },
  {
   "cell_type": "markdown",
   "metadata": {},
   "source": [
    "### Pearson Correlation plots\n",
    "\n",
    "Let us now plot the Pearson Correlation ( check how strongly related ) a feature is to the other. This time, I shall invoke the interactive plotting capabilities of the Plotly package by plotting a Heatmap of the correlation between features as follows :\n"
   ]
  },
  {
   "cell_type": "code",
   "execution_count": 16,
   "metadata": {},
   "outputs": [
    {
     "data": {
      "application/vnd.plotly.v1+json": {
       "config": {
        "linkText": "Export to plot.ly",
        "plotlyServerURL": "https://plot.ly",
        "showLink": false
       },
       "data": [
        {
         "colorscale": [
          [
           0,
           "#440154"
          ],
          [
           0.1111111111111111,
           "#482878"
          ],
          [
           0.2222222222222222,
           "#3e4989"
          ],
          [
           0.3333333333333333,
           "#31688e"
          ],
          [
           0.4444444444444444,
           "#26828e"
          ],
          [
           0.5555555555555556,
           "#1f9e89"
          ],
          [
           0.6666666666666666,
           "#35b779"
          ],
          [
           0.7777777777777778,
           "#6ece58"
          ],
          [
           0.8888888888888888,
           "#b5de2b"
          ],
          [
           1,
           "#fde725"
          ]
         ],
         "type": "heatmap",
         "x": [
          "Category",
          "Item",
          "Serving Size",
          "Calories",
          "Calories from Fat",
          "Total Fat",
          "Total Fat (% Daily Value)",
          "Saturated Fat",
          "Saturated Fat (% Daily Value)",
          "Trans Fat",
          "Cholesterol",
          "Cholesterol (% Daily Value)",
          "Sodium",
          "Sodium (% Daily Value)",
          "Carbohydrates",
          "Carbohydrates (% Daily Value)",
          "Dietary Fiber",
          "Dietary Fiber (% Daily Value)",
          "Sugars",
          "Protein",
          "Vitamin A (% Daily Value)",
          "Vitamin C (% Daily Value)",
          "Calcium (% Daily Value)",
          "Iron (% Daily Value)"
         ],
         "y": [
          "Category",
          "Item",
          "Serving Size",
          "Calories",
          "Calories from Fat",
          "Total Fat",
          "Total Fat (% Daily Value)",
          "Saturated Fat",
          "Saturated Fat (% Daily Value)",
          "Trans Fat",
          "Cholesterol",
          "Cholesterol (% Daily Value)",
          "Sodium",
          "Sodium (% Daily Value)",
          "Carbohydrates",
          "Carbohydrates (% Daily Value)",
          "Dietary Fiber",
          "Dietary Fiber (% Daily Value)",
          "Sugars",
          "Protein",
          "Vitamin A (% Daily Value)",
          "Vitamin C (% Daily Value)",
          "Calcium (% Daily Value)",
          "Iron (% Daily Value)"
         ],
         "z": [
          [
           1,
           0.9045878034080987,
           0.904409157392784,
           0.9041225475825321,
           0.8455636373196471,
           0.8476307748477562,
           0.5224409156443288,
           0.5963991591663717,
           0.5952076884475579,
           0.7123086892939092,
           0.7134149655272983,
           0.7815394649448484,
           0.7812420299671722,
           0.5388935076050452,
           0.5400141869094212,
           0.2595981214640159,
           0.7878474518452038,
           0.10884403893939043,
           -0.06874703569399432,
           0.4284264596507916,
           0.64355160422737
          ],
          [
           0.9045878034080987,
           1,
           0.9996634955897415,
           0.9997252590554802,
           0.8470075893098641,
           0.8495919575680888,
           0.433686139385935,
           0.682161103865351,
           0.681606995428646,
           0.8466244111207326,
           0.847276352640494,
           0.4616722517236349,
           0.46146306767909906,
           0.5812737882784271,
           0.5756205788835643,
           -0.1152846946564677,
           0.8079132589493545,
           0.056730723445420544,
           -0.08733073089973017,
           0.16103408689659812,
           0.7358943110888447
          ],
          [
           0.904409157392784,
           0.9996634955897415,
           1,
           0.9997647393950018,
           0.84670724472005,
           0.8492927866073073,
           0.4314529030238229,
           0.6805473676673243,
           0.6799997024908231,
           0.8461584213460124,
           0.8467802205357678,
           0.4612134651326916,
           0.4610047863066599,
           0.5808372533559369,
           0.5752063346189407,
           -0.11544572832816685,
           0.8077729561203832,
           0.05443396215081169,
           -0.08935397430290525,
           0.16285951529292986,
           0.7346845141568472
          ],
          [
           0.9041225475825321,
           0.9997252590554802,
           0.9997647393950018,
           1,
           0.847379252338325,
           0.8499730085183167,
           0.43301574074660226,
           0.6809395325346513,
           0.6803780926009619,
           0.8467279202346661,
           0.8473681656384684,
           0.46051625451580086,
           0.46029841123914866,
           0.5805917879146336,
           0.5750330048671124,
           -0.11576122491831478,
           0.8079222067575104,
           0.05403819139883524,
           -0.08935258065107046,
           0.1620308845785111,
           0.7354775459676242
          ],
          [
           0.8455636373196471,
           0.8470075893098641,
           0.84670724472005,
           0.847379252338325,
           1,
           0.9992786185115089,
           0.6206106142765513,
           0.6312104675830911,
           0.6303340569577576,
           0.5840752616122256,
           0.5853234200205948,
           0.5912606345941018,
           0.5917430640164687,
           0.35181784073756606,
           0.347151713079865,
           0.19773362307770465,
           0.6030275437573073,
           0.06497234213013943,
           -0.17967200466939523,
           0.4033107656144642,
           0.5780623747104574
          ],
          [
           0.8476307748477562,
           0.8495919575680888,
           0.8492927866073073,
           0.8499730085183167,
           0.9992786185115089,
           1,
           0.6202102466798447,
           0.6336030749129165,
           0.6327115967701734,
           0.5886936331908122,
           0.5899584201766298,
           0.5913220096621569,
           0.5916546205806604,
           0.3568306704587878,
           0.35179740266804593,
           0.1959279940338807,
           0.6065814565319811,
           0.06537607837815915,
           -0.1780587538407227,
           0.40113868324023605,
           0.5804878651086318
          ],
          [
           0.5224409156443288,
           0.433686139385935,
           0.4314529030238229,
           0.43301574074660226,
           0.6206106142765513,
           0.6202102466798447,
           1,
           0.2539345192590322,
           0.25150204453828046,
           0.18758040330778875,
           0.18833862048397318,
           0.46324990476795064,
           0.4628914840165747,
           0.05491838723441014,
           0.058301284321408624,
           0.33475578997339006,
           0.3882485025793163,
           0.07583346893597077,
           -0.07661213878382182,
           0.3853311036308707,
           0.32547588452543147
          ],
          [
           0.5963991591663717,
           0.682161103865351,
           0.6805473676673243,
           0.6809395325346513,
           0.6312104675830911,
           0.6336030749129165,
           0.2539345192590322,
           1,
           0.9998553521462422,
           0.6243618581650675,
           0.6247428595109713,
           0.2709774709356131,
           0.272661671384779,
           0.43557480086686173,
           0.44026646168284594,
           -0.13551831633736397,
           0.5615614117399177,
           0.08023904076417387,
           -0.08297821265257432,
           0.13207673822818133,
           0.6549995460172373
          ],
          [
           0.5952076884475579,
           0.681606995428646,
           0.6799997024908231,
           0.6803780926009619,
           0.6303340569577576,
           0.6327115967701734,
           0.25150204453828046,
           0.9998553521462422,
           1,
           0.6233197296052115,
           0.6237204539234366,
           0.2692997589349471,
           0.27099242030074633,
           0.4349402888231389,
           0.4398142009037463,
           -0.13645936770059733,
           0.5609569471407542,
           0.08005942515674022,
           -0.0833146975774059,
           0.13238169313198017,
           0.6531674957634798
          ],
          [
           0.7123086892939092,
           0.8466244111207326,
           0.8461584213460124,
           0.8467279202346661,
           0.5840752616122256,
           0.5886936331908122,
           0.18758040330778875,
           0.6243618581650675,
           0.6233197296052115,
           1,
           0.9999286038967881,
           0.20079561673505092,
           0.2010320841280457,
           0.6943894554834724,
           0.6899951053913064,
           -0.42653553249339665,
           0.8698015672713703,
           0.08306810407845133,
           -0.030769341183886086,
           -0.02407377496203426,
           0.8715926770956608
          ],
          [
           0.7134149655272983,
           0.847276352640494,
           0.8467802205357678,
           0.8473681656384684,
           0.5853234200205948,
           0.5899584201766298,
           0.18833862048397318,
           0.6247428595109713,
           0.6237204539234366,
           0.9999286038967881,
           1,
           0.2024264791708689,
           0.20266302313972967,
           0.6939133080904091,
           0.6894642573324599,
           -0.4249430249904959,
           0.8698699899115694,
           0.08325879510377965,
           -0.030945232347411974,
           -0.02214496525963091,
           0.8707419911949423
          ],
          [
           0.7815394649448484,
           0.4616722517236349,
           0.4612134651326916,
           0.46051625451580086,
           0.5912606345941018,
           0.5913220096621569,
           0.46324990476795064,
           0.2709774709356131,
           0.2692997589349471,
           0.20079561673505092,
           0.2024264791708689,
           1,
           0.9996204001860499,
           0.2245766238054422,
           0.22825669519044292,
           0.7623621448845459,
           0.35212223557892247,
           0.0838017111768473,
           -0.034724302252472306,
           0.5896987366041019,
           0.21024093454273957
          ],
          [
           0.7812420299671722,
           0.46146306767909906,
           0.4610047863066599,
           0.46029841123914866,
           0.5917430640164687,
           0.5916546205806604,
           0.4628914840165747,
           0.272661671384779,
           0.27099242030074633,
           0.2010320841280457,
           0.20266302313972967,
           0.9996204001860499,
           1,
           0.22405780954193263,
           0.2272849720709287,
           0.7622819877349493,
           0.35217805589755463,
           0.08337578553990403,
           -0.03545009198593201,
           0.5902633521779939,
           0.21064337639575062
          ],
          [
           0.5388935076050452,
           0.5812737882784271,
           0.5808372533559369,
           0.5805917879146336,
           0.35181784073756606,
           0.3568306704587878,
           0.05491838723441014,
           0.43557480086686173,
           0.4349402888231389,
           0.6943894554834724,
           0.6939133080904091,
           0.2245766238054422,
           0.22405780954193263,
           1,
           0.986350288102768,
           -0.2951784207626668,
           0.6413448345767541,
           0.3405183711508933,
           0.14193503024553042,
           0.028711079699260213,
           0.7404110351437427
          ],
          [
           0.5400141869094212,
           0.5756205788835643,
           0.5752063346189407,
           0.5750330048671124,
           0.347151713079865,
           0.35179740266804593,
           0.058301284321408624,
           0.44026646168284594,
           0.4398142009037463,
           0.6899951053913064,
           0.6894642573324599,
           0.22825669519044292,
           0.2272849720709287,
           0.986350288102768,
           1,
           -0.287013891345728,
           0.6566482496638104,
           0.36138045478758807,
           0.15001850767498962,
           0.05235902668842296,
           0.7378139783065258
          ],
          [
           0.2595981214640159,
           -0.1152846946564677,
           -0.11544572832816685,
           -0.11576122491831478,
           0.19773362307770465,
           0.1959279940338807,
           0.33475578997339006,
           -0.13551831633736397,
           -0.13645936770059733,
           -0.42653553249339665,
           -0.4249430249904959,
           0.7623621448845459,
           0.7622819877349493,
           -0.2951784207626668,
           -0.287013891345728,
           1,
           -0.17993964932372827,
           0.048487708489342515,
           -0.0698469839624912,
           0.6000929091904795,
           -0.36476707845065603
          ],
          [
           0.7878474518452038,
           0.8079132589493545,
           0.8077729561203832,
           0.8079222067575104,
           0.6030275437573073,
           0.6065814565319811,
           0.3882485025793163,
           0.5615614117399177,
           0.5609569471407542,
           0.8698015672713703,
           0.8698699899115694,
           0.35212223557892247,
           0.35217805589755463,
           0.6413448345767541,
           0.6566482496638104,
           -0.17993964932372827,
           1,
           0.21409799003242372,
           -0.04577680543516488,
           0.32797108597456653,
           0.7927194551593942
          ],
          [
           0.10884403893939043,
           0.056730723445420544,
           0.05443396215081169,
           0.05403819139883524,
           0.06497234213013943,
           0.06537607837815915,
           0.07583346893597077,
           0.08023904076417387,
           0.08005942515674022,
           0.08306810407845133,
           0.08325879510377965,
           0.0838017111768473,
           0.08337578553990403,
           0.3405183711508933,
           0.36138045478758807,
           0.048487708489342515,
           0.21409799003242372,
           1,
           0.0691711100219368,
           0.1791899439410469,
           0.13787902207785183
          ],
          [
           -0.06874703569399432,
           -0.08733073089973017,
           -0.08935397430290525,
           -0.08935258065107046,
           -0.17967200466939523,
           -0.1780587538407227,
           -0.07661213878382182,
           -0.08297821265257432,
           -0.0833146975774059,
           -0.030769341183886086,
           -0.030945232347411974,
           -0.034724302252472306,
           -0.03545009198593201,
           0.14193503024553042,
           0.15001850767498962,
           -0.0698469839624912,
           -0.04577680543516488,
           0.0691711100219368,
           1,
           -0.21537980884384758,
           0.0012917405228226571
          ],
          [
           0.4284264596507916,
           0.16103408689659812,
           0.16285951529292986,
           0.1620308845785111,
           0.4033107656144642,
           0.40113868324023605,
           0.3853311036308707,
           0.13207673822818133,
           0.13238169313198017,
           -0.02407377496203426,
           -0.02214496525963091,
           0.5896987366041019,
           0.5902633521779939,
           0.028711079699260213,
           0.05235902668842296,
           0.6000929091904795,
           0.32797108597456653,
           0.1791899439410469,
           -0.21537980884384758,
           1,
           0.03414874019662015
          ],
          [
           0.64355160422737,
           0.7358943110888447,
           0.7346845141568472,
           0.7354775459676242,
           0.5780623747104574,
           0.5804878651086318,
           0.32547588452543147,
           0.6549995460172373,
           0.6531674957634798,
           0.8715926770956608,
           0.8707419911949423,
           0.21024093454273957,
           0.21064337639575062,
           0.7404110351437427,
           0.7378139783065258,
           -0.36476707845065603,
           0.7927194551593942,
           0.13787902207785183,
           0.0012917405228226571,
           0.03414874019662015,
           1
          ]
         ]
        }
       ],
       "layout": {
        "height": 1000,
        "template": {
         "data": {
          "bar": [
           {
            "error_x": {
             "color": "#2a3f5f"
            },
            "error_y": {
             "color": "#2a3f5f"
            },
            "marker": {
             "line": {
              "color": "#E5ECF6",
              "width": 0.5
             }
            },
            "type": "bar"
           }
          ],
          "barpolar": [
           {
            "marker": {
             "line": {
              "color": "#E5ECF6",
              "width": 0.5
             }
            },
            "type": "barpolar"
           }
          ],
          "carpet": [
           {
            "aaxis": {
             "endlinecolor": "#2a3f5f",
             "gridcolor": "white",
             "linecolor": "white",
             "minorgridcolor": "white",
             "startlinecolor": "#2a3f5f"
            },
            "baxis": {
             "endlinecolor": "#2a3f5f",
             "gridcolor": "white",
             "linecolor": "white",
             "minorgridcolor": "white",
             "startlinecolor": "#2a3f5f"
            },
            "type": "carpet"
           }
          ],
          "choropleth": [
           {
            "colorbar": {
             "outlinewidth": 0,
             "ticks": ""
            },
            "type": "choropleth"
           }
          ],
          "contour": [
           {
            "colorbar": {
             "outlinewidth": 0,
             "ticks": ""
            },
            "colorscale": [
             [
              0,
              "#0d0887"
             ],
             [
              0.1111111111111111,
              "#46039f"
             ],
             [
              0.2222222222222222,
              "#7201a8"
             ],
             [
              0.3333333333333333,
              "#9c179e"
             ],
             [
              0.4444444444444444,
              "#bd3786"
             ],
             [
              0.5555555555555556,
              "#d8576b"
             ],
             [
              0.6666666666666666,
              "#ed7953"
             ],
             [
              0.7777777777777778,
              "#fb9f3a"
             ],
             [
              0.8888888888888888,
              "#fdca26"
             ],
             [
              1,
              "#f0f921"
             ]
            ],
            "type": "contour"
           }
          ],
          "contourcarpet": [
           {
            "colorbar": {
             "outlinewidth": 0,
             "ticks": ""
            },
            "type": "contourcarpet"
           }
          ],
          "heatmap": [
           {
            "colorbar": {
             "outlinewidth": 0,
             "ticks": ""
            },
            "colorscale": [
             [
              0,
              "#0d0887"
             ],
             [
              0.1111111111111111,
              "#46039f"
             ],
             [
              0.2222222222222222,
              "#7201a8"
             ],
             [
              0.3333333333333333,
              "#9c179e"
             ],
             [
              0.4444444444444444,
              "#bd3786"
             ],
             [
              0.5555555555555556,
              "#d8576b"
             ],
             [
              0.6666666666666666,
              "#ed7953"
             ],
             [
              0.7777777777777778,
              "#fb9f3a"
             ],
             [
              0.8888888888888888,
              "#fdca26"
             ],
             [
              1,
              "#f0f921"
             ]
            ],
            "type": "heatmap"
           }
          ],
          "heatmapgl": [
           {
            "colorbar": {
             "outlinewidth": 0,
             "ticks": ""
            },
            "colorscale": [
             [
              0,
              "#0d0887"
             ],
             [
              0.1111111111111111,
              "#46039f"
             ],
             [
              0.2222222222222222,
              "#7201a8"
             ],
             [
              0.3333333333333333,
              "#9c179e"
             ],
             [
              0.4444444444444444,
              "#bd3786"
             ],
             [
              0.5555555555555556,
              "#d8576b"
             ],
             [
              0.6666666666666666,
              "#ed7953"
             ],
             [
              0.7777777777777778,
              "#fb9f3a"
             ],
             [
              0.8888888888888888,
              "#fdca26"
             ],
             [
              1,
              "#f0f921"
             ]
            ],
            "type": "heatmapgl"
           }
          ],
          "histogram": [
           {
            "marker": {
             "colorbar": {
              "outlinewidth": 0,
              "ticks": ""
             }
            },
            "type": "histogram"
           }
          ],
          "histogram2d": [
           {
            "colorbar": {
             "outlinewidth": 0,
             "ticks": ""
            },
            "colorscale": [
             [
              0,
              "#0d0887"
             ],
             [
              0.1111111111111111,
              "#46039f"
             ],
             [
              0.2222222222222222,
              "#7201a8"
             ],
             [
              0.3333333333333333,
              "#9c179e"
             ],
             [
              0.4444444444444444,
              "#bd3786"
             ],
             [
              0.5555555555555556,
              "#d8576b"
             ],
             [
              0.6666666666666666,
              "#ed7953"
             ],
             [
              0.7777777777777778,
              "#fb9f3a"
             ],
             [
              0.8888888888888888,
              "#fdca26"
             ],
             [
              1,
              "#f0f921"
             ]
            ],
            "type": "histogram2d"
           }
          ],
          "histogram2dcontour": [
           {
            "colorbar": {
             "outlinewidth": 0,
             "ticks": ""
            },
            "colorscale": [
             [
              0,
              "#0d0887"
             ],
             [
              0.1111111111111111,
              "#46039f"
             ],
             [
              0.2222222222222222,
              "#7201a8"
             ],
             [
              0.3333333333333333,
              "#9c179e"
             ],
             [
              0.4444444444444444,
              "#bd3786"
             ],
             [
              0.5555555555555556,
              "#d8576b"
             ],
             [
              0.6666666666666666,
              "#ed7953"
             ],
             [
              0.7777777777777778,
              "#fb9f3a"
             ],
             [
              0.8888888888888888,
              "#fdca26"
             ],
             [
              1,
              "#f0f921"
             ]
            ],
            "type": "histogram2dcontour"
           }
          ],
          "mesh3d": [
           {
            "colorbar": {
             "outlinewidth": 0,
             "ticks": ""
            },
            "type": "mesh3d"
           }
          ],
          "parcoords": [
           {
            "line": {
             "colorbar": {
              "outlinewidth": 0,
              "ticks": ""
             }
            },
            "type": "parcoords"
           }
          ],
          "pie": [
           {
            "automargin": true,
            "type": "pie"
           }
          ],
          "scatter": [
           {
            "marker": {
             "colorbar": {
              "outlinewidth": 0,
              "ticks": ""
             }
            },
            "type": "scatter"
           }
          ],
          "scatter3d": [
           {
            "line": {
             "colorbar": {
              "outlinewidth": 0,
              "ticks": ""
             }
            },
            "marker": {
             "colorbar": {
              "outlinewidth": 0,
              "ticks": ""
             }
            },
            "type": "scatter3d"
           }
          ],
          "scattercarpet": [
           {
            "marker": {
             "colorbar": {
              "outlinewidth": 0,
              "ticks": ""
             }
            },
            "type": "scattercarpet"
           }
          ],
          "scattergeo": [
           {
            "marker": {
             "colorbar": {
              "outlinewidth": 0,
              "ticks": ""
             }
            },
            "type": "scattergeo"
           }
          ],
          "scattergl": [
           {
            "marker": {
             "colorbar": {
              "outlinewidth": 0,
              "ticks": ""
             }
            },
            "type": "scattergl"
           }
          ],
          "scattermapbox": [
           {
            "marker": {
             "colorbar": {
              "outlinewidth": 0,
              "ticks": ""
             }
            },
            "type": "scattermapbox"
           }
          ],
          "scatterpolar": [
           {
            "marker": {
             "colorbar": {
              "outlinewidth": 0,
              "ticks": ""
             }
            },
            "type": "scatterpolar"
           }
          ],
          "scatterpolargl": [
           {
            "marker": {
             "colorbar": {
              "outlinewidth": 0,
              "ticks": ""
             }
            },
            "type": "scatterpolargl"
           }
          ],
          "scatterternary": [
           {
            "marker": {
             "colorbar": {
              "outlinewidth": 0,
              "ticks": ""
             }
            },
            "type": "scatterternary"
           }
          ],
          "surface": [
           {
            "colorbar": {
             "outlinewidth": 0,
             "ticks": ""
            },
            "colorscale": [
             [
              0,
              "#0d0887"
             ],
             [
              0.1111111111111111,
              "#46039f"
             ],
             [
              0.2222222222222222,
              "#7201a8"
             ],
             [
              0.3333333333333333,
              "#9c179e"
             ],
             [
              0.4444444444444444,
              "#bd3786"
             ],
             [
              0.5555555555555556,
              "#d8576b"
             ],
             [
              0.6666666666666666,
              "#ed7953"
             ],
             [
              0.7777777777777778,
              "#fb9f3a"
             ],
             [
              0.8888888888888888,
              "#fdca26"
             ],
             [
              1,
              "#f0f921"
             ]
            ],
            "type": "surface"
           }
          ],
          "table": [
           {
            "cells": {
             "fill": {
              "color": "#EBF0F8"
             },
             "line": {
              "color": "white"
             }
            },
            "header": {
             "fill": {
              "color": "#C8D4E3"
             },
             "line": {
              "color": "white"
             }
            },
            "type": "table"
           }
          ]
         },
         "layout": {
          "annotationdefaults": {
           "arrowcolor": "#2a3f5f",
           "arrowhead": 0,
           "arrowwidth": 1
          },
          "coloraxis": {
           "colorbar": {
            "outlinewidth": 0,
            "ticks": ""
           }
          },
          "colorscale": {
           "diverging": [
            [
             0,
             "#8e0152"
            ],
            [
             0.1,
             "#c51b7d"
            ],
            [
             0.2,
             "#de77ae"
            ],
            [
             0.3,
             "#f1b6da"
            ],
            [
             0.4,
             "#fde0ef"
            ],
            [
             0.5,
             "#f7f7f7"
            ],
            [
             0.6,
             "#e6f5d0"
            ],
            [
             0.7,
             "#b8e186"
            ],
            [
             0.8,
             "#7fbc41"
            ],
            [
             0.9,
             "#4d9221"
            ],
            [
             1,
             "#276419"
            ]
           ],
           "sequential": [
            [
             0,
             "#0d0887"
            ],
            [
             0.1111111111111111,
             "#46039f"
            ],
            [
             0.2222222222222222,
             "#7201a8"
            ],
            [
             0.3333333333333333,
             "#9c179e"
            ],
            [
             0.4444444444444444,
             "#bd3786"
            ],
            [
             0.5555555555555556,
             "#d8576b"
            ],
            [
             0.6666666666666666,
             "#ed7953"
            ],
            [
             0.7777777777777778,
             "#fb9f3a"
            ],
            [
             0.8888888888888888,
             "#fdca26"
            ],
            [
             1,
             "#f0f921"
            ]
           ],
           "sequentialminus": [
            [
             0,
             "#0d0887"
            ],
            [
             0.1111111111111111,
             "#46039f"
            ],
            [
             0.2222222222222222,
             "#7201a8"
            ],
            [
             0.3333333333333333,
             "#9c179e"
            ],
            [
             0.4444444444444444,
             "#bd3786"
            ],
            [
             0.5555555555555556,
             "#d8576b"
            ],
            [
             0.6666666666666666,
             "#ed7953"
            ],
            [
             0.7777777777777778,
             "#fb9f3a"
            ],
            [
             0.8888888888888888,
             "#fdca26"
            ],
            [
             1,
             "#f0f921"
            ]
           ]
          },
          "colorway": [
           "#636efa",
           "#EF553B",
           "#00cc96",
           "#ab63fa",
           "#FFA15A",
           "#19d3f3",
           "#FF6692",
           "#B6E880",
           "#FF97FF",
           "#FECB52"
          ],
          "font": {
           "color": "#2a3f5f"
          },
          "geo": {
           "bgcolor": "white",
           "lakecolor": "white",
           "landcolor": "#E5ECF6",
           "showlakes": true,
           "showland": true,
           "subunitcolor": "white"
          },
          "hoverlabel": {
           "align": "left"
          },
          "hovermode": "closest",
          "mapbox": {
           "style": "light"
          },
          "paper_bgcolor": "white",
          "plot_bgcolor": "#E5ECF6",
          "polar": {
           "angularaxis": {
            "gridcolor": "white",
            "linecolor": "white",
            "ticks": ""
           },
           "bgcolor": "#E5ECF6",
           "radialaxis": {
            "gridcolor": "white",
            "linecolor": "white",
            "ticks": ""
           }
          },
          "scene": {
           "xaxis": {
            "backgroundcolor": "#E5ECF6",
            "gridcolor": "white",
            "gridwidth": 2,
            "linecolor": "white",
            "showbackground": true,
            "ticks": "",
            "zerolinecolor": "white"
           },
           "yaxis": {
            "backgroundcolor": "#E5ECF6",
            "gridcolor": "white",
            "gridwidth": 2,
            "linecolor": "white",
            "showbackground": true,
            "ticks": "",
            "zerolinecolor": "white"
           },
           "zaxis": {
            "backgroundcolor": "#E5ECF6",
            "gridcolor": "white",
            "gridwidth": 2,
            "linecolor": "white",
            "showbackground": true,
            "ticks": "",
            "zerolinecolor": "white"
           }
          },
          "shapedefaults": {
           "line": {
            "color": "#2a3f5f"
           }
          },
          "ternary": {
           "aaxis": {
            "gridcolor": "white",
            "linecolor": "white",
            "ticks": ""
           },
           "baxis": {
            "gridcolor": "white",
            "linecolor": "white",
            "ticks": ""
           },
           "bgcolor": "#E5ECF6",
           "caxis": {
            "gridcolor": "white",
            "linecolor": "white",
            "ticks": ""
           }
          },
          "title": {
           "x": 0.05
          },
          "xaxis": {
           "automargin": true,
           "gridcolor": "white",
           "linecolor": "white",
           "ticks": "",
           "title": {
            "standoff": 15
           },
           "zerolinecolor": "white",
           "zerolinewidth": 2
          },
          "yaxis": {
           "automargin": true,
           "gridcolor": "white",
           "linecolor": "white",
           "ticks": "",
           "title": {
            "standoff": 15
           },
           "zerolinecolor": "white",
           "zerolinewidth": 2
          }
         }
        },
        "title": {
         "text": "Pearson Correlation of all Nutritional metrics"
        },
        "width": 1200,
        "xaxis": {
         "nticks": 36,
         "ticks": ""
        },
        "yaxis": {
         "ticks": ""
        }
       }
      },
      "text/html": [
       "<div>\n",
       "        \n",
       "        \n",
       "            <div id=\"56b7e3f8-7227-4300-9583-694ba05e2bc9\" class=\"plotly-graph-div\" style=\"height:1000px; width:1200px;\"></div>\n",
       "            <script type=\"text/javascript\">\n",
       "                require([\"plotly\"], function(Plotly) {\n",
       "                    window.PLOTLYENV=window.PLOTLYENV || {};\n",
       "                    \n",
       "                if (document.getElementById(\"56b7e3f8-7227-4300-9583-694ba05e2bc9\")) {\n",
       "                    Plotly.newPlot(\n",
       "                        '56b7e3f8-7227-4300-9583-694ba05e2bc9',\n",
       "                        [{\"colorscale\": [[0.0, \"#440154\"], [0.1111111111111111, \"#482878\"], [0.2222222222222222, \"#3e4989\"], [0.3333333333333333, \"#31688e\"], [0.4444444444444444, \"#26828e\"], [0.5555555555555556, \"#1f9e89\"], [0.6666666666666666, \"#35b779\"], [0.7777777777777778, \"#6ece58\"], [0.8888888888888888, \"#b5de2b\"], [1.0, \"#fde725\"]], \"type\": \"heatmap\", \"x\": [\"Category\", \"Item\", \"Serving Size\", \"Calories\", \"Calories from Fat\", \"Total Fat\", \"Total Fat (% Daily Value)\", \"Saturated Fat\", \"Saturated Fat (% Daily Value)\", \"Trans Fat\", \"Cholesterol\", \"Cholesterol (% Daily Value)\", \"Sodium\", \"Sodium (% Daily Value)\", \"Carbohydrates\", \"Carbohydrates (% Daily Value)\", \"Dietary Fiber\", \"Dietary Fiber (% Daily Value)\", \"Sugars\", \"Protein\", \"Vitamin A (% Daily Value)\", \"Vitamin C (% Daily Value)\", \"Calcium (% Daily Value)\", \"Iron (% Daily Value)\"], \"y\": [\"Category\", \"Item\", \"Serving Size\", \"Calories\", \"Calories from Fat\", \"Total Fat\", \"Total Fat (% Daily Value)\", \"Saturated Fat\", \"Saturated Fat (% Daily Value)\", \"Trans Fat\", \"Cholesterol\", \"Cholesterol (% Daily Value)\", \"Sodium\", \"Sodium (% Daily Value)\", \"Carbohydrates\", \"Carbohydrates (% Daily Value)\", \"Dietary Fiber\", \"Dietary Fiber (% Daily Value)\", \"Sugars\", \"Protein\", \"Vitamin A (% Daily Value)\", \"Vitamin C (% Daily Value)\", \"Calcium (% Daily Value)\", \"Iron (% Daily Value)\"], \"z\": [[1.0, 0.9045878034080987, 0.904409157392784, 0.9041225475825321, 0.8455636373196471, 0.8476307748477562, 0.5224409156443288, 0.5963991591663717, 0.5952076884475579, 0.7123086892939092, 0.7134149655272983, 0.7815394649448484, 0.7812420299671722, 0.5388935076050452, 0.5400141869094212, 0.2595981214640159, 0.7878474518452038, 0.10884403893939043, -0.06874703569399432, 0.4284264596507916, 0.64355160422737], [0.9045878034080987, 1.0, 0.9996634955897415, 0.9997252590554802, 0.8470075893098641, 0.8495919575680888, 0.433686139385935, 0.682161103865351, 0.681606995428646, 0.8466244111207326, 0.847276352640494, 0.4616722517236349, 0.46146306767909906, 0.5812737882784271, 0.5756205788835643, -0.1152846946564677, 0.8079132589493545, 0.056730723445420544, -0.08733073089973017, 0.16103408689659812, 0.7358943110888447], [0.904409157392784, 0.9996634955897415, 1.0, 0.9997647393950018, 0.84670724472005, 0.8492927866073073, 0.4314529030238229, 0.6805473676673243, 0.6799997024908231, 0.8461584213460124, 0.8467802205357678, 0.4612134651326916, 0.4610047863066599, 0.5808372533559369, 0.5752063346189407, -0.11544572832816685, 0.8077729561203832, 0.05443396215081169, -0.08935397430290525, 0.16285951529292986, 0.7346845141568472], [0.9041225475825321, 0.9997252590554802, 0.9997647393950018, 1.0, 0.847379252338325, 0.8499730085183167, 0.43301574074660226, 0.6809395325346513, 0.6803780926009619, 0.8467279202346661, 0.8473681656384684, 0.46051625451580086, 0.46029841123914866, 0.5805917879146336, 0.5750330048671124, -0.11576122491831478, 0.8079222067575104, 0.05403819139883524, -0.08935258065107046, 0.1620308845785111, 0.7354775459676242], [0.8455636373196471, 0.8470075893098641, 0.84670724472005, 0.847379252338325, 1.0, 0.9992786185115089, 0.6206106142765513, 0.6312104675830911, 0.6303340569577576, 0.5840752616122256, 0.5853234200205948, 0.5912606345941018, 0.5917430640164687, 0.35181784073756606, 0.347151713079865, 0.19773362307770465, 0.6030275437573073, 0.06497234213013943, -0.17967200466939523, 0.4033107656144642, 0.5780623747104574], [0.8476307748477562, 0.8495919575680888, 0.8492927866073073, 0.8499730085183167, 0.9992786185115089, 1.0, 0.6202102466798447, 0.6336030749129165, 0.6327115967701734, 0.5886936331908122, 0.5899584201766298, 0.5913220096621569, 0.5916546205806604, 0.3568306704587878, 0.35179740266804593, 0.1959279940338807, 0.6065814565319811, 0.06537607837815915, -0.1780587538407227, 0.40113868324023605, 0.5804878651086318], [0.5224409156443288, 0.433686139385935, 0.4314529030238229, 0.43301574074660226, 0.6206106142765513, 0.6202102466798447, 1.0, 0.2539345192590322, 0.25150204453828046, 0.18758040330778875, 0.18833862048397318, 0.46324990476795064, 0.4628914840165747, 0.05491838723441014, 0.058301284321408624, 0.33475578997339006, 0.3882485025793163, 0.07583346893597077, -0.07661213878382182, 0.3853311036308707, 0.32547588452543147], [0.5963991591663717, 0.682161103865351, 0.6805473676673243, 0.6809395325346513, 0.6312104675830911, 0.6336030749129165, 0.2539345192590322, 1.0, 0.9998553521462422, 0.6243618581650675, 0.6247428595109713, 0.2709774709356131, 0.272661671384779, 0.43557480086686173, 0.44026646168284594, -0.13551831633736397, 0.5615614117399177, 0.08023904076417387, -0.08297821265257432, 0.13207673822818133, 0.6549995460172373], [0.5952076884475579, 0.681606995428646, 0.6799997024908231, 0.6803780926009619, 0.6303340569577576, 0.6327115967701734, 0.25150204453828046, 0.9998553521462422, 1.0, 0.6233197296052115, 0.6237204539234366, 0.2692997589349471, 0.27099242030074633, 0.4349402888231389, 0.4398142009037463, -0.13645936770059733, 0.5609569471407542, 0.08005942515674022, -0.0833146975774059, 0.13238169313198017, 0.6531674957634798], [0.7123086892939092, 0.8466244111207326, 0.8461584213460124, 0.8467279202346661, 0.5840752616122256, 0.5886936331908122, 0.18758040330778875, 0.6243618581650675, 0.6233197296052115, 1.0, 0.9999286038967881, 0.20079561673505092, 0.2010320841280457, 0.6943894554834724, 0.6899951053913064, -0.42653553249339665, 0.8698015672713703, 0.08306810407845133, -0.030769341183886086, -0.02407377496203426, 0.8715926770956608], [0.7134149655272983, 0.847276352640494, 0.8467802205357678, 0.8473681656384684, 0.5853234200205948, 0.5899584201766298, 0.18833862048397318, 0.6247428595109713, 0.6237204539234366, 0.9999286038967881, 1.0, 0.2024264791708689, 0.20266302313972967, 0.6939133080904091, 0.6894642573324599, -0.4249430249904959, 0.8698699899115694, 0.08325879510377965, -0.030945232347411974, -0.02214496525963091, 0.8707419911949423], [0.7815394649448484, 0.4616722517236349, 0.4612134651326916, 0.46051625451580086, 0.5912606345941018, 0.5913220096621569, 0.46324990476795064, 0.2709774709356131, 0.2692997589349471, 0.20079561673505092, 0.2024264791708689, 1.0, 0.9996204001860499, 0.2245766238054422, 0.22825669519044292, 0.7623621448845459, 0.35212223557892247, 0.0838017111768473, -0.034724302252472306, 0.5896987366041019, 0.21024093454273957], [0.7812420299671722, 0.46146306767909906, 0.4610047863066599, 0.46029841123914866, 0.5917430640164687, 0.5916546205806604, 0.4628914840165747, 0.272661671384779, 0.27099242030074633, 0.2010320841280457, 0.20266302313972967, 0.9996204001860499, 1.0, 0.22405780954193263, 0.2272849720709287, 0.7622819877349493, 0.35217805589755463, 0.08337578553990403, -0.03545009198593201, 0.5902633521779939, 0.21064337639575062], [0.5388935076050452, 0.5812737882784271, 0.5808372533559369, 0.5805917879146336, 0.35181784073756606, 0.3568306704587878, 0.05491838723441014, 0.43557480086686173, 0.4349402888231389, 0.6943894554834724, 0.6939133080904091, 0.2245766238054422, 0.22405780954193263, 1.0, 0.986350288102768, -0.2951784207626668, 0.6413448345767541, 0.3405183711508933, 0.14193503024553042, 0.028711079699260213, 0.7404110351437427], [0.5400141869094212, 0.5756205788835643, 0.5752063346189407, 0.5750330048671124, 0.347151713079865, 0.35179740266804593, 0.058301284321408624, 0.44026646168284594, 0.4398142009037463, 0.6899951053913064, 0.6894642573324599, 0.22825669519044292, 0.2272849720709287, 0.986350288102768, 1.0, -0.287013891345728, 0.6566482496638104, 0.36138045478758807, 0.15001850767498962, 0.05235902668842296, 0.7378139783065258], [0.2595981214640159, -0.1152846946564677, -0.11544572832816685, -0.11576122491831478, 0.19773362307770465, 0.1959279940338807, 0.33475578997339006, -0.13551831633736397, -0.13645936770059733, -0.42653553249339665, -0.4249430249904959, 0.7623621448845459, 0.7622819877349493, -0.2951784207626668, -0.287013891345728, 1.0, -0.17993964932372827, 0.048487708489342515, -0.0698469839624912, 0.6000929091904795, -0.36476707845065603], [0.7878474518452038, 0.8079132589493545, 0.8077729561203832, 0.8079222067575104, 0.6030275437573073, 0.6065814565319811, 0.3882485025793163, 0.5615614117399177, 0.5609569471407542, 0.8698015672713703, 0.8698699899115694, 0.35212223557892247, 0.35217805589755463, 0.6413448345767541, 0.6566482496638104, -0.17993964932372827, 1.0, 0.21409799003242372, -0.04577680543516488, 0.32797108597456653, 0.7927194551593942], [0.10884403893939043, 0.056730723445420544, 0.05443396215081169, 0.05403819139883524, 0.06497234213013943, 0.06537607837815915, 0.07583346893597077, 0.08023904076417387, 0.08005942515674022, 0.08306810407845133, 0.08325879510377965, 0.0838017111768473, 0.08337578553990403, 0.3405183711508933, 0.36138045478758807, 0.048487708489342515, 0.21409799003242372, 1.0, 0.0691711100219368, 0.1791899439410469, 0.13787902207785183], [-0.06874703569399432, -0.08733073089973017, -0.08935397430290525, -0.08935258065107046, -0.17967200466939523, -0.1780587538407227, -0.07661213878382182, -0.08297821265257432, -0.0833146975774059, -0.030769341183886086, -0.030945232347411974, -0.034724302252472306, -0.03545009198593201, 0.14193503024553042, 0.15001850767498962, -0.0698469839624912, -0.04577680543516488, 0.0691711100219368, 1.0, -0.21537980884384758, 0.0012917405228226571], [0.4284264596507916, 0.16103408689659812, 0.16285951529292986, 0.1620308845785111, 0.4033107656144642, 0.40113868324023605, 0.3853311036308707, 0.13207673822818133, 0.13238169313198017, -0.02407377496203426, -0.02214496525963091, 0.5896987366041019, 0.5902633521779939, 0.028711079699260213, 0.05235902668842296, 0.6000929091904795, 0.32797108597456653, 0.1791899439410469, -0.21537980884384758, 1.0, 0.03414874019662015], [0.64355160422737, 0.7358943110888447, 0.7346845141568472, 0.7354775459676242, 0.5780623747104574, 0.5804878651086318, 0.32547588452543147, 0.6549995460172373, 0.6531674957634798, 0.8715926770956608, 0.8707419911949423, 0.21024093454273957, 0.21064337639575062, 0.7404110351437427, 0.7378139783065258, -0.36476707845065603, 0.7927194551593942, 0.13787902207785183, 0.0012917405228226571, 0.03414874019662015, 1.0]]}],\n",
       "                        {\"height\": 1000, \"template\": {\"data\": {\"bar\": [{\"error_x\": {\"color\": \"#2a3f5f\"}, \"error_y\": {\"color\": \"#2a3f5f\"}, \"marker\": {\"line\": {\"color\": \"#E5ECF6\", \"width\": 0.5}}, \"type\": \"bar\"}], \"barpolar\": [{\"marker\": {\"line\": {\"color\": \"#E5ECF6\", \"width\": 0.5}}, \"type\": \"barpolar\"}], \"carpet\": [{\"aaxis\": {\"endlinecolor\": \"#2a3f5f\", \"gridcolor\": \"white\", \"linecolor\": \"white\", \"minorgridcolor\": \"white\", \"startlinecolor\": \"#2a3f5f\"}, \"baxis\": {\"endlinecolor\": \"#2a3f5f\", \"gridcolor\": \"white\", \"linecolor\": \"white\", \"minorgridcolor\": \"white\", \"startlinecolor\": \"#2a3f5f\"}, \"type\": \"carpet\"}], \"choropleth\": [{\"colorbar\": {\"outlinewidth\": 0, \"ticks\": \"\"}, \"type\": \"choropleth\"}], \"contour\": [{\"colorbar\": {\"outlinewidth\": 0, \"ticks\": \"\"}, \"colorscale\": [[0.0, \"#0d0887\"], [0.1111111111111111, \"#46039f\"], [0.2222222222222222, \"#7201a8\"], [0.3333333333333333, \"#9c179e\"], [0.4444444444444444, \"#bd3786\"], [0.5555555555555556, \"#d8576b\"], [0.6666666666666666, \"#ed7953\"], [0.7777777777777778, \"#fb9f3a\"], [0.8888888888888888, \"#fdca26\"], [1.0, \"#f0f921\"]], \"type\": \"contour\"}], \"contourcarpet\": [{\"colorbar\": {\"outlinewidth\": 0, \"ticks\": \"\"}, \"type\": \"contourcarpet\"}], \"heatmap\": [{\"colorbar\": {\"outlinewidth\": 0, \"ticks\": \"\"}, \"colorscale\": [[0.0, \"#0d0887\"], [0.1111111111111111, \"#46039f\"], [0.2222222222222222, \"#7201a8\"], [0.3333333333333333, \"#9c179e\"], [0.4444444444444444, \"#bd3786\"], [0.5555555555555556, \"#d8576b\"], [0.6666666666666666, \"#ed7953\"], [0.7777777777777778, \"#fb9f3a\"], [0.8888888888888888, \"#fdca26\"], [1.0, \"#f0f921\"]], \"type\": \"heatmap\"}], \"heatmapgl\": [{\"colorbar\": {\"outlinewidth\": 0, \"ticks\": \"\"}, \"colorscale\": [[0.0, \"#0d0887\"], [0.1111111111111111, \"#46039f\"], [0.2222222222222222, \"#7201a8\"], [0.3333333333333333, \"#9c179e\"], [0.4444444444444444, \"#bd3786\"], [0.5555555555555556, \"#d8576b\"], [0.6666666666666666, \"#ed7953\"], [0.7777777777777778, \"#fb9f3a\"], [0.8888888888888888, \"#fdca26\"], [1.0, \"#f0f921\"]], \"type\": \"heatmapgl\"}], \"histogram\": [{\"marker\": {\"colorbar\": {\"outlinewidth\": 0, \"ticks\": \"\"}}, \"type\": \"histogram\"}], \"histogram2d\": [{\"colorbar\": {\"outlinewidth\": 0, \"ticks\": \"\"}, \"colorscale\": [[0.0, \"#0d0887\"], [0.1111111111111111, \"#46039f\"], [0.2222222222222222, \"#7201a8\"], [0.3333333333333333, \"#9c179e\"], [0.4444444444444444, \"#bd3786\"], [0.5555555555555556, \"#d8576b\"], [0.6666666666666666, \"#ed7953\"], [0.7777777777777778, \"#fb9f3a\"], [0.8888888888888888, \"#fdca26\"], [1.0, \"#f0f921\"]], \"type\": \"histogram2d\"}], \"histogram2dcontour\": [{\"colorbar\": {\"outlinewidth\": 0, \"ticks\": \"\"}, \"colorscale\": [[0.0, \"#0d0887\"], [0.1111111111111111, \"#46039f\"], [0.2222222222222222, \"#7201a8\"], [0.3333333333333333, \"#9c179e\"], [0.4444444444444444, \"#bd3786\"], [0.5555555555555556, \"#d8576b\"], [0.6666666666666666, \"#ed7953\"], [0.7777777777777778, \"#fb9f3a\"], [0.8888888888888888, \"#fdca26\"], [1.0, \"#f0f921\"]], \"type\": \"histogram2dcontour\"}], \"mesh3d\": [{\"colorbar\": {\"outlinewidth\": 0, \"ticks\": \"\"}, \"type\": \"mesh3d\"}], \"parcoords\": [{\"line\": {\"colorbar\": {\"outlinewidth\": 0, \"ticks\": \"\"}}, \"type\": \"parcoords\"}], \"pie\": [{\"automargin\": true, \"type\": \"pie\"}], \"scatter\": [{\"marker\": {\"colorbar\": {\"outlinewidth\": 0, \"ticks\": \"\"}}, \"type\": \"scatter\"}], \"scatter3d\": [{\"line\": {\"colorbar\": {\"outlinewidth\": 0, \"ticks\": \"\"}}, \"marker\": {\"colorbar\": {\"outlinewidth\": 0, \"ticks\": \"\"}}, \"type\": \"scatter3d\"}], \"scattercarpet\": [{\"marker\": {\"colorbar\": {\"outlinewidth\": 0, \"ticks\": \"\"}}, \"type\": \"scattercarpet\"}], \"scattergeo\": [{\"marker\": {\"colorbar\": {\"outlinewidth\": 0, \"ticks\": \"\"}}, \"type\": \"scattergeo\"}], \"scattergl\": [{\"marker\": {\"colorbar\": {\"outlinewidth\": 0, \"ticks\": \"\"}}, \"type\": \"scattergl\"}], \"scattermapbox\": [{\"marker\": {\"colorbar\": {\"outlinewidth\": 0, \"ticks\": \"\"}}, \"type\": \"scattermapbox\"}], \"scatterpolar\": [{\"marker\": {\"colorbar\": {\"outlinewidth\": 0, \"ticks\": \"\"}}, \"type\": \"scatterpolar\"}], \"scatterpolargl\": [{\"marker\": {\"colorbar\": {\"outlinewidth\": 0, \"ticks\": \"\"}}, \"type\": \"scatterpolargl\"}], \"scatterternary\": [{\"marker\": {\"colorbar\": {\"outlinewidth\": 0, \"ticks\": \"\"}}, \"type\": \"scatterternary\"}], \"surface\": [{\"colorbar\": {\"outlinewidth\": 0, \"ticks\": \"\"}, \"colorscale\": [[0.0, \"#0d0887\"], [0.1111111111111111, \"#46039f\"], [0.2222222222222222, \"#7201a8\"], [0.3333333333333333, \"#9c179e\"], [0.4444444444444444, \"#bd3786\"], [0.5555555555555556, \"#d8576b\"], [0.6666666666666666, \"#ed7953\"], [0.7777777777777778, \"#fb9f3a\"], [0.8888888888888888, \"#fdca26\"], [1.0, \"#f0f921\"]], \"type\": \"surface\"}], \"table\": [{\"cells\": {\"fill\": {\"color\": \"#EBF0F8\"}, \"line\": {\"color\": \"white\"}}, \"header\": {\"fill\": {\"color\": \"#C8D4E3\"}, \"line\": {\"color\": \"white\"}}, \"type\": \"table\"}]}, \"layout\": {\"annotationdefaults\": {\"arrowcolor\": \"#2a3f5f\", \"arrowhead\": 0, \"arrowwidth\": 1}, \"coloraxis\": {\"colorbar\": {\"outlinewidth\": 0, \"ticks\": \"\"}}, \"colorscale\": {\"diverging\": [[0, \"#8e0152\"], [0.1, \"#c51b7d\"], [0.2, \"#de77ae\"], [0.3, \"#f1b6da\"], [0.4, \"#fde0ef\"], [0.5, \"#f7f7f7\"], [0.6, \"#e6f5d0\"], [0.7, \"#b8e186\"], [0.8, \"#7fbc41\"], [0.9, \"#4d9221\"], [1, \"#276419\"]], \"sequential\": [[0.0, \"#0d0887\"], [0.1111111111111111, \"#46039f\"], [0.2222222222222222, \"#7201a8\"], [0.3333333333333333, \"#9c179e\"], [0.4444444444444444, \"#bd3786\"], [0.5555555555555556, \"#d8576b\"], [0.6666666666666666, \"#ed7953\"], [0.7777777777777778, \"#fb9f3a\"], [0.8888888888888888, \"#fdca26\"], [1.0, \"#f0f921\"]], \"sequentialminus\": [[0.0, \"#0d0887\"], [0.1111111111111111, \"#46039f\"], [0.2222222222222222, \"#7201a8\"], [0.3333333333333333, \"#9c179e\"], [0.4444444444444444, \"#bd3786\"], [0.5555555555555556, \"#d8576b\"], [0.6666666666666666, \"#ed7953\"], [0.7777777777777778, \"#fb9f3a\"], [0.8888888888888888, \"#fdca26\"], [1.0, \"#f0f921\"]]}, \"colorway\": [\"#636efa\", \"#EF553B\", \"#00cc96\", \"#ab63fa\", \"#FFA15A\", \"#19d3f3\", \"#FF6692\", \"#B6E880\", \"#FF97FF\", \"#FECB52\"], \"font\": {\"color\": \"#2a3f5f\"}, \"geo\": {\"bgcolor\": \"white\", \"lakecolor\": \"white\", \"landcolor\": \"#E5ECF6\", \"showlakes\": true, \"showland\": true, \"subunitcolor\": \"white\"}, \"hoverlabel\": {\"align\": \"left\"}, \"hovermode\": \"closest\", \"mapbox\": {\"style\": \"light\"}, \"paper_bgcolor\": \"white\", \"plot_bgcolor\": \"#E5ECF6\", \"polar\": {\"angularaxis\": {\"gridcolor\": \"white\", \"linecolor\": \"white\", \"ticks\": \"\"}, \"bgcolor\": \"#E5ECF6\", \"radialaxis\": {\"gridcolor\": \"white\", \"linecolor\": \"white\", \"ticks\": \"\"}}, \"scene\": {\"xaxis\": {\"backgroundcolor\": \"#E5ECF6\", \"gridcolor\": \"white\", \"gridwidth\": 2, \"linecolor\": \"white\", \"showbackground\": true, \"ticks\": \"\", \"zerolinecolor\": \"white\"}, \"yaxis\": {\"backgroundcolor\": \"#E5ECF6\", \"gridcolor\": \"white\", \"gridwidth\": 2, \"linecolor\": \"white\", \"showbackground\": true, \"ticks\": \"\", \"zerolinecolor\": \"white\"}, \"zaxis\": {\"backgroundcolor\": \"#E5ECF6\", \"gridcolor\": \"white\", \"gridwidth\": 2, \"linecolor\": \"white\", \"showbackground\": true, \"ticks\": \"\", \"zerolinecolor\": \"white\"}}, \"shapedefaults\": {\"line\": {\"color\": \"#2a3f5f\"}}, \"ternary\": {\"aaxis\": {\"gridcolor\": \"white\", \"linecolor\": \"white\", \"ticks\": \"\"}, \"baxis\": {\"gridcolor\": \"white\", \"linecolor\": \"white\", \"ticks\": \"\"}, \"bgcolor\": \"#E5ECF6\", \"caxis\": {\"gridcolor\": \"white\", \"linecolor\": \"white\", \"ticks\": \"\"}}, \"title\": {\"x\": 0.05}, \"xaxis\": {\"automargin\": true, \"gridcolor\": \"white\", \"linecolor\": \"white\", \"ticks\": \"\", \"title\": {\"standoff\": 15}, \"zerolinecolor\": \"white\", \"zerolinewidth\": 2}, \"yaxis\": {\"automargin\": true, \"gridcolor\": \"white\", \"linecolor\": \"white\", \"ticks\": \"\", \"title\": {\"standoff\": 15}, \"zerolinecolor\": \"white\", \"zerolinewidth\": 2}}}, \"title\": {\"text\": \"Pearson Correlation of all Nutritional metrics\"}, \"width\": 1200, \"xaxis\": {\"nticks\": 36, \"ticks\": \"\"}, \"yaxis\": {\"ticks\": \"\"}},\n",
       "                        {\"responsive\": true}\n",
       "                    ).then(function(){\n",
       "                            \n",
       "var gd = document.getElementById('56b7e3f8-7227-4300-9583-694ba05e2bc9');\n",
       "var x = new MutationObserver(function (mutations, observer) {{\n",
       "        var display = window.getComputedStyle(gd).display;\n",
       "        if (!display || display === 'none') {{\n",
       "            console.log([gd, 'removed!']);\n",
       "            Plotly.purge(gd);\n",
       "            observer.disconnect();\n",
       "        }}\n",
       "}});\n",
       "\n",
       "// Listen for the removal of the full notebook cells\n",
       "var notebookContainer = gd.closest('#notebook-container');\n",
       "if (notebookContainer) {{\n",
       "    x.observe(notebookContainer, {childList: true});\n",
       "}}\n",
       "\n",
       "// Listen for the clearing of the current output cell\n",
       "var outputEl = gd.closest('.output');\n",
       "if (outputEl) {{\n",
       "    x.observe(outputEl, {childList: true});\n",
       "}}\n",
       "\n",
       "                        })\n",
       "                };\n",
       "                });\n",
       "            </script>\n",
       "        </div>"
      ]
     },
     "metadata": {},
     "output_type": "display_data"
    }
   ],
   "source": [
    "data_val = [\n",
    "    go.Heatmap(\n",
    "        z= data.iloc[:,3:].corr().values,\n",
    "        x=data.columns.values,\n",
    "        y=data.columns.values,\n",
    "        colorscale='Viridis'\n",
    "    )\n",
    "]\n",
    "\n",
    "\n",
    "layout = go.Layout(\n",
    "    title='Pearson Correlation of all Nutritional metrics',\n",
    "    xaxis = dict(ticks='', nticks=36),\n",
    "    yaxis = dict(ticks='' ),\n",
    "    width = 1200, height = 1000\n",
    ")\n",
    "\n",
    "fig = go.Figure(data=data_val, layout=layout)\n",
    "py.iplot(fig, filename='labelled-heatmap')"
   ]
  },
  {
   "cell_type": "code",
   "execution_count": null,
   "metadata": {},
   "outputs": [],
   "source": []
  },
  {
   "cell_type": "markdown",
   "metadata": {},
   "source": [
    "# Analysing Nutritional Content per Item"
   ]
  },
  {
   "cell_type": "markdown",
   "metadata": {},
   "source": [
    "### Scatter Plot of Cholesterol (% Daily Value) per MacDonald's Item"
   ]
  },
  {
   "cell_type": "code",
   "execution_count": 19,
   "metadata": {},
   "outputs": [
    {
     "data": {
      "text/html": [
       "<div>\n",
       "<style scoped>\n",
       "    .dataframe tbody tr th:only-of-type {\n",
       "        vertical-align: middle;\n",
       "    }\n",
       "\n",
       "    .dataframe tbody tr th {\n",
       "        vertical-align: top;\n",
       "    }\n",
       "\n",
       "    .dataframe thead th {\n",
       "        text-align: right;\n",
       "    }\n",
       "</style>\n",
       "<table border=\"1\" class=\"dataframe\">\n",
       "  <thead>\n",
       "    <tr style=\"text-align: right;\">\n",
       "      <th></th>\n",
       "      <th>Category</th>\n",
       "      <th>Item</th>\n",
       "      <th>Cholesterol (% Daily Value)</th>\n",
       "    </tr>\n",
       "  </thead>\n",
       "  <tbody>\n",
       "    <tr>\n",
       "      <th>31</th>\n",
       "      <td>Breakfast</td>\n",
       "      <td>Big Breakfast with Hotcakes (Regular Biscuit)</td>\n",
       "      <td>192</td>\n",
       "    </tr>\n",
       "    <tr>\n",
       "      <th>32</th>\n",
       "      <td>Breakfast</td>\n",
       "      <td>Big Breakfast with Hotcakes (Large Biscuit)</td>\n",
       "      <td>192</td>\n",
       "    </tr>\n",
       "    <tr>\n",
       "      <th>27</th>\n",
       "      <td>Breakfast</td>\n",
       "      <td>Big Breakfast (Regular Biscuit)</td>\n",
       "      <td>185</td>\n",
       "    </tr>\n",
       "    <tr>\n",
       "      <th>28</th>\n",
       "      <td>Breakfast</td>\n",
       "      <td>Big Breakfast (Large Biscuit)</td>\n",
       "      <td>185</td>\n",
       "    </tr>\n",
       "    <tr>\n",
       "      <th>5</th>\n",
       "      <td>Breakfast</td>\n",
       "      <td>Steak &amp; Egg McMuffin</td>\n",
       "      <td>100</td>\n",
       "    </tr>\n",
       "  </tbody>\n",
       "</table>\n",
       "</div>"
      ],
      "text/plain": [
       "     Category                                           Item  \\\n",
       "31  Breakfast  Big Breakfast with Hotcakes (Regular Biscuit)   \n",
       "32  Breakfast    Big Breakfast with Hotcakes (Large Biscuit)   \n",
       "27  Breakfast                Big Breakfast (Regular Biscuit)   \n",
       "28  Breakfast                  Big Breakfast (Large Biscuit)   \n",
       "5   Breakfast                           Steak & Egg McMuffin   \n",
       "\n",
       "    Cholesterol (% Daily Value)  \n",
       "31                          192  \n",
       "32                          192  \n",
       "27                          185  \n",
       "28                          185  \n",
       "5                           100  "
      ]
     },
     "execution_count": 19,
     "metadata": {},
     "output_type": "execute_result"
    }
   ],
   "source": [
    "#most cholestorol food\n",
    "most_chol = data.loc[:,['Category','Item','Cholesterol (% Daily Value)']]\n",
    "most_chol.sort_values('Cholesterol (% Daily Value)', ascending=False).head()"
   ]
  },
  {
   "cell_type": "code",
   "execution_count": null,
   "metadata": {},
   "outputs": [],
   "source": []
  },
  {
   "cell_type": "code",
   "execution_count": 20,
   "metadata": {},
   "outputs": [
    {
     "data": {
      "application/vnd.plotly.v1+json": {
       "config": {
        "linkText": "Export to plot.ly",
        "plotlyServerURL": "https://plot.ly",
        "showLink": false
       },
       "data": [
        {
         "marker": {
          "color": [
           87,
           8,
           15,
           95,
           16,
           100,
           83,
           83,
           11,
           11,
           10,
           10,
           83,
           83,
           11,
           11,
           10,
           10,
           93,
           84,
           11,
           11,
           89,
           17,
           92,
           20,
           99,
           185,
           185,
           12,
           12,
           192,
           192,
           19,
           19,
           7,
           17,
           38,
           0,
           5,
           2,
           2,
           28,
           31,
           34,
           35,
           28,
           53,
           10,
           15,
           30,
           38,
           25,
           30,
           27,
           27,
           23,
           16,
           22,
           29,
           35,
           24,
           30,
           31,
           37,
           14,
           11,
           21,
           17,
           11,
           26,
           32,
           21,
           27,
           21,
           27,
           16,
           22,
           9,
           13,
           22,
           44,
           89,
           14,
           9,
           23,
           29,
           3,
           17,
           23,
           11,
           14,
           11,
           14,
           13,
           16,
           0,
           0,
           0,
           0,
           0,
           0,
           2,
           0,
           3,
           3,
           2,
           8,
           10,
           8,
           0,
           0,
           0,
           0,
           0,
           0,
           0,
           0,
           0,
           0,
           0,
           0,
           0,
           0,
           0,
           0,
           0,
           0,
           0,
           0,
           3,
           2,
           0,
           0,
           0,
           0,
           0,
           0,
           0,
           0,
           0,
           0,
           0,
           0,
           0,
           0,
           0,
           0,
           9,
           11,
           14,
           9,
           11,
           14,
           9,
           11,
           14,
           9,
           11,
           14,
           9,
           11,
           14,
           2,
           2,
           3,
           2,
           2,
           3,
           2,
           2,
           3,
           2,
           2,
           3,
           2,
           2,
           3,
           12,
           14,
           17,
           5,
           5,
           6,
           12,
           14,
           17,
           5,
           5,
           6,
           14,
           16,
           20,
           5,
           6,
           7,
           6,
           9,
           12,
           6,
           9,
           12,
           6,
           9,
           12,
           6,
           9,
           12,
           6,
           9,
           12,
           12,
           13,
           17,
           7,
           7,
           8,
           12,
           13,
           17,
           7,
           7,
           8,
           21,
           25,
           30,
           22,
           27,
           32,
           22,
           26,
           32,
           1,
           1,
           2,
           1,
           1,
           2,
           1,
           1,
           2,
           20,
           24,
           29,
           21,
           25,
           30,
           20,
           24,
           29,
           24,
           29,
           17,
           25,
           11,
           14,
           19,
           9,
           20,
           10
          ],
          "colorscale": [
           [
            0,
            "rgb(12,51,131)"
           ],
           [
            0.25,
            "rgb(10,136,186)"
           ],
           [
            0.5,
            "rgb(242,211,56)"
           ],
           [
            0.75,
            "rgb(242,143,56)"
           ],
           [
            1,
            "rgb(217,30,30)"
           ]
          ],
          "showscale": true,
          "size": [
           87,
           8,
           15,
           95,
           16,
           100,
           83,
           83,
           11,
           11,
           10,
           10,
           83,
           83,
           11,
           11,
           10,
           10,
           93,
           84,
           11,
           11,
           89,
           17,
           92,
           20,
           99,
           185,
           185,
           12,
           12,
           192,
           192,
           19,
           19,
           7,
           17,
           38,
           0,
           5,
           2,
           2,
           28,
           31,
           34,
           35,
           28,
           53,
           10,
           15,
           30,
           38,
           25,
           30,
           27,
           27,
           23,
           16,
           22,
           29,
           35,
           24,
           30,
           31,
           37,
           14,
           11,
           21,
           17,
           11,
           26,
           32,
           21,
           27,
           21,
           27,
           16,
           22,
           9,
           13,
           22,
           44,
           89,
           14,
           9,
           23,
           29,
           3,
           17,
           23,
           11,
           14,
           11,
           14,
           13,
           16,
           0,
           0,
           0,
           0,
           0,
           0,
           2,
           0,
           3,
           3,
           2,
           8,
           10,
           8,
           0,
           0,
           0,
           0,
           0,
           0,
           0,
           0,
           0,
           0,
           0,
           0,
           0,
           0,
           0,
           0,
           0,
           0,
           0,
           0,
           3,
           2,
           0,
           0,
           0,
           0,
           0,
           0,
           0,
           0,
           0,
           0,
           0,
           0,
           0,
           0,
           0,
           0,
           9,
           11,
           14,
           9,
           11,
           14,
           9,
           11,
           14,
           9,
           11,
           14,
           9,
           11,
           14,
           2,
           2,
           3,
           2,
           2,
           3,
           2,
           2,
           3,
           2,
           2,
           3,
           2,
           2,
           3,
           12,
           14,
           17,
           5,
           5,
           6,
           12,
           14,
           17,
           5,
           5,
           6,
           14,
           16,
           20,
           5,
           6,
           7,
           6,
           9,
           12,
           6,
           9,
           12,
           6,
           9,
           12,
           6,
           9,
           12,
           6,
           9,
           12,
           12,
           13,
           17,
           7,
           7,
           8,
           12,
           13,
           17,
           7,
           7,
           8,
           21,
           25,
           30,
           22,
           27,
           32,
           22,
           26,
           32,
           1,
           1,
           2,
           1,
           1,
           2,
           1,
           1,
           2,
           20,
           24,
           29,
           21,
           25,
           30,
           20,
           24,
           29,
           24,
           29,
           17,
           25,
           11,
           14,
           19,
           9,
           20,
           10
          ]
         },
         "mode": "markers",
         "text": [
          "Egg McMuffin",
          "Egg White Delight",
          "Sausage McMuffin",
          "Sausage McMuffin with Egg",
          "Sausage McMuffin with Egg Whites",
          "Steak & Egg McMuffin",
          "Bacon, Egg & Cheese Biscuit (Regular Biscuit)",
          "Bacon, Egg & Cheese Biscuit (Large Biscuit)",
          "Bacon, Egg & Cheese Biscuit with Egg Whites (Regular Biscuit)",
          "Bacon, Egg & Cheese Biscuit with Egg Whites (Large Biscuit)",
          "Sausage Biscuit (Regular Biscuit)",
          "Sausage Biscuit (Large Biscuit)",
          "Sausage Biscuit with Egg (Regular Biscuit)",
          "Sausage Biscuit with Egg (Large Biscuit)",
          "Sausage Biscuit with Egg Whites (Regular Biscuit)",
          "Sausage Biscuit with Egg Whites (Large Biscuit)",
          "Southern Style Chicken Biscuit (Regular Biscuit)",
          "Southern Style Chicken Biscuit (Large Biscuit)",
          "Steak & Egg Biscuit (Regular Biscuit)",
          "Bacon, Egg & Cheese McGriddles",
          "Bacon, Egg & Cheese McGriddles with Egg Whites",
          "Sausage McGriddles",
          "Sausage, Egg & Cheese McGriddles",
          "Sausage, Egg & Cheese McGriddles with Egg Whites",
          "Bacon, Egg & Cheese Bagel",
          "Bacon, Egg & Cheese Bagel with Egg Whites",
          "Steak, Egg & Cheese Bagel",
          "Big Breakfast (Regular Biscuit)",
          "Big Breakfast (Large Biscuit)",
          "Big Breakfast with Egg Whites (Regular Biscuit)",
          "Big Breakfast with Egg Whites (Large Biscuit)",
          "Big Breakfast with Hotcakes (Regular Biscuit)",
          "Big Breakfast with Hotcakes (Large Biscuit)",
          "Big Breakfast with Hotcakes and Egg Whites (Regular Biscuit)",
          "Big Breakfast with Hotcakes and Egg Whites (Large Biscuit)",
          "Hotcakes",
          "Hotcakes and Sausage",
          "Sausage Burrito",
          "Hash Brown",
          "Cinnamon Melts",
          "Fruit & Maple Oatmeal",
          "Fruit & Maple Oatmeal without Brown Sugar",
          "Big Mac",
          "Quarter Pounder with Cheese",
          "Quarter Pounder with Bacon & Cheese",
          "Quarter Pounder with Bacon Habanero Ranch",
          "Quarter Pounder Deluxe",
          "Double Quarter Pounder with Cheese",
          "Hamburger",
          "Cheeseburger",
          "Double Cheeseburger",
          "Bacon Clubhouse Burger",
          "McDouble",
          "Bacon McDouble",
          "Daily Double",
          "Jalapeño Double",
          "McRib",
          "Premium Crispy Chicken Classic Sandwich",
          "Premium Grilled Chicken Classic Sandwich",
          "Premium Crispy Chicken Club Sandwich",
          "Premium Grilled Chicken Club Sandwich",
          "Premium Crispy Chicken Ranch BLT Sandwich",
          "Premium Grilled Chicken Ranch BLT Sandwich",
          "Bacon Clubhouse Crispy Chicken Sandwich",
          "Bacon Clubhouse Grilled Chicken Sandwich",
          "Southern Style Crispy Chicken Sandwich",
          "McChicken",
          "Bacon Cheddar McChicken",
          "Bacon Buffalo Ranch McChicken",
          "Buffalo Ranch McChicken",
          "Premium McWrap Chicken & Bacon (Crispy Chicken)",
          "Premium McWrap Chicken & Bacon (Grilled Chicken)",
          "Premium McWrap Chicken & Ranch (Crispy Chicken)",
          "Premium McWrap Chicken & Ranch (Grilled Chicken)",
          "Premium McWrap Southwest Chicken (Crispy Chicken)",
          "Premium McWrap Southwest Chicken (Grilled Chicken)",
          "Premium McWrap Chicken Sweet Chili (Crispy Chicken)",
          "Premium McWrap Chicken Sweet Chili (Grilled Chicken)",
          "Chicken McNuggets (4 piece)",
          "Chicken McNuggets (6 piece)",
          "Chicken McNuggets (10 piece)",
          "Chicken McNuggets (20 piece)",
          "Chicken McNuggets (40 piece)",
          "Filet-O-Fish",
          "Premium Bacon Ranch Salad (without Chicken)",
          "Premium Bacon Ranch Salad with Crispy Chicken",
          "Premium Bacon Ranch Salad with Grilled Chicken",
          "Premium Southwest Salad (without Chicken)",
          "Premium Southwest Salad with Crispy Chicken",
          "Premium Southwest Salad with Grilled Chicken",
          "Chipotle BBQ Snack Wrap (Crispy Chicken)",
          "Chipotle BBQ Snack Wrap (Grilled Chicken)",
          "Honey Mustard Snack Wrap (Crispy Chicken)",
          "Honey Mustard Snack Wrap (Grilled Chicken)",
          "Ranch Snack Wrap (Crispy Chicken)",
          "Ranch Snack Wrap (Grilled Chicken)",
          "Small French Fries",
          "Medium French Fries",
          "Large French Fries",
          "Kids French Fries",
          "Side Salad",
          "Apple Slices",
          "Fruit 'n Yogurt Parfait",
          "Baked Apple Pie",
          "Chocolate Chip Cookie",
          "Oatmeal Raisin Cookie",
          "Kids Ice Cream Cone",
          "Hot Fudge Sundae",
          "Hot Caramel Sundae",
          "Strawberry Sundae",
          "Coca-Cola Classic (Small)",
          "Coca-Cola Classic (Medium)",
          "Coca-Cola Classic (Large)",
          "Coca-Cola Classic (Child)",
          "Diet Coke (Small)",
          "Diet Coke (Medium)",
          "Diet Coke (Large)",
          "Diet Coke (Child)",
          "Dr Pepper (Small)",
          "Dr Pepper (Medium)",
          "Dr Pepper (Large)",
          "Dr Pepper (Child)",
          "Diet Dr Pepper (Small)",
          "Diet Dr Pepper (Medium)",
          "Diet Dr Pepper (Large)",
          "Diet Dr Pepper (Child)",
          "Sprite (Small)",
          "Sprite (Medium)",
          "Sprite (Large)",
          "Sprite (Child)",
          "1% Low Fat Milk Jug",
          "Fat Free Chocolate Milk Jug",
          "Minute Maid 100% Apple Juice Box",
          "Minute Maid Orange Juice (Small)",
          "Minute Maid Orange Juice (Medium)",
          "Minute Maid Orange Juice (Large)",
          "Dasani Water Bottle",
          "Iced Tea (Small)",
          "Iced Tea (Medium)",
          "Iced Tea (Large)",
          "Iced Tea (Child)",
          "Sweet Tea (Small)",
          "Sweet Tea (Medium)",
          "Sweet Tea (Large)",
          "Sweet Tea (Child)",
          "Coffee (Small)",
          "Coffee (Medium)",
          "Coffee (Large)",
          "Latte (Small)",
          "Latte (Medium)",
          "Latte (Large)",
          "Caramel Latte (Small)",
          "Caramel Latte (Medium)",
          "Caramel Latte (Large)",
          "Hazelnut Latte (Small)",
          "Hazelnut Latte (Medium)",
          "Hazelnut Latte (Large)",
          "French Vanilla Latte (Small)",
          "French Vanilla Latte (Medium)",
          "French Vanilla Latte (Large)",
          "Latte with Sugar Free French Vanilla Syrup (Small)",
          "Latte with Sugar Free French Vanilla Syrup (Medium)",
          "Latte with Sugar Free French Vanilla Syrup (Large)",
          "Nonfat Latte (Small)",
          "Nonfat Latte (Medium)",
          "Nonfat Latte (Large)",
          "Nonfat Caramel Latte (Small)",
          "Nonfat Caramel Latte (Medium)",
          "Nonfat Caramel Latte (Large)",
          "Nonfat Hazelnut Latte (Small)",
          "Nonfat Hazelnut Latte (Medium)",
          "Nonfat Hazelnut Latte (Large)",
          "Nonfat French Vanilla Latte (Small)",
          "Nonfat French Vanilla Latte (Medium)",
          "Nonfat French Vanilla Latte (Large)",
          "Nonfat Latte with Sugar Free French Vanilla Syrup (Small)",
          "Nonfat Latte with Sugar Free French Vanilla Syrup (Medium)",
          "Nonfat Latte with Sugar Free French Vanilla Syrup (Large)",
          "Mocha (Small)",
          "Mocha (Medium)",
          "Mocha (Large)",
          "Mocha with Nonfat Milk (Small)",
          "Mocha with Nonfat Milk (Medium)",
          "Mocha with Nonfat Milk (Large)",
          "Caramel Mocha (Small)",
          "Caramel Mocha (Medium)",
          "Caramel Mocha (Large)",
          "Nonfat Caramel Mocha (Small)",
          "Nonfat Caramel Mocha (Medium)",
          "Nonfat Caramel Mocha (Large)",
          "Hot Chocolate (Small)",
          "Hot Chocolate (Medium)",
          "Hot Chocolate (Large)",
          "Hot Chocolate with Nonfat Milk (Small)",
          "Hot Chocolate with Nonfat Milk (Medium)",
          "Hot Chocolate with Nonfat Milk (Large)",
          "Regular Iced Coffee (Small)",
          "Regular Iced Coffee (Medium)",
          "Regular Iced Coffee (Large)",
          "Caramel Iced Coffee (Small)",
          "Caramel Iced Coffee (Medium)",
          "Caramel Iced Coffee (Large)",
          "Hazelnut Iced Coffee (Small)",
          "Hazelnut Iced Coffee (Medium)",
          "Hazelnut Iced Coffee (Large)",
          "French Vanilla Iced Coffee (Small)",
          "French Vanilla Iced Coffee (Medium)",
          "French Vanilla Iced Coffee (Large)",
          "Iced Coffee with Sugar Free French Vanilla Syrup (Small)",
          "Iced Coffee with Sugar Free French Vanilla Syrup (Medium)",
          "Iced Coffee with Sugar Free French Vanilla Syrup (Large)",
          "Iced Mocha (Small)",
          "Iced Mocha (Medium)",
          "Iced Mocha (Large)",
          "Iced Mocha with Nonfat Milk (Small)",
          "Iced Mocha with Nonfat Milk (Medium)",
          "Iced Mocha with Nonfat Milk (Large)",
          "Iced Caramel Mocha (Small)",
          "Iced Caramel Mocha (Medium)",
          "Iced Caramel Mocha (Large)",
          "Iced Nonfat Caramel Mocha (Small)",
          "Iced Nonfat Caramel Mocha (Medium)",
          "Iced Nonfat Caramel Mocha (Large)",
          "Frappé Mocha (Small)",
          "Frappé Mocha (Medium)",
          "Frappé Mocha (Large)",
          "Frappé Caramel (Small)",
          "Frappé Caramel (Medium)",
          "Frappé Caramel (Large)",
          "Frappé Chocolate Chip (Small)",
          "Frappé Chocolate Chip (Medium)",
          "Frappé Chocolate Chip (Large)",
          "Blueberry Pomegranate Smoothie (Small)",
          "Blueberry Pomegranate Smoothie (Medium)",
          "Blueberry Pomegranate Smoothie (Large)",
          "Strawberry Banana Smoothie (Small)",
          "Strawberry Banana Smoothie (Medium)",
          "Strawberry Banana Smoothie (Large)",
          "Mango Pineapple Smoothie (Small)",
          "Mango Pineapple Smoothie (Medium)",
          "Mango Pineapple Smoothie (Large)",
          "Vanilla Shake (Small)",
          "Vanilla Shake (Medium)",
          "Vanilla Shake (Large)",
          "Strawberry Shake (Small)",
          "Strawberry Shake (Medium)",
          "Strawberry Shake (Large)",
          "Chocolate Shake (Small)",
          "Chocolate Shake (Medium)",
          "Chocolate Shake (Large)",
          "Shamrock Shake (Medium)",
          "Shamrock Shake (Large)",
          "McFlurry with M&M’s Candies (Small)",
          "McFlurry with M&M’s Candies (Medium)",
          "McFlurry with M&M’s Candies (Snack)",
          "McFlurry with Oreo Cookies (Small)",
          "McFlurry with Oreo Cookies (Medium)",
          "McFlurry with Oreo Cookies (Snack)",
          "McFlurry with Reese's Peanut Butter Cups (Medium)",
          "McFlurry with Reese's Peanut Butter Cups (Snack)"
         ],
         "type": "scatter",
         "x": [
          "Egg McMuffin",
          "Egg White Delight",
          "Sausage McMuffin",
          "Sausage McMuffin with Egg",
          "Sausage McMuffin with Egg Whites",
          "Steak & Egg McMuffin",
          "Bacon, Egg & Cheese Biscuit (Regular Biscuit)",
          "Bacon, Egg & Cheese Biscuit (Large Biscuit)",
          "Bacon, Egg & Cheese Biscuit with Egg Whites (Regular Biscuit)",
          "Bacon, Egg & Cheese Biscuit with Egg Whites (Large Biscuit)",
          "Sausage Biscuit (Regular Biscuit)",
          "Sausage Biscuit (Large Biscuit)",
          "Sausage Biscuit with Egg (Regular Biscuit)",
          "Sausage Biscuit with Egg (Large Biscuit)",
          "Sausage Biscuit with Egg Whites (Regular Biscuit)",
          "Sausage Biscuit with Egg Whites (Large Biscuit)",
          "Southern Style Chicken Biscuit (Regular Biscuit)",
          "Southern Style Chicken Biscuit (Large Biscuit)",
          "Steak & Egg Biscuit (Regular Biscuit)",
          "Bacon, Egg & Cheese McGriddles",
          "Bacon, Egg & Cheese McGriddles with Egg Whites",
          "Sausage McGriddles",
          "Sausage, Egg & Cheese McGriddles",
          "Sausage, Egg & Cheese McGriddles with Egg Whites",
          "Bacon, Egg & Cheese Bagel",
          "Bacon, Egg & Cheese Bagel with Egg Whites",
          "Steak, Egg & Cheese Bagel",
          "Big Breakfast (Regular Biscuit)",
          "Big Breakfast (Large Biscuit)",
          "Big Breakfast with Egg Whites (Regular Biscuit)",
          "Big Breakfast with Egg Whites (Large Biscuit)",
          "Big Breakfast with Hotcakes (Regular Biscuit)",
          "Big Breakfast with Hotcakes (Large Biscuit)",
          "Big Breakfast with Hotcakes and Egg Whites (Regular Biscuit)",
          "Big Breakfast with Hotcakes and Egg Whites (Large Biscuit)",
          "Hotcakes",
          "Hotcakes and Sausage",
          "Sausage Burrito",
          "Hash Brown",
          "Cinnamon Melts",
          "Fruit & Maple Oatmeal",
          "Fruit & Maple Oatmeal without Brown Sugar",
          "Big Mac",
          "Quarter Pounder with Cheese",
          "Quarter Pounder with Bacon & Cheese",
          "Quarter Pounder with Bacon Habanero Ranch",
          "Quarter Pounder Deluxe",
          "Double Quarter Pounder with Cheese",
          "Hamburger",
          "Cheeseburger",
          "Double Cheeseburger",
          "Bacon Clubhouse Burger",
          "McDouble",
          "Bacon McDouble",
          "Daily Double",
          "Jalapeño Double",
          "McRib",
          "Premium Crispy Chicken Classic Sandwich",
          "Premium Grilled Chicken Classic Sandwich",
          "Premium Crispy Chicken Club Sandwich",
          "Premium Grilled Chicken Club Sandwich",
          "Premium Crispy Chicken Ranch BLT Sandwich",
          "Premium Grilled Chicken Ranch BLT Sandwich",
          "Bacon Clubhouse Crispy Chicken Sandwich",
          "Bacon Clubhouse Grilled Chicken Sandwich",
          "Southern Style Crispy Chicken Sandwich",
          "McChicken",
          "Bacon Cheddar McChicken",
          "Bacon Buffalo Ranch McChicken",
          "Buffalo Ranch McChicken",
          "Premium McWrap Chicken & Bacon (Crispy Chicken)",
          "Premium McWrap Chicken & Bacon (Grilled Chicken)",
          "Premium McWrap Chicken & Ranch (Crispy Chicken)",
          "Premium McWrap Chicken & Ranch (Grilled Chicken)",
          "Premium McWrap Southwest Chicken (Crispy Chicken)",
          "Premium McWrap Southwest Chicken (Grilled Chicken)",
          "Premium McWrap Chicken Sweet Chili (Crispy Chicken)",
          "Premium McWrap Chicken Sweet Chili (Grilled Chicken)",
          "Chicken McNuggets (4 piece)",
          "Chicken McNuggets (6 piece)",
          "Chicken McNuggets (10 piece)",
          "Chicken McNuggets (20 piece)",
          "Chicken McNuggets (40 piece)",
          "Filet-O-Fish",
          "Premium Bacon Ranch Salad (without Chicken)",
          "Premium Bacon Ranch Salad with Crispy Chicken",
          "Premium Bacon Ranch Salad with Grilled Chicken",
          "Premium Southwest Salad (without Chicken)",
          "Premium Southwest Salad with Crispy Chicken",
          "Premium Southwest Salad with Grilled Chicken",
          "Chipotle BBQ Snack Wrap (Crispy Chicken)",
          "Chipotle BBQ Snack Wrap (Grilled Chicken)",
          "Honey Mustard Snack Wrap (Crispy Chicken)",
          "Honey Mustard Snack Wrap (Grilled Chicken)",
          "Ranch Snack Wrap (Crispy Chicken)",
          "Ranch Snack Wrap (Grilled Chicken)",
          "Small French Fries",
          "Medium French Fries",
          "Large French Fries",
          "Kids French Fries",
          "Side Salad",
          "Apple Slices",
          "Fruit 'n Yogurt Parfait",
          "Baked Apple Pie",
          "Chocolate Chip Cookie",
          "Oatmeal Raisin Cookie",
          "Kids Ice Cream Cone",
          "Hot Fudge Sundae",
          "Hot Caramel Sundae",
          "Strawberry Sundae",
          "Coca-Cola Classic (Small)",
          "Coca-Cola Classic (Medium)",
          "Coca-Cola Classic (Large)",
          "Coca-Cola Classic (Child)",
          "Diet Coke (Small)",
          "Diet Coke (Medium)",
          "Diet Coke (Large)",
          "Diet Coke (Child)",
          "Dr Pepper (Small)",
          "Dr Pepper (Medium)",
          "Dr Pepper (Large)",
          "Dr Pepper (Child)",
          "Diet Dr Pepper (Small)",
          "Diet Dr Pepper (Medium)",
          "Diet Dr Pepper (Large)",
          "Diet Dr Pepper (Child)",
          "Sprite (Small)",
          "Sprite (Medium)",
          "Sprite (Large)",
          "Sprite (Child)",
          "1% Low Fat Milk Jug",
          "Fat Free Chocolate Milk Jug",
          "Minute Maid 100% Apple Juice Box",
          "Minute Maid Orange Juice (Small)",
          "Minute Maid Orange Juice (Medium)",
          "Minute Maid Orange Juice (Large)",
          "Dasani Water Bottle",
          "Iced Tea (Small)",
          "Iced Tea (Medium)",
          "Iced Tea (Large)",
          "Iced Tea (Child)",
          "Sweet Tea (Small)",
          "Sweet Tea (Medium)",
          "Sweet Tea (Large)",
          "Sweet Tea (Child)",
          "Coffee (Small)",
          "Coffee (Medium)",
          "Coffee (Large)",
          "Latte (Small)",
          "Latte (Medium)",
          "Latte (Large)",
          "Caramel Latte (Small)",
          "Caramel Latte (Medium)",
          "Caramel Latte (Large)",
          "Hazelnut Latte (Small)",
          "Hazelnut Latte (Medium)",
          "Hazelnut Latte (Large)",
          "French Vanilla Latte (Small)",
          "French Vanilla Latte (Medium)",
          "French Vanilla Latte (Large)",
          "Latte with Sugar Free French Vanilla Syrup (Small)",
          "Latte with Sugar Free French Vanilla Syrup (Medium)",
          "Latte with Sugar Free French Vanilla Syrup (Large)",
          "Nonfat Latte (Small)",
          "Nonfat Latte (Medium)",
          "Nonfat Latte (Large)",
          "Nonfat Caramel Latte (Small)",
          "Nonfat Caramel Latte (Medium)",
          "Nonfat Caramel Latte (Large)",
          "Nonfat Hazelnut Latte (Small)",
          "Nonfat Hazelnut Latte (Medium)",
          "Nonfat Hazelnut Latte (Large)",
          "Nonfat French Vanilla Latte (Small)",
          "Nonfat French Vanilla Latte (Medium)",
          "Nonfat French Vanilla Latte (Large)",
          "Nonfat Latte with Sugar Free French Vanilla Syrup (Small)",
          "Nonfat Latte with Sugar Free French Vanilla Syrup (Medium)",
          "Nonfat Latte with Sugar Free French Vanilla Syrup (Large)",
          "Mocha (Small)",
          "Mocha (Medium)",
          "Mocha (Large)",
          "Mocha with Nonfat Milk (Small)",
          "Mocha with Nonfat Milk (Medium)",
          "Mocha with Nonfat Milk (Large)",
          "Caramel Mocha (Small)",
          "Caramel Mocha (Medium)",
          "Caramel Mocha (Large)",
          "Nonfat Caramel Mocha (Small)",
          "Nonfat Caramel Mocha (Medium)",
          "Nonfat Caramel Mocha (Large)",
          "Hot Chocolate (Small)",
          "Hot Chocolate (Medium)",
          "Hot Chocolate (Large)",
          "Hot Chocolate with Nonfat Milk (Small)",
          "Hot Chocolate with Nonfat Milk (Medium)",
          "Hot Chocolate with Nonfat Milk (Large)",
          "Regular Iced Coffee (Small)",
          "Regular Iced Coffee (Medium)",
          "Regular Iced Coffee (Large)",
          "Caramel Iced Coffee (Small)",
          "Caramel Iced Coffee (Medium)",
          "Caramel Iced Coffee (Large)",
          "Hazelnut Iced Coffee (Small)",
          "Hazelnut Iced Coffee (Medium)",
          "Hazelnut Iced Coffee (Large)",
          "French Vanilla Iced Coffee (Small)",
          "French Vanilla Iced Coffee (Medium)",
          "French Vanilla Iced Coffee (Large)",
          "Iced Coffee with Sugar Free French Vanilla Syrup (Small)",
          "Iced Coffee with Sugar Free French Vanilla Syrup (Medium)",
          "Iced Coffee with Sugar Free French Vanilla Syrup (Large)",
          "Iced Mocha (Small)",
          "Iced Mocha (Medium)",
          "Iced Mocha (Large)",
          "Iced Mocha with Nonfat Milk (Small)",
          "Iced Mocha with Nonfat Milk (Medium)",
          "Iced Mocha with Nonfat Milk (Large)",
          "Iced Caramel Mocha (Small)",
          "Iced Caramel Mocha (Medium)",
          "Iced Caramel Mocha (Large)",
          "Iced Nonfat Caramel Mocha (Small)",
          "Iced Nonfat Caramel Mocha (Medium)",
          "Iced Nonfat Caramel Mocha (Large)",
          "Frappé Mocha (Small)",
          "Frappé Mocha (Medium)",
          "Frappé Mocha (Large)",
          "Frappé Caramel (Small)",
          "Frappé Caramel (Medium)",
          "Frappé Caramel (Large)",
          "Frappé Chocolate Chip (Small)",
          "Frappé Chocolate Chip (Medium)",
          "Frappé Chocolate Chip (Large)",
          "Blueberry Pomegranate Smoothie (Small)",
          "Blueberry Pomegranate Smoothie (Medium)",
          "Blueberry Pomegranate Smoothie (Large)",
          "Strawberry Banana Smoothie (Small)",
          "Strawberry Banana Smoothie (Medium)",
          "Strawberry Banana Smoothie (Large)",
          "Mango Pineapple Smoothie (Small)",
          "Mango Pineapple Smoothie (Medium)",
          "Mango Pineapple Smoothie (Large)",
          "Vanilla Shake (Small)",
          "Vanilla Shake (Medium)",
          "Vanilla Shake (Large)",
          "Strawberry Shake (Small)",
          "Strawberry Shake (Medium)",
          "Strawberry Shake (Large)",
          "Chocolate Shake (Small)",
          "Chocolate Shake (Medium)",
          "Chocolate Shake (Large)",
          "Shamrock Shake (Medium)",
          "Shamrock Shake (Large)",
          "McFlurry with M&M’s Candies (Small)",
          "McFlurry with M&M’s Candies (Medium)",
          "McFlurry with M&M’s Candies (Snack)",
          "McFlurry with Oreo Cookies (Small)",
          "McFlurry with Oreo Cookies (Medium)",
          "McFlurry with Oreo Cookies (Snack)",
          "McFlurry with Reese's Peanut Butter Cups (Medium)",
          "McFlurry with Reese's Peanut Butter Cups (Snack)"
         ],
         "y": [
          87,
          8,
          15,
          95,
          16,
          100,
          83,
          83,
          11,
          11,
          10,
          10,
          83,
          83,
          11,
          11,
          10,
          10,
          93,
          84,
          11,
          11,
          89,
          17,
          92,
          20,
          99,
          185,
          185,
          12,
          12,
          192,
          192,
          19,
          19,
          7,
          17,
          38,
          0,
          5,
          2,
          2,
          28,
          31,
          34,
          35,
          28,
          53,
          10,
          15,
          30,
          38,
          25,
          30,
          27,
          27,
          23,
          16,
          22,
          29,
          35,
          24,
          30,
          31,
          37,
          14,
          11,
          21,
          17,
          11,
          26,
          32,
          21,
          27,
          21,
          27,
          16,
          22,
          9,
          13,
          22,
          44,
          89,
          14,
          9,
          23,
          29,
          3,
          17,
          23,
          11,
          14,
          11,
          14,
          13,
          16,
          0,
          0,
          0,
          0,
          0,
          0,
          2,
          0,
          3,
          3,
          2,
          8,
          10,
          8,
          0,
          0,
          0,
          0,
          0,
          0,
          0,
          0,
          0,
          0,
          0,
          0,
          0,
          0,
          0,
          0,
          0,
          0,
          0,
          0,
          3,
          2,
          0,
          0,
          0,
          0,
          0,
          0,
          0,
          0,
          0,
          0,
          0,
          0,
          0,
          0,
          0,
          0,
          9,
          11,
          14,
          9,
          11,
          14,
          9,
          11,
          14,
          9,
          11,
          14,
          9,
          11,
          14,
          2,
          2,
          3,
          2,
          2,
          3,
          2,
          2,
          3,
          2,
          2,
          3,
          2,
          2,
          3,
          12,
          14,
          17,
          5,
          5,
          6,
          12,
          14,
          17,
          5,
          5,
          6,
          14,
          16,
          20,
          5,
          6,
          7,
          6,
          9,
          12,
          6,
          9,
          12,
          6,
          9,
          12,
          6,
          9,
          12,
          6,
          9,
          12,
          12,
          13,
          17,
          7,
          7,
          8,
          12,
          13,
          17,
          7,
          7,
          8,
          21,
          25,
          30,
          22,
          27,
          32,
          22,
          26,
          32,
          1,
          1,
          2,
          1,
          1,
          2,
          1,
          1,
          2,
          20,
          24,
          29,
          21,
          25,
          30,
          20,
          24,
          29,
          24,
          29,
          17,
          25,
          11,
          14,
          19,
          9,
          20,
          10
         ]
        }
       ],
       "layout": {
        "autosize": true,
        "hovermode": "closest",
        "showlegend": false,
        "template": {
         "data": {
          "bar": [
           {
            "error_x": {
             "color": "#2a3f5f"
            },
            "error_y": {
             "color": "#2a3f5f"
            },
            "marker": {
             "line": {
              "color": "#E5ECF6",
              "width": 0.5
             }
            },
            "type": "bar"
           }
          ],
          "barpolar": [
           {
            "marker": {
             "line": {
              "color": "#E5ECF6",
              "width": 0.5
             }
            },
            "type": "barpolar"
           }
          ],
          "carpet": [
           {
            "aaxis": {
             "endlinecolor": "#2a3f5f",
             "gridcolor": "white",
             "linecolor": "white",
             "minorgridcolor": "white",
             "startlinecolor": "#2a3f5f"
            },
            "baxis": {
             "endlinecolor": "#2a3f5f",
             "gridcolor": "white",
             "linecolor": "white",
             "minorgridcolor": "white",
             "startlinecolor": "#2a3f5f"
            },
            "type": "carpet"
           }
          ],
          "choropleth": [
           {
            "colorbar": {
             "outlinewidth": 0,
             "ticks": ""
            },
            "type": "choropleth"
           }
          ],
          "contour": [
           {
            "colorbar": {
             "outlinewidth": 0,
             "ticks": ""
            },
            "colorscale": [
             [
              0,
              "#0d0887"
             ],
             [
              0.1111111111111111,
              "#46039f"
             ],
             [
              0.2222222222222222,
              "#7201a8"
             ],
             [
              0.3333333333333333,
              "#9c179e"
             ],
             [
              0.4444444444444444,
              "#bd3786"
             ],
             [
              0.5555555555555556,
              "#d8576b"
             ],
             [
              0.6666666666666666,
              "#ed7953"
             ],
             [
              0.7777777777777778,
              "#fb9f3a"
             ],
             [
              0.8888888888888888,
              "#fdca26"
             ],
             [
              1,
              "#f0f921"
             ]
            ],
            "type": "contour"
           }
          ],
          "contourcarpet": [
           {
            "colorbar": {
             "outlinewidth": 0,
             "ticks": ""
            },
            "type": "contourcarpet"
           }
          ],
          "heatmap": [
           {
            "colorbar": {
             "outlinewidth": 0,
             "ticks": ""
            },
            "colorscale": [
             [
              0,
              "#0d0887"
             ],
             [
              0.1111111111111111,
              "#46039f"
             ],
             [
              0.2222222222222222,
              "#7201a8"
             ],
             [
              0.3333333333333333,
              "#9c179e"
             ],
             [
              0.4444444444444444,
              "#bd3786"
             ],
             [
              0.5555555555555556,
              "#d8576b"
             ],
             [
              0.6666666666666666,
              "#ed7953"
             ],
             [
              0.7777777777777778,
              "#fb9f3a"
             ],
             [
              0.8888888888888888,
              "#fdca26"
             ],
             [
              1,
              "#f0f921"
             ]
            ],
            "type": "heatmap"
           }
          ],
          "heatmapgl": [
           {
            "colorbar": {
             "outlinewidth": 0,
             "ticks": ""
            },
            "colorscale": [
             [
              0,
              "#0d0887"
             ],
             [
              0.1111111111111111,
              "#46039f"
             ],
             [
              0.2222222222222222,
              "#7201a8"
             ],
             [
              0.3333333333333333,
              "#9c179e"
             ],
             [
              0.4444444444444444,
              "#bd3786"
             ],
             [
              0.5555555555555556,
              "#d8576b"
             ],
             [
              0.6666666666666666,
              "#ed7953"
             ],
             [
              0.7777777777777778,
              "#fb9f3a"
             ],
             [
              0.8888888888888888,
              "#fdca26"
             ],
             [
              1,
              "#f0f921"
             ]
            ],
            "type": "heatmapgl"
           }
          ],
          "histogram": [
           {
            "marker": {
             "colorbar": {
              "outlinewidth": 0,
              "ticks": ""
             }
            },
            "type": "histogram"
           }
          ],
          "histogram2d": [
           {
            "colorbar": {
             "outlinewidth": 0,
             "ticks": ""
            },
            "colorscale": [
             [
              0,
              "#0d0887"
             ],
             [
              0.1111111111111111,
              "#46039f"
             ],
             [
              0.2222222222222222,
              "#7201a8"
             ],
             [
              0.3333333333333333,
              "#9c179e"
             ],
             [
              0.4444444444444444,
              "#bd3786"
             ],
             [
              0.5555555555555556,
              "#d8576b"
             ],
             [
              0.6666666666666666,
              "#ed7953"
             ],
             [
              0.7777777777777778,
              "#fb9f3a"
             ],
             [
              0.8888888888888888,
              "#fdca26"
             ],
             [
              1,
              "#f0f921"
             ]
            ],
            "type": "histogram2d"
           }
          ],
          "histogram2dcontour": [
           {
            "colorbar": {
             "outlinewidth": 0,
             "ticks": ""
            },
            "colorscale": [
             [
              0,
              "#0d0887"
             ],
             [
              0.1111111111111111,
              "#46039f"
             ],
             [
              0.2222222222222222,
              "#7201a8"
             ],
             [
              0.3333333333333333,
              "#9c179e"
             ],
             [
              0.4444444444444444,
              "#bd3786"
             ],
             [
              0.5555555555555556,
              "#d8576b"
             ],
             [
              0.6666666666666666,
              "#ed7953"
             ],
             [
              0.7777777777777778,
              "#fb9f3a"
             ],
             [
              0.8888888888888888,
              "#fdca26"
             ],
             [
              1,
              "#f0f921"
             ]
            ],
            "type": "histogram2dcontour"
           }
          ],
          "mesh3d": [
           {
            "colorbar": {
             "outlinewidth": 0,
             "ticks": ""
            },
            "type": "mesh3d"
           }
          ],
          "parcoords": [
           {
            "line": {
             "colorbar": {
              "outlinewidth": 0,
              "ticks": ""
             }
            },
            "type": "parcoords"
           }
          ],
          "pie": [
           {
            "automargin": true,
            "type": "pie"
           }
          ],
          "scatter": [
           {
            "marker": {
             "colorbar": {
              "outlinewidth": 0,
              "ticks": ""
             }
            },
            "type": "scatter"
           }
          ],
          "scatter3d": [
           {
            "line": {
             "colorbar": {
              "outlinewidth": 0,
              "ticks": ""
             }
            },
            "marker": {
             "colorbar": {
              "outlinewidth": 0,
              "ticks": ""
             }
            },
            "type": "scatter3d"
           }
          ],
          "scattercarpet": [
           {
            "marker": {
             "colorbar": {
              "outlinewidth": 0,
              "ticks": ""
             }
            },
            "type": "scattercarpet"
           }
          ],
          "scattergeo": [
           {
            "marker": {
             "colorbar": {
              "outlinewidth": 0,
              "ticks": ""
             }
            },
            "type": "scattergeo"
           }
          ],
          "scattergl": [
           {
            "marker": {
             "colorbar": {
              "outlinewidth": 0,
              "ticks": ""
             }
            },
            "type": "scattergl"
           }
          ],
          "scattermapbox": [
           {
            "marker": {
             "colorbar": {
              "outlinewidth": 0,
              "ticks": ""
             }
            },
            "type": "scattermapbox"
           }
          ],
          "scatterpolar": [
           {
            "marker": {
             "colorbar": {
              "outlinewidth": 0,
              "ticks": ""
             }
            },
            "type": "scatterpolar"
           }
          ],
          "scatterpolargl": [
           {
            "marker": {
             "colorbar": {
              "outlinewidth": 0,
              "ticks": ""
             }
            },
            "type": "scatterpolargl"
           }
          ],
          "scatterternary": [
           {
            "marker": {
             "colorbar": {
              "outlinewidth": 0,
              "ticks": ""
             }
            },
            "type": "scatterternary"
           }
          ],
          "surface": [
           {
            "colorbar": {
             "outlinewidth": 0,
             "ticks": ""
            },
            "colorscale": [
             [
              0,
              "#0d0887"
             ],
             [
              0.1111111111111111,
              "#46039f"
             ],
             [
              0.2222222222222222,
              "#7201a8"
             ],
             [
              0.3333333333333333,
              "#9c179e"
             ],
             [
              0.4444444444444444,
              "#bd3786"
             ],
             [
              0.5555555555555556,
              "#d8576b"
             ],
             [
              0.6666666666666666,
              "#ed7953"
             ],
             [
              0.7777777777777778,
              "#fb9f3a"
             ],
             [
              0.8888888888888888,
              "#fdca26"
             ],
             [
              1,
              "#f0f921"
             ]
            ],
            "type": "surface"
           }
          ],
          "table": [
           {
            "cells": {
             "fill": {
              "color": "#EBF0F8"
             },
             "line": {
              "color": "white"
             }
            },
            "header": {
             "fill": {
              "color": "#C8D4E3"
             },
             "line": {
              "color": "white"
             }
            },
            "type": "table"
           }
          ]
         },
         "layout": {
          "annotationdefaults": {
           "arrowcolor": "#2a3f5f",
           "arrowhead": 0,
           "arrowwidth": 1
          },
          "coloraxis": {
           "colorbar": {
            "outlinewidth": 0,
            "ticks": ""
           }
          },
          "colorscale": {
           "diverging": [
            [
             0,
             "#8e0152"
            ],
            [
             0.1,
             "#c51b7d"
            ],
            [
             0.2,
             "#de77ae"
            ],
            [
             0.3,
             "#f1b6da"
            ],
            [
             0.4,
             "#fde0ef"
            ],
            [
             0.5,
             "#f7f7f7"
            ],
            [
             0.6,
             "#e6f5d0"
            ],
            [
             0.7,
             "#b8e186"
            ],
            [
             0.8,
             "#7fbc41"
            ],
            [
             0.9,
             "#4d9221"
            ],
            [
             1,
             "#276419"
            ]
           ],
           "sequential": [
            [
             0,
             "#0d0887"
            ],
            [
             0.1111111111111111,
             "#46039f"
            ],
            [
             0.2222222222222222,
             "#7201a8"
            ],
            [
             0.3333333333333333,
             "#9c179e"
            ],
            [
             0.4444444444444444,
             "#bd3786"
            ],
            [
             0.5555555555555556,
             "#d8576b"
            ],
            [
             0.6666666666666666,
             "#ed7953"
            ],
            [
             0.7777777777777778,
             "#fb9f3a"
            ],
            [
             0.8888888888888888,
             "#fdca26"
            ],
            [
             1,
             "#f0f921"
            ]
           ],
           "sequentialminus": [
            [
             0,
             "#0d0887"
            ],
            [
             0.1111111111111111,
             "#46039f"
            ],
            [
             0.2222222222222222,
             "#7201a8"
            ],
            [
             0.3333333333333333,
             "#9c179e"
            ],
            [
             0.4444444444444444,
             "#bd3786"
            ],
            [
             0.5555555555555556,
             "#d8576b"
            ],
            [
             0.6666666666666666,
             "#ed7953"
            ],
            [
             0.7777777777777778,
             "#fb9f3a"
            ],
            [
             0.8888888888888888,
             "#fdca26"
            ],
            [
             1,
             "#f0f921"
            ]
           ]
          },
          "colorway": [
           "#636efa",
           "#EF553B",
           "#00cc96",
           "#ab63fa",
           "#FFA15A",
           "#19d3f3",
           "#FF6692",
           "#B6E880",
           "#FF97FF",
           "#FECB52"
          ],
          "font": {
           "color": "#2a3f5f"
          },
          "geo": {
           "bgcolor": "white",
           "lakecolor": "white",
           "landcolor": "#E5ECF6",
           "showlakes": true,
           "showland": true,
           "subunitcolor": "white"
          },
          "hoverlabel": {
           "align": "left"
          },
          "hovermode": "closest",
          "mapbox": {
           "style": "light"
          },
          "paper_bgcolor": "white",
          "plot_bgcolor": "#E5ECF6",
          "polar": {
           "angularaxis": {
            "gridcolor": "white",
            "linecolor": "white",
            "ticks": ""
           },
           "bgcolor": "#E5ECF6",
           "radialaxis": {
            "gridcolor": "white",
            "linecolor": "white",
            "ticks": ""
           }
          },
          "scene": {
           "xaxis": {
            "backgroundcolor": "#E5ECF6",
            "gridcolor": "white",
            "gridwidth": 2,
            "linecolor": "white",
            "showbackground": true,
            "ticks": "",
            "zerolinecolor": "white"
           },
           "yaxis": {
            "backgroundcolor": "#E5ECF6",
            "gridcolor": "white",
            "gridwidth": 2,
            "linecolor": "white",
            "showbackground": true,
            "ticks": "",
            "zerolinecolor": "white"
           },
           "zaxis": {
            "backgroundcolor": "#E5ECF6",
            "gridcolor": "white",
            "gridwidth": 2,
            "linecolor": "white",
            "showbackground": true,
            "ticks": "",
            "zerolinecolor": "white"
           }
          },
          "shapedefaults": {
           "line": {
            "color": "#2a3f5f"
           }
          },
          "ternary": {
           "aaxis": {
            "gridcolor": "white",
            "linecolor": "white",
            "ticks": ""
           },
           "baxis": {
            "gridcolor": "white",
            "linecolor": "white",
            "ticks": ""
           },
           "bgcolor": "#E5ECF6",
           "caxis": {
            "gridcolor": "white",
            "linecolor": "white",
            "ticks": ""
           }
          },
          "title": {
           "x": 0.05
          },
          "xaxis": {
           "automargin": true,
           "gridcolor": "white",
           "linecolor": "white",
           "ticks": "",
           "title": {
            "standoff": 15
           },
           "zerolinecolor": "white",
           "zerolinewidth": 2
          },
          "yaxis": {
           "automargin": true,
           "gridcolor": "white",
           "linecolor": "white",
           "ticks": "",
           "title": {
            "standoff": 15
           },
           "zerolinecolor": "white",
           "zerolinewidth": 2
          }
         }
        },
        "title": {
         "text": "Scatter plot of Cholesterol (% Daily Value) per Item on the Menu"
        },
        "xaxis": {
         "showgrid": false,
         "showline": false,
         "zeroline": false
        },
        "yaxis": {
         "gridwidth": 2,
         "showgrid": false,
         "showline": false,
         "ticklen": 5,
         "title": {
          "text": "Cholesterol (% Daily Value)"
         },
         "zeroline": false
        }
       }
      },
      "text/html": [
       "<div>\n",
       "        \n",
       "        \n",
       "            <div id=\"32499eaa-e267-4784-a437-e310f76798cb\" class=\"plotly-graph-div\" style=\"height:525px; width:100%;\"></div>\n",
       "            <script type=\"text/javascript\">\n",
       "                require([\"plotly\"], function(Plotly) {\n",
       "                    window.PLOTLYENV=window.PLOTLYENV || {};\n",
       "                    \n",
       "                if (document.getElementById(\"32499eaa-e267-4784-a437-e310f76798cb\")) {\n",
       "                    Plotly.newPlot(\n",
       "                        '32499eaa-e267-4784-a437-e310f76798cb',\n",
       "                        [{\"marker\": {\"color\": [87, 8, 15, 95, 16, 100, 83, 83, 11, 11, 10, 10, 83, 83, 11, 11, 10, 10, 93, 84, 11, 11, 89, 17, 92, 20, 99, 185, 185, 12, 12, 192, 192, 19, 19, 7, 17, 38, 0, 5, 2, 2, 28, 31, 34, 35, 28, 53, 10, 15, 30, 38, 25, 30, 27, 27, 23, 16, 22, 29, 35, 24, 30, 31, 37, 14, 11, 21, 17, 11, 26, 32, 21, 27, 21, 27, 16, 22, 9, 13, 22, 44, 89, 14, 9, 23, 29, 3, 17, 23, 11, 14, 11, 14, 13, 16, 0, 0, 0, 0, 0, 0, 2, 0, 3, 3, 2, 8, 10, 8, 0, 0, 0, 0, 0, 0, 0, 0, 0, 0, 0, 0, 0, 0, 0, 0, 0, 0, 0, 0, 3, 2, 0, 0, 0, 0, 0, 0, 0, 0, 0, 0, 0, 0, 0, 0, 0, 0, 9, 11, 14, 9, 11, 14, 9, 11, 14, 9, 11, 14, 9, 11, 14, 2, 2, 3, 2, 2, 3, 2, 2, 3, 2, 2, 3, 2, 2, 3, 12, 14, 17, 5, 5, 6, 12, 14, 17, 5, 5, 6, 14, 16, 20, 5, 6, 7, 6, 9, 12, 6, 9, 12, 6, 9, 12, 6, 9, 12, 6, 9, 12, 12, 13, 17, 7, 7, 8, 12, 13, 17, 7, 7, 8, 21, 25, 30, 22, 27, 32, 22, 26, 32, 1, 1, 2, 1, 1, 2, 1, 1, 2, 20, 24, 29, 21, 25, 30, 20, 24, 29, 24, 29, 17, 25, 11, 14, 19, 9, 20, 10], \"colorscale\": [[0.0, \"rgb(12,51,131)\"], [0.25, \"rgb(10,136,186)\"], [0.5, \"rgb(242,211,56)\"], [0.75, \"rgb(242,143,56)\"], [1.0, \"rgb(217,30,30)\"]], \"showscale\": true, \"size\": [87, 8, 15, 95, 16, 100, 83, 83, 11, 11, 10, 10, 83, 83, 11, 11, 10, 10, 93, 84, 11, 11, 89, 17, 92, 20, 99, 185, 185, 12, 12, 192, 192, 19, 19, 7, 17, 38, 0, 5, 2, 2, 28, 31, 34, 35, 28, 53, 10, 15, 30, 38, 25, 30, 27, 27, 23, 16, 22, 29, 35, 24, 30, 31, 37, 14, 11, 21, 17, 11, 26, 32, 21, 27, 21, 27, 16, 22, 9, 13, 22, 44, 89, 14, 9, 23, 29, 3, 17, 23, 11, 14, 11, 14, 13, 16, 0, 0, 0, 0, 0, 0, 2, 0, 3, 3, 2, 8, 10, 8, 0, 0, 0, 0, 0, 0, 0, 0, 0, 0, 0, 0, 0, 0, 0, 0, 0, 0, 0, 0, 3, 2, 0, 0, 0, 0, 0, 0, 0, 0, 0, 0, 0, 0, 0, 0, 0, 0, 9, 11, 14, 9, 11, 14, 9, 11, 14, 9, 11, 14, 9, 11, 14, 2, 2, 3, 2, 2, 3, 2, 2, 3, 2, 2, 3, 2, 2, 3, 12, 14, 17, 5, 5, 6, 12, 14, 17, 5, 5, 6, 14, 16, 20, 5, 6, 7, 6, 9, 12, 6, 9, 12, 6, 9, 12, 6, 9, 12, 6, 9, 12, 12, 13, 17, 7, 7, 8, 12, 13, 17, 7, 7, 8, 21, 25, 30, 22, 27, 32, 22, 26, 32, 1, 1, 2, 1, 1, 2, 1, 1, 2, 20, 24, 29, 21, 25, 30, 20, 24, 29, 24, 29, 17, 25, 11, 14, 19, 9, 20, 10]}, \"mode\": \"markers\", \"text\": [\"Egg McMuffin\", \"Egg White Delight\", \"Sausage McMuffin\", \"Sausage McMuffin with Egg\", \"Sausage McMuffin with Egg Whites\", \"Steak & Egg McMuffin\", \"Bacon, Egg & Cheese Biscuit (Regular Biscuit)\", \"Bacon, Egg & Cheese Biscuit (Large Biscuit)\", \"Bacon, Egg & Cheese Biscuit with Egg Whites (Regular Biscuit)\", \"Bacon, Egg & Cheese Biscuit with Egg Whites (Large Biscuit)\", \"Sausage Biscuit (Regular Biscuit)\", \"Sausage Biscuit (Large Biscuit)\", \"Sausage Biscuit with Egg (Regular Biscuit)\", \"Sausage Biscuit with Egg (Large Biscuit)\", \"Sausage Biscuit with Egg Whites (Regular Biscuit)\", \"Sausage Biscuit with Egg Whites (Large Biscuit)\", \"Southern Style Chicken Biscuit (Regular Biscuit)\", \"Southern Style Chicken Biscuit (Large Biscuit)\", \"Steak & Egg Biscuit (Regular Biscuit)\", \"Bacon, Egg & Cheese McGriddles\", \"Bacon, Egg & Cheese McGriddles with Egg Whites\", \"Sausage McGriddles\", \"Sausage, Egg & Cheese McGriddles\", \"Sausage, Egg & Cheese McGriddles with Egg Whites\", \"Bacon, Egg & Cheese Bagel\", \"Bacon, Egg & Cheese Bagel with Egg Whites\", \"Steak, Egg & Cheese Bagel\", \"Big Breakfast (Regular Biscuit)\", \"Big Breakfast (Large Biscuit)\", \"Big Breakfast with Egg Whites (Regular Biscuit)\", \"Big Breakfast with Egg Whites (Large Biscuit)\", \"Big Breakfast with Hotcakes (Regular Biscuit)\", \"Big Breakfast with Hotcakes (Large Biscuit)\", \"Big Breakfast with Hotcakes and Egg Whites (Regular Biscuit)\", \"Big Breakfast with Hotcakes and Egg Whites (Large Biscuit)\", \"Hotcakes\", \"Hotcakes and Sausage\", \"Sausage Burrito\", \"Hash Brown\", \"Cinnamon Melts\", \"Fruit & Maple Oatmeal\", \"Fruit & Maple Oatmeal without Brown Sugar\", \"Big Mac\", \"Quarter Pounder with Cheese\", \"Quarter Pounder with Bacon & Cheese\", \"Quarter Pounder with Bacon Habanero Ranch\", \"Quarter Pounder Deluxe\", \"Double Quarter Pounder with Cheese\", \"Hamburger\", \"Cheeseburger\", \"Double Cheeseburger\", \"Bacon Clubhouse Burger\", \"McDouble\", \"Bacon McDouble\", \"Daily Double\", \"Jalape\\u00f1o Double\", \"McRib\", \"Premium Crispy Chicken Classic Sandwich\", \"Premium Grilled Chicken Classic Sandwich\", \"Premium Crispy Chicken Club Sandwich\", \"Premium Grilled Chicken Club Sandwich\", \"Premium Crispy Chicken Ranch BLT Sandwich\", \"Premium Grilled Chicken Ranch BLT Sandwich\", \"Bacon Clubhouse Crispy Chicken Sandwich\", \"Bacon Clubhouse Grilled Chicken Sandwich\", \"Southern Style Crispy Chicken Sandwich\", \"McChicken\", \"Bacon Cheddar McChicken\", \"Bacon Buffalo Ranch McChicken\", \"Buffalo Ranch McChicken\", \"Premium McWrap Chicken & Bacon (Crispy Chicken)\", \"Premium McWrap Chicken & Bacon (Grilled Chicken)\", \"Premium McWrap Chicken & Ranch (Crispy Chicken)\", \"Premium McWrap Chicken & Ranch (Grilled Chicken)\", \"Premium McWrap Southwest Chicken (Crispy Chicken)\", \"Premium McWrap Southwest Chicken (Grilled Chicken)\", \"Premium McWrap Chicken Sweet Chili (Crispy Chicken)\", \"Premium McWrap Chicken Sweet Chili (Grilled Chicken)\", \"Chicken McNuggets (4 piece)\", \"Chicken McNuggets (6 piece)\", \"Chicken McNuggets (10 piece)\", \"Chicken McNuggets (20 piece)\", \"Chicken McNuggets (40 piece)\", \"Filet-O-Fish\", \"Premium Bacon Ranch Salad (without Chicken)\", \"Premium Bacon Ranch Salad with Crispy Chicken\", \"Premium Bacon Ranch Salad with Grilled Chicken\", \"Premium Southwest Salad (without Chicken)\", \"Premium Southwest Salad with Crispy Chicken\", \"Premium Southwest Salad with Grilled Chicken\", \"Chipotle BBQ Snack Wrap (Crispy Chicken)\", \"Chipotle BBQ Snack Wrap (Grilled Chicken)\", \"Honey Mustard Snack Wrap (Crispy Chicken)\", \"Honey Mustard Snack Wrap (Grilled Chicken)\", \"Ranch Snack Wrap (Crispy Chicken)\", \"Ranch Snack Wrap (Grilled Chicken)\", \"Small French Fries\", \"Medium French Fries\", \"Large French Fries\", \"Kids French Fries\", \"Side Salad\", \"Apple Slices\", \"Fruit 'n Yogurt Parfait\", \"Baked Apple Pie\", \"Chocolate Chip Cookie\", \"Oatmeal Raisin Cookie\", \"Kids Ice Cream Cone\", \"Hot Fudge Sundae\", \"Hot Caramel Sundae\", \"Strawberry Sundae\", \"Coca-Cola Classic (Small)\", \"Coca-Cola Classic (Medium)\", \"Coca-Cola Classic (Large)\", \"Coca-Cola Classic (Child)\", \"Diet Coke (Small)\", \"Diet Coke (Medium)\", \"Diet Coke (Large)\", \"Diet Coke (Child)\", \"Dr Pepper (Small)\", \"Dr Pepper (Medium)\", \"Dr Pepper (Large)\", \"Dr Pepper (Child)\", \"Diet Dr Pepper (Small)\", \"Diet Dr Pepper (Medium)\", \"Diet Dr Pepper (Large)\", \"Diet Dr Pepper (Child)\", \"Sprite (Small)\", \"Sprite (Medium)\", \"Sprite (Large)\", \"Sprite (Child)\", \"1% Low Fat Milk Jug\", \"Fat Free Chocolate Milk Jug\", \"Minute Maid 100% Apple Juice Box\", \"Minute Maid Orange Juice (Small)\", \"Minute Maid Orange Juice (Medium)\", \"Minute Maid Orange Juice (Large)\", \"Dasani Water Bottle\", \"Iced Tea (Small)\", \"Iced Tea (Medium)\", \"Iced Tea (Large)\", \"Iced Tea (Child)\", \"Sweet Tea (Small)\", \"Sweet Tea (Medium)\", \"Sweet Tea (Large)\", \"Sweet Tea (Child)\", \"Coffee (Small)\", \"Coffee (Medium)\", \"Coffee (Large)\", \"Latte (Small)\", \"Latte (Medium)\", \"Latte (Large)\", \"Caramel Latte (Small)\", \"Caramel Latte (Medium)\", \"Caramel Latte (Large)\", \"Hazelnut Latte (Small)\", \"Hazelnut Latte (Medium)\", \"Hazelnut Latte (Large)\", \"French Vanilla Latte (Small)\", \"French Vanilla Latte (Medium)\", \"French Vanilla Latte (Large)\", \"Latte with Sugar Free French Vanilla Syrup (Small)\", \"Latte with Sugar Free French Vanilla Syrup (Medium)\", \"Latte with Sugar Free French Vanilla Syrup (Large)\", \"Nonfat Latte (Small)\", \"Nonfat Latte (Medium)\", \"Nonfat Latte (Large)\", \"Nonfat Caramel Latte (Small)\", \"Nonfat Caramel Latte (Medium)\", \"Nonfat Caramel Latte (Large)\", \"Nonfat Hazelnut Latte (Small)\", \"Nonfat Hazelnut Latte (Medium)\", \"Nonfat Hazelnut Latte (Large)\", \"Nonfat French Vanilla Latte (Small)\", \"Nonfat French Vanilla Latte (Medium)\", \"Nonfat French Vanilla Latte (Large)\", \"Nonfat Latte with Sugar Free French Vanilla Syrup (Small)\", \"Nonfat Latte with Sugar Free French Vanilla Syrup (Medium)\", \"Nonfat Latte with Sugar Free French Vanilla Syrup (Large)\", \"Mocha (Small)\", \"Mocha (Medium)\", \"Mocha (Large)\", \"Mocha with Nonfat Milk (Small)\", \"Mocha with Nonfat Milk (Medium)\", \"Mocha with Nonfat Milk (Large)\", \"Caramel Mocha (Small)\", \"Caramel Mocha (Medium)\", \"Caramel Mocha (Large)\", \"Nonfat Caramel Mocha (Small)\", \"Nonfat Caramel Mocha (Medium)\", \"Nonfat Caramel Mocha (Large)\", \"Hot Chocolate (Small)\", \"Hot Chocolate (Medium)\", \"Hot Chocolate (Large)\", \"Hot Chocolate with Nonfat Milk (Small)\", \"Hot Chocolate with Nonfat Milk (Medium)\", \"Hot Chocolate with Nonfat Milk (Large)\", \"Regular Iced Coffee (Small)\", \"Regular Iced Coffee (Medium)\", \"Regular Iced Coffee (Large)\", \"Caramel Iced Coffee (Small)\", \"Caramel Iced Coffee (Medium)\", \"Caramel Iced Coffee (Large)\", \"Hazelnut Iced Coffee (Small)\", \"Hazelnut Iced Coffee (Medium)\", \"Hazelnut Iced Coffee (Large)\", \"French Vanilla Iced Coffee (Small)\", \"French Vanilla Iced Coffee (Medium)\", \"French Vanilla Iced Coffee (Large)\", \"Iced Coffee with Sugar Free French Vanilla Syrup (Small)\", \"Iced Coffee with Sugar Free French Vanilla Syrup (Medium)\", \"Iced Coffee with Sugar Free French Vanilla Syrup (Large)\", \"Iced Mocha (Small)\", \"Iced Mocha (Medium)\", \"Iced Mocha (Large)\", \"Iced Mocha with Nonfat Milk (Small)\", \"Iced Mocha with Nonfat Milk (Medium)\", \"Iced Mocha with Nonfat Milk (Large)\", \"Iced Caramel Mocha (Small)\", \"Iced Caramel Mocha (Medium)\", \"Iced Caramel Mocha (Large)\", \"Iced Nonfat Caramel Mocha (Small)\", \"Iced Nonfat Caramel Mocha (Medium)\", \"Iced Nonfat Caramel Mocha (Large)\", \"Frapp\\u00e9 Mocha (Small)\", \"Frapp\\u00e9 Mocha (Medium)\", \"Frapp\\u00e9 Mocha (Large)\", \"Frapp\\u00e9 Caramel (Small)\", \"Frapp\\u00e9 Caramel (Medium)\", \"Frapp\\u00e9 Caramel (Large)\", \"Frapp\\u00e9 Chocolate Chip (Small)\", \"Frapp\\u00e9 Chocolate Chip (Medium)\", \"Frapp\\u00e9 Chocolate Chip (Large)\", \"Blueberry Pomegranate Smoothie (Small)\", \"Blueberry Pomegranate Smoothie (Medium)\", \"Blueberry Pomegranate Smoothie (Large)\", \"Strawberry Banana Smoothie (Small)\", \"Strawberry Banana Smoothie (Medium)\", \"Strawberry Banana Smoothie (Large)\", \"Mango Pineapple Smoothie (Small)\", \"Mango Pineapple Smoothie (Medium)\", \"Mango Pineapple Smoothie (Large)\", \"Vanilla Shake (Small)\", \"Vanilla Shake (Medium)\", \"Vanilla Shake (Large)\", \"Strawberry Shake (Small)\", \"Strawberry Shake (Medium)\", \"Strawberry Shake (Large)\", \"Chocolate Shake (Small)\", \"Chocolate Shake (Medium)\", \"Chocolate Shake (Large)\", \"Shamrock Shake (Medium)\", \"Shamrock Shake (Large)\", \"McFlurry with M&M\\u2019s Candies (Small)\", \"McFlurry with M&M\\u2019s Candies (Medium)\", \"McFlurry with M&M\\u2019s Candies (Snack)\", \"McFlurry with Oreo Cookies (Small)\", \"McFlurry with Oreo Cookies (Medium)\", \"McFlurry with Oreo Cookies (Snack)\", \"McFlurry with Reese's Peanut Butter Cups (Medium)\", \"McFlurry with Reese's Peanut Butter Cups (Snack)\"], \"type\": \"scatter\", \"x\": [\"Egg McMuffin\", \"Egg White Delight\", \"Sausage McMuffin\", \"Sausage McMuffin with Egg\", \"Sausage McMuffin with Egg Whites\", \"Steak & Egg McMuffin\", \"Bacon, Egg & Cheese Biscuit (Regular Biscuit)\", \"Bacon, Egg & Cheese Biscuit (Large Biscuit)\", \"Bacon, Egg & Cheese Biscuit with Egg Whites (Regular Biscuit)\", \"Bacon, Egg & Cheese Biscuit with Egg Whites (Large Biscuit)\", \"Sausage Biscuit (Regular Biscuit)\", \"Sausage Biscuit (Large Biscuit)\", \"Sausage Biscuit with Egg (Regular Biscuit)\", \"Sausage Biscuit with Egg (Large Biscuit)\", \"Sausage Biscuit with Egg Whites (Regular Biscuit)\", \"Sausage Biscuit with Egg Whites (Large Biscuit)\", \"Southern Style Chicken Biscuit (Regular Biscuit)\", \"Southern Style Chicken Biscuit (Large Biscuit)\", \"Steak & Egg Biscuit (Regular Biscuit)\", \"Bacon, Egg & Cheese McGriddles\", \"Bacon, Egg & Cheese McGriddles with Egg Whites\", \"Sausage McGriddles\", \"Sausage, Egg & Cheese McGriddles\", \"Sausage, Egg & Cheese McGriddles with Egg Whites\", \"Bacon, Egg & Cheese Bagel\", \"Bacon, Egg & Cheese Bagel with Egg Whites\", \"Steak, Egg & Cheese Bagel\", \"Big Breakfast (Regular Biscuit)\", \"Big Breakfast (Large Biscuit)\", \"Big Breakfast with Egg Whites (Regular Biscuit)\", \"Big Breakfast with Egg Whites (Large Biscuit)\", \"Big Breakfast with Hotcakes (Regular Biscuit)\", \"Big Breakfast with Hotcakes (Large Biscuit)\", \"Big Breakfast with Hotcakes and Egg Whites (Regular Biscuit)\", \"Big Breakfast with Hotcakes and Egg Whites (Large Biscuit)\", \"Hotcakes\", \"Hotcakes and Sausage\", \"Sausage Burrito\", \"Hash Brown\", \"Cinnamon Melts\", \"Fruit & Maple Oatmeal\", \"Fruit & Maple Oatmeal without Brown Sugar\", \"Big Mac\", \"Quarter Pounder with Cheese\", \"Quarter Pounder with Bacon & Cheese\", \"Quarter Pounder with Bacon Habanero Ranch\", \"Quarter Pounder Deluxe\", \"Double Quarter Pounder with Cheese\", \"Hamburger\", \"Cheeseburger\", \"Double Cheeseburger\", \"Bacon Clubhouse Burger\", \"McDouble\", \"Bacon McDouble\", \"Daily Double\", \"Jalape\\u00f1o Double\", \"McRib\", \"Premium Crispy Chicken Classic Sandwich\", \"Premium Grilled Chicken Classic Sandwich\", \"Premium Crispy Chicken Club Sandwich\", \"Premium Grilled Chicken Club Sandwich\", \"Premium Crispy Chicken Ranch BLT Sandwich\", \"Premium Grilled Chicken Ranch BLT Sandwich\", \"Bacon Clubhouse Crispy Chicken Sandwich\", \"Bacon Clubhouse Grilled Chicken Sandwich\", \"Southern Style Crispy Chicken Sandwich\", \"McChicken\", \"Bacon Cheddar McChicken\", \"Bacon Buffalo Ranch McChicken\", \"Buffalo Ranch McChicken\", \"Premium McWrap Chicken & Bacon (Crispy Chicken)\", \"Premium McWrap Chicken & Bacon (Grilled Chicken)\", \"Premium McWrap Chicken & Ranch (Crispy Chicken)\", \"Premium McWrap Chicken & Ranch (Grilled Chicken)\", \"Premium McWrap Southwest Chicken (Crispy Chicken)\", \"Premium McWrap Southwest Chicken (Grilled Chicken)\", \"Premium McWrap Chicken Sweet Chili (Crispy Chicken)\", \"Premium McWrap Chicken Sweet Chili (Grilled Chicken)\", \"Chicken McNuggets (4 piece)\", \"Chicken McNuggets (6 piece)\", \"Chicken McNuggets (10 piece)\", \"Chicken McNuggets (20 piece)\", \"Chicken McNuggets (40 piece)\", \"Filet-O-Fish\", \"Premium Bacon Ranch Salad (without Chicken)\", \"Premium Bacon Ranch Salad with Crispy Chicken\", \"Premium Bacon Ranch Salad with Grilled Chicken\", \"Premium Southwest Salad (without Chicken)\", \"Premium Southwest Salad with Crispy Chicken\", \"Premium Southwest Salad with Grilled Chicken\", \"Chipotle BBQ Snack Wrap (Crispy Chicken)\", \"Chipotle BBQ Snack Wrap (Grilled Chicken)\", \"Honey Mustard Snack Wrap (Crispy Chicken)\", \"Honey Mustard Snack Wrap (Grilled Chicken)\", \"Ranch Snack Wrap (Crispy Chicken)\", \"Ranch Snack Wrap (Grilled Chicken)\", \"Small French Fries\", \"Medium French Fries\", \"Large French Fries\", \"Kids French Fries\", \"Side Salad\", \"Apple Slices\", \"Fruit 'n Yogurt Parfait\", \"Baked Apple Pie\", \"Chocolate Chip Cookie\", \"Oatmeal Raisin Cookie\", \"Kids Ice Cream Cone\", \"Hot Fudge Sundae\", \"Hot Caramel Sundae\", \"Strawberry Sundae\", \"Coca-Cola Classic (Small)\", \"Coca-Cola Classic (Medium)\", \"Coca-Cola Classic (Large)\", \"Coca-Cola Classic (Child)\", \"Diet Coke (Small)\", \"Diet Coke (Medium)\", \"Diet Coke (Large)\", \"Diet Coke (Child)\", \"Dr Pepper (Small)\", \"Dr Pepper (Medium)\", \"Dr Pepper (Large)\", \"Dr Pepper (Child)\", \"Diet Dr Pepper (Small)\", \"Diet Dr Pepper (Medium)\", \"Diet Dr Pepper (Large)\", \"Diet Dr Pepper (Child)\", \"Sprite (Small)\", \"Sprite (Medium)\", \"Sprite (Large)\", \"Sprite (Child)\", \"1% Low Fat Milk Jug\", \"Fat Free Chocolate Milk Jug\", \"Minute Maid 100% Apple Juice Box\", \"Minute Maid Orange Juice (Small)\", \"Minute Maid Orange Juice (Medium)\", \"Minute Maid Orange Juice (Large)\", \"Dasani Water Bottle\", \"Iced Tea (Small)\", \"Iced Tea (Medium)\", \"Iced Tea (Large)\", \"Iced Tea (Child)\", \"Sweet Tea (Small)\", \"Sweet Tea (Medium)\", \"Sweet Tea (Large)\", \"Sweet Tea (Child)\", \"Coffee (Small)\", \"Coffee (Medium)\", \"Coffee (Large)\", \"Latte (Small)\", \"Latte (Medium)\", \"Latte (Large)\", \"Caramel Latte (Small)\", \"Caramel Latte (Medium)\", \"Caramel Latte (Large)\", \"Hazelnut Latte (Small)\", \"Hazelnut Latte (Medium)\", \"Hazelnut Latte (Large)\", \"French Vanilla Latte (Small)\", \"French Vanilla Latte (Medium)\", \"French Vanilla Latte (Large)\", \"Latte with Sugar Free French Vanilla Syrup (Small)\", \"Latte with Sugar Free French Vanilla Syrup (Medium)\", \"Latte with Sugar Free French Vanilla Syrup (Large)\", \"Nonfat Latte (Small)\", \"Nonfat Latte (Medium)\", \"Nonfat Latte (Large)\", \"Nonfat Caramel Latte (Small)\", \"Nonfat Caramel Latte (Medium)\", \"Nonfat Caramel Latte (Large)\", \"Nonfat Hazelnut Latte (Small)\", \"Nonfat Hazelnut Latte (Medium)\", \"Nonfat Hazelnut Latte (Large)\", \"Nonfat French Vanilla Latte (Small)\", \"Nonfat French Vanilla Latte (Medium)\", \"Nonfat French Vanilla Latte (Large)\", \"Nonfat Latte with Sugar Free French Vanilla Syrup (Small)\", \"Nonfat Latte with Sugar Free French Vanilla Syrup (Medium)\", \"Nonfat Latte with Sugar Free French Vanilla Syrup (Large)\", \"Mocha (Small)\", \"Mocha (Medium)\", \"Mocha (Large)\", \"Mocha with Nonfat Milk (Small)\", \"Mocha with Nonfat Milk (Medium)\", \"Mocha with Nonfat Milk (Large)\", \"Caramel Mocha (Small)\", \"Caramel Mocha (Medium)\", \"Caramel Mocha (Large)\", \"Nonfat Caramel Mocha (Small)\", \"Nonfat Caramel Mocha (Medium)\", \"Nonfat Caramel Mocha (Large)\", \"Hot Chocolate (Small)\", \"Hot Chocolate (Medium)\", \"Hot Chocolate (Large)\", \"Hot Chocolate with Nonfat Milk (Small)\", \"Hot Chocolate with Nonfat Milk (Medium)\", \"Hot Chocolate with Nonfat Milk (Large)\", \"Regular Iced Coffee (Small)\", \"Regular Iced Coffee (Medium)\", \"Regular Iced Coffee (Large)\", \"Caramel Iced Coffee (Small)\", \"Caramel Iced Coffee (Medium)\", \"Caramel Iced Coffee (Large)\", \"Hazelnut Iced Coffee (Small)\", \"Hazelnut Iced Coffee (Medium)\", \"Hazelnut Iced Coffee (Large)\", \"French Vanilla Iced Coffee (Small)\", \"French Vanilla Iced Coffee (Medium)\", \"French Vanilla Iced Coffee (Large)\", \"Iced Coffee with Sugar Free French Vanilla Syrup (Small)\", \"Iced Coffee with Sugar Free French Vanilla Syrup (Medium)\", \"Iced Coffee with Sugar Free French Vanilla Syrup (Large)\", \"Iced Mocha (Small)\", \"Iced Mocha (Medium)\", \"Iced Mocha (Large)\", \"Iced Mocha with Nonfat Milk (Small)\", \"Iced Mocha with Nonfat Milk (Medium)\", \"Iced Mocha with Nonfat Milk (Large)\", \"Iced Caramel Mocha (Small)\", \"Iced Caramel Mocha (Medium)\", \"Iced Caramel Mocha (Large)\", \"Iced Nonfat Caramel Mocha (Small)\", \"Iced Nonfat Caramel Mocha (Medium)\", \"Iced Nonfat Caramel Mocha (Large)\", \"Frapp\\u00e9 Mocha (Small)\", \"Frapp\\u00e9 Mocha (Medium)\", \"Frapp\\u00e9 Mocha (Large)\", \"Frapp\\u00e9 Caramel (Small)\", \"Frapp\\u00e9 Caramel (Medium)\", \"Frapp\\u00e9 Caramel (Large)\", \"Frapp\\u00e9 Chocolate Chip (Small)\", \"Frapp\\u00e9 Chocolate Chip (Medium)\", \"Frapp\\u00e9 Chocolate Chip (Large)\", \"Blueberry Pomegranate Smoothie (Small)\", \"Blueberry Pomegranate Smoothie (Medium)\", \"Blueberry Pomegranate Smoothie (Large)\", \"Strawberry Banana Smoothie (Small)\", \"Strawberry Banana Smoothie (Medium)\", \"Strawberry Banana Smoothie (Large)\", \"Mango Pineapple Smoothie (Small)\", \"Mango Pineapple Smoothie (Medium)\", \"Mango Pineapple Smoothie (Large)\", \"Vanilla Shake (Small)\", \"Vanilla Shake (Medium)\", \"Vanilla Shake (Large)\", \"Strawberry Shake (Small)\", \"Strawberry Shake (Medium)\", \"Strawberry Shake (Large)\", \"Chocolate Shake (Small)\", \"Chocolate Shake (Medium)\", \"Chocolate Shake (Large)\", \"Shamrock Shake (Medium)\", \"Shamrock Shake (Large)\", \"McFlurry with M&M\\u2019s Candies (Small)\", \"McFlurry with M&M\\u2019s Candies (Medium)\", \"McFlurry with M&M\\u2019s Candies (Snack)\", \"McFlurry with Oreo Cookies (Small)\", \"McFlurry with Oreo Cookies (Medium)\", \"McFlurry with Oreo Cookies (Snack)\", \"McFlurry with Reese's Peanut Butter Cups (Medium)\", \"McFlurry with Reese's Peanut Butter Cups (Snack)\"], \"y\": [87, 8, 15, 95, 16, 100, 83, 83, 11, 11, 10, 10, 83, 83, 11, 11, 10, 10, 93, 84, 11, 11, 89, 17, 92, 20, 99, 185, 185, 12, 12, 192, 192, 19, 19, 7, 17, 38, 0, 5, 2, 2, 28, 31, 34, 35, 28, 53, 10, 15, 30, 38, 25, 30, 27, 27, 23, 16, 22, 29, 35, 24, 30, 31, 37, 14, 11, 21, 17, 11, 26, 32, 21, 27, 21, 27, 16, 22, 9, 13, 22, 44, 89, 14, 9, 23, 29, 3, 17, 23, 11, 14, 11, 14, 13, 16, 0, 0, 0, 0, 0, 0, 2, 0, 3, 3, 2, 8, 10, 8, 0, 0, 0, 0, 0, 0, 0, 0, 0, 0, 0, 0, 0, 0, 0, 0, 0, 0, 0, 0, 3, 2, 0, 0, 0, 0, 0, 0, 0, 0, 0, 0, 0, 0, 0, 0, 0, 0, 9, 11, 14, 9, 11, 14, 9, 11, 14, 9, 11, 14, 9, 11, 14, 2, 2, 3, 2, 2, 3, 2, 2, 3, 2, 2, 3, 2, 2, 3, 12, 14, 17, 5, 5, 6, 12, 14, 17, 5, 5, 6, 14, 16, 20, 5, 6, 7, 6, 9, 12, 6, 9, 12, 6, 9, 12, 6, 9, 12, 6, 9, 12, 12, 13, 17, 7, 7, 8, 12, 13, 17, 7, 7, 8, 21, 25, 30, 22, 27, 32, 22, 26, 32, 1, 1, 2, 1, 1, 2, 1, 1, 2, 20, 24, 29, 21, 25, 30, 20, 24, 29, 24, 29, 17, 25, 11, 14, 19, 9, 20, 10]}],\n",
       "                        {\"autosize\": true, \"hovermode\": \"closest\", \"showlegend\": false, \"template\": {\"data\": {\"bar\": [{\"error_x\": {\"color\": \"#2a3f5f\"}, \"error_y\": {\"color\": \"#2a3f5f\"}, \"marker\": {\"line\": {\"color\": \"#E5ECF6\", \"width\": 0.5}}, \"type\": \"bar\"}], \"barpolar\": [{\"marker\": {\"line\": {\"color\": \"#E5ECF6\", \"width\": 0.5}}, \"type\": \"barpolar\"}], \"carpet\": [{\"aaxis\": {\"endlinecolor\": \"#2a3f5f\", \"gridcolor\": \"white\", \"linecolor\": \"white\", \"minorgridcolor\": \"white\", \"startlinecolor\": \"#2a3f5f\"}, \"baxis\": {\"endlinecolor\": \"#2a3f5f\", \"gridcolor\": \"white\", \"linecolor\": \"white\", \"minorgridcolor\": \"white\", \"startlinecolor\": \"#2a3f5f\"}, \"type\": \"carpet\"}], \"choropleth\": [{\"colorbar\": {\"outlinewidth\": 0, \"ticks\": \"\"}, \"type\": \"choropleth\"}], \"contour\": [{\"colorbar\": {\"outlinewidth\": 0, \"ticks\": \"\"}, \"colorscale\": [[0.0, \"#0d0887\"], [0.1111111111111111, \"#46039f\"], [0.2222222222222222, \"#7201a8\"], [0.3333333333333333, \"#9c179e\"], [0.4444444444444444, \"#bd3786\"], [0.5555555555555556, \"#d8576b\"], [0.6666666666666666, \"#ed7953\"], [0.7777777777777778, \"#fb9f3a\"], [0.8888888888888888, \"#fdca26\"], [1.0, \"#f0f921\"]], \"type\": \"contour\"}], \"contourcarpet\": [{\"colorbar\": {\"outlinewidth\": 0, \"ticks\": \"\"}, \"type\": \"contourcarpet\"}], \"heatmap\": [{\"colorbar\": {\"outlinewidth\": 0, \"ticks\": \"\"}, \"colorscale\": [[0.0, \"#0d0887\"], [0.1111111111111111, \"#46039f\"], [0.2222222222222222, \"#7201a8\"], [0.3333333333333333, \"#9c179e\"], [0.4444444444444444, \"#bd3786\"], [0.5555555555555556, \"#d8576b\"], [0.6666666666666666, \"#ed7953\"], [0.7777777777777778, \"#fb9f3a\"], [0.8888888888888888, \"#fdca26\"], [1.0, \"#f0f921\"]], \"type\": \"heatmap\"}], \"heatmapgl\": [{\"colorbar\": {\"outlinewidth\": 0, \"ticks\": \"\"}, \"colorscale\": [[0.0, \"#0d0887\"], [0.1111111111111111, \"#46039f\"], [0.2222222222222222, \"#7201a8\"], [0.3333333333333333, \"#9c179e\"], [0.4444444444444444, \"#bd3786\"], [0.5555555555555556, \"#d8576b\"], [0.6666666666666666, \"#ed7953\"], [0.7777777777777778, \"#fb9f3a\"], [0.8888888888888888, \"#fdca26\"], [1.0, \"#f0f921\"]], \"type\": \"heatmapgl\"}], \"histogram\": [{\"marker\": {\"colorbar\": {\"outlinewidth\": 0, \"ticks\": \"\"}}, \"type\": \"histogram\"}], \"histogram2d\": [{\"colorbar\": {\"outlinewidth\": 0, \"ticks\": \"\"}, \"colorscale\": [[0.0, \"#0d0887\"], [0.1111111111111111, \"#46039f\"], [0.2222222222222222, \"#7201a8\"], [0.3333333333333333, \"#9c179e\"], [0.4444444444444444, \"#bd3786\"], [0.5555555555555556, \"#d8576b\"], [0.6666666666666666, \"#ed7953\"], [0.7777777777777778, \"#fb9f3a\"], [0.8888888888888888, \"#fdca26\"], [1.0, \"#f0f921\"]], \"type\": \"histogram2d\"}], \"histogram2dcontour\": [{\"colorbar\": {\"outlinewidth\": 0, \"ticks\": \"\"}, \"colorscale\": [[0.0, \"#0d0887\"], [0.1111111111111111, \"#46039f\"], [0.2222222222222222, \"#7201a8\"], [0.3333333333333333, \"#9c179e\"], [0.4444444444444444, \"#bd3786\"], [0.5555555555555556, \"#d8576b\"], [0.6666666666666666, \"#ed7953\"], [0.7777777777777778, \"#fb9f3a\"], [0.8888888888888888, \"#fdca26\"], [1.0, \"#f0f921\"]], \"type\": \"histogram2dcontour\"}], \"mesh3d\": [{\"colorbar\": {\"outlinewidth\": 0, \"ticks\": \"\"}, \"type\": \"mesh3d\"}], \"parcoords\": [{\"line\": {\"colorbar\": {\"outlinewidth\": 0, \"ticks\": \"\"}}, \"type\": \"parcoords\"}], \"pie\": [{\"automargin\": true, \"type\": \"pie\"}], \"scatter\": [{\"marker\": {\"colorbar\": {\"outlinewidth\": 0, \"ticks\": \"\"}}, \"type\": \"scatter\"}], \"scatter3d\": [{\"line\": {\"colorbar\": {\"outlinewidth\": 0, \"ticks\": \"\"}}, \"marker\": {\"colorbar\": {\"outlinewidth\": 0, \"ticks\": \"\"}}, \"type\": \"scatter3d\"}], \"scattercarpet\": [{\"marker\": {\"colorbar\": {\"outlinewidth\": 0, \"ticks\": \"\"}}, \"type\": \"scattercarpet\"}], \"scattergeo\": [{\"marker\": {\"colorbar\": {\"outlinewidth\": 0, \"ticks\": \"\"}}, \"type\": \"scattergeo\"}], \"scattergl\": [{\"marker\": {\"colorbar\": {\"outlinewidth\": 0, \"ticks\": \"\"}}, \"type\": \"scattergl\"}], \"scattermapbox\": [{\"marker\": {\"colorbar\": {\"outlinewidth\": 0, \"ticks\": \"\"}}, \"type\": \"scattermapbox\"}], \"scatterpolar\": [{\"marker\": {\"colorbar\": {\"outlinewidth\": 0, \"ticks\": \"\"}}, \"type\": \"scatterpolar\"}], \"scatterpolargl\": [{\"marker\": {\"colorbar\": {\"outlinewidth\": 0, \"ticks\": \"\"}}, \"type\": \"scatterpolargl\"}], \"scatterternary\": [{\"marker\": {\"colorbar\": {\"outlinewidth\": 0, \"ticks\": \"\"}}, \"type\": \"scatterternary\"}], \"surface\": [{\"colorbar\": {\"outlinewidth\": 0, \"ticks\": \"\"}, \"colorscale\": [[0.0, \"#0d0887\"], [0.1111111111111111, \"#46039f\"], [0.2222222222222222, \"#7201a8\"], [0.3333333333333333, \"#9c179e\"], [0.4444444444444444, \"#bd3786\"], [0.5555555555555556, \"#d8576b\"], [0.6666666666666666, \"#ed7953\"], [0.7777777777777778, \"#fb9f3a\"], [0.8888888888888888, \"#fdca26\"], [1.0, \"#f0f921\"]], \"type\": \"surface\"}], \"table\": [{\"cells\": {\"fill\": {\"color\": \"#EBF0F8\"}, \"line\": {\"color\": \"white\"}}, \"header\": {\"fill\": {\"color\": \"#C8D4E3\"}, \"line\": {\"color\": \"white\"}}, \"type\": \"table\"}]}, \"layout\": {\"annotationdefaults\": {\"arrowcolor\": \"#2a3f5f\", \"arrowhead\": 0, \"arrowwidth\": 1}, \"coloraxis\": {\"colorbar\": {\"outlinewidth\": 0, \"ticks\": \"\"}}, \"colorscale\": {\"diverging\": [[0, \"#8e0152\"], [0.1, \"#c51b7d\"], [0.2, \"#de77ae\"], [0.3, \"#f1b6da\"], [0.4, \"#fde0ef\"], [0.5, \"#f7f7f7\"], [0.6, \"#e6f5d0\"], [0.7, \"#b8e186\"], [0.8, \"#7fbc41\"], [0.9, \"#4d9221\"], [1, \"#276419\"]], \"sequential\": [[0.0, \"#0d0887\"], [0.1111111111111111, \"#46039f\"], [0.2222222222222222, \"#7201a8\"], [0.3333333333333333, \"#9c179e\"], [0.4444444444444444, \"#bd3786\"], [0.5555555555555556, \"#d8576b\"], [0.6666666666666666, \"#ed7953\"], [0.7777777777777778, \"#fb9f3a\"], [0.8888888888888888, \"#fdca26\"], [1.0, \"#f0f921\"]], \"sequentialminus\": [[0.0, \"#0d0887\"], [0.1111111111111111, \"#46039f\"], [0.2222222222222222, \"#7201a8\"], [0.3333333333333333, \"#9c179e\"], [0.4444444444444444, \"#bd3786\"], [0.5555555555555556, \"#d8576b\"], [0.6666666666666666, \"#ed7953\"], [0.7777777777777778, \"#fb9f3a\"], [0.8888888888888888, \"#fdca26\"], [1.0, \"#f0f921\"]]}, \"colorway\": [\"#636efa\", \"#EF553B\", \"#00cc96\", \"#ab63fa\", \"#FFA15A\", \"#19d3f3\", \"#FF6692\", \"#B6E880\", \"#FF97FF\", \"#FECB52\"], \"font\": {\"color\": \"#2a3f5f\"}, \"geo\": {\"bgcolor\": \"white\", \"lakecolor\": \"white\", \"landcolor\": \"#E5ECF6\", \"showlakes\": true, \"showland\": true, \"subunitcolor\": \"white\"}, \"hoverlabel\": {\"align\": \"left\"}, \"hovermode\": \"closest\", \"mapbox\": {\"style\": \"light\"}, \"paper_bgcolor\": \"white\", \"plot_bgcolor\": \"#E5ECF6\", \"polar\": {\"angularaxis\": {\"gridcolor\": \"white\", \"linecolor\": \"white\", \"ticks\": \"\"}, \"bgcolor\": \"#E5ECF6\", \"radialaxis\": {\"gridcolor\": \"white\", \"linecolor\": \"white\", \"ticks\": \"\"}}, \"scene\": {\"xaxis\": {\"backgroundcolor\": \"#E5ECF6\", \"gridcolor\": \"white\", \"gridwidth\": 2, \"linecolor\": \"white\", \"showbackground\": true, \"ticks\": \"\", \"zerolinecolor\": \"white\"}, \"yaxis\": {\"backgroundcolor\": \"#E5ECF6\", \"gridcolor\": \"white\", \"gridwidth\": 2, \"linecolor\": \"white\", \"showbackground\": true, \"ticks\": \"\", \"zerolinecolor\": \"white\"}, \"zaxis\": {\"backgroundcolor\": \"#E5ECF6\", \"gridcolor\": \"white\", \"gridwidth\": 2, \"linecolor\": \"white\", \"showbackground\": true, \"ticks\": \"\", \"zerolinecolor\": \"white\"}}, \"shapedefaults\": {\"line\": {\"color\": \"#2a3f5f\"}}, \"ternary\": {\"aaxis\": {\"gridcolor\": \"white\", \"linecolor\": \"white\", \"ticks\": \"\"}, \"baxis\": {\"gridcolor\": \"white\", \"linecolor\": \"white\", \"ticks\": \"\"}, \"bgcolor\": \"#E5ECF6\", \"caxis\": {\"gridcolor\": \"white\", \"linecolor\": \"white\", \"ticks\": \"\"}}, \"title\": {\"x\": 0.05}, \"xaxis\": {\"automargin\": true, \"gridcolor\": \"white\", \"linecolor\": \"white\", \"ticks\": \"\", \"title\": {\"standoff\": 15}, \"zerolinecolor\": \"white\", \"zerolinewidth\": 2}, \"yaxis\": {\"automargin\": true, \"gridcolor\": \"white\", \"linecolor\": \"white\", \"ticks\": \"\", \"title\": {\"standoff\": 15}, \"zerolinecolor\": \"white\", \"zerolinewidth\": 2}}}, \"title\": {\"text\": \"Scatter plot of Cholesterol (% Daily Value) per Item on the Menu\"}, \"xaxis\": {\"showgrid\": false, \"showline\": false, \"zeroline\": false}, \"yaxis\": {\"gridwidth\": 2, \"showgrid\": false, \"showline\": false, \"ticklen\": 5, \"title\": {\"text\": \"Cholesterol (% Daily Value)\"}, \"zeroline\": false}},\n",
       "                        {\"responsive\": true}\n",
       "                    ).then(function(){\n",
       "                            \n",
       "var gd = document.getElementById('32499eaa-e267-4784-a437-e310f76798cb');\n",
       "var x = new MutationObserver(function (mutations, observer) {{\n",
       "        var display = window.getComputedStyle(gd).display;\n",
       "        if (!display || display === 'none') {{\n",
       "            console.log([gd, 'removed!']);\n",
       "            Plotly.purge(gd);\n",
       "            observer.disconnect();\n",
       "        }}\n",
       "}});\n",
       "\n",
       "// Listen for the removal of the full notebook cells\n",
       "var notebookContainer = gd.closest('#notebook-container');\n",
       "if (notebookContainer) {{\n",
       "    x.observe(notebookContainer, {childList: true});\n",
       "}}\n",
       "\n",
       "// Listen for the clearing of the current output cell\n",
       "var outputEl = gd.closest('.output');\n",
       "if (outputEl) {{\n",
       "    x.observe(outputEl, {childList: true});\n",
       "}}\n",
       "\n",
       "                        })\n",
       "                };\n",
       "                });\n",
       "            </script>\n",
       "        </div>"
      ]
     },
     "metadata": {},
     "output_type": "display_data"
    }
   ],
   "source": [
    "trace = go.Scatter(\n",
    "    y = data['Cholesterol (% Daily Value)'].values,\n",
    "    x = data['Item'].values,\n",
    "    mode='markers',\n",
    "    marker=dict(\n",
    "        size= data['Cholesterol (% Daily Value)'].values,\n",
    "        color = data['Cholesterol (% Daily Value)'].values,\n",
    "        colorscale='Portland',\n",
    "        showscale=True\n",
    "    ),\n",
    "    text = data['Item'].values\n",
    ")\n",
    "data_val = [trace]\n",
    "\n",
    "layout= go.Layout(\n",
    "    autosize= True,\n",
    "    title= 'Scatter plot of Cholesterol (% Daily Value) per Item on the Menu',\n",
    "    hovermode= 'closest',\n",
    "    xaxis=dict(\n",
    "        showgrid=False,\n",
    "        zeroline=False,\n",
    "        showline=False\n",
    "    ),\n",
    "    yaxis=dict(\n",
    "        title= 'Cholesterol (% Daily Value)',\n",
    "        ticklen= 5,\n",
    "        gridwidth= 2,\n",
    "        showgrid=False,\n",
    "        zeroline=False,\n",
    "        showline=False\n",
    "    ),\n",
    "    showlegend= False\n",
    ")\n",
    "fig = go.Figure(data=data_val, layout=layout)\n",
    "py.iplot(fig,filename='scatterChol')"
   ]
  },
  {
   "cell_type": "markdown",
   "metadata": {},
   "source": [
    "Takeaway from the plot\n",
    "\n",
    "The most striking visuals from the scatter plot are the few large red plots close to the top. These circular plots were scaled such as that the higher the Cholesterol (% Daily value), the larger the plot thereby making for intuitive visuals. As we can see, the main culprit (red circle) is the MacDonald's Big Breakfast range, accounting for a whooping 185% of Cholesterol (% Daily value).\n",
    "\n",
    "Further down from larger red plots, there are a greater number of yellow circular plots which can be attributed to items such as the Egg/Sausage McMuffin range contributing to nearly a day's worth of Cholesterol."
   ]
  },
  {
   "cell_type": "markdown",
   "metadata": {},
   "source": [
    "Most Cholesterol-laden item : Big Breakfast (Large Biscuit)"
   ]
  },
  {
   "cell_type": "code",
   "execution_count": null,
   "metadata": {},
   "outputs": [],
   "source": []
  },
  {
   "cell_type": "markdown",
   "metadata": {},
   "source": [
    "### Scatter Plot of Sodium (% Daily Value) per MacDonald's Item"
   ]
  },
  {
   "cell_type": "code",
   "execution_count": 21,
   "metadata": {},
   "outputs": [
    {
     "data": {
      "text/html": [
       "<div>\n",
       "<style scoped>\n",
       "    .dataframe tbody tr th:only-of-type {\n",
       "        vertical-align: middle;\n",
       "    }\n",
       "\n",
       "    .dataframe tbody tr th {\n",
       "        vertical-align: top;\n",
       "    }\n",
       "\n",
       "    .dataframe thead th {\n",
       "        text-align: right;\n",
       "    }\n",
       "</style>\n",
       "<table border=\"1\" class=\"dataframe\">\n",
       "  <thead>\n",
       "    <tr style=\"text-align: right;\">\n",
       "      <th></th>\n",
       "      <th>Category</th>\n",
       "      <th>Item</th>\n",
       "      <th>Sodium (% Daily Value)</th>\n",
       "    </tr>\n",
       "  </thead>\n",
       "  <tbody>\n",
       "    <tr>\n",
       "      <th>82</th>\n",
       "      <td>Chicken &amp; Fish</td>\n",
       "      <td>Chicken McNuggets (40 piece)</td>\n",
       "      <td>150</td>\n",
       "    </tr>\n",
       "    <tr>\n",
       "      <th>34</th>\n",
       "      <td>Breakfast</td>\n",
       "      <td>Big Breakfast with Hotcakes and Egg Whites (La...</td>\n",
       "      <td>95</td>\n",
       "    </tr>\n",
       "    <tr>\n",
       "      <th>32</th>\n",
       "      <td>Breakfast</td>\n",
       "      <td>Big Breakfast with Hotcakes (Large Biscuit)</td>\n",
       "      <td>94</td>\n",
       "    </tr>\n",
       "    <tr>\n",
       "      <th>33</th>\n",
       "      <td>Breakfast</td>\n",
       "      <td>Big Breakfast with Hotcakes and Egg Whites (Re...</td>\n",
       "      <td>91</td>\n",
       "    </tr>\n",
       "    <tr>\n",
       "      <th>31</th>\n",
       "      <td>Breakfast</td>\n",
       "      <td>Big Breakfast with Hotcakes (Regular Biscuit)</td>\n",
       "      <td>90</td>\n",
       "    </tr>\n",
       "  </tbody>\n",
       "</table>\n",
       "</div>"
      ],
      "text/plain": [
       "          Category                                               Item  \\\n",
       "82  Chicken & Fish                       Chicken McNuggets (40 piece)   \n",
       "34       Breakfast  Big Breakfast with Hotcakes and Egg Whites (La...   \n",
       "32       Breakfast        Big Breakfast with Hotcakes (Large Biscuit)   \n",
       "33       Breakfast  Big Breakfast with Hotcakes and Egg Whites (Re...   \n",
       "31       Breakfast      Big Breakfast with Hotcakes (Regular Biscuit)   \n",
       "\n",
       "    Sodium (% Daily Value)  \n",
       "82                     150  \n",
       "34                      95  \n",
       "32                      94  \n",
       "33                      91  \n",
       "31                      90  "
      ]
     },
     "execution_count": 21,
     "metadata": {},
     "output_type": "execute_result"
    }
   ],
   "source": [
    "#most sodium food\n",
    "most_chol = data.loc[:,['Category','Item','Sodium (% Daily Value)']]\n",
    "most_chol.sort_values('Sodium (% Daily Value)', ascending=False).head()"
   ]
  },
  {
   "cell_type": "code",
   "execution_count": null,
   "metadata": {},
   "outputs": [],
   "source": []
  },
  {
   "cell_type": "code",
   "execution_count": 22,
   "metadata": {},
   "outputs": [
    {
     "data": {
      "application/vnd.plotly.v1+json": {
       "config": {
        "linkText": "Export to plot.ly",
        "plotlyServerURL": "https://plot.ly",
        "showLink": false
       },
       "data": [
        {
         "marker": {
          "color": [
           31,
           32,
           33,
           36,
           37,
           40,
           54,
           59,
           54,
           59,
           45,
           50,
           49,
           53,
           49,
           54,
           49,
           54,
           61,
           52,
           52,
           43,
           55,
           55,
           62,
           62,
           63,
           65,
           70,
           66,
           71,
           90,
           94,
           91,
           95,
           24,
           39,
           33,
           13,
           15,
           7,
           5,
           40,
           46,
           60,
           49,
           40,
           53,
           20,
           28,
           43,
           61,
           35,
           46,
           32,
           43,
           41,
           41,
           34,
           59,
           52,
           58,
           51,
           72,
           65,
           38,
           33,
           53,
           53,
           41,
           64,
           57,
           56,
           49,
           62,
           55,
           52,
           45,
           15,
           22,
           37,
           75,
           150,
           24,
           13,
           36,
           29,
           6,
           35,
           28,
           33,
           29,
           30,
           27,
           34,
           30,
           5,
           8,
           12,
           3,
           0,
           0,
           3,
           7,
           4,
           6,
           1,
           7,
           6,
           4,
           0,
           0,
           0,
           0,
           0,
           1,
           1,
           1,
           2,
           3,
           4,
           1,
           3,
           4,
           6,
           2,
           1,
           2,
           3,
           1,
           5,
           6,
           1,
           0,
           0,
           0,
           0,
           0,
           0,
           1,
           0,
           0,
           0,
           1,
           0,
           0,
           0,
           0,
           5,
           6,
           8,
           5,
           6,
           8,
           5,
           6,
           8,
           5,
           6,
           8,
           6,
           8,
           10,
           5,
           6,
           7,
           5,
           6,
           7,
           5,
           6,
           7,
           5,
           6,
           8,
           6,
           8,
           10,
           6,
           8,
           10,
           6,
           8,
           10,
           7,
           9,
           11,
           7,
           9,
           11,
           8,
           9,
           12,
           7,
           9,
           12,
           1,
           2,
           3,
           2,
           2,
           3,
           1,
           2,
           3,
           2,
           2,
           3,
           3,
           4,
           6,
           5,
           6,
           9,
           5,
           6,
           9,
           6,
           7,
           10,
           6,
           7,
           10,
           5,
           7,
           8,
           5,
           7,
           8,
           6,
           7,
           8,
           2,
           2,
           3,
           2,
           2,
           3,
           2,
           2,
           3,
           7,
           9,
           11,
           7,
           9,
           11,
           10,
           13,
           16,
           9,
           11,
           7,
           11,
           5,
           12,
           16,
           8,
           17,
           8
          ],
          "colorscale": [
           [
            0,
            "rgb(12,51,131)"
           ],
           [
            0.25,
            "rgb(10,136,186)"
           ],
           [
            0.5,
            "rgb(242,211,56)"
           ],
           [
            0.75,
            "rgb(242,143,56)"
           ],
           [
            1,
            "rgb(217,30,30)"
           ]
          ],
          "showscale": true,
          "size": [
           31,
           32,
           33,
           36,
           37,
           40,
           54,
           59,
           54,
           59,
           45,
           50,
           49,
           53,
           49,
           54,
           49,
           54,
           61,
           52,
           52,
           43,
           55,
           55,
           62,
           62,
           63,
           65,
           70,
           66,
           71,
           90,
           94,
           91,
           95,
           24,
           39,
           33,
           13,
           15,
           7,
           5,
           40,
           46,
           60,
           49,
           40,
           53,
           20,
           28,
           43,
           61,
           35,
           46,
           32,
           43,
           41,
           41,
           34,
           59,
           52,
           58,
           51,
           72,
           65,
           38,
           33,
           53,
           53,
           41,
           64,
           57,
           56,
           49,
           62,
           55,
           52,
           45,
           15,
           22,
           37,
           75,
           150,
           24,
           13,
           36,
           29,
           6,
           35,
           28,
           33,
           29,
           30,
           27,
           34,
           30,
           5,
           8,
           12,
           3,
           0,
           0,
           3,
           7,
           4,
           6,
           1,
           7,
           6,
           4,
           0,
           0,
           0,
           0,
           0,
           1,
           1,
           1,
           2,
           3,
           4,
           1,
           3,
           4,
           6,
           2,
           1,
           2,
           3,
           1,
           5,
           6,
           1,
           0,
           0,
           0,
           0,
           0,
           0,
           1,
           0,
           0,
           0,
           1,
           0,
           0,
           0,
           0,
           5,
           6,
           8,
           5,
           6,
           8,
           5,
           6,
           8,
           5,
           6,
           8,
           6,
           8,
           10,
           5,
           6,
           7,
           5,
           6,
           7,
           5,
           6,
           7,
           5,
           6,
           8,
           6,
           8,
           10,
           6,
           8,
           10,
           6,
           8,
           10,
           7,
           9,
           11,
           7,
           9,
           11,
           8,
           9,
           12,
           7,
           9,
           12,
           1,
           2,
           3,
           2,
           2,
           3,
           1,
           2,
           3,
           2,
           2,
           3,
           3,
           4,
           6,
           5,
           6,
           9,
           5,
           6,
           9,
           6,
           7,
           10,
           6,
           7,
           10,
           5,
           7,
           8,
           5,
           7,
           8,
           6,
           7,
           8,
           2,
           2,
           3,
           2,
           2,
           3,
           2,
           2,
           3,
           7,
           9,
           11,
           7,
           9,
           11,
           10,
           13,
           16,
           9,
           11,
           7,
           11,
           5,
           12,
           16,
           8,
           17,
           8
          ]
         },
         "mode": "markers",
         "text": [
          "Egg McMuffin",
          "Egg White Delight",
          "Sausage McMuffin",
          "Sausage McMuffin with Egg",
          "Sausage McMuffin with Egg Whites",
          "Steak & Egg McMuffin",
          "Bacon, Egg & Cheese Biscuit (Regular Biscuit)",
          "Bacon, Egg & Cheese Biscuit (Large Biscuit)",
          "Bacon, Egg & Cheese Biscuit with Egg Whites (Regular Biscuit)",
          "Bacon, Egg & Cheese Biscuit with Egg Whites (Large Biscuit)",
          "Sausage Biscuit (Regular Biscuit)",
          "Sausage Biscuit (Large Biscuit)",
          "Sausage Biscuit with Egg (Regular Biscuit)",
          "Sausage Biscuit with Egg (Large Biscuit)",
          "Sausage Biscuit with Egg Whites (Regular Biscuit)",
          "Sausage Biscuit with Egg Whites (Large Biscuit)",
          "Southern Style Chicken Biscuit (Regular Biscuit)",
          "Southern Style Chicken Biscuit (Large Biscuit)",
          "Steak & Egg Biscuit (Regular Biscuit)",
          "Bacon, Egg & Cheese McGriddles",
          "Bacon, Egg & Cheese McGriddles with Egg Whites",
          "Sausage McGriddles",
          "Sausage, Egg & Cheese McGriddles",
          "Sausage, Egg & Cheese McGriddles with Egg Whites",
          "Bacon, Egg & Cheese Bagel",
          "Bacon, Egg & Cheese Bagel with Egg Whites",
          "Steak, Egg & Cheese Bagel",
          "Big Breakfast (Regular Biscuit)",
          "Big Breakfast (Large Biscuit)",
          "Big Breakfast with Egg Whites (Regular Biscuit)",
          "Big Breakfast with Egg Whites (Large Biscuit)",
          "Big Breakfast with Hotcakes (Regular Biscuit)",
          "Big Breakfast with Hotcakes (Large Biscuit)",
          "Big Breakfast with Hotcakes and Egg Whites (Regular Biscuit)",
          "Big Breakfast with Hotcakes and Egg Whites (Large Biscuit)",
          "Hotcakes",
          "Hotcakes and Sausage",
          "Sausage Burrito",
          "Hash Brown",
          "Cinnamon Melts",
          "Fruit & Maple Oatmeal",
          "Fruit & Maple Oatmeal without Brown Sugar",
          "Big Mac",
          "Quarter Pounder with Cheese",
          "Quarter Pounder with Bacon & Cheese",
          "Quarter Pounder with Bacon Habanero Ranch",
          "Quarter Pounder Deluxe",
          "Double Quarter Pounder with Cheese",
          "Hamburger",
          "Cheeseburger",
          "Double Cheeseburger",
          "Bacon Clubhouse Burger",
          "McDouble",
          "Bacon McDouble",
          "Daily Double",
          "Jalapeño Double",
          "McRib",
          "Premium Crispy Chicken Classic Sandwich",
          "Premium Grilled Chicken Classic Sandwich",
          "Premium Crispy Chicken Club Sandwich",
          "Premium Grilled Chicken Club Sandwich",
          "Premium Crispy Chicken Ranch BLT Sandwich",
          "Premium Grilled Chicken Ranch BLT Sandwich",
          "Bacon Clubhouse Crispy Chicken Sandwich",
          "Bacon Clubhouse Grilled Chicken Sandwich",
          "Southern Style Crispy Chicken Sandwich",
          "McChicken",
          "Bacon Cheddar McChicken",
          "Bacon Buffalo Ranch McChicken",
          "Buffalo Ranch McChicken",
          "Premium McWrap Chicken & Bacon (Crispy Chicken)",
          "Premium McWrap Chicken & Bacon (Grilled Chicken)",
          "Premium McWrap Chicken & Ranch (Crispy Chicken)",
          "Premium McWrap Chicken & Ranch (Grilled Chicken)",
          "Premium McWrap Southwest Chicken (Crispy Chicken)",
          "Premium McWrap Southwest Chicken (Grilled Chicken)",
          "Premium McWrap Chicken Sweet Chili (Crispy Chicken)",
          "Premium McWrap Chicken Sweet Chili (Grilled Chicken)",
          "Chicken McNuggets (4 piece)",
          "Chicken McNuggets (6 piece)",
          "Chicken McNuggets (10 piece)",
          "Chicken McNuggets (20 piece)",
          "Chicken McNuggets (40 piece)",
          "Filet-O-Fish",
          "Premium Bacon Ranch Salad (without Chicken)",
          "Premium Bacon Ranch Salad with Crispy Chicken",
          "Premium Bacon Ranch Salad with Grilled Chicken",
          "Premium Southwest Salad (without Chicken)",
          "Premium Southwest Salad with Crispy Chicken",
          "Premium Southwest Salad with Grilled Chicken",
          "Chipotle BBQ Snack Wrap (Crispy Chicken)",
          "Chipotle BBQ Snack Wrap (Grilled Chicken)",
          "Honey Mustard Snack Wrap (Crispy Chicken)",
          "Honey Mustard Snack Wrap (Grilled Chicken)",
          "Ranch Snack Wrap (Crispy Chicken)",
          "Ranch Snack Wrap (Grilled Chicken)",
          "Small French Fries",
          "Medium French Fries",
          "Large French Fries",
          "Kids French Fries",
          "Side Salad",
          "Apple Slices",
          "Fruit 'n Yogurt Parfait",
          "Baked Apple Pie",
          "Chocolate Chip Cookie",
          "Oatmeal Raisin Cookie",
          "Kids Ice Cream Cone",
          "Hot Fudge Sundae",
          "Hot Caramel Sundae",
          "Strawberry Sundae",
          "Coca-Cola Classic (Small)",
          "Coca-Cola Classic (Medium)",
          "Coca-Cola Classic (Large)",
          "Coca-Cola Classic (Child)",
          "Diet Coke (Small)",
          "Diet Coke (Medium)",
          "Diet Coke (Large)",
          "Diet Coke (Child)",
          "Dr Pepper (Small)",
          "Dr Pepper (Medium)",
          "Dr Pepper (Large)",
          "Dr Pepper (Child)",
          "Diet Dr Pepper (Small)",
          "Diet Dr Pepper (Medium)",
          "Diet Dr Pepper (Large)",
          "Diet Dr Pepper (Child)",
          "Sprite (Small)",
          "Sprite (Medium)",
          "Sprite (Large)",
          "Sprite (Child)",
          "1% Low Fat Milk Jug",
          "Fat Free Chocolate Milk Jug",
          "Minute Maid 100% Apple Juice Box",
          "Minute Maid Orange Juice (Small)",
          "Minute Maid Orange Juice (Medium)",
          "Minute Maid Orange Juice (Large)",
          "Dasani Water Bottle",
          "Iced Tea (Small)",
          "Iced Tea (Medium)",
          "Iced Tea (Large)",
          "Iced Tea (Child)",
          "Sweet Tea (Small)",
          "Sweet Tea (Medium)",
          "Sweet Tea (Large)",
          "Sweet Tea (Child)",
          "Coffee (Small)",
          "Coffee (Medium)",
          "Coffee (Large)",
          "Latte (Small)",
          "Latte (Medium)",
          "Latte (Large)",
          "Caramel Latte (Small)",
          "Caramel Latte (Medium)",
          "Caramel Latte (Large)",
          "Hazelnut Latte (Small)",
          "Hazelnut Latte (Medium)",
          "Hazelnut Latte (Large)",
          "French Vanilla Latte (Small)",
          "French Vanilla Latte (Medium)",
          "French Vanilla Latte (Large)",
          "Latte with Sugar Free French Vanilla Syrup (Small)",
          "Latte with Sugar Free French Vanilla Syrup (Medium)",
          "Latte with Sugar Free French Vanilla Syrup (Large)",
          "Nonfat Latte (Small)",
          "Nonfat Latte (Medium)",
          "Nonfat Latte (Large)",
          "Nonfat Caramel Latte (Small)",
          "Nonfat Caramel Latte (Medium)",
          "Nonfat Caramel Latte (Large)",
          "Nonfat Hazelnut Latte (Small)",
          "Nonfat Hazelnut Latte (Medium)",
          "Nonfat Hazelnut Latte (Large)",
          "Nonfat French Vanilla Latte (Small)",
          "Nonfat French Vanilla Latte (Medium)",
          "Nonfat French Vanilla Latte (Large)",
          "Nonfat Latte with Sugar Free French Vanilla Syrup (Small)",
          "Nonfat Latte with Sugar Free French Vanilla Syrup (Medium)",
          "Nonfat Latte with Sugar Free French Vanilla Syrup (Large)",
          "Mocha (Small)",
          "Mocha (Medium)",
          "Mocha (Large)",
          "Mocha with Nonfat Milk (Small)",
          "Mocha with Nonfat Milk (Medium)",
          "Mocha with Nonfat Milk (Large)",
          "Caramel Mocha (Small)",
          "Caramel Mocha (Medium)",
          "Caramel Mocha (Large)",
          "Nonfat Caramel Mocha (Small)",
          "Nonfat Caramel Mocha (Medium)",
          "Nonfat Caramel Mocha (Large)",
          "Hot Chocolate (Small)",
          "Hot Chocolate (Medium)",
          "Hot Chocolate (Large)",
          "Hot Chocolate with Nonfat Milk (Small)",
          "Hot Chocolate with Nonfat Milk (Medium)",
          "Hot Chocolate with Nonfat Milk (Large)",
          "Regular Iced Coffee (Small)",
          "Regular Iced Coffee (Medium)",
          "Regular Iced Coffee (Large)",
          "Caramel Iced Coffee (Small)",
          "Caramel Iced Coffee (Medium)",
          "Caramel Iced Coffee (Large)",
          "Hazelnut Iced Coffee (Small)",
          "Hazelnut Iced Coffee (Medium)",
          "Hazelnut Iced Coffee (Large)",
          "French Vanilla Iced Coffee (Small)",
          "French Vanilla Iced Coffee (Medium)",
          "French Vanilla Iced Coffee (Large)",
          "Iced Coffee with Sugar Free French Vanilla Syrup (Small)",
          "Iced Coffee with Sugar Free French Vanilla Syrup (Medium)",
          "Iced Coffee with Sugar Free French Vanilla Syrup (Large)",
          "Iced Mocha (Small)",
          "Iced Mocha (Medium)",
          "Iced Mocha (Large)",
          "Iced Mocha with Nonfat Milk (Small)",
          "Iced Mocha with Nonfat Milk (Medium)",
          "Iced Mocha with Nonfat Milk (Large)",
          "Iced Caramel Mocha (Small)",
          "Iced Caramel Mocha (Medium)",
          "Iced Caramel Mocha (Large)",
          "Iced Nonfat Caramel Mocha (Small)",
          "Iced Nonfat Caramel Mocha (Medium)",
          "Iced Nonfat Caramel Mocha (Large)",
          "Frappé Mocha (Small)",
          "Frappé Mocha (Medium)",
          "Frappé Mocha (Large)",
          "Frappé Caramel (Small)",
          "Frappé Caramel (Medium)",
          "Frappé Caramel (Large)",
          "Frappé Chocolate Chip (Small)",
          "Frappé Chocolate Chip (Medium)",
          "Frappé Chocolate Chip (Large)",
          "Blueberry Pomegranate Smoothie (Small)",
          "Blueberry Pomegranate Smoothie (Medium)",
          "Blueberry Pomegranate Smoothie (Large)",
          "Strawberry Banana Smoothie (Small)",
          "Strawberry Banana Smoothie (Medium)",
          "Strawberry Banana Smoothie (Large)",
          "Mango Pineapple Smoothie (Small)",
          "Mango Pineapple Smoothie (Medium)",
          "Mango Pineapple Smoothie (Large)",
          "Vanilla Shake (Small)",
          "Vanilla Shake (Medium)",
          "Vanilla Shake (Large)",
          "Strawberry Shake (Small)",
          "Strawberry Shake (Medium)",
          "Strawberry Shake (Large)",
          "Chocolate Shake (Small)",
          "Chocolate Shake (Medium)",
          "Chocolate Shake (Large)",
          "Shamrock Shake (Medium)",
          "Shamrock Shake (Large)",
          "McFlurry with M&M’s Candies (Small)",
          "McFlurry with M&M’s Candies (Medium)",
          "McFlurry with M&M’s Candies (Snack)",
          "McFlurry with Oreo Cookies (Small)",
          "McFlurry with Oreo Cookies (Medium)",
          "McFlurry with Oreo Cookies (Snack)",
          "McFlurry with Reese's Peanut Butter Cups (Medium)",
          "McFlurry with Reese's Peanut Butter Cups (Snack)"
         ],
         "type": "scatter",
         "x": [
          "Egg McMuffin",
          "Egg White Delight",
          "Sausage McMuffin",
          "Sausage McMuffin with Egg",
          "Sausage McMuffin with Egg Whites",
          "Steak & Egg McMuffin",
          "Bacon, Egg & Cheese Biscuit (Regular Biscuit)",
          "Bacon, Egg & Cheese Biscuit (Large Biscuit)",
          "Bacon, Egg & Cheese Biscuit with Egg Whites (Regular Biscuit)",
          "Bacon, Egg & Cheese Biscuit with Egg Whites (Large Biscuit)",
          "Sausage Biscuit (Regular Biscuit)",
          "Sausage Biscuit (Large Biscuit)",
          "Sausage Biscuit with Egg (Regular Biscuit)",
          "Sausage Biscuit with Egg (Large Biscuit)",
          "Sausage Biscuit with Egg Whites (Regular Biscuit)",
          "Sausage Biscuit with Egg Whites (Large Biscuit)",
          "Southern Style Chicken Biscuit (Regular Biscuit)",
          "Southern Style Chicken Biscuit (Large Biscuit)",
          "Steak & Egg Biscuit (Regular Biscuit)",
          "Bacon, Egg & Cheese McGriddles",
          "Bacon, Egg & Cheese McGriddles with Egg Whites",
          "Sausage McGriddles",
          "Sausage, Egg & Cheese McGriddles",
          "Sausage, Egg & Cheese McGriddles with Egg Whites",
          "Bacon, Egg & Cheese Bagel",
          "Bacon, Egg & Cheese Bagel with Egg Whites",
          "Steak, Egg & Cheese Bagel",
          "Big Breakfast (Regular Biscuit)",
          "Big Breakfast (Large Biscuit)",
          "Big Breakfast with Egg Whites (Regular Biscuit)",
          "Big Breakfast with Egg Whites (Large Biscuit)",
          "Big Breakfast with Hotcakes (Regular Biscuit)",
          "Big Breakfast with Hotcakes (Large Biscuit)",
          "Big Breakfast with Hotcakes and Egg Whites (Regular Biscuit)",
          "Big Breakfast with Hotcakes and Egg Whites (Large Biscuit)",
          "Hotcakes",
          "Hotcakes and Sausage",
          "Sausage Burrito",
          "Hash Brown",
          "Cinnamon Melts",
          "Fruit & Maple Oatmeal",
          "Fruit & Maple Oatmeal without Brown Sugar",
          "Big Mac",
          "Quarter Pounder with Cheese",
          "Quarter Pounder with Bacon & Cheese",
          "Quarter Pounder with Bacon Habanero Ranch",
          "Quarter Pounder Deluxe",
          "Double Quarter Pounder with Cheese",
          "Hamburger",
          "Cheeseburger",
          "Double Cheeseburger",
          "Bacon Clubhouse Burger",
          "McDouble",
          "Bacon McDouble",
          "Daily Double",
          "Jalapeño Double",
          "McRib",
          "Premium Crispy Chicken Classic Sandwich",
          "Premium Grilled Chicken Classic Sandwich",
          "Premium Crispy Chicken Club Sandwich",
          "Premium Grilled Chicken Club Sandwich",
          "Premium Crispy Chicken Ranch BLT Sandwich",
          "Premium Grilled Chicken Ranch BLT Sandwich",
          "Bacon Clubhouse Crispy Chicken Sandwich",
          "Bacon Clubhouse Grilled Chicken Sandwich",
          "Southern Style Crispy Chicken Sandwich",
          "McChicken",
          "Bacon Cheddar McChicken",
          "Bacon Buffalo Ranch McChicken",
          "Buffalo Ranch McChicken",
          "Premium McWrap Chicken & Bacon (Crispy Chicken)",
          "Premium McWrap Chicken & Bacon (Grilled Chicken)",
          "Premium McWrap Chicken & Ranch (Crispy Chicken)",
          "Premium McWrap Chicken & Ranch (Grilled Chicken)",
          "Premium McWrap Southwest Chicken (Crispy Chicken)",
          "Premium McWrap Southwest Chicken (Grilled Chicken)",
          "Premium McWrap Chicken Sweet Chili (Crispy Chicken)",
          "Premium McWrap Chicken Sweet Chili (Grilled Chicken)",
          "Chicken McNuggets (4 piece)",
          "Chicken McNuggets (6 piece)",
          "Chicken McNuggets (10 piece)",
          "Chicken McNuggets (20 piece)",
          "Chicken McNuggets (40 piece)",
          "Filet-O-Fish",
          "Premium Bacon Ranch Salad (without Chicken)",
          "Premium Bacon Ranch Salad with Crispy Chicken",
          "Premium Bacon Ranch Salad with Grilled Chicken",
          "Premium Southwest Salad (without Chicken)",
          "Premium Southwest Salad with Crispy Chicken",
          "Premium Southwest Salad with Grilled Chicken",
          "Chipotle BBQ Snack Wrap (Crispy Chicken)",
          "Chipotle BBQ Snack Wrap (Grilled Chicken)",
          "Honey Mustard Snack Wrap (Crispy Chicken)",
          "Honey Mustard Snack Wrap (Grilled Chicken)",
          "Ranch Snack Wrap (Crispy Chicken)",
          "Ranch Snack Wrap (Grilled Chicken)",
          "Small French Fries",
          "Medium French Fries",
          "Large French Fries",
          "Kids French Fries",
          "Side Salad",
          "Apple Slices",
          "Fruit 'n Yogurt Parfait",
          "Baked Apple Pie",
          "Chocolate Chip Cookie",
          "Oatmeal Raisin Cookie",
          "Kids Ice Cream Cone",
          "Hot Fudge Sundae",
          "Hot Caramel Sundae",
          "Strawberry Sundae",
          "Coca-Cola Classic (Small)",
          "Coca-Cola Classic (Medium)",
          "Coca-Cola Classic (Large)",
          "Coca-Cola Classic (Child)",
          "Diet Coke (Small)",
          "Diet Coke (Medium)",
          "Diet Coke (Large)",
          "Diet Coke (Child)",
          "Dr Pepper (Small)",
          "Dr Pepper (Medium)",
          "Dr Pepper (Large)",
          "Dr Pepper (Child)",
          "Diet Dr Pepper (Small)",
          "Diet Dr Pepper (Medium)",
          "Diet Dr Pepper (Large)",
          "Diet Dr Pepper (Child)",
          "Sprite (Small)",
          "Sprite (Medium)",
          "Sprite (Large)",
          "Sprite (Child)",
          "1% Low Fat Milk Jug",
          "Fat Free Chocolate Milk Jug",
          "Minute Maid 100% Apple Juice Box",
          "Minute Maid Orange Juice (Small)",
          "Minute Maid Orange Juice (Medium)",
          "Minute Maid Orange Juice (Large)",
          "Dasani Water Bottle",
          "Iced Tea (Small)",
          "Iced Tea (Medium)",
          "Iced Tea (Large)",
          "Iced Tea (Child)",
          "Sweet Tea (Small)",
          "Sweet Tea (Medium)",
          "Sweet Tea (Large)",
          "Sweet Tea (Child)",
          "Coffee (Small)",
          "Coffee (Medium)",
          "Coffee (Large)",
          "Latte (Small)",
          "Latte (Medium)",
          "Latte (Large)",
          "Caramel Latte (Small)",
          "Caramel Latte (Medium)",
          "Caramel Latte (Large)",
          "Hazelnut Latte (Small)",
          "Hazelnut Latte (Medium)",
          "Hazelnut Latte (Large)",
          "French Vanilla Latte (Small)",
          "French Vanilla Latte (Medium)",
          "French Vanilla Latte (Large)",
          "Latte with Sugar Free French Vanilla Syrup (Small)",
          "Latte with Sugar Free French Vanilla Syrup (Medium)",
          "Latte with Sugar Free French Vanilla Syrup (Large)",
          "Nonfat Latte (Small)",
          "Nonfat Latte (Medium)",
          "Nonfat Latte (Large)",
          "Nonfat Caramel Latte (Small)",
          "Nonfat Caramel Latte (Medium)",
          "Nonfat Caramel Latte (Large)",
          "Nonfat Hazelnut Latte (Small)",
          "Nonfat Hazelnut Latte (Medium)",
          "Nonfat Hazelnut Latte (Large)",
          "Nonfat French Vanilla Latte (Small)",
          "Nonfat French Vanilla Latte (Medium)",
          "Nonfat French Vanilla Latte (Large)",
          "Nonfat Latte with Sugar Free French Vanilla Syrup (Small)",
          "Nonfat Latte with Sugar Free French Vanilla Syrup (Medium)",
          "Nonfat Latte with Sugar Free French Vanilla Syrup (Large)",
          "Mocha (Small)",
          "Mocha (Medium)",
          "Mocha (Large)",
          "Mocha with Nonfat Milk (Small)",
          "Mocha with Nonfat Milk (Medium)",
          "Mocha with Nonfat Milk (Large)",
          "Caramel Mocha (Small)",
          "Caramel Mocha (Medium)",
          "Caramel Mocha (Large)",
          "Nonfat Caramel Mocha (Small)",
          "Nonfat Caramel Mocha (Medium)",
          "Nonfat Caramel Mocha (Large)",
          "Hot Chocolate (Small)",
          "Hot Chocolate (Medium)",
          "Hot Chocolate (Large)",
          "Hot Chocolate with Nonfat Milk (Small)",
          "Hot Chocolate with Nonfat Milk (Medium)",
          "Hot Chocolate with Nonfat Milk (Large)",
          "Regular Iced Coffee (Small)",
          "Regular Iced Coffee (Medium)",
          "Regular Iced Coffee (Large)",
          "Caramel Iced Coffee (Small)",
          "Caramel Iced Coffee (Medium)",
          "Caramel Iced Coffee (Large)",
          "Hazelnut Iced Coffee (Small)",
          "Hazelnut Iced Coffee (Medium)",
          "Hazelnut Iced Coffee (Large)",
          "French Vanilla Iced Coffee (Small)",
          "French Vanilla Iced Coffee (Medium)",
          "French Vanilla Iced Coffee (Large)",
          "Iced Coffee with Sugar Free French Vanilla Syrup (Small)",
          "Iced Coffee with Sugar Free French Vanilla Syrup (Medium)",
          "Iced Coffee with Sugar Free French Vanilla Syrup (Large)",
          "Iced Mocha (Small)",
          "Iced Mocha (Medium)",
          "Iced Mocha (Large)",
          "Iced Mocha with Nonfat Milk (Small)",
          "Iced Mocha with Nonfat Milk (Medium)",
          "Iced Mocha with Nonfat Milk (Large)",
          "Iced Caramel Mocha (Small)",
          "Iced Caramel Mocha (Medium)",
          "Iced Caramel Mocha (Large)",
          "Iced Nonfat Caramel Mocha (Small)",
          "Iced Nonfat Caramel Mocha (Medium)",
          "Iced Nonfat Caramel Mocha (Large)",
          "Frappé Mocha (Small)",
          "Frappé Mocha (Medium)",
          "Frappé Mocha (Large)",
          "Frappé Caramel (Small)",
          "Frappé Caramel (Medium)",
          "Frappé Caramel (Large)",
          "Frappé Chocolate Chip (Small)",
          "Frappé Chocolate Chip (Medium)",
          "Frappé Chocolate Chip (Large)",
          "Blueberry Pomegranate Smoothie (Small)",
          "Blueberry Pomegranate Smoothie (Medium)",
          "Blueberry Pomegranate Smoothie (Large)",
          "Strawberry Banana Smoothie (Small)",
          "Strawberry Banana Smoothie (Medium)",
          "Strawberry Banana Smoothie (Large)",
          "Mango Pineapple Smoothie (Small)",
          "Mango Pineapple Smoothie (Medium)",
          "Mango Pineapple Smoothie (Large)",
          "Vanilla Shake (Small)",
          "Vanilla Shake (Medium)",
          "Vanilla Shake (Large)",
          "Strawberry Shake (Small)",
          "Strawberry Shake (Medium)",
          "Strawberry Shake (Large)",
          "Chocolate Shake (Small)",
          "Chocolate Shake (Medium)",
          "Chocolate Shake (Large)",
          "Shamrock Shake (Medium)",
          "Shamrock Shake (Large)",
          "McFlurry with M&M’s Candies (Small)",
          "McFlurry with M&M’s Candies (Medium)",
          "McFlurry with M&M’s Candies (Snack)",
          "McFlurry with Oreo Cookies (Small)",
          "McFlurry with Oreo Cookies (Medium)",
          "McFlurry with Oreo Cookies (Snack)",
          "McFlurry with Reese's Peanut Butter Cups (Medium)",
          "McFlurry with Reese's Peanut Butter Cups (Snack)"
         ],
         "y": [
          31,
          32,
          33,
          36,
          37,
          40,
          54,
          59,
          54,
          59,
          45,
          50,
          49,
          53,
          49,
          54,
          49,
          54,
          61,
          52,
          52,
          43,
          55,
          55,
          62,
          62,
          63,
          65,
          70,
          66,
          71,
          90,
          94,
          91,
          95,
          24,
          39,
          33,
          13,
          15,
          7,
          5,
          40,
          46,
          60,
          49,
          40,
          53,
          20,
          28,
          43,
          61,
          35,
          46,
          32,
          43,
          41,
          41,
          34,
          59,
          52,
          58,
          51,
          72,
          65,
          38,
          33,
          53,
          53,
          41,
          64,
          57,
          56,
          49,
          62,
          55,
          52,
          45,
          15,
          22,
          37,
          75,
          150,
          24,
          13,
          36,
          29,
          6,
          35,
          28,
          33,
          29,
          30,
          27,
          34,
          30,
          5,
          8,
          12,
          3,
          0,
          0,
          3,
          7,
          4,
          6,
          1,
          7,
          6,
          4,
          0,
          0,
          0,
          0,
          0,
          1,
          1,
          1,
          2,
          3,
          4,
          1,
          3,
          4,
          6,
          2,
          1,
          2,
          3,
          1,
          5,
          6,
          1,
          0,
          0,
          0,
          0,
          0,
          0,
          1,
          0,
          0,
          0,
          1,
          0,
          0,
          0,
          0,
          5,
          6,
          8,
          5,
          6,
          8,
          5,
          6,
          8,
          5,
          6,
          8,
          6,
          8,
          10,
          5,
          6,
          7,
          5,
          6,
          7,
          5,
          6,
          7,
          5,
          6,
          8,
          6,
          8,
          10,
          6,
          8,
          10,
          6,
          8,
          10,
          7,
          9,
          11,
          7,
          9,
          11,
          8,
          9,
          12,
          7,
          9,
          12,
          1,
          2,
          3,
          2,
          2,
          3,
          1,
          2,
          3,
          2,
          2,
          3,
          3,
          4,
          6,
          5,
          6,
          9,
          5,
          6,
          9,
          6,
          7,
          10,
          6,
          7,
          10,
          5,
          7,
          8,
          5,
          7,
          8,
          6,
          7,
          8,
          2,
          2,
          3,
          2,
          2,
          3,
          2,
          2,
          3,
          7,
          9,
          11,
          7,
          9,
          11,
          10,
          13,
          16,
          9,
          11,
          7,
          11,
          5,
          12,
          16,
          8,
          17,
          8
         ]
        }
       ],
       "layout": {
        "autosize": true,
        "hovermode": "closest",
        "showlegend": false,
        "template": {
         "data": {
          "bar": [
           {
            "error_x": {
             "color": "#2a3f5f"
            },
            "error_y": {
             "color": "#2a3f5f"
            },
            "marker": {
             "line": {
              "color": "#E5ECF6",
              "width": 0.5
             }
            },
            "type": "bar"
           }
          ],
          "barpolar": [
           {
            "marker": {
             "line": {
              "color": "#E5ECF6",
              "width": 0.5
             }
            },
            "type": "barpolar"
           }
          ],
          "carpet": [
           {
            "aaxis": {
             "endlinecolor": "#2a3f5f",
             "gridcolor": "white",
             "linecolor": "white",
             "minorgridcolor": "white",
             "startlinecolor": "#2a3f5f"
            },
            "baxis": {
             "endlinecolor": "#2a3f5f",
             "gridcolor": "white",
             "linecolor": "white",
             "minorgridcolor": "white",
             "startlinecolor": "#2a3f5f"
            },
            "type": "carpet"
           }
          ],
          "choropleth": [
           {
            "colorbar": {
             "outlinewidth": 0,
             "ticks": ""
            },
            "type": "choropleth"
           }
          ],
          "contour": [
           {
            "colorbar": {
             "outlinewidth": 0,
             "ticks": ""
            },
            "colorscale": [
             [
              0,
              "#0d0887"
             ],
             [
              0.1111111111111111,
              "#46039f"
             ],
             [
              0.2222222222222222,
              "#7201a8"
             ],
             [
              0.3333333333333333,
              "#9c179e"
             ],
             [
              0.4444444444444444,
              "#bd3786"
             ],
             [
              0.5555555555555556,
              "#d8576b"
             ],
             [
              0.6666666666666666,
              "#ed7953"
             ],
             [
              0.7777777777777778,
              "#fb9f3a"
             ],
             [
              0.8888888888888888,
              "#fdca26"
             ],
             [
              1,
              "#f0f921"
             ]
            ],
            "type": "contour"
           }
          ],
          "contourcarpet": [
           {
            "colorbar": {
             "outlinewidth": 0,
             "ticks": ""
            },
            "type": "contourcarpet"
           }
          ],
          "heatmap": [
           {
            "colorbar": {
             "outlinewidth": 0,
             "ticks": ""
            },
            "colorscale": [
             [
              0,
              "#0d0887"
             ],
             [
              0.1111111111111111,
              "#46039f"
             ],
             [
              0.2222222222222222,
              "#7201a8"
             ],
             [
              0.3333333333333333,
              "#9c179e"
             ],
             [
              0.4444444444444444,
              "#bd3786"
             ],
             [
              0.5555555555555556,
              "#d8576b"
             ],
             [
              0.6666666666666666,
              "#ed7953"
             ],
             [
              0.7777777777777778,
              "#fb9f3a"
             ],
             [
              0.8888888888888888,
              "#fdca26"
             ],
             [
              1,
              "#f0f921"
             ]
            ],
            "type": "heatmap"
           }
          ],
          "heatmapgl": [
           {
            "colorbar": {
             "outlinewidth": 0,
             "ticks": ""
            },
            "colorscale": [
             [
              0,
              "#0d0887"
             ],
             [
              0.1111111111111111,
              "#46039f"
             ],
             [
              0.2222222222222222,
              "#7201a8"
             ],
             [
              0.3333333333333333,
              "#9c179e"
             ],
             [
              0.4444444444444444,
              "#bd3786"
             ],
             [
              0.5555555555555556,
              "#d8576b"
             ],
             [
              0.6666666666666666,
              "#ed7953"
             ],
             [
              0.7777777777777778,
              "#fb9f3a"
             ],
             [
              0.8888888888888888,
              "#fdca26"
             ],
             [
              1,
              "#f0f921"
             ]
            ],
            "type": "heatmapgl"
           }
          ],
          "histogram": [
           {
            "marker": {
             "colorbar": {
              "outlinewidth": 0,
              "ticks": ""
             }
            },
            "type": "histogram"
           }
          ],
          "histogram2d": [
           {
            "colorbar": {
             "outlinewidth": 0,
             "ticks": ""
            },
            "colorscale": [
             [
              0,
              "#0d0887"
             ],
             [
              0.1111111111111111,
              "#46039f"
             ],
             [
              0.2222222222222222,
              "#7201a8"
             ],
             [
              0.3333333333333333,
              "#9c179e"
             ],
             [
              0.4444444444444444,
              "#bd3786"
             ],
             [
              0.5555555555555556,
              "#d8576b"
             ],
             [
              0.6666666666666666,
              "#ed7953"
             ],
             [
              0.7777777777777778,
              "#fb9f3a"
             ],
             [
              0.8888888888888888,
              "#fdca26"
             ],
             [
              1,
              "#f0f921"
             ]
            ],
            "type": "histogram2d"
           }
          ],
          "histogram2dcontour": [
           {
            "colorbar": {
             "outlinewidth": 0,
             "ticks": ""
            },
            "colorscale": [
             [
              0,
              "#0d0887"
             ],
             [
              0.1111111111111111,
              "#46039f"
             ],
             [
              0.2222222222222222,
              "#7201a8"
             ],
             [
              0.3333333333333333,
              "#9c179e"
             ],
             [
              0.4444444444444444,
              "#bd3786"
             ],
             [
              0.5555555555555556,
              "#d8576b"
             ],
             [
              0.6666666666666666,
              "#ed7953"
             ],
             [
              0.7777777777777778,
              "#fb9f3a"
             ],
             [
              0.8888888888888888,
              "#fdca26"
             ],
             [
              1,
              "#f0f921"
             ]
            ],
            "type": "histogram2dcontour"
           }
          ],
          "mesh3d": [
           {
            "colorbar": {
             "outlinewidth": 0,
             "ticks": ""
            },
            "type": "mesh3d"
           }
          ],
          "parcoords": [
           {
            "line": {
             "colorbar": {
              "outlinewidth": 0,
              "ticks": ""
             }
            },
            "type": "parcoords"
           }
          ],
          "pie": [
           {
            "automargin": true,
            "type": "pie"
           }
          ],
          "scatter": [
           {
            "marker": {
             "colorbar": {
              "outlinewidth": 0,
              "ticks": ""
             }
            },
            "type": "scatter"
           }
          ],
          "scatter3d": [
           {
            "line": {
             "colorbar": {
              "outlinewidth": 0,
              "ticks": ""
             }
            },
            "marker": {
             "colorbar": {
              "outlinewidth": 0,
              "ticks": ""
             }
            },
            "type": "scatter3d"
           }
          ],
          "scattercarpet": [
           {
            "marker": {
             "colorbar": {
              "outlinewidth": 0,
              "ticks": ""
             }
            },
            "type": "scattercarpet"
           }
          ],
          "scattergeo": [
           {
            "marker": {
             "colorbar": {
              "outlinewidth": 0,
              "ticks": ""
             }
            },
            "type": "scattergeo"
           }
          ],
          "scattergl": [
           {
            "marker": {
             "colorbar": {
              "outlinewidth": 0,
              "ticks": ""
             }
            },
            "type": "scattergl"
           }
          ],
          "scattermapbox": [
           {
            "marker": {
             "colorbar": {
              "outlinewidth": 0,
              "ticks": ""
             }
            },
            "type": "scattermapbox"
           }
          ],
          "scatterpolar": [
           {
            "marker": {
             "colorbar": {
              "outlinewidth": 0,
              "ticks": ""
             }
            },
            "type": "scatterpolar"
           }
          ],
          "scatterpolargl": [
           {
            "marker": {
             "colorbar": {
              "outlinewidth": 0,
              "ticks": ""
             }
            },
            "type": "scatterpolargl"
           }
          ],
          "scatterternary": [
           {
            "marker": {
             "colorbar": {
              "outlinewidth": 0,
              "ticks": ""
             }
            },
            "type": "scatterternary"
           }
          ],
          "surface": [
           {
            "colorbar": {
             "outlinewidth": 0,
             "ticks": ""
            },
            "colorscale": [
             [
              0,
              "#0d0887"
             ],
             [
              0.1111111111111111,
              "#46039f"
             ],
             [
              0.2222222222222222,
              "#7201a8"
             ],
             [
              0.3333333333333333,
              "#9c179e"
             ],
             [
              0.4444444444444444,
              "#bd3786"
             ],
             [
              0.5555555555555556,
              "#d8576b"
             ],
             [
              0.6666666666666666,
              "#ed7953"
             ],
             [
              0.7777777777777778,
              "#fb9f3a"
             ],
             [
              0.8888888888888888,
              "#fdca26"
             ],
             [
              1,
              "#f0f921"
             ]
            ],
            "type": "surface"
           }
          ],
          "table": [
           {
            "cells": {
             "fill": {
              "color": "#EBF0F8"
             },
             "line": {
              "color": "white"
             }
            },
            "header": {
             "fill": {
              "color": "#C8D4E3"
             },
             "line": {
              "color": "white"
             }
            },
            "type": "table"
           }
          ]
         },
         "layout": {
          "annotationdefaults": {
           "arrowcolor": "#2a3f5f",
           "arrowhead": 0,
           "arrowwidth": 1
          },
          "coloraxis": {
           "colorbar": {
            "outlinewidth": 0,
            "ticks": ""
           }
          },
          "colorscale": {
           "diverging": [
            [
             0,
             "#8e0152"
            ],
            [
             0.1,
             "#c51b7d"
            ],
            [
             0.2,
             "#de77ae"
            ],
            [
             0.3,
             "#f1b6da"
            ],
            [
             0.4,
             "#fde0ef"
            ],
            [
             0.5,
             "#f7f7f7"
            ],
            [
             0.6,
             "#e6f5d0"
            ],
            [
             0.7,
             "#b8e186"
            ],
            [
             0.8,
             "#7fbc41"
            ],
            [
             0.9,
             "#4d9221"
            ],
            [
             1,
             "#276419"
            ]
           ],
           "sequential": [
            [
             0,
             "#0d0887"
            ],
            [
             0.1111111111111111,
             "#46039f"
            ],
            [
             0.2222222222222222,
             "#7201a8"
            ],
            [
             0.3333333333333333,
             "#9c179e"
            ],
            [
             0.4444444444444444,
             "#bd3786"
            ],
            [
             0.5555555555555556,
             "#d8576b"
            ],
            [
             0.6666666666666666,
             "#ed7953"
            ],
            [
             0.7777777777777778,
             "#fb9f3a"
            ],
            [
             0.8888888888888888,
             "#fdca26"
            ],
            [
             1,
             "#f0f921"
            ]
           ],
           "sequentialminus": [
            [
             0,
             "#0d0887"
            ],
            [
             0.1111111111111111,
             "#46039f"
            ],
            [
             0.2222222222222222,
             "#7201a8"
            ],
            [
             0.3333333333333333,
             "#9c179e"
            ],
            [
             0.4444444444444444,
             "#bd3786"
            ],
            [
             0.5555555555555556,
             "#d8576b"
            ],
            [
             0.6666666666666666,
             "#ed7953"
            ],
            [
             0.7777777777777778,
             "#fb9f3a"
            ],
            [
             0.8888888888888888,
             "#fdca26"
            ],
            [
             1,
             "#f0f921"
            ]
           ]
          },
          "colorway": [
           "#636efa",
           "#EF553B",
           "#00cc96",
           "#ab63fa",
           "#FFA15A",
           "#19d3f3",
           "#FF6692",
           "#B6E880",
           "#FF97FF",
           "#FECB52"
          ],
          "font": {
           "color": "#2a3f5f"
          },
          "geo": {
           "bgcolor": "white",
           "lakecolor": "white",
           "landcolor": "#E5ECF6",
           "showlakes": true,
           "showland": true,
           "subunitcolor": "white"
          },
          "hoverlabel": {
           "align": "left"
          },
          "hovermode": "closest",
          "mapbox": {
           "style": "light"
          },
          "paper_bgcolor": "white",
          "plot_bgcolor": "#E5ECF6",
          "polar": {
           "angularaxis": {
            "gridcolor": "white",
            "linecolor": "white",
            "ticks": ""
           },
           "bgcolor": "#E5ECF6",
           "radialaxis": {
            "gridcolor": "white",
            "linecolor": "white",
            "ticks": ""
           }
          },
          "scene": {
           "xaxis": {
            "backgroundcolor": "#E5ECF6",
            "gridcolor": "white",
            "gridwidth": 2,
            "linecolor": "white",
            "showbackground": true,
            "ticks": "",
            "zerolinecolor": "white"
           },
           "yaxis": {
            "backgroundcolor": "#E5ECF6",
            "gridcolor": "white",
            "gridwidth": 2,
            "linecolor": "white",
            "showbackground": true,
            "ticks": "",
            "zerolinecolor": "white"
           },
           "zaxis": {
            "backgroundcolor": "#E5ECF6",
            "gridcolor": "white",
            "gridwidth": 2,
            "linecolor": "white",
            "showbackground": true,
            "ticks": "",
            "zerolinecolor": "white"
           }
          },
          "shapedefaults": {
           "line": {
            "color": "#2a3f5f"
           }
          },
          "ternary": {
           "aaxis": {
            "gridcolor": "white",
            "linecolor": "white",
            "ticks": ""
           },
           "baxis": {
            "gridcolor": "white",
            "linecolor": "white",
            "ticks": ""
           },
           "bgcolor": "#E5ECF6",
           "caxis": {
            "gridcolor": "white",
            "linecolor": "white",
            "ticks": ""
           }
          },
          "title": {
           "x": 0.05
          },
          "xaxis": {
           "automargin": true,
           "gridcolor": "white",
           "linecolor": "white",
           "ticks": "",
           "title": {
            "standoff": 15
           },
           "zerolinecolor": "white",
           "zerolinewidth": 2
          },
          "yaxis": {
           "automargin": true,
           "gridcolor": "white",
           "linecolor": "white",
           "ticks": "",
           "title": {
            "standoff": 15
           },
           "zerolinecolor": "white",
           "zerolinewidth": 2
          }
         }
        },
        "title": {
         "text": "Scatter plot of Sodium (% Daily Value) per Item on the Menu"
        },
        "xaxis": {
         "showgrid": false,
         "showline": false,
         "zeroline": false
        },
        "yaxis": {
         "gridwidth": 2,
         "showgrid": false,
         "showline": false,
         "ticklen": 5,
         "title": {
          "text": "Sodium (% Daily Value)"
         },
         "zeroline": false
        }
       }
      },
      "text/html": [
       "<div>\n",
       "        \n",
       "        \n",
       "            <div id=\"b35a21bd-de7e-4869-aa66-2e2986aec9af\" class=\"plotly-graph-div\" style=\"height:525px; width:100%;\"></div>\n",
       "            <script type=\"text/javascript\">\n",
       "                require([\"plotly\"], function(Plotly) {\n",
       "                    window.PLOTLYENV=window.PLOTLYENV || {};\n",
       "                    \n",
       "                if (document.getElementById(\"b35a21bd-de7e-4869-aa66-2e2986aec9af\")) {\n",
       "                    Plotly.newPlot(\n",
       "                        'b35a21bd-de7e-4869-aa66-2e2986aec9af',\n",
       "                        [{\"marker\": {\"color\": [31, 32, 33, 36, 37, 40, 54, 59, 54, 59, 45, 50, 49, 53, 49, 54, 49, 54, 61, 52, 52, 43, 55, 55, 62, 62, 63, 65, 70, 66, 71, 90, 94, 91, 95, 24, 39, 33, 13, 15, 7, 5, 40, 46, 60, 49, 40, 53, 20, 28, 43, 61, 35, 46, 32, 43, 41, 41, 34, 59, 52, 58, 51, 72, 65, 38, 33, 53, 53, 41, 64, 57, 56, 49, 62, 55, 52, 45, 15, 22, 37, 75, 150, 24, 13, 36, 29, 6, 35, 28, 33, 29, 30, 27, 34, 30, 5, 8, 12, 3, 0, 0, 3, 7, 4, 6, 1, 7, 6, 4, 0, 0, 0, 0, 0, 1, 1, 1, 2, 3, 4, 1, 3, 4, 6, 2, 1, 2, 3, 1, 5, 6, 1, 0, 0, 0, 0, 0, 0, 1, 0, 0, 0, 1, 0, 0, 0, 0, 5, 6, 8, 5, 6, 8, 5, 6, 8, 5, 6, 8, 6, 8, 10, 5, 6, 7, 5, 6, 7, 5, 6, 7, 5, 6, 8, 6, 8, 10, 6, 8, 10, 6, 8, 10, 7, 9, 11, 7, 9, 11, 8, 9, 12, 7, 9, 12, 1, 2, 3, 2, 2, 3, 1, 2, 3, 2, 2, 3, 3, 4, 6, 5, 6, 9, 5, 6, 9, 6, 7, 10, 6, 7, 10, 5, 7, 8, 5, 7, 8, 6, 7, 8, 2, 2, 3, 2, 2, 3, 2, 2, 3, 7, 9, 11, 7, 9, 11, 10, 13, 16, 9, 11, 7, 11, 5, 12, 16, 8, 17, 8], \"colorscale\": [[0.0, \"rgb(12,51,131)\"], [0.25, \"rgb(10,136,186)\"], [0.5, \"rgb(242,211,56)\"], [0.75, \"rgb(242,143,56)\"], [1.0, \"rgb(217,30,30)\"]], \"showscale\": true, \"size\": [31, 32, 33, 36, 37, 40, 54, 59, 54, 59, 45, 50, 49, 53, 49, 54, 49, 54, 61, 52, 52, 43, 55, 55, 62, 62, 63, 65, 70, 66, 71, 90, 94, 91, 95, 24, 39, 33, 13, 15, 7, 5, 40, 46, 60, 49, 40, 53, 20, 28, 43, 61, 35, 46, 32, 43, 41, 41, 34, 59, 52, 58, 51, 72, 65, 38, 33, 53, 53, 41, 64, 57, 56, 49, 62, 55, 52, 45, 15, 22, 37, 75, 150, 24, 13, 36, 29, 6, 35, 28, 33, 29, 30, 27, 34, 30, 5, 8, 12, 3, 0, 0, 3, 7, 4, 6, 1, 7, 6, 4, 0, 0, 0, 0, 0, 1, 1, 1, 2, 3, 4, 1, 3, 4, 6, 2, 1, 2, 3, 1, 5, 6, 1, 0, 0, 0, 0, 0, 0, 1, 0, 0, 0, 1, 0, 0, 0, 0, 5, 6, 8, 5, 6, 8, 5, 6, 8, 5, 6, 8, 6, 8, 10, 5, 6, 7, 5, 6, 7, 5, 6, 7, 5, 6, 8, 6, 8, 10, 6, 8, 10, 6, 8, 10, 7, 9, 11, 7, 9, 11, 8, 9, 12, 7, 9, 12, 1, 2, 3, 2, 2, 3, 1, 2, 3, 2, 2, 3, 3, 4, 6, 5, 6, 9, 5, 6, 9, 6, 7, 10, 6, 7, 10, 5, 7, 8, 5, 7, 8, 6, 7, 8, 2, 2, 3, 2, 2, 3, 2, 2, 3, 7, 9, 11, 7, 9, 11, 10, 13, 16, 9, 11, 7, 11, 5, 12, 16, 8, 17, 8]}, \"mode\": \"markers\", \"text\": [\"Egg McMuffin\", \"Egg White Delight\", \"Sausage McMuffin\", \"Sausage McMuffin with Egg\", \"Sausage McMuffin with Egg Whites\", \"Steak & Egg McMuffin\", \"Bacon, Egg & Cheese Biscuit (Regular Biscuit)\", \"Bacon, Egg & Cheese Biscuit (Large Biscuit)\", \"Bacon, Egg & Cheese Biscuit with Egg Whites (Regular Biscuit)\", \"Bacon, Egg & Cheese Biscuit with Egg Whites (Large Biscuit)\", \"Sausage Biscuit (Regular Biscuit)\", \"Sausage Biscuit (Large Biscuit)\", \"Sausage Biscuit with Egg (Regular Biscuit)\", \"Sausage Biscuit with Egg (Large Biscuit)\", \"Sausage Biscuit with Egg Whites (Regular Biscuit)\", \"Sausage Biscuit with Egg Whites (Large Biscuit)\", \"Southern Style Chicken Biscuit (Regular Biscuit)\", \"Southern Style Chicken Biscuit (Large Biscuit)\", \"Steak & Egg Biscuit (Regular Biscuit)\", \"Bacon, Egg & Cheese McGriddles\", \"Bacon, Egg & Cheese McGriddles with Egg Whites\", \"Sausage McGriddles\", \"Sausage, Egg & Cheese McGriddles\", \"Sausage, Egg & Cheese McGriddles with Egg Whites\", \"Bacon, Egg & Cheese Bagel\", \"Bacon, Egg & Cheese Bagel with Egg Whites\", \"Steak, Egg & Cheese Bagel\", \"Big Breakfast (Regular Biscuit)\", \"Big Breakfast (Large Biscuit)\", \"Big Breakfast with Egg Whites (Regular Biscuit)\", \"Big Breakfast with Egg Whites (Large Biscuit)\", \"Big Breakfast with Hotcakes (Regular Biscuit)\", \"Big Breakfast with Hotcakes (Large Biscuit)\", \"Big Breakfast with Hotcakes and Egg Whites (Regular Biscuit)\", \"Big Breakfast with Hotcakes and Egg Whites (Large Biscuit)\", \"Hotcakes\", \"Hotcakes and Sausage\", \"Sausage Burrito\", \"Hash Brown\", \"Cinnamon Melts\", \"Fruit & Maple Oatmeal\", \"Fruit & Maple Oatmeal without Brown Sugar\", \"Big Mac\", \"Quarter Pounder with Cheese\", \"Quarter Pounder with Bacon & Cheese\", \"Quarter Pounder with Bacon Habanero Ranch\", \"Quarter Pounder Deluxe\", \"Double Quarter Pounder with Cheese\", \"Hamburger\", \"Cheeseburger\", \"Double Cheeseburger\", \"Bacon Clubhouse Burger\", \"McDouble\", \"Bacon McDouble\", \"Daily Double\", \"Jalape\\u00f1o Double\", \"McRib\", \"Premium Crispy Chicken Classic Sandwich\", \"Premium Grilled Chicken Classic Sandwich\", \"Premium Crispy Chicken Club Sandwich\", \"Premium Grilled Chicken Club Sandwich\", \"Premium Crispy Chicken Ranch BLT Sandwich\", \"Premium Grilled Chicken Ranch BLT Sandwich\", \"Bacon Clubhouse Crispy Chicken Sandwich\", \"Bacon Clubhouse Grilled Chicken Sandwich\", \"Southern Style Crispy Chicken Sandwich\", \"McChicken\", \"Bacon Cheddar McChicken\", \"Bacon Buffalo Ranch McChicken\", \"Buffalo Ranch McChicken\", \"Premium McWrap Chicken & Bacon (Crispy Chicken)\", \"Premium McWrap Chicken & Bacon (Grilled Chicken)\", \"Premium McWrap Chicken & Ranch (Crispy Chicken)\", \"Premium McWrap Chicken & Ranch (Grilled Chicken)\", \"Premium McWrap Southwest Chicken (Crispy Chicken)\", \"Premium McWrap Southwest Chicken (Grilled Chicken)\", \"Premium McWrap Chicken Sweet Chili (Crispy Chicken)\", \"Premium McWrap Chicken Sweet Chili (Grilled Chicken)\", \"Chicken McNuggets (4 piece)\", \"Chicken McNuggets (6 piece)\", \"Chicken McNuggets (10 piece)\", \"Chicken McNuggets (20 piece)\", \"Chicken McNuggets (40 piece)\", \"Filet-O-Fish\", \"Premium Bacon Ranch Salad (without Chicken)\", \"Premium Bacon Ranch Salad with Crispy Chicken\", \"Premium Bacon Ranch Salad with Grilled Chicken\", \"Premium Southwest Salad (without Chicken)\", \"Premium Southwest Salad with Crispy Chicken\", \"Premium Southwest Salad with Grilled Chicken\", \"Chipotle BBQ Snack Wrap (Crispy Chicken)\", \"Chipotle BBQ Snack Wrap (Grilled Chicken)\", \"Honey Mustard Snack Wrap (Crispy Chicken)\", \"Honey Mustard Snack Wrap (Grilled Chicken)\", \"Ranch Snack Wrap (Crispy Chicken)\", \"Ranch Snack Wrap (Grilled Chicken)\", \"Small French Fries\", \"Medium French Fries\", \"Large French Fries\", \"Kids French Fries\", \"Side Salad\", \"Apple Slices\", \"Fruit 'n Yogurt Parfait\", \"Baked Apple Pie\", \"Chocolate Chip Cookie\", \"Oatmeal Raisin Cookie\", \"Kids Ice Cream Cone\", \"Hot Fudge Sundae\", \"Hot Caramel Sundae\", \"Strawberry Sundae\", \"Coca-Cola Classic (Small)\", \"Coca-Cola Classic (Medium)\", \"Coca-Cola Classic (Large)\", \"Coca-Cola Classic (Child)\", \"Diet Coke (Small)\", \"Diet Coke (Medium)\", \"Diet Coke (Large)\", \"Diet Coke (Child)\", \"Dr Pepper (Small)\", \"Dr Pepper (Medium)\", \"Dr Pepper (Large)\", \"Dr Pepper (Child)\", \"Diet Dr Pepper (Small)\", \"Diet Dr Pepper (Medium)\", \"Diet Dr Pepper (Large)\", \"Diet Dr Pepper (Child)\", \"Sprite (Small)\", \"Sprite (Medium)\", \"Sprite (Large)\", \"Sprite (Child)\", \"1% Low Fat Milk Jug\", \"Fat Free Chocolate Milk Jug\", \"Minute Maid 100% Apple Juice Box\", \"Minute Maid Orange Juice (Small)\", \"Minute Maid Orange Juice (Medium)\", \"Minute Maid Orange Juice (Large)\", \"Dasani Water Bottle\", \"Iced Tea (Small)\", \"Iced Tea (Medium)\", \"Iced Tea (Large)\", \"Iced Tea (Child)\", \"Sweet Tea (Small)\", \"Sweet Tea (Medium)\", \"Sweet Tea (Large)\", \"Sweet Tea (Child)\", \"Coffee (Small)\", \"Coffee (Medium)\", \"Coffee (Large)\", \"Latte (Small)\", \"Latte (Medium)\", \"Latte (Large)\", \"Caramel Latte (Small)\", \"Caramel Latte (Medium)\", \"Caramel Latte (Large)\", \"Hazelnut Latte (Small)\", \"Hazelnut Latte (Medium)\", \"Hazelnut Latte (Large)\", \"French Vanilla Latte (Small)\", \"French Vanilla Latte (Medium)\", \"French Vanilla Latte (Large)\", \"Latte with Sugar Free French Vanilla Syrup (Small)\", \"Latte with Sugar Free French Vanilla Syrup (Medium)\", \"Latte with Sugar Free French Vanilla Syrup (Large)\", \"Nonfat Latte (Small)\", \"Nonfat Latte (Medium)\", \"Nonfat Latte (Large)\", \"Nonfat Caramel Latte (Small)\", \"Nonfat Caramel Latte (Medium)\", \"Nonfat Caramel Latte (Large)\", \"Nonfat Hazelnut Latte (Small)\", \"Nonfat Hazelnut Latte (Medium)\", \"Nonfat Hazelnut Latte (Large)\", \"Nonfat French Vanilla Latte (Small)\", \"Nonfat French Vanilla Latte (Medium)\", \"Nonfat French Vanilla Latte (Large)\", \"Nonfat Latte with Sugar Free French Vanilla Syrup (Small)\", \"Nonfat Latte with Sugar Free French Vanilla Syrup (Medium)\", \"Nonfat Latte with Sugar Free French Vanilla Syrup (Large)\", \"Mocha (Small)\", \"Mocha (Medium)\", \"Mocha (Large)\", \"Mocha with Nonfat Milk (Small)\", \"Mocha with Nonfat Milk (Medium)\", \"Mocha with Nonfat Milk (Large)\", \"Caramel Mocha (Small)\", \"Caramel Mocha (Medium)\", \"Caramel Mocha (Large)\", \"Nonfat Caramel Mocha (Small)\", \"Nonfat Caramel Mocha (Medium)\", \"Nonfat Caramel Mocha (Large)\", \"Hot Chocolate (Small)\", \"Hot Chocolate (Medium)\", \"Hot Chocolate (Large)\", \"Hot Chocolate with Nonfat Milk (Small)\", \"Hot Chocolate with Nonfat Milk (Medium)\", \"Hot Chocolate with Nonfat Milk (Large)\", \"Regular Iced Coffee (Small)\", \"Regular Iced Coffee (Medium)\", \"Regular Iced Coffee (Large)\", \"Caramel Iced Coffee (Small)\", \"Caramel Iced Coffee (Medium)\", \"Caramel Iced Coffee (Large)\", \"Hazelnut Iced Coffee (Small)\", \"Hazelnut Iced Coffee (Medium)\", \"Hazelnut Iced Coffee (Large)\", \"French Vanilla Iced Coffee (Small)\", \"French Vanilla Iced Coffee (Medium)\", \"French Vanilla Iced Coffee (Large)\", \"Iced Coffee with Sugar Free French Vanilla Syrup (Small)\", \"Iced Coffee with Sugar Free French Vanilla Syrup (Medium)\", \"Iced Coffee with Sugar Free French Vanilla Syrup (Large)\", \"Iced Mocha (Small)\", \"Iced Mocha (Medium)\", \"Iced Mocha (Large)\", \"Iced Mocha with Nonfat Milk (Small)\", \"Iced Mocha with Nonfat Milk (Medium)\", \"Iced Mocha with Nonfat Milk (Large)\", \"Iced Caramel Mocha (Small)\", \"Iced Caramel Mocha (Medium)\", \"Iced Caramel Mocha (Large)\", \"Iced Nonfat Caramel Mocha (Small)\", \"Iced Nonfat Caramel Mocha (Medium)\", \"Iced Nonfat Caramel Mocha (Large)\", \"Frapp\\u00e9 Mocha (Small)\", \"Frapp\\u00e9 Mocha (Medium)\", \"Frapp\\u00e9 Mocha (Large)\", \"Frapp\\u00e9 Caramel (Small)\", \"Frapp\\u00e9 Caramel (Medium)\", \"Frapp\\u00e9 Caramel (Large)\", \"Frapp\\u00e9 Chocolate Chip (Small)\", \"Frapp\\u00e9 Chocolate Chip (Medium)\", \"Frapp\\u00e9 Chocolate Chip (Large)\", \"Blueberry Pomegranate Smoothie (Small)\", \"Blueberry Pomegranate Smoothie (Medium)\", \"Blueberry Pomegranate Smoothie (Large)\", \"Strawberry Banana Smoothie (Small)\", \"Strawberry Banana Smoothie (Medium)\", \"Strawberry Banana Smoothie (Large)\", \"Mango Pineapple Smoothie (Small)\", \"Mango Pineapple Smoothie (Medium)\", \"Mango Pineapple Smoothie (Large)\", \"Vanilla Shake (Small)\", \"Vanilla Shake (Medium)\", \"Vanilla Shake (Large)\", \"Strawberry Shake (Small)\", \"Strawberry Shake (Medium)\", \"Strawberry Shake (Large)\", \"Chocolate Shake (Small)\", \"Chocolate Shake (Medium)\", \"Chocolate Shake (Large)\", \"Shamrock Shake (Medium)\", \"Shamrock Shake (Large)\", \"McFlurry with M&M\\u2019s Candies (Small)\", \"McFlurry with M&M\\u2019s Candies (Medium)\", \"McFlurry with M&M\\u2019s Candies (Snack)\", \"McFlurry with Oreo Cookies (Small)\", \"McFlurry with Oreo Cookies (Medium)\", \"McFlurry with Oreo Cookies (Snack)\", \"McFlurry with Reese's Peanut Butter Cups (Medium)\", \"McFlurry with Reese's Peanut Butter Cups (Snack)\"], \"type\": \"scatter\", \"x\": [\"Egg McMuffin\", \"Egg White Delight\", \"Sausage McMuffin\", \"Sausage McMuffin with Egg\", \"Sausage McMuffin with Egg Whites\", \"Steak & Egg McMuffin\", \"Bacon, Egg & Cheese Biscuit (Regular Biscuit)\", \"Bacon, Egg & Cheese Biscuit (Large Biscuit)\", \"Bacon, Egg & Cheese Biscuit with Egg Whites (Regular Biscuit)\", \"Bacon, Egg & Cheese Biscuit with Egg Whites (Large Biscuit)\", \"Sausage Biscuit (Regular Biscuit)\", \"Sausage Biscuit (Large Biscuit)\", \"Sausage Biscuit with Egg (Regular Biscuit)\", \"Sausage Biscuit with Egg (Large Biscuit)\", \"Sausage Biscuit with Egg Whites (Regular Biscuit)\", \"Sausage Biscuit with Egg Whites (Large Biscuit)\", \"Southern Style Chicken Biscuit (Regular Biscuit)\", \"Southern Style Chicken Biscuit (Large Biscuit)\", \"Steak & Egg Biscuit (Regular Biscuit)\", \"Bacon, Egg & Cheese McGriddles\", \"Bacon, Egg & Cheese McGriddles with Egg Whites\", \"Sausage McGriddles\", \"Sausage, Egg & Cheese McGriddles\", \"Sausage, Egg & Cheese McGriddles with Egg Whites\", \"Bacon, Egg & Cheese Bagel\", \"Bacon, Egg & Cheese Bagel with Egg Whites\", \"Steak, Egg & Cheese Bagel\", \"Big Breakfast (Regular Biscuit)\", \"Big Breakfast (Large Biscuit)\", \"Big Breakfast with Egg Whites (Regular Biscuit)\", \"Big Breakfast with Egg Whites (Large Biscuit)\", \"Big Breakfast with Hotcakes (Regular Biscuit)\", \"Big Breakfast with Hotcakes (Large Biscuit)\", \"Big Breakfast with Hotcakes and Egg Whites (Regular Biscuit)\", \"Big Breakfast with Hotcakes and Egg Whites (Large Biscuit)\", \"Hotcakes\", \"Hotcakes and Sausage\", \"Sausage Burrito\", \"Hash Brown\", \"Cinnamon Melts\", \"Fruit & Maple Oatmeal\", \"Fruit & Maple Oatmeal without Brown Sugar\", \"Big Mac\", \"Quarter Pounder with Cheese\", \"Quarter Pounder with Bacon & Cheese\", \"Quarter Pounder with Bacon Habanero Ranch\", \"Quarter Pounder Deluxe\", \"Double Quarter Pounder with Cheese\", \"Hamburger\", \"Cheeseburger\", \"Double Cheeseburger\", \"Bacon Clubhouse Burger\", \"McDouble\", \"Bacon McDouble\", \"Daily Double\", \"Jalape\\u00f1o Double\", \"McRib\", \"Premium Crispy Chicken Classic Sandwich\", \"Premium Grilled Chicken Classic Sandwich\", \"Premium Crispy Chicken Club Sandwich\", \"Premium Grilled Chicken Club Sandwich\", \"Premium Crispy Chicken Ranch BLT Sandwich\", \"Premium Grilled Chicken Ranch BLT Sandwich\", \"Bacon Clubhouse Crispy Chicken Sandwich\", \"Bacon Clubhouse Grilled Chicken Sandwich\", \"Southern Style Crispy Chicken Sandwich\", \"McChicken\", \"Bacon Cheddar McChicken\", \"Bacon Buffalo Ranch McChicken\", \"Buffalo Ranch McChicken\", \"Premium McWrap Chicken & Bacon (Crispy Chicken)\", \"Premium McWrap Chicken & Bacon (Grilled Chicken)\", \"Premium McWrap Chicken & Ranch (Crispy Chicken)\", \"Premium McWrap Chicken & Ranch (Grilled Chicken)\", \"Premium McWrap Southwest Chicken (Crispy Chicken)\", \"Premium McWrap Southwest Chicken (Grilled Chicken)\", \"Premium McWrap Chicken Sweet Chili (Crispy Chicken)\", \"Premium McWrap Chicken Sweet Chili (Grilled Chicken)\", \"Chicken McNuggets (4 piece)\", \"Chicken McNuggets (6 piece)\", \"Chicken McNuggets (10 piece)\", \"Chicken McNuggets (20 piece)\", \"Chicken McNuggets (40 piece)\", \"Filet-O-Fish\", \"Premium Bacon Ranch Salad (without Chicken)\", \"Premium Bacon Ranch Salad with Crispy Chicken\", \"Premium Bacon Ranch Salad with Grilled Chicken\", \"Premium Southwest Salad (without Chicken)\", \"Premium Southwest Salad with Crispy Chicken\", \"Premium Southwest Salad with Grilled Chicken\", \"Chipotle BBQ Snack Wrap (Crispy Chicken)\", \"Chipotle BBQ Snack Wrap (Grilled Chicken)\", \"Honey Mustard Snack Wrap (Crispy Chicken)\", \"Honey Mustard Snack Wrap (Grilled Chicken)\", \"Ranch Snack Wrap (Crispy Chicken)\", \"Ranch Snack Wrap (Grilled Chicken)\", \"Small French Fries\", \"Medium French Fries\", \"Large French Fries\", \"Kids French Fries\", \"Side Salad\", \"Apple Slices\", \"Fruit 'n Yogurt Parfait\", \"Baked Apple Pie\", \"Chocolate Chip Cookie\", \"Oatmeal Raisin Cookie\", \"Kids Ice Cream Cone\", \"Hot Fudge Sundae\", \"Hot Caramel Sundae\", \"Strawberry Sundae\", \"Coca-Cola Classic (Small)\", \"Coca-Cola Classic (Medium)\", \"Coca-Cola Classic (Large)\", \"Coca-Cola Classic (Child)\", \"Diet Coke (Small)\", \"Diet Coke (Medium)\", \"Diet Coke (Large)\", \"Diet Coke (Child)\", \"Dr Pepper (Small)\", \"Dr Pepper (Medium)\", \"Dr Pepper (Large)\", \"Dr Pepper (Child)\", \"Diet Dr Pepper (Small)\", \"Diet Dr Pepper (Medium)\", \"Diet Dr Pepper (Large)\", \"Diet Dr Pepper (Child)\", \"Sprite (Small)\", \"Sprite (Medium)\", \"Sprite (Large)\", \"Sprite (Child)\", \"1% Low Fat Milk Jug\", \"Fat Free Chocolate Milk Jug\", \"Minute Maid 100% Apple Juice Box\", \"Minute Maid Orange Juice (Small)\", \"Minute Maid Orange Juice (Medium)\", \"Minute Maid Orange Juice (Large)\", \"Dasani Water Bottle\", \"Iced Tea (Small)\", \"Iced Tea (Medium)\", \"Iced Tea (Large)\", \"Iced Tea (Child)\", \"Sweet Tea (Small)\", \"Sweet Tea (Medium)\", \"Sweet Tea (Large)\", \"Sweet Tea (Child)\", \"Coffee (Small)\", \"Coffee (Medium)\", \"Coffee (Large)\", \"Latte (Small)\", \"Latte (Medium)\", \"Latte (Large)\", \"Caramel Latte (Small)\", \"Caramel Latte (Medium)\", \"Caramel Latte (Large)\", \"Hazelnut Latte (Small)\", \"Hazelnut Latte (Medium)\", \"Hazelnut Latte (Large)\", \"French Vanilla Latte (Small)\", \"French Vanilla Latte (Medium)\", \"French Vanilla Latte (Large)\", \"Latte with Sugar Free French Vanilla Syrup (Small)\", \"Latte with Sugar Free French Vanilla Syrup (Medium)\", \"Latte with Sugar Free French Vanilla Syrup (Large)\", \"Nonfat Latte (Small)\", \"Nonfat Latte (Medium)\", \"Nonfat Latte (Large)\", \"Nonfat Caramel Latte (Small)\", \"Nonfat Caramel Latte (Medium)\", \"Nonfat Caramel Latte (Large)\", \"Nonfat Hazelnut Latte (Small)\", \"Nonfat Hazelnut Latte (Medium)\", \"Nonfat Hazelnut Latte (Large)\", \"Nonfat French Vanilla Latte (Small)\", \"Nonfat French Vanilla Latte (Medium)\", \"Nonfat French Vanilla Latte (Large)\", \"Nonfat Latte with Sugar Free French Vanilla Syrup (Small)\", \"Nonfat Latte with Sugar Free French Vanilla Syrup (Medium)\", \"Nonfat Latte with Sugar Free French Vanilla Syrup (Large)\", \"Mocha (Small)\", \"Mocha (Medium)\", \"Mocha (Large)\", \"Mocha with Nonfat Milk (Small)\", \"Mocha with Nonfat Milk (Medium)\", \"Mocha with Nonfat Milk (Large)\", \"Caramel Mocha (Small)\", \"Caramel Mocha (Medium)\", \"Caramel Mocha (Large)\", \"Nonfat Caramel Mocha (Small)\", \"Nonfat Caramel Mocha (Medium)\", \"Nonfat Caramel Mocha (Large)\", \"Hot Chocolate (Small)\", \"Hot Chocolate (Medium)\", \"Hot Chocolate (Large)\", \"Hot Chocolate with Nonfat Milk (Small)\", \"Hot Chocolate with Nonfat Milk (Medium)\", \"Hot Chocolate with Nonfat Milk (Large)\", \"Regular Iced Coffee (Small)\", \"Regular Iced Coffee (Medium)\", \"Regular Iced Coffee (Large)\", \"Caramel Iced Coffee (Small)\", \"Caramel Iced Coffee (Medium)\", \"Caramel Iced Coffee (Large)\", \"Hazelnut Iced Coffee (Small)\", \"Hazelnut Iced Coffee (Medium)\", \"Hazelnut Iced Coffee (Large)\", \"French Vanilla Iced Coffee (Small)\", \"French Vanilla Iced Coffee (Medium)\", \"French Vanilla Iced Coffee (Large)\", \"Iced Coffee with Sugar Free French Vanilla Syrup (Small)\", \"Iced Coffee with Sugar Free French Vanilla Syrup (Medium)\", \"Iced Coffee with Sugar Free French Vanilla Syrup (Large)\", \"Iced Mocha (Small)\", \"Iced Mocha (Medium)\", \"Iced Mocha (Large)\", \"Iced Mocha with Nonfat Milk (Small)\", \"Iced Mocha with Nonfat Milk (Medium)\", \"Iced Mocha with Nonfat Milk (Large)\", \"Iced Caramel Mocha (Small)\", \"Iced Caramel Mocha (Medium)\", \"Iced Caramel Mocha (Large)\", \"Iced Nonfat Caramel Mocha (Small)\", \"Iced Nonfat Caramel Mocha (Medium)\", \"Iced Nonfat Caramel Mocha (Large)\", \"Frapp\\u00e9 Mocha (Small)\", \"Frapp\\u00e9 Mocha (Medium)\", \"Frapp\\u00e9 Mocha (Large)\", \"Frapp\\u00e9 Caramel (Small)\", \"Frapp\\u00e9 Caramel (Medium)\", \"Frapp\\u00e9 Caramel (Large)\", \"Frapp\\u00e9 Chocolate Chip (Small)\", \"Frapp\\u00e9 Chocolate Chip (Medium)\", \"Frapp\\u00e9 Chocolate Chip (Large)\", \"Blueberry Pomegranate Smoothie (Small)\", \"Blueberry Pomegranate Smoothie (Medium)\", \"Blueberry Pomegranate Smoothie (Large)\", \"Strawberry Banana Smoothie (Small)\", \"Strawberry Banana Smoothie (Medium)\", \"Strawberry Banana Smoothie (Large)\", \"Mango Pineapple Smoothie (Small)\", \"Mango Pineapple Smoothie (Medium)\", \"Mango Pineapple Smoothie (Large)\", \"Vanilla Shake (Small)\", \"Vanilla Shake (Medium)\", \"Vanilla Shake (Large)\", \"Strawberry Shake (Small)\", \"Strawberry Shake (Medium)\", \"Strawberry Shake (Large)\", \"Chocolate Shake (Small)\", \"Chocolate Shake (Medium)\", \"Chocolate Shake (Large)\", \"Shamrock Shake (Medium)\", \"Shamrock Shake (Large)\", \"McFlurry with M&M\\u2019s Candies (Small)\", \"McFlurry with M&M\\u2019s Candies (Medium)\", \"McFlurry with M&M\\u2019s Candies (Snack)\", \"McFlurry with Oreo Cookies (Small)\", \"McFlurry with Oreo Cookies (Medium)\", \"McFlurry with Oreo Cookies (Snack)\", \"McFlurry with Reese's Peanut Butter Cups (Medium)\", \"McFlurry with Reese's Peanut Butter Cups (Snack)\"], \"y\": [31, 32, 33, 36, 37, 40, 54, 59, 54, 59, 45, 50, 49, 53, 49, 54, 49, 54, 61, 52, 52, 43, 55, 55, 62, 62, 63, 65, 70, 66, 71, 90, 94, 91, 95, 24, 39, 33, 13, 15, 7, 5, 40, 46, 60, 49, 40, 53, 20, 28, 43, 61, 35, 46, 32, 43, 41, 41, 34, 59, 52, 58, 51, 72, 65, 38, 33, 53, 53, 41, 64, 57, 56, 49, 62, 55, 52, 45, 15, 22, 37, 75, 150, 24, 13, 36, 29, 6, 35, 28, 33, 29, 30, 27, 34, 30, 5, 8, 12, 3, 0, 0, 3, 7, 4, 6, 1, 7, 6, 4, 0, 0, 0, 0, 0, 1, 1, 1, 2, 3, 4, 1, 3, 4, 6, 2, 1, 2, 3, 1, 5, 6, 1, 0, 0, 0, 0, 0, 0, 1, 0, 0, 0, 1, 0, 0, 0, 0, 5, 6, 8, 5, 6, 8, 5, 6, 8, 5, 6, 8, 6, 8, 10, 5, 6, 7, 5, 6, 7, 5, 6, 7, 5, 6, 8, 6, 8, 10, 6, 8, 10, 6, 8, 10, 7, 9, 11, 7, 9, 11, 8, 9, 12, 7, 9, 12, 1, 2, 3, 2, 2, 3, 1, 2, 3, 2, 2, 3, 3, 4, 6, 5, 6, 9, 5, 6, 9, 6, 7, 10, 6, 7, 10, 5, 7, 8, 5, 7, 8, 6, 7, 8, 2, 2, 3, 2, 2, 3, 2, 2, 3, 7, 9, 11, 7, 9, 11, 10, 13, 16, 9, 11, 7, 11, 5, 12, 16, 8, 17, 8]}],\n",
       "                        {\"autosize\": true, \"hovermode\": \"closest\", \"showlegend\": false, \"template\": {\"data\": {\"bar\": [{\"error_x\": {\"color\": \"#2a3f5f\"}, \"error_y\": {\"color\": \"#2a3f5f\"}, \"marker\": {\"line\": {\"color\": \"#E5ECF6\", \"width\": 0.5}}, \"type\": \"bar\"}], \"barpolar\": [{\"marker\": {\"line\": {\"color\": \"#E5ECF6\", \"width\": 0.5}}, \"type\": \"barpolar\"}], \"carpet\": [{\"aaxis\": {\"endlinecolor\": \"#2a3f5f\", \"gridcolor\": \"white\", \"linecolor\": \"white\", \"minorgridcolor\": \"white\", \"startlinecolor\": \"#2a3f5f\"}, \"baxis\": {\"endlinecolor\": \"#2a3f5f\", \"gridcolor\": \"white\", \"linecolor\": \"white\", \"minorgridcolor\": \"white\", \"startlinecolor\": \"#2a3f5f\"}, \"type\": \"carpet\"}], \"choropleth\": [{\"colorbar\": {\"outlinewidth\": 0, \"ticks\": \"\"}, \"type\": \"choropleth\"}], \"contour\": [{\"colorbar\": {\"outlinewidth\": 0, \"ticks\": \"\"}, \"colorscale\": [[0.0, \"#0d0887\"], [0.1111111111111111, \"#46039f\"], [0.2222222222222222, \"#7201a8\"], [0.3333333333333333, \"#9c179e\"], [0.4444444444444444, \"#bd3786\"], [0.5555555555555556, \"#d8576b\"], [0.6666666666666666, \"#ed7953\"], [0.7777777777777778, \"#fb9f3a\"], [0.8888888888888888, \"#fdca26\"], [1.0, \"#f0f921\"]], \"type\": \"contour\"}], \"contourcarpet\": [{\"colorbar\": {\"outlinewidth\": 0, \"ticks\": \"\"}, \"type\": \"contourcarpet\"}], \"heatmap\": [{\"colorbar\": {\"outlinewidth\": 0, \"ticks\": \"\"}, \"colorscale\": [[0.0, \"#0d0887\"], [0.1111111111111111, \"#46039f\"], [0.2222222222222222, \"#7201a8\"], [0.3333333333333333, \"#9c179e\"], [0.4444444444444444, \"#bd3786\"], [0.5555555555555556, \"#d8576b\"], [0.6666666666666666, \"#ed7953\"], [0.7777777777777778, \"#fb9f3a\"], [0.8888888888888888, \"#fdca26\"], [1.0, \"#f0f921\"]], \"type\": \"heatmap\"}], \"heatmapgl\": [{\"colorbar\": {\"outlinewidth\": 0, \"ticks\": \"\"}, \"colorscale\": [[0.0, \"#0d0887\"], [0.1111111111111111, \"#46039f\"], [0.2222222222222222, \"#7201a8\"], [0.3333333333333333, \"#9c179e\"], [0.4444444444444444, \"#bd3786\"], [0.5555555555555556, \"#d8576b\"], [0.6666666666666666, \"#ed7953\"], [0.7777777777777778, \"#fb9f3a\"], [0.8888888888888888, \"#fdca26\"], [1.0, \"#f0f921\"]], \"type\": \"heatmapgl\"}], \"histogram\": [{\"marker\": {\"colorbar\": {\"outlinewidth\": 0, \"ticks\": \"\"}}, \"type\": \"histogram\"}], \"histogram2d\": [{\"colorbar\": {\"outlinewidth\": 0, \"ticks\": \"\"}, \"colorscale\": [[0.0, \"#0d0887\"], [0.1111111111111111, \"#46039f\"], [0.2222222222222222, \"#7201a8\"], [0.3333333333333333, \"#9c179e\"], [0.4444444444444444, \"#bd3786\"], [0.5555555555555556, \"#d8576b\"], [0.6666666666666666, \"#ed7953\"], [0.7777777777777778, \"#fb9f3a\"], [0.8888888888888888, \"#fdca26\"], [1.0, \"#f0f921\"]], \"type\": \"histogram2d\"}], \"histogram2dcontour\": [{\"colorbar\": {\"outlinewidth\": 0, \"ticks\": \"\"}, \"colorscale\": [[0.0, \"#0d0887\"], [0.1111111111111111, \"#46039f\"], [0.2222222222222222, \"#7201a8\"], [0.3333333333333333, \"#9c179e\"], [0.4444444444444444, \"#bd3786\"], [0.5555555555555556, \"#d8576b\"], [0.6666666666666666, \"#ed7953\"], [0.7777777777777778, \"#fb9f3a\"], [0.8888888888888888, \"#fdca26\"], [1.0, \"#f0f921\"]], \"type\": \"histogram2dcontour\"}], \"mesh3d\": [{\"colorbar\": {\"outlinewidth\": 0, \"ticks\": \"\"}, \"type\": \"mesh3d\"}], \"parcoords\": [{\"line\": {\"colorbar\": {\"outlinewidth\": 0, \"ticks\": \"\"}}, \"type\": \"parcoords\"}], \"pie\": [{\"automargin\": true, \"type\": \"pie\"}], \"scatter\": [{\"marker\": {\"colorbar\": {\"outlinewidth\": 0, \"ticks\": \"\"}}, \"type\": \"scatter\"}], \"scatter3d\": [{\"line\": {\"colorbar\": {\"outlinewidth\": 0, \"ticks\": \"\"}}, \"marker\": {\"colorbar\": {\"outlinewidth\": 0, \"ticks\": \"\"}}, \"type\": \"scatter3d\"}], \"scattercarpet\": [{\"marker\": {\"colorbar\": {\"outlinewidth\": 0, \"ticks\": \"\"}}, \"type\": \"scattercarpet\"}], \"scattergeo\": [{\"marker\": {\"colorbar\": {\"outlinewidth\": 0, \"ticks\": \"\"}}, \"type\": \"scattergeo\"}], \"scattergl\": [{\"marker\": {\"colorbar\": {\"outlinewidth\": 0, \"ticks\": \"\"}}, \"type\": \"scattergl\"}], \"scattermapbox\": [{\"marker\": {\"colorbar\": {\"outlinewidth\": 0, \"ticks\": \"\"}}, \"type\": \"scattermapbox\"}], \"scatterpolar\": [{\"marker\": {\"colorbar\": {\"outlinewidth\": 0, \"ticks\": \"\"}}, \"type\": \"scatterpolar\"}], \"scatterpolargl\": [{\"marker\": {\"colorbar\": {\"outlinewidth\": 0, \"ticks\": \"\"}}, \"type\": \"scatterpolargl\"}], \"scatterternary\": [{\"marker\": {\"colorbar\": {\"outlinewidth\": 0, \"ticks\": \"\"}}, \"type\": \"scatterternary\"}], \"surface\": [{\"colorbar\": {\"outlinewidth\": 0, \"ticks\": \"\"}, \"colorscale\": [[0.0, \"#0d0887\"], [0.1111111111111111, \"#46039f\"], [0.2222222222222222, \"#7201a8\"], [0.3333333333333333, \"#9c179e\"], [0.4444444444444444, \"#bd3786\"], [0.5555555555555556, \"#d8576b\"], [0.6666666666666666, \"#ed7953\"], [0.7777777777777778, \"#fb9f3a\"], [0.8888888888888888, \"#fdca26\"], [1.0, \"#f0f921\"]], \"type\": \"surface\"}], \"table\": [{\"cells\": {\"fill\": {\"color\": \"#EBF0F8\"}, \"line\": {\"color\": \"white\"}}, \"header\": {\"fill\": {\"color\": \"#C8D4E3\"}, \"line\": {\"color\": \"white\"}}, \"type\": \"table\"}]}, \"layout\": {\"annotationdefaults\": {\"arrowcolor\": \"#2a3f5f\", \"arrowhead\": 0, \"arrowwidth\": 1}, \"coloraxis\": {\"colorbar\": {\"outlinewidth\": 0, \"ticks\": \"\"}}, \"colorscale\": {\"diverging\": [[0, \"#8e0152\"], [0.1, \"#c51b7d\"], [0.2, \"#de77ae\"], [0.3, \"#f1b6da\"], [0.4, \"#fde0ef\"], [0.5, \"#f7f7f7\"], [0.6, \"#e6f5d0\"], [0.7, \"#b8e186\"], [0.8, \"#7fbc41\"], [0.9, \"#4d9221\"], [1, \"#276419\"]], \"sequential\": [[0.0, \"#0d0887\"], [0.1111111111111111, \"#46039f\"], [0.2222222222222222, \"#7201a8\"], [0.3333333333333333, \"#9c179e\"], [0.4444444444444444, \"#bd3786\"], [0.5555555555555556, \"#d8576b\"], [0.6666666666666666, \"#ed7953\"], [0.7777777777777778, \"#fb9f3a\"], [0.8888888888888888, \"#fdca26\"], [1.0, \"#f0f921\"]], \"sequentialminus\": [[0.0, \"#0d0887\"], [0.1111111111111111, \"#46039f\"], [0.2222222222222222, \"#7201a8\"], [0.3333333333333333, \"#9c179e\"], [0.4444444444444444, \"#bd3786\"], [0.5555555555555556, \"#d8576b\"], [0.6666666666666666, \"#ed7953\"], [0.7777777777777778, \"#fb9f3a\"], [0.8888888888888888, \"#fdca26\"], [1.0, \"#f0f921\"]]}, \"colorway\": [\"#636efa\", \"#EF553B\", \"#00cc96\", \"#ab63fa\", \"#FFA15A\", \"#19d3f3\", \"#FF6692\", \"#B6E880\", \"#FF97FF\", \"#FECB52\"], \"font\": {\"color\": \"#2a3f5f\"}, \"geo\": {\"bgcolor\": \"white\", \"lakecolor\": \"white\", \"landcolor\": \"#E5ECF6\", \"showlakes\": true, \"showland\": true, \"subunitcolor\": \"white\"}, \"hoverlabel\": {\"align\": \"left\"}, \"hovermode\": \"closest\", \"mapbox\": {\"style\": \"light\"}, \"paper_bgcolor\": \"white\", \"plot_bgcolor\": \"#E5ECF6\", \"polar\": {\"angularaxis\": {\"gridcolor\": \"white\", \"linecolor\": \"white\", \"ticks\": \"\"}, \"bgcolor\": \"#E5ECF6\", \"radialaxis\": {\"gridcolor\": \"white\", \"linecolor\": \"white\", \"ticks\": \"\"}}, \"scene\": {\"xaxis\": {\"backgroundcolor\": \"#E5ECF6\", \"gridcolor\": \"white\", \"gridwidth\": 2, \"linecolor\": \"white\", \"showbackground\": true, \"ticks\": \"\", \"zerolinecolor\": \"white\"}, \"yaxis\": {\"backgroundcolor\": \"#E5ECF6\", \"gridcolor\": \"white\", \"gridwidth\": 2, \"linecolor\": \"white\", \"showbackground\": true, \"ticks\": \"\", \"zerolinecolor\": \"white\"}, \"zaxis\": {\"backgroundcolor\": \"#E5ECF6\", \"gridcolor\": \"white\", \"gridwidth\": 2, \"linecolor\": \"white\", \"showbackground\": true, \"ticks\": \"\", \"zerolinecolor\": \"white\"}}, \"shapedefaults\": {\"line\": {\"color\": \"#2a3f5f\"}}, \"ternary\": {\"aaxis\": {\"gridcolor\": \"white\", \"linecolor\": \"white\", \"ticks\": \"\"}, \"baxis\": {\"gridcolor\": \"white\", \"linecolor\": \"white\", \"ticks\": \"\"}, \"bgcolor\": \"#E5ECF6\", \"caxis\": {\"gridcolor\": \"white\", \"linecolor\": \"white\", \"ticks\": \"\"}}, \"title\": {\"x\": 0.05}, \"xaxis\": {\"automargin\": true, \"gridcolor\": \"white\", \"linecolor\": \"white\", \"ticks\": \"\", \"title\": {\"standoff\": 15}, \"zerolinecolor\": \"white\", \"zerolinewidth\": 2}, \"yaxis\": {\"automargin\": true, \"gridcolor\": \"white\", \"linecolor\": \"white\", \"ticks\": \"\", \"title\": {\"standoff\": 15}, \"zerolinecolor\": \"white\", \"zerolinewidth\": 2}}}, \"title\": {\"text\": \"Scatter plot of Sodium (% Daily Value) per Item on the Menu\"}, \"xaxis\": {\"showgrid\": false, \"showline\": false, \"zeroline\": false}, \"yaxis\": {\"gridwidth\": 2, \"showgrid\": false, \"showline\": false, \"ticklen\": 5, \"title\": {\"text\": \"Sodium (% Daily Value)\"}, \"zeroline\": false}},\n",
       "                        {\"responsive\": true}\n",
       "                    ).then(function(){\n",
       "                            \n",
       "var gd = document.getElementById('b35a21bd-de7e-4869-aa66-2e2986aec9af');\n",
       "var x = new MutationObserver(function (mutations, observer) {{\n",
       "        var display = window.getComputedStyle(gd).display;\n",
       "        if (!display || display === 'none') {{\n",
       "            console.log([gd, 'removed!']);\n",
       "            Plotly.purge(gd);\n",
       "            observer.disconnect();\n",
       "        }}\n",
       "}});\n",
       "\n",
       "// Listen for the removal of the full notebook cells\n",
       "var notebookContainer = gd.closest('#notebook-container');\n",
       "if (notebookContainer) {{\n",
       "    x.observe(notebookContainer, {childList: true});\n",
       "}}\n",
       "\n",
       "// Listen for the clearing of the current output cell\n",
       "var outputEl = gd.closest('.output');\n",
       "if (outputEl) {{\n",
       "    x.observe(outputEl, {childList: true});\n",
       "}}\n",
       "\n",
       "                        })\n",
       "                };\n",
       "                });\n",
       "            </script>\n",
       "        </div>"
      ]
     },
     "metadata": {},
     "output_type": "display_data"
    }
   ],
   "source": [
    "trace = go.Scatter(\n",
    "    y = data['Sodium (% Daily Value)'].values,\n",
    "    x = data['Item'].values,\n",
    "    mode='markers',\n",
    "    marker=dict(\n",
    "        size= data['Sodium (% Daily Value)'].values,\n",
    "        #color = np.random.randn(500), #set color equal to a variable\n",
    "        color = data['Sodium (% Daily Value)'].values,\n",
    "        colorscale='Portland',\n",
    "        showscale=True\n",
    "    ),\n",
    "    text = data['Item'].values\n",
    ")\n",
    "data_val = [trace]\n",
    "\n",
    "layout= go.Layout(\n",
    "    autosize= True,\n",
    "    title= 'Scatter plot of Sodium (% Daily Value) per Item on the Menu',\n",
    "    hovermode= 'closest',\n",
    "        xaxis=dict(\n",
    "        showgrid=False,\n",
    "        zeroline=False,\n",
    "        showline=False\n",
    "    ),\n",
    "    yaxis=dict(\n",
    "        title= 'Sodium (% Daily Value)',\n",
    "        ticklen= 5,\n",
    "        gridwidth= 2,\n",
    "        showgrid=False,\n",
    "        zeroline=False,\n",
    "        showline=False,\n",
    "    ),\n",
    "    showlegend= False\n",
    ")\n",
    "fig = go.Figure(data=data_val, layout=layout)\n",
    "py.iplot(fig,filename='scatterChol')"
   ]
  },
  {
   "cell_type": "markdown",
   "metadata": {},
   "source": [
    "Takeaway from the plot\n",
    "\n",
    "The scatter plots for Sodium (% Daily Value) seem to follow a similar distribution of points whereby MacDonald food items contributing the greatest amount of sodium are scaled largest. As evinced by the largest red circular plot, the 40-piece Chicken McNuggets are the greatest contributor to Sodium intake.\n",
    "\n",
    "The Big Breakfast range with Hotcakes follow up as a close second as a contributor to the sodium amount.\n",
    "\n",
    "Greatest amount of Sodium : Chicken McNuggets (40 piece)\n"
   ]
  },
  {
   "cell_type": "code",
   "execution_count": null,
   "metadata": {},
   "outputs": [],
   "source": []
  },
  {
   "cell_type": "markdown",
   "metadata": {},
   "source": [
    "### Scatter Plot of Saturated Fat (% Daily Value) per MacDonald's Item"
   ]
  },
  {
   "cell_type": "code",
   "execution_count": 24,
   "metadata": {},
   "outputs": [
    {
     "data": {
      "text/html": [
       "<div>\n",
       "<style scoped>\n",
       "    .dataframe tbody tr th:only-of-type {\n",
       "        vertical-align: middle;\n",
       "    }\n",
       "\n",
       "    .dataframe tbody tr th {\n",
       "        vertical-align: top;\n",
       "    }\n",
       "\n",
       "    .dataframe thead th {\n",
       "        text-align: right;\n",
       "    }\n",
       "</style>\n",
       "<table border=\"1\" class=\"dataframe\">\n",
       "  <thead>\n",
       "    <tr style=\"text-align: right;\">\n",
       "      <th></th>\n",
       "      <th>Category</th>\n",
       "      <th>Item</th>\n",
       "      <th>Saturated Fat (% Daily Value)</th>\n",
       "    </tr>\n",
       "  </thead>\n",
       "  <tbody>\n",
       "    <tr>\n",
       "      <th>253</th>\n",
       "      <td>Smoothies &amp; Shakes</td>\n",
       "      <td>McFlurry with M&amp;M’s Candies (Medium)</td>\n",
       "      <td>102</td>\n",
       "    </tr>\n",
       "    <tr>\n",
       "      <th>82</th>\n",
       "      <td>Chicken &amp; Fish</td>\n",
       "      <td>Chicken McNuggets (40 piece)</td>\n",
       "      <td>101</td>\n",
       "    </tr>\n",
       "    <tr>\n",
       "      <th>231</th>\n",
       "      <td>Coffee &amp; Tea</td>\n",
       "      <td>Frappé Chocolate Chip (Large)</td>\n",
       "      <td>101</td>\n",
       "    </tr>\n",
       "    <tr>\n",
       "      <th>32</th>\n",
       "      <td>Breakfast</td>\n",
       "      <td>Big Breakfast with Hotcakes (Large Biscuit)</td>\n",
       "      <td>100</td>\n",
       "    </tr>\n",
       "    <tr>\n",
       "      <th>31</th>\n",
       "      <td>Breakfast</td>\n",
       "      <td>Big Breakfast with Hotcakes (Regular Biscuit)</td>\n",
       "      <td>96</td>\n",
       "    </tr>\n",
       "  </tbody>\n",
       "</table>\n",
       "</div>"
      ],
      "text/plain": [
       "               Category                                           Item  \\\n",
       "253  Smoothies & Shakes           McFlurry with M&M’s Candies (Medium)   \n",
       "82       Chicken & Fish                   Chicken McNuggets (40 piece)   \n",
       "231        Coffee & Tea                  Frappé Chocolate Chip (Large)   \n",
       "32            Breakfast    Big Breakfast with Hotcakes (Large Biscuit)   \n",
       "31            Breakfast  Big Breakfast with Hotcakes (Regular Biscuit)   \n",
       "\n",
       "     Saturated Fat (% Daily Value)  \n",
       "253                            102  \n",
       "82                             101  \n",
       "231                            101  \n",
       "32                             100  \n",
       "31                              96  "
      ]
     },
     "execution_count": 24,
     "metadata": {},
     "output_type": "execute_result"
    }
   ],
   "source": [
    "#most saturated food\n",
    "most_chol = data.loc[:,['Category','Item','Saturated Fat (% Daily Value)']]\n",
    "most_chol.sort_values('Saturated Fat (% Daily Value)', ascending=False).head()"
   ]
  },
  {
   "cell_type": "code",
   "execution_count": null,
   "metadata": {},
   "outputs": [],
   "source": []
  },
  {
   "cell_type": "code",
   "execution_count": 25,
   "metadata": {},
   "outputs": [
    {
     "data": {
      "application/vnd.plotly.v1+json": {
       "config": {
        "linkText": "Export to plot.ly",
        "plotlyServerURL": "https://plot.ly",
        "showLink": false
       },
       "data": [
        {
         "marker": {
          "color": [
           25,
           15,
           42,
           52,
           42,
           46,
           65,
           68,
           56,
           59,
           62,
           65,
           71,
           74,
           62,
           65,
           41,
           45,
           78,
           44,
           34,
           40,
           61,
           52,
           56,
           45,
           63,
           87,
           90,
           69,
           72,
           96,
           100,
           78,
           81,
           9,
           36,
           33,
           6,
           43,
           8,
           8,
           48,
           61,
           63,
           64,
           54,
           96,
           15,
           27,
           52,
           75,
           40,
           49,
           44,
           44,
           48,
           18,
           9,
           44,
           36,
           31,
           22,
           51,
           42,
           15,
           15,
           35,
           25,
           16,
           45,
           36,
           40,
           31,
           40,
           32,
           23,
           14,
           10,
           15,
           25,
           50,
           101,
           19,
           18,
           29,
           20,
           9,
           22,
           13,
           22,
           18,
           22,
           18,
           27,
           22,
           8,
           11,
           17,
           4,
           0,
           0,
           5,
           35,
           19,
           13,
           4,
           34,
           24,
           20,
           0,
           0,
           0,
           0,
           0,
           0,
           0,
           0,
           0,
           0,
           0,
           0,
           0,
           0,
           0,
           0,
           0,
           0,
           0,
           0,
           8,
           0,
           0,
           0,
           0,
           0,
           0,
           0,
           0,
           0,
           0,
           0,
           0,
           0,
           0,
           0,
           0,
           0,
           24,
           30,
           39,
           24,
           30,
           39,
           24,
           30,
           39,
           24,
           30,
           39,
           24,
           30,
           39,
           0,
           0,
           0,
           0,
           0,
           0,
           0,
           0,
           0,
           0,
           0,
           0,
           0,
           0,
           0,
           34,
           40,
           49,
           11,
           11,
           12,
           33,
           40,
           49,
           10,
           11,
           11,
           39,
           47,
           58,
           11,
           11,
           12,
           15,
           22,
           29,
           15,
           22,
           29,
           15,
           22,
           29,
           15,
           22,
           29,
           15,
           22,
           29,
           33,
           38,
           49,
           16,
           17,
           18,
           33,
           37,
           48,
           16,
           16,
           17,
           59,
           71,
           85,
           60,
           73,
           87,
           72,
           85,
           101,
           0,
           0,
           3,
           0,
           0,
           3,
           0,
           0,
           3,
           49,
           61,
           73,
           52,
           63,
           75,
           51,
           62,
           74,
           61,
           73,
           72,
           102,
           48,
           44,
           58,
           29,
           76,
           38
          ],
          "colorscale": [
           [
            0,
            "rgb(12,51,131)"
           ],
           [
            0.25,
            "rgb(10,136,186)"
           ],
           [
            0.5,
            "rgb(242,211,56)"
           ],
           [
            0.75,
            "rgb(242,143,56)"
           ],
           [
            1,
            "rgb(217,30,30)"
           ]
          ],
          "showscale": true,
          "size": [
           25,
           15,
           42,
           52,
           42,
           46,
           65,
           68,
           56,
           59,
           62,
           65,
           71,
           74,
           62,
           65,
           41,
           45,
           78,
           44,
           34,
           40,
           61,
           52,
           56,
           45,
           63,
           87,
           90,
           69,
           72,
           96,
           100,
           78,
           81,
           9,
           36,
           33,
           6,
           43,
           8,
           8,
           48,
           61,
           63,
           64,
           54,
           96,
           15,
           27,
           52,
           75,
           40,
           49,
           44,
           44,
           48,
           18,
           9,
           44,
           36,
           31,
           22,
           51,
           42,
           15,
           15,
           35,
           25,
           16,
           45,
           36,
           40,
           31,
           40,
           32,
           23,
           14,
           10,
           15,
           25,
           50,
           101,
           19,
           18,
           29,
           20,
           9,
           22,
           13,
           22,
           18,
           22,
           18,
           27,
           22,
           8,
           11,
           17,
           4,
           0,
           0,
           5,
           35,
           19,
           13,
           4,
           34,
           24,
           20,
           0,
           0,
           0,
           0,
           0,
           0,
           0,
           0,
           0,
           0,
           0,
           0,
           0,
           0,
           0,
           0,
           0,
           0,
           0,
           0,
           8,
           0,
           0,
           0,
           0,
           0,
           0,
           0,
           0,
           0,
           0,
           0,
           0,
           0,
           0,
           0,
           0,
           0,
           24,
           30,
           39,
           24,
           30,
           39,
           24,
           30,
           39,
           24,
           30,
           39,
           24,
           30,
           39,
           0,
           0,
           0,
           0,
           0,
           0,
           0,
           0,
           0,
           0,
           0,
           0,
           0,
           0,
           0,
           34,
           40,
           49,
           11,
           11,
           12,
           33,
           40,
           49,
           10,
           11,
           11,
           39,
           47,
           58,
           11,
           11,
           12,
           15,
           22,
           29,
           15,
           22,
           29,
           15,
           22,
           29,
           15,
           22,
           29,
           15,
           22,
           29,
           33,
           38,
           49,
           16,
           17,
           18,
           33,
           37,
           48,
           16,
           16,
           17,
           59,
           71,
           85,
           60,
           73,
           87,
           72,
           85,
           101,
           0,
           0,
           3,
           0,
           0,
           3,
           0,
           0,
           3,
           49,
           61,
           73,
           52,
           63,
           75,
           51,
           62,
           74,
           61,
           73,
           72,
           102,
           48,
           44,
           58,
           29,
           76,
           38
          ]
         },
         "mode": "markers",
         "text": [
          "Egg McMuffin",
          "Egg White Delight",
          "Sausage McMuffin",
          "Sausage McMuffin with Egg",
          "Sausage McMuffin with Egg Whites",
          "Steak & Egg McMuffin",
          "Bacon, Egg & Cheese Biscuit (Regular Biscuit)",
          "Bacon, Egg & Cheese Biscuit (Large Biscuit)",
          "Bacon, Egg & Cheese Biscuit with Egg Whites (Regular Biscuit)",
          "Bacon, Egg & Cheese Biscuit with Egg Whites (Large Biscuit)",
          "Sausage Biscuit (Regular Biscuit)",
          "Sausage Biscuit (Large Biscuit)",
          "Sausage Biscuit with Egg (Regular Biscuit)",
          "Sausage Biscuit with Egg (Large Biscuit)",
          "Sausage Biscuit with Egg Whites (Regular Biscuit)",
          "Sausage Biscuit with Egg Whites (Large Biscuit)",
          "Southern Style Chicken Biscuit (Regular Biscuit)",
          "Southern Style Chicken Biscuit (Large Biscuit)",
          "Steak & Egg Biscuit (Regular Biscuit)",
          "Bacon, Egg & Cheese McGriddles",
          "Bacon, Egg & Cheese McGriddles with Egg Whites",
          "Sausage McGriddles",
          "Sausage, Egg & Cheese McGriddles",
          "Sausage, Egg & Cheese McGriddles with Egg Whites",
          "Bacon, Egg & Cheese Bagel",
          "Bacon, Egg & Cheese Bagel with Egg Whites",
          "Steak, Egg & Cheese Bagel",
          "Big Breakfast (Regular Biscuit)",
          "Big Breakfast (Large Biscuit)",
          "Big Breakfast with Egg Whites (Regular Biscuit)",
          "Big Breakfast with Egg Whites (Large Biscuit)",
          "Big Breakfast with Hotcakes (Regular Biscuit)",
          "Big Breakfast with Hotcakes (Large Biscuit)",
          "Big Breakfast with Hotcakes and Egg Whites (Regular Biscuit)",
          "Big Breakfast with Hotcakes and Egg Whites (Large Biscuit)",
          "Hotcakes",
          "Hotcakes and Sausage",
          "Sausage Burrito",
          "Hash Brown",
          "Cinnamon Melts",
          "Fruit & Maple Oatmeal",
          "Fruit & Maple Oatmeal without Brown Sugar",
          "Big Mac",
          "Quarter Pounder with Cheese",
          "Quarter Pounder with Bacon & Cheese",
          "Quarter Pounder with Bacon Habanero Ranch",
          "Quarter Pounder Deluxe",
          "Double Quarter Pounder with Cheese",
          "Hamburger",
          "Cheeseburger",
          "Double Cheeseburger",
          "Bacon Clubhouse Burger",
          "McDouble",
          "Bacon McDouble",
          "Daily Double",
          "Jalapeño Double",
          "McRib",
          "Premium Crispy Chicken Classic Sandwich",
          "Premium Grilled Chicken Classic Sandwich",
          "Premium Crispy Chicken Club Sandwich",
          "Premium Grilled Chicken Club Sandwich",
          "Premium Crispy Chicken Ranch BLT Sandwich",
          "Premium Grilled Chicken Ranch BLT Sandwich",
          "Bacon Clubhouse Crispy Chicken Sandwich",
          "Bacon Clubhouse Grilled Chicken Sandwich",
          "Southern Style Crispy Chicken Sandwich",
          "McChicken",
          "Bacon Cheddar McChicken",
          "Bacon Buffalo Ranch McChicken",
          "Buffalo Ranch McChicken",
          "Premium McWrap Chicken & Bacon (Crispy Chicken)",
          "Premium McWrap Chicken & Bacon (Grilled Chicken)",
          "Premium McWrap Chicken & Ranch (Crispy Chicken)",
          "Premium McWrap Chicken & Ranch (Grilled Chicken)",
          "Premium McWrap Southwest Chicken (Crispy Chicken)",
          "Premium McWrap Southwest Chicken (Grilled Chicken)",
          "Premium McWrap Chicken Sweet Chili (Crispy Chicken)",
          "Premium McWrap Chicken Sweet Chili (Grilled Chicken)",
          "Chicken McNuggets (4 piece)",
          "Chicken McNuggets (6 piece)",
          "Chicken McNuggets (10 piece)",
          "Chicken McNuggets (20 piece)",
          "Chicken McNuggets (40 piece)",
          "Filet-O-Fish",
          "Premium Bacon Ranch Salad (without Chicken)",
          "Premium Bacon Ranch Salad with Crispy Chicken",
          "Premium Bacon Ranch Salad with Grilled Chicken",
          "Premium Southwest Salad (without Chicken)",
          "Premium Southwest Salad with Crispy Chicken",
          "Premium Southwest Salad with Grilled Chicken",
          "Chipotle BBQ Snack Wrap (Crispy Chicken)",
          "Chipotle BBQ Snack Wrap (Grilled Chicken)",
          "Honey Mustard Snack Wrap (Crispy Chicken)",
          "Honey Mustard Snack Wrap (Grilled Chicken)",
          "Ranch Snack Wrap (Crispy Chicken)",
          "Ranch Snack Wrap (Grilled Chicken)",
          "Small French Fries",
          "Medium French Fries",
          "Large French Fries",
          "Kids French Fries",
          "Side Salad",
          "Apple Slices",
          "Fruit 'n Yogurt Parfait",
          "Baked Apple Pie",
          "Chocolate Chip Cookie",
          "Oatmeal Raisin Cookie",
          "Kids Ice Cream Cone",
          "Hot Fudge Sundae",
          "Hot Caramel Sundae",
          "Strawberry Sundae",
          "Coca-Cola Classic (Small)",
          "Coca-Cola Classic (Medium)",
          "Coca-Cola Classic (Large)",
          "Coca-Cola Classic (Child)",
          "Diet Coke (Small)",
          "Diet Coke (Medium)",
          "Diet Coke (Large)",
          "Diet Coke (Child)",
          "Dr Pepper (Small)",
          "Dr Pepper (Medium)",
          "Dr Pepper (Large)",
          "Dr Pepper (Child)",
          "Diet Dr Pepper (Small)",
          "Diet Dr Pepper (Medium)",
          "Diet Dr Pepper (Large)",
          "Diet Dr Pepper (Child)",
          "Sprite (Small)",
          "Sprite (Medium)",
          "Sprite (Large)",
          "Sprite (Child)",
          "1% Low Fat Milk Jug",
          "Fat Free Chocolate Milk Jug",
          "Minute Maid 100% Apple Juice Box",
          "Minute Maid Orange Juice (Small)",
          "Minute Maid Orange Juice (Medium)",
          "Minute Maid Orange Juice (Large)",
          "Dasani Water Bottle",
          "Iced Tea (Small)",
          "Iced Tea (Medium)",
          "Iced Tea (Large)",
          "Iced Tea (Child)",
          "Sweet Tea (Small)",
          "Sweet Tea (Medium)",
          "Sweet Tea (Large)",
          "Sweet Tea (Child)",
          "Coffee (Small)",
          "Coffee (Medium)",
          "Coffee (Large)",
          "Latte (Small)",
          "Latte (Medium)",
          "Latte (Large)",
          "Caramel Latte (Small)",
          "Caramel Latte (Medium)",
          "Caramel Latte (Large)",
          "Hazelnut Latte (Small)",
          "Hazelnut Latte (Medium)",
          "Hazelnut Latte (Large)",
          "French Vanilla Latte (Small)",
          "French Vanilla Latte (Medium)",
          "French Vanilla Latte (Large)",
          "Latte with Sugar Free French Vanilla Syrup (Small)",
          "Latte with Sugar Free French Vanilla Syrup (Medium)",
          "Latte with Sugar Free French Vanilla Syrup (Large)",
          "Nonfat Latte (Small)",
          "Nonfat Latte (Medium)",
          "Nonfat Latte (Large)",
          "Nonfat Caramel Latte (Small)",
          "Nonfat Caramel Latte (Medium)",
          "Nonfat Caramel Latte (Large)",
          "Nonfat Hazelnut Latte (Small)",
          "Nonfat Hazelnut Latte (Medium)",
          "Nonfat Hazelnut Latte (Large)",
          "Nonfat French Vanilla Latte (Small)",
          "Nonfat French Vanilla Latte (Medium)",
          "Nonfat French Vanilla Latte (Large)",
          "Nonfat Latte with Sugar Free French Vanilla Syrup (Small)",
          "Nonfat Latte with Sugar Free French Vanilla Syrup (Medium)",
          "Nonfat Latte with Sugar Free French Vanilla Syrup (Large)",
          "Mocha (Small)",
          "Mocha (Medium)",
          "Mocha (Large)",
          "Mocha with Nonfat Milk (Small)",
          "Mocha with Nonfat Milk (Medium)",
          "Mocha with Nonfat Milk (Large)",
          "Caramel Mocha (Small)",
          "Caramel Mocha (Medium)",
          "Caramel Mocha (Large)",
          "Nonfat Caramel Mocha (Small)",
          "Nonfat Caramel Mocha (Medium)",
          "Nonfat Caramel Mocha (Large)",
          "Hot Chocolate (Small)",
          "Hot Chocolate (Medium)",
          "Hot Chocolate (Large)",
          "Hot Chocolate with Nonfat Milk (Small)",
          "Hot Chocolate with Nonfat Milk (Medium)",
          "Hot Chocolate with Nonfat Milk (Large)",
          "Regular Iced Coffee (Small)",
          "Regular Iced Coffee (Medium)",
          "Regular Iced Coffee (Large)",
          "Caramel Iced Coffee (Small)",
          "Caramel Iced Coffee (Medium)",
          "Caramel Iced Coffee (Large)",
          "Hazelnut Iced Coffee (Small)",
          "Hazelnut Iced Coffee (Medium)",
          "Hazelnut Iced Coffee (Large)",
          "French Vanilla Iced Coffee (Small)",
          "French Vanilla Iced Coffee (Medium)",
          "French Vanilla Iced Coffee (Large)",
          "Iced Coffee with Sugar Free French Vanilla Syrup (Small)",
          "Iced Coffee with Sugar Free French Vanilla Syrup (Medium)",
          "Iced Coffee with Sugar Free French Vanilla Syrup (Large)",
          "Iced Mocha (Small)",
          "Iced Mocha (Medium)",
          "Iced Mocha (Large)",
          "Iced Mocha with Nonfat Milk (Small)",
          "Iced Mocha with Nonfat Milk (Medium)",
          "Iced Mocha with Nonfat Milk (Large)",
          "Iced Caramel Mocha (Small)",
          "Iced Caramel Mocha (Medium)",
          "Iced Caramel Mocha (Large)",
          "Iced Nonfat Caramel Mocha (Small)",
          "Iced Nonfat Caramel Mocha (Medium)",
          "Iced Nonfat Caramel Mocha (Large)",
          "Frappé Mocha (Small)",
          "Frappé Mocha (Medium)",
          "Frappé Mocha (Large)",
          "Frappé Caramel (Small)",
          "Frappé Caramel (Medium)",
          "Frappé Caramel (Large)",
          "Frappé Chocolate Chip (Small)",
          "Frappé Chocolate Chip (Medium)",
          "Frappé Chocolate Chip (Large)",
          "Blueberry Pomegranate Smoothie (Small)",
          "Blueberry Pomegranate Smoothie (Medium)",
          "Blueberry Pomegranate Smoothie (Large)",
          "Strawberry Banana Smoothie (Small)",
          "Strawberry Banana Smoothie (Medium)",
          "Strawberry Banana Smoothie (Large)",
          "Mango Pineapple Smoothie (Small)",
          "Mango Pineapple Smoothie (Medium)",
          "Mango Pineapple Smoothie (Large)",
          "Vanilla Shake (Small)",
          "Vanilla Shake (Medium)",
          "Vanilla Shake (Large)",
          "Strawberry Shake (Small)",
          "Strawberry Shake (Medium)",
          "Strawberry Shake (Large)",
          "Chocolate Shake (Small)",
          "Chocolate Shake (Medium)",
          "Chocolate Shake (Large)",
          "Shamrock Shake (Medium)",
          "Shamrock Shake (Large)",
          "McFlurry with M&M’s Candies (Small)",
          "McFlurry with M&M’s Candies (Medium)",
          "McFlurry with M&M’s Candies (Snack)",
          "McFlurry with Oreo Cookies (Small)",
          "McFlurry with Oreo Cookies (Medium)",
          "McFlurry with Oreo Cookies (Snack)",
          "McFlurry with Reese's Peanut Butter Cups (Medium)",
          "McFlurry with Reese's Peanut Butter Cups (Snack)"
         ],
         "type": "scatter",
         "x": [
          "Egg McMuffin",
          "Egg White Delight",
          "Sausage McMuffin",
          "Sausage McMuffin with Egg",
          "Sausage McMuffin with Egg Whites",
          "Steak & Egg McMuffin",
          "Bacon, Egg & Cheese Biscuit (Regular Biscuit)",
          "Bacon, Egg & Cheese Biscuit (Large Biscuit)",
          "Bacon, Egg & Cheese Biscuit with Egg Whites (Regular Biscuit)",
          "Bacon, Egg & Cheese Biscuit with Egg Whites (Large Biscuit)",
          "Sausage Biscuit (Regular Biscuit)",
          "Sausage Biscuit (Large Biscuit)",
          "Sausage Biscuit with Egg (Regular Biscuit)",
          "Sausage Biscuit with Egg (Large Biscuit)",
          "Sausage Biscuit with Egg Whites (Regular Biscuit)",
          "Sausage Biscuit with Egg Whites (Large Biscuit)",
          "Southern Style Chicken Biscuit (Regular Biscuit)",
          "Southern Style Chicken Biscuit (Large Biscuit)",
          "Steak & Egg Biscuit (Regular Biscuit)",
          "Bacon, Egg & Cheese McGriddles",
          "Bacon, Egg & Cheese McGriddles with Egg Whites",
          "Sausage McGriddles",
          "Sausage, Egg & Cheese McGriddles",
          "Sausage, Egg & Cheese McGriddles with Egg Whites",
          "Bacon, Egg & Cheese Bagel",
          "Bacon, Egg & Cheese Bagel with Egg Whites",
          "Steak, Egg & Cheese Bagel",
          "Big Breakfast (Regular Biscuit)",
          "Big Breakfast (Large Biscuit)",
          "Big Breakfast with Egg Whites (Regular Biscuit)",
          "Big Breakfast with Egg Whites (Large Biscuit)",
          "Big Breakfast with Hotcakes (Regular Biscuit)",
          "Big Breakfast with Hotcakes (Large Biscuit)",
          "Big Breakfast with Hotcakes and Egg Whites (Regular Biscuit)",
          "Big Breakfast with Hotcakes and Egg Whites (Large Biscuit)",
          "Hotcakes",
          "Hotcakes and Sausage",
          "Sausage Burrito",
          "Hash Brown",
          "Cinnamon Melts",
          "Fruit & Maple Oatmeal",
          "Fruit & Maple Oatmeal without Brown Sugar",
          "Big Mac",
          "Quarter Pounder with Cheese",
          "Quarter Pounder with Bacon & Cheese",
          "Quarter Pounder with Bacon Habanero Ranch",
          "Quarter Pounder Deluxe",
          "Double Quarter Pounder with Cheese",
          "Hamburger",
          "Cheeseburger",
          "Double Cheeseburger",
          "Bacon Clubhouse Burger",
          "McDouble",
          "Bacon McDouble",
          "Daily Double",
          "Jalapeño Double",
          "McRib",
          "Premium Crispy Chicken Classic Sandwich",
          "Premium Grilled Chicken Classic Sandwich",
          "Premium Crispy Chicken Club Sandwich",
          "Premium Grilled Chicken Club Sandwich",
          "Premium Crispy Chicken Ranch BLT Sandwich",
          "Premium Grilled Chicken Ranch BLT Sandwich",
          "Bacon Clubhouse Crispy Chicken Sandwich",
          "Bacon Clubhouse Grilled Chicken Sandwich",
          "Southern Style Crispy Chicken Sandwich",
          "McChicken",
          "Bacon Cheddar McChicken",
          "Bacon Buffalo Ranch McChicken",
          "Buffalo Ranch McChicken",
          "Premium McWrap Chicken & Bacon (Crispy Chicken)",
          "Premium McWrap Chicken & Bacon (Grilled Chicken)",
          "Premium McWrap Chicken & Ranch (Crispy Chicken)",
          "Premium McWrap Chicken & Ranch (Grilled Chicken)",
          "Premium McWrap Southwest Chicken (Crispy Chicken)",
          "Premium McWrap Southwest Chicken (Grilled Chicken)",
          "Premium McWrap Chicken Sweet Chili (Crispy Chicken)",
          "Premium McWrap Chicken Sweet Chili (Grilled Chicken)",
          "Chicken McNuggets (4 piece)",
          "Chicken McNuggets (6 piece)",
          "Chicken McNuggets (10 piece)",
          "Chicken McNuggets (20 piece)",
          "Chicken McNuggets (40 piece)",
          "Filet-O-Fish",
          "Premium Bacon Ranch Salad (without Chicken)",
          "Premium Bacon Ranch Salad with Crispy Chicken",
          "Premium Bacon Ranch Salad with Grilled Chicken",
          "Premium Southwest Salad (without Chicken)",
          "Premium Southwest Salad with Crispy Chicken",
          "Premium Southwest Salad with Grilled Chicken",
          "Chipotle BBQ Snack Wrap (Crispy Chicken)",
          "Chipotle BBQ Snack Wrap (Grilled Chicken)",
          "Honey Mustard Snack Wrap (Crispy Chicken)",
          "Honey Mustard Snack Wrap (Grilled Chicken)",
          "Ranch Snack Wrap (Crispy Chicken)",
          "Ranch Snack Wrap (Grilled Chicken)",
          "Small French Fries",
          "Medium French Fries",
          "Large French Fries",
          "Kids French Fries",
          "Side Salad",
          "Apple Slices",
          "Fruit 'n Yogurt Parfait",
          "Baked Apple Pie",
          "Chocolate Chip Cookie",
          "Oatmeal Raisin Cookie",
          "Kids Ice Cream Cone",
          "Hot Fudge Sundae",
          "Hot Caramel Sundae",
          "Strawberry Sundae",
          "Coca-Cola Classic (Small)",
          "Coca-Cola Classic (Medium)",
          "Coca-Cola Classic (Large)",
          "Coca-Cola Classic (Child)",
          "Diet Coke (Small)",
          "Diet Coke (Medium)",
          "Diet Coke (Large)",
          "Diet Coke (Child)",
          "Dr Pepper (Small)",
          "Dr Pepper (Medium)",
          "Dr Pepper (Large)",
          "Dr Pepper (Child)",
          "Diet Dr Pepper (Small)",
          "Diet Dr Pepper (Medium)",
          "Diet Dr Pepper (Large)",
          "Diet Dr Pepper (Child)",
          "Sprite (Small)",
          "Sprite (Medium)",
          "Sprite (Large)",
          "Sprite (Child)",
          "1% Low Fat Milk Jug",
          "Fat Free Chocolate Milk Jug",
          "Minute Maid 100% Apple Juice Box",
          "Minute Maid Orange Juice (Small)",
          "Minute Maid Orange Juice (Medium)",
          "Minute Maid Orange Juice (Large)",
          "Dasani Water Bottle",
          "Iced Tea (Small)",
          "Iced Tea (Medium)",
          "Iced Tea (Large)",
          "Iced Tea (Child)",
          "Sweet Tea (Small)",
          "Sweet Tea (Medium)",
          "Sweet Tea (Large)",
          "Sweet Tea (Child)",
          "Coffee (Small)",
          "Coffee (Medium)",
          "Coffee (Large)",
          "Latte (Small)",
          "Latte (Medium)",
          "Latte (Large)",
          "Caramel Latte (Small)",
          "Caramel Latte (Medium)",
          "Caramel Latte (Large)",
          "Hazelnut Latte (Small)",
          "Hazelnut Latte (Medium)",
          "Hazelnut Latte (Large)",
          "French Vanilla Latte (Small)",
          "French Vanilla Latte (Medium)",
          "French Vanilla Latte (Large)",
          "Latte with Sugar Free French Vanilla Syrup (Small)",
          "Latte with Sugar Free French Vanilla Syrup (Medium)",
          "Latte with Sugar Free French Vanilla Syrup (Large)",
          "Nonfat Latte (Small)",
          "Nonfat Latte (Medium)",
          "Nonfat Latte (Large)",
          "Nonfat Caramel Latte (Small)",
          "Nonfat Caramel Latte (Medium)",
          "Nonfat Caramel Latte (Large)",
          "Nonfat Hazelnut Latte (Small)",
          "Nonfat Hazelnut Latte (Medium)",
          "Nonfat Hazelnut Latte (Large)",
          "Nonfat French Vanilla Latte (Small)",
          "Nonfat French Vanilla Latte (Medium)",
          "Nonfat French Vanilla Latte (Large)",
          "Nonfat Latte with Sugar Free French Vanilla Syrup (Small)",
          "Nonfat Latte with Sugar Free French Vanilla Syrup (Medium)",
          "Nonfat Latte with Sugar Free French Vanilla Syrup (Large)",
          "Mocha (Small)",
          "Mocha (Medium)",
          "Mocha (Large)",
          "Mocha with Nonfat Milk (Small)",
          "Mocha with Nonfat Milk (Medium)",
          "Mocha with Nonfat Milk (Large)",
          "Caramel Mocha (Small)",
          "Caramel Mocha (Medium)",
          "Caramel Mocha (Large)",
          "Nonfat Caramel Mocha (Small)",
          "Nonfat Caramel Mocha (Medium)",
          "Nonfat Caramel Mocha (Large)",
          "Hot Chocolate (Small)",
          "Hot Chocolate (Medium)",
          "Hot Chocolate (Large)",
          "Hot Chocolate with Nonfat Milk (Small)",
          "Hot Chocolate with Nonfat Milk (Medium)",
          "Hot Chocolate with Nonfat Milk (Large)",
          "Regular Iced Coffee (Small)",
          "Regular Iced Coffee (Medium)",
          "Regular Iced Coffee (Large)",
          "Caramel Iced Coffee (Small)",
          "Caramel Iced Coffee (Medium)",
          "Caramel Iced Coffee (Large)",
          "Hazelnut Iced Coffee (Small)",
          "Hazelnut Iced Coffee (Medium)",
          "Hazelnut Iced Coffee (Large)",
          "French Vanilla Iced Coffee (Small)",
          "French Vanilla Iced Coffee (Medium)",
          "French Vanilla Iced Coffee (Large)",
          "Iced Coffee with Sugar Free French Vanilla Syrup (Small)",
          "Iced Coffee with Sugar Free French Vanilla Syrup (Medium)",
          "Iced Coffee with Sugar Free French Vanilla Syrup (Large)",
          "Iced Mocha (Small)",
          "Iced Mocha (Medium)",
          "Iced Mocha (Large)",
          "Iced Mocha with Nonfat Milk (Small)",
          "Iced Mocha with Nonfat Milk (Medium)",
          "Iced Mocha with Nonfat Milk (Large)",
          "Iced Caramel Mocha (Small)",
          "Iced Caramel Mocha (Medium)",
          "Iced Caramel Mocha (Large)",
          "Iced Nonfat Caramel Mocha (Small)",
          "Iced Nonfat Caramel Mocha (Medium)",
          "Iced Nonfat Caramel Mocha (Large)",
          "Frappé Mocha (Small)",
          "Frappé Mocha (Medium)",
          "Frappé Mocha (Large)",
          "Frappé Caramel (Small)",
          "Frappé Caramel (Medium)",
          "Frappé Caramel (Large)",
          "Frappé Chocolate Chip (Small)",
          "Frappé Chocolate Chip (Medium)",
          "Frappé Chocolate Chip (Large)",
          "Blueberry Pomegranate Smoothie (Small)",
          "Blueberry Pomegranate Smoothie (Medium)",
          "Blueberry Pomegranate Smoothie (Large)",
          "Strawberry Banana Smoothie (Small)",
          "Strawberry Banana Smoothie (Medium)",
          "Strawberry Banana Smoothie (Large)",
          "Mango Pineapple Smoothie (Small)",
          "Mango Pineapple Smoothie (Medium)",
          "Mango Pineapple Smoothie (Large)",
          "Vanilla Shake (Small)",
          "Vanilla Shake (Medium)",
          "Vanilla Shake (Large)",
          "Strawberry Shake (Small)",
          "Strawberry Shake (Medium)",
          "Strawberry Shake (Large)",
          "Chocolate Shake (Small)",
          "Chocolate Shake (Medium)",
          "Chocolate Shake (Large)",
          "Shamrock Shake (Medium)",
          "Shamrock Shake (Large)",
          "McFlurry with M&M’s Candies (Small)",
          "McFlurry with M&M’s Candies (Medium)",
          "McFlurry with M&M’s Candies (Snack)",
          "McFlurry with Oreo Cookies (Small)",
          "McFlurry with Oreo Cookies (Medium)",
          "McFlurry with Oreo Cookies (Snack)",
          "McFlurry with Reese's Peanut Butter Cups (Medium)",
          "McFlurry with Reese's Peanut Butter Cups (Snack)"
         ],
         "y": [
          25,
          15,
          42,
          52,
          42,
          46,
          65,
          68,
          56,
          59,
          62,
          65,
          71,
          74,
          62,
          65,
          41,
          45,
          78,
          44,
          34,
          40,
          61,
          52,
          56,
          45,
          63,
          87,
          90,
          69,
          72,
          96,
          100,
          78,
          81,
          9,
          36,
          33,
          6,
          43,
          8,
          8,
          48,
          61,
          63,
          64,
          54,
          96,
          15,
          27,
          52,
          75,
          40,
          49,
          44,
          44,
          48,
          18,
          9,
          44,
          36,
          31,
          22,
          51,
          42,
          15,
          15,
          35,
          25,
          16,
          45,
          36,
          40,
          31,
          40,
          32,
          23,
          14,
          10,
          15,
          25,
          50,
          101,
          19,
          18,
          29,
          20,
          9,
          22,
          13,
          22,
          18,
          22,
          18,
          27,
          22,
          8,
          11,
          17,
          4,
          0,
          0,
          5,
          35,
          19,
          13,
          4,
          34,
          24,
          20,
          0,
          0,
          0,
          0,
          0,
          0,
          0,
          0,
          0,
          0,
          0,
          0,
          0,
          0,
          0,
          0,
          0,
          0,
          0,
          0,
          8,
          0,
          0,
          0,
          0,
          0,
          0,
          0,
          0,
          0,
          0,
          0,
          0,
          0,
          0,
          0,
          0,
          0,
          24,
          30,
          39,
          24,
          30,
          39,
          24,
          30,
          39,
          24,
          30,
          39,
          24,
          30,
          39,
          0,
          0,
          0,
          0,
          0,
          0,
          0,
          0,
          0,
          0,
          0,
          0,
          0,
          0,
          0,
          34,
          40,
          49,
          11,
          11,
          12,
          33,
          40,
          49,
          10,
          11,
          11,
          39,
          47,
          58,
          11,
          11,
          12,
          15,
          22,
          29,
          15,
          22,
          29,
          15,
          22,
          29,
          15,
          22,
          29,
          15,
          22,
          29,
          33,
          38,
          49,
          16,
          17,
          18,
          33,
          37,
          48,
          16,
          16,
          17,
          59,
          71,
          85,
          60,
          73,
          87,
          72,
          85,
          101,
          0,
          0,
          3,
          0,
          0,
          3,
          0,
          0,
          3,
          49,
          61,
          73,
          52,
          63,
          75,
          51,
          62,
          74,
          61,
          73,
          72,
          102,
          48,
          44,
          58,
          29,
          76,
          38
         ]
        }
       ],
       "layout": {
        "autosize": true,
        "hovermode": "closest",
        "showlegend": false,
        "template": {
         "data": {
          "bar": [
           {
            "error_x": {
             "color": "#2a3f5f"
            },
            "error_y": {
             "color": "#2a3f5f"
            },
            "marker": {
             "line": {
              "color": "#E5ECF6",
              "width": 0.5
             }
            },
            "type": "bar"
           }
          ],
          "barpolar": [
           {
            "marker": {
             "line": {
              "color": "#E5ECF6",
              "width": 0.5
             }
            },
            "type": "barpolar"
           }
          ],
          "carpet": [
           {
            "aaxis": {
             "endlinecolor": "#2a3f5f",
             "gridcolor": "white",
             "linecolor": "white",
             "minorgridcolor": "white",
             "startlinecolor": "#2a3f5f"
            },
            "baxis": {
             "endlinecolor": "#2a3f5f",
             "gridcolor": "white",
             "linecolor": "white",
             "minorgridcolor": "white",
             "startlinecolor": "#2a3f5f"
            },
            "type": "carpet"
           }
          ],
          "choropleth": [
           {
            "colorbar": {
             "outlinewidth": 0,
             "ticks": ""
            },
            "type": "choropleth"
           }
          ],
          "contour": [
           {
            "colorbar": {
             "outlinewidth": 0,
             "ticks": ""
            },
            "colorscale": [
             [
              0,
              "#0d0887"
             ],
             [
              0.1111111111111111,
              "#46039f"
             ],
             [
              0.2222222222222222,
              "#7201a8"
             ],
             [
              0.3333333333333333,
              "#9c179e"
             ],
             [
              0.4444444444444444,
              "#bd3786"
             ],
             [
              0.5555555555555556,
              "#d8576b"
             ],
             [
              0.6666666666666666,
              "#ed7953"
             ],
             [
              0.7777777777777778,
              "#fb9f3a"
             ],
             [
              0.8888888888888888,
              "#fdca26"
             ],
             [
              1,
              "#f0f921"
             ]
            ],
            "type": "contour"
           }
          ],
          "contourcarpet": [
           {
            "colorbar": {
             "outlinewidth": 0,
             "ticks": ""
            },
            "type": "contourcarpet"
           }
          ],
          "heatmap": [
           {
            "colorbar": {
             "outlinewidth": 0,
             "ticks": ""
            },
            "colorscale": [
             [
              0,
              "#0d0887"
             ],
             [
              0.1111111111111111,
              "#46039f"
             ],
             [
              0.2222222222222222,
              "#7201a8"
             ],
             [
              0.3333333333333333,
              "#9c179e"
             ],
             [
              0.4444444444444444,
              "#bd3786"
             ],
             [
              0.5555555555555556,
              "#d8576b"
             ],
             [
              0.6666666666666666,
              "#ed7953"
             ],
             [
              0.7777777777777778,
              "#fb9f3a"
             ],
             [
              0.8888888888888888,
              "#fdca26"
             ],
             [
              1,
              "#f0f921"
             ]
            ],
            "type": "heatmap"
           }
          ],
          "heatmapgl": [
           {
            "colorbar": {
             "outlinewidth": 0,
             "ticks": ""
            },
            "colorscale": [
             [
              0,
              "#0d0887"
             ],
             [
              0.1111111111111111,
              "#46039f"
             ],
             [
              0.2222222222222222,
              "#7201a8"
             ],
             [
              0.3333333333333333,
              "#9c179e"
             ],
             [
              0.4444444444444444,
              "#bd3786"
             ],
             [
              0.5555555555555556,
              "#d8576b"
             ],
             [
              0.6666666666666666,
              "#ed7953"
             ],
             [
              0.7777777777777778,
              "#fb9f3a"
             ],
             [
              0.8888888888888888,
              "#fdca26"
             ],
             [
              1,
              "#f0f921"
             ]
            ],
            "type": "heatmapgl"
           }
          ],
          "histogram": [
           {
            "marker": {
             "colorbar": {
              "outlinewidth": 0,
              "ticks": ""
             }
            },
            "type": "histogram"
           }
          ],
          "histogram2d": [
           {
            "colorbar": {
             "outlinewidth": 0,
             "ticks": ""
            },
            "colorscale": [
             [
              0,
              "#0d0887"
             ],
             [
              0.1111111111111111,
              "#46039f"
             ],
             [
              0.2222222222222222,
              "#7201a8"
             ],
             [
              0.3333333333333333,
              "#9c179e"
             ],
             [
              0.4444444444444444,
              "#bd3786"
             ],
             [
              0.5555555555555556,
              "#d8576b"
             ],
             [
              0.6666666666666666,
              "#ed7953"
             ],
             [
              0.7777777777777778,
              "#fb9f3a"
             ],
             [
              0.8888888888888888,
              "#fdca26"
             ],
             [
              1,
              "#f0f921"
             ]
            ],
            "type": "histogram2d"
           }
          ],
          "histogram2dcontour": [
           {
            "colorbar": {
             "outlinewidth": 0,
             "ticks": ""
            },
            "colorscale": [
             [
              0,
              "#0d0887"
             ],
             [
              0.1111111111111111,
              "#46039f"
             ],
             [
              0.2222222222222222,
              "#7201a8"
             ],
             [
              0.3333333333333333,
              "#9c179e"
             ],
             [
              0.4444444444444444,
              "#bd3786"
             ],
             [
              0.5555555555555556,
              "#d8576b"
             ],
             [
              0.6666666666666666,
              "#ed7953"
             ],
             [
              0.7777777777777778,
              "#fb9f3a"
             ],
             [
              0.8888888888888888,
              "#fdca26"
             ],
             [
              1,
              "#f0f921"
             ]
            ],
            "type": "histogram2dcontour"
           }
          ],
          "mesh3d": [
           {
            "colorbar": {
             "outlinewidth": 0,
             "ticks": ""
            },
            "type": "mesh3d"
           }
          ],
          "parcoords": [
           {
            "line": {
             "colorbar": {
              "outlinewidth": 0,
              "ticks": ""
             }
            },
            "type": "parcoords"
           }
          ],
          "pie": [
           {
            "automargin": true,
            "type": "pie"
           }
          ],
          "scatter": [
           {
            "marker": {
             "colorbar": {
              "outlinewidth": 0,
              "ticks": ""
             }
            },
            "type": "scatter"
           }
          ],
          "scatter3d": [
           {
            "line": {
             "colorbar": {
              "outlinewidth": 0,
              "ticks": ""
             }
            },
            "marker": {
             "colorbar": {
              "outlinewidth": 0,
              "ticks": ""
             }
            },
            "type": "scatter3d"
           }
          ],
          "scattercarpet": [
           {
            "marker": {
             "colorbar": {
              "outlinewidth": 0,
              "ticks": ""
             }
            },
            "type": "scattercarpet"
           }
          ],
          "scattergeo": [
           {
            "marker": {
             "colorbar": {
              "outlinewidth": 0,
              "ticks": ""
             }
            },
            "type": "scattergeo"
           }
          ],
          "scattergl": [
           {
            "marker": {
             "colorbar": {
              "outlinewidth": 0,
              "ticks": ""
             }
            },
            "type": "scattergl"
           }
          ],
          "scattermapbox": [
           {
            "marker": {
             "colorbar": {
              "outlinewidth": 0,
              "ticks": ""
             }
            },
            "type": "scattermapbox"
           }
          ],
          "scatterpolar": [
           {
            "marker": {
             "colorbar": {
              "outlinewidth": 0,
              "ticks": ""
             }
            },
            "type": "scatterpolar"
           }
          ],
          "scatterpolargl": [
           {
            "marker": {
             "colorbar": {
              "outlinewidth": 0,
              "ticks": ""
             }
            },
            "type": "scatterpolargl"
           }
          ],
          "scatterternary": [
           {
            "marker": {
             "colorbar": {
              "outlinewidth": 0,
              "ticks": ""
             }
            },
            "type": "scatterternary"
           }
          ],
          "surface": [
           {
            "colorbar": {
             "outlinewidth": 0,
             "ticks": ""
            },
            "colorscale": [
             [
              0,
              "#0d0887"
             ],
             [
              0.1111111111111111,
              "#46039f"
             ],
             [
              0.2222222222222222,
              "#7201a8"
             ],
             [
              0.3333333333333333,
              "#9c179e"
             ],
             [
              0.4444444444444444,
              "#bd3786"
             ],
             [
              0.5555555555555556,
              "#d8576b"
             ],
             [
              0.6666666666666666,
              "#ed7953"
             ],
             [
              0.7777777777777778,
              "#fb9f3a"
             ],
             [
              0.8888888888888888,
              "#fdca26"
             ],
             [
              1,
              "#f0f921"
             ]
            ],
            "type": "surface"
           }
          ],
          "table": [
           {
            "cells": {
             "fill": {
              "color": "#EBF0F8"
             },
             "line": {
              "color": "white"
             }
            },
            "header": {
             "fill": {
              "color": "#C8D4E3"
             },
             "line": {
              "color": "white"
             }
            },
            "type": "table"
           }
          ]
         },
         "layout": {
          "annotationdefaults": {
           "arrowcolor": "#2a3f5f",
           "arrowhead": 0,
           "arrowwidth": 1
          },
          "coloraxis": {
           "colorbar": {
            "outlinewidth": 0,
            "ticks": ""
           }
          },
          "colorscale": {
           "diverging": [
            [
             0,
             "#8e0152"
            ],
            [
             0.1,
             "#c51b7d"
            ],
            [
             0.2,
             "#de77ae"
            ],
            [
             0.3,
             "#f1b6da"
            ],
            [
             0.4,
             "#fde0ef"
            ],
            [
             0.5,
             "#f7f7f7"
            ],
            [
             0.6,
             "#e6f5d0"
            ],
            [
             0.7,
             "#b8e186"
            ],
            [
             0.8,
             "#7fbc41"
            ],
            [
             0.9,
             "#4d9221"
            ],
            [
             1,
             "#276419"
            ]
           ],
           "sequential": [
            [
             0,
             "#0d0887"
            ],
            [
             0.1111111111111111,
             "#46039f"
            ],
            [
             0.2222222222222222,
             "#7201a8"
            ],
            [
             0.3333333333333333,
             "#9c179e"
            ],
            [
             0.4444444444444444,
             "#bd3786"
            ],
            [
             0.5555555555555556,
             "#d8576b"
            ],
            [
             0.6666666666666666,
             "#ed7953"
            ],
            [
             0.7777777777777778,
             "#fb9f3a"
            ],
            [
             0.8888888888888888,
             "#fdca26"
            ],
            [
             1,
             "#f0f921"
            ]
           ],
           "sequentialminus": [
            [
             0,
             "#0d0887"
            ],
            [
             0.1111111111111111,
             "#46039f"
            ],
            [
             0.2222222222222222,
             "#7201a8"
            ],
            [
             0.3333333333333333,
             "#9c179e"
            ],
            [
             0.4444444444444444,
             "#bd3786"
            ],
            [
             0.5555555555555556,
             "#d8576b"
            ],
            [
             0.6666666666666666,
             "#ed7953"
            ],
            [
             0.7777777777777778,
             "#fb9f3a"
            ],
            [
             0.8888888888888888,
             "#fdca26"
            ],
            [
             1,
             "#f0f921"
            ]
           ]
          },
          "colorway": [
           "#636efa",
           "#EF553B",
           "#00cc96",
           "#ab63fa",
           "#FFA15A",
           "#19d3f3",
           "#FF6692",
           "#B6E880",
           "#FF97FF",
           "#FECB52"
          ],
          "font": {
           "color": "#2a3f5f"
          },
          "geo": {
           "bgcolor": "white",
           "lakecolor": "white",
           "landcolor": "#E5ECF6",
           "showlakes": true,
           "showland": true,
           "subunitcolor": "white"
          },
          "hoverlabel": {
           "align": "left"
          },
          "hovermode": "closest",
          "mapbox": {
           "style": "light"
          },
          "paper_bgcolor": "white",
          "plot_bgcolor": "#E5ECF6",
          "polar": {
           "angularaxis": {
            "gridcolor": "white",
            "linecolor": "white",
            "ticks": ""
           },
           "bgcolor": "#E5ECF6",
           "radialaxis": {
            "gridcolor": "white",
            "linecolor": "white",
            "ticks": ""
           }
          },
          "scene": {
           "xaxis": {
            "backgroundcolor": "#E5ECF6",
            "gridcolor": "white",
            "gridwidth": 2,
            "linecolor": "white",
            "showbackground": true,
            "ticks": "",
            "zerolinecolor": "white"
           },
           "yaxis": {
            "backgroundcolor": "#E5ECF6",
            "gridcolor": "white",
            "gridwidth": 2,
            "linecolor": "white",
            "showbackground": true,
            "ticks": "",
            "zerolinecolor": "white"
           },
           "zaxis": {
            "backgroundcolor": "#E5ECF6",
            "gridcolor": "white",
            "gridwidth": 2,
            "linecolor": "white",
            "showbackground": true,
            "ticks": "",
            "zerolinecolor": "white"
           }
          },
          "shapedefaults": {
           "line": {
            "color": "#2a3f5f"
           }
          },
          "ternary": {
           "aaxis": {
            "gridcolor": "white",
            "linecolor": "white",
            "ticks": ""
           },
           "baxis": {
            "gridcolor": "white",
            "linecolor": "white",
            "ticks": ""
           },
           "bgcolor": "#E5ECF6",
           "caxis": {
            "gridcolor": "white",
            "linecolor": "white",
            "ticks": ""
           }
          },
          "title": {
           "x": 0.05
          },
          "xaxis": {
           "automargin": true,
           "gridcolor": "white",
           "linecolor": "white",
           "ticks": "",
           "title": {
            "standoff": 15
           },
           "zerolinecolor": "white",
           "zerolinewidth": 2
          },
          "yaxis": {
           "automargin": true,
           "gridcolor": "white",
           "linecolor": "white",
           "ticks": "",
           "title": {
            "standoff": 15
           },
           "zerolinecolor": "white",
           "zerolinewidth": 2
          }
         }
        },
        "title": {
         "text": "Scatter plot of Saturated Fat (% Daily Value) per Item on the Menu"
        },
        "xaxis": {
         "showgrid": false,
         "showline": false,
         "zeroline": false
        },
        "yaxis": {
         "gridwidth": 2,
         "showgrid": false,
         "showline": false,
         "ticklen": 5,
         "title": {
          "text": "Saturated Fat (% Daily Value)"
         },
         "zeroline": false
        }
       }
      },
      "text/html": [
       "<div>\n",
       "        \n",
       "        \n",
       "            <div id=\"2758ad2a-a325-476e-81ed-8bd545ac9b1a\" class=\"plotly-graph-div\" style=\"height:525px; width:100%;\"></div>\n",
       "            <script type=\"text/javascript\">\n",
       "                require([\"plotly\"], function(Plotly) {\n",
       "                    window.PLOTLYENV=window.PLOTLYENV || {};\n",
       "                    \n",
       "                if (document.getElementById(\"2758ad2a-a325-476e-81ed-8bd545ac9b1a\")) {\n",
       "                    Plotly.newPlot(\n",
       "                        '2758ad2a-a325-476e-81ed-8bd545ac9b1a',\n",
       "                        [{\"marker\": {\"color\": [25, 15, 42, 52, 42, 46, 65, 68, 56, 59, 62, 65, 71, 74, 62, 65, 41, 45, 78, 44, 34, 40, 61, 52, 56, 45, 63, 87, 90, 69, 72, 96, 100, 78, 81, 9, 36, 33, 6, 43, 8, 8, 48, 61, 63, 64, 54, 96, 15, 27, 52, 75, 40, 49, 44, 44, 48, 18, 9, 44, 36, 31, 22, 51, 42, 15, 15, 35, 25, 16, 45, 36, 40, 31, 40, 32, 23, 14, 10, 15, 25, 50, 101, 19, 18, 29, 20, 9, 22, 13, 22, 18, 22, 18, 27, 22, 8, 11, 17, 4, 0, 0, 5, 35, 19, 13, 4, 34, 24, 20, 0, 0, 0, 0, 0, 0, 0, 0, 0, 0, 0, 0, 0, 0, 0, 0, 0, 0, 0, 0, 8, 0, 0, 0, 0, 0, 0, 0, 0, 0, 0, 0, 0, 0, 0, 0, 0, 0, 24, 30, 39, 24, 30, 39, 24, 30, 39, 24, 30, 39, 24, 30, 39, 0, 0, 0, 0, 0, 0, 0, 0, 0, 0, 0, 0, 0, 0, 0, 34, 40, 49, 11, 11, 12, 33, 40, 49, 10, 11, 11, 39, 47, 58, 11, 11, 12, 15, 22, 29, 15, 22, 29, 15, 22, 29, 15, 22, 29, 15, 22, 29, 33, 38, 49, 16, 17, 18, 33, 37, 48, 16, 16, 17, 59, 71, 85, 60, 73, 87, 72, 85, 101, 0, 0, 3, 0, 0, 3, 0, 0, 3, 49, 61, 73, 52, 63, 75, 51, 62, 74, 61, 73, 72, 102, 48, 44, 58, 29, 76, 38], \"colorscale\": [[0.0, \"rgb(12,51,131)\"], [0.25, \"rgb(10,136,186)\"], [0.5, \"rgb(242,211,56)\"], [0.75, \"rgb(242,143,56)\"], [1.0, \"rgb(217,30,30)\"]], \"showscale\": true, \"size\": [25, 15, 42, 52, 42, 46, 65, 68, 56, 59, 62, 65, 71, 74, 62, 65, 41, 45, 78, 44, 34, 40, 61, 52, 56, 45, 63, 87, 90, 69, 72, 96, 100, 78, 81, 9, 36, 33, 6, 43, 8, 8, 48, 61, 63, 64, 54, 96, 15, 27, 52, 75, 40, 49, 44, 44, 48, 18, 9, 44, 36, 31, 22, 51, 42, 15, 15, 35, 25, 16, 45, 36, 40, 31, 40, 32, 23, 14, 10, 15, 25, 50, 101, 19, 18, 29, 20, 9, 22, 13, 22, 18, 22, 18, 27, 22, 8, 11, 17, 4, 0, 0, 5, 35, 19, 13, 4, 34, 24, 20, 0, 0, 0, 0, 0, 0, 0, 0, 0, 0, 0, 0, 0, 0, 0, 0, 0, 0, 0, 0, 8, 0, 0, 0, 0, 0, 0, 0, 0, 0, 0, 0, 0, 0, 0, 0, 0, 0, 24, 30, 39, 24, 30, 39, 24, 30, 39, 24, 30, 39, 24, 30, 39, 0, 0, 0, 0, 0, 0, 0, 0, 0, 0, 0, 0, 0, 0, 0, 34, 40, 49, 11, 11, 12, 33, 40, 49, 10, 11, 11, 39, 47, 58, 11, 11, 12, 15, 22, 29, 15, 22, 29, 15, 22, 29, 15, 22, 29, 15, 22, 29, 33, 38, 49, 16, 17, 18, 33, 37, 48, 16, 16, 17, 59, 71, 85, 60, 73, 87, 72, 85, 101, 0, 0, 3, 0, 0, 3, 0, 0, 3, 49, 61, 73, 52, 63, 75, 51, 62, 74, 61, 73, 72, 102, 48, 44, 58, 29, 76, 38]}, \"mode\": \"markers\", \"text\": [\"Egg McMuffin\", \"Egg White Delight\", \"Sausage McMuffin\", \"Sausage McMuffin with Egg\", \"Sausage McMuffin with Egg Whites\", \"Steak & Egg McMuffin\", \"Bacon, Egg & Cheese Biscuit (Regular Biscuit)\", \"Bacon, Egg & Cheese Biscuit (Large Biscuit)\", \"Bacon, Egg & Cheese Biscuit with Egg Whites (Regular Biscuit)\", \"Bacon, Egg & Cheese Biscuit with Egg Whites (Large Biscuit)\", \"Sausage Biscuit (Regular Biscuit)\", \"Sausage Biscuit (Large Biscuit)\", \"Sausage Biscuit with Egg (Regular Biscuit)\", \"Sausage Biscuit with Egg (Large Biscuit)\", \"Sausage Biscuit with Egg Whites (Regular Biscuit)\", \"Sausage Biscuit with Egg Whites (Large Biscuit)\", \"Southern Style Chicken Biscuit (Regular Biscuit)\", \"Southern Style Chicken Biscuit (Large Biscuit)\", \"Steak & Egg Biscuit (Regular Biscuit)\", \"Bacon, Egg & Cheese McGriddles\", \"Bacon, Egg & Cheese McGriddles with Egg Whites\", \"Sausage McGriddles\", \"Sausage, Egg & Cheese McGriddles\", \"Sausage, Egg & Cheese McGriddles with Egg Whites\", \"Bacon, Egg & Cheese Bagel\", \"Bacon, Egg & Cheese Bagel with Egg Whites\", \"Steak, Egg & Cheese Bagel\", \"Big Breakfast (Regular Biscuit)\", \"Big Breakfast (Large Biscuit)\", \"Big Breakfast with Egg Whites (Regular Biscuit)\", \"Big Breakfast with Egg Whites (Large Biscuit)\", \"Big Breakfast with Hotcakes (Regular Biscuit)\", \"Big Breakfast with Hotcakes (Large Biscuit)\", \"Big Breakfast with Hotcakes and Egg Whites (Regular Biscuit)\", \"Big Breakfast with Hotcakes and Egg Whites (Large Biscuit)\", \"Hotcakes\", \"Hotcakes and Sausage\", \"Sausage Burrito\", \"Hash Brown\", \"Cinnamon Melts\", \"Fruit & Maple Oatmeal\", \"Fruit & Maple Oatmeal without Brown Sugar\", \"Big Mac\", \"Quarter Pounder with Cheese\", \"Quarter Pounder with Bacon & Cheese\", \"Quarter Pounder with Bacon Habanero Ranch\", \"Quarter Pounder Deluxe\", \"Double Quarter Pounder with Cheese\", \"Hamburger\", \"Cheeseburger\", \"Double Cheeseburger\", \"Bacon Clubhouse Burger\", \"McDouble\", \"Bacon McDouble\", \"Daily Double\", \"Jalape\\u00f1o Double\", \"McRib\", \"Premium Crispy Chicken Classic Sandwich\", \"Premium Grilled Chicken Classic Sandwich\", \"Premium Crispy Chicken Club Sandwich\", \"Premium Grilled Chicken Club Sandwich\", \"Premium Crispy Chicken Ranch BLT Sandwich\", \"Premium Grilled Chicken Ranch BLT Sandwich\", \"Bacon Clubhouse Crispy Chicken Sandwich\", \"Bacon Clubhouse Grilled Chicken Sandwich\", \"Southern Style Crispy Chicken Sandwich\", \"McChicken\", \"Bacon Cheddar McChicken\", \"Bacon Buffalo Ranch McChicken\", \"Buffalo Ranch McChicken\", \"Premium McWrap Chicken & Bacon (Crispy Chicken)\", \"Premium McWrap Chicken & Bacon (Grilled Chicken)\", \"Premium McWrap Chicken & Ranch (Crispy Chicken)\", \"Premium McWrap Chicken & Ranch (Grilled Chicken)\", \"Premium McWrap Southwest Chicken (Crispy Chicken)\", \"Premium McWrap Southwest Chicken (Grilled Chicken)\", \"Premium McWrap Chicken Sweet Chili (Crispy Chicken)\", \"Premium McWrap Chicken Sweet Chili (Grilled Chicken)\", \"Chicken McNuggets (4 piece)\", \"Chicken McNuggets (6 piece)\", \"Chicken McNuggets (10 piece)\", \"Chicken McNuggets (20 piece)\", \"Chicken McNuggets (40 piece)\", \"Filet-O-Fish\", \"Premium Bacon Ranch Salad (without Chicken)\", \"Premium Bacon Ranch Salad with Crispy Chicken\", \"Premium Bacon Ranch Salad with Grilled Chicken\", \"Premium Southwest Salad (without Chicken)\", \"Premium Southwest Salad with Crispy Chicken\", \"Premium Southwest Salad with Grilled Chicken\", \"Chipotle BBQ Snack Wrap (Crispy Chicken)\", \"Chipotle BBQ Snack Wrap (Grilled Chicken)\", \"Honey Mustard Snack Wrap (Crispy Chicken)\", \"Honey Mustard Snack Wrap (Grilled Chicken)\", \"Ranch Snack Wrap (Crispy Chicken)\", \"Ranch Snack Wrap (Grilled Chicken)\", \"Small French Fries\", \"Medium French Fries\", \"Large French Fries\", \"Kids French Fries\", \"Side Salad\", \"Apple Slices\", \"Fruit 'n Yogurt Parfait\", \"Baked Apple Pie\", \"Chocolate Chip Cookie\", \"Oatmeal Raisin Cookie\", \"Kids Ice Cream Cone\", \"Hot Fudge Sundae\", \"Hot Caramel Sundae\", \"Strawberry Sundae\", \"Coca-Cola Classic (Small)\", \"Coca-Cola Classic (Medium)\", \"Coca-Cola Classic (Large)\", \"Coca-Cola Classic (Child)\", \"Diet Coke (Small)\", \"Diet Coke (Medium)\", \"Diet Coke (Large)\", \"Diet Coke (Child)\", \"Dr Pepper (Small)\", \"Dr Pepper (Medium)\", \"Dr Pepper (Large)\", \"Dr Pepper (Child)\", \"Diet Dr Pepper (Small)\", \"Diet Dr Pepper (Medium)\", \"Diet Dr Pepper (Large)\", \"Diet Dr Pepper (Child)\", \"Sprite (Small)\", \"Sprite (Medium)\", \"Sprite (Large)\", \"Sprite (Child)\", \"1% Low Fat Milk Jug\", \"Fat Free Chocolate Milk Jug\", \"Minute Maid 100% Apple Juice Box\", \"Minute Maid Orange Juice (Small)\", \"Minute Maid Orange Juice (Medium)\", \"Minute Maid Orange Juice (Large)\", \"Dasani Water Bottle\", \"Iced Tea (Small)\", \"Iced Tea (Medium)\", \"Iced Tea (Large)\", \"Iced Tea (Child)\", \"Sweet Tea (Small)\", \"Sweet Tea (Medium)\", \"Sweet Tea (Large)\", \"Sweet Tea (Child)\", \"Coffee (Small)\", \"Coffee (Medium)\", \"Coffee (Large)\", \"Latte (Small)\", \"Latte (Medium)\", \"Latte (Large)\", \"Caramel Latte (Small)\", \"Caramel Latte (Medium)\", \"Caramel Latte (Large)\", \"Hazelnut Latte (Small)\", \"Hazelnut Latte (Medium)\", \"Hazelnut Latte (Large)\", \"French Vanilla Latte (Small)\", \"French Vanilla Latte (Medium)\", \"French Vanilla Latte (Large)\", \"Latte with Sugar Free French Vanilla Syrup (Small)\", \"Latte with Sugar Free French Vanilla Syrup (Medium)\", \"Latte with Sugar Free French Vanilla Syrup (Large)\", \"Nonfat Latte (Small)\", \"Nonfat Latte (Medium)\", \"Nonfat Latte (Large)\", \"Nonfat Caramel Latte (Small)\", \"Nonfat Caramel Latte (Medium)\", \"Nonfat Caramel Latte (Large)\", \"Nonfat Hazelnut Latte (Small)\", \"Nonfat Hazelnut Latte (Medium)\", \"Nonfat Hazelnut Latte (Large)\", \"Nonfat French Vanilla Latte (Small)\", \"Nonfat French Vanilla Latte (Medium)\", \"Nonfat French Vanilla Latte (Large)\", \"Nonfat Latte with Sugar Free French Vanilla Syrup (Small)\", \"Nonfat Latte with Sugar Free French Vanilla Syrup (Medium)\", \"Nonfat Latte with Sugar Free French Vanilla Syrup (Large)\", \"Mocha (Small)\", \"Mocha (Medium)\", \"Mocha (Large)\", \"Mocha with Nonfat Milk (Small)\", \"Mocha with Nonfat Milk (Medium)\", \"Mocha with Nonfat Milk (Large)\", \"Caramel Mocha (Small)\", \"Caramel Mocha (Medium)\", \"Caramel Mocha (Large)\", \"Nonfat Caramel Mocha (Small)\", \"Nonfat Caramel Mocha (Medium)\", \"Nonfat Caramel Mocha (Large)\", \"Hot Chocolate (Small)\", \"Hot Chocolate (Medium)\", \"Hot Chocolate (Large)\", \"Hot Chocolate with Nonfat Milk (Small)\", \"Hot Chocolate with Nonfat Milk (Medium)\", \"Hot Chocolate with Nonfat Milk (Large)\", \"Regular Iced Coffee (Small)\", \"Regular Iced Coffee (Medium)\", \"Regular Iced Coffee (Large)\", \"Caramel Iced Coffee (Small)\", \"Caramel Iced Coffee (Medium)\", \"Caramel Iced Coffee (Large)\", \"Hazelnut Iced Coffee (Small)\", \"Hazelnut Iced Coffee (Medium)\", \"Hazelnut Iced Coffee (Large)\", \"French Vanilla Iced Coffee (Small)\", \"French Vanilla Iced Coffee (Medium)\", \"French Vanilla Iced Coffee (Large)\", \"Iced Coffee with Sugar Free French Vanilla Syrup (Small)\", \"Iced Coffee with Sugar Free French Vanilla Syrup (Medium)\", \"Iced Coffee with Sugar Free French Vanilla Syrup (Large)\", \"Iced Mocha (Small)\", \"Iced Mocha (Medium)\", \"Iced Mocha (Large)\", \"Iced Mocha with Nonfat Milk (Small)\", \"Iced Mocha with Nonfat Milk (Medium)\", \"Iced Mocha with Nonfat Milk (Large)\", \"Iced Caramel Mocha (Small)\", \"Iced Caramel Mocha (Medium)\", \"Iced Caramel Mocha (Large)\", \"Iced Nonfat Caramel Mocha (Small)\", \"Iced Nonfat Caramel Mocha (Medium)\", \"Iced Nonfat Caramel Mocha (Large)\", \"Frapp\\u00e9 Mocha (Small)\", \"Frapp\\u00e9 Mocha (Medium)\", \"Frapp\\u00e9 Mocha (Large)\", \"Frapp\\u00e9 Caramel (Small)\", \"Frapp\\u00e9 Caramel (Medium)\", \"Frapp\\u00e9 Caramel (Large)\", \"Frapp\\u00e9 Chocolate Chip (Small)\", \"Frapp\\u00e9 Chocolate Chip (Medium)\", \"Frapp\\u00e9 Chocolate Chip (Large)\", \"Blueberry Pomegranate Smoothie (Small)\", \"Blueberry Pomegranate Smoothie (Medium)\", \"Blueberry Pomegranate Smoothie (Large)\", \"Strawberry Banana Smoothie (Small)\", \"Strawberry Banana Smoothie (Medium)\", \"Strawberry Banana Smoothie (Large)\", \"Mango Pineapple Smoothie (Small)\", \"Mango Pineapple Smoothie (Medium)\", \"Mango Pineapple Smoothie (Large)\", \"Vanilla Shake (Small)\", \"Vanilla Shake (Medium)\", \"Vanilla Shake (Large)\", \"Strawberry Shake (Small)\", \"Strawberry Shake (Medium)\", \"Strawberry Shake (Large)\", \"Chocolate Shake (Small)\", \"Chocolate Shake (Medium)\", \"Chocolate Shake (Large)\", \"Shamrock Shake (Medium)\", \"Shamrock Shake (Large)\", \"McFlurry with M&M\\u2019s Candies (Small)\", \"McFlurry with M&M\\u2019s Candies (Medium)\", \"McFlurry with M&M\\u2019s Candies (Snack)\", \"McFlurry with Oreo Cookies (Small)\", \"McFlurry with Oreo Cookies (Medium)\", \"McFlurry with Oreo Cookies (Snack)\", \"McFlurry with Reese's Peanut Butter Cups (Medium)\", \"McFlurry with Reese's Peanut Butter Cups (Snack)\"], \"type\": \"scatter\", \"x\": [\"Egg McMuffin\", \"Egg White Delight\", \"Sausage McMuffin\", \"Sausage McMuffin with Egg\", \"Sausage McMuffin with Egg Whites\", \"Steak & Egg McMuffin\", \"Bacon, Egg & Cheese Biscuit (Regular Biscuit)\", \"Bacon, Egg & Cheese Biscuit (Large Biscuit)\", \"Bacon, Egg & Cheese Biscuit with Egg Whites (Regular Biscuit)\", \"Bacon, Egg & Cheese Biscuit with Egg Whites (Large Biscuit)\", \"Sausage Biscuit (Regular Biscuit)\", \"Sausage Biscuit (Large Biscuit)\", \"Sausage Biscuit with Egg (Regular Biscuit)\", \"Sausage Biscuit with Egg (Large Biscuit)\", \"Sausage Biscuit with Egg Whites (Regular Biscuit)\", \"Sausage Biscuit with Egg Whites (Large Biscuit)\", \"Southern Style Chicken Biscuit (Regular Biscuit)\", \"Southern Style Chicken Biscuit (Large Biscuit)\", \"Steak & Egg Biscuit (Regular Biscuit)\", \"Bacon, Egg & Cheese McGriddles\", \"Bacon, Egg & Cheese McGriddles with Egg Whites\", \"Sausage McGriddles\", \"Sausage, Egg & Cheese McGriddles\", \"Sausage, Egg & Cheese McGriddles with Egg Whites\", \"Bacon, Egg & Cheese Bagel\", \"Bacon, Egg & Cheese Bagel with Egg Whites\", \"Steak, Egg & Cheese Bagel\", \"Big Breakfast (Regular Biscuit)\", \"Big Breakfast (Large Biscuit)\", \"Big Breakfast with Egg Whites (Regular Biscuit)\", \"Big Breakfast with Egg Whites (Large Biscuit)\", \"Big Breakfast with Hotcakes (Regular Biscuit)\", \"Big Breakfast with Hotcakes (Large Biscuit)\", \"Big Breakfast with Hotcakes and Egg Whites (Regular Biscuit)\", \"Big Breakfast with Hotcakes and Egg Whites (Large Biscuit)\", \"Hotcakes\", \"Hotcakes and Sausage\", \"Sausage Burrito\", \"Hash Brown\", \"Cinnamon Melts\", \"Fruit & Maple Oatmeal\", \"Fruit & Maple Oatmeal without Brown Sugar\", \"Big Mac\", \"Quarter Pounder with Cheese\", \"Quarter Pounder with Bacon & Cheese\", \"Quarter Pounder with Bacon Habanero Ranch\", \"Quarter Pounder Deluxe\", \"Double Quarter Pounder with Cheese\", \"Hamburger\", \"Cheeseburger\", \"Double Cheeseburger\", \"Bacon Clubhouse Burger\", \"McDouble\", \"Bacon McDouble\", \"Daily Double\", \"Jalape\\u00f1o Double\", \"McRib\", \"Premium Crispy Chicken Classic Sandwich\", \"Premium Grilled Chicken Classic Sandwich\", \"Premium Crispy Chicken Club Sandwich\", \"Premium Grilled Chicken Club Sandwich\", \"Premium Crispy Chicken Ranch BLT Sandwich\", \"Premium Grilled Chicken Ranch BLT Sandwich\", \"Bacon Clubhouse Crispy Chicken Sandwich\", \"Bacon Clubhouse Grilled Chicken Sandwich\", \"Southern Style Crispy Chicken Sandwich\", \"McChicken\", \"Bacon Cheddar McChicken\", \"Bacon Buffalo Ranch McChicken\", \"Buffalo Ranch McChicken\", \"Premium McWrap Chicken & Bacon (Crispy Chicken)\", \"Premium McWrap Chicken & Bacon (Grilled Chicken)\", \"Premium McWrap Chicken & Ranch (Crispy Chicken)\", \"Premium McWrap Chicken & Ranch (Grilled Chicken)\", \"Premium McWrap Southwest Chicken (Crispy Chicken)\", \"Premium McWrap Southwest Chicken (Grilled Chicken)\", \"Premium McWrap Chicken Sweet Chili (Crispy Chicken)\", \"Premium McWrap Chicken Sweet Chili (Grilled Chicken)\", \"Chicken McNuggets (4 piece)\", \"Chicken McNuggets (6 piece)\", \"Chicken McNuggets (10 piece)\", \"Chicken McNuggets (20 piece)\", \"Chicken McNuggets (40 piece)\", \"Filet-O-Fish\", \"Premium Bacon Ranch Salad (without Chicken)\", \"Premium Bacon Ranch Salad with Crispy Chicken\", \"Premium Bacon Ranch Salad with Grilled Chicken\", \"Premium Southwest Salad (without Chicken)\", \"Premium Southwest Salad with Crispy Chicken\", \"Premium Southwest Salad with Grilled Chicken\", \"Chipotle BBQ Snack Wrap (Crispy Chicken)\", \"Chipotle BBQ Snack Wrap (Grilled Chicken)\", \"Honey Mustard Snack Wrap (Crispy Chicken)\", \"Honey Mustard Snack Wrap (Grilled Chicken)\", \"Ranch Snack Wrap (Crispy Chicken)\", \"Ranch Snack Wrap (Grilled Chicken)\", \"Small French Fries\", \"Medium French Fries\", \"Large French Fries\", \"Kids French Fries\", \"Side Salad\", \"Apple Slices\", \"Fruit 'n Yogurt Parfait\", \"Baked Apple Pie\", \"Chocolate Chip Cookie\", \"Oatmeal Raisin Cookie\", \"Kids Ice Cream Cone\", \"Hot Fudge Sundae\", \"Hot Caramel Sundae\", \"Strawberry Sundae\", \"Coca-Cola Classic (Small)\", \"Coca-Cola Classic (Medium)\", \"Coca-Cola Classic (Large)\", \"Coca-Cola Classic (Child)\", \"Diet Coke (Small)\", \"Diet Coke (Medium)\", \"Diet Coke (Large)\", \"Diet Coke (Child)\", \"Dr Pepper (Small)\", \"Dr Pepper (Medium)\", \"Dr Pepper (Large)\", \"Dr Pepper (Child)\", \"Diet Dr Pepper (Small)\", \"Diet Dr Pepper (Medium)\", \"Diet Dr Pepper (Large)\", \"Diet Dr Pepper (Child)\", \"Sprite (Small)\", \"Sprite (Medium)\", \"Sprite (Large)\", \"Sprite (Child)\", \"1% Low Fat Milk Jug\", \"Fat Free Chocolate Milk Jug\", \"Minute Maid 100% Apple Juice Box\", \"Minute Maid Orange Juice (Small)\", \"Minute Maid Orange Juice (Medium)\", \"Minute Maid Orange Juice (Large)\", \"Dasani Water Bottle\", \"Iced Tea (Small)\", \"Iced Tea (Medium)\", \"Iced Tea (Large)\", \"Iced Tea (Child)\", \"Sweet Tea (Small)\", \"Sweet Tea (Medium)\", \"Sweet Tea (Large)\", \"Sweet Tea (Child)\", \"Coffee (Small)\", \"Coffee (Medium)\", \"Coffee (Large)\", \"Latte (Small)\", \"Latte (Medium)\", \"Latte (Large)\", \"Caramel Latte (Small)\", \"Caramel Latte (Medium)\", \"Caramel Latte (Large)\", \"Hazelnut Latte (Small)\", \"Hazelnut Latte (Medium)\", \"Hazelnut Latte (Large)\", \"French Vanilla Latte (Small)\", \"French Vanilla Latte (Medium)\", \"French Vanilla Latte (Large)\", \"Latte with Sugar Free French Vanilla Syrup (Small)\", \"Latte with Sugar Free French Vanilla Syrup (Medium)\", \"Latte with Sugar Free French Vanilla Syrup (Large)\", \"Nonfat Latte (Small)\", \"Nonfat Latte (Medium)\", \"Nonfat Latte (Large)\", \"Nonfat Caramel Latte (Small)\", \"Nonfat Caramel Latte (Medium)\", \"Nonfat Caramel Latte (Large)\", \"Nonfat Hazelnut Latte (Small)\", \"Nonfat Hazelnut Latte (Medium)\", \"Nonfat Hazelnut Latte (Large)\", \"Nonfat French Vanilla Latte (Small)\", \"Nonfat French Vanilla Latte (Medium)\", \"Nonfat French Vanilla Latte (Large)\", \"Nonfat Latte with Sugar Free French Vanilla Syrup (Small)\", \"Nonfat Latte with Sugar Free French Vanilla Syrup (Medium)\", \"Nonfat Latte with Sugar Free French Vanilla Syrup (Large)\", \"Mocha (Small)\", \"Mocha (Medium)\", \"Mocha (Large)\", \"Mocha with Nonfat Milk (Small)\", \"Mocha with Nonfat Milk (Medium)\", \"Mocha with Nonfat Milk (Large)\", \"Caramel Mocha (Small)\", \"Caramel Mocha (Medium)\", \"Caramel Mocha (Large)\", \"Nonfat Caramel Mocha (Small)\", \"Nonfat Caramel Mocha (Medium)\", \"Nonfat Caramel Mocha (Large)\", \"Hot Chocolate (Small)\", \"Hot Chocolate (Medium)\", \"Hot Chocolate (Large)\", \"Hot Chocolate with Nonfat Milk (Small)\", \"Hot Chocolate with Nonfat Milk (Medium)\", \"Hot Chocolate with Nonfat Milk (Large)\", \"Regular Iced Coffee (Small)\", \"Regular Iced Coffee (Medium)\", \"Regular Iced Coffee (Large)\", \"Caramel Iced Coffee (Small)\", \"Caramel Iced Coffee (Medium)\", \"Caramel Iced Coffee (Large)\", \"Hazelnut Iced Coffee (Small)\", \"Hazelnut Iced Coffee (Medium)\", \"Hazelnut Iced Coffee (Large)\", \"French Vanilla Iced Coffee (Small)\", \"French Vanilla Iced Coffee (Medium)\", \"French Vanilla Iced Coffee (Large)\", \"Iced Coffee with Sugar Free French Vanilla Syrup (Small)\", \"Iced Coffee with Sugar Free French Vanilla Syrup (Medium)\", \"Iced Coffee with Sugar Free French Vanilla Syrup (Large)\", \"Iced Mocha (Small)\", \"Iced Mocha (Medium)\", \"Iced Mocha (Large)\", \"Iced Mocha with Nonfat Milk (Small)\", \"Iced Mocha with Nonfat Milk (Medium)\", \"Iced Mocha with Nonfat Milk (Large)\", \"Iced Caramel Mocha (Small)\", \"Iced Caramel Mocha (Medium)\", \"Iced Caramel Mocha (Large)\", \"Iced Nonfat Caramel Mocha (Small)\", \"Iced Nonfat Caramel Mocha (Medium)\", \"Iced Nonfat Caramel Mocha (Large)\", \"Frapp\\u00e9 Mocha (Small)\", \"Frapp\\u00e9 Mocha (Medium)\", \"Frapp\\u00e9 Mocha (Large)\", \"Frapp\\u00e9 Caramel (Small)\", \"Frapp\\u00e9 Caramel (Medium)\", \"Frapp\\u00e9 Caramel (Large)\", \"Frapp\\u00e9 Chocolate Chip (Small)\", \"Frapp\\u00e9 Chocolate Chip (Medium)\", \"Frapp\\u00e9 Chocolate Chip (Large)\", \"Blueberry Pomegranate Smoothie (Small)\", \"Blueberry Pomegranate Smoothie (Medium)\", \"Blueberry Pomegranate Smoothie (Large)\", \"Strawberry Banana Smoothie (Small)\", \"Strawberry Banana Smoothie (Medium)\", \"Strawberry Banana Smoothie (Large)\", \"Mango Pineapple Smoothie (Small)\", \"Mango Pineapple Smoothie (Medium)\", \"Mango Pineapple Smoothie (Large)\", \"Vanilla Shake (Small)\", \"Vanilla Shake (Medium)\", \"Vanilla Shake (Large)\", \"Strawberry Shake (Small)\", \"Strawberry Shake (Medium)\", \"Strawberry Shake (Large)\", \"Chocolate Shake (Small)\", \"Chocolate Shake (Medium)\", \"Chocolate Shake (Large)\", \"Shamrock Shake (Medium)\", \"Shamrock Shake (Large)\", \"McFlurry with M&M\\u2019s Candies (Small)\", \"McFlurry with M&M\\u2019s Candies (Medium)\", \"McFlurry with M&M\\u2019s Candies (Snack)\", \"McFlurry with Oreo Cookies (Small)\", \"McFlurry with Oreo Cookies (Medium)\", \"McFlurry with Oreo Cookies (Snack)\", \"McFlurry with Reese's Peanut Butter Cups (Medium)\", \"McFlurry with Reese's Peanut Butter Cups (Snack)\"], \"y\": [25, 15, 42, 52, 42, 46, 65, 68, 56, 59, 62, 65, 71, 74, 62, 65, 41, 45, 78, 44, 34, 40, 61, 52, 56, 45, 63, 87, 90, 69, 72, 96, 100, 78, 81, 9, 36, 33, 6, 43, 8, 8, 48, 61, 63, 64, 54, 96, 15, 27, 52, 75, 40, 49, 44, 44, 48, 18, 9, 44, 36, 31, 22, 51, 42, 15, 15, 35, 25, 16, 45, 36, 40, 31, 40, 32, 23, 14, 10, 15, 25, 50, 101, 19, 18, 29, 20, 9, 22, 13, 22, 18, 22, 18, 27, 22, 8, 11, 17, 4, 0, 0, 5, 35, 19, 13, 4, 34, 24, 20, 0, 0, 0, 0, 0, 0, 0, 0, 0, 0, 0, 0, 0, 0, 0, 0, 0, 0, 0, 0, 8, 0, 0, 0, 0, 0, 0, 0, 0, 0, 0, 0, 0, 0, 0, 0, 0, 0, 24, 30, 39, 24, 30, 39, 24, 30, 39, 24, 30, 39, 24, 30, 39, 0, 0, 0, 0, 0, 0, 0, 0, 0, 0, 0, 0, 0, 0, 0, 34, 40, 49, 11, 11, 12, 33, 40, 49, 10, 11, 11, 39, 47, 58, 11, 11, 12, 15, 22, 29, 15, 22, 29, 15, 22, 29, 15, 22, 29, 15, 22, 29, 33, 38, 49, 16, 17, 18, 33, 37, 48, 16, 16, 17, 59, 71, 85, 60, 73, 87, 72, 85, 101, 0, 0, 3, 0, 0, 3, 0, 0, 3, 49, 61, 73, 52, 63, 75, 51, 62, 74, 61, 73, 72, 102, 48, 44, 58, 29, 76, 38]}],\n",
       "                        {\"autosize\": true, \"hovermode\": \"closest\", \"showlegend\": false, \"template\": {\"data\": {\"bar\": [{\"error_x\": {\"color\": \"#2a3f5f\"}, \"error_y\": {\"color\": \"#2a3f5f\"}, \"marker\": {\"line\": {\"color\": \"#E5ECF6\", \"width\": 0.5}}, \"type\": \"bar\"}], \"barpolar\": [{\"marker\": {\"line\": {\"color\": \"#E5ECF6\", \"width\": 0.5}}, \"type\": \"barpolar\"}], \"carpet\": [{\"aaxis\": {\"endlinecolor\": \"#2a3f5f\", \"gridcolor\": \"white\", \"linecolor\": \"white\", \"minorgridcolor\": \"white\", \"startlinecolor\": \"#2a3f5f\"}, \"baxis\": {\"endlinecolor\": \"#2a3f5f\", \"gridcolor\": \"white\", \"linecolor\": \"white\", \"minorgridcolor\": \"white\", \"startlinecolor\": \"#2a3f5f\"}, \"type\": \"carpet\"}], \"choropleth\": [{\"colorbar\": {\"outlinewidth\": 0, \"ticks\": \"\"}, \"type\": \"choropleth\"}], \"contour\": [{\"colorbar\": {\"outlinewidth\": 0, \"ticks\": \"\"}, \"colorscale\": [[0.0, \"#0d0887\"], [0.1111111111111111, \"#46039f\"], [0.2222222222222222, \"#7201a8\"], [0.3333333333333333, \"#9c179e\"], [0.4444444444444444, \"#bd3786\"], [0.5555555555555556, \"#d8576b\"], [0.6666666666666666, \"#ed7953\"], [0.7777777777777778, \"#fb9f3a\"], [0.8888888888888888, \"#fdca26\"], [1.0, \"#f0f921\"]], \"type\": \"contour\"}], \"contourcarpet\": [{\"colorbar\": {\"outlinewidth\": 0, \"ticks\": \"\"}, \"type\": \"contourcarpet\"}], \"heatmap\": [{\"colorbar\": {\"outlinewidth\": 0, \"ticks\": \"\"}, \"colorscale\": [[0.0, \"#0d0887\"], [0.1111111111111111, \"#46039f\"], [0.2222222222222222, \"#7201a8\"], [0.3333333333333333, \"#9c179e\"], [0.4444444444444444, \"#bd3786\"], [0.5555555555555556, \"#d8576b\"], [0.6666666666666666, \"#ed7953\"], [0.7777777777777778, \"#fb9f3a\"], [0.8888888888888888, \"#fdca26\"], [1.0, \"#f0f921\"]], \"type\": \"heatmap\"}], \"heatmapgl\": [{\"colorbar\": {\"outlinewidth\": 0, \"ticks\": \"\"}, \"colorscale\": [[0.0, \"#0d0887\"], [0.1111111111111111, \"#46039f\"], [0.2222222222222222, \"#7201a8\"], [0.3333333333333333, \"#9c179e\"], [0.4444444444444444, \"#bd3786\"], [0.5555555555555556, \"#d8576b\"], [0.6666666666666666, \"#ed7953\"], [0.7777777777777778, \"#fb9f3a\"], [0.8888888888888888, \"#fdca26\"], [1.0, \"#f0f921\"]], \"type\": \"heatmapgl\"}], \"histogram\": [{\"marker\": {\"colorbar\": {\"outlinewidth\": 0, \"ticks\": \"\"}}, \"type\": \"histogram\"}], \"histogram2d\": [{\"colorbar\": {\"outlinewidth\": 0, \"ticks\": \"\"}, \"colorscale\": [[0.0, \"#0d0887\"], [0.1111111111111111, \"#46039f\"], [0.2222222222222222, \"#7201a8\"], [0.3333333333333333, \"#9c179e\"], [0.4444444444444444, \"#bd3786\"], [0.5555555555555556, \"#d8576b\"], [0.6666666666666666, \"#ed7953\"], [0.7777777777777778, \"#fb9f3a\"], [0.8888888888888888, \"#fdca26\"], [1.0, \"#f0f921\"]], \"type\": \"histogram2d\"}], \"histogram2dcontour\": [{\"colorbar\": {\"outlinewidth\": 0, \"ticks\": \"\"}, \"colorscale\": [[0.0, \"#0d0887\"], [0.1111111111111111, \"#46039f\"], [0.2222222222222222, \"#7201a8\"], [0.3333333333333333, \"#9c179e\"], [0.4444444444444444, \"#bd3786\"], [0.5555555555555556, \"#d8576b\"], [0.6666666666666666, \"#ed7953\"], [0.7777777777777778, \"#fb9f3a\"], [0.8888888888888888, \"#fdca26\"], [1.0, \"#f0f921\"]], \"type\": \"histogram2dcontour\"}], \"mesh3d\": [{\"colorbar\": {\"outlinewidth\": 0, \"ticks\": \"\"}, \"type\": \"mesh3d\"}], \"parcoords\": [{\"line\": {\"colorbar\": {\"outlinewidth\": 0, \"ticks\": \"\"}}, \"type\": \"parcoords\"}], \"pie\": [{\"automargin\": true, \"type\": \"pie\"}], \"scatter\": [{\"marker\": {\"colorbar\": {\"outlinewidth\": 0, \"ticks\": \"\"}}, \"type\": \"scatter\"}], \"scatter3d\": [{\"line\": {\"colorbar\": {\"outlinewidth\": 0, \"ticks\": \"\"}}, \"marker\": {\"colorbar\": {\"outlinewidth\": 0, \"ticks\": \"\"}}, \"type\": \"scatter3d\"}], \"scattercarpet\": [{\"marker\": {\"colorbar\": {\"outlinewidth\": 0, \"ticks\": \"\"}}, \"type\": \"scattercarpet\"}], \"scattergeo\": [{\"marker\": {\"colorbar\": {\"outlinewidth\": 0, \"ticks\": \"\"}}, \"type\": \"scattergeo\"}], \"scattergl\": [{\"marker\": {\"colorbar\": {\"outlinewidth\": 0, \"ticks\": \"\"}}, \"type\": \"scattergl\"}], \"scattermapbox\": [{\"marker\": {\"colorbar\": {\"outlinewidth\": 0, \"ticks\": \"\"}}, \"type\": \"scattermapbox\"}], \"scatterpolar\": [{\"marker\": {\"colorbar\": {\"outlinewidth\": 0, \"ticks\": \"\"}}, \"type\": \"scatterpolar\"}], \"scatterpolargl\": [{\"marker\": {\"colorbar\": {\"outlinewidth\": 0, \"ticks\": \"\"}}, \"type\": \"scatterpolargl\"}], \"scatterternary\": [{\"marker\": {\"colorbar\": {\"outlinewidth\": 0, \"ticks\": \"\"}}, \"type\": \"scatterternary\"}], \"surface\": [{\"colorbar\": {\"outlinewidth\": 0, \"ticks\": \"\"}, \"colorscale\": [[0.0, \"#0d0887\"], [0.1111111111111111, \"#46039f\"], [0.2222222222222222, \"#7201a8\"], [0.3333333333333333, \"#9c179e\"], [0.4444444444444444, \"#bd3786\"], [0.5555555555555556, \"#d8576b\"], [0.6666666666666666, \"#ed7953\"], [0.7777777777777778, \"#fb9f3a\"], [0.8888888888888888, \"#fdca26\"], [1.0, \"#f0f921\"]], \"type\": \"surface\"}], \"table\": [{\"cells\": {\"fill\": {\"color\": \"#EBF0F8\"}, \"line\": {\"color\": \"white\"}}, \"header\": {\"fill\": {\"color\": \"#C8D4E3\"}, \"line\": {\"color\": \"white\"}}, \"type\": \"table\"}]}, \"layout\": {\"annotationdefaults\": {\"arrowcolor\": \"#2a3f5f\", \"arrowhead\": 0, \"arrowwidth\": 1}, \"coloraxis\": {\"colorbar\": {\"outlinewidth\": 0, \"ticks\": \"\"}}, \"colorscale\": {\"diverging\": [[0, \"#8e0152\"], [0.1, \"#c51b7d\"], [0.2, \"#de77ae\"], [0.3, \"#f1b6da\"], [0.4, \"#fde0ef\"], [0.5, \"#f7f7f7\"], [0.6, \"#e6f5d0\"], [0.7, \"#b8e186\"], [0.8, \"#7fbc41\"], [0.9, \"#4d9221\"], [1, \"#276419\"]], \"sequential\": [[0.0, \"#0d0887\"], [0.1111111111111111, \"#46039f\"], [0.2222222222222222, \"#7201a8\"], [0.3333333333333333, \"#9c179e\"], [0.4444444444444444, \"#bd3786\"], [0.5555555555555556, \"#d8576b\"], [0.6666666666666666, \"#ed7953\"], [0.7777777777777778, \"#fb9f3a\"], [0.8888888888888888, \"#fdca26\"], [1.0, \"#f0f921\"]], \"sequentialminus\": [[0.0, \"#0d0887\"], [0.1111111111111111, \"#46039f\"], [0.2222222222222222, \"#7201a8\"], [0.3333333333333333, \"#9c179e\"], [0.4444444444444444, \"#bd3786\"], [0.5555555555555556, \"#d8576b\"], [0.6666666666666666, \"#ed7953\"], [0.7777777777777778, \"#fb9f3a\"], [0.8888888888888888, \"#fdca26\"], [1.0, \"#f0f921\"]]}, \"colorway\": [\"#636efa\", \"#EF553B\", \"#00cc96\", \"#ab63fa\", \"#FFA15A\", \"#19d3f3\", \"#FF6692\", \"#B6E880\", \"#FF97FF\", \"#FECB52\"], \"font\": {\"color\": \"#2a3f5f\"}, \"geo\": {\"bgcolor\": \"white\", \"lakecolor\": \"white\", \"landcolor\": \"#E5ECF6\", \"showlakes\": true, \"showland\": true, \"subunitcolor\": \"white\"}, \"hoverlabel\": {\"align\": \"left\"}, \"hovermode\": \"closest\", \"mapbox\": {\"style\": \"light\"}, \"paper_bgcolor\": \"white\", \"plot_bgcolor\": \"#E5ECF6\", \"polar\": {\"angularaxis\": {\"gridcolor\": \"white\", \"linecolor\": \"white\", \"ticks\": \"\"}, \"bgcolor\": \"#E5ECF6\", \"radialaxis\": {\"gridcolor\": \"white\", \"linecolor\": \"white\", \"ticks\": \"\"}}, \"scene\": {\"xaxis\": {\"backgroundcolor\": \"#E5ECF6\", \"gridcolor\": \"white\", \"gridwidth\": 2, \"linecolor\": \"white\", \"showbackground\": true, \"ticks\": \"\", \"zerolinecolor\": \"white\"}, \"yaxis\": {\"backgroundcolor\": \"#E5ECF6\", \"gridcolor\": \"white\", \"gridwidth\": 2, \"linecolor\": \"white\", \"showbackground\": true, \"ticks\": \"\", \"zerolinecolor\": \"white\"}, \"zaxis\": {\"backgroundcolor\": \"#E5ECF6\", \"gridcolor\": \"white\", \"gridwidth\": 2, \"linecolor\": \"white\", \"showbackground\": true, \"ticks\": \"\", \"zerolinecolor\": \"white\"}}, \"shapedefaults\": {\"line\": {\"color\": \"#2a3f5f\"}}, \"ternary\": {\"aaxis\": {\"gridcolor\": \"white\", \"linecolor\": \"white\", \"ticks\": \"\"}, \"baxis\": {\"gridcolor\": \"white\", \"linecolor\": \"white\", \"ticks\": \"\"}, \"bgcolor\": \"#E5ECF6\", \"caxis\": {\"gridcolor\": \"white\", \"linecolor\": \"white\", \"ticks\": \"\"}}, \"title\": {\"x\": 0.05}, \"xaxis\": {\"automargin\": true, \"gridcolor\": \"white\", \"linecolor\": \"white\", \"ticks\": \"\", \"title\": {\"standoff\": 15}, \"zerolinecolor\": \"white\", \"zerolinewidth\": 2}, \"yaxis\": {\"automargin\": true, \"gridcolor\": \"white\", \"linecolor\": \"white\", \"ticks\": \"\", \"title\": {\"standoff\": 15}, \"zerolinecolor\": \"white\", \"zerolinewidth\": 2}}}, \"title\": {\"text\": \"Scatter plot of Saturated Fat (% Daily Value) per Item on the Menu\"}, \"xaxis\": {\"showgrid\": false, \"showline\": false, \"zeroline\": false}, \"yaxis\": {\"gridwidth\": 2, \"showgrid\": false, \"showline\": false, \"ticklen\": 5, \"title\": {\"text\": \"Saturated Fat (% Daily Value)\"}, \"zeroline\": false}},\n",
       "                        {\"responsive\": true}\n",
       "                    ).then(function(){\n",
       "                            \n",
       "var gd = document.getElementById('2758ad2a-a325-476e-81ed-8bd545ac9b1a');\n",
       "var x = new MutationObserver(function (mutations, observer) {{\n",
       "        var display = window.getComputedStyle(gd).display;\n",
       "        if (!display || display === 'none') {{\n",
       "            console.log([gd, 'removed!']);\n",
       "            Plotly.purge(gd);\n",
       "            observer.disconnect();\n",
       "        }}\n",
       "}});\n",
       "\n",
       "// Listen for the removal of the full notebook cells\n",
       "var notebookContainer = gd.closest('#notebook-container');\n",
       "if (notebookContainer) {{\n",
       "    x.observe(notebookContainer, {childList: true});\n",
       "}}\n",
       "\n",
       "// Listen for the clearing of the current output cell\n",
       "var outputEl = gd.closest('.output');\n",
       "if (outputEl) {{\n",
       "    x.observe(outputEl, {childList: true});\n",
       "}}\n",
       "\n",
       "                        })\n",
       "                };\n",
       "                });\n",
       "            </script>\n",
       "        </div>"
      ]
     },
     "metadata": {},
     "output_type": "display_data"
    }
   ],
   "source": [
    "trace = go.Scatter(\n",
    "    y = data['Saturated Fat (% Daily Value)'].values,\n",
    "    x = data['Item'].values,\n",
    "    mode='markers',\n",
    "    marker=dict(\n",
    "        size= data['Saturated Fat (% Daily Value)'].values,\n",
    "        #color = np.random.randn(500), #set color equal to a variable\n",
    "        color = data['Saturated Fat (% Daily Value)'].values,\n",
    "        colorscale='Portland',\n",
    "        showscale=True\n",
    "    ),\n",
    "    text = data['Item'].values\n",
    ")\n",
    "data_val = [trace]\n",
    "\n",
    "layout= go.Layout(\n",
    "    autosize= True,\n",
    "    title= 'Scatter plot of Saturated Fat (% Daily Value) per Item on the Menu',\n",
    "    hovermode= 'closest',\n",
    "        xaxis=dict(\n",
    "        showgrid=False,\n",
    "        zeroline=False,\n",
    "        showline=False\n",
    "    ),\n",
    "    yaxis=dict(\n",
    "        title= 'Saturated Fat (% Daily Value)',\n",
    "        ticklen= 5,\n",
    "        gridwidth= 2,\n",
    "        showgrid=False,\n",
    "        zeroline=False,\n",
    "        showline=False,\n",
    "    ),\n",
    "    showlegend= False\n",
    ")\n",
    "fig = go.Figure(data=data_val, layout=layout)\n",
    "py.iplot(fig,filename='scatterChol')"
   ]
  },
  {
   "cell_type": "markdown",
   "metadata": {},
   "source": [
    "Takeaway from the plots\n",
    "\n",
    "Whoa! These scatter plots now show a much larger distribution of red plots. This shows that there are quite a handful of MacDonald's food items which contain a dangerous amount of Saturated Fat, where one single food item can contain an amount close to the one's recommended daily allowance. For example the McFlurry with M&M candies or even the Frappe with Chocolate Chips.\n",
    "\n",
    "Greatest amount of Saturate Fats: McFlurry with M&M candies, Chicken McNuggets (40 piece), Frappe Chocolate Chip, Big Breakfast with Hotcakes etc\n"
   ]
  },
  {
   "cell_type": "code",
   "execution_count": null,
   "metadata": {},
   "outputs": [],
   "source": []
  },
  {
   "cell_type": "markdown",
   "metadata": {},
   "source": [
    "### 3D Scatter plots of Total Fat and Carbohydrate levels"
   ]
  },
  {
   "cell_type": "markdown",
   "metadata": {},
   "source": [
    "Let us play around with Plotly's capabilities and mix up our scatter plots a bit. Before we were plotting 2D scatter plots showing the distribution of various nutritional contents against the various food items. Let us now add in a 3rd dimension to the mix (3D Scatter plots) and observe what the distribution might look like by adding in the Category and plotting the scatter plots for carbohydrates and Total Fat content."
   ]
  },
  {
   "cell_type": "code",
   "execution_count": 60,
   "metadata": {},
   "outputs": [
    {
     "data": {
      "application/vnd.plotly.v1+json": {
       "config": {
        "linkText": "Export to plot.ly",
        "plotlyServerURL": "https://plot.ly",
        "showLink": false
       },
       "data": [
        {
         "marker": {
          "color": [
           20,
           12,
           35,
           43,
           35,
           36,
           40,
           47,
           32,
           38,
           42,
           48,
           50,
           57,
           42,
           49,
           31,
           37,
           49,
           32,
           24,
           34,
           48,
           40,
           48,
           39,
           53,
           73,
           80,
           57,
           63,
           87,
           93,
           70,
           77,
           13,
           37,
           25,
           14,
           30,
           6,
           6,
           42,
           41,
           45,
           48,
           42,
           66,
           12,
           18,
           32,
           62,
           26,
           34,
           35,
           36,
           40,
           33,
           13,
           51,
           31,
           43,
           23,
           59,
           39,
           29,
           25,
           38,
           32,
           25,
           49,
           28,
           47,
           27,
           51,
           31,
           35,
           15,
           18,
           27,
           45,
           91,
           182,
           29,
           11,
           33,
           13,
           7,
           33,
           13,
           23,
           13,
           23,
           13,
           30,
           20,
           17,
           24,
           37,
           8,
           0,
           0,
           3,
           19,
           12,
           9,
           2,
           14,
           12,
           10,
           0,
           0,
           0,
           0,
           0,
           0,
           0,
           0,
           0,
           0,
           0,
           0,
           0,
           0,
           0,
           0,
           0,
           0,
           0,
           0,
           4,
           0,
           0,
           0,
           0,
           0,
           0,
           0,
           0,
           0,
           0,
           0,
           0,
           0,
           0,
           0,
           0,
           0,
           13,
           16,
           21,
           13,
           16,
           21,
           13,
           16,
           21,
           13,
           16,
           21,
           13,
           16,
           21,
           0,
           0,
           1,
           0,
           0,
           1,
           0,
           0,
           1,
           0,
           0,
           1,
           0,
           0,
           1,
           18,
           21,
           26,
           5,
           6,
           6,
           17,
           21,
           26,
           5,
           5,
           6,
           21,
           25,
           31,
           5,
           5,
           6,
           7,
           11,
           14,
           7,
           11,
           14,
           7,
           11,
           14,
           7,
           11,
           14,
           7,
           11,
           14,
           17,
           19,
           25,
           8,
           8,
           9,
           17,
           19,
           25,
           8,
           8,
           8,
           28,
           34,
           41,
           29,
           35,
           42,
           35,
           41,
           48,
           1,
           1,
           2,
           1,
           1,
           2,
           1,
           1,
           2,
           24,
           29,
           35,
           25,
           30,
           36,
           25,
           30,
           36,
           29,
           35,
           35,
           50,
           24,
           26,
           35,
           17,
           50,
           25
          ],
          "colorbar": {
           "title": {
            "text": "Total Fat (% Daily Value)"
           }
          },
          "colorscale": [
           [
            0,
            "rgb(12,51,131)"
           ],
           [
            0.25,
            "rgb(10,136,186)"
           ],
           [
            0.5,
            "rgb(242,211,56)"
           ],
           [
            0.75,
            "rgb(242,143,56)"
           ],
           [
            1,
            "rgb(217,30,30)"
           ]
          ],
          "line": {
           "color": "rgb(255, 255, 255)"
          },
          "sizemode": "diameter"
         },
         "mode": "markers",
         "text": [
          "Egg McMuffin",
          "Egg White Delight",
          "Sausage McMuffin",
          "Sausage McMuffin with Egg",
          "Sausage McMuffin with Egg Whites",
          "Steak & Egg McMuffin",
          "Bacon, Egg & Cheese Biscuit (Regular Biscuit)",
          "Bacon, Egg & Cheese Biscuit (Large Biscuit)",
          "Bacon, Egg & Cheese Biscuit with Egg Whites (Regular Biscuit)",
          "Bacon, Egg & Cheese Biscuit with Egg Whites (Large Biscuit)",
          "Sausage Biscuit (Regular Biscuit)",
          "Sausage Biscuit (Large Biscuit)",
          "Sausage Biscuit with Egg (Regular Biscuit)",
          "Sausage Biscuit with Egg (Large Biscuit)",
          "Sausage Biscuit with Egg Whites (Regular Biscuit)",
          "Sausage Biscuit with Egg Whites (Large Biscuit)",
          "Southern Style Chicken Biscuit (Regular Biscuit)",
          "Southern Style Chicken Biscuit (Large Biscuit)",
          "Steak & Egg Biscuit (Regular Biscuit)",
          "Bacon, Egg & Cheese McGriddles",
          "Bacon, Egg & Cheese McGriddles with Egg Whites",
          "Sausage McGriddles",
          "Sausage, Egg & Cheese McGriddles",
          "Sausage, Egg & Cheese McGriddles with Egg Whites",
          "Bacon, Egg & Cheese Bagel",
          "Bacon, Egg & Cheese Bagel with Egg Whites",
          "Steak, Egg & Cheese Bagel",
          "Big Breakfast (Regular Biscuit)",
          "Big Breakfast (Large Biscuit)",
          "Big Breakfast with Egg Whites (Regular Biscuit)",
          "Big Breakfast with Egg Whites (Large Biscuit)",
          "Big Breakfast with Hotcakes (Regular Biscuit)",
          "Big Breakfast with Hotcakes (Large Biscuit)",
          "Big Breakfast with Hotcakes and Egg Whites (Regular Biscuit)",
          "Big Breakfast with Hotcakes and Egg Whites (Large Biscuit)",
          "Hotcakes",
          "Hotcakes and Sausage",
          "Sausage Burrito",
          "Hash Brown",
          "Cinnamon Melts",
          "Fruit & Maple Oatmeal",
          "Fruit & Maple Oatmeal without Brown Sugar",
          "Big Mac",
          "Quarter Pounder with Cheese",
          "Quarter Pounder with Bacon & Cheese",
          "Quarter Pounder with Bacon Habanero Ranch",
          "Quarter Pounder Deluxe",
          "Double Quarter Pounder with Cheese",
          "Hamburger",
          "Cheeseburger",
          "Double Cheeseburger",
          "Bacon Clubhouse Burger",
          "McDouble",
          "Bacon McDouble",
          "Daily Double",
          "Jalapeño Double",
          "McRib",
          "Premium Crispy Chicken Classic Sandwich",
          "Premium Grilled Chicken Classic Sandwich",
          "Premium Crispy Chicken Club Sandwich",
          "Premium Grilled Chicken Club Sandwich",
          "Premium Crispy Chicken Ranch BLT Sandwich",
          "Premium Grilled Chicken Ranch BLT Sandwich",
          "Bacon Clubhouse Crispy Chicken Sandwich",
          "Bacon Clubhouse Grilled Chicken Sandwich",
          "Southern Style Crispy Chicken Sandwich",
          "McChicken",
          "Bacon Cheddar McChicken",
          "Bacon Buffalo Ranch McChicken",
          "Buffalo Ranch McChicken",
          "Premium McWrap Chicken & Bacon (Crispy Chicken)",
          "Premium McWrap Chicken & Bacon (Grilled Chicken)",
          "Premium McWrap Chicken & Ranch (Crispy Chicken)",
          "Premium McWrap Chicken & Ranch (Grilled Chicken)",
          "Premium McWrap Southwest Chicken (Crispy Chicken)",
          "Premium McWrap Southwest Chicken (Grilled Chicken)",
          "Premium McWrap Chicken Sweet Chili (Crispy Chicken)",
          "Premium McWrap Chicken Sweet Chili (Grilled Chicken)",
          "Chicken McNuggets (4 piece)",
          "Chicken McNuggets (6 piece)",
          "Chicken McNuggets (10 piece)",
          "Chicken McNuggets (20 piece)",
          "Chicken McNuggets (40 piece)",
          "Filet-O-Fish",
          "Premium Bacon Ranch Salad (without Chicken)",
          "Premium Bacon Ranch Salad with Crispy Chicken",
          "Premium Bacon Ranch Salad with Grilled Chicken",
          "Premium Southwest Salad (without Chicken)",
          "Premium Southwest Salad with Crispy Chicken",
          "Premium Southwest Salad with Grilled Chicken",
          "Chipotle BBQ Snack Wrap (Crispy Chicken)",
          "Chipotle BBQ Snack Wrap (Grilled Chicken)",
          "Honey Mustard Snack Wrap (Crispy Chicken)",
          "Honey Mustard Snack Wrap (Grilled Chicken)",
          "Ranch Snack Wrap (Crispy Chicken)",
          "Ranch Snack Wrap (Grilled Chicken)",
          "Small French Fries",
          "Medium French Fries",
          "Large French Fries",
          "Kids French Fries",
          "Side Salad",
          "Apple Slices",
          "Fruit 'n Yogurt Parfait",
          "Baked Apple Pie",
          "Chocolate Chip Cookie",
          "Oatmeal Raisin Cookie",
          "Kids Ice Cream Cone",
          "Hot Fudge Sundae",
          "Hot Caramel Sundae",
          "Strawberry Sundae",
          "Coca-Cola Classic (Small)",
          "Coca-Cola Classic (Medium)",
          "Coca-Cola Classic (Large)",
          "Coca-Cola Classic (Child)",
          "Diet Coke (Small)",
          "Diet Coke (Medium)",
          "Diet Coke (Large)",
          "Diet Coke (Child)",
          "Dr Pepper (Small)",
          "Dr Pepper (Medium)",
          "Dr Pepper (Large)",
          "Dr Pepper (Child)",
          "Diet Dr Pepper (Small)",
          "Diet Dr Pepper (Medium)",
          "Diet Dr Pepper (Large)",
          "Diet Dr Pepper (Child)",
          "Sprite (Small)",
          "Sprite (Medium)",
          "Sprite (Large)",
          "Sprite (Child)",
          "1% Low Fat Milk Jug",
          "Fat Free Chocolate Milk Jug",
          "Minute Maid 100% Apple Juice Box",
          "Minute Maid Orange Juice (Small)",
          "Minute Maid Orange Juice (Medium)",
          "Minute Maid Orange Juice (Large)",
          "Dasani Water Bottle",
          "Iced Tea (Small)",
          "Iced Tea (Medium)",
          "Iced Tea (Large)",
          "Iced Tea (Child)",
          "Sweet Tea (Small)",
          "Sweet Tea (Medium)",
          "Sweet Tea (Large)",
          "Sweet Tea (Child)",
          "Coffee (Small)",
          "Coffee (Medium)",
          "Coffee (Large)",
          "Latte (Small)",
          "Latte (Medium)",
          "Latte (Large)",
          "Caramel Latte (Small)",
          "Caramel Latte (Medium)",
          "Caramel Latte (Large)",
          "Hazelnut Latte (Small)",
          "Hazelnut Latte (Medium)",
          "Hazelnut Latte (Large)",
          "French Vanilla Latte (Small)",
          "French Vanilla Latte (Medium)",
          "French Vanilla Latte (Large)",
          "Latte with Sugar Free French Vanilla Syrup (Small)",
          "Latte with Sugar Free French Vanilla Syrup (Medium)",
          "Latte with Sugar Free French Vanilla Syrup (Large)",
          "Nonfat Latte (Small)",
          "Nonfat Latte (Medium)",
          "Nonfat Latte (Large)",
          "Nonfat Caramel Latte (Small)",
          "Nonfat Caramel Latte (Medium)",
          "Nonfat Caramel Latte (Large)",
          "Nonfat Hazelnut Latte (Small)",
          "Nonfat Hazelnut Latte (Medium)",
          "Nonfat Hazelnut Latte (Large)",
          "Nonfat French Vanilla Latte (Small)",
          "Nonfat French Vanilla Latte (Medium)",
          "Nonfat French Vanilla Latte (Large)",
          "Nonfat Latte with Sugar Free French Vanilla Syrup (Small)",
          "Nonfat Latte with Sugar Free French Vanilla Syrup (Medium)",
          "Nonfat Latte with Sugar Free French Vanilla Syrup (Large)",
          "Mocha (Small)",
          "Mocha (Medium)",
          "Mocha (Large)",
          "Mocha with Nonfat Milk (Small)",
          "Mocha with Nonfat Milk (Medium)",
          "Mocha with Nonfat Milk (Large)",
          "Caramel Mocha (Small)",
          "Caramel Mocha (Medium)",
          "Caramel Mocha (Large)",
          "Nonfat Caramel Mocha (Small)",
          "Nonfat Caramel Mocha (Medium)",
          "Nonfat Caramel Mocha (Large)",
          "Hot Chocolate (Small)",
          "Hot Chocolate (Medium)",
          "Hot Chocolate (Large)",
          "Hot Chocolate with Nonfat Milk (Small)",
          "Hot Chocolate with Nonfat Milk (Medium)",
          "Hot Chocolate with Nonfat Milk (Large)",
          "Regular Iced Coffee (Small)",
          "Regular Iced Coffee (Medium)",
          "Regular Iced Coffee (Large)",
          "Caramel Iced Coffee (Small)",
          "Caramel Iced Coffee (Medium)",
          "Caramel Iced Coffee (Large)",
          "Hazelnut Iced Coffee (Small)",
          "Hazelnut Iced Coffee (Medium)",
          "Hazelnut Iced Coffee (Large)",
          "French Vanilla Iced Coffee (Small)",
          "French Vanilla Iced Coffee (Medium)",
          "French Vanilla Iced Coffee (Large)",
          "Iced Coffee with Sugar Free French Vanilla Syrup (Small)",
          "Iced Coffee with Sugar Free French Vanilla Syrup (Medium)",
          "Iced Coffee with Sugar Free French Vanilla Syrup (Large)",
          "Iced Mocha (Small)",
          "Iced Mocha (Medium)",
          "Iced Mocha (Large)",
          "Iced Mocha with Nonfat Milk (Small)",
          "Iced Mocha with Nonfat Milk (Medium)",
          "Iced Mocha with Nonfat Milk (Large)",
          "Iced Caramel Mocha (Small)",
          "Iced Caramel Mocha (Medium)",
          "Iced Caramel Mocha (Large)",
          "Iced Nonfat Caramel Mocha (Small)",
          "Iced Nonfat Caramel Mocha (Medium)",
          "Iced Nonfat Caramel Mocha (Large)",
          "Frappé Mocha (Small)",
          "Frappé Mocha (Medium)",
          "Frappé Mocha (Large)",
          "Frappé Caramel (Small)",
          "Frappé Caramel (Medium)",
          "Frappé Caramel (Large)",
          "Frappé Chocolate Chip (Small)",
          "Frappé Chocolate Chip (Medium)",
          "Frappé Chocolate Chip (Large)",
          "Blueberry Pomegranate Smoothie (Small)",
          "Blueberry Pomegranate Smoothie (Medium)",
          "Blueberry Pomegranate Smoothie (Large)",
          "Strawberry Banana Smoothie (Small)",
          "Strawberry Banana Smoothie (Medium)",
          "Strawberry Banana Smoothie (Large)",
          "Mango Pineapple Smoothie (Small)",
          "Mango Pineapple Smoothie (Medium)",
          "Mango Pineapple Smoothie (Large)",
          "Vanilla Shake (Small)",
          "Vanilla Shake (Medium)",
          "Vanilla Shake (Large)",
          "Strawberry Shake (Small)",
          "Strawberry Shake (Medium)",
          "Strawberry Shake (Large)",
          "Chocolate Shake (Small)",
          "Chocolate Shake (Medium)",
          "Chocolate Shake (Large)",
          "Shamrock Shake (Medium)",
          "Shamrock Shake (Large)",
          "McFlurry with M&M’s Candies (Small)",
          "McFlurry with M&M’s Candies (Medium)",
          "McFlurry with M&M’s Candies (Snack)",
          "McFlurry with Oreo Cookies (Small)",
          "McFlurry with Oreo Cookies (Medium)",
          "McFlurry with Oreo Cookies (Snack)",
          "McFlurry with Reese's Peanut Butter Cups (Medium)",
          "McFlurry with Reese's Peanut Butter Cups (Snack)"
         ],
         "type": "scatter3d",
         "x": [
          "Breakfast",
          "Breakfast",
          "Breakfast",
          "Breakfast",
          "Breakfast",
          "Breakfast",
          "Breakfast",
          "Breakfast",
          "Breakfast",
          "Breakfast",
          "Breakfast",
          "Breakfast",
          "Breakfast",
          "Breakfast",
          "Breakfast",
          "Breakfast",
          "Breakfast",
          "Breakfast",
          "Breakfast",
          "Breakfast",
          "Breakfast",
          "Breakfast",
          "Breakfast",
          "Breakfast",
          "Breakfast",
          "Breakfast",
          "Breakfast",
          "Breakfast",
          "Breakfast",
          "Breakfast",
          "Breakfast",
          "Breakfast",
          "Breakfast",
          "Breakfast",
          "Breakfast",
          "Breakfast",
          "Breakfast",
          "Breakfast",
          "Breakfast",
          "Breakfast",
          "Breakfast",
          "Breakfast",
          "Beef & Pork",
          "Beef & Pork",
          "Beef & Pork",
          "Beef & Pork",
          "Beef & Pork",
          "Beef & Pork",
          "Beef & Pork",
          "Beef & Pork",
          "Beef & Pork",
          "Beef & Pork",
          "Beef & Pork",
          "Beef & Pork",
          "Beef & Pork",
          "Beef & Pork",
          "Beef & Pork",
          "Chicken & Fish",
          "Chicken & Fish",
          "Chicken & Fish",
          "Chicken & Fish",
          "Chicken & Fish",
          "Chicken & Fish",
          "Chicken & Fish",
          "Chicken & Fish",
          "Chicken & Fish",
          "Chicken & Fish",
          "Chicken & Fish",
          "Chicken & Fish",
          "Chicken & Fish",
          "Chicken & Fish",
          "Chicken & Fish",
          "Chicken & Fish",
          "Chicken & Fish",
          "Chicken & Fish",
          "Chicken & Fish",
          "Chicken & Fish",
          "Chicken & Fish",
          "Chicken & Fish",
          "Chicken & Fish",
          "Chicken & Fish",
          "Chicken & Fish",
          "Chicken & Fish",
          "Chicken & Fish",
          "Salads",
          "Salads",
          "Salads",
          "Salads",
          "Salads",
          "Salads",
          "Snacks & Sides",
          "Snacks & Sides",
          "Snacks & Sides",
          "Snacks & Sides",
          "Snacks & Sides",
          "Snacks & Sides",
          "Snacks & Sides",
          "Snacks & Sides",
          "Snacks & Sides",
          "Snacks & Sides",
          "Snacks & Sides",
          "Snacks & Sides",
          "Snacks & Sides",
          "Desserts",
          "Desserts",
          "Desserts",
          "Desserts",
          "Desserts",
          "Desserts",
          "Desserts",
          "Beverages",
          "Beverages",
          "Beverages",
          "Beverages",
          "Beverages",
          "Beverages",
          "Beverages",
          "Beverages",
          "Beverages",
          "Beverages",
          "Beverages",
          "Beverages",
          "Beverages",
          "Beverages",
          "Beverages",
          "Beverages",
          "Beverages",
          "Beverages",
          "Beverages",
          "Beverages",
          "Beverages",
          "Beverages",
          "Beverages",
          "Beverages",
          "Beverages",
          "Beverages",
          "Beverages",
          "Coffee & Tea",
          "Coffee & Tea",
          "Coffee & Tea",
          "Coffee & Tea",
          "Coffee & Tea",
          "Coffee & Tea",
          "Coffee & Tea",
          "Coffee & Tea",
          "Coffee & Tea",
          "Coffee & Tea",
          "Coffee & Tea",
          "Coffee & Tea",
          "Coffee & Tea",
          "Coffee & Tea",
          "Coffee & Tea",
          "Coffee & Tea",
          "Coffee & Tea",
          "Coffee & Tea",
          "Coffee & Tea",
          "Coffee & Tea",
          "Coffee & Tea",
          "Coffee & Tea",
          "Coffee & Tea",
          "Coffee & Tea",
          "Coffee & Tea",
          "Coffee & Tea",
          "Coffee & Tea",
          "Coffee & Tea",
          "Coffee & Tea",
          "Coffee & Tea",
          "Coffee & Tea",
          "Coffee & Tea",
          "Coffee & Tea",
          "Coffee & Tea",
          "Coffee & Tea",
          "Coffee & Tea",
          "Coffee & Tea",
          "Coffee & Tea",
          "Coffee & Tea",
          "Coffee & Tea",
          "Coffee & Tea",
          "Coffee & Tea",
          "Coffee & Tea",
          "Coffee & Tea",
          "Coffee & Tea",
          "Coffee & Tea",
          "Coffee & Tea",
          "Coffee & Tea",
          "Coffee & Tea",
          "Coffee & Tea",
          "Coffee & Tea",
          "Coffee & Tea",
          "Coffee & Tea",
          "Coffee & Tea",
          "Coffee & Tea",
          "Coffee & Tea",
          "Coffee & Tea",
          "Coffee & Tea",
          "Coffee & Tea",
          "Coffee & Tea",
          "Coffee & Tea",
          "Coffee & Tea",
          "Coffee & Tea",
          "Coffee & Tea",
          "Coffee & Tea",
          "Coffee & Tea",
          "Coffee & Tea",
          "Coffee & Tea",
          "Coffee & Tea",
          "Coffee & Tea",
          "Coffee & Tea",
          "Coffee & Tea",
          "Coffee & Tea",
          "Coffee & Tea",
          "Coffee & Tea",
          "Coffee & Tea",
          "Coffee & Tea",
          "Coffee & Tea",
          "Coffee & Tea",
          "Coffee & Tea",
          "Coffee & Tea",
          "Coffee & Tea",
          "Coffee & Tea",
          "Coffee & Tea",
          "Coffee & Tea",
          "Coffee & Tea",
          "Coffee & Tea",
          "Coffee & Tea",
          "Coffee & Tea",
          "Coffee & Tea",
          "Coffee & Tea",
          "Coffee & Tea",
          "Coffee & Tea",
          "Coffee & Tea",
          "Coffee & Tea",
          "Smoothies & Shakes",
          "Smoothies & Shakes",
          "Smoothies & Shakes",
          "Smoothies & Shakes",
          "Smoothies & Shakes",
          "Smoothies & Shakes",
          "Smoothies & Shakes",
          "Smoothies & Shakes",
          "Smoothies & Shakes",
          "Smoothies & Shakes",
          "Smoothies & Shakes",
          "Smoothies & Shakes",
          "Smoothies & Shakes",
          "Smoothies & Shakes",
          "Smoothies & Shakes",
          "Smoothies & Shakes",
          "Smoothies & Shakes",
          "Smoothies & Shakes",
          "Smoothies & Shakes",
          "Smoothies & Shakes",
          "Smoothies & Shakes",
          "Smoothies & Shakes",
          "Smoothies & Shakes",
          "Smoothies & Shakes",
          "Smoothies & Shakes",
          "Smoothies & Shakes",
          "Smoothies & Shakes",
          "Smoothies & Shakes"
         ],
         "y": [
          "Egg McMuffin",
          "Egg White Delight",
          "Sausage McMuffin",
          "Sausage McMuffin with Egg",
          "Sausage McMuffin with Egg Whites",
          "Steak & Egg McMuffin",
          "Bacon, Egg & Cheese Biscuit (Regular Biscuit)",
          "Bacon, Egg & Cheese Biscuit (Large Biscuit)",
          "Bacon, Egg & Cheese Biscuit with Egg Whites (Regular Biscuit)",
          "Bacon, Egg & Cheese Biscuit with Egg Whites (Large Biscuit)",
          "Sausage Biscuit (Regular Biscuit)",
          "Sausage Biscuit (Large Biscuit)",
          "Sausage Biscuit with Egg (Regular Biscuit)",
          "Sausage Biscuit with Egg (Large Biscuit)",
          "Sausage Biscuit with Egg Whites (Regular Biscuit)",
          "Sausage Biscuit with Egg Whites (Large Biscuit)",
          "Southern Style Chicken Biscuit (Regular Biscuit)",
          "Southern Style Chicken Biscuit (Large Biscuit)",
          "Steak & Egg Biscuit (Regular Biscuit)",
          "Bacon, Egg & Cheese McGriddles",
          "Bacon, Egg & Cheese McGriddles with Egg Whites",
          "Sausage McGriddles",
          "Sausage, Egg & Cheese McGriddles",
          "Sausage, Egg & Cheese McGriddles with Egg Whites",
          "Bacon, Egg & Cheese Bagel",
          "Bacon, Egg & Cheese Bagel with Egg Whites",
          "Steak, Egg & Cheese Bagel",
          "Big Breakfast (Regular Biscuit)",
          "Big Breakfast (Large Biscuit)",
          "Big Breakfast with Egg Whites (Regular Biscuit)",
          "Big Breakfast with Egg Whites (Large Biscuit)",
          "Big Breakfast with Hotcakes (Regular Biscuit)",
          "Big Breakfast with Hotcakes (Large Biscuit)",
          "Big Breakfast with Hotcakes and Egg Whites (Regular Biscuit)",
          "Big Breakfast with Hotcakes and Egg Whites (Large Biscuit)",
          "Hotcakes",
          "Hotcakes and Sausage",
          "Sausage Burrito",
          "Hash Brown",
          "Cinnamon Melts",
          "Fruit & Maple Oatmeal",
          "Fruit & Maple Oatmeal without Brown Sugar",
          "Big Mac",
          "Quarter Pounder with Cheese",
          "Quarter Pounder with Bacon & Cheese",
          "Quarter Pounder with Bacon Habanero Ranch",
          "Quarter Pounder Deluxe",
          "Double Quarter Pounder with Cheese",
          "Hamburger",
          "Cheeseburger",
          "Double Cheeseburger",
          "Bacon Clubhouse Burger",
          "McDouble",
          "Bacon McDouble",
          "Daily Double",
          "Jalapeño Double",
          "McRib",
          "Premium Crispy Chicken Classic Sandwich",
          "Premium Grilled Chicken Classic Sandwich",
          "Premium Crispy Chicken Club Sandwich",
          "Premium Grilled Chicken Club Sandwich",
          "Premium Crispy Chicken Ranch BLT Sandwich",
          "Premium Grilled Chicken Ranch BLT Sandwich",
          "Bacon Clubhouse Crispy Chicken Sandwich",
          "Bacon Clubhouse Grilled Chicken Sandwich",
          "Southern Style Crispy Chicken Sandwich",
          "McChicken",
          "Bacon Cheddar McChicken",
          "Bacon Buffalo Ranch McChicken",
          "Buffalo Ranch McChicken",
          "Premium McWrap Chicken & Bacon (Crispy Chicken)",
          "Premium McWrap Chicken & Bacon (Grilled Chicken)",
          "Premium McWrap Chicken & Ranch (Crispy Chicken)",
          "Premium McWrap Chicken & Ranch (Grilled Chicken)",
          "Premium McWrap Southwest Chicken (Crispy Chicken)",
          "Premium McWrap Southwest Chicken (Grilled Chicken)",
          "Premium McWrap Chicken Sweet Chili (Crispy Chicken)",
          "Premium McWrap Chicken Sweet Chili (Grilled Chicken)",
          "Chicken McNuggets (4 piece)",
          "Chicken McNuggets (6 piece)",
          "Chicken McNuggets (10 piece)",
          "Chicken McNuggets (20 piece)",
          "Chicken McNuggets (40 piece)",
          "Filet-O-Fish",
          "Premium Bacon Ranch Salad (without Chicken)",
          "Premium Bacon Ranch Salad with Crispy Chicken",
          "Premium Bacon Ranch Salad with Grilled Chicken",
          "Premium Southwest Salad (without Chicken)",
          "Premium Southwest Salad with Crispy Chicken",
          "Premium Southwest Salad with Grilled Chicken",
          "Chipotle BBQ Snack Wrap (Crispy Chicken)",
          "Chipotle BBQ Snack Wrap (Grilled Chicken)",
          "Honey Mustard Snack Wrap (Crispy Chicken)",
          "Honey Mustard Snack Wrap (Grilled Chicken)",
          "Ranch Snack Wrap (Crispy Chicken)",
          "Ranch Snack Wrap (Grilled Chicken)",
          "Small French Fries",
          "Medium French Fries",
          "Large French Fries",
          "Kids French Fries",
          "Side Salad",
          "Apple Slices",
          "Fruit 'n Yogurt Parfait",
          "Baked Apple Pie",
          "Chocolate Chip Cookie",
          "Oatmeal Raisin Cookie",
          "Kids Ice Cream Cone",
          "Hot Fudge Sundae",
          "Hot Caramel Sundae",
          "Strawberry Sundae",
          "Coca-Cola Classic (Small)",
          "Coca-Cola Classic (Medium)",
          "Coca-Cola Classic (Large)",
          "Coca-Cola Classic (Child)",
          "Diet Coke (Small)",
          "Diet Coke (Medium)",
          "Diet Coke (Large)",
          "Diet Coke (Child)",
          "Dr Pepper (Small)",
          "Dr Pepper (Medium)",
          "Dr Pepper (Large)",
          "Dr Pepper (Child)",
          "Diet Dr Pepper (Small)",
          "Diet Dr Pepper (Medium)",
          "Diet Dr Pepper (Large)",
          "Diet Dr Pepper (Child)",
          "Sprite (Small)",
          "Sprite (Medium)",
          "Sprite (Large)",
          "Sprite (Child)",
          "1% Low Fat Milk Jug",
          "Fat Free Chocolate Milk Jug",
          "Minute Maid 100% Apple Juice Box",
          "Minute Maid Orange Juice (Small)",
          "Minute Maid Orange Juice (Medium)",
          "Minute Maid Orange Juice (Large)",
          "Dasani Water Bottle",
          "Iced Tea (Small)",
          "Iced Tea (Medium)",
          "Iced Tea (Large)",
          "Iced Tea (Child)",
          "Sweet Tea (Small)",
          "Sweet Tea (Medium)",
          "Sweet Tea (Large)",
          "Sweet Tea (Child)",
          "Coffee (Small)",
          "Coffee (Medium)",
          "Coffee (Large)",
          "Latte (Small)",
          "Latte (Medium)",
          "Latte (Large)",
          "Caramel Latte (Small)",
          "Caramel Latte (Medium)",
          "Caramel Latte (Large)",
          "Hazelnut Latte (Small)",
          "Hazelnut Latte (Medium)",
          "Hazelnut Latte (Large)",
          "French Vanilla Latte (Small)",
          "French Vanilla Latte (Medium)",
          "French Vanilla Latte (Large)",
          "Latte with Sugar Free French Vanilla Syrup (Small)",
          "Latte with Sugar Free French Vanilla Syrup (Medium)",
          "Latte with Sugar Free French Vanilla Syrup (Large)",
          "Nonfat Latte (Small)",
          "Nonfat Latte (Medium)",
          "Nonfat Latte (Large)",
          "Nonfat Caramel Latte (Small)",
          "Nonfat Caramel Latte (Medium)",
          "Nonfat Caramel Latte (Large)",
          "Nonfat Hazelnut Latte (Small)",
          "Nonfat Hazelnut Latte (Medium)",
          "Nonfat Hazelnut Latte (Large)",
          "Nonfat French Vanilla Latte (Small)",
          "Nonfat French Vanilla Latte (Medium)",
          "Nonfat French Vanilla Latte (Large)",
          "Nonfat Latte with Sugar Free French Vanilla Syrup (Small)",
          "Nonfat Latte with Sugar Free French Vanilla Syrup (Medium)",
          "Nonfat Latte with Sugar Free French Vanilla Syrup (Large)",
          "Mocha (Small)",
          "Mocha (Medium)",
          "Mocha (Large)",
          "Mocha with Nonfat Milk (Small)",
          "Mocha with Nonfat Milk (Medium)",
          "Mocha with Nonfat Milk (Large)",
          "Caramel Mocha (Small)",
          "Caramel Mocha (Medium)",
          "Caramel Mocha (Large)",
          "Nonfat Caramel Mocha (Small)",
          "Nonfat Caramel Mocha (Medium)",
          "Nonfat Caramel Mocha (Large)",
          "Hot Chocolate (Small)",
          "Hot Chocolate (Medium)",
          "Hot Chocolate (Large)",
          "Hot Chocolate with Nonfat Milk (Small)",
          "Hot Chocolate with Nonfat Milk (Medium)",
          "Hot Chocolate with Nonfat Milk (Large)",
          "Regular Iced Coffee (Small)",
          "Regular Iced Coffee (Medium)",
          "Regular Iced Coffee (Large)",
          "Caramel Iced Coffee (Small)",
          "Caramel Iced Coffee (Medium)",
          "Caramel Iced Coffee (Large)",
          "Hazelnut Iced Coffee (Small)",
          "Hazelnut Iced Coffee (Medium)",
          "Hazelnut Iced Coffee (Large)",
          "French Vanilla Iced Coffee (Small)",
          "French Vanilla Iced Coffee (Medium)",
          "French Vanilla Iced Coffee (Large)",
          "Iced Coffee with Sugar Free French Vanilla Syrup (Small)",
          "Iced Coffee with Sugar Free French Vanilla Syrup (Medium)",
          "Iced Coffee with Sugar Free French Vanilla Syrup (Large)",
          "Iced Mocha (Small)",
          "Iced Mocha (Medium)",
          "Iced Mocha (Large)",
          "Iced Mocha with Nonfat Milk (Small)",
          "Iced Mocha with Nonfat Milk (Medium)",
          "Iced Mocha with Nonfat Milk (Large)",
          "Iced Caramel Mocha (Small)",
          "Iced Caramel Mocha (Medium)",
          "Iced Caramel Mocha (Large)",
          "Iced Nonfat Caramel Mocha (Small)",
          "Iced Nonfat Caramel Mocha (Medium)",
          "Iced Nonfat Caramel Mocha (Large)",
          "Frappé Mocha (Small)",
          "Frappé Mocha (Medium)",
          "Frappé Mocha (Large)",
          "Frappé Caramel (Small)",
          "Frappé Caramel (Medium)",
          "Frappé Caramel (Large)",
          "Frappé Chocolate Chip (Small)",
          "Frappé Chocolate Chip (Medium)",
          "Frappé Chocolate Chip (Large)",
          "Blueberry Pomegranate Smoothie (Small)",
          "Blueberry Pomegranate Smoothie (Medium)",
          "Blueberry Pomegranate Smoothie (Large)",
          "Strawberry Banana Smoothie (Small)",
          "Strawberry Banana Smoothie (Medium)",
          "Strawberry Banana Smoothie (Large)",
          "Mango Pineapple Smoothie (Small)",
          "Mango Pineapple Smoothie (Medium)",
          "Mango Pineapple Smoothie (Large)",
          "Vanilla Shake (Small)",
          "Vanilla Shake (Medium)",
          "Vanilla Shake (Large)",
          "Strawberry Shake (Small)",
          "Strawberry Shake (Medium)",
          "Strawberry Shake (Large)",
          "Chocolate Shake (Small)",
          "Chocolate Shake (Medium)",
          "Chocolate Shake (Large)",
          "Shamrock Shake (Medium)",
          "Shamrock Shake (Large)",
          "McFlurry with M&M’s Candies (Small)",
          "McFlurry with M&M’s Candies (Medium)",
          "McFlurry with M&M’s Candies (Snack)",
          "McFlurry with Oreo Cookies (Small)",
          "McFlurry with Oreo Cookies (Medium)",
          "McFlurry with Oreo Cookies (Snack)",
          "McFlurry with Reese's Peanut Butter Cups (Medium)",
          "McFlurry with Reese's Peanut Butter Cups (Snack)"
         ],
         "z": [
          20,
          12,
          35,
          43,
          35,
          36,
          40,
          47,
          32,
          38,
          42,
          48,
          50,
          57,
          42,
          49,
          31,
          37,
          49,
          32,
          24,
          34,
          48,
          40,
          48,
          39,
          53,
          73,
          80,
          57,
          63,
          87,
          93,
          70,
          77,
          13,
          37,
          25,
          14,
          30,
          6,
          6,
          42,
          41,
          45,
          48,
          42,
          66,
          12,
          18,
          32,
          62,
          26,
          34,
          35,
          36,
          40,
          33,
          13,
          51,
          31,
          43,
          23,
          59,
          39,
          29,
          25,
          38,
          32,
          25,
          49,
          28,
          47,
          27,
          51,
          31,
          35,
          15,
          18,
          27,
          45,
          91,
          182,
          29,
          11,
          33,
          13,
          7,
          33,
          13,
          23,
          13,
          23,
          13,
          30,
          20,
          17,
          24,
          37,
          8,
          0,
          0,
          3,
          19,
          12,
          9,
          2,
          14,
          12,
          10,
          0,
          0,
          0,
          0,
          0,
          0,
          0,
          0,
          0,
          0,
          0,
          0,
          0,
          0,
          0,
          0,
          0,
          0,
          0,
          0,
          4,
          0,
          0,
          0,
          0,
          0,
          0,
          0,
          0,
          0,
          0,
          0,
          0,
          0,
          0,
          0,
          0,
          0,
          13,
          16,
          21,
          13,
          16,
          21,
          13,
          16,
          21,
          13,
          16,
          21,
          13,
          16,
          21,
          0,
          0,
          1,
          0,
          0,
          1,
          0,
          0,
          1,
          0,
          0,
          1,
          0,
          0,
          1,
          18,
          21,
          26,
          5,
          6,
          6,
          17,
          21,
          26,
          5,
          5,
          6,
          21,
          25,
          31,
          5,
          5,
          6,
          7,
          11,
          14,
          7,
          11,
          14,
          7,
          11,
          14,
          7,
          11,
          14,
          7,
          11,
          14,
          17,
          19,
          25,
          8,
          8,
          9,
          17,
          19,
          25,
          8,
          8,
          8,
          28,
          34,
          41,
          29,
          35,
          42,
          35,
          41,
          48,
          1,
          1,
          2,
          1,
          1,
          2,
          1,
          1,
          2,
          24,
          29,
          35,
          25,
          30,
          36,
          25,
          30,
          36,
          29,
          35,
          35,
          50,
          24,
          26,
          35,
          17,
          50,
          25
         ]
        }
       ],
       "layout": {
        "height": 800,
        "template": {
         "data": {
          "bar": [
           {
            "error_x": {
             "color": "#2a3f5f"
            },
            "error_y": {
             "color": "#2a3f5f"
            },
            "marker": {
             "line": {
              "color": "#E5ECF6",
              "width": 0.5
             }
            },
            "type": "bar"
           }
          ],
          "barpolar": [
           {
            "marker": {
             "line": {
              "color": "#E5ECF6",
              "width": 0.5
             }
            },
            "type": "barpolar"
           }
          ],
          "carpet": [
           {
            "aaxis": {
             "endlinecolor": "#2a3f5f",
             "gridcolor": "white",
             "linecolor": "white",
             "minorgridcolor": "white",
             "startlinecolor": "#2a3f5f"
            },
            "baxis": {
             "endlinecolor": "#2a3f5f",
             "gridcolor": "white",
             "linecolor": "white",
             "minorgridcolor": "white",
             "startlinecolor": "#2a3f5f"
            },
            "type": "carpet"
           }
          ],
          "choropleth": [
           {
            "colorbar": {
             "outlinewidth": 0,
             "ticks": ""
            },
            "type": "choropleth"
           }
          ],
          "contour": [
           {
            "colorbar": {
             "outlinewidth": 0,
             "ticks": ""
            },
            "colorscale": [
             [
              0,
              "#0d0887"
             ],
             [
              0.1111111111111111,
              "#46039f"
             ],
             [
              0.2222222222222222,
              "#7201a8"
             ],
             [
              0.3333333333333333,
              "#9c179e"
             ],
             [
              0.4444444444444444,
              "#bd3786"
             ],
             [
              0.5555555555555556,
              "#d8576b"
             ],
             [
              0.6666666666666666,
              "#ed7953"
             ],
             [
              0.7777777777777778,
              "#fb9f3a"
             ],
             [
              0.8888888888888888,
              "#fdca26"
             ],
             [
              1,
              "#f0f921"
             ]
            ],
            "type": "contour"
           }
          ],
          "contourcarpet": [
           {
            "colorbar": {
             "outlinewidth": 0,
             "ticks": ""
            },
            "type": "contourcarpet"
           }
          ],
          "heatmap": [
           {
            "colorbar": {
             "outlinewidth": 0,
             "ticks": ""
            },
            "colorscale": [
             [
              0,
              "#0d0887"
             ],
             [
              0.1111111111111111,
              "#46039f"
             ],
             [
              0.2222222222222222,
              "#7201a8"
             ],
             [
              0.3333333333333333,
              "#9c179e"
             ],
             [
              0.4444444444444444,
              "#bd3786"
             ],
             [
              0.5555555555555556,
              "#d8576b"
             ],
             [
              0.6666666666666666,
              "#ed7953"
             ],
             [
              0.7777777777777778,
              "#fb9f3a"
             ],
             [
              0.8888888888888888,
              "#fdca26"
             ],
             [
              1,
              "#f0f921"
             ]
            ],
            "type": "heatmap"
           }
          ],
          "heatmapgl": [
           {
            "colorbar": {
             "outlinewidth": 0,
             "ticks": ""
            },
            "colorscale": [
             [
              0,
              "#0d0887"
             ],
             [
              0.1111111111111111,
              "#46039f"
             ],
             [
              0.2222222222222222,
              "#7201a8"
             ],
             [
              0.3333333333333333,
              "#9c179e"
             ],
             [
              0.4444444444444444,
              "#bd3786"
             ],
             [
              0.5555555555555556,
              "#d8576b"
             ],
             [
              0.6666666666666666,
              "#ed7953"
             ],
             [
              0.7777777777777778,
              "#fb9f3a"
             ],
             [
              0.8888888888888888,
              "#fdca26"
             ],
             [
              1,
              "#f0f921"
             ]
            ],
            "type": "heatmapgl"
           }
          ],
          "histogram": [
           {
            "marker": {
             "colorbar": {
              "outlinewidth": 0,
              "ticks": ""
             }
            },
            "type": "histogram"
           }
          ],
          "histogram2d": [
           {
            "colorbar": {
             "outlinewidth": 0,
             "ticks": ""
            },
            "colorscale": [
             [
              0,
              "#0d0887"
             ],
             [
              0.1111111111111111,
              "#46039f"
             ],
             [
              0.2222222222222222,
              "#7201a8"
             ],
             [
              0.3333333333333333,
              "#9c179e"
             ],
             [
              0.4444444444444444,
              "#bd3786"
             ],
             [
              0.5555555555555556,
              "#d8576b"
             ],
             [
              0.6666666666666666,
              "#ed7953"
             ],
             [
              0.7777777777777778,
              "#fb9f3a"
             ],
             [
              0.8888888888888888,
              "#fdca26"
             ],
             [
              1,
              "#f0f921"
             ]
            ],
            "type": "histogram2d"
           }
          ],
          "histogram2dcontour": [
           {
            "colorbar": {
             "outlinewidth": 0,
             "ticks": ""
            },
            "colorscale": [
             [
              0,
              "#0d0887"
             ],
             [
              0.1111111111111111,
              "#46039f"
             ],
             [
              0.2222222222222222,
              "#7201a8"
             ],
             [
              0.3333333333333333,
              "#9c179e"
             ],
             [
              0.4444444444444444,
              "#bd3786"
             ],
             [
              0.5555555555555556,
              "#d8576b"
             ],
             [
              0.6666666666666666,
              "#ed7953"
             ],
             [
              0.7777777777777778,
              "#fb9f3a"
             ],
             [
              0.8888888888888888,
              "#fdca26"
             ],
             [
              1,
              "#f0f921"
             ]
            ],
            "type": "histogram2dcontour"
           }
          ],
          "mesh3d": [
           {
            "colorbar": {
             "outlinewidth": 0,
             "ticks": ""
            },
            "type": "mesh3d"
           }
          ],
          "parcoords": [
           {
            "line": {
             "colorbar": {
              "outlinewidth": 0,
              "ticks": ""
             }
            },
            "type": "parcoords"
           }
          ],
          "pie": [
           {
            "automargin": true,
            "type": "pie"
           }
          ],
          "scatter": [
           {
            "marker": {
             "colorbar": {
              "outlinewidth": 0,
              "ticks": ""
             }
            },
            "type": "scatter"
           }
          ],
          "scatter3d": [
           {
            "line": {
             "colorbar": {
              "outlinewidth": 0,
              "ticks": ""
             }
            },
            "marker": {
             "colorbar": {
              "outlinewidth": 0,
              "ticks": ""
             }
            },
            "type": "scatter3d"
           }
          ],
          "scattercarpet": [
           {
            "marker": {
             "colorbar": {
              "outlinewidth": 0,
              "ticks": ""
             }
            },
            "type": "scattercarpet"
           }
          ],
          "scattergeo": [
           {
            "marker": {
             "colorbar": {
              "outlinewidth": 0,
              "ticks": ""
             }
            },
            "type": "scattergeo"
           }
          ],
          "scattergl": [
           {
            "marker": {
             "colorbar": {
              "outlinewidth": 0,
              "ticks": ""
             }
            },
            "type": "scattergl"
           }
          ],
          "scattermapbox": [
           {
            "marker": {
             "colorbar": {
              "outlinewidth": 0,
              "ticks": ""
             }
            },
            "type": "scattermapbox"
           }
          ],
          "scatterpolar": [
           {
            "marker": {
             "colorbar": {
              "outlinewidth": 0,
              "ticks": ""
             }
            },
            "type": "scatterpolar"
           }
          ],
          "scatterpolargl": [
           {
            "marker": {
             "colorbar": {
              "outlinewidth": 0,
              "ticks": ""
             }
            },
            "type": "scatterpolargl"
           }
          ],
          "scatterternary": [
           {
            "marker": {
             "colorbar": {
              "outlinewidth": 0,
              "ticks": ""
             }
            },
            "type": "scatterternary"
           }
          ],
          "surface": [
           {
            "colorbar": {
             "outlinewidth": 0,
             "ticks": ""
            },
            "colorscale": [
             [
              0,
              "#0d0887"
             ],
             [
              0.1111111111111111,
              "#46039f"
             ],
             [
              0.2222222222222222,
              "#7201a8"
             ],
             [
              0.3333333333333333,
              "#9c179e"
             ],
             [
              0.4444444444444444,
              "#bd3786"
             ],
             [
              0.5555555555555556,
              "#d8576b"
             ],
             [
              0.6666666666666666,
              "#ed7953"
             ],
             [
              0.7777777777777778,
              "#fb9f3a"
             ],
             [
              0.8888888888888888,
              "#fdca26"
             ],
             [
              1,
              "#f0f921"
             ]
            ],
            "type": "surface"
           }
          ],
          "table": [
           {
            "cells": {
             "fill": {
              "color": "#EBF0F8"
             },
             "line": {
              "color": "white"
             }
            },
            "header": {
             "fill": {
              "color": "#C8D4E3"
             },
             "line": {
              "color": "white"
             }
            },
            "type": "table"
           }
          ]
         },
         "layout": {
          "annotationdefaults": {
           "arrowcolor": "#2a3f5f",
           "arrowhead": 0,
           "arrowwidth": 1
          },
          "coloraxis": {
           "colorbar": {
            "outlinewidth": 0,
            "ticks": ""
           }
          },
          "colorscale": {
           "diverging": [
            [
             0,
             "#8e0152"
            ],
            [
             0.1,
             "#c51b7d"
            ],
            [
             0.2,
             "#de77ae"
            ],
            [
             0.3,
             "#f1b6da"
            ],
            [
             0.4,
             "#fde0ef"
            ],
            [
             0.5,
             "#f7f7f7"
            ],
            [
             0.6,
             "#e6f5d0"
            ],
            [
             0.7,
             "#b8e186"
            ],
            [
             0.8,
             "#7fbc41"
            ],
            [
             0.9,
             "#4d9221"
            ],
            [
             1,
             "#276419"
            ]
           ],
           "sequential": [
            [
             0,
             "#0d0887"
            ],
            [
             0.1111111111111111,
             "#46039f"
            ],
            [
             0.2222222222222222,
             "#7201a8"
            ],
            [
             0.3333333333333333,
             "#9c179e"
            ],
            [
             0.4444444444444444,
             "#bd3786"
            ],
            [
             0.5555555555555556,
             "#d8576b"
            ],
            [
             0.6666666666666666,
             "#ed7953"
            ],
            [
             0.7777777777777778,
             "#fb9f3a"
            ],
            [
             0.8888888888888888,
             "#fdca26"
            ],
            [
             1,
             "#f0f921"
            ]
           ],
           "sequentialminus": [
            [
             0,
             "#0d0887"
            ],
            [
             0.1111111111111111,
             "#46039f"
            ],
            [
             0.2222222222222222,
             "#7201a8"
            ],
            [
             0.3333333333333333,
             "#9c179e"
            ],
            [
             0.4444444444444444,
             "#bd3786"
            ],
            [
             0.5555555555555556,
             "#d8576b"
            ],
            [
             0.6666666666666666,
             "#ed7953"
            ],
            [
             0.7777777777777778,
             "#fb9f3a"
            ],
            [
             0.8888888888888888,
             "#fdca26"
            ],
            [
             1,
             "#f0f921"
            ]
           ]
          },
          "colorway": [
           "#636efa",
           "#EF553B",
           "#00cc96",
           "#ab63fa",
           "#FFA15A",
           "#19d3f3",
           "#FF6692",
           "#B6E880",
           "#FF97FF",
           "#FECB52"
          ],
          "font": {
           "color": "#2a3f5f"
          },
          "geo": {
           "bgcolor": "white",
           "lakecolor": "white",
           "landcolor": "#E5ECF6",
           "showlakes": true,
           "showland": true,
           "subunitcolor": "white"
          },
          "hoverlabel": {
           "align": "left"
          },
          "hovermode": "closest",
          "mapbox": {
           "style": "light"
          },
          "paper_bgcolor": "white",
          "plot_bgcolor": "#E5ECF6",
          "polar": {
           "angularaxis": {
            "gridcolor": "white",
            "linecolor": "white",
            "ticks": ""
           },
           "bgcolor": "#E5ECF6",
           "radialaxis": {
            "gridcolor": "white",
            "linecolor": "white",
            "ticks": ""
           }
          },
          "scene": {
           "xaxis": {
            "backgroundcolor": "#E5ECF6",
            "gridcolor": "white",
            "gridwidth": 2,
            "linecolor": "white",
            "showbackground": true,
            "ticks": "",
            "zerolinecolor": "white"
           },
           "yaxis": {
            "backgroundcolor": "#E5ECF6",
            "gridcolor": "white",
            "gridwidth": 2,
            "linecolor": "white",
            "showbackground": true,
            "ticks": "",
            "zerolinecolor": "white"
           },
           "zaxis": {
            "backgroundcolor": "#E5ECF6",
            "gridcolor": "white",
            "gridwidth": 2,
            "linecolor": "white",
            "showbackground": true,
            "ticks": "",
            "zerolinecolor": "white"
           }
          },
          "shapedefaults": {
           "line": {
            "color": "#2a3f5f"
           }
          },
          "ternary": {
           "aaxis": {
            "gridcolor": "white",
            "linecolor": "white",
            "ticks": ""
           },
           "baxis": {
            "gridcolor": "white",
            "linecolor": "white",
            "ticks": ""
           },
           "bgcolor": "#E5ECF6",
           "caxis": {
            "gridcolor": "white",
            "linecolor": "white",
            "ticks": ""
           }
          },
          "title": {
           "x": 0.05
          },
          "xaxis": {
           "automargin": true,
           "gridcolor": "white",
           "linecolor": "white",
           "ticks": "",
           "title": {
            "standoff": 15
           },
           "zerolinecolor": "white",
           "zerolinewidth": 2
          },
          "yaxis": {
           "automargin": true,
           "gridcolor": "white",
           "linecolor": "white",
           "ticks": "",
           "title": {
            "standoff": 15
           },
           "zerolinecolor": "white",
           "zerolinewidth": 2
          }
         }
        },
        "title": {
         "text": "3D Scatter Plot of Carbohydrates (% Daily Value)"
        },
        "width": 800
       }
      },
      "text/html": [
       "<div>\n",
       "        \n",
       "        \n",
       "            <div id=\"185d2394-1c61-453b-b78d-243c5de3e2c5\" class=\"plotly-graph-div\" style=\"height:800px; width:800px;\"></div>\n",
       "            <script type=\"text/javascript\">\n",
       "                require([\"plotly\"], function(Plotly) {\n",
       "                    window.PLOTLYENV=window.PLOTLYENV || {};\n",
       "                    \n",
       "                if (document.getElementById(\"185d2394-1c61-453b-b78d-243c5de3e2c5\")) {\n",
       "                    Plotly.newPlot(\n",
       "                        '185d2394-1c61-453b-b78d-243c5de3e2c5',\n",
       "                        [{\"marker\": {\"color\": [20, 12, 35, 43, 35, 36, 40, 47, 32, 38, 42, 48, 50, 57, 42, 49, 31, 37, 49, 32, 24, 34, 48, 40, 48, 39, 53, 73, 80, 57, 63, 87, 93, 70, 77, 13, 37, 25, 14, 30, 6, 6, 42, 41, 45, 48, 42, 66, 12, 18, 32, 62, 26, 34, 35, 36, 40, 33, 13, 51, 31, 43, 23, 59, 39, 29, 25, 38, 32, 25, 49, 28, 47, 27, 51, 31, 35, 15, 18, 27, 45, 91, 182, 29, 11, 33, 13, 7, 33, 13, 23, 13, 23, 13, 30, 20, 17, 24, 37, 8, 0, 0, 3, 19, 12, 9, 2, 14, 12, 10, 0, 0, 0, 0, 0, 0, 0, 0, 0, 0, 0, 0, 0, 0, 0, 0, 0, 0, 0, 0, 4, 0, 0, 0, 0, 0, 0, 0, 0, 0, 0, 0, 0, 0, 0, 0, 0, 0, 13, 16, 21, 13, 16, 21, 13, 16, 21, 13, 16, 21, 13, 16, 21, 0, 0, 1, 0, 0, 1, 0, 0, 1, 0, 0, 1, 0, 0, 1, 18, 21, 26, 5, 6, 6, 17, 21, 26, 5, 5, 6, 21, 25, 31, 5, 5, 6, 7, 11, 14, 7, 11, 14, 7, 11, 14, 7, 11, 14, 7, 11, 14, 17, 19, 25, 8, 8, 9, 17, 19, 25, 8, 8, 8, 28, 34, 41, 29, 35, 42, 35, 41, 48, 1, 1, 2, 1, 1, 2, 1, 1, 2, 24, 29, 35, 25, 30, 36, 25, 30, 36, 29, 35, 35, 50, 24, 26, 35, 17, 50, 25], \"colorbar\": {\"title\": {\"text\": \"Total Fat (% Daily Value)\"}}, \"colorscale\": [[0.0, \"rgb(12,51,131)\"], [0.25, \"rgb(10,136,186)\"], [0.5, \"rgb(242,211,56)\"], [0.75, \"rgb(242,143,56)\"], [1.0, \"rgb(217,30,30)\"]], \"line\": {\"color\": \"rgb(255, 255, 255)\"}, \"sizemode\": \"diameter\"}, \"mode\": \"markers\", \"text\": [\"Egg McMuffin\", \"Egg White Delight\", \"Sausage McMuffin\", \"Sausage McMuffin with Egg\", \"Sausage McMuffin with Egg Whites\", \"Steak & Egg McMuffin\", \"Bacon, Egg & Cheese Biscuit (Regular Biscuit)\", \"Bacon, Egg & Cheese Biscuit (Large Biscuit)\", \"Bacon, Egg & Cheese Biscuit with Egg Whites (Regular Biscuit)\", \"Bacon, Egg & Cheese Biscuit with Egg Whites (Large Biscuit)\", \"Sausage Biscuit (Regular Biscuit)\", \"Sausage Biscuit (Large Biscuit)\", \"Sausage Biscuit with Egg (Regular Biscuit)\", \"Sausage Biscuit with Egg (Large Biscuit)\", \"Sausage Biscuit with Egg Whites (Regular Biscuit)\", \"Sausage Biscuit with Egg Whites (Large Biscuit)\", \"Southern Style Chicken Biscuit (Regular Biscuit)\", \"Southern Style Chicken Biscuit (Large Biscuit)\", \"Steak & Egg Biscuit (Regular Biscuit)\", \"Bacon, Egg & Cheese McGriddles\", \"Bacon, Egg & Cheese McGriddles with Egg Whites\", \"Sausage McGriddles\", \"Sausage, Egg & Cheese McGriddles\", \"Sausage, Egg & Cheese McGriddles with Egg Whites\", \"Bacon, Egg & Cheese Bagel\", \"Bacon, Egg & Cheese Bagel with Egg Whites\", \"Steak, Egg & Cheese Bagel\", \"Big Breakfast (Regular Biscuit)\", \"Big Breakfast (Large Biscuit)\", \"Big Breakfast with Egg Whites (Regular Biscuit)\", \"Big Breakfast with Egg Whites (Large Biscuit)\", \"Big Breakfast with Hotcakes (Regular Biscuit)\", \"Big Breakfast with Hotcakes (Large Biscuit)\", \"Big Breakfast with Hotcakes and Egg Whites (Regular Biscuit)\", \"Big Breakfast with Hotcakes and Egg Whites (Large Biscuit)\", \"Hotcakes\", \"Hotcakes and Sausage\", \"Sausage Burrito\", \"Hash Brown\", \"Cinnamon Melts\", \"Fruit & Maple Oatmeal\", \"Fruit & Maple Oatmeal without Brown Sugar\", \"Big Mac\", \"Quarter Pounder with Cheese\", \"Quarter Pounder with Bacon & Cheese\", \"Quarter Pounder with Bacon Habanero Ranch\", \"Quarter Pounder Deluxe\", \"Double Quarter Pounder with Cheese\", \"Hamburger\", \"Cheeseburger\", \"Double Cheeseburger\", \"Bacon Clubhouse Burger\", \"McDouble\", \"Bacon McDouble\", \"Daily Double\", \"Jalape\\u00f1o Double\", \"McRib\", \"Premium Crispy Chicken Classic Sandwich\", \"Premium Grilled Chicken Classic Sandwich\", \"Premium Crispy Chicken Club Sandwich\", \"Premium Grilled Chicken Club Sandwich\", \"Premium Crispy Chicken Ranch BLT Sandwich\", \"Premium Grilled Chicken Ranch BLT Sandwich\", \"Bacon Clubhouse Crispy Chicken Sandwich\", \"Bacon Clubhouse Grilled Chicken Sandwich\", \"Southern Style Crispy Chicken Sandwich\", \"McChicken\", \"Bacon Cheddar McChicken\", \"Bacon Buffalo Ranch McChicken\", \"Buffalo Ranch McChicken\", \"Premium McWrap Chicken & Bacon (Crispy Chicken)\", \"Premium McWrap Chicken & Bacon (Grilled Chicken)\", \"Premium McWrap Chicken & Ranch (Crispy Chicken)\", \"Premium McWrap Chicken & Ranch (Grilled Chicken)\", \"Premium McWrap Southwest Chicken (Crispy Chicken)\", \"Premium McWrap Southwest Chicken (Grilled Chicken)\", \"Premium McWrap Chicken Sweet Chili (Crispy Chicken)\", \"Premium McWrap Chicken Sweet Chili (Grilled Chicken)\", \"Chicken McNuggets (4 piece)\", \"Chicken McNuggets (6 piece)\", \"Chicken McNuggets (10 piece)\", \"Chicken McNuggets (20 piece)\", \"Chicken McNuggets (40 piece)\", \"Filet-O-Fish\", \"Premium Bacon Ranch Salad (without Chicken)\", \"Premium Bacon Ranch Salad with Crispy Chicken\", \"Premium Bacon Ranch Salad with Grilled Chicken\", \"Premium Southwest Salad (without Chicken)\", \"Premium Southwest Salad with Crispy Chicken\", \"Premium Southwest Salad with Grilled Chicken\", \"Chipotle BBQ Snack Wrap (Crispy Chicken)\", \"Chipotle BBQ Snack Wrap (Grilled Chicken)\", \"Honey Mustard Snack Wrap (Crispy Chicken)\", \"Honey Mustard Snack Wrap (Grilled Chicken)\", \"Ranch Snack Wrap (Crispy Chicken)\", \"Ranch Snack Wrap (Grilled Chicken)\", \"Small French Fries\", \"Medium French Fries\", \"Large French Fries\", \"Kids French Fries\", \"Side Salad\", \"Apple Slices\", \"Fruit 'n Yogurt Parfait\", \"Baked Apple Pie\", \"Chocolate Chip Cookie\", \"Oatmeal Raisin Cookie\", \"Kids Ice Cream Cone\", \"Hot Fudge Sundae\", \"Hot Caramel Sundae\", \"Strawberry Sundae\", \"Coca-Cola Classic (Small)\", \"Coca-Cola Classic (Medium)\", \"Coca-Cola Classic (Large)\", \"Coca-Cola Classic (Child)\", \"Diet Coke (Small)\", \"Diet Coke (Medium)\", \"Diet Coke (Large)\", \"Diet Coke (Child)\", \"Dr Pepper (Small)\", \"Dr Pepper (Medium)\", \"Dr Pepper (Large)\", \"Dr Pepper (Child)\", \"Diet Dr Pepper (Small)\", \"Diet Dr Pepper (Medium)\", \"Diet Dr Pepper (Large)\", \"Diet Dr Pepper (Child)\", \"Sprite (Small)\", \"Sprite (Medium)\", \"Sprite (Large)\", \"Sprite (Child)\", \"1% Low Fat Milk Jug\", \"Fat Free Chocolate Milk Jug\", \"Minute Maid 100% Apple Juice Box\", \"Minute Maid Orange Juice (Small)\", \"Minute Maid Orange Juice (Medium)\", \"Minute Maid Orange Juice (Large)\", \"Dasani Water Bottle\", \"Iced Tea (Small)\", \"Iced Tea (Medium)\", \"Iced Tea (Large)\", \"Iced Tea (Child)\", \"Sweet Tea (Small)\", \"Sweet Tea (Medium)\", \"Sweet Tea (Large)\", \"Sweet Tea (Child)\", \"Coffee (Small)\", \"Coffee (Medium)\", \"Coffee (Large)\", \"Latte (Small)\", \"Latte (Medium)\", \"Latte (Large)\", \"Caramel Latte (Small)\", \"Caramel Latte (Medium)\", \"Caramel Latte (Large)\", \"Hazelnut Latte (Small)\", \"Hazelnut Latte (Medium)\", \"Hazelnut Latte (Large)\", \"French Vanilla Latte (Small)\", \"French Vanilla Latte (Medium)\", \"French Vanilla Latte (Large)\", \"Latte with Sugar Free French Vanilla Syrup (Small)\", \"Latte with Sugar Free French Vanilla Syrup (Medium)\", \"Latte with Sugar Free French Vanilla Syrup (Large)\", \"Nonfat Latte (Small)\", \"Nonfat Latte (Medium)\", \"Nonfat Latte (Large)\", \"Nonfat Caramel Latte (Small)\", \"Nonfat Caramel Latte (Medium)\", \"Nonfat Caramel Latte (Large)\", \"Nonfat Hazelnut Latte (Small)\", \"Nonfat Hazelnut Latte (Medium)\", \"Nonfat Hazelnut Latte (Large)\", \"Nonfat French Vanilla Latte (Small)\", \"Nonfat French Vanilla Latte (Medium)\", \"Nonfat French Vanilla Latte (Large)\", \"Nonfat Latte with Sugar Free French Vanilla Syrup (Small)\", \"Nonfat Latte with Sugar Free French Vanilla Syrup (Medium)\", \"Nonfat Latte with Sugar Free French Vanilla Syrup (Large)\", \"Mocha (Small)\", \"Mocha (Medium)\", \"Mocha (Large)\", \"Mocha with Nonfat Milk (Small)\", \"Mocha with Nonfat Milk (Medium)\", \"Mocha with Nonfat Milk (Large)\", \"Caramel Mocha (Small)\", \"Caramel Mocha (Medium)\", \"Caramel Mocha (Large)\", \"Nonfat Caramel Mocha (Small)\", \"Nonfat Caramel Mocha (Medium)\", \"Nonfat Caramel Mocha (Large)\", \"Hot Chocolate (Small)\", \"Hot Chocolate (Medium)\", \"Hot Chocolate (Large)\", \"Hot Chocolate with Nonfat Milk (Small)\", \"Hot Chocolate with Nonfat Milk (Medium)\", \"Hot Chocolate with Nonfat Milk (Large)\", \"Regular Iced Coffee (Small)\", \"Regular Iced Coffee (Medium)\", \"Regular Iced Coffee (Large)\", \"Caramel Iced Coffee (Small)\", \"Caramel Iced Coffee (Medium)\", \"Caramel Iced Coffee (Large)\", \"Hazelnut Iced Coffee (Small)\", \"Hazelnut Iced Coffee (Medium)\", \"Hazelnut Iced Coffee (Large)\", \"French Vanilla Iced Coffee (Small)\", \"French Vanilla Iced Coffee (Medium)\", \"French Vanilla Iced Coffee (Large)\", \"Iced Coffee with Sugar Free French Vanilla Syrup (Small)\", \"Iced Coffee with Sugar Free French Vanilla Syrup (Medium)\", \"Iced Coffee with Sugar Free French Vanilla Syrup (Large)\", \"Iced Mocha (Small)\", \"Iced Mocha (Medium)\", \"Iced Mocha (Large)\", \"Iced Mocha with Nonfat Milk (Small)\", \"Iced Mocha with Nonfat Milk (Medium)\", \"Iced Mocha with Nonfat Milk (Large)\", \"Iced Caramel Mocha (Small)\", \"Iced Caramel Mocha (Medium)\", \"Iced Caramel Mocha (Large)\", \"Iced Nonfat Caramel Mocha (Small)\", \"Iced Nonfat Caramel Mocha (Medium)\", \"Iced Nonfat Caramel Mocha (Large)\", \"Frapp\\u00e9 Mocha (Small)\", \"Frapp\\u00e9 Mocha (Medium)\", \"Frapp\\u00e9 Mocha (Large)\", \"Frapp\\u00e9 Caramel (Small)\", \"Frapp\\u00e9 Caramel (Medium)\", \"Frapp\\u00e9 Caramel (Large)\", \"Frapp\\u00e9 Chocolate Chip (Small)\", \"Frapp\\u00e9 Chocolate Chip (Medium)\", \"Frapp\\u00e9 Chocolate Chip (Large)\", \"Blueberry Pomegranate Smoothie (Small)\", \"Blueberry Pomegranate Smoothie (Medium)\", \"Blueberry Pomegranate Smoothie (Large)\", \"Strawberry Banana Smoothie (Small)\", \"Strawberry Banana Smoothie (Medium)\", \"Strawberry Banana Smoothie (Large)\", \"Mango Pineapple Smoothie (Small)\", \"Mango Pineapple Smoothie (Medium)\", \"Mango Pineapple Smoothie (Large)\", \"Vanilla Shake (Small)\", \"Vanilla Shake (Medium)\", \"Vanilla Shake (Large)\", \"Strawberry Shake (Small)\", \"Strawberry Shake (Medium)\", \"Strawberry Shake (Large)\", \"Chocolate Shake (Small)\", \"Chocolate Shake (Medium)\", \"Chocolate Shake (Large)\", \"Shamrock Shake (Medium)\", \"Shamrock Shake (Large)\", \"McFlurry with M&M\\u2019s Candies (Small)\", \"McFlurry with M&M\\u2019s Candies (Medium)\", \"McFlurry with M&M\\u2019s Candies (Snack)\", \"McFlurry with Oreo Cookies (Small)\", \"McFlurry with Oreo Cookies (Medium)\", \"McFlurry with Oreo Cookies (Snack)\", \"McFlurry with Reese's Peanut Butter Cups (Medium)\", \"McFlurry with Reese's Peanut Butter Cups (Snack)\"], \"type\": \"scatter3d\", \"x\": [\"Breakfast\", \"Breakfast\", \"Breakfast\", \"Breakfast\", \"Breakfast\", \"Breakfast\", \"Breakfast\", \"Breakfast\", \"Breakfast\", \"Breakfast\", \"Breakfast\", \"Breakfast\", \"Breakfast\", \"Breakfast\", \"Breakfast\", \"Breakfast\", \"Breakfast\", \"Breakfast\", \"Breakfast\", \"Breakfast\", \"Breakfast\", \"Breakfast\", \"Breakfast\", \"Breakfast\", \"Breakfast\", \"Breakfast\", \"Breakfast\", \"Breakfast\", \"Breakfast\", \"Breakfast\", \"Breakfast\", \"Breakfast\", \"Breakfast\", \"Breakfast\", \"Breakfast\", \"Breakfast\", \"Breakfast\", \"Breakfast\", \"Breakfast\", \"Breakfast\", \"Breakfast\", \"Breakfast\", \"Beef & Pork\", \"Beef & Pork\", \"Beef & Pork\", \"Beef & Pork\", \"Beef & Pork\", \"Beef & Pork\", \"Beef & Pork\", \"Beef & Pork\", \"Beef & Pork\", \"Beef & Pork\", \"Beef & Pork\", \"Beef & Pork\", \"Beef & Pork\", \"Beef & Pork\", \"Beef & Pork\", \"Chicken & Fish\", \"Chicken & Fish\", \"Chicken & Fish\", \"Chicken & Fish\", \"Chicken & Fish\", \"Chicken & Fish\", \"Chicken & Fish\", \"Chicken & Fish\", \"Chicken & Fish\", \"Chicken & Fish\", \"Chicken & Fish\", \"Chicken & Fish\", \"Chicken & Fish\", \"Chicken & Fish\", \"Chicken & Fish\", \"Chicken & Fish\", \"Chicken & Fish\", \"Chicken & Fish\", \"Chicken & Fish\", \"Chicken & Fish\", \"Chicken & Fish\", \"Chicken & Fish\", \"Chicken & Fish\", \"Chicken & Fish\", \"Chicken & Fish\", \"Chicken & Fish\", \"Chicken & Fish\", \"Salads\", \"Salads\", \"Salads\", \"Salads\", \"Salads\", \"Salads\", \"Snacks & Sides\", \"Snacks & Sides\", \"Snacks & Sides\", \"Snacks & Sides\", \"Snacks & Sides\", \"Snacks & Sides\", \"Snacks & Sides\", \"Snacks & Sides\", \"Snacks & Sides\", \"Snacks & Sides\", \"Snacks & Sides\", \"Snacks & Sides\", \"Snacks & Sides\", \"Desserts\", \"Desserts\", \"Desserts\", \"Desserts\", \"Desserts\", \"Desserts\", \"Desserts\", \"Beverages\", \"Beverages\", \"Beverages\", \"Beverages\", \"Beverages\", \"Beverages\", \"Beverages\", \"Beverages\", \"Beverages\", \"Beverages\", \"Beverages\", \"Beverages\", \"Beverages\", \"Beverages\", \"Beverages\", \"Beverages\", \"Beverages\", \"Beverages\", \"Beverages\", \"Beverages\", \"Beverages\", \"Beverages\", \"Beverages\", \"Beverages\", \"Beverages\", \"Beverages\", \"Beverages\", \"Coffee & Tea\", \"Coffee & Tea\", \"Coffee & Tea\", \"Coffee & Tea\", \"Coffee & Tea\", \"Coffee & Tea\", \"Coffee & Tea\", \"Coffee & Tea\", \"Coffee & Tea\", \"Coffee & Tea\", \"Coffee & Tea\", \"Coffee & Tea\", \"Coffee & Tea\", \"Coffee & Tea\", \"Coffee & Tea\", \"Coffee & Tea\", \"Coffee & Tea\", \"Coffee & Tea\", \"Coffee & Tea\", \"Coffee & Tea\", \"Coffee & Tea\", \"Coffee & Tea\", \"Coffee & Tea\", \"Coffee & Tea\", \"Coffee & Tea\", \"Coffee & Tea\", \"Coffee & Tea\", \"Coffee & Tea\", \"Coffee & Tea\", \"Coffee & Tea\", \"Coffee & Tea\", \"Coffee & Tea\", \"Coffee & Tea\", \"Coffee & Tea\", \"Coffee & Tea\", \"Coffee & Tea\", \"Coffee & Tea\", \"Coffee & Tea\", \"Coffee & Tea\", \"Coffee & Tea\", \"Coffee & Tea\", \"Coffee & Tea\", \"Coffee & Tea\", \"Coffee & Tea\", \"Coffee & Tea\", \"Coffee & Tea\", \"Coffee & Tea\", \"Coffee & Tea\", \"Coffee & Tea\", \"Coffee & Tea\", \"Coffee & Tea\", \"Coffee & Tea\", \"Coffee & Tea\", \"Coffee & Tea\", \"Coffee & Tea\", \"Coffee & Tea\", \"Coffee & Tea\", \"Coffee & Tea\", \"Coffee & Tea\", \"Coffee & Tea\", \"Coffee & Tea\", \"Coffee & Tea\", \"Coffee & Tea\", \"Coffee & Tea\", \"Coffee & Tea\", \"Coffee & Tea\", \"Coffee & Tea\", \"Coffee & Tea\", \"Coffee & Tea\", \"Coffee & Tea\", \"Coffee & Tea\", \"Coffee & Tea\", \"Coffee & Tea\", \"Coffee & Tea\", \"Coffee & Tea\", \"Coffee & Tea\", \"Coffee & Tea\", \"Coffee & Tea\", \"Coffee & Tea\", \"Coffee & Tea\", \"Coffee & Tea\", \"Coffee & Tea\", \"Coffee & Tea\", \"Coffee & Tea\", \"Coffee & Tea\", \"Coffee & Tea\", \"Coffee & Tea\", \"Coffee & Tea\", \"Coffee & Tea\", \"Coffee & Tea\", \"Coffee & Tea\", \"Coffee & Tea\", \"Coffee & Tea\", \"Coffee & Tea\", \"Coffee & Tea\", \"Smoothies & Shakes\", \"Smoothies & Shakes\", \"Smoothies & Shakes\", \"Smoothies & Shakes\", \"Smoothies & Shakes\", \"Smoothies & Shakes\", \"Smoothies & Shakes\", \"Smoothies & Shakes\", \"Smoothies & Shakes\", \"Smoothies & Shakes\", \"Smoothies & Shakes\", \"Smoothies & Shakes\", \"Smoothies & Shakes\", \"Smoothies & Shakes\", \"Smoothies & Shakes\", \"Smoothies & Shakes\", \"Smoothies & Shakes\", \"Smoothies & Shakes\", \"Smoothies & Shakes\", \"Smoothies & Shakes\", \"Smoothies & Shakes\", \"Smoothies & Shakes\", \"Smoothies & Shakes\", \"Smoothies & Shakes\", \"Smoothies & Shakes\", \"Smoothies & Shakes\", \"Smoothies & Shakes\", \"Smoothies & Shakes\"], \"y\": [\"Egg McMuffin\", \"Egg White Delight\", \"Sausage McMuffin\", \"Sausage McMuffin with Egg\", \"Sausage McMuffin with Egg Whites\", \"Steak & Egg McMuffin\", \"Bacon, Egg & Cheese Biscuit (Regular Biscuit)\", \"Bacon, Egg & Cheese Biscuit (Large Biscuit)\", \"Bacon, Egg & Cheese Biscuit with Egg Whites (Regular Biscuit)\", \"Bacon, Egg & Cheese Biscuit with Egg Whites (Large Biscuit)\", \"Sausage Biscuit (Regular Biscuit)\", \"Sausage Biscuit (Large Biscuit)\", \"Sausage Biscuit with Egg (Regular Biscuit)\", \"Sausage Biscuit with Egg (Large Biscuit)\", \"Sausage Biscuit with Egg Whites (Regular Biscuit)\", \"Sausage Biscuit with Egg Whites (Large Biscuit)\", \"Southern Style Chicken Biscuit (Regular Biscuit)\", \"Southern Style Chicken Biscuit (Large Biscuit)\", \"Steak & Egg Biscuit (Regular Biscuit)\", \"Bacon, Egg & Cheese McGriddles\", \"Bacon, Egg & Cheese McGriddles with Egg Whites\", \"Sausage McGriddles\", \"Sausage, Egg & Cheese McGriddles\", \"Sausage, Egg & Cheese McGriddles with Egg Whites\", \"Bacon, Egg & Cheese Bagel\", \"Bacon, Egg & Cheese Bagel with Egg Whites\", \"Steak, Egg & Cheese Bagel\", \"Big Breakfast (Regular Biscuit)\", \"Big Breakfast (Large Biscuit)\", \"Big Breakfast with Egg Whites (Regular Biscuit)\", \"Big Breakfast with Egg Whites (Large Biscuit)\", \"Big Breakfast with Hotcakes (Regular Biscuit)\", \"Big Breakfast with Hotcakes (Large Biscuit)\", \"Big Breakfast with Hotcakes and Egg Whites (Regular Biscuit)\", \"Big Breakfast with Hotcakes and Egg Whites (Large Biscuit)\", \"Hotcakes\", \"Hotcakes and Sausage\", \"Sausage Burrito\", \"Hash Brown\", \"Cinnamon Melts\", \"Fruit & Maple Oatmeal\", \"Fruit & Maple Oatmeal without Brown Sugar\", \"Big Mac\", \"Quarter Pounder with Cheese\", \"Quarter Pounder with Bacon & Cheese\", \"Quarter Pounder with Bacon Habanero Ranch\", \"Quarter Pounder Deluxe\", \"Double Quarter Pounder with Cheese\", \"Hamburger\", \"Cheeseburger\", \"Double Cheeseburger\", \"Bacon Clubhouse Burger\", \"McDouble\", \"Bacon McDouble\", \"Daily Double\", \"Jalape\\u00f1o Double\", \"McRib\", \"Premium Crispy Chicken Classic Sandwich\", \"Premium Grilled Chicken Classic Sandwich\", \"Premium Crispy Chicken Club Sandwich\", \"Premium Grilled Chicken Club Sandwich\", \"Premium Crispy Chicken Ranch BLT Sandwich\", \"Premium Grilled Chicken Ranch BLT Sandwich\", \"Bacon Clubhouse Crispy Chicken Sandwich\", \"Bacon Clubhouse Grilled Chicken Sandwich\", \"Southern Style Crispy Chicken Sandwich\", \"McChicken\", \"Bacon Cheddar McChicken\", \"Bacon Buffalo Ranch McChicken\", \"Buffalo Ranch McChicken\", \"Premium McWrap Chicken & Bacon (Crispy Chicken)\", \"Premium McWrap Chicken & Bacon (Grilled Chicken)\", \"Premium McWrap Chicken & Ranch (Crispy Chicken)\", \"Premium McWrap Chicken & Ranch (Grilled Chicken)\", \"Premium McWrap Southwest Chicken (Crispy Chicken)\", \"Premium McWrap Southwest Chicken (Grilled Chicken)\", \"Premium McWrap Chicken Sweet Chili (Crispy Chicken)\", \"Premium McWrap Chicken Sweet Chili (Grilled Chicken)\", \"Chicken McNuggets (4 piece)\", \"Chicken McNuggets (6 piece)\", \"Chicken McNuggets (10 piece)\", \"Chicken McNuggets (20 piece)\", \"Chicken McNuggets (40 piece)\", \"Filet-O-Fish\", \"Premium Bacon Ranch Salad (without Chicken)\", \"Premium Bacon Ranch Salad with Crispy Chicken\", \"Premium Bacon Ranch Salad with Grilled Chicken\", \"Premium Southwest Salad (without Chicken)\", \"Premium Southwest Salad with Crispy Chicken\", \"Premium Southwest Salad with Grilled Chicken\", \"Chipotle BBQ Snack Wrap (Crispy Chicken)\", \"Chipotle BBQ Snack Wrap (Grilled Chicken)\", \"Honey Mustard Snack Wrap (Crispy Chicken)\", \"Honey Mustard Snack Wrap (Grilled Chicken)\", \"Ranch Snack Wrap (Crispy Chicken)\", \"Ranch Snack Wrap (Grilled Chicken)\", \"Small French Fries\", \"Medium French Fries\", \"Large French Fries\", \"Kids French Fries\", \"Side Salad\", \"Apple Slices\", \"Fruit 'n Yogurt Parfait\", \"Baked Apple Pie\", \"Chocolate Chip Cookie\", \"Oatmeal Raisin Cookie\", \"Kids Ice Cream Cone\", \"Hot Fudge Sundae\", \"Hot Caramel Sundae\", \"Strawberry Sundae\", \"Coca-Cola Classic (Small)\", \"Coca-Cola Classic (Medium)\", \"Coca-Cola Classic (Large)\", \"Coca-Cola Classic (Child)\", \"Diet Coke (Small)\", \"Diet Coke (Medium)\", \"Diet Coke (Large)\", \"Diet Coke (Child)\", \"Dr Pepper (Small)\", \"Dr Pepper (Medium)\", \"Dr Pepper (Large)\", \"Dr Pepper (Child)\", \"Diet Dr Pepper (Small)\", \"Diet Dr Pepper (Medium)\", \"Diet Dr Pepper (Large)\", \"Diet Dr Pepper (Child)\", \"Sprite (Small)\", \"Sprite (Medium)\", \"Sprite (Large)\", \"Sprite (Child)\", \"1% Low Fat Milk Jug\", \"Fat Free Chocolate Milk Jug\", \"Minute Maid 100% Apple Juice Box\", \"Minute Maid Orange Juice (Small)\", \"Minute Maid Orange Juice (Medium)\", \"Minute Maid Orange Juice (Large)\", \"Dasani Water Bottle\", \"Iced Tea (Small)\", \"Iced Tea (Medium)\", \"Iced Tea (Large)\", \"Iced Tea (Child)\", \"Sweet Tea (Small)\", \"Sweet Tea (Medium)\", \"Sweet Tea (Large)\", \"Sweet Tea (Child)\", \"Coffee (Small)\", \"Coffee (Medium)\", \"Coffee (Large)\", \"Latte (Small)\", \"Latte (Medium)\", \"Latte (Large)\", \"Caramel Latte (Small)\", \"Caramel Latte (Medium)\", \"Caramel Latte (Large)\", \"Hazelnut Latte (Small)\", \"Hazelnut Latte (Medium)\", \"Hazelnut Latte (Large)\", \"French Vanilla Latte (Small)\", \"French Vanilla Latte (Medium)\", \"French Vanilla Latte (Large)\", \"Latte with Sugar Free French Vanilla Syrup (Small)\", \"Latte with Sugar Free French Vanilla Syrup (Medium)\", \"Latte with Sugar Free French Vanilla Syrup (Large)\", \"Nonfat Latte (Small)\", \"Nonfat Latte (Medium)\", \"Nonfat Latte (Large)\", \"Nonfat Caramel Latte (Small)\", \"Nonfat Caramel Latte (Medium)\", \"Nonfat Caramel Latte (Large)\", \"Nonfat Hazelnut Latte (Small)\", \"Nonfat Hazelnut Latte (Medium)\", \"Nonfat Hazelnut Latte (Large)\", \"Nonfat French Vanilla Latte (Small)\", \"Nonfat French Vanilla Latte (Medium)\", \"Nonfat French Vanilla Latte (Large)\", \"Nonfat Latte with Sugar Free French Vanilla Syrup (Small)\", \"Nonfat Latte with Sugar Free French Vanilla Syrup (Medium)\", \"Nonfat Latte with Sugar Free French Vanilla Syrup (Large)\", \"Mocha (Small)\", \"Mocha (Medium)\", \"Mocha (Large)\", \"Mocha with Nonfat Milk (Small)\", \"Mocha with Nonfat Milk (Medium)\", \"Mocha with Nonfat Milk (Large)\", \"Caramel Mocha (Small)\", \"Caramel Mocha (Medium)\", \"Caramel Mocha (Large)\", \"Nonfat Caramel Mocha (Small)\", \"Nonfat Caramel Mocha (Medium)\", \"Nonfat Caramel Mocha (Large)\", \"Hot Chocolate (Small)\", \"Hot Chocolate (Medium)\", \"Hot Chocolate (Large)\", \"Hot Chocolate with Nonfat Milk (Small)\", \"Hot Chocolate with Nonfat Milk (Medium)\", \"Hot Chocolate with Nonfat Milk (Large)\", \"Regular Iced Coffee (Small)\", \"Regular Iced Coffee (Medium)\", \"Regular Iced Coffee (Large)\", \"Caramel Iced Coffee (Small)\", \"Caramel Iced Coffee (Medium)\", \"Caramel Iced Coffee (Large)\", \"Hazelnut Iced Coffee (Small)\", \"Hazelnut Iced Coffee (Medium)\", \"Hazelnut Iced Coffee (Large)\", \"French Vanilla Iced Coffee (Small)\", \"French Vanilla Iced Coffee (Medium)\", \"French Vanilla Iced Coffee (Large)\", \"Iced Coffee with Sugar Free French Vanilla Syrup (Small)\", \"Iced Coffee with Sugar Free French Vanilla Syrup (Medium)\", \"Iced Coffee with Sugar Free French Vanilla Syrup (Large)\", \"Iced Mocha (Small)\", \"Iced Mocha (Medium)\", \"Iced Mocha (Large)\", \"Iced Mocha with Nonfat Milk (Small)\", \"Iced Mocha with Nonfat Milk (Medium)\", \"Iced Mocha with Nonfat Milk (Large)\", \"Iced Caramel Mocha (Small)\", \"Iced Caramel Mocha (Medium)\", \"Iced Caramel Mocha (Large)\", \"Iced Nonfat Caramel Mocha (Small)\", \"Iced Nonfat Caramel Mocha (Medium)\", \"Iced Nonfat Caramel Mocha (Large)\", \"Frapp\\u00e9 Mocha (Small)\", \"Frapp\\u00e9 Mocha (Medium)\", \"Frapp\\u00e9 Mocha (Large)\", \"Frapp\\u00e9 Caramel (Small)\", \"Frapp\\u00e9 Caramel (Medium)\", \"Frapp\\u00e9 Caramel (Large)\", \"Frapp\\u00e9 Chocolate Chip (Small)\", \"Frapp\\u00e9 Chocolate Chip (Medium)\", \"Frapp\\u00e9 Chocolate Chip (Large)\", \"Blueberry Pomegranate Smoothie (Small)\", \"Blueberry Pomegranate Smoothie (Medium)\", \"Blueberry Pomegranate Smoothie (Large)\", \"Strawberry Banana Smoothie (Small)\", \"Strawberry Banana Smoothie (Medium)\", \"Strawberry Banana Smoothie (Large)\", \"Mango Pineapple Smoothie (Small)\", \"Mango Pineapple Smoothie (Medium)\", \"Mango Pineapple Smoothie (Large)\", \"Vanilla Shake (Small)\", \"Vanilla Shake (Medium)\", \"Vanilla Shake (Large)\", \"Strawberry Shake (Small)\", \"Strawberry Shake (Medium)\", \"Strawberry Shake (Large)\", \"Chocolate Shake (Small)\", \"Chocolate Shake (Medium)\", \"Chocolate Shake (Large)\", \"Shamrock Shake (Medium)\", \"Shamrock Shake (Large)\", \"McFlurry with M&M\\u2019s Candies (Small)\", \"McFlurry with M&M\\u2019s Candies (Medium)\", \"McFlurry with M&M\\u2019s Candies (Snack)\", \"McFlurry with Oreo Cookies (Small)\", \"McFlurry with Oreo Cookies (Medium)\", \"McFlurry with Oreo Cookies (Snack)\", \"McFlurry with Reese's Peanut Butter Cups (Medium)\", \"McFlurry with Reese's Peanut Butter Cups (Snack)\"], \"z\": [20, 12, 35, 43, 35, 36, 40, 47, 32, 38, 42, 48, 50, 57, 42, 49, 31, 37, 49, 32, 24, 34, 48, 40, 48, 39, 53, 73, 80, 57, 63, 87, 93, 70, 77, 13, 37, 25, 14, 30, 6, 6, 42, 41, 45, 48, 42, 66, 12, 18, 32, 62, 26, 34, 35, 36, 40, 33, 13, 51, 31, 43, 23, 59, 39, 29, 25, 38, 32, 25, 49, 28, 47, 27, 51, 31, 35, 15, 18, 27, 45, 91, 182, 29, 11, 33, 13, 7, 33, 13, 23, 13, 23, 13, 30, 20, 17, 24, 37, 8, 0, 0, 3, 19, 12, 9, 2, 14, 12, 10, 0, 0, 0, 0, 0, 0, 0, 0, 0, 0, 0, 0, 0, 0, 0, 0, 0, 0, 0, 0, 4, 0, 0, 0, 0, 0, 0, 0, 0, 0, 0, 0, 0, 0, 0, 0, 0, 0, 13, 16, 21, 13, 16, 21, 13, 16, 21, 13, 16, 21, 13, 16, 21, 0, 0, 1, 0, 0, 1, 0, 0, 1, 0, 0, 1, 0, 0, 1, 18, 21, 26, 5, 6, 6, 17, 21, 26, 5, 5, 6, 21, 25, 31, 5, 5, 6, 7, 11, 14, 7, 11, 14, 7, 11, 14, 7, 11, 14, 7, 11, 14, 17, 19, 25, 8, 8, 9, 17, 19, 25, 8, 8, 8, 28, 34, 41, 29, 35, 42, 35, 41, 48, 1, 1, 2, 1, 1, 2, 1, 1, 2, 24, 29, 35, 25, 30, 36, 25, 30, 36, 29, 35, 35, 50, 24, 26, 35, 17, 50, 25]}],\n",
       "                        {\"height\": 800, \"template\": {\"data\": {\"bar\": [{\"error_x\": {\"color\": \"#2a3f5f\"}, \"error_y\": {\"color\": \"#2a3f5f\"}, \"marker\": {\"line\": {\"color\": \"#E5ECF6\", \"width\": 0.5}}, \"type\": \"bar\"}], \"barpolar\": [{\"marker\": {\"line\": {\"color\": \"#E5ECF6\", \"width\": 0.5}}, \"type\": \"barpolar\"}], \"carpet\": [{\"aaxis\": {\"endlinecolor\": \"#2a3f5f\", \"gridcolor\": \"white\", \"linecolor\": \"white\", \"minorgridcolor\": \"white\", \"startlinecolor\": \"#2a3f5f\"}, \"baxis\": {\"endlinecolor\": \"#2a3f5f\", \"gridcolor\": \"white\", \"linecolor\": \"white\", \"minorgridcolor\": \"white\", \"startlinecolor\": \"#2a3f5f\"}, \"type\": \"carpet\"}], \"choropleth\": [{\"colorbar\": {\"outlinewidth\": 0, \"ticks\": \"\"}, \"type\": \"choropleth\"}], \"contour\": [{\"colorbar\": {\"outlinewidth\": 0, \"ticks\": \"\"}, \"colorscale\": [[0.0, \"#0d0887\"], [0.1111111111111111, \"#46039f\"], [0.2222222222222222, \"#7201a8\"], [0.3333333333333333, \"#9c179e\"], [0.4444444444444444, \"#bd3786\"], [0.5555555555555556, \"#d8576b\"], [0.6666666666666666, \"#ed7953\"], [0.7777777777777778, \"#fb9f3a\"], [0.8888888888888888, \"#fdca26\"], [1.0, \"#f0f921\"]], \"type\": \"contour\"}], \"contourcarpet\": [{\"colorbar\": {\"outlinewidth\": 0, \"ticks\": \"\"}, \"type\": \"contourcarpet\"}], \"heatmap\": [{\"colorbar\": {\"outlinewidth\": 0, \"ticks\": \"\"}, \"colorscale\": [[0.0, \"#0d0887\"], [0.1111111111111111, \"#46039f\"], [0.2222222222222222, \"#7201a8\"], [0.3333333333333333, \"#9c179e\"], [0.4444444444444444, \"#bd3786\"], [0.5555555555555556, \"#d8576b\"], [0.6666666666666666, \"#ed7953\"], [0.7777777777777778, \"#fb9f3a\"], [0.8888888888888888, \"#fdca26\"], [1.0, \"#f0f921\"]], \"type\": \"heatmap\"}], \"heatmapgl\": [{\"colorbar\": {\"outlinewidth\": 0, \"ticks\": \"\"}, \"colorscale\": [[0.0, \"#0d0887\"], [0.1111111111111111, \"#46039f\"], [0.2222222222222222, \"#7201a8\"], [0.3333333333333333, \"#9c179e\"], [0.4444444444444444, \"#bd3786\"], [0.5555555555555556, \"#d8576b\"], [0.6666666666666666, \"#ed7953\"], [0.7777777777777778, \"#fb9f3a\"], [0.8888888888888888, \"#fdca26\"], [1.0, \"#f0f921\"]], \"type\": \"heatmapgl\"}], \"histogram\": [{\"marker\": {\"colorbar\": {\"outlinewidth\": 0, \"ticks\": \"\"}}, \"type\": \"histogram\"}], \"histogram2d\": [{\"colorbar\": {\"outlinewidth\": 0, \"ticks\": \"\"}, \"colorscale\": [[0.0, \"#0d0887\"], [0.1111111111111111, \"#46039f\"], [0.2222222222222222, \"#7201a8\"], [0.3333333333333333, \"#9c179e\"], [0.4444444444444444, \"#bd3786\"], [0.5555555555555556, \"#d8576b\"], [0.6666666666666666, \"#ed7953\"], [0.7777777777777778, \"#fb9f3a\"], [0.8888888888888888, \"#fdca26\"], [1.0, \"#f0f921\"]], \"type\": \"histogram2d\"}], \"histogram2dcontour\": [{\"colorbar\": {\"outlinewidth\": 0, \"ticks\": \"\"}, \"colorscale\": [[0.0, \"#0d0887\"], [0.1111111111111111, \"#46039f\"], [0.2222222222222222, \"#7201a8\"], [0.3333333333333333, \"#9c179e\"], [0.4444444444444444, \"#bd3786\"], [0.5555555555555556, \"#d8576b\"], [0.6666666666666666, \"#ed7953\"], [0.7777777777777778, \"#fb9f3a\"], [0.8888888888888888, \"#fdca26\"], [1.0, \"#f0f921\"]], \"type\": \"histogram2dcontour\"}], \"mesh3d\": [{\"colorbar\": {\"outlinewidth\": 0, \"ticks\": \"\"}, \"type\": \"mesh3d\"}], \"parcoords\": [{\"line\": {\"colorbar\": {\"outlinewidth\": 0, \"ticks\": \"\"}}, \"type\": \"parcoords\"}], \"pie\": [{\"automargin\": true, \"type\": \"pie\"}], \"scatter\": [{\"marker\": {\"colorbar\": {\"outlinewidth\": 0, \"ticks\": \"\"}}, \"type\": \"scatter\"}], \"scatter3d\": [{\"line\": {\"colorbar\": {\"outlinewidth\": 0, \"ticks\": \"\"}}, \"marker\": {\"colorbar\": {\"outlinewidth\": 0, \"ticks\": \"\"}}, \"type\": \"scatter3d\"}], \"scattercarpet\": [{\"marker\": {\"colorbar\": {\"outlinewidth\": 0, \"ticks\": \"\"}}, \"type\": \"scattercarpet\"}], \"scattergeo\": [{\"marker\": {\"colorbar\": {\"outlinewidth\": 0, \"ticks\": \"\"}}, \"type\": \"scattergeo\"}], \"scattergl\": [{\"marker\": {\"colorbar\": {\"outlinewidth\": 0, \"ticks\": \"\"}}, \"type\": \"scattergl\"}], \"scattermapbox\": [{\"marker\": {\"colorbar\": {\"outlinewidth\": 0, \"ticks\": \"\"}}, \"type\": \"scattermapbox\"}], \"scatterpolar\": [{\"marker\": {\"colorbar\": {\"outlinewidth\": 0, \"ticks\": \"\"}}, \"type\": \"scatterpolar\"}], \"scatterpolargl\": [{\"marker\": {\"colorbar\": {\"outlinewidth\": 0, \"ticks\": \"\"}}, \"type\": \"scatterpolargl\"}], \"scatterternary\": [{\"marker\": {\"colorbar\": {\"outlinewidth\": 0, \"ticks\": \"\"}}, \"type\": \"scatterternary\"}], \"surface\": [{\"colorbar\": {\"outlinewidth\": 0, \"ticks\": \"\"}, \"colorscale\": [[0.0, \"#0d0887\"], [0.1111111111111111, \"#46039f\"], [0.2222222222222222, \"#7201a8\"], [0.3333333333333333, \"#9c179e\"], [0.4444444444444444, \"#bd3786\"], [0.5555555555555556, \"#d8576b\"], [0.6666666666666666, \"#ed7953\"], [0.7777777777777778, \"#fb9f3a\"], [0.8888888888888888, \"#fdca26\"], [1.0, \"#f0f921\"]], \"type\": \"surface\"}], \"table\": [{\"cells\": {\"fill\": {\"color\": \"#EBF0F8\"}, \"line\": {\"color\": \"white\"}}, \"header\": {\"fill\": {\"color\": \"#C8D4E3\"}, \"line\": {\"color\": \"white\"}}, \"type\": \"table\"}]}, \"layout\": {\"annotationdefaults\": {\"arrowcolor\": \"#2a3f5f\", \"arrowhead\": 0, \"arrowwidth\": 1}, \"coloraxis\": {\"colorbar\": {\"outlinewidth\": 0, \"ticks\": \"\"}}, \"colorscale\": {\"diverging\": [[0, \"#8e0152\"], [0.1, \"#c51b7d\"], [0.2, \"#de77ae\"], [0.3, \"#f1b6da\"], [0.4, \"#fde0ef\"], [0.5, \"#f7f7f7\"], [0.6, \"#e6f5d0\"], [0.7, \"#b8e186\"], [0.8, \"#7fbc41\"], [0.9, \"#4d9221\"], [1, \"#276419\"]], \"sequential\": [[0.0, \"#0d0887\"], [0.1111111111111111, \"#46039f\"], [0.2222222222222222, \"#7201a8\"], [0.3333333333333333, \"#9c179e\"], [0.4444444444444444, \"#bd3786\"], [0.5555555555555556, \"#d8576b\"], [0.6666666666666666, \"#ed7953\"], [0.7777777777777778, \"#fb9f3a\"], [0.8888888888888888, \"#fdca26\"], [1.0, \"#f0f921\"]], \"sequentialminus\": [[0.0, \"#0d0887\"], [0.1111111111111111, \"#46039f\"], [0.2222222222222222, \"#7201a8\"], [0.3333333333333333, \"#9c179e\"], [0.4444444444444444, \"#bd3786\"], [0.5555555555555556, \"#d8576b\"], [0.6666666666666666, \"#ed7953\"], [0.7777777777777778, \"#fb9f3a\"], [0.8888888888888888, \"#fdca26\"], [1.0, \"#f0f921\"]]}, \"colorway\": [\"#636efa\", \"#EF553B\", \"#00cc96\", \"#ab63fa\", \"#FFA15A\", \"#19d3f3\", \"#FF6692\", \"#B6E880\", \"#FF97FF\", \"#FECB52\"], \"font\": {\"color\": \"#2a3f5f\"}, \"geo\": {\"bgcolor\": \"white\", \"lakecolor\": \"white\", \"landcolor\": \"#E5ECF6\", \"showlakes\": true, \"showland\": true, \"subunitcolor\": \"white\"}, \"hoverlabel\": {\"align\": \"left\"}, \"hovermode\": \"closest\", \"mapbox\": {\"style\": \"light\"}, \"paper_bgcolor\": \"white\", \"plot_bgcolor\": \"#E5ECF6\", \"polar\": {\"angularaxis\": {\"gridcolor\": \"white\", \"linecolor\": \"white\", \"ticks\": \"\"}, \"bgcolor\": \"#E5ECF6\", \"radialaxis\": {\"gridcolor\": \"white\", \"linecolor\": \"white\", \"ticks\": \"\"}}, \"scene\": {\"xaxis\": {\"backgroundcolor\": \"#E5ECF6\", \"gridcolor\": \"white\", \"gridwidth\": 2, \"linecolor\": \"white\", \"showbackground\": true, \"ticks\": \"\", \"zerolinecolor\": \"white\"}, \"yaxis\": {\"backgroundcolor\": \"#E5ECF6\", \"gridcolor\": \"white\", \"gridwidth\": 2, \"linecolor\": \"white\", \"showbackground\": true, \"ticks\": \"\", \"zerolinecolor\": \"white\"}, \"zaxis\": {\"backgroundcolor\": \"#E5ECF6\", \"gridcolor\": \"white\", \"gridwidth\": 2, \"linecolor\": \"white\", \"showbackground\": true, \"ticks\": \"\", \"zerolinecolor\": \"white\"}}, \"shapedefaults\": {\"line\": {\"color\": \"#2a3f5f\"}}, \"ternary\": {\"aaxis\": {\"gridcolor\": \"white\", \"linecolor\": \"white\", \"ticks\": \"\"}, \"baxis\": {\"gridcolor\": \"white\", \"linecolor\": \"white\", \"ticks\": \"\"}, \"bgcolor\": \"#E5ECF6\", \"caxis\": {\"gridcolor\": \"white\", \"linecolor\": \"white\", \"ticks\": \"\"}}, \"title\": {\"x\": 0.05}, \"xaxis\": {\"automargin\": true, \"gridcolor\": \"white\", \"linecolor\": \"white\", \"ticks\": \"\", \"title\": {\"standoff\": 15}, \"zerolinecolor\": \"white\", \"zerolinewidth\": 2}, \"yaxis\": {\"automargin\": true, \"gridcolor\": \"white\", \"linecolor\": \"white\", \"ticks\": \"\", \"title\": {\"standoff\": 15}, \"zerolinecolor\": \"white\", \"zerolinewidth\": 2}}}, \"title\": {\"text\": \"3D Scatter Plot of Carbohydrates (% Daily Value)\"}, \"width\": 800},\n",
       "                        {\"responsive\": true}\n",
       "                    ).then(function(){\n",
       "                            \n",
       "var gd = document.getElementById('185d2394-1c61-453b-b78d-243c5de3e2c5');\n",
       "var x = new MutationObserver(function (mutations, observer) {{\n",
       "        var display = window.getComputedStyle(gd).display;\n",
       "        if (!display || display === 'none') {{\n",
       "            console.log([gd, 'removed!']);\n",
       "            Plotly.purge(gd);\n",
       "            observer.disconnect();\n",
       "        }}\n",
       "}});\n",
       "\n",
       "// Listen for the removal of the full notebook cells\n",
       "var notebookContainer = gd.closest('#notebook-container');\n",
       "if (notebookContainer) {{\n",
       "    x.observe(notebookContainer, {childList: true});\n",
       "}}\n",
       "\n",
       "// Listen for the clearing of the current output cell\n",
       "var outputEl = gd.closest('.output');\n",
       "if (outputEl) {{\n",
       "    x.observe(outputEl, {childList: true});\n",
       "}}\n",
       "\n",
       "                        })\n",
       "                };\n",
       "                });\n",
       "            </script>\n",
       "        </div>"
      ]
     },
     "metadata": {},
     "output_type": "display_data"
    },
    {
     "data": {
      "application/vnd.plotly.v1+json": {
       "config": {
        "linkText": "Export to plot.ly",
        "plotlyServerURL": "https://plot.ly",
        "showLink": false
       },
       "data": [
        {
         "marker": {
          "color": [
           10,
           10,
           10,
           10,
           10,
           10,
           13,
           14,
           12,
           14,
           11,
           13,
           12,
           14,
           11,
           13,
           14,
           15,
           13,
           16,
           16,
           15,
           16,
           15,
           19,
           18,
           19,
           17,
           19,
           17,
           18,
           37,
           39,
           37,
           38,
           20,
           20,
           9,
           5,
           22,
           19,
           16,
           16,
           14,
           16,
           15,
           15,
           14,
           11,
           11,
           12,
           17,
           11,
           12,
           11,
           12,
           15,
           18,
           14,
           19,
           15,
           19,
           14,
           22,
           17,
           14,
           13,
           14,
           14,
           13,
           19,
           14,
           19,
           14,
           23,
           18,
           20,
           16,
           4,
           6,
           10,
           20,
           39,
           13,
           3,
           7,
           3,
           7,
           14,
           9,
           12,
           10,
           11,
           9,
           11,
           8,
           10,
           15,
           22,
           5,
           1,
           1,
           10,
           11,
           7,
           7,
           2,
           18,
           20,
           16,
           13,
           18,
           25,
           9,
           0,
           0,
           0,
           0,
           12,
           18,
           24,
           9,
           0,
           0,
           0,
           0,
           12,
           18,
           25,
           9,
           4,
           8,
           7,
           11,
           15,
           22,
           0,
           0,
           0,
           0,
           0,
           12,
           15,
           18,
           9,
           0,
           0,
           0,
           5,
           6,
           8,
           13,
           17,
           21,
           13,
           17,
           21,
           13,
           16,
           20,
           8,
           10,
           12,
           5,
           6,
           8,
           14,
           17,
           21,
           13,
           17,
           21,
           13,
           16,
           20,
           8,
           10,
           13,
           16,
           20,
           24,
           16,
           20,
           24,
           15,
           18,
           22,
           15,
           19,
           22,
           17,
           20,
           24,
           17,
           20,
           25,
           8,
           10,
           16,
           7,
           10,
           14,
           7,
           10,
           14,
           7,
           9,
           14,
           3,
           4,
           6,
           14,
           17,
           23,
           14,
           17,
           24,
           13,
           15,
           22,
           13,
           16,
           22,
           22,
           27,
           33,
           21,
           26,
           32,
           25,
           30,
           37,
           17,
           21,
           26,
           16,
           19,
           25,
           17,
           20,
           26,
           29,
           36,
           45,
           30,
           38,
           47,
           30,
           38,
           47,
           36,
           45,
           32,
           46,
           21,
           27,
           35,
           18,
           38,
           19
          ],
          "colorbar": {
           "title": {
            "text": "Carbohydrates (% Daily Value)"
           }
          },
          "colorscale": [
           [
            0,
            "rgb(12,51,131)"
           ],
           [
            0.25,
            "rgb(10,136,186)"
           ],
           [
            0.5,
            "rgb(242,211,56)"
           ],
           [
            0.75,
            "rgb(242,143,56)"
           ],
           [
            1,
            "rgb(217,30,30)"
           ]
          ],
          "line": {
           "color": "rgb(255, 255, 255)"
          },
          "sizemode": "diameter"
         },
         "mode": "markers",
         "text": [
          "Egg McMuffin",
          "Egg White Delight",
          "Sausage McMuffin",
          "Sausage McMuffin with Egg",
          "Sausage McMuffin with Egg Whites",
          "Steak & Egg McMuffin",
          "Bacon, Egg & Cheese Biscuit (Regular Biscuit)",
          "Bacon, Egg & Cheese Biscuit (Large Biscuit)",
          "Bacon, Egg & Cheese Biscuit with Egg Whites (Regular Biscuit)",
          "Bacon, Egg & Cheese Biscuit with Egg Whites (Large Biscuit)",
          "Sausage Biscuit (Regular Biscuit)",
          "Sausage Biscuit (Large Biscuit)",
          "Sausage Biscuit with Egg (Regular Biscuit)",
          "Sausage Biscuit with Egg (Large Biscuit)",
          "Sausage Biscuit with Egg Whites (Regular Biscuit)",
          "Sausage Biscuit with Egg Whites (Large Biscuit)",
          "Southern Style Chicken Biscuit (Regular Biscuit)",
          "Southern Style Chicken Biscuit (Large Biscuit)",
          "Steak & Egg Biscuit (Regular Biscuit)",
          "Bacon, Egg & Cheese McGriddles",
          "Bacon, Egg & Cheese McGriddles with Egg Whites",
          "Sausage McGriddles",
          "Sausage, Egg & Cheese McGriddles",
          "Sausage, Egg & Cheese McGriddles with Egg Whites",
          "Bacon, Egg & Cheese Bagel",
          "Bacon, Egg & Cheese Bagel with Egg Whites",
          "Steak, Egg & Cheese Bagel",
          "Big Breakfast (Regular Biscuit)",
          "Big Breakfast (Large Biscuit)",
          "Big Breakfast with Egg Whites (Regular Biscuit)",
          "Big Breakfast with Egg Whites (Large Biscuit)",
          "Big Breakfast with Hotcakes (Regular Biscuit)",
          "Big Breakfast with Hotcakes (Large Biscuit)",
          "Big Breakfast with Hotcakes and Egg Whites (Regular Biscuit)",
          "Big Breakfast with Hotcakes and Egg Whites (Large Biscuit)",
          "Hotcakes",
          "Hotcakes and Sausage",
          "Sausage Burrito",
          "Hash Brown",
          "Cinnamon Melts",
          "Fruit & Maple Oatmeal",
          "Fruit & Maple Oatmeal without Brown Sugar",
          "Big Mac",
          "Quarter Pounder with Cheese",
          "Quarter Pounder with Bacon & Cheese",
          "Quarter Pounder with Bacon Habanero Ranch",
          "Quarter Pounder Deluxe",
          "Double Quarter Pounder with Cheese",
          "Hamburger",
          "Cheeseburger",
          "Double Cheeseburger",
          "Bacon Clubhouse Burger",
          "McDouble",
          "Bacon McDouble",
          "Daily Double",
          "Jalapeño Double",
          "McRib",
          "Premium Crispy Chicken Classic Sandwich",
          "Premium Grilled Chicken Classic Sandwich",
          "Premium Crispy Chicken Club Sandwich",
          "Premium Grilled Chicken Club Sandwich",
          "Premium Crispy Chicken Ranch BLT Sandwich",
          "Premium Grilled Chicken Ranch BLT Sandwich",
          "Bacon Clubhouse Crispy Chicken Sandwich",
          "Bacon Clubhouse Grilled Chicken Sandwich",
          "Southern Style Crispy Chicken Sandwich",
          "McChicken",
          "Bacon Cheddar McChicken",
          "Bacon Buffalo Ranch McChicken",
          "Buffalo Ranch McChicken",
          "Premium McWrap Chicken & Bacon (Crispy Chicken)",
          "Premium McWrap Chicken & Bacon (Grilled Chicken)",
          "Premium McWrap Chicken & Ranch (Crispy Chicken)",
          "Premium McWrap Chicken & Ranch (Grilled Chicken)",
          "Premium McWrap Southwest Chicken (Crispy Chicken)",
          "Premium McWrap Southwest Chicken (Grilled Chicken)",
          "Premium McWrap Chicken Sweet Chili (Crispy Chicken)",
          "Premium McWrap Chicken Sweet Chili (Grilled Chicken)",
          "Chicken McNuggets (4 piece)",
          "Chicken McNuggets (6 piece)",
          "Chicken McNuggets (10 piece)",
          "Chicken McNuggets (20 piece)",
          "Chicken McNuggets (40 piece)",
          "Filet-O-Fish",
          "Premium Bacon Ranch Salad (without Chicken)",
          "Premium Bacon Ranch Salad with Crispy Chicken",
          "Premium Bacon Ranch Salad with Grilled Chicken",
          "Premium Southwest Salad (without Chicken)",
          "Premium Southwest Salad with Crispy Chicken",
          "Premium Southwest Salad with Grilled Chicken",
          "Chipotle BBQ Snack Wrap (Crispy Chicken)",
          "Chipotle BBQ Snack Wrap (Grilled Chicken)",
          "Honey Mustard Snack Wrap (Crispy Chicken)",
          "Honey Mustard Snack Wrap (Grilled Chicken)",
          "Ranch Snack Wrap (Crispy Chicken)",
          "Ranch Snack Wrap (Grilled Chicken)",
          "Small French Fries",
          "Medium French Fries",
          "Large French Fries",
          "Kids French Fries",
          "Side Salad",
          "Apple Slices",
          "Fruit 'n Yogurt Parfait",
          "Baked Apple Pie",
          "Chocolate Chip Cookie",
          "Oatmeal Raisin Cookie",
          "Kids Ice Cream Cone",
          "Hot Fudge Sundae",
          "Hot Caramel Sundae",
          "Strawberry Sundae",
          "Coca-Cola Classic (Small)",
          "Coca-Cola Classic (Medium)",
          "Coca-Cola Classic (Large)",
          "Coca-Cola Classic (Child)",
          "Diet Coke (Small)",
          "Diet Coke (Medium)",
          "Diet Coke (Large)",
          "Diet Coke (Child)",
          "Dr Pepper (Small)",
          "Dr Pepper (Medium)",
          "Dr Pepper (Large)",
          "Dr Pepper (Child)",
          "Diet Dr Pepper (Small)",
          "Diet Dr Pepper (Medium)",
          "Diet Dr Pepper (Large)",
          "Diet Dr Pepper (Child)",
          "Sprite (Small)",
          "Sprite (Medium)",
          "Sprite (Large)",
          "Sprite (Child)",
          "1% Low Fat Milk Jug",
          "Fat Free Chocolate Milk Jug",
          "Minute Maid 100% Apple Juice Box",
          "Minute Maid Orange Juice (Small)",
          "Minute Maid Orange Juice (Medium)",
          "Minute Maid Orange Juice (Large)",
          "Dasani Water Bottle",
          "Iced Tea (Small)",
          "Iced Tea (Medium)",
          "Iced Tea (Large)",
          "Iced Tea (Child)",
          "Sweet Tea (Small)",
          "Sweet Tea (Medium)",
          "Sweet Tea (Large)",
          "Sweet Tea (Child)",
          "Coffee (Small)",
          "Coffee (Medium)",
          "Coffee (Large)",
          "Latte (Small)",
          "Latte (Medium)",
          "Latte (Large)",
          "Caramel Latte (Small)",
          "Caramel Latte (Medium)",
          "Caramel Latte (Large)",
          "Hazelnut Latte (Small)",
          "Hazelnut Latte (Medium)",
          "Hazelnut Latte (Large)",
          "French Vanilla Latte (Small)",
          "French Vanilla Latte (Medium)",
          "French Vanilla Latte (Large)",
          "Latte with Sugar Free French Vanilla Syrup (Small)",
          "Latte with Sugar Free French Vanilla Syrup (Medium)",
          "Latte with Sugar Free French Vanilla Syrup (Large)",
          "Nonfat Latte (Small)",
          "Nonfat Latte (Medium)",
          "Nonfat Latte (Large)",
          "Nonfat Caramel Latte (Small)",
          "Nonfat Caramel Latte (Medium)",
          "Nonfat Caramel Latte (Large)",
          "Nonfat Hazelnut Latte (Small)",
          "Nonfat Hazelnut Latte (Medium)",
          "Nonfat Hazelnut Latte (Large)",
          "Nonfat French Vanilla Latte (Small)",
          "Nonfat French Vanilla Latte (Medium)",
          "Nonfat French Vanilla Latte (Large)",
          "Nonfat Latte with Sugar Free French Vanilla Syrup (Small)",
          "Nonfat Latte with Sugar Free French Vanilla Syrup (Medium)",
          "Nonfat Latte with Sugar Free French Vanilla Syrup (Large)",
          "Mocha (Small)",
          "Mocha (Medium)",
          "Mocha (Large)",
          "Mocha with Nonfat Milk (Small)",
          "Mocha with Nonfat Milk (Medium)",
          "Mocha with Nonfat Milk (Large)",
          "Caramel Mocha (Small)",
          "Caramel Mocha (Medium)",
          "Caramel Mocha (Large)",
          "Nonfat Caramel Mocha (Small)",
          "Nonfat Caramel Mocha (Medium)",
          "Nonfat Caramel Mocha (Large)",
          "Hot Chocolate (Small)",
          "Hot Chocolate (Medium)",
          "Hot Chocolate (Large)",
          "Hot Chocolate with Nonfat Milk (Small)",
          "Hot Chocolate with Nonfat Milk (Medium)",
          "Hot Chocolate with Nonfat Milk (Large)",
          "Regular Iced Coffee (Small)",
          "Regular Iced Coffee (Medium)",
          "Regular Iced Coffee (Large)",
          "Caramel Iced Coffee (Small)",
          "Caramel Iced Coffee (Medium)",
          "Caramel Iced Coffee (Large)",
          "Hazelnut Iced Coffee (Small)",
          "Hazelnut Iced Coffee (Medium)",
          "Hazelnut Iced Coffee (Large)",
          "French Vanilla Iced Coffee (Small)",
          "French Vanilla Iced Coffee (Medium)",
          "French Vanilla Iced Coffee (Large)",
          "Iced Coffee with Sugar Free French Vanilla Syrup (Small)",
          "Iced Coffee with Sugar Free French Vanilla Syrup (Medium)",
          "Iced Coffee with Sugar Free French Vanilla Syrup (Large)",
          "Iced Mocha (Small)",
          "Iced Mocha (Medium)",
          "Iced Mocha (Large)",
          "Iced Mocha with Nonfat Milk (Small)",
          "Iced Mocha with Nonfat Milk (Medium)",
          "Iced Mocha with Nonfat Milk (Large)",
          "Iced Caramel Mocha (Small)",
          "Iced Caramel Mocha (Medium)",
          "Iced Caramel Mocha (Large)",
          "Iced Nonfat Caramel Mocha (Small)",
          "Iced Nonfat Caramel Mocha (Medium)",
          "Iced Nonfat Caramel Mocha (Large)",
          "Frappé Mocha (Small)",
          "Frappé Mocha (Medium)",
          "Frappé Mocha (Large)",
          "Frappé Caramel (Small)",
          "Frappé Caramel (Medium)",
          "Frappé Caramel (Large)",
          "Frappé Chocolate Chip (Small)",
          "Frappé Chocolate Chip (Medium)",
          "Frappé Chocolate Chip (Large)",
          "Blueberry Pomegranate Smoothie (Small)",
          "Blueberry Pomegranate Smoothie (Medium)",
          "Blueberry Pomegranate Smoothie (Large)",
          "Strawberry Banana Smoothie (Small)",
          "Strawberry Banana Smoothie (Medium)",
          "Strawberry Banana Smoothie (Large)",
          "Mango Pineapple Smoothie (Small)",
          "Mango Pineapple Smoothie (Medium)",
          "Mango Pineapple Smoothie (Large)",
          "Vanilla Shake (Small)",
          "Vanilla Shake (Medium)",
          "Vanilla Shake (Large)",
          "Strawberry Shake (Small)",
          "Strawberry Shake (Medium)",
          "Strawberry Shake (Large)",
          "Chocolate Shake (Small)",
          "Chocolate Shake (Medium)",
          "Chocolate Shake (Large)",
          "Shamrock Shake (Medium)",
          "Shamrock Shake (Large)",
          "McFlurry with M&M’s Candies (Small)",
          "McFlurry with M&M’s Candies (Medium)",
          "McFlurry with M&M’s Candies (Snack)",
          "McFlurry with Oreo Cookies (Small)",
          "McFlurry with Oreo Cookies (Medium)",
          "McFlurry with Oreo Cookies (Snack)",
          "McFlurry with Reese's Peanut Butter Cups (Medium)",
          "McFlurry with Reese's Peanut Butter Cups (Snack)"
         ],
         "type": "scatter3d",
         "x": [
          "Breakfast",
          "Breakfast",
          "Breakfast",
          "Breakfast",
          "Breakfast",
          "Breakfast",
          "Breakfast",
          "Breakfast",
          "Breakfast",
          "Breakfast",
          "Breakfast",
          "Breakfast",
          "Breakfast",
          "Breakfast",
          "Breakfast",
          "Breakfast",
          "Breakfast",
          "Breakfast",
          "Breakfast",
          "Breakfast",
          "Breakfast",
          "Breakfast",
          "Breakfast",
          "Breakfast",
          "Breakfast",
          "Breakfast",
          "Breakfast",
          "Breakfast",
          "Breakfast",
          "Breakfast",
          "Breakfast",
          "Breakfast",
          "Breakfast",
          "Breakfast",
          "Breakfast",
          "Breakfast",
          "Breakfast",
          "Breakfast",
          "Breakfast",
          "Breakfast",
          "Breakfast",
          "Breakfast",
          "Beef & Pork",
          "Beef & Pork",
          "Beef & Pork",
          "Beef & Pork",
          "Beef & Pork",
          "Beef & Pork",
          "Beef & Pork",
          "Beef & Pork",
          "Beef & Pork",
          "Beef & Pork",
          "Beef & Pork",
          "Beef & Pork",
          "Beef & Pork",
          "Beef & Pork",
          "Beef & Pork",
          "Chicken & Fish",
          "Chicken & Fish",
          "Chicken & Fish",
          "Chicken & Fish",
          "Chicken & Fish",
          "Chicken & Fish",
          "Chicken & Fish",
          "Chicken & Fish",
          "Chicken & Fish",
          "Chicken & Fish",
          "Chicken & Fish",
          "Chicken & Fish",
          "Chicken & Fish",
          "Chicken & Fish",
          "Chicken & Fish",
          "Chicken & Fish",
          "Chicken & Fish",
          "Chicken & Fish",
          "Chicken & Fish",
          "Chicken & Fish",
          "Chicken & Fish",
          "Chicken & Fish",
          "Chicken & Fish",
          "Chicken & Fish",
          "Chicken & Fish",
          "Chicken & Fish",
          "Chicken & Fish",
          "Salads",
          "Salads",
          "Salads",
          "Salads",
          "Salads",
          "Salads",
          "Snacks & Sides",
          "Snacks & Sides",
          "Snacks & Sides",
          "Snacks & Sides",
          "Snacks & Sides",
          "Snacks & Sides",
          "Snacks & Sides",
          "Snacks & Sides",
          "Snacks & Sides",
          "Snacks & Sides",
          "Snacks & Sides",
          "Snacks & Sides",
          "Snacks & Sides",
          "Desserts",
          "Desserts",
          "Desserts",
          "Desserts",
          "Desserts",
          "Desserts",
          "Desserts",
          "Beverages",
          "Beverages",
          "Beverages",
          "Beverages",
          "Beverages",
          "Beverages",
          "Beverages",
          "Beverages",
          "Beverages",
          "Beverages",
          "Beverages",
          "Beverages",
          "Beverages",
          "Beverages",
          "Beverages",
          "Beverages",
          "Beverages",
          "Beverages",
          "Beverages",
          "Beverages",
          "Beverages",
          "Beverages",
          "Beverages",
          "Beverages",
          "Beverages",
          "Beverages",
          "Beverages",
          "Coffee & Tea",
          "Coffee & Tea",
          "Coffee & Tea",
          "Coffee & Tea",
          "Coffee & Tea",
          "Coffee & Tea",
          "Coffee & Tea",
          "Coffee & Tea",
          "Coffee & Tea",
          "Coffee & Tea",
          "Coffee & Tea",
          "Coffee & Tea",
          "Coffee & Tea",
          "Coffee & Tea",
          "Coffee & Tea",
          "Coffee & Tea",
          "Coffee & Tea",
          "Coffee & Tea",
          "Coffee & Tea",
          "Coffee & Tea",
          "Coffee & Tea",
          "Coffee & Tea",
          "Coffee & Tea",
          "Coffee & Tea",
          "Coffee & Tea",
          "Coffee & Tea",
          "Coffee & Tea",
          "Coffee & Tea",
          "Coffee & Tea",
          "Coffee & Tea",
          "Coffee & Tea",
          "Coffee & Tea",
          "Coffee & Tea",
          "Coffee & Tea",
          "Coffee & Tea",
          "Coffee & Tea",
          "Coffee & Tea",
          "Coffee & Tea",
          "Coffee & Tea",
          "Coffee & Tea",
          "Coffee & Tea",
          "Coffee & Tea",
          "Coffee & Tea",
          "Coffee & Tea",
          "Coffee & Tea",
          "Coffee & Tea",
          "Coffee & Tea",
          "Coffee & Tea",
          "Coffee & Tea",
          "Coffee & Tea",
          "Coffee & Tea",
          "Coffee & Tea",
          "Coffee & Tea",
          "Coffee & Tea",
          "Coffee & Tea",
          "Coffee & Tea",
          "Coffee & Tea",
          "Coffee & Tea",
          "Coffee & Tea",
          "Coffee & Tea",
          "Coffee & Tea",
          "Coffee & Tea",
          "Coffee & Tea",
          "Coffee & Tea",
          "Coffee & Tea",
          "Coffee & Tea",
          "Coffee & Tea",
          "Coffee & Tea",
          "Coffee & Tea",
          "Coffee & Tea",
          "Coffee & Tea",
          "Coffee & Tea",
          "Coffee & Tea",
          "Coffee & Tea",
          "Coffee & Tea",
          "Coffee & Tea",
          "Coffee & Tea",
          "Coffee & Tea",
          "Coffee & Tea",
          "Coffee & Tea",
          "Coffee & Tea",
          "Coffee & Tea",
          "Coffee & Tea",
          "Coffee & Tea",
          "Coffee & Tea",
          "Coffee & Tea",
          "Coffee & Tea",
          "Coffee & Tea",
          "Coffee & Tea",
          "Coffee & Tea",
          "Coffee & Tea",
          "Coffee & Tea",
          "Coffee & Tea",
          "Coffee & Tea",
          "Coffee & Tea",
          "Smoothies & Shakes",
          "Smoothies & Shakes",
          "Smoothies & Shakes",
          "Smoothies & Shakes",
          "Smoothies & Shakes",
          "Smoothies & Shakes",
          "Smoothies & Shakes",
          "Smoothies & Shakes",
          "Smoothies & Shakes",
          "Smoothies & Shakes",
          "Smoothies & Shakes",
          "Smoothies & Shakes",
          "Smoothies & Shakes",
          "Smoothies & Shakes",
          "Smoothies & Shakes",
          "Smoothies & Shakes",
          "Smoothies & Shakes",
          "Smoothies & Shakes",
          "Smoothies & Shakes",
          "Smoothies & Shakes",
          "Smoothies & Shakes",
          "Smoothies & Shakes",
          "Smoothies & Shakes",
          "Smoothies & Shakes",
          "Smoothies & Shakes",
          "Smoothies & Shakes",
          "Smoothies & Shakes",
          "Smoothies & Shakes"
         ],
         "y": [
          "Egg McMuffin",
          "Egg White Delight",
          "Sausage McMuffin",
          "Sausage McMuffin with Egg",
          "Sausage McMuffin with Egg Whites",
          "Steak & Egg McMuffin",
          "Bacon, Egg & Cheese Biscuit (Regular Biscuit)",
          "Bacon, Egg & Cheese Biscuit (Large Biscuit)",
          "Bacon, Egg & Cheese Biscuit with Egg Whites (Regular Biscuit)",
          "Bacon, Egg & Cheese Biscuit with Egg Whites (Large Biscuit)",
          "Sausage Biscuit (Regular Biscuit)",
          "Sausage Biscuit (Large Biscuit)",
          "Sausage Biscuit with Egg (Regular Biscuit)",
          "Sausage Biscuit with Egg (Large Biscuit)",
          "Sausage Biscuit with Egg Whites (Regular Biscuit)",
          "Sausage Biscuit with Egg Whites (Large Biscuit)",
          "Southern Style Chicken Biscuit (Regular Biscuit)",
          "Southern Style Chicken Biscuit (Large Biscuit)",
          "Steak & Egg Biscuit (Regular Biscuit)",
          "Bacon, Egg & Cheese McGriddles",
          "Bacon, Egg & Cheese McGriddles with Egg Whites",
          "Sausage McGriddles",
          "Sausage, Egg & Cheese McGriddles",
          "Sausage, Egg & Cheese McGriddles with Egg Whites",
          "Bacon, Egg & Cheese Bagel",
          "Bacon, Egg & Cheese Bagel with Egg Whites",
          "Steak, Egg & Cheese Bagel",
          "Big Breakfast (Regular Biscuit)",
          "Big Breakfast (Large Biscuit)",
          "Big Breakfast with Egg Whites (Regular Biscuit)",
          "Big Breakfast with Egg Whites (Large Biscuit)",
          "Big Breakfast with Hotcakes (Regular Biscuit)",
          "Big Breakfast with Hotcakes (Large Biscuit)",
          "Big Breakfast with Hotcakes and Egg Whites (Regular Biscuit)",
          "Big Breakfast with Hotcakes and Egg Whites (Large Biscuit)",
          "Hotcakes",
          "Hotcakes and Sausage",
          "Sausage Burrito",
          "Hash Brown",
          "Cinnamon Melts",
          "Fruit & Maple Oatmeal",
          "Fruit & Maple Oatmeal without Brown Sugar",
          "Big Mac",
          "Quarter Pounder with Cheese",
          "Quarter Pounder with Bacon & Cheese",
          "Quarter Pounder with Bacon Habanero Ranch",
          "Quarter Pounder Deluxe",
          "Double Quarter Pounder with Cheese",
          "Hamburger",
          "Cheeseburger",
          "Double Cheeseburger",
          "Bacon Clubhouse Burger",
          "McDouble",
          "Bacon McDouble",
          "Daily Double",
          "Jalapeño Double",
          "McRib",
          "Premium Crispy Chicken Classic Sandwich",
          "Premium Grilled Chicken Classic Sandwich",
          "Premium Crispy Chicken Club Sandwich",
          "Premium Grilled Chicken Club Sandwich",
          "Premium Crispy Chicken Ranch BLT Sandwich",
          "Premium Grilled Chicken Ranch BLT Sandwich",
          "Bacon Clubhouse Crispy Chicken Sandwich",
          "Bacon Clubhouse Grilled Chicken Sandwich",
          "Southern Style Crispy Chicken Sandwich",
          "McChicken",
          "Bacon Cheddar McChicken",
          "Bacon Buffalo Ranch McChicken",
          "Buffalo Ranch McChicken",
          "Premium McWrap Chicken & Bacon (Crispy Chicken)",
          "Premium McWrap Chicken & Bacon (Grilled Chicken)",
          "Premium McWrap Chicken & Ranch (Crispy Chicken)",
          "Premium McWrap Chicken & Ranch (Grilled Chicken)",
          "Premium McWrap Southwest Chicken (Crispy Chicken)",
          "Premium McWrap Southwest Chicken (Grilled Chicken)",
          "Premium McWrap Chicken Sweet Chili (Crispy Chicken)",
          "Premium McWrap Chicken Sweet Chili (Grilled Chicken)",
          "Chicken McNuggets (4 piece)",
          "Chicken McNuggets (6 piece)",
          "Chicken McNuggets (10 piece)",
          "Chicken McNuggets (20 piece)",
          "Chicken McNuggets (40 piece)",
          "Filet-O-Fish",
          "Premium Bacon Ranch Salad (without Chicken)",
          "Premium Bacon Ranch Salad with Crispy Chicken",
          "Premium Bacon Ranch Salad with Grilled Chicken",
          "Premium Southwest Salad (without Chicken)",
          "Premium Southwest Salad with Crispy Chicken",
          "Premium Southwest Salad with Grilled Chicken",
          "Chipotle BBQ Snack Wrap (Crispy Chicken)",
          "Chipotle BBQ Snack Wrap (Grilled Chicken)",
          "Honey Mustard Snack Wrap (Crispy Chicken)",
          "Honey Mustard Snack Wrap (Grilled Chicken)",
          "Ranch Snack Wrap (Crispy Chicken)",
          "Ranch Snack Wrap (Grilled Chicken)",
          "Small French Fries",
          "Medium French Fries",
          "Large French Fries",
          "Kids French Fries",
          "Side Salad",
          "Apple Slices",
          "Fruit 'n Yogurt Parfait",
          "Baked Apple Pie",
          "Chocolate Chip Cookie",
          "Oatmeal Raisin Cookie",
          "Kids Ice Cream Cone",
          "Hot Fudge Sundae",
          "Hot Caramel Sundae",
          "Strawberry Sundae",
          "Coca-Cola Classic (Small)",
          "Coca-Cola Classic (Medium)",
          "Coca-Cola Classic (Large)",
          "Coca-Cola Classic (Child)",
          "Diet Coke (Small)",
          "Diet Coke (Medium)",
          "Diet Coke (Large)",
          "Diet Coke (Child)",
          "Dr Pepper (Small)",
          "Dr Pepper (Medium)",
          "Dr Pepper (Large)",
          "Dr Pepper (Child)",
          "Diet Dr Pepper (Small)",
          "Diet Dr Pepper (Medium)",
          "Diet Dr Pepper (Large)",
          "Diet Dr Pepper (Child)",
          "Sprite (Small)",
          "Sprite (Medium)",
          "Sprite (Large)",
          "Sprite (Child)",
          "1% Low Fat Milk Jug",
          "Fat Free Chocolate Milk Jug",
          "Minute Maid 100% Apple Juice Box",
          "Minute Maid Orange Juice (Small)",
          "Minute Maid Orange Juice (Medium)",
          "Minute Maid Orange Juice (Large)",
          "Dasani Water Bottle",
          "Iced Tea (Small)",
          "Iced Tea (Medium)",
          "Iced Tea (Large)",
          "Iced Tea (Child)",
          "Sweet Tea (Small)",
          "Sweet Tea (Medium)",
          "Sweet Tea (Large)",
          "Sweet Tea (Child)",
          "Coffee (Small)",
          "Coffee (Medium)",
          "Coffee (Large)",
          "Latte (Small)",
          "Latte (Medium)",
          "Latte (Large)",
          "Caramel Latte (Small)",
          "Caramel Latte (Medium)",
          "Caramel Latte (Large)",
          "Hazelnut Latte (Small)",
          "Hazelnut Latte (Medium)",
          "Hazelnut Latte (Large)",
          "French Vanilla Latte (Small)",
          "French Vanilla Latte (Medium)",
          "French Vanilla Latte (Large)",
          "Latte with Sugar Free French Vanilla Syrup (Small)",
          "Latte with Sugar Free French Vanilla Syrup (Medium)",
          "Latte with Sugar Free French Vanilla Syrup (Large)",
          "Nonfat Latte (Small)",
          "Nonfat Latte (Medium)",
          "Nonfat Latte (Large)",
          "Nonfat Caramel Latte (Small)",
          "Nonfat Caramel Latte (Medium)",
          "Nonfat Caramel Latte (Large)",
          "Nonfat Hazelnut Latte (Small)",
          "Nonfat Hazelnut Latte (Medium)",
          "Nonfat Hazelnut Latte (Large)",
          "Nonfat French Vanilla Latte (Small)",
          "Nonfat French Vanilla Latte (Medium)",
          "Nonfat French Vanilla Latte (Large)",
          "Nonfat Latte with Sugar Free French Vanilla Syrup (Small)",
          "Nonfat Latte with Sugar Free French Vanilla Syrup (Medium)",
          "Nonfat Latte with Sugar Free French Vanilla Syrup (Large)",
          "Mocha (Small)",
          "Mocha (Medium)",
          "Mocha (Large)",
          "Mocha with Nonfat Milk (Small)",
          "Mocha with Nonfat Milk (Medium)",
          "Mocha with Nonfat Milk (Large)",
          "Caramel Mocha (Small)",
          "Caramel Mocha (Medium)",
          "Caramel Mocha (Large)",
          "Nonfat Caramel Mocha (Small)",
          "Nonfat Caramel Mocha (Medium)",
          "Nonfat Caramel Mocha (Large)",
          "Hot Chocolate (Small)",
          "Hot Chocolate (Medium)",
          "Hot Chocolate (Large)",
          "Hot Chocolate with Nonfat Milk (Small)",
          "Hot Chocolate with Nonfat Milk (Medium)",
          "Hot Chocolate with Nonfat Milk (Large)",
          "Regular Iced Coffee (Small)",
          "Regular Iced Coffee (Medium)",
          "Regular Iced Coffee (Large)",
          "Caramel Iced Coffee (Small)",
          "Caramel Iced Coffee (Medium)",
          "Caramel Iced Coffee (Large)",
          "Hazelnut Iced Coffee (Small)",
          "Hazelnut Iced Coffee (Medium)",
          "Hazelnut Iced Coffee (Large)",
          "French Vanilla Iced Coffee (Small)",
          "French Vanilla Iced Coffee (Medium)",
          "French Vanilla Iced Coffee (Large)",
          "Iced Coffee with Sugar Free French Vanilla Syrup (Small)",
          "Iced Coffee with Sugar Free French Vanilla Syrup (Medium)",
          "Iced Coffee with Sugar Free French Vanilla Syrup (Large)",
          "Iced Mocha (Small)",
          "Iced Mocha (Medium)",
          "Iced Mocha (Large)",
          "Iced Mocha with Nonfat Milk (Small)",
          "Iced Mocha with Nonfat Milk (Medium)",
          "Iced Mocha with Nonfat Milk (Large)",
          "Iced Caramel Mocha (Small)",
          "Iced Caramel Mocha (Medium)",
          "Iced Caramel Mocha (Large)",
          "Iced Nonfat Caramel Mocha (Small)",
          "Iced Nonfat Caramel Mocha (Medium)",
          "Iced Nonfat Caramel Mocha (Large)",
          "Frappé Mocha (Small)",
          "Frappé Mocha (Medium)",
          "Frappé Mocha (Large)",
          "Frappé Caramel (Small)",
          "Frappé Caramel (Medium)",
          "Frappé Caramel (Large)",
          "Frappé Chocolate Chip (Small)",
          "Frappé Chocolate Chip (Medium)",
          "Frappé Chocolate Chip (Large)",
          "Blueberry Pomegranate Smoothie (Small)",
          "Blueberry Pomegranate Smoothie (Medium)",
          "Blueberry Pomegranate Smoothie (Large)",
          "Strawberry Banana Smoothie (Small)",
          "Strawberry Banana Smoothie (Medium)",
          "Strawberry Banana Smoothie (Large)",
          "Mango Pineapple Smoothie (Small)",
          "Mango Pineapple Smoothie (Medium)",
          "Mango Pineapple Smoothie (Large)",
          "Vanilla Shake (Small)",
          "Vanilla Shake (Medium)",
          "Vanilla Shake (Large)",
          "Strawberry Shake (Small)",
          "Strawberry Shake (Medium)",
          "Strawberry Shake (Large)",
          "Chocolate Shake (Small)",
          "Chocolate Shake (Medium)",
          "Chocolate Shake (Large)",
          "Shamrock Shake (Medium)",
          "Shamrock Shake (Large)",
          "McFlurry with M&M’s Candies (Small)",
          "McFlurry with M&M’s Candies (Medium)",
          "McFlurry with M&M’s Candies (Snack)",
          "McFlurry with Oreo Cookies (Small)",
          "McFlurry with Oreo Cookies (Medium)",
          "McFlurry with Oreo Cookies (Snack)",
          "McFlurry with Reese's Peanut Butter Cups (Medium)",
          "McFlurry with Reese's Peanut Butter Cups (Snack)"
         ],
         "z": [
          10,
          10,
          10,
          10,
          10,
          10,
          13,
          14,
          12,
          14,
          11,
          13,
          12,
          14,
          11,
          13,
          14,
          15,
          13,
          16,
          16,
          15,
          16,
          15,
          19,
          18,
          19,
          17,
          19,
          17,
          18,
          37,
          39,
          37,
          38,
          20,
          20,
          9,
          5,
          22,
          19,
          16,
          16,
          14,
          16,
          15,
          15,
          14,
          11,
          11,
          12,
          17,
          11,
          12,
          11,
          12,
          15,
          18,
          14,
          19,
          15,
          19,
          14,
          22,
          17,
          14,
          13,
          14,
          14,
          13,
          19,
          14,
          19,
          14,
          23,
          18,
          20,
          16,
          4,
          6,
          10,
          20,
          39,
          13,
          3,
          7,
          3,
          7,
          14,
          9,
          12,
          10,
          11,
          9,
          11,
          8,
          10,
          15,
          22,
          5,
          1,
          1,
          10,
          11,
          7,
          7,
          2,
          18,
          20,
          16,
          13,
          18,
          25,
          9,
          0,
          0,
          0,
          0,
          12,
          18,
          24,
          9,
          0,
          0,
          0,
          0,
          12,
          18,
          25,
          9,
          4,
          8,
          7,
          11,
          15,
          22,
          0,
          0,
          0,
          0,
          0,
          12,
          15,
          18,
          9,
          0,
          0,
          0,
          5,
          6,
          8,
          13,
          17,
          21,
          13,
          17,
          21,
          13,
          16,
          20,
          8,
          10,
          12,
          5,
          6,
          8,
          14,
          17,
          21,
          13,
          17,
          21,
          13,
          16,
          20,
          8,
          10,
          13,
          16,
          20,
          24,
          16,
          20,
          24,
          15,
          18,
          22,
          15,
          19,
          22,
          17,
          20,
          24,
          17,
          20,
          25,
          8,
          10,
          16,
          7,
          10,
          14,
          7,
          10,
          14,
          7,
          9,
          14,
          3,
          4,
          6,
          14,
          17,
          23,
          14,
          17,
          24,
          13,
          15,
          22,
          13,
          16,
          22,
          22,
          27,
          33,
          21,
          26,
          32,
          25,
          30,
          37,
          17,
          21,
          26,
          16,
          19,
          25,
          17,
          20,
          26,
          29,
          36,
          45,
          30,
          38,
          47,
          30,
          38,
          47,
          36,
          45,
          32,
          46,
          21,
          27,
          35,
          18,
          38,
          19
         ]
        }
       ],
       "layout": {
        "height": 800,
        "template": {
         "data": {
          "bar": [
           {
            "error_x": {
             "color": "#2a3f5f"
            },
            "error_y": {
             "color": "#2a3f5f"
            },
            "marker": {
             "line": {
              "color": "#E5ECF6",
              "width": 0.5
             }
            },
            "type": "bar"
           }
          ],
          "barpolar": [
           {
            "marker": {
             "line": {
              "color": "#E5ECF6",
              "width": 0.5
             }
            },
            "type": "barpolar"
           }
          ],
          "carpet": [
           {
            "aaxis": {
             "endlinecolor": "#2a3f5f",
             "gridcolor": "white",
             "linecolor": "white",
             "minorgridcolor": "white",
             "startlinecolor": "#2a3f5f"
            },
            "baxis": {
             "endlinecolor": "#2a3f5f",
             "gridcolor": "white",
             "linecolor": "white",
             "minorgridcolor": "white",
             "startlinecolor": "#2a3f5f"
            },
            "type": "carpet"
           }
          ],
          "choropleth": [
           {
            "colorbar": {
             "outlinewidth": 0,
             "ticks": ""
            },
            "type": "choropleth"
           }
          ],
          "contour": [
           {
            "colorbar": {
             "outlinewidth": 0,
             "ticks": ""
            },
            "colorscale": [
             [
              0,
              "#0d0887"
             ],
             [
              0.1111111111111111,
              "#46039f"
             ],
             [
              0.2222222222222222,
              "#7201a8"
             ],
             [
              0.3333333333333333,
              "#9c179e"
             ],
             [
              0.4444444444444444,
              "#bd3786"
             ],
             [
              0.5555555555555556,
              "#d8576b"
             ],
             [
              0.6666666666666666,
              "#ed7953"
             ],
             [
              0.7777777777777778,
              "#fb9f3a"
             ],
             [
              0.8888888888888888,
              "#fdca26"
             ],
             [
              1,
              "#f0f921"
             ]
            ],
            "type": "contour"
           }
          ],
          "contourcarpet": [
           {
            "colorbar": {
             "outlinewidth": 0,
             "ticks": ""
            },
            "type": "contourcarpet"
           }
          ],
          "heatmap": [
           {
            "colorbar": {
             "outlinewidth": 0,
             "ticks": ""
            },
            "colorscale": [
             [
              0,
              "#0d0887"
             ],
             [
              0.1111111111111111,
              "#46039f"
             ],
             [
              0.2222222222222222,
              "#7201a8"
             ],
             [
              0.3333333333333333,
              "#9c179e"
             ],
             [
              0.4444444444444444,
              "#bd3786"
             ],
             [
              0.5555555555555556,
              "#d8576b"
             ],
             [
              0.6666666666666666,
              "#ed7953"
             ],
             [
              0.7777777777777778,
              "#fb9f3a"
             ],
             [
              0.8888888888888888,
              "#fdca26"
             ],
             [
              1,
              "#f0f921"
             ]
            ],
            "type": "heatmap"
           }
          ],
          "heatmapgl": [
           {
            "colorbar": {
             "outlinewidth": 0,
             "ticks": ""
            },
            "colorscale": [
             [
              0,
              "#0d0887"
             ],
             [
              0.1111111111111111,
              "#46039f"
             ],
             [
              0.2222222222222222,
              "#7201a8"
             ],
             [
              0.3333333333333333,
              "#9c179e"
             ],
             [
              0.4444444444444444,
              "#bd3786"
             ],
             [
              0.5555555555555556,
              "#d8576b"
             ],
             [
              0.6666666666666666,
              "#ed7953"
             ],
             [
              0.7777777777777778,
              "#fb9f3a"
             ],
             [
              0.8888888888888888,
              "#fdca26"
             ],
             [
              1,
              "#f0f921"
             ]
            ],
            "type": "heatmapgl"
           }
          ],
          "histogram": [
           {
            "marker": {
             "colorbar": {
              "outlinewidth": 0,
              "ticks": ""
             }
            },
            "type": "histogram"
           }
          ],
          "histogram2d": [
           {
            "colorbar": {
             "outlinewidth": 0,
             "ticks": ""
            },
            "colorscale": [
             [
              0,
              "#0d0887"
             ],
             [
              0.1111111111111111,
              "#46039f"
             ],
             [
              0.2222222222222222,
              "#7201a8"
             ],
             [
              0.3333333333333333,
              "#9c179e"
             ],
             [
              0.4444444444444444,
              "#bd3786"
             ],
             [
              0.5555555555555556,
              "#d8576b"
             ],
             [
              0.6666666666666666,
              "#ed7953"
             ],
             [
              0.7777777777777778,
              "#fb9f3a"
             ],
             [
              0.8888888888888888,
              "#fdca26"
             ],
             [
              1,
              "#f0f921"
             ]
            ],
            "type": "histogram2d"
           }
          ],
          "histogram2dcontour": [
           {
            "colorbar": {
             "outlinewidth": 0,
             "ticks": ""
            },
            "colorscale": [
             [
              0,
              "#0d0887"
             ],
             [
              0.1111111111111111,
              "#46039f"
             ],
             [
              0.2222222222222222,
              "#7201a8"
             ],
             [
              0.3333333333333333,
              "#9c179e"
             ],
             [
              0.4444444444444444,
              "#bd3786"
             ],
             [
              0.5555555555555556,
              "#d8576b"
             ],
             [
              0.6666666666666666,
              "#ed7953"
             ],
             [
              0.7777777777777778,
              "#fb9f3a"
             ],
             [
              0.8888888888888888,
              "#fdca26"
             ],
             [
              1,
              "#f0f921"
             ]
            ],
            "type": "histogram2dcontour"
           }
          ],
          "mesh3d": [
           {
            "colorbar": {
             "outlinewidth": 0,
             "ticks": ""
            },
            "type": "mesh3d"
           }
          ],
          "parcoords": [
           {
            "line": {
             "colorbar": {
              "outlinewidth": 0,
              "ticks": ""
             }
            },
            "type": "parcoords"
           }
          ],
          "pie": [
           {
            "automargin": true,
            "type": "pie"
           }
          ],
          "scatter": [
           {
            "marker": {
             "colorbar": {
              "outlinewidth": 0,
              "ticks": ""
             }
            },
            "type": "scatter"
           }
          ],
          "scatter3d": [
           {
            "line": {
             "colorbar": {
              "outlinewidth": 0,
              "ticks": ""
             }
            },
            "marker": {
             "colorbar": {
              "outlinewidth": 0,
              "ticks": ""
             }
            },
            "type": "scatter3d"
           }
          ],
          "scattercarpet": [
           {
            "marker": {
             "colorbar": {
              "outlinewidth": 0,
              "ticks": ""
             }
            },
            "type": "scattercarpet"
           }
          ],
          "scattergeo": [
           {
            "marker": {
             "colorbar": {
              "outlinewidth": 0,
              "ticks": ""
             }
            },
            "type": "scattergeo"
           }
          ],
          "scattergl": [
           {
            "marker": {
             "colorbar": {
              "outlinewidth": 0,
              "ticks": ""
             }
            },
            "type": "scattergl"
           }
          ],
          "scattermapbox": [
           {
            "marker": {
             "colorbar": {
              "outlinewidth": 0,
              "ticks": ""
             }
            },
            "type": "scattermapbox"
           }
          ],
          "scatterpolar": [
           {
            "marker": {
             "colorbar": {
              "outlinewidth": 0,
              "ticks": ""
             }
            },
            "type": "scatterpolar"
           }
          ],
          "scatterpolargl": [
           {
            "marker": {
             "colorbar": {
              "outlinewidth": 0,
              "ticks": ""
             }
            },
            "type": "scatterpolargl"
           }
          ],
          "scatterternary": [
           {
            "marker": {
             "colorbar": {
              "outlinewidth": 0,
              "ticks": ""
             }
            },
            "type": "scatterternary"
           }
          ],
          "surface": [
           {
            "colorbar": {
             "outlinewidth": 0,
             "ticks": ""
            },
            "colorscale": [
             [
              0,
              "#0d0887"
             ],
             [
              0.1111111111111111,
              "#46039f"
             ],
             [
              0.2222222222222222,
              "#7201a8"
             ],
             [
              0.3333333333333333,
              "#9c179e"
             ],
             [
              0.4444444444444444,
              "#bd3786"
             ],
             [
              0.5555555555555556,
              "#d8576b"
             ],
             [
              0.6666666666666666,
              "#ed7953"
             ],
             [
              0.7777777777777778,
              "#fb9f3a"
             ],
             [
              0.8888888888888888,
              "#fdca26"
             ],
             [
              1,
              "#f0f921"
             ]
            ],
            "type": "surface"
           }
          ],
          "table": [
           {
            "cells": {
             "fill": {
              "color": "#EBF0F8"
             },
             "line": {
              "color": "white"
             }
            },
            "header": {
             "fill": {
              "color": "#C8D4E3"
             },
             "line": {
              "color": "white"
             }
            },
            "type": "table"
           }
          ]
         },
         "layout": {
          "annotationdefaults": {
           "arrowcolor": "#2a3f5f",
           "arrowhead": 0,
           "arrowwidth": 1
          },
          "coloraxis": {
           "colorbar": {
            "outlinewidth": 0,
            "ticks": ""
           }
          },
          "colorscale": {
           "diverging": [
            [
             0,
             "#8e0152"
            ],
            [
             0.1,
             "#c51b7d"
            ],
            [
             0.2,
             "#de77ae"
            ],
            [
             0.3,
             "#f1b6da"
            ],
            [
             0.4,
             "#fde0ef"
            ],
            [
             0.5,
             "#f7f7f7"
            ],
            [
             0.6,
             "#e6f5d0"
            ],
            [
             0.7,
             "#b8e186"
            ],
            [
             0.8,
             "#7fbc41"
            ],
            [
             0.9,
             "#4d9221"
            ],
            [
             1,
             "#276419"
            ]
           ],
           "sequential": [
            [
             0,
             "#0d0887"
            ],
            [
             0.1111111111111111,
             "#46039f"
            ],
            [
             0.2222222222222222,
             "#7201a8"
            ],
            [
             0.3333333333333333,
             "#9c179e"
            ],
            [
             0.4444444444444444,
             "#bd3786"
            ],
            [
             0.5555555555555556,
             "#d8576b"
            ],
            [
             0.6666666666666666,
             "#ed7953"
            ],
            [
             0.7777777777777778,
             "#fb9f3a"
            ],
            [
             0.8888888888888888,
             "#fdca26"
            ],
            [
             1,
             "#f0f921"
            ]
           ],
           "sequentialminus": [
            [
             0,
             "#0d0887"
            ],
            [
             0.1111111111111111,
             "#46039f"
            ],
            [
             0.2222222222222222,
             "#7201a8"
            ],
            [
             0.3333333333333333,
             "#9c179e"
            ],
            [
             0.4444444444444444,
             "#bd3786"
            ],
            [
             0.5555555555555556,
             "#d8576b"
            ],
            [
             0.6666666666666666,
             "#ed7953"
            ],
            [
             0.7777777777777778,
             "#fb9f3a"
            ],
            [
             0.8888888888888888,
             "#fdca26"
            ],
            [
             1,
             "#f0f921"
            ]
           ]
          },
          "colorway": [
           "#636efa",
           "#EF553B",
           "#00cc96",
           "#ab63fa",
           "#FFA15A",
           "#19d3f3",
           "#FF6692",
           "#B6E880",
           "#FF97FF",
           "#FECB52"
          ],
          "font": {
           "color": "#2a3f5f"
          },
          "geo": {
           "bgcolor": "white",
           "lakecolor": "white",
           "landcolor": "#E5ECF6",
           "showlakes": true,
           "showland": true,
           "subunitcolor": "white"
          },
          "hoverlabel": {
           "align": "left"
          },
          "hovermode": "closest",
          "mapbox": {
           "style": "light"
          },
          "paper_bgcolor": "white",
          "plot_bgcolor": "#E5ECF6",
          "polar": {
           "angularaxis": {
            "gridcolor": "white",
            "linecolor": "white",
            "ticks": ""
           },
           "bgcolor": "#E5ECF6",
           "radialaxis": {
            "gridcolor": "white",
            "linecolor": "white",
            "ticks": ""
           }
          },
          "scene": {
           "xaxis": {
            "backgroundcolor": "#E5ECF6",
            "gridcolor": "white",
            "gridwidth": 2,
            "linecolor": "white",
            "showbackground": true,
            "ticks": "",
            "zerolinecolor": "white"
           },
           "yaxis": {
            "backgroundcolor": "#E5ECF6",
            "gridcolor": "white",
            "gridwidth": 2,
            "linecolor": "white",
            "showbackground": true,
            "ticks": "",
            "zerolinecolor": "white"
           },
           "zaxis": {
            "backgroundcolor": "#E5ECF6",
            "gridcolor": "white",
            "gridwidth": 2,
            "linecolor": "white",
            "showbackground": true,
            "ticks": "",
            "zerolinecolor": "white"
           }
          },
          "shapedefaults": {
           "line": {
            "color": "#2a3f5f"
           }
          },
          "ternary": {
           "aaxis": {
            "gridcolor": "white",
            "linecolor": "white",
            "ticks": ""
           },
           "baxis": {
            "gridcolor": "white",
            "linecolor": "white",
            "ticks": ""
           },
           "bgcolor": "#E5ECF6",
           "caxis": {
            "gridcolor": "white",
            "linecolor": "white",
            "ticks": ""
           }
          },
          "title": {
           "x": 0.05
          },
          "xaxis": {
           "automargin": true,
           "gridcolor": "white",
           "linecolor": "white",
           "ticks": "",
           "title": {
            "standoff": 15
           },
           "zerolinecolor": "white",
           "zerolinewidth": 2
          },
          "yaxis": {
           "automargin": true,
           "gridcolor": "white",
           "linecolor": "white",
           "ticks": "",
           "title": {
            "standoff": 15
           },
           "zerolinecolor": "white",
           "zerolinewidth": 2
          }
         }
        },
        "title": {
         "text": "3D Scatter Plot of Carbohydrates (% Daily Value)"
        },
        "width": 800
       }
      },
      "text/html": [
       "<div>\n",
       "        \n",
       "        \n",
       "            <div id=\"4ccf7d14-bacd-4d89-8447-03f33f0e861b\" class=\"plotly-graph-div\" style=\"height:800px; width:800px;\"></div>\n",
       "            <script type=\"text/javascript\">\n",
       "                require([\"plotly\"], function(Plotly) {\n",
       "                    window.PLOTLYENV=window.PLOTLYENV || {};\n",
       "                    \n",
       "                if (document.getElementById(\"4ccf7d14-bacd-4d89-8447-03f33f0e861b\")) {\n",
       "                    Plotly.newPlot(\n",
       "                        '4ccf7d14-bacd-4d89-8447-03f33f0e861b',\n",
       "                        [{\"marker\": {\"color\": [10, 10, 10, 10, 10, 10, 13, 14, 12, 14, 11, 13, 12, 14, 11, 13, 14, 15, 13, 16, 16, 15, 16, 15, 19, 18, 19, 17, 19, 17, 18, 37, 39, 37, 38, 20, 20, 9, 5, 22, 19, 16, 16, 14, 16, 15, 15, 14, 11, 11, 12, 17, 11, 12, 11, 12, 15, 18, 14, 19, 15, 19, 14, 22, 17, 14, 13, 14, 14, 13, 19, 14, 19, 14, 23, 18, 20, 16, 4, 6, 10, 20, 39, 13, 3, 7, 3, 7, 14, 9, 12, 10, 11, 9, 11, 8, 10, 15, 22, 5, 1, 1, 10, 11, 7, 7, 2, 18, 20, 16, 13, 18, 25, 9, 0, 0, 0, 0, 12, 18, 24, 9, 0, 0, 0, 0, 12, 18, 25, 9, 4, 8, 7, 11, 15, 22, 0, 0, 0, 0, 0, 12, 15, 18, 9, 0, 0, 0, 5, 6, 8, 13, 17, 21, 13, 17, 21, 13, 16, 20, 8, 10, 12, 5, 6, 8, 14, 17, 21, 13, 17, 21, 13, 16, 20, 8, 10, 13, 16, 20, 24, 16, 20, 24, 15, 18, 22, 15, 19, 22, 17, 20, 24, 17, 20, 25, 8, 10, 16, 7, 10, 14, 7, 10, 14, 7, 9, 14, 3, 4, 6, 14, 17, 23, 14, 17, 24, 13, 15, 22, 13, 16, 22, 22, 27, 33, 21, 26, 32, 25, 30, 37, 17, 21, 26, 16, 19, 25, 17, 20, 26, 29, 36, 45, 30, 38, 47, 30, 38, 47, 36, 45, 32, 46, 21, 27, 35, 18, 38, 19], \"colorbar\": {\"title\": {\"text\": \"Carbohydrates (% Daily Value)\"}}, \"colorscale\": [[0.0, \"rgb(12,51,131)\"], [0.25, \"rgb(10,136,186)\"], [0.5, \"rgb(242,211,56)\"], [0.75, \"rgb(242,143,56)\"], [1.0, \"rgb(217,30,30)\"]], \"line\": {\"color\": \"rgb(255, 255, 255)\"}, \"sizemode\": \"diameter\"}, \"mode\": \"markers\", \"text\": [\"Egg McMuffin\", \"Egg White Delight\", \"Sausage McMuffin\", \"Sausage McMuffin with Egg\", \"Sausage McMuffin with Egg Whites\", \"Steak & Egg McMuffin\", \"Bacon, Egg & Cheese Biscuit (Regular Biscuit)\", \"Bacon, Egg & Cheese Biscuit (Large Biscuit)\", \"Bacon, Egg & Cheese Biscuit with Egg Whites (Regular Biscuit)\", \"Bacon, Egg & Cheese Biscuit with Egg Whites (Large Biscuit)\", \"Sausage Biscuit (Regular Biscuit)\", \"Sausage Biscuit (Large Biscuit)\", \"Sausage Biscuit with Egg (Regular Biscuit)\", \"Sausage Biscuit with Egg (Large Biscuit)\", \"Sausage Biscuit with Egg Whites (Regular Biscuit)\", \"Sausage Biscuit with Egg Whites (Large Biscuit)\", \"Southern Style Chicken Biscuit (Regular Biscuit)\", \"Southern Style Chicken Biscuit (Large Biscuit)\", \"Steak & Egg Biscuit (Regular Biscuit)\", \"Bacon, Egg & Cheese McGriddles\", \"Bacon, Egg & Cheese McGriddles with Egg Whites\", \"Sausage McGriddles\", \"Sausage, Egg & Cheese McGriddles\", \"Sausage, Egg & Cheese McGriddles with Egg Whites\", \"Bacon, Egg & Cheese Bagel\", \"Bacon, Egg & Cheese Bagel with Egg Whites\", \"Steak, Egg & Cheese Bagel\", \"Big Breakfast (Regular Biscuit)\", \"Big Breakfast (Large Biscuit)\", \"Big Breakfast with Egg Whites (Regular Biscuit)\", \"Big Breakfast with Egg Whites (Large Biscuit)\", \"Big Breakfast with Hotcakes (Regular Biscuit)\", \"Big Breakfast with Hotcakes (Large Biscuit)\", \"Big Breakfast with Hotcakes and Egg Whites (Regular Biscuit)\", \"Big Breakfast with Hotcakes and Egg Whites (Large Biscuit)\", \"Hotcakes\", \"Hotcakes and Sausage\", \"Sausage Burrito\", \"Hash Brown\", \"Cinnamon Melts\", \"Fruit & Maple Oatmeal\", \"Fruit & Maple Oatmeal without Brown Sugar\", \"Big Mac\", \"Quarter Pounder with Cheese\", \"Quarter Pounder with Bacon & Cheese\", \"Quarter Pounder with Bacon Habanero Ranch\", \"Quarter Pounder Deluxe\", \"Double Quarter Pounder with Cheese\", \"Hamburger\", \"Cheeseburger\", \"Double Cheeseburger\", \"Bacon Clubhouse Burger\", \"McDouble\", \"Bacon McDouble\", \"Daily Double\", \"Jalape\\u00f1o Double\", \"McRib\", \"Premium Crispy Chicken Classic Sandwich\", \"Premium Grilled Chicken Classic Sandwich\", \"Premium Crispy Chicken Club Sandwich\", \"Premium Grilled Chicken Club Sandwich\", \"Premium Crispy Chicken Ranch BLT Sandwich\", \"Premium Grilled Chicken Ranch BLT Sandwich\", \"Bacon Clubhouse Crispy Chicken Sandwich\", \"Bacon Clubhouse Grilled Chicken Sandwich\", \"Southern Style Crispy Chicken Sandwich\", \"McChicken\", \"Bacon Cheddar McChicken\", \"Bacon Buffalo Ranch McChicken\", \"Buffalo Ranch McChicken\", \"Premium McWrap Chicken & Bacon (Crispy Chicken)\", \"Premium McWrap Chicken & Bacon (Grilled Chicken)\", \"Premium McWrap Chicken & Ranch (Crispy Chicken)\", \"Premium McWrap Chicken & Ranch (Grilled Chicken)\", \"Premium McWrap Southwest Chicken (Crispy Chicken)\", \"Premium McWrap Southwest Chicken (Grilled Chicken)\", \"Premium McWrap Chicken Sweet Chili (Crispy Chicken)\", \"Premium McWrap Chicken Sweet Chili (Grilled Chicken)\", \"Chicken McNuggets (4 piece)\", \"Chicken McNuggets (6 piece)\", \"Chicken McNuggets (10 piece)\", \"Chicken McNuggets (20 piece)\", \"Chicken McNuggets (40 piece)\", \"Filet-O-Fish\", \"Premium Bacon Ranch Salad (without Chicken)\", \"Premium Bacon Ranch Salad with Crispy Chicken\", \"Premium Bacon Ranch Salad with Grilled Chicken\", \"Premium Southwest Salad (without Chicken)\", \"Premium Southwest Salad with Crispy Chicken\", \"Premium Southwest Salad with Grilled Chicken\", \"Chipotle BBQ Snack Wrap (Crispy Chicken)\", \"Chipotle BBQ Snack Wrap (Grilled Chicken)\", \"Honey Mustard Snack Wrap (Crispy Chicken)\", \"Honey Mustard Snack Wrap (Grilled Chicken)\", \"Ranch Snack Wrap (Crispy Chicken)\", \"Ranch Snack Wrap (Grilled Chicken)\", \"Small French Fries\", \"Medium French Fries\", \"Large French Fries\", \"Kids French Fries\", \"Side Salad\", \"Apple Slices\", \"Fruit 'n Yogurt Parfait\", \"Baked Apple Pie\", \"Chocolate Chip Cookie\", \"Oatmeal Raisin Cookie\", \"Kids Ice Cream Cone\", \"Hot Fudge Sundae\", \"Hot Caramel Sundae\", \"Strawberry Sundae\", \"Coca-Cola Classic (Small)\", \"Coca-Cola Classic (Medium)\", \"Coca-Cola Classic (Large)\", \"Coca-Cola Classic (Child)\", \"Diet Coke (Small)\", \"Diet Coke (Medium)\", \"Diet Coke (Large)\", \"Diet Coke (Child)\", \"Dr Pepper (Small)\", \"Dr Pepper (Medium)\", \"Dr Pepper (Large)\", \"Dr Pepper (Child)\", \"Diet Dr Pepper (Small)\", \"Diet Dr Pepper (Medium)\", \"Diet Dr Pepper (Large)\", \"Diet Dr Pepper (Child)\", \"Sprite (Small)\", \"Sprite (Medium)\", \"Sprite (Large)\", \"Sprite (Child)\", \"1% Low Fat Milk Jug\", \"Fat Free Chocolate Milk Jug\", \"Minute Maid 100% Apple Juice Box\", \"Minute Maid Orange Juice (Small)\", \"Minute Maid Orange Juice (Medium)\", \"Minute Maid Orange Juice (Large)\", \"Dasani Water Bottle\", \"Iced Tea (Small)\", \"Iced Tea (Medium)\", \"Iced Tea (Large)\", \"Iced Tea (Child)\", \"Sweet Tea (Small)\", \"Sweet Tea (Medium)\", \"Sweet Tea (Large)\", \"Sweet Tea (Child)\", \"Coffee (Small)\", \"Coffee (Medium)\", \"Coffee (Large)\", \"Latte (Small)\", \"Latte (Medium)\", \"Latte (Large)\", \"Caramel Latte (Small)\", \"Caramel Latte (Medium)\", \"Caramel Latte (Large)\", \"Hazelnut Latte (Small)\", \"Hazelnut Latte (Medium)\", \"Hazelnut Latte (Large)\", \"French Vanilla Latte (Small)\", \"French Vanilla Latte (Medium)\", \"French Vanilla Latte (Large)\", \"Latte with Sugar Free French Vanilla Syrup (Small)\", \"Latte with Sugar Free French Vanilla Syrup (Medium)\", \"Latte with Sugar Free French Vanilla Syrup (Large)\", \"Nonfat Latte (Small)\", \"Nonfat Latte (Medium)\", \"Nonfat Latte (Large)\", \"Nonfat Caramel Latte (Small)\", \"Nonfat Caramel Latte (Medium)\", \"Nonfat Caramel Latte (Large)\", \"Nonfat Hazelnut Latte (Small)\", \"Nonfat Hazelnut Latte (Medium)\", \"Nonfat Hazelnut Latte (Large)\", \"Nonfat French Vanilla Latte (Small)\", \"Nonfat French Vanilla Latte (Medium)\", \"Nonfat French Vanilla Latte (Large)\", \"Nonfat Latte with Sugar Free French Vanilla Syrup (Small)\", \"Nonfat Latte with Sugar Free French Vanilla Syrup (Medium)\", \"Nonfat Latte with Sugar Free French Vanilla Syrup (Large)\", \"Mocha (Small)\", \"Mocha (Medium)\", \"Mocha (Large)\", \"Mocha with Nonfat Milk (Small)\", \"Mocha with Nonfat Milk (Medium)\", \"Mocha with Nonfat Milk (Large)\", \"Caramel Mocha (Small)\", \"Caramel Mocha (Medium)\", \"Caramel Mocha (Large)\", \"Nonfat Caramel Mocha (Small)\", \"Nonfat Caramel Mocha (Medium)\", \"Nonfat Caramel Mocha (Large)\", \"Hot Chocolate (Small)\", \"Hot Chocolate (Medium)\", \"Hot Chocolate (Large)\", \"Hot Chocolate with Nonfat Milk (Small)\", \"Hot Chocolate with Nonfat Milk (Medium)\", \"Hot Chocolate with Nonfat Milk (Large)\", \"Regular Iced Coffee (Small)\", \"Regular Iced Coffee (Medium)\", \"Regular Iced Coffee (Large)\", \"Caramel Iced Coffee (Small)\", \"Caramel Iced Coffee (Medium)\", \"Caramel Iced Coffee (Large)\", \"Hazelnut Iced Coffee (Small)\", \"Hazelnut Iced Coffee (Medium)\", \"Hazelnut Iced Coffee (Large)\", \"French Vanilla Iced Coffee (Small)\", \"French Vanilla Iced Coffee (Medium)\", \"French Vanilla Iced Coffee (Large)\", \"Iced Coffee with Sugar Free French Vanilla Syrup (Small)\", \"Iced Coffee with Sugar Free French Vanilla Syrup (Medium)\", \"Iced Coffee with Sugar Free French Vanilla Syrup (Large)\", \"Iced Mocha (Small)\", \"Iced Mocha (Medium)\", \"Iced Mocha (Large)\", \"Iced Mocha with Nonfat Milk (Small)\", \"Iced Mocha with Nonfat Milk (Medium)\", \"Iced Mocha with Nonfat Milk (Large)\", \"Iced Caramel Mocha (Small)\", \"Iced Caramel Mocha (Medium)\", \"Iced Caramel Mocha (Large)\", \"Iced Nonfat Caramel Mocha (Small)\", \"Iced Nonfat Caramel Mocha (Medium)\", \"Iced Nonfat Caramel Mocha (Large)\", \"Frapp\\u00e9 Mocha (Small)\", \"Frapp\\u00e9 Mocha (Medium)\", \"Frapp\\u00e9 Mocha (Large)\", \"Frapp\\u00e9 Caramel (Small)\", \"Frapp\\u00e9 Caramel (Medium)\", \"Frapp\\u00e9 Caramel (Large)\", \"Frapp\\u00e9 Chocolate Chip (Small)\", \"Frapp\\u00e9 Chocolate Chip (Medium)\", \"Frapp\\u00e9 Chocolate Chip (Large)\", \"Blueberry Pomegranate Smoothie (Small)\", \"Blueberry Pomegranate Smoothie (Medium)\", \"Blueberry Pomegranate Smoothie (Large)\", \"Strawberry Banana Smoothie (Small)\", \"Strawberry Banana Smoothie (Medium)\", \"Strawberry Banana Smoothie (Large)\", \"Mango Pineapple Smoothie (Small)\", \"Mango Pineapple Smoothie (Medium)\", \"Mango Pineapple Smoothie (Large)\", \"Vanilla Shake (Small)\", \"Vanilla Shake (Medium)\", \"Vanilla Shake (Large)\", \"Strawberry Shake (Small)\", \"Strawberry Shake (Medium)\", \"Strawberry Shake (Large)\", \"Chocolate Shake (Small)\", \"Chocolate Shake (Medium)\", \"Chocolate Shake (Large)\", \"Shamrock Shake (Medium)\", \"Shamrock Shake (Large)\", \"McFlurry with M&M\\u2019s Candies (Small)\", \"McFlurry with M&M\\u2019s Candies (Medium)\", \"McFlurry with M&M\\u2019s Candies (Snack)\", \"McFlurry with Oreo Cookies (Small)\", \"McFlurry with Oreo Cookies (Medium)\", \"McFlurry with Oreo Cookies (Snack)\", \"McFlurry with Reese's Peanut Butter Cups (Medium)\", \"McFlurry with Reese's Peanut Butter Cups (Snack)\"], \"type\": \"scatter3d\", \"x\": [\"Breakfast\", \"Breakfast\", \"Breakfast\", \"Breakfast\", \"Breakfast\", \"Breakfast\", \"Breakfast\", \"Breakfast\", \"Breakfast\", \"Breakfast\", \"Breakfast\", \"Breakfast\", \"Breakfast\", \"Breakfast\", \"Breakfast\", \"Breakfast\", \"Breakfast\", \"Breakfast\", \"Breakfast\", \"Breakfast\", \"Breakfast\", \"Breakfast\", \"Breakfast\", \"Breakfast\", \"Breakfast\", \"Breakfast\", \"Breakfast\", \"Breakfast\", \"Breakfast\", \"Breakfast\", \"Breakfast\", \"Breakfast\", \"Breakfast\", \"Breakfast\", \"Breakfast\", \"Breakfast\", \"Breakfast\", \"Breakfast\", \"Breakfast\", \"Breakfast\", \"Breakfast\", \"Breakfast\", \"Beef & Pork\", \"Beef & Pork\", \"Beef & Pork\", \"Beef & Pork\", \"Beef & Pork\", \"Beef & Pork\", \"Beef & Pork\", \"Beef & Pork\", \"Beef & Pork\", \"Beef & Pork\", \"Beef & Pork\", \"Beef & Pork\", \"Beef & Pork\", \"Beef & Pork\", \"Beef & Pork\", \"Chicken & Fish\", \"Chicken & Fish\", \"Chicken & Fish\", \"Chicken & Fish\", \"Chicken & Fish\", \"Chicken & Fish\", \"Chicken & Fish\", \"Chicken & Fish\", \"Chicken & Fish\", \"Chicken & Fish\", \"Chicken & Fish\", \"Chicken & Fish\", \"Chicken & Fish\", \"Chicken & Fish\", \"Chicken & Fish\", \"Chicken & Fish\", \"Chicken & Fish\", \"Chicken & Fish\", \"Chicken & Fish\", \"Chicken & Fish\", \"Chicken & Fish\", \"Chicken & Fish\", \"Chicken & Fish\", \"Chicken & Fish\", \"Chicken & Fish\", \"Chicken & Fish\", \"Chicken & Fish\", \"Salads\", \"Salads\", \"Salads\", \"Salads\", \"Salads\", \"Salads\", \"Snacks & Sides\", \"Snacks & Sides\", \"Snacks & Sides\", \"Snacks & Sides\", \"Snacks & Sides\", \"Snacks & Sides\", \"Snacks & Sides\", \"Snacks & Sides\", \"Snacks & Sides\", \"Snacks & Sides\", \"Snacks & Sides\", \"Snacks & Sides\", \"Snacks & Sides\", \"Desserts\", \"Desserts\", \"Desserts\", \"Desserts\", \"Desserts\", \"Desserts\", \"Desserts\", \"Beverages\", \"Beverages\", \"Beverages\", \"Beverages\", \"Beverages\", \"Beverages\", \"Beverages\", \"Beverages\", \"Beverages\", \"Beverages\", \"Beverages\", \"Beverages\", \"Beverages\", \"Beverages\", \"Beverages\", \"Beverages\", \"Beverages\", \"Beverages\", \"Beverages\", \"Beverages\", \"Beverages\", \"Beverages\", \"Beverages\", \"Beverages\", \"Beverages\", \"Beverages\", \"Beverages\", \"Coffee & Tea\", \"Coffee & Tea\", \"Coffee & Tea\", \"Coffee & Tea\", \"Coffee & Tea\", \"Coffee & Tea\", \"Coffee & Tea\", \"Coffee & Tea\", \"Coffee & Tea\", \"Coffee & Tea\", \"Coffee & Tea\", \"Coffee & Tea\", \"Coffee & Tea\", \"Coffee & Tea\", \"Coffee & Tea\", \"Coffee & Tea\", \"Coffee & Tea\", \"Coffee & Tea\", \"Coffee & Tea\", \"Coffee & Tea\", \"Coffee & Tea\", \"Coffee & Tea\", \"Coffee & Tea\", \"Coffee & Tea\", \"Coffee & Tea\", \"Coffee & Tea\", \"Coffee & Tea\", \"Coffee & Tea\", \"Coffee & Tea\", \"Coffee & Tea\", \"Coffee & Tea\", \"Coffee & Tea\", \"Coffee & Tea\", \"Coffee & Tea\", \"Coffee & Tea\", \"Coffee & Tea\", \"Coffee & Tea\", \"Coffee & Tea\", \"Coffee & Tea\", \"Coffee & Tea\", \"Coffee & Tea\", \"Coffee & Tea\", \"Coffee & Tea\", \"Coffee & Tea\", \"Coffee & Tea\", \"Coffee & Tea\", \"Coffee & Tea\", \"Coffee & Tea\", \"Coffee & Tea\", \"Coffee & Tea\", \"Coffee & Tea\", \"Coffee & Tea\", \"Coffee & Tea\", \"Coffee & Tea\", \"Coffee & Tea\", \"Coffee & Tea\", \"Coffee & Tea\", \"Coffee & Tea\", \"Coffee & Tea\", \"Coffee & Tea\", \"Coffee & Tea\", \"Coffee & Tea\", \"Coffee & Tea\", \"Coffee & Tea\", \"Coffee & Tea\", \"Coffee & Tea\", \"Coffee & Tea\", \"Coffee & Tea\", \"Coffee & Tea\", \"Coffee & Tea\", \"Coffee & Tea\", \"Coffee & Tea\", \"Coffee & Tea\", \"Coffee & Tea\", \"Coffee & Tea\", \"Coffee & Tea\", \"Coffee & Tea\", \"Coffee & Tea\", \"Coffee & Tea\", \"Coffee & Tea\", \"Coffee & Tea\", \"Coffee & Tea\", \"Coffee & Tea\", \"Coffee & Tea\", \"Coffee & Tea\", \"Coffee & Tea\", \"Coffee & Tea\", \"Coffee & Tea\", \"Coffee & Tea\", \"Coffee & Tea\", \"Coffee & Tea\", \"Coffee & Tea\", \"Coffee & Tea\", \"Coffee & Tea\", \"Coffee & Tea\", \"Smoothies & Shakes\", \"Smoothies & Shakes\", \"Smoothies & Shakes\", \"Smoothies & Shakes\", \"Smoothies & Shakes\", \"Smoothies & Shakes\", \"Smoothies & Shakes\", \"Smoothies & Shakes\", \"Smoothies & Shakes\", \"Smoothies & Shakes\", \"Smoothies & Shakes\", \"Smoothies & Shakes\", \"Smoothies & Shakes\", \"Smoothies & Shakes\", \"Smoothies & Shakes\", \"Smoothies & Shakes\", \"Smoothies & Shakes\", \"Smoothies & Shakes\", \"Smoothies & Shakes\", \"Smoothies & Shakes\", \"Smoothies & Shakes\", \"Smoothies & Shakes\", \"Smoothies & Shakes\", \"Smoothies & Shakes\", \"Smoothies & Shakes\", \"Smoothies & Shakes\", \"Smoothies & Shakes\", \"Smoothies & Shakes\"], \"y\": [\"Egg McMuffin\", \"Egg White Delight\", \"Sausage McMuffin\", \"Sausage McMuffin with Egg\", \"Sausage McMuffin with Egg Whites\", \"Steak & Egg McMuffin\", \"Bacon, Egg & Cheese Biscuit (Regular Biscuit)\", \"Bacon, Egg & Cheese Biscuit (Large Biscuit)\", \"Bacon, Egg & Cheese Biscuit with Egg Whites (Regular Biscuit)\", \"Bacon, Egg & Cheese Biscuit with Egg Whites (Large Biscuit)\", \"Sausage Biscuit (Regular Biscuit)\", \"Sausage Biscuit (Large Biscuit)\", \"Sausage Biscuit with Egg (Regular Biscuit)\", \"Sausage Biscuit with Egg (Large Biscuit)\", \"Sausage Biscuit with Egg Whites (Regular Biscuit)\", \"Sausage Biscuit with Egg Whites (Large Biscuit)\", \"Southern Style Chicken Biscuit (Regular Biscuit)\", \"Southern Style Chicken Biscuit (Large Biscuit)\", \"Steak & Egg Biscuit (Regular Biscuit)\", \"Bacon, Egg & Cheese McGriddles\", \"Bacon, Egg & Cheese McGriddles with Egg Whites\", \"Sausage McGriddles\", \"Sausage, Egg & Cheese McGriddles\", \"Sausage, Egg & Cheese McGriddles with Egg Whites\", \"Bacon, Egg & Cheese Bagel\", \"Bacon, Egg & Cheese Bagel with Egg Whites\", \"Steak, Egg & Cheese Bagel\", \"Big Breakfast (Regular Biscuit)\", \"Big Breakfast (Large Biscuit)\", \"Big Breakfast with Egg Whites (Regular Biscuit)\", \"Big Breakfast with Egg Whites (Large Biscuit)\", \"Big Breakfast with Hotcakes (Regular Biscuit)\", \"Big Breakfast with Hotcakes (Large Biscuit)\", \"Big Breakfast with Hotcakes and Egg Whites (Regular Biscuit)\", \"Big Breakfast with Hotcakes and Egg Whites (Large Biscuit)\", \"Hotcakes\", \"Hotcakes and Sausage\", \"Sausage Burrito\", \"Hash Brown\", \"Cinnamon Melts\", \"Fruit & Maple Oatmeal\", \"Fruit & Maple Oatmeal without Brown Sugar\", \"Big Mac\", \"Quarter Pounder with Cheese\", \"Quarter Pounder with Bacon & Cheese\", \"Quarter Pounder with Bacon Habanero Ranch\", \"Quarter Pounder Deluxe\", \"Double Quarter Pounder with Cheese\", \"Hamburger\", \"Cheeseburger\", \"Double Cheeseburger\", \"Bacon Clubhouse Burger\", \"McDouble\", \"Bacon McDouble\", \"Daily Double\", \"Jalape\\u00f1o Double\", \"McRib\", \"Premium Crispy Chicken Classic Sandwich\", \"Premium Grilled Chicken Classic Sandwich\", \"Premium Crispy Chicken Club Sandwich\", \"Premium Grilled Chicken Club Sandwich\", \"Premium Crispy Chicken Ranch BLT Sandwich\", \"Premium Grilled Chicken Ranch BLT Sandwich\", \"Bacon Clubhouse Crispy Chicken Sandwich\", \"Bacon Clubhouse Grilled Chicken Sandwich\", \"Southern Style Crispy Chicken Sandwich\", \"McChicken\", \"Bacon Cheddar McChicken\", \"Bacon Buffalo Ranch McChicken\", \"Buffalo Ranch McChicken\", \"Premium McWrap Chicken & Bacon (Crispy Chicken)\", \"Premium McWrap Chicken & Bacon (Grilled Chicken)\", \"Premium McWrap Chicken & Ranch (Crispy Chicken)\", \"Premium McWrap Chicken & Ranch (Grilled Chicken)\", \"Premium McWrap Southwest Chicken (Crispy Chicken)\", \"Premium McWrap Southwest Chicken (Grilled Chicken)\", \"Premium McWrap Chicken Sweet Chili (Crispy Chicken)\", \"Premium McWrap Chicken Sweet Chili (Grilled Chicken)\", \"Chicken McNuggets (4 piece)\", \"Chicken McNuggets (6 piece)\", \"Chicken McNuggets (10 piece)\", \"Chicken McNuggets (20 piece)\", \"Chicken McNuggets (40 piece)\", \"Filet-O-Fish\", \"Premium Bacon Ranch Salad (without Chicken)\", \"Premium Bacon Ranch Salad with Crispy Chicken\", \"Premium Bacon Ranch Salad with Grilled Chicken\", \"Premium Southwest Salad (without Chicken)\", \"Premium Southwest Salad with Crispy Chicken\", \"Premium Southwest Salad with Grilled Chicken\", \"Chipotle BBQ Snack Wrap (Crispy Chicken)\", \"Chipotle BBQ Snack Wrap (Grilled Chicken)\", \"Honey Mustard Snack Wrap (Crispy Chicken)\", \"Honey Mustard Snack Wrap (Grilled Chicken)\", \"Ranch Snack Wrap (Crispy Chicken)\", \"Ranch Snack Wrap (Grilled Chicken)\", \"Small French Fries\", \"Medium French Fries\", \"Large French Fries\", \"Kids French Fries\", \"Side Salad\", \"Apple Slices\", \"Fruit 'n Yogurt Parfait\", \"Baked Apple Pie\", \"Chocolate Chip Cookie\", \"Oatmeal Raisin Cookie\", \"Kids Ice Cream Cone\", \"Hot Fudge Sundae\", \"Hot Caramel Sundae\", \"Strawberry Sundae\", \"Coca-Cola Classic (Small)\", \"Coca-Cola Classic (Medium)\", \"Coca-Cola Classic (Large)\", \"Coca-Cola Classic (Child)\", \"Diet Coke (Small)\", \"Diet Coke (Medium)\", \"Diet Coke (Large)\", \"Diet Coke (Child)\", \"Dr Pepper (Small)\", \"Dr Pepper (Medium)\", \"Dr Pepper (Large)\", \"Dr Pepper (Child)\", \"Diet Dr Pepper (Small)\", \"Diet Dr Pepper (Medium)\", \"Diet Dr Pepper (Large)\", \"Diet Dr Pepper (Child)\", \"Sprite (Small)\", \"Sprite (Medium)\", \"Sprite (Large)\", \"Sprite (Child)\", \"1% Low Fat Milk Jug\", \"Fat Free Chocolate Milk Jug\", \"Minute Maid 100% Apple Juice Box\", \"Minute Maid Orange Juice (Small)\", \"Minute Maid Orange Juice (Medium)\", \"Minute Maid Orange Juice (Large)\", \"Dasani Water Bottle\", \"Iced Tea (Small)\", \"Iced Tea (Medium)\", \"Iced Tea (Large)\", \"Iced Tea (Child)\", \"Sweet Tea (Small)\", \"Sweet Tea (Medium)\", \"Sweet Tea (Large)\", \"Sweet Tea (Child)\", \"Coffee (Small)\", \"Coffee (Medium)\", \"Coffee (Large)\", \"Latte (Small)\", \"Latte (Medium)\", \"Latte (Large)\", \"Caramel Latte (Small)\", \"Caramel Latte (Medium)\", \"Caramel Latte (Large)\", \"Hazelnut Latte (Small)\", \"Hazelnut Latte (Medium)\", \"Hazelnut Latte (Large)\", \"French Vanilla Latte (Small)\", \"French Vanilla Latte (Medium)\", \"French Vanilla Latte (Large)\", \"Latte with Sugar Free French Vanilla Syrup (Small)\", \"Latte with Sugar Free French Vanilla Syrup (Medium)\", \"Latte with Sugar Free French Vanilla Syrup (Large)\", \"Nonfat Latte (Small)\", \"Nonfat Latte (Medium)\", \"Nonfat Latte (Large)\", \"Nonfat Caramel Latte (Small)\", \"Nonfat Caramel Latte (Medium)\", \"Nonfat Caramel Latte (Large)\", \"Nonfat Hazelnut Latte (Small)\", \"Nonfat Hazelnut Latte (Medium)\", \"Nonfat Hazelnut Latte (Large)\", \"Nonfat French Vanilla Latte (Small)\", \"Nonfat French Vanilla Latte (Medium)\", \"Nonfat French Vanilla Latte (Large)\", \"Nonfat Latte with Sugar Free French Vanilla Syrup (Small)\", \"Nonfat Latte with Sugar Free French Vanilla Syrup (Medium)\", \"Nonfat Latte with Sugar Free French Vanilla Syrup (Large)\", \"Mocha (Small)\", \"Mocha (Medium)\", \"Mocha (Large)\", \"Mocha with Nonfat Milk (Small)\", \"Mocha with Nonfat Milk (Medium)\", \"Mocha with Nonfat Milk (Large)\", \"Caramel Mocha (Small)\", \"Caramel Mocha (Medium)\", \"Caramel Mocha (Large)\", \"Nonfat Caramel Mocha (Small)\", \"Nonfat Caramel Mocha (Medium)\", \"Nonfat Caramel Mocha (Large)\", \"Hot Chocolate (Small)\", \"Hot Chocolate (Medium)\", \"Hot Chocolate (Large)\", \"Hot Chocolate with Nonfat Milk (Small)\", \"Hot Chocolate with Nonfat Milk (Medium)\", \"Hot Chocolate with Nonfat Milk (Large)\", \"Regular Iced Coffee (Small)\", \"Regular Iced Coffee (Medium)\", \"Regular Iced Coffee (Large)\", \"Caramel Iced Coffee (Small)\", \"Caramel Iced Coffee (Medium)\", \"Caramel Iced Coffee (Large)\", \"Hazelnut Iced Coffee (Small)\", \"Hazelnut Iced Coffee (Medium)\", \"Hazelnut Iced Coffee (Large)\", \"French Vanilla Iced Coffee (Small)\", \"French Vanilla Iced Coffee (Medium)\", \"French Vanilla Iced Coffee (Large)\", \"Iced Coffee with Sugar Free French Vanilla Syrup (Small)\", \"Iced Coffee with Sugar Free French Vanilla Syrup (Medium)\", \"Iced Coffee with Sugar Free French Vanilla Syrup (Large)\", \"Iced Mocha (Small)\", \"Iced Mocha (Medium)\", \"Iced Mocha (Large)\", \"Iced Mocha with Nonfat Milk (Small)\", \"Iced Mocha with Nonfat Milk (Medium)\", \"Iced Mocha with Nonfat Milk (Large)\", \"Iced Caramel Mocha (Small)\", \"Iced Caramel Mocha (Medium)\", \"Iced Caramel Mocha (Large)\", \"Iced Nonfat Caramel Mocha (Small)\", \"Iced Nonfat Caramel Mocha (Medium)\", \"Iced Nonfat Caramel Mocha (Large)\", \"Frapp\\u00e9 Mocha (Small)\", \"Frapp\\u00e9 Mocha (Medium)\", \"Frapp\\u00e9 Mocha (Large)\", \"Frapp\\u00e9 Caramel (Small)\", \"Frapp\\u00e9 Caramel (Medium)\", \"Frapp\\u00e9 Caramel (Large)\", \"Frapp\\u00e9 Chocolate Chip (Small)\", \"Frapp\\u00e9 Chocolate Chip (Medium)\", \"Frapp\\u00e9 Chocolate Chip (Large)\", \"Blueberry Pomegranate Smoothie (Small)\", \"Blueberry Pomegranate Smoothie (Medium)\", \"Blueberry Pomegranate Smoothie (Large)\", \"Strawberry Banana Smoothie (Small)\", \"Strawberry Banana Smoothie (Medium)\", \"Strawberry Banana Smoothie (Large)\", \"Mango Pineapple Smoothie (Small)\", \"Mango Pineapple Smoothie (Medium)\", \"Mango Pineapple Smoothie (Large)\", \"Vanilla Shake (Small)\", \"Vanilla Shake (Medium)\", \"Vanilla Shake (Large)\", \"Strawberry Shake (Small)\", \"Strawberry Shake (Medium)\", \"Strawberry Shake (Large)\", \"Chocolate Shake (Small)\", \"Chocolate Shake (Medium)\", \"Chocolate Shake (Large)\", \"Shamrock Shake (Medium)\", \"Shamrock Shake (Large)\", \"McFlurry with M&M\\u2019s Candies (Small)\", \"McFlurry with M&M\\u2019s Candies (Medium)\", \"McFlurry with M&M\\u2019s Candies (Snack)\", \"McFlurry with Oreo Cookies (Small)\", \"McFlurry with Oreo Cookies (Medium)\", \"McFlurry with Oreo Cookies (Snack)\", \"McFlurry with Reese's Peanut Butter Cups (Medium)\", \"McFlurry with Reese's Peanut Butter Cups (Snack)\"], \"z\": [10, 10, 10, 10, 10, 10, 13, 14, 12, 14, 11, 13, 12, 14, 11, 13, 14, 15, 13, 16, 16, 15, 16, 15, 19, 18, 19, 17, 19, 17, 18, 37, 39, 37, 38, 20, 20, 9, 5, 22, 19, 16, 16, 14, 16, 15, 15, 14, 11, 11, 12, 17, 11, 12, 11, 12, 15, 18, 14, 19, 15, 19, 14, 22, 17, 14, 13, 14, 14, 13, 19, 14, 19, 14, 23, 18, 20, 16, 4, 6, 10, 20, 39, 13, 3, 7, 3, 7, 14, 9, 12, 10, 11, 9, 11, 8, 10, 15, 22, 5, 1, 1, 10, 11, 7, 7, 2, 18, 20, 16, 13, 18, 25, 9, 0, 0, 0, 0, 12, 18, 24, 9, 0, 0, 0, 0, 12, 18, 25, 9, 4, 8, 7, 11, 15, 22, 0, 0, 0, 0, 0, 12, 15, 18, 9, 0, 0, 0, 5, 6, 8, 13, 17, 21, 13, 17, 21, 13, 16, 20, 8, 10, 12, 5, 6, 8, 14, 17, 21, 13, 17, 21, 13, 16, 20, 8, 10, 13, 16, 20, 24, 16, 20, 24, 15, 18, 22, 15, 19, 22, 17, 20, 24, 17, 20, 25, 8, 10, 16, 7, 10, 14, 7, 10, 14, 7, 9, 14, 3, 4, 6, 14, 17, 23, 14, 17, 24, 13, 15, 22, 13, 16, 22, 22, 27, 33, 21, 26, 32, 25, 30, 37, 17, 21, 26, 16, 19, 25, 17, 20, 26, 29, 36, 45, 30, 38, 47, 30, 38, 47, 36, 45, 32, 46, 21, 27, 35, 18, 38, 19]}],\n",
       "                        {\"height\": 800, \"template\": {\"data\": {\"bar\": [{\"error_x\": {\"color\": \"#2a3f5f\"}, \"error_y\": {\"color\": \"#2a3f5f\"}, \"marker\": {\"line\": {\"color\": \"#E5ECF6\", \"width\": 0.5}}, \"type\": \"bar\"}], \"barpolar\": [{\"marker\": {\"line\": {\"color\": \"#E5ECF6\", \"width\": 0.5}}, \"type\": \"barpolar\"}], \"carpet\": [{\"aaxis\": {\"endlinecolor\": \"#2a3f5f\", \"gridcolor\": \"white\", \"linecolor\": \"white\", \"minorgridcolor\": \"white\", \"startlinecolor\": \"#2a3f5f\"}, \"baxis\": {\"endlinecolor\": \"#2a3f5f\", \"gridcolor\": \"white\", \"linecolor\": \"white\", \"minorgridcolor\": \"white\", \"startlinecolor\": \"#2a3f5f\"}, \"type\": \"carpet\"}], \"choropleth\": [{\"colorbar\": {\"outlinewidth\": 0, \"ticks\": \"\"}, \"type\": \"choropleth\"}], \"contour\": [{\"colorbar\": {\"outlinewidth\": 0, \"ticks\": \"\"}, \"colorscale\": [[0.0, \"#0d0887\"], [0.1111111111111111, \"#46039f\"], [0.2222222222222222, \"#7201a8\"], [0.3333333333333333, \"#9c179e\"], [0.4444444444444444, \"#bd3786\"], [0.5555555555555556, \"#d8576b\"], [0.6666666666666666, \"#ed7953\"], [0.7777777777777778, \"#fb9f3a\"], [0.8888888888888888, \"#fdca26\"], [1.0, \"#f0f921\"]], \"type\": \"contour\"}], \"contourcarpet\": [{\"colorbar\": {\"outlinewidth\": 0, \"ticks\": \"\"}, \"type\": \"contourcarpet\"}], \"heatmap\": [{\"colorbar\": {\"outlinewidth\": 0, \"ticks\": \"\"}, \"colorscale\": [[0.0, \"#0d0887\"], [0.1111111111111111, \"#46039f\"], [0.2222222222222222, \"#7201a8\"], [0.3333333333333333, \"#9c179e\"], [0.4444444444444444, \"#bd3786\"], [0.5555555555555556, \"#d8576b\"], [0.6666666666666666, \"#ed7953\"], [0.7777777777777778, \"#fb9f3a\"], [0.8888888888888888, \"#fdca26\"], [1.0, \"#f0f921\"]], \"type\": \"heatmap\"}], \"heatmapgl\": [{\"colorbar\": {\"outlinewidth\": 0, \"ticks\": \"\"}, \"colorscale\": [[0.0, \"#0d0887\"], [0.1111111111111111, \"#46039f\"], [0.2222222222222222, \"#7201a8\"], [0.3333333333333333, \"#9c179e\"], [0.4444444444444444, \"#bd3786\"], [0.5555555555555556, \"#d8576b\"], [0.6666666666666666, \"#ed7953\"], [0.7777777777777778, \"#fb9f3a\"], [0.8888888888888888, \"#fdca26\"], [1.0, \"#f0f921\"]], \"type\": \"heatmapgl\"}], \"histogram\": [{\"marker\": {\"colorbar\": {\"outlinewidth\": 0, \"ticks\": \"\"}}, \"type\": \"histogram\"}], \"histogram2d\": [{\"colorbar\": {\"outlinewidth\": 0, \"ticks\": \"\"}, \"colorscale\": [[0.0, \"#0d0887\"], [0.1111111111111111, \"#46039f\"], [0.2222222222222222, \"#7201a8\"], [0.3333333333333333, \"#9c179e\"], [0.4444444444444444, \"#bd3786\"], [0.5555555555555556, \"#d8576b\"], [0.6666666666666666, \"#ed7953\"], [0.7777777777777778, \"#fb9f3a\"], [0.8888888888888888, \"#fdca26\"], [1.0, \"#f0f921\"]], \"type\": \"histogram2d\"}], \"histogram2dcontour\": [{\"colorbar\": {\"outlinewidth\": 0, \"ticks\": \"\"}, \"colorscale\": [[0.0, \"#0d0887\"], [0.1111111111111111, \"#46039f\"], [0.2222222222222222, \"#7201a8\"], [0.3333333333333333, \"#9c179e\"], [0.4444444444444444, \"#bd3786\"], [0.5555555555555556, \"#d8576b\"], [0.6666666666666666, \"#ed7953\"], [0.7777777777777778, \"#fb9f3a\"], [0.8888888888888888, \"#fdca26\"], [1.0, \"#f0f921\"]], \"type\": \"histogram2dcontour\"}], \"mesh3d\": [{\"colorbar\": {\"outlinewidth\": 0, \"ticks\": \"\"}, \"type\": \"mesh3d\"}], \"parcoords\": [{\"line\": {\"colorbar\": {\"outlinewidth\": 0, \"ticks\": \"\"}}, \"type\": \"parcoords\"}], \"pie\": [{\"automargin\": true, \"type\": \"pie\"}], \"scatter\": [{\"marker\": {\"colorbar\": {\"outlinewidth\": 0, \"ticks\": \"\"}}, \"type\": \"scatter\"}], \"scatter3d\": [{\"line\": {\"colorbar\": {\"outlinewidth\": 0, \"ticks\": \"\"}}, \"marker\": {\"colorbar\": {\"outlinewidth\": 0, \"ticks\": \"\"}}, \"type\": \"scatter3d\"}], \"scattercarpet\": [{\"marker\": {\"colorbar\": {\"outlinewidth\": 0, \"ticks\": \"\"}}, \"type\": \"scattercarpet\"}], \"scattergeo\": [{\"marker\": {\"colorbar\": {\"outlinewidth\": 0, \"ticks\": \"\"}}, \"type\": \"scattergeo\"}], \"scattergl\": [{\"marker\": {\"colorbar\": {\"outlinewidth\": 0, \"ticks\": \"\"}}, \"type\": \"scattergl\"}], \"scattermapbox\": [{\"marker\": {\"colorbar\": {\"outlinewidth\": 0, \"ticks\": \"\"}}, \"type\": \"scattermapbox\"}], \"scatterpolar\": [{\"marker\": {\"colorbar\": {\"outlinewidth\": 0, \"ticks\": \"\"}}, \"type\": \"scatterpolar\"}], \"scatterpolargl\": [{\"marker\": {\"colorbar\": {\"outlinewidth\": 0, \"ticks\": \"\"}}, \"type\": \"scatterpolargl\"}], \"scatterternary\": [{\"marker\": {\"colorbar\": {\"outlinewidth\": 0, \"ticks\": \"\"}}, \"type\": \"scatterternary\"}], \"surface\": [{\"colorbar\": {\"outlinewidth\": 0, \"ticks\": \"\"}, \"colorscale\": [[0.0, \"#0d0887\"], [0.1111111111111111, \"#46039f\"], [0.2222222222222222, \"#7201a8\"], [0.3333333333333333, \"#9c179e\"], [0.4444444444444444, \"#bd3786\"], [0.5555555555555556, \"#d8576b\"], [0.6666666666666666, \"#ed7953\"], [0.7777777777777778, \"#fb9f3a\"], [0.8888888888888888, \"#fdca26\"], [1.0, \"#f0f921\"]], \"type\": \"surface\"}], \"table\": [{\"cells\": {\"fill\": {\"color\": \"#EBF0F8\"}, \"line\": {\"color\": \"white\"}}, \"header\": {\"fill\": {\"color\": \"#C8D4E3\"}, \"line\": {\"color\": \"white\"}}, \"type\": \"table\"}]}, \"layout\": {\"annotationdefaults\": {\"arrowcolor\": \"#2a3f5f\", \"arrowhead\": 0, \"arrowwidth\": 1}, \"coloraxis\": {\"colorbar\": {\"outlinewidth\": 0, \"ticks\": \"\"}}, \"colorscale\": {\"diverging\": [[0, \"#8e0152\"], [0.1, \"#c51b7d\"], [0.2, \"#de77ae\"], [0.3, \"#f1b6da\"], [0.4, \"#fde0ef\"], [0.5, \"#f7f7f7\"], [0.6, \"#e6f5d0\"], [0.7, \"#b8e186\"], [0.8, \"#7fbc41\"], [0.9, \"#4d9221\"], [1, \"#276419\"]], \"sequential\": [[0.0, \"#0d0887\"], [0.1111111111111111, \"#46039f\"], [0.2222222222222222, \"#7201a8\"], [0.3333333333333333, \"#9c179e\"], [0.4444444444444444, \"#bd3786\"], [0.5555555555555556, \"#d8576b\"], [0.6666666666666666, \"#ed7953\"], [0.7777777777777778, \"#fb9f3a\"], [0.8888888888888888, \"#fdca26\"], [1.0, \"#f0f921\"]], \"sequentialminus\": [[0.0, \"#0d0887\"], [0.1111111111111111, \"#46039f\"], [0.2222222222222222, \"#7201a8\"], [0.3333333333333333, \"#9c179e\"], [0.4444444444444444, \"#bd3786\"], [0.5555555555555556, \"#d8576b\"], [0.6666666666666666, \"#ed7953\"], [0.7777777777777778, \"#fb9f3a\"], [0.8888888888888888, \"#fdca26\"], [1.0, \"#f0f921\"]]}, \"colorway\": [\"#636efa\", \"#EF553B\", \"#00cc96\", \"#ab63fa\", \"#FFA15A\", \"#19d3f3\", \"#FF6692\", \"#B6E880\", \"#FF97FF\", \"#FECB52\"], \"font\": {\"color\": \"#2a3f5f\"}, \"geo\": {\"bgcolor\": \"white\", \"lakecolor\": \"white\", \"landcolor\": \"#E5ECF6\", \"showlakes\": true, \"showland\": true, \"subunitcolor\": \"white\"}, \"hoverlabel\": {\"align\": \"left\"}, \"hovermode\": \"closest\", \"mapbox\": {\"style\": \"light\"}, \"paper_bgcolor\": \"white\", \"plot_bgcolor\": \"#E5ECF6\", \"polar\": {\"angularaxis\": {\"gridcolor\": \"white\", \"linecolor\": \"white\", \"ticks\": \"\"}, \"bgcolor\": \"#E5ECF6\", \"radialaxis\": {\"gridcolor\": \"white\", \"linecolor\": \"white\", \"ticks\": \"\"}}, \"scene\": {\"xaxis\": {\"backgroundcolor\": \"#E5ECF6\", \"gridcolor\": \"white\", \"gridwidth\": 2, \"linecolor\": \"white\", \"showbackground\": true, \"ticks\": \"\", \"zerolinecolor\": \"white\"}, \"yaxis\": {\"backgroundcolor\": \"#E5ECF6\", \"gridcolor\": \"white\", \"gridwidth\": 2, \"linecolor\": \"white\", \"showbackground\": true, \"ticks\": \"\", \"zerolinecolor\": \"white\"}, \"zaxis\": {\"backgroundcolor\": \"#E5ECF6\", \"gridcolor\": \"white\", \"gridwidth\": 2, \"linecolor\": \"white\", \"showbackground\": true, \"ticks\": \"\", \"zerolinecolor\": \"white\"}}, \"shapedefaults\": {\"line\": {\"color\": \"#2a3f5f\"}}, \"ternary\": {\"aaxis\": {\"gridcolor\": \"white\", \"linecolor\": \"white\", \"ticks\": \"\"}, \"baxis\": {\"gridcolor\": \"white\", \"linecolor\": \"white\", \"ticks\": \"\"}, \"bgcolor\": \"#E5ECF6\", \"caxis\": {\"gridcolor\": \"white\", \"linecolor\": \"white\", \"ticks\": \"\"}}, \"title\": {\"x\": 0.05}, \"xaxis\": {\"automargin\": true, \"gridcolor\": \"white\", \"linecolor\": \"white\", \"ticks\": \"\", \"title\": {\"standoff\": 15}, \"zerolinecolor\": \"white\", \"zerolinewidth\": 2}, \"yaxis\": {\"automargin\": true, \"gridcolor\": \"white\", \"linecolor\": \"white\", \"ticks\": \"\", \"title\": {\"standoff\": 15}, \"zerolinecolor\": \"white\", \"zerolinewidth\": 2}}}, \"title\": {\"text\": \"3D Scatter Plot of Carbohydrates (% Daily Value)\"}, \"width\": 800},\n",
       "                        {\"responsive\": true}\n",
       "                    ).then(function(){\n",
       "                            \n",
       "var gd = document.getElementById('4ccf7d14-bacd-4d89-8447-03f33f0e861b');\n",
       "var x = new MutationObserver(function (mutations, observer) {{\n",
       "        var display = window.getComputedStyle(gd).display;\n",
       "        if (!display || display === 'none') {{\n",
       "            console.log([gd, 'removed!']);\n",
       "            Plotly.purge(gd);\n",
       "            observer.disconnect();\n",
       "        }}\n",
       "}});\n",
       "\n",
       "// Listen for the removal of the full notebook cells\n",
       "var notebookContainer = gd.closest('#notebook-container');\n",
       "if (notebookContainer) {{\n",
       "    x.observe(notebookContainer, {childList: true});\n",
       "}}\n",
       "\n",
       "// Listen for the clearing of the current output cell\n",
       "var outputEl = gd.closest('.output');\n",
       "if (outputEl) {{\n",
       "    x.observe(outputEl, {childList: true});\n",
       "}}\n",
       "\n",
       "                        })\n",
       "                };\n",
       "                });\n",
       "            </script>\n",
       "        </div>"
      ]
     },
     "metadata": {},
     "output_type": "display_data"
    }
   ],
   "source": [
    "# 3D scatter plot for Total Fats\n",
    "trace1 = go.Scatter3d(\n",
    "    x=data['Category'].values,\n",
    "    y=data['Item'].values,\n",
    "    z=data['Total Fat (% Daily Value)'].values,\n",
    "    text=data['Item'].values,\n",
    "    mode='markers',\n",
    "    marker=dict(\n",
    "        sizemode='diameter',\n",
    "#         sizeref=750,\n",
    "#         size= dailyValue['Cholesterol (% Daily Value)'].values,\n",
    "        color = data['Total Fat (% Daily Value)'].values,\n",
    "        colorscale = 'Portland',\n",
    "        colorbar = dict(title = 'Total Fat (% Daily Value)'),\n",
    "        line=dict(color='rgb(255, 255, 255)')\n",
    "    )\n",
    ")\n",
    "\n",
    "data_val=[trace1]\n",
    "layout=dict(height=800, width=800, title='3D Scatter Plot of Carbohydrates (% Daily Value)')\n",
    "fig=dict(data=data_val, layout=layout)\n",
    "py.iplot(fig, filename='3DBubble')\n",
    "\n",
    "# 3D scatter plot for Carbohydrate\n",
    "trace1 = go.Scatter3d(\n",
    "    x=data['Category'].values,\n",
    "    y=data['Item'].values,\n",
    "    z=data['Carbohydrates (% Daily Value)'].values,\n",
    "    text=data['Item'].values,\n",
    "    mode='markers',\n",
    "    marker=dict(\n",
    "        sizemode='diameter',\n",
    "#         sizeref=750,\n",
    "#         size= dailyValue['Cholesterol (% Daily Value)'].values,\n",
    "        color = data['Carbohydrates (% Daily Value)'].values,\n",
    "        colorscale = 'Portland',\n",
    "        colorbar = dict(title = 'Carbohydrates (% Daily Value)'),\n",
    "        line=dict(color='rgb(255, 255, 255)')\n",
    "    )\n",
    ")\n",
    "\n",
    "data_val2=[trace1]\n",
    "layout=dict(height=800, width=800, title='3D Scatter Plot of Carbohydrates (% Daily Value)')\n",
    "fig=dict(data=data_val2, layout=layout)\n",
    "py.iplot(fig, filename='3DBubble')"
   ]
  },
  {
   "cell_type": "markdown",
   "metadata": {},
   "source": [
    "Anyway having looked at nutritional metrics which carry largely negative connotations in society (Cholesterol, Sodium, Total Fat), let us balance this out and generate the scatter plots of nutritional metrics that carry more positive social weights . Namely Calcium, Iron, Dietary Fibre to name a few."
   ]
  },
  {
   "cell_type": "code",
   "execution_count": null,
   "metadata": {},
   "outputs": [],
   "source": []
  },
  {
   "cell_type": "markdown",
   "metadata": {},
   "source": [
    "### Scatter Plots of Dietary Fiber, Calcium and Iron (% Daily Value) per MacDonald's Item"
   ]
  },
  {
   "cell_type": "code",
   "execution_count": 62,
   "metadata": {},
   "outputs": [
    {
     "data": {
      "application/vnd.plotly.v1+json": {
       "config": {
        "linkText": "Export to plot.ly",
        "plotlyServerURL": "https://plot.ly",
        "showLink": false
       },
       "data": [
        {
         "marker": {
          "color": [
           17,
           17,
           17,
           17,
           17,
           18,
           7,
           12,
           7,
           12,
           6,
           11,
           6,
           11,
           6,
           11,
           6,
           11,
           8,
           9,
           9,
           8,
           9,
           9,
           11,
           12,
           12,
           12,
           17,
           12,
           17,
           23,
           28,
           23,
           28,
           10,
           10,
           5,
           6,
           11,
           19,
           22,
           13,
           11,
           12,
           14,
           13,
           11,
           6,
           7,
           8,
           14,
           7,
           7,
           8,
           7,
           10,
           13,
           13,
           14,
           13,
           13,
           13,
           15,
           15,
           7,
           7,
           8,
           7,
           7,
           13,
           13,
           14,
           14,
           19,
           20,
           13,
           13,
           2,
           4,
           6,
           12,
           24,
           7,
           12,
           10,
           10,
           23,
           28,
           28,
           6,
           6,
           5,
           5,
           5,
           5,
           10,
           14,
           22,
           5,
           6,
           0,
           3,
           15,
           3,
           3,
           0,
           3,
           0,
           0,
           0,
           0,
           0,
           0,
           0,
           0,
           0,
           0,
           0,
           0,
           0,
           0,
           0,
           0,
           0,
           0,
           0,
           0,
           0,
           0,
           0,
           2,
           0,
           0,
           0,
           0,
           0,
           0,
           0,
           0,
           0,
           0,
           0,
           0,
           0,
           0,
           0,
           0,
           3,
           4,
           6,
           3,
           4,
           6,
           3,
           4,
           6,
           3,
           4,
           6,
           4,
           5,
           7,
           3,
           4,
           6,
           3,
           4,
           6,
           3,
           4,
           6,
           3,
           4,
           6,
           4,
           5,
           7,
           6,
           8,
           10,
           6,
           8,
           10,
           3,
           4,
           5,
           3,
           4,
           5,
           3,
           4,
           5,
           3,
           4,
           5,
           0,
           0,
           0,
           0,
           0,
           0,
           0,
           0,
           0,
           0,
           0,
           0,
           0,
           0,
           0,
           4,
           5,
           8,
           4,
           5,
           8,
           0,
           2,
           3,
           0,
           2,
           3,
           3,
           4,
           4,
           0,
           0,
           0,
           5,
           5,
           5,
           12,
           15,
           19,
           10,
           13,
           16,
           4,
           5,
           6,
           0,
           0,
           0,
           0,
           0,
           0,
           5,
           6,
           8,
           0,
           0,
           6,
           7,
           4,
           4,
           5,
           2,
           9,
           5
          ],
          "colorscale": [
           [
            0,
            "rgb(12,51,131)"
           ],
           [
            0.25,
            "rgb(10,136,186)"
           ],
           [
            0.5,
            "rgb(242,211,56)"
           ],
           [
            0.75,
            "rgb(242,143,56)"
           ],
           [
            1,
            "rgb(217,30,30)"
           ]
          ],
          "reversescale": true,
          "showscale": true,
          "size": [
           17,
           17,
           17,
           17,
           17,
           18,
           7,
           12,
           7,
           12,
           6,
           11,
           6,
           11,
           6,
           11,
           6,
           11,
           8,
           9,
           9,
           8,
           9,
           9,
           11,
           12,
           12,
           12,
           17,
           12,
           17,
           23,
           28,
           23,
           28,
           10,
           10,
           5,
           6,
           11,
           19,
           22,
           13,
           11,
           12,
           14,
           13,
           11,
           6,
           7,
           8,
           14,
           7,
           7,
           8,
           7,
           10,
           13,
           13,
           14,
           13,
           13,
           13,
           15,
           15,
           7,
           7,
           8,
           7,
           7,
           13,
           13,
           14,
           14,
           19,
           20,
           13,
           13,
           2,
           4,
           6,
           12,
           24,
           7,
           12,
           10,
           10,
           23,
           28,
           28,
           6,
           6,
           5,
           5,
           5,
           5,
           10,
           14,
           22,
           5,
           6,
           0,
           3,
           15,
           3,
           3,
           0,
           3,
           0,
           0,
           0,
           0,
           0,
           0,
           0,
           0,
           0,
           0,
           0,
           0,
           0,
           0,
           0,
           0,
           0,
           0,
           0,
           0,
           0,
           0,
           0,
           2,
           0,
           0,
           0,
           0,
           0,
           0,
           0,
           0,
           0,
           0,
           0,
           0,
           0,
           0,
           0,
           0,
           3,
           4,
           6,
           3,
           4,
           6,
           3,
           4,
           6,
           3,
           4,
           6,
           4,
           5,
           7,
           3,
           4,
           6,
           3,
           4,
           6,
           3,
           4,
           6,
           3,
           4,
           6,
           4,
           5,
           7,
           6,
           8,
           10,
           6,
           8,
           10,
           3,
           4,
           5,
           3,
           4,
           5,
           3,
           4,
           5,
           3,
           4,
           5,
           0,
           0,
           0,
           0,
           0,
           0,
           0,
           0,
           0,
           0,
           0,
           0,
           0,
           0,
           0,
           4,
           5,
           8,
           4,
           5,
           8,
           0,
           2,
           3,
           0,
           2,
           3,
           3,
           4,
           4,
           0,
           0,
           0,
           5,
           5,
           5,
           12,
           15,
           19,
           10,
           13,
           16,
           4,
           5,
           6,
           0,
           0,
           0,
           0,
           0,
           0,
           5,
           6,
           8,
           0,
           0,
           6,
           7,
           4,
           4,
           5,
           2,
           9,
           5
          ]
         },
         "mode": "markers",
         "text": [
          "Egg McMuffin",
          "Egg White Delight",
          "Sausage McMuffin",
          "Sausage McMuffin with Egg",
          "Sausage McMuffin with Egg Whites",
          "Steak & Egg McMuffin",
          "Bacon, Egg & Cheese Biscuit (Regular Biscuit)",
          "Bacon, Egg & Cheese Biscuit (Large Biscuit)",
          "Bacon, Egg & Cheese Biscuit with Egg Whites (Regular Biscuit)",
          "Bacon, Egg & Cheese Biscuit with Egg Whites (Large Biscuit)",
          "Sausage Biscuit (Regular Biscuit)",
          "Sausage Biscuit (Large Biscuit)",
          "Sausage Biscuit with Egg (Regular Biscuit)",
          "Sausage Biscuit with Egg (Large Biscuit)",
          "Sausage Biscuit with Egg Whites (Regular Biscuit)",
          "Sausage Biscuit with Egg Whites (Large Biscuit)",
          "Southern Style Chicken Biscuit (Regular Biscuit)",
          "Southern Style Chicken Biscuit (Large Biscuit)",
          "Steak & Egg Biscuit (Regular Biscuit)",
          "Bacon, Egg & Cheese McGriddles",
          "Bacon, Egg & Cheese McGriddles with Egg Whites",
          "Sausage McGriddles",
          "Sausage, Egg & Cheese McGriddles",
          "Sausage, Egg & Cheese McGriddles with Egg Whites",
          "Bacon, Egg & Cheese Bagel",
          "Bacon, Egg & Cheese Bagel with Egg Whites",
          "Steak, Egg & Cheese Bagel",
          "Big Breakfast (Regular Biscuit)",
          "Big Breakfast (Large Biscuit)",
          "Big Breakfast with Egg Whites (Regular Biscuit)",
          "Big Breakfast with Egg Whites (Large Biscuit)",
          "Big Breakfast with Hotcakes (Regular Biscuit)",
          "Big Breakfast with Hotcakes (Large Biscuit)",
          "Big Breakfast with Hotcakes and Egg Whites (Regular Biscuit)",
          "Big Breakfast with Hotcakes and Egg Whites (Large Biscuit)",
          "Hotcakes",
          "Hotcakes and Sausage",
          "Sausage Burrito",
          "Hash Brown",
          "Cinnamon Melts",
          "Fruit & Maple Oatmeal",
          "Fruit & Maple Oatmeal without Brown Sugar",
          "Big Mac",
          "Quarter Pounder with Cheese",
          "Quarter Pounder with Bacon & Cheese",
          "Quarter Pounder with Bacon Habanero Ranch",
          "Quarter Pounder Deluxe",
          "Double Quarter Pounder with Cheese",
          "Hamburger",
          "Cheeseburger",
          "Double Cheeseburger",
          "Bacon Clubhouse Burger",
          "McDouble",
          "Bacon McDouble",
          "Daily Double",
          "Jalapeño Double",
          "McRib",
          "Premium Crispy Chicken Classic Sandwich",
          "Premium Grilled Chicken Classic Sandwich",
          "Premium Crispy Chicken Club Sandwich",
          "Premium Grilled Chicken Club Sandwich",
          "Premium Crispy Chicken Ranch BLT Sandwich",
          "Premium Grilled Chicken Ranch BLT Sandwich",
          "Bacon Clubhouse Crispy Chicken Sandwich",
          "Bacon Clubhouse Grilled Chicken Sandwich",
          "Southern Style Crispy Chicken Sandwich",
          "McChicken",
          "Bacon Cheddar McChicken",
          "Bacon Buffalo Ranch McChicken",
          "Buffalo Ranch McChicken",
          "Premium McWrap Chicken & Bacon (Crispy Chicken)",
          "Premium McWrap Chicken & Bacon (Grilled Chicken)",
          "Premium McWrap Chicken & Ranch (Crispy Chicken)",
          "Premium McWrap Chicken & Ranch (Grilled Chicken)",
          "Premium McWrap Southwest Chicken (Crispy Chicken)",
          "Premium McWrap Southwest Chicken (Grilled Chicken)",
          "Premium McWrap Chicken Sweet Chili (Crispy Chicken)",
          "Premium McWrap Chicken Sweet Chili (Grilled Chicken)",
          "Chicken McNuggets (4 piece)",
          "Chicken McNuggets (6 piece)",
          "Chicken McNuggets (10 piece)",
          "Chicken McNuggets (20 piece)",
          "Chicken McNuggets (40 piece)",
          "Filet-O-Fish",
          "Premium Bacon Ranch Salad (without Chicken)",
          "Premium Bacon Ranch Salad with Crispy Chicken",
          "Premium Bacon Ranch Salad with Grilled Chicken",
          "Premium Southwest Salad (without Chicken)",
          "Premium Southwest Salad with Crispy Chicken",
          "Premium Southwest Salad with Grilled Chicken",
          "Chipotle BBQ Snack Wrap (Crispy Chicken)",
          "Chipotle BBQ Snack Wrap (Grilled Chicken)",
          "Honey Mustard Snack Wrap (Crispy Chicken)",
          "Honey Mustard Snack Wrap (Grilled Chicken)",
          "Ranch Snack Wrap (Crispy Chicken)",
          "Ranch Snack Wrap (Grilled Chicken)",
          "Small French Fries",
          "Medium French Fries",
          "Large French Fries",
          "Kids French Fries",
          "Side Salad",
          "Apple Slices",
          "Fruit 'n Yogurt Parfait",
          "Baked Apple Pie",
          "Chocolate Chip Cookie",
          "Oatmeal Raisin Cookie",
          "Kids Ice Cream Cone",
          "Hot Fudge Sundae",
          "Hot Caramel Sundae",
          "Strawberry Sundae",
          "Coca-Cola Classic (Small)",
          "Coca-Cola Classic (Medium)",
          "Coca-Cola Classic (Large)",
          "Coca-Cola Classic (Child)",
          "Diet Coke (Small)",
          "Diet Coke (Medium)",
          "Diet Coke (Large)",
          "Diet Coke (Child)",
          "Dr Pepper (Small)",
          "Dr Pepper (Medium)",
          "Dr Pepper (Large)",
          "Dr Pepper (Child)",
          "Diet Dr Pepper (Small)",
          "Diet Dr Pepper (Medium)",
          "Diet Dr Pepper (Large)",
          "Diet Dr Pepper (Child)",
          "Sprite (Small)",
          "Sprite (Medium)",
          "Sprite (Large)",
          "Sprite (Child)",
          "1% Low Fat Milk Jug",
          "Fat Free Chocolate Milk Jug",
          "Minute Maid 100% Apple Juice Box",
          "Minute Maid Orange Juice (Small)",
          "Minute Maid Orange Juice (Medium)",
          "Minute Maid Orange Juice (Large)",
          "Dasani Water Bottle",
          "Iced Tea (Small)",
          "Iced Tea (Medium)",
          "Iced Tea (Large)",
          "Iced Tea (Child)",
          "Sweet Tea (Small)",
          "Sweet Tea (Medium)",
          "Sweet Tea (Large)",
          "Sweet Tea (Child)",
          "Coffee (Small)",
          "Coffee (Medium)",
          "Coffee (Large)",
          "Latte (Small)",
          "Latte (Medium)",
          "Latte (Large)",
          "Caramel Latte (Small)",
          "Caramel Latte (Medium)",
          "Caramel Latte (Large)",
          "Hazelnut Latte (Small)",
          "Hazelnut Latte (Medium)",
          "Hazelnut Latte (Large)",
          "French Vanilla Latte (Small)",
          "French Vanilla Latte (Medium)",
          "French Vanilla Latte (Large)",
          "Latte with Sugar Free French Vanilla Syrup (Small)",
          "Latte with Sugar Free French Vanilla Syrup (Medium)",
          "Latte with Sugar Free French Vanilla Syrup (Large)",
          "Nonfat Latte (Small)",
          "Nonfat Latte (Medium)",
          "Nonfat Latte (Large)",
          "Nonfat Caramel Latte (Small)",
          "Nonfat Caramel Latte (Medium)",
          "Nonfat Caramel Latte (Large)",
          "Nonfat Hazelnut Latte (Small)",
          "Nonfat Hazelnut Latte (Medium)",
          "Nonfat Hazelnut Latte (Large)",
          "Nonfat French Vanilla Latte (Small)",
          "Nonfat French Vanilla Latte (Medium)",
          "Nonfat French Vanilla Latte (Large)",
          "Nonfat Latte with Sugar Free French Vanilla Syrup (Small)",
          "Nonfat Latte with Sugar Free French Vanilla Syrup (Medium)",
          "Nonfat Latte with Sugar Free French Vanilla Syrup (Large)",
          "Mocha (Small)",
          "Mocha (Medium)",
          "Mocha (Large)",
          "Mocha with Nonfat Milk (Small)",
          "Mocha with Nonfat Milk (Medium)",
          "Mocha with Nonfat Milk (Large)",
          "Caramel Mocha (Small)",
          "Caramel Mocha (Medium)",
          "Caramel Mocha (Large)",
          "Nonfat Caramel Mocha (Small)",
          "Nonfat Caramel Mocha (Medium)",
          "Nonfat Caramel Mocha (Large)",
          "Hot Chocolate (Small)",
          "Hot Chocolate (Medium)",
          "Hot Chocolate (Large)",
          "Hot Chocolate with Nonfat Milk (Small)",
          "Hot Chocolate with Nonfat Milk (Medium)",
          "Hot Chocolate with Nonfat Milk (Large)",
          "Regular Iced Coffee (Small)",
          "Regular Iced Coffee (Medium)",
          "Regular Iced Coffee (Large)",
          "Caramel Iced Coffee (Small)",
          "Caramel Iced Coffee (Medium)",
          "Caramel Iced Coffee (Large)",
          "Hazelnut Iced Coffee (Small)",
          "Hazelnut Iced Coffee (Medium)",
          "Hazelnut Iced Coffee (Large)",
          "French Vanilla Iced Coffee (Small)",
          "French Vanilla Iced Coffee (Medium)",
          "French Vanilla Iced Coffee (Large)",
          "Iced Coffee with Sugar Free French Vanilla Syrup (Small)",
          "Iced Coffee with Sugar Free French Vanilla Syrup (Medium)",
          "Iced Coffee with Sugar Free French Vanilla Syrup (Large)",
          "Iced Mocha (Small)",
          "Iced Mocha (Medium)",
          "Iced Mocha (Large)",
          "Iced Mocha with Nonfat Milk (Small)",
          "Iced Mocha with Nonfat Milk (Medium)",
          "Iced Mocha with Nonfat Milk (Large)",
          "Iced Caramel Mocha (Small)",
          "Iced Caramel Mocha (Medium)",
          "Iced Caramel Mocha (Large)",
          "Iced Nonfat Caramel Mocha (Small)",
          "Iced Nonfat Caramel Mocha (Medium)",
          "Iced Nonfat Caramel Mocha (Large)",
          "Frappé Mocha (Small)",
          "Frappé Mocha (Medium)",
          "Frappé Mocha (Large)",
          "Frappé Caramel (Small)",
          "Frappé Caramel (Medium)",
          "Frappé Caramel (Large)",
          "Frappé Chocolate Chip (Small)",
          "Frappé Chocolate Chip (Medium)",
          "Frappé Chocolate Chip (Large)",
          "Blueberry Pomegranate Smoothie (Small)",
          "Blueberry Pomegranate Smoothie (Medium)",
          "Blueberry Pomegranate Smoothie (Large)",
          "Strawberry Banana Smoothie (Small)",
          "Strawberry Banana Smoothie (Medium)",
          "Strawberry Banana Smoothie (Large)",
          "Mango Pineapple Smoothie (Small)",
          "Mango Pineapple Smoothie (Medium)",
          "Mango Pineapple Smoothie (Large)",
          "Vanilla Shake (Small)",
          "Vanilla Shake (Medium)",
          "Vanilla Shake (Large)",
          "Strawberry Shake (Small)",
          "Strawberry Shake (Medium)",
          "Strawberry Shake (Large)",
          "Chocolate Shake (Small)",
          "Chocolate Shake (Medium)",
          "Chocolate Shake (Large)",
          "Shamrock Shake (Medium)",
          "Shamrock Shake (Large)",
          "McFlurry with M&M’s Candies (Small)",
          "McFlurry with M&M’s Candies (Medium)",
          "McFlurry with M&M’s Candies (Snack)",
          "McFlurry with Oreo Cookies (Small)",
          "McFlurry with Oreo Cookies (Medium)",
          "McFlurry with Oreo Cookies (Snack)",
          "McFlurry with Reese's Peanut Butter Cups (Medium)",
          "McFlurry with Reese's Peanut Butter Cups (Snack)"
         ],
         "type": "scatter",
         "x": [
          "Egg McMuffin",
          "Egg White Delight",
          "Sausage McMuffin",
          "Sausage McMuffin with Egg",
          "Sausage McMuffin with Egg Whites",
          "Steak & Egg McMuffin",
          "Bacon, Egg & Cheese Biscuit (Regular Biscuit)",
          "Bacon, Egg & Cheese Biscuit (Large Biscuit)",
          "Bacon, Egg & Cheese Biscuit with Egg Whites (Regular Biscuit)",
          "Bacon, Egg & Cheese Biscuit with Egg Whites (Large Biscuit)",
          "Sausage Biscuit (Regular Biscuit)",
          "Sausage Biscuit (Large Biscuit)",
          "Sausage Biscuit with Egg (Regular Biscuit)",
          "Sausage Biscuit with Egg (Large Biscuit)",
          "Sausage Biscuit with Egg Whites (Regular Biscuit)",
          "Sausage Biscuit with Egg Whites (Large Biscuit)",
          "Southern Style Chicken Biscuit (Regular Biscuit)",
          "Southern Style Chicken Biscuit (Large Biscuit)",
          "Steak & Egg Biscuit (Regular Biscuit)",
          "Bacon, Egg & Cheese McGriddles",
          "Bacon, Egg & Cheese McGriddles with Egg Whites",
          "Sausage McGriddles",
          "Sausage, Egg & Cheese McGriddles",
          "Sausage, Egg & Cheese McGriddles with Egg Whites",
          "Bacon, Egg & Cheese Bagel",
          "Bacon, Egg & Cheese Bagel with Egg Whites",
          "Steak, Egg & Cheese Bagel",
          "Big Breakfast (Regular Biscuit)",
          "Big Breakfast (Large Biscuit)",
          "Big Breakfast with Egg Whites (Regular Biscuit)",
          "Big Breakfast with Egg Whites (Large Biscuit)",
          "Big Breakfast with Hotcakes (Regular Biscuit)",
          "Big Breakfast with Hotcakes (Large Biscuit)",
          "Big Breakfast with Hotcakes and Egg Whites (Regular Biscuit)",
          "Big Breakfast with Hotcakes and Egg Whites (Large Biscuit)",
          "Hotcakes",
          "Hotcakes and Sausage",
          "Sausage Burrito",
          "Hash Brown",
          "Cinnamon Melts",
          "Fruit & Maple Oatmeal",
          "Fruit & Maple Oatmeal without Brown Sugar",
          "Big Mac",
          "Quarter Pounder with Cheese",
          "Quarter Pounder with Bacon & Cheese",
          "Quarter Pounder with Bacon Habanero Ranch",
          "Quarter Pounder Deluxe",
          "Double Quarter Pounder with Cheese",
          "Hamburger",
          "Cheeseburger",
          "Double Cheeseburger",
          "Bacon Clubhouse Burger",
          "McDouble",
          "Bacon McDouble",
          "Daily Double",
          "Jalapeño Double",
          "McRib",
          "Premium Crispy Chicken Classic Sandwich",
          "Premium Grilled Chicken Classic Sandwich",
          "Premium Crispy Chicken Club Sandwich",
          "Premium Grilled Chicken Club Sandwich",
          "Premium Crispy Chicken Ranch BLT Sandwich",
          "Premium Grilled Chicken Ranch BLT Sandwich",
          "Bacon Clubhouse Crispy Chicken Sandwich",
          "Bacon Clubhouse Grilled Chicken Sandwich",
          "Southern Style Crispy Chicken Sandwich",
          "McChicken",
          "Bacon Cheddar McChicken",
          "Bacon Buffalo Ranch McChicken",
          "Buffalo Ranch McChicken",
          "Premium McWrap Chicken & Bacon (Crispy Chicken)",
          "Premium McWrap Chicken & Bacon (Grilled Chicken)",
          "Premium McWrap Chicken & Ranch (Crispy Chicken)",
          "Premium McWrap Chicken & Ranch (Grilled Chicken)",
          "Premium McWrap Southwest Chicken (Crispy Chicken)",
          "Premium McWrap Southwest Chicken (Grilled Chicken)",
          "Premium McWrap Chicken Sweet Chili (Crispy Chicken)",
          "Premium McWrap Chicken Sweet Chili (Grilled Chicken)",
          "Chicken McNuggets (4 piece)",
          "Chicken McNuggets (6 piece)",
          "Chicken McNuggets (10 piece)",
          "Chicken McNuggets (20 piece)",
          "Chicken McNuggets (40 piece)",
          "Filet-O-Fish",
          "Premium Bacon Ranch Salad (without Chicken)",
          "Premium Bacon Ranch Salad with Crispy Chicken",
          "Premium Bacon Ranch Salad with Grilled Chicken",
          "Premium Southwest Salad (without Chicken)",
          "Premium Southwest Salad with Crispy Chicken",
          "Premium Southwest Salad with Grilled Chicken",
          "Chipotle BBQ Snack Wrap (Crispy Chicken)",
          "Chipotle BBQ Snack Wrap (Grilled Chicken)",
          "Honey Mustard Snack Wrap (Crispy Chicken)",
          "Honey Mustard Snack Wrap (Grilled Chicken)",
          "Ranch Snack Wrap (Crispy Chicken)",
          "Ranch Snack Wrap (Grilled Chicken)",
          "Small French Fries",
          "Medium French Fries",
          "Large French Fries",
          "Kids French Fries",
          "Side Salad",
          "Apple Slices",
          "Fruit 'n Yogurt Parfait",
          "Baked Apple Pie",
          "Chocolate Chip Cookie",
          "Oatmeal Raisin Cookie",
          "Kids Ice Cream Cone",
          "Hot Fudge Sundae",
          "Hot Caramel Sundae",
          "Strawberry Sundae",
          "Coca-Cola Classic (Small)",
          "Coca-Cola Classic (Medium)",
          "Coca-Cola Classic (Large)",
          "Coca-Cola Classic (Child)",
          "Diet Coke (Small)",
          "Diet Coke (Medium)",
          "Diet Coke (Large)",
          "Diet Coke (Child)",
          "Dr Pepper (Small)",
          "Dr Pepper (Medium)",
          "Dr Pepper (Large)",
          "Dr Pepper (Child)",
          "Diet Dr Pepper (Small)",
          "Diet Dr Pepper (Medium)",
          "Diet Dr Pepper (Large)",
          "Diet Dr Pepper (Child)",
          "Sprite (Small)",
          "Sprite (Medium)",
          "Sprite (Large)",
          "Sprite (Child)",
          "1% Low Fat Milk Jug",
          "Fat Free Chocolate Milk Jug",
          "Minute Maid 100% Apple Juice Box",
          "Minute Maid Orange Juice (Small)",
          "Minute Maid Orange Juice (Medium)",
          "Minute Maid Orange Juice (Large)",
          "Dasani Water Bottle",
          "Iced Tea (Small)",
          "Iced Tea (Medium)",
          "Iced Tea (Large)",
          "Iced Tea (Child)",
          "Sweet Tea (Small)",
          "Sweet Tea (Medium)",
          "Sweet Tea (Large)",
          "Sweet Tea (Child)",
          "Coffee (Small)",
          "Coffee (Medium)",
          "Coffee (Large)",
          "Latte (Small)",
          "Latte (Medium)",
          "Latte (Large)",
          "Caramel Latte (Small)",
          "Caramel Latte (Medium)",
          "Caramel Latte (Large)",
          "Hazelnut Latte (Small)",
          "Hazelnut Latte (Medium)",
          "Hazelnut Latte (Large)",
          "French Vanilla Latte (Small)",
          "French Vanilla Latte (Medium)",
          "French Vanilla Latte (Large)",
          "Latte with Sugar Free French Vanilla Syrup (Small)",
          "Latte with Sugar Free French Vanilla Syrup (Medium)",
          "Latte with Sugar Free French Vanilla Syrup (Large)",
          "Nonfat Latte (Small)",
          "Nonfat Latte (Medium)",
          "Nonfat Latte (Large)",
          "Nonfat Caramel Latte (Small)",
          "Nonfat Caramel Latte (Medium)",
          "Nonfat Caramel Latte (Large)",
          "Nonfat Hazelnut Latte (Small)",
          "Nonfat Hazelnut Latte (Medium)",
          "Nonfat Hazelnut Latte (Large)",
          "Nonfat French Vanilla Latte (Small)",
          "Nonfat French Vanilla Latte (Medium)",
          "Nonfat French Vanilla Latte (Large)",
          "Nonfat Latte with Sugar Free French Vanilla Syrup (Small)",
          "Nonfat Latte with Sugar Free French Vanilla Syrup (Medium)",
          "Nonfat Latte with Sugar Free French Vanilla Syrup (Large)",
          "Mocha (Small)",
          "Mocha (Medium)",
          "Mocha (Large)",
          "Mocha with Nonfat Milk (Small)",
          "Mocha with Nonfat Milk (Medium)",
          "Mocha with Nonfat Milk (Large)",
          "Caramel Mocha (Small)",
          "Caramel Mocha (Medium)",
          "Caramel Mocha (Large)",
          "Nonfat Caramel Mocha (Small)",
          "Nonfat Caramel Mocha (Medium)",
          "Nonfat Caramel Mocha (Large)",
          "Hot Chocolate (Small)",
          "Hot Chocolate (Medium)",
          "Hot Chocolate (Large)",
          "Hot Chocolate with Nonfat Milk (Small)",
          "Hot Chocolate with Nonfat Milk (Medium)",
          "Hot Chocolate with Nonfat Milk (Large)",
          "Regular Iced Coffee (Small)",
          "Regular Iced Coffee (Medium)",
          "Regular Iced Coffee (Large)",
          "Caramel Iced Coffee (Small)",
          "Caramel Iced Coffee (Medium)",
          "Caramel Iced Coffee (Large)",
          "Hazelnut Iced Coffee (Small)",
          "Hazelnut Iced Coffee (Medium)",
          "Hazelnut Iced Coffee (Large)",
          "French Vanilla Iced Coffee (Small)",
          "French Vanilla Iced Coffee (Medium)",
          "French Vanilla Iced Coffee (Large)",
          "Iced Coffee with Sugar Free French Vanilla Syrup (Small)",
          "Iced Coffee with Sugar Free French Vanilla Syrup (Medium)",
          "Iced Coffee with Sugar Free French Vanilla Syrup (Large)",
          "Iced Mocha (Small)",
          "Iced Mocha (Medium)",
          "Iced Mocha (Large)",
          "Iced Mocha with Nonfat Milk (Small)",
          "Iced Mocha with Nonfat Milk (Medium)",
          "Iced Mocha with Nonfat Milk (Large)",
          "Iced Caramel Mocha (Small)",
          "Iced Caramel Mocha (Medium)",
          "Iced Caramel Mocha (Large)",
          "Iced Nonfat Caramel Mocha (Small)",
          "Iced Nonfat Caramel Mocha (Medium)",
          "Iced Nonfat Caramel Mocha (Large)",
          "Frappé Mocha (Small)",
          "Frappé Mocha (Medium)",
          "Frappé Mocha (Large)",
          "Frappé Caramel (Small)",
          "Frappé Caramel (Medium)",
          "Frappé Caramel (Large)",
          "Frappé Chocolate Chip (Small)",
          "Frappé Chocolate Chip (Medium)",
          "Frappé Chocolate Chip (Large)",
          "Blueberry Pomegranate Smoothie (Small)",
          "Blueberry Pomegranate Smoothie (Medium)",
          "Blueberry Pomegranate Smoothie (Large)",
          "Strawberry Banana Smoothie (Small)",
          "Strawberry Banana Smoothie (Medium)",
          "Strawberry Banana Smoothie (Large)",
          "Mango Pineapple Smoothie (Small)",
          "Mango Pineapple Smoothie (Medium)",
          "Mango Pineapple Smoothie (Large)",
          "Vanilla Shake (Small)",
          "Vanilla Shake (Medium)",
          "Vanilla Shake (Large)",
          "Strawberry Shake (Small)",
          "Strawberry Shake (Medium)",
          "Strawberry Shake (Large)",
          "Chocolate Shake (Small)",
          "Chocolate Shake (Medium)",
          "Chocolate Shake (Large)",
          "Shamrock Shake (Medium)",
          "Shamrock Shake (Large)",
          "McFlurry with M&M’s Candies (Small)",
          "McFlurry with M&M’s Candies (Medium)",
          "McFlurry with M&M’s Candies (Snack)",
          "McFlurry with Oreo Cookies (Small)",
          "McFlurry with Oreo Cookies (Medium)",
          "McFlurry with Oreo Cookies (Snack)",
          "McFlurry with Reese's Peanut Butter Cups (Medium)",
          "McFlurry with Reese's Peanut Butter Cups (Snack)"
         ],
         "y": [
          17,
          17,
          17,
          17,
          17,
          18,
          7,
          12,
          7,
          12,
          6,
          11,
          6,
          11,
          6,
          11,
          6,
          11,
          8,
          9,
          9,
          8,
          9,
          9,
          11,
          12,
          12,
          12,
          17,
          12,
          17,
          23,
          28,
          23,
          28,
          10,
          10,
          5,
          6,
          11,
          19,
          22,
          13,
          11,
          12,
          14,
          13,
          11,
          6,
          7,
          8,
          14,
          7,
          7,
          8,
          7,
          10,
          13,
          13,
          14,
          13,
          13,
          13,
          15,
          15,
          7,
          7,
          8,
          7,
          7,
          13,
          13,
          14,
          14,
          19,
          20,
          13,
          13,
          2,
          4,
          6,
          12,
          24,
          7,
          12,
          10,
          10,
          23,
          28,
          28,
          6,
          6,
          5,
          5,
          5,
          5,
          10,
          14,
          22,
          5,
          6,
          0,
          3,
          15,
          3,
          3,
          0,
          3,
          0,
          0,
          0,
          0,
          0,
          0,
          0,
          0,
          0,
          0,
          0,
          0,
          0,
          0,
          0,
          0,
          0,
          0,
          0,
          0,
          0,
          0,
          0,
          2,
          0,
          0,
          0,
          0,
          0,
          0,
          0,
          0,
          0,
          0,
          0,
          0,
          0,
          0,
          0,
          0,
          3,
          4,
          6,
          3,
          4,
          6,
          3,
          4,
          6,
          3,
          4,
          6,
          4,
          5,
          7,
          3,
          4,
          6,
          3,
          4,
          6,
          3,
          4,
          6,
          3,
          4,
          6,
          4,
          5,
          7,
          6,
          8,
          10,
          6,
          8,
          10,
          3,
          4,
          5,
          3,
          4,
          5,
          3,
          4,
          5,
          3,
          4,
          5,
          0,
          0,
          0,
          0,
          0,
          0,
          0,
          0,
          0,
          0,
          0,
          0,
          0,
          0,
          0,
          4,
          5,
          8,
          4,
          5,
          8,
          0,
          2,
          3,
          0,
          2,
          3,
          3,
          4,
          4,
          0,
          0,
          0,
          5,
          5,
          5,
          12,
          15,
          19,
          10,
          13,
          16,
          4,
          5,
          6,
          0,
          0,
          0,
          0,
          0,
          0,
          5,
          6,
          8,
          0,
          0,
          6,
          7,
          4,
          4,
          5,
          2,
          9,
          5
         ]
        }
       ],
       "layout": {
        "autosize": true,
        "hovermode": "closest",
        "showlegend": false,
        "template": {
         "data": {
          "bar": [
           {
            "error_x": {
             "color": "#2a3f5f"
            },
            "error_y": {
             "color": "#2a3f5f"
            },
            "marker": {
             "line": {
              "color": "#E5ECF6",
              "width": 0.5
             }
            },
            "type": "bar"
           }
          ],
          "barpolar": [
           {
            "marker": {
             "line": {
              "color": "#E5ECF6",
              "width": 0.5
             }
            },
            "type": "barpolar"
           }
          ],
          "carpet": [
           {
            "aaxis": {
             "endlinecolor": "#2a3f5f",
             "gridcolor": "white",
             "linecolor": "white",
             "minorgridcolor": "white",
             "startlinecolor": "#2a3f5f"
            },
            "baxis": {
             "endlinecolor": "#2a3f5f",
             "gridcolor": "white",
             "linecolor": "white",
             "minorgridcolor": "white",
             "startlinecolor": "#2a3f5f"
            },
            "type": "carpet"
           }
          ],
          "choropleth": [
           {
            "colorbar": {
             "outlinewidth": 0,
             "ticks": ""
            },
            "type": "choropleth"
           }
          ],
          "contour": [
           {
            "colorbar": {
             "outlinewidth": 0,
             "ticks": ""
            },
            "colorscale": [
             [
              0,
              "#0d0887"
             ],
             [
              0.1111111111111111,
              "#46039f"
             ],
             [
              0.2222222222222222,
              "#7201a8"
             ],
             [
              0.3333333333333333,
              "#9c179e"
             ],
             [
              0.4444444444444444,
              "#bd3786"
             ],
             [
              0.5555555555555556,
              "#d8576b"
             ],
             [
              0.6666666666666666,
              "#ed7953"
             ],
             [
              0.7777777777777778,
              "#fb9f3a"
             ],
             [
              0.8888888888888888,
              "#fdca26"
             ],
             [
              1,
              "#f0f921"
             ]
            ],
            "type": "contour"
           }
          ],
          "contourcarpet": [
           {
            "colorbar": {
             "outlinewidth": 0,
             "ticks": ""
            },
            "type": "contourcarpet"
           }
          ],
          "heatmap": [
           {
            "colorbar": {
             "outlinewidth": 0,
             "ticks": ""
            },
            "colorscale": [
             [
              0,
              "#0d0887"
             ],
             [
              0.1111111111111111,
              "#46039f"
             ],
             [
              0.2222222222222222,
              "#7201a8"
             ],
             [
              0.3333333333333333,
              "#9c179e"
             ],
             [
              0.4444444444444444,
              "#bd3786"
             ],
             [
              0.5555555555555556,
              "#d8576b"
             ],
             [
              0.6666666666666666,
              "#ed7953"
             ],
             [
              0.7777777777777778,
              "#fb9f3a"
             ],
             [
              0.8888888888888888,
              "#fdca26"
             ],
             [
              1,
              "#f0f921"
             ]
            ],
            "type": "heatmap"
           }
          ],
          "heatmapgl": [
           {
            "colorbar": {
             "outlinewidth": 0,
             "ticks": ""
            },
            "colorscale": [
             [
              0,
              "#0d0887"
             ],
             [
              0.1111111111111111,
              "#46039f"
             ],
             [
              0.2222222222222222,
              "#7201a8"
             ],
             [
              0.3333333333333333,
              "#9c179e"
             ],
             [
              0.4444444444444444,
              "#bd3786"
             ],
             [
              0.5555555555555556,
              "#d8576b"
             ],
             [
              0.6666666666666666,
              "#ed7953"
             ],
             [
              0.7777777777777778,
              "#fb9f3a"
             ],
             [
              0.8888888888888888,
              "#fdca26"
             ],
             [
              1,
              "#f0f921"
             ]
            ],
            "type": "heatmapgl"
           }
          ],
          "histogram": [
           {
            "marker": {
             "colorbar": {
              "outlinewidth": 0,
              "ticks": ""
             }
            },
            "type": "histogram"
           }
          ],
          "histogram2d": [
           {
            "colorbar": {
             "outlinewidth": 0,
             "ticks": ""
            },
            "colorscale": [
             [
              0,
              "#0d0887"
             ],
             [
              0.1111111111111111,
              "#46039f"
             ],
             [
              0.2222222222222222,
              "#7201a8"
             ],
             [
              0.3333333333333333,
              "#9c179e"
             ],
             [
              0.4444444444444444,
              "#bd3786"
             ],
             [
              0.5555555555555556,
              "#d8576b"
             ],
             [
              0.6666666666666666,
              "#ed7953"
             ],
             [
              0.7777777777777778,
              "#fb9f3a"
             ],
             [
              0.8888888888888888,
              "#fdca26"
             ],
             [
              1,
              "#f0f921"
             ]
            ],
            "type": "histogram2d"
           }
          ],
          "histogram2dcontour": [
           {
            "colorbar": {
             "outlinewidth": 0,
             "ticks": ""
            },
            "colorscale": [
             [
              0,
              "#0d0887"
             ],
             [
              0.1111111111111111,
              "#46039f"
             ],
             [
              0.2222222222222222,
              "#7201a8"
             ],
             [
              0.3333333333333333,
              "#9c179e"
             ],
             [
              0.4444444444444444,
              "#bd3786"
             ],
             [
              0.5555555555555556,
              "#d8576b"
             ],
             [
              0.6666666666666666,
              "#ed7953"
             ],
             [
              0.7777777777777778,
              "#fb9f3a"
             ],
             [
              0.8888888888888888,
              "#fdca26"
             ],
             [
              1,
              "#f0f921"
             ]
            ],
            "type": "histogram2dcontour"
           }
          ],
          "mesh3d": [
           {
            "colorbar": {
             "outlinewidth": 0,
             "ticks": ""
            },
            "type": "mesh3d"
           }
          ],
          "parcoords": [
           {
            "line": {
             "colorbar": {
              "outlinewidth": 0,
              "ticks": ""
             }
            },
            "type": "parcoords"
           }
          ],
          "pie": [
           {
            "automargin": true,
            "type": "pie"
           }
          ],
          "scatter": [
           {
            "marker": {
             "colorbar": {
              "outlinewidth": 0,
              "ticks": ""
             }
            },
            "type": "scatter"
           }
          ],
          "scatter3d": [
           {
            "line": {
             "colorbar": {
              "outlinewidth": 0,
              "ticks": ""
             }
            },
            "marker": {
             "colorbar": {
              "outlinewidth": 0,
              "ticks": ""
             }
            },
            "type": "scatter3d"
           }
          ],
          "scattercarpet": [
           {
            "marker": {
             "colorbar": {
              "outlinewidth": 0,
              "ticks": ""
             }
            },
            "type": "scattercarpet"
           }
          ],
          "scattergeo": [
           {
            "marker": {
             "colorbar": {
              "outlinewidth": 0,
              "ticks": ""
             }
            },
            "type": "scattergeo"
           }
          ],
          "scattergl": [
           {
            "marker": {
             "colorbar": {
              "outlinewidth": 0,
              "ticks": ""
             }
            },
            "type": "scattergl"
           }
          ],
          "scattermapbox": [
           {
            "marker": {
             "colorbar": {
              "outlinewidth": 0,
              "ticks": ""
             }
            },
            "type": "scattermapbox"
           }
          ],
          "scatterpolar": [
           {
            "marker": {
             "colorbar": {
              "outlinewidth": 0,
              "ticks": ""
             }
            },
            "type": "scatterpolar"
           }
          ],
          "scatterpolargl": [
           {
            "marker": {
             "colorbar": {
              "outlinewidth": 0,
              "ticks": ""
             }
            },
            "type": "scatterpolargl"
           }
          ],
          "scatterternary": [
           {
            "marker": {
             "colorbar": {
              "outlinewidth": 0,
              "ticks": ""
             }
            },
            "type": "scatterternary"
           }
          ],
          "surface": [
           {
            "colorbar": {
             "outlinewidth": 0,
             "ticks": ""
            },
            "colorscale": [
             [
              0,
              "#0d0887"
             ],
             [
              0.1111111111111111,
              "#46039f"
             ],
             [
              0.2222222222222222,
              "#7201a8"
             ],
             [
              0.3333333333333333,
              "#9c179e"
             ],
             [
              0.4444444444444444,
              "#bd3786"
             ],
             [
              0.5555555555555556,
              "#d8576b"
             ],
             [
              0.6666666666666666,
              "#ed7953"
             ],
             [
              0.7777777777777778,
              "#fb9f3a"
             ],
             [
              0.8888888888888888,
              "#fdca26"
             ],
             [
              1,
              "#f0f921"
             ]
            ],
            "type": "surface"
           }
          ],
          "table": [
           {
            "cells": {
             "fill": {
              "color": "#EBF0F8"
             },
             "line": {
              "color": "white"
             }
            },
            "header": {
             "fill": {
              "color": "#C8D4E3"
             },
             "line": {
              "color": "white"
             }
            },
            "type": "table"
           }
          ]
         },
         "layout": {
          "annotationdefaults": {
           "arrowcolor": "#2a3f5f",
           "arrowhead": 0,
           "arrowwidth": 1
          },
          "coloraxis": {
           "colorbar": {
            "outlinewidth": 0,
            "ticks": ""
           }
          },
          "colorscale": {
           "diverging": [
            [
             0,
             "#8e0152"
            ],
            [
             0.1,
             "#c51b7d"
            ],
            [
             0.2,
             "#de77ae"
            ],
            [
             0.3,
             "#f1b6da"
            ],
            [
             0.4,
             "#fde0ef"
            ],
            [
             0.5,
             "#f7f7f7"
            ],
            [
             0.6,
             "#e6f5d0"
            ],
            [
             0.7,
             "#b8e186"
            ],
            [
             0.8,
             "#7fbc41"
            ],
            [
             0.9,
             "#4d9221"
            ],
            [
             1,
             "#276419"
            ]
           ],
           "sequential": [
            [
             0,
             "#0d0887"
            ],
            [
             0.1111111111111111,
             "#46039f"
            ],
            [
             0.2222222222222222,
             "#7201a8"
            ],
            [
             0.3333333333333333,
             "#9c179e"
            ],
            [
             0.4444444444444444,
             "#bd3786"
            ],
            [
             0.5555555555555556,
             "#d8576b"
            ],
            [
             0.6666666666666666,
             "#ed7953"
            ],
            [
             0.7777777777777778,
             "#fb9f3a"
            ],
            [
             0.8888888888888888,
             "#fdca26"
            ],
            [
             1,
             "#f0f921"
            ]
           ],
           "sequentialminus": [
            [
             0,
             "#0d0887"
            ],
            [
             0.1111111111111111,
             "#46039f"
            ],
            [
             0.2222222222222222,
             "#7201a8"
            ],
            [
             0.3333333333333333,
             "#9c179e"
            ],
            [
             0.4444444444444444,
             "#bd3786"
            ],
            [
             0.5555555555555556,
             "#d8576b"
            ],
            [
             0.6666666666666666,
             "#ed7953"
            ],
            [
             0.7777777777777778,
             "#fb9f3a"
            ],
            [
             0.8888888888888888,
             "#fdca26"
            ],
            [
             1,
             "#f0f921"
            ]
           ]
          },
          "colorway": [
           "#636efa",
           "#EF553B",
           "#00cc96",
           "#ab63fa",
           "#FFA15A",
           "#19d3f3",
           "#FF6692",
           "#B6E880",
           "#FF97FF",
           "#FECB52"
          ],
          "font": {
           "color": "#2a3f5f"
          },
          "geo": {
           "bgcolor": "white",
           "lakecolor": "white",
           "landcolor": "#E5ECF6",
           "showlakes": true,
           "showland": true,
           "subunitcolor": "white"
          },
          "hoverlabel": {
           "align": "left"
          },
          "hovermode": "closest",
          "mapbox": {
           "style": "light"
          },
          "paper_bgcolor": "white",
          "plot_bgcolor": "#E5ECF6",
          "polar": {
           "angularaxis": {
            "gridcolor": "white",
            "linecolor": "white",
            "ticks": ""
           },
           "bgcolor": "#E5ECF6",
           "radialaxis": {
            "gridcolor": "white",
            "linecolor": "white",
            "ticks": ""
           }
          },
          "scene": {
           "xaxis": {
            "backgroundcolor": "#E5ECF6",
            "gridcolor": "white",
            "gridwidth": 2,
            "linecolor": "white",
            "showbackground": true,
            "ticks": "",
            "zerolinecolor": "white"
           },
           "yaxis": {
            "backgroundcolor": "#E5ECF6",
            "gridcolor": "white",
            "gridwidth": 2,
            "linecolor": "white",
            "showbackground": true,
            "ticks": "",
            "zerolinecolor": "white"
           },
           "zaxis": {
            "backgroundcolor": "#E5ECF6",
            "gridcolor": "white",
            "gridwidth": 2,
            "linecolor": "white",
            "showbackground": true,
            "ticks": "",
            "zerolinecolor": "white"
           }
          },
          "shapedefaults": {
           "line": {
            "color": "#2a3f5f"
           }
          },
          "ternary": {
           "aaxis": {
            "gridcolor": "white",
            "linecolor": "white",
            "ticks": ""
           },
           "baxis": {
            "gridcolor": "white",
            "linecolor": "white",
            "ticks": ""
           },
           "bgcolor": "#E5ECF6",
           "caxis": {
            "gridcolor": "white",
            "linecolor": "white",
            "ticks": ""
           }
          },
          "title": {
           "x": 0.05
          },
          "xaxis": {
           "automargin": true,
           "gridcolor": "white",
           "linecolor": "white",
           "ticks": "",
           "title": {
            "standoff": 15
           },
           "zerolinecolor": "white",
           "zerolinewidth": 2
          },
          "yaxis": {
           "automargin": true,
           "gridcolor": "white",
           "linecolor": "white",
           "ticks": "",
           "title": {
            "standoff": 15
           },
           "zerolinecolor": "white",
           "zerolinewidth": 2
          }
         }
        },
        "title": {
         "text": "Scatter plot of Dietary Fiber (% Daily Value) per Item on the Menu"
        },
        "xaxis": {
         "showgrid": false,
         "showline": false,
         "zeroline": false
        },
        "yaxis": {
         "gridwidth": 2,
         "showgrid": false,
         "showline": false,
         "ticklen": 5,
         "title": {
          "text": "Dietary Fiber (% Daily Value)"
         },
         "zeroline": false
        }
       }
      },
      "text/html": [
       "<div>\n",
       "        \n",
       "        \n",
       "            <div id=\"d892a099-4100-46f2-89f0-575f6c29e070\" class=\"plotly-graph-div\" style=\"height:525px; width:100%;\"></div>\n",
       "            <script type=\"text/javascript\">\n",
       "                require([\"plotly\"], function(Plotly) {\n",
       "                    window.PLOTLYENV=window.PLOTLYENV || {};\n",
       "                    \n",
       "                if (document.getElementById(\"d892a099-4100-46f2-89f0-575f6c29e070\")) {\n",
       "                    Plotly.newPlot(\n",
       "                        'd892a099-4100-46f2-89f0-575f6c29e070',\n",
       "                        [{\"marker\": {\"color\": [17, 17, 17, 17, 17, 18, 7, 12, 7, 12, 6, 11, 6, 11, 6, 11, 6, 11, 8, 9, 9, 8, 9, 9, 11, 12, 12, 12, 17, 12, 17, 23, 28, 23, 28, 10, 10, 5, 6, 11, 19, 22, 13, 11, 12, 14, 13, 11, 6, 7, 8, 14, 7, 7, 8, 7, 10, 13, 13, 14, 13, 13, 13, 15, 15, 7, 7, 8, 7, 7, 13, 13, 14, 14, 19, 20, 13, 13, 2, 4, 6, 12, 24, 7, 12, 10, 10, 23, 28, 28, 6, 6, 5, 5, 5, 5, 10, 14, 22, 5, 6, 0, 3, 15, 3, 3, 0, 3, 0, 0, 0, 0, 0, 0, 0, 0, 0, 0, 0, 0, 0, 0, 0, 0, 0, 0, 0, 0, 0, 0, 0, 2, 0, 0, 0, 0, 0, 0, 0, 0, 0, 0, 0, 0, 0, 0, 0, 0, 3, 4, 6, 3, 4, 6, 3, 4, 6, 3, 4, 6, 4, 5, 7, 3, 4, 6, 3, 4, 6, 3, 4, 6, 3, 4, 6, 4, 5, 7, 6, 8, 10, 6, 8, 10, 3, 4, 5, 3, 4, 5, 3, 4, 5, 3, 4, 5, 0, 0, 0, 0, 0, 0, 0, 0, 0, 0, 0, 0, 0, 0, 0, 4, 5, 8, 4, 5, 8, 0, 2, 3, 0, 2, 3, 3, 4, 4, 0, 0, 0, 5, 5, 5, 12, 15, 19, 10, 13, 16, 4, 5, 6, 0, 0, 0, 0, 0, 0, 5, 6, 8, 0, 0, 6, 7, 4, 4, 5, 2, 9, 5], \"colorscale\": [[0.0, \"rgb(12,51,131)\"], [0.25, \"rgb(10,136,186)\"], [0.5, \"rgb(242,211,56)\"], [0.75, \"rgb(242,143,56)\"], [1.0, \"rgb(217,30,30)\"]], \"reversescale\": true, \"showscale\": true, \"size\": [17, 17, 17, 17, 17, 18, 7, 12, 7, 12, 6, 11, 6, 11, 6, 11, 6, 11, 8, 9, 9, 8, 9, 9, 11, 12, 12, 12, 17, 12, 17, 23, 28, 23, 28, 10, 10, 5, 6, 11, 19, 22, 13, 11, 12, 14, 13, 11, 6, 7, 8, 14, 7, 7, 8, 7, 10, 13, 13, 14, 13, 13, 13, 15, 15, 7, 7, 8, 7, 7, 13, 13, 14, 14, 19, 20, 13, 13, 2, 4, 6, 12, 24, 7, 12, 10, 10, 23, 28, 28, 6, 6, 5, 5, 5, 5, 10, 14, 22, 5, 6, 0, 3, 15, 3, 3, 0, 3, 0, 0, 0, 0, 0, 0, 0, 0, 0, 0, 0, 0, 0, 0, 0, 0, 0, 0, 0, 0, 0, 0, 0, 2, 0, 0, 0, 0, 0, 0, 0, 0, 0, 0, 0, 0, 0, 0, 0, 0, 3, 4, 6, 3, 4, 6, 3, 4, 6, 3, 4, 6, 4, 5, 7, 3, 4, 6, 3, 4, 6, 3, 4, 6, 3, 4, 6, 4, 5, 7, 6, 8, 10, 6, 8, 10, 3, 4, 5, 3, 4, 5, 3, 4, 5, 3, 4, 5, 0, 0, 0, 0, 0, 0, 0, 0, 0, 0, 0, 0, 0, 0, 0, 4, 5, 8, 4, 5, 8, 0, 2, 3, 0, 2, 3, 3, 4, 4, 0, 0, 0, 5, 5, 5, 12, 15, 19, 10, 13, 16, 4, 5, 6, 0, 0, 0, 0, 0, 0, 5, 6, 8, 0, 0, 6, 7, 4, 4, 5, 2, 9, 5]}, \"mode\": \"markers\", \"text\": [\"Egg McMuffin\", \"Egg White Delight\", \"Sausage McMuffin\", \"Sausage McMuffin with Egg\", \"Sausage McMuffin with Egg Whites\", \"Steak & Egg McMuffin\", \"Bacon, Egg & Cheese Biscuit (Regular Biscuit)\", \"Bacon, Egg & Cheese Biscuit (Large Biscuit)\", \"Bacon, Egg & Cheese Biscuit with Egg Whites (Regular Biscuit)\", \"Bacon, Egg & Cheese Biscuit with Egg Whites (Large Biscuit)\", \"Sausage Biscuit (Regular Biscuit)\", \"Sausage Biscuit (Large Biscuit)\", \"Sausage Biscuit with Egg (Regular Biscuit)\", \"Sausage Biscuit with Egg (Large Biscuit)\", \"Sausage Biscuit with Egg Whites (Regular Biscuit)\", \"Sausage Biscuit with Egg Whites (Large Biscuit)\", \"Southern Style Chicken Biscuit (Regular Biscuit)\", \"Southern Style Chicken Biscuit (Large Biscuit)\", \"Steak & Egg Biscuit (Regular Biscuit)\", \"Bacon, Egg & Cheese McGriddles\", \"Bacon, Egg & Cheese McGriddles with Egg Whites\", \"Sausage McGriddles\", \"Sausage, Egg & Cheese McGriddles\", \"Sausage, Egg & Cheese McGriddles with Egg Whites\", \"Bacon, Egg & Cheese Bagel\", \"Bacon, Egg & Cheese Bagel with Egg Whites\", \"Steak, Egg & Cheese Bagel\", \"Big Breakfast (Regular Biscuit)\", \"Big Breakfast (Large Biscuit)\", \"Big Breakfast with Egg Whites (Regular Biscuit)\", \"Big Breakfast with Egg Whites (Large Biscuit)\", \"Big Breakfast with Hotcakes (Regular Biscuit)\", \"Big Breakfast with Hotcakes (Large Biscuit)\", \"Big Breakfast with Hotcakes and Egg Whites (Regular Biscuit)\", \"Big Breakfast with Hotcakes and Egg Whites (Large Biscuit)\", \"Hotcakes\", \"Hotcakes and Sausage\", \"Sausage Burrito\", \"Hash Brown\", \"Cinnamon Melts\", \"Fruit & Maple Oatmeal\", \"Fruit & Maple Oatmeal without Brown Sugar\", \"Big Mac\", \"Quarter Pounder with Cheese\", \"Quarter Pounder with Bacon & Cheese\", \"Quarter Pounder with Bacon Habanero Ranch\", \"Quarter Pounder Deluxe\", \"Double Quarter Pounder with Cheese\", \"Hamburger\", \"Cheeseburger\", \"Double Cheeseburger\", \"Bacon Clubhouse Burger\", \"McDouble\", \"Bacon McDouble\", \"Daily Double\", \"Jalape\\u00f1o Double\", \"McRib\", \"Premium Crispy Chicken Classic Sandwich\", \"Premium Grilled Chicken Classic Sandwich\", \"Premium Crispy Chicken Club Sandwich\", \"Premium Grilled Chicken Club Sandwich\", \"Premium Crispy Chicken Ranch BLT Sandwich\", \"Premium Grilled Chicken Ranch BLT Sandwich\", \"Bacon Clubhouse Crispy Chicken Sandwich\", \"Bacon Clubhouse Grilled Chicken Sandwich\", \"Southern Style Crispy Chicken Sandwich\", \"McChicken\", \"Bacon Cheddar McChicken\", \"Bacon Buffalo Ranch McChicken\", \"Buffalo Ranch McChicken\", \"Premium McWrap Chicken & Bacon (Crispy Chicken)\", \"Premium McWrap Chicken & Bacon (Grilled Chicken)\", \"Premium McWrap Chicken & Ranch (Crispy Chicken)\", \"Premium McWrap Chicken & Ranch (Grilled Chicken)\", \"Premium McWrap Southwest Chicken (Crispy Chicken)\", \"Premium McWrap Southwest Chicken (Grilled Chicken)\", \"Premium McWrap Chicken Sweet Chili (Crispy Chicken)\", \"Premium McWrap Chicken Sweet Chili (Grilled Chicken)\", \"Chicken McNuggets (4 piece)\", \"Chicken McNuggets (6 piece)\", \"Chicken McNuggets (10 piece)\", \"Chicken McNuggets (20 piece)\", \"Chicken McNuggets (40 piece)\", \"Filet-O-Fish\", \"Premium Bacon Ranch Salad (without Chicken)\", \"Premium Bacon Ranch Salad with Crispy Chicken\", \"Premium Bacon Ranch Salad with Grilled Chicken\", \"Premium Southwest Salad (without Chicken)\", \"Premium Southwest Salad with Crispy Chicken\", \"Premium Southwest Salad with Grilled Chicken\", \"Chipotle BBQ Snack Wrap (Crispy Chicken)\", \"Chipotle BBQ Snack Wrap (Grilled Chicken)\", \"Honey Mustard Snack Wrap (Crispy Chicken)\", \"Honey Mustard Snack Wrap (Grilled Chicken)\", \"Ranch Snack Wrap (Crispy Chicken)\", \"Ranch Snack Wrap (Grilled Chicken)\", \"Small French Fries\", \"Medium French Fries\", \"Large French Fries\", \"Kids French Fries\", \"Side Salad\", \"Apple Slices\", \"Fruit 'n Yogurt Parfait\", \"Baked Apple Pie\", \"Chocolate Chip Cookie\", \"Oatmeal Raisin Cookie\", \"Kids Ice Cream Cone\", \"Hot Fudge Sundae\", \"Hot Caramel Sundae\", \"Strawberry Sundae\", \"Coca-Cola Classic (Small)\", \"Coca-Cola Classic (Medium)\", \"Coca-Cola Classic (Large)\", \"Coca-Cola Classic (Child)\", \"Diet Coke (Small)\", \"Diet Coke (Medium)\", \"Diet Coke (Large)\", \"Diet Coke (Child)\", \"Dr Pepper (Small)\", \"Dr Pepper (Medium)\", \"Dr Pepper (Large)\", \"Dr Pepper (Child)\", \"Diet Dr Pepper (Small)\", \"Diet Dr Pepper (Medium)\", \"Diet Dr Pepper (Large)\", \"Diet Dr Pepper (Child)\", \"Sprite (Small)\", \"Sprite (Medium)\", \"Sprite (Large)\", \"Sprite (Child)\", \"1% Low Fat Milk Jug\", \"Fat Free Chocolate Milk Jug\", \"Minute Maid 100% Apple Juice Box\", \"Minute Maid Orange Juice (Small)\", \"Minute Maid Orange Juice (Medium)\", \"Minute Maid Orange Juice (Large)\", \"Dasani Water Bottle\", \"Iced Tea (Small)\", \"Iced Tea (Medium)\", \"Iced Tea (Large)\", \"Iced Tea (Child)\", \"Sweet Tea (Small)\", \"Sweet Tea (Medium)\", \"Sweet Tea (Large)\", \"Sweet Tea (Child)\", \"Coffee (Small)\", \"Coffee (Medium)\", \"Coffee (Large)\", \"Latte (Small)\", \"Latte (Medium)\", \"Latte (Large)\", \"Caramel Latte (Small)\", \"Caramel Latte (Medium)\", \"Caramel Latte (Large)\", \"Hazelnut Latte (Small)\", \"Hazelnut Latte (Medium)\", \"Hazelnut Latte (Large)\", \"French Vanilla Latte (Small)\", \"French Vanilla Latte (Medium)\", \"French Vanilla Latte (Large)\", \"Latte with Sugar Free French Vanilla Syrup (Small)\", \"Latte with Sugar Free French Vanilla Syrup (Medium)\", \"Latte with Sugar Free French Vanilla Syrup (Large)\", \"Nonfat Latte (Small)\", \"Nonfat Latte (Medium)\", \"Nonfat Latte (Large)\", \"Nonfat Caramel Latte (Small)\", \"Nonfat Caramel Latte (Medium)\", \"Nonfat Caramel Latte (Large)\", \"Nonfat Hazelnut Latte (Small)\", \"Nonfat Hazelnut Latte (Medium)\", \"Nonfat Hazelnut Latte (Large)\", \"Nonfat French Vanilla Latte (Small)\", \"Nonfat French Vanilla Latte (Medium)\", \"Nonfat French Vanilla Latte (Large)\", \"Nonfat Latte with Sugar Free French Vanilla Syrup (Small)\", \"Nonfat Latte with Sugar Free French Vanilla Syrup (Medium)\", \"Nonfat Latte with Sugar Free French Vanilla Syrup (Large)\", \"Mocha (Small)\", \"Mocha (Medium)\", \"Mocha (Large)\", \"Mocha with Nonfat Milk (Small)\", \"Mocha with Nonfat Milk (Medium)\", \"Mocha with Nonfat Milk (Large)\", \"Caramel Mocha (Small)\", \"Caramel Mocha (Medium)\", \"Caramel Mocha (Large)\", \"Nonfat Caramel Mocha (Small)\", \"Nonfat Caramel Mocha (Medium)\", \"Nonfat Caramel Mocha (Large)\", \"Hot Chocolate (Small)\", \"Hot Chocolate (Medium)\", \"Hot Chocolate (Large)\", \"Hot Chocolate with Nonfat Milk (Small)\", \"Hot Chocolate with Nonfat Milk (Medium)\", \"Hot Chocolate with Nonfat Milk (Large)\", \"Regular Iced Coffee (Small)\", \"Regular Iced Coffee (Medium)\", \"Regular Iced Coffee (Large)\", \"Caramel Iced Coffee (Small)\", \"Caramel Iced Coffee (Medium)\", \"Caramel Iced Coffee (Large)\", \"Hazelnut Iced Coffee (Small)\", \"Hazelnut Iced Coffee (Medium)\", \"Hazelnut Iced Coffee (Large)\", \"French Vanilla Iced Coffee (Small)\", \"French Vanilla Iced Coffee (Medium)\", \"French Vanilla Iced Coffee (Large)\", \"Iced Coffee with Sugar Free French Vanilla Syrup (Small)\", \"Iced Coffee with Sugar Free French Vanilla Syrup (Medium)\", \"Iced Coffee with Sugar Free French Vanilla Syrup (Large)\", \"Iced Mocha (Small)\", \"Iced Mocha (Medium)\", \"Iced Mocha (Large)\", \"Iced Mocha with Nonfat Milk (Small)\", \"Iced Mocha with Nonfat Milk (Medium)\", \"Iced Mocha with Nonfat Milk (Large)\", \"Iced Caramel Mocha (Small)\", \"Iced Caramel Mocha (Medium)\", \"Iced Caramel Mocha (Large)\", \"Iced Nonfat Caramel Mocha (Small)\", \"Iced Nonfat Caramel Mocha (Medium)\", \"Iced Nonfat Caramel Mocha (Large)\", \"Frapp\\u00e9 Mocha (Small)\", \"Frapp\\u00e9 Mocha (Medium)\", \"Frapp\\u00e9 Mocha (Large)\", \"Frapp\\u00e9 Caramel (Small)\", \"Frapp\\u00e9 Caramel (Medium)\", \"Frapp\\u00e9 Caramel (Large)\", \"Frapp\\u00e9 Chocolate Chip (Small)\", \"Frapp\\u00e9 Chocolate Chip (Medium)\", \"Frapp\\u00e9 Chocolate Chip (Large)\", \"Blueberry Pomegranate Smoothie (Small)\", \"Blueberry Pomegranate Smoothie (Medium)\", \"Blueberry Pomegranate Smoothie (Large)\", \"Strawberry Banana Smoothie (Small)\", \"Strawberry Banana Smoothie (Medium)\", \"Strawberry Banana Smoothie (Large)\", \"Mango Pineapple Smoothie (Small)\", \"Mango Pineapple Smoothie (Medium)\", \"Mango Pineapple Smoothie (Large)\", \"Vanilla Shake (Small)\", \"Vanilla Shake (Medium)\", \"Vanilla Shake (Large)\", \"Strawberry Shake (Small)\", \"Strawberry Shake (Medium)\", \"Strawberry Shake (Large)\", \"Chocolate Shake (Small)\", \"Chocolate Shake (Medium)\", \"Chocolate Shake (Large)\", \"Shamrock Shake (Medium)\", \"Shamrock Shake (Large)\", \"McFlurry with M&M\\u2019s Candies (Small)\", \"McFlurry with M&M\\u2019s Candies (Medium)\", \"McFlurry with M&M\\u2019s Candies (Snack)\", \"McFlurry with Oreo Cookies (Small)\", \"McFlurry with Oreo Cookies (Medium)\", \"McFlurry with Oreo Cookies (Snack)\", \"McFlurry with Reese's Peanut Butter Cups (Medium)\", \"McFlurry with Reese's Peanut Butter Cups (Snack)\"], \"type\": \"scatter\", \"x\": [\"Egg McMuffin\", \"Egg White Delight\", \"Sausage McMuffin\", \"Sausage McMuffin with Egg\", \"Sausage McMuffin with Egg Whites\", \"Steak & Egg McMuffin\", \"Bacon, Egg & Cheese Biscuit (Regular Biscuit)\", \"Bacon, Egg & Cheese Biscuit (Large Biscuit)\", \"Bacon, Egg & Cheese Biscuit with Egg Whites (Regular Biscuit)\", \"Bacon, Egg & Cheese Biscuit with Egg Whites (Large Biscuit)\", \"Sausage Biscuit (Regular Biscuit)\", \"Sausage Biscuit (Large Biscuit)\", \"Sausage Biscuit with Egg (Regular Biscuit)\", \"Sausage Biscuit with Egg (Large Biscuit)\", \"Sausage Biscuit with Egg Whites (Regular Biscuit)\", \"Sausage Biscuit with Egg Whites (Large Biscuit)\", \"Southern Style Chicken Biscuit (Regular Biscuit)\", \"Southern Style Chicken Biscuit (Large Biscuit)\", \"Steak & Egg Biscuit (Regular Biscuit)\", \"Bacon, Egg & Cheese McGriddles\", \"Bacon, Egg & Cheese McGriddles with Egg Whites\", \"Sausage McGriddles\", \"Sausage, Egg & Cheese McGriddles\", \"Sausage, Egg & Cheese McGriddles with Egg Whites\", \"Bacon, Egg & Cheese Bagel\", \"Bacon, Egg & Cheese Bagel with Egg Whites\", \"Steak, Egg & Cheese Bagel\", \"Big Breakfast (Regular Biscuit)\", \"Big Breakfast (Large Biscuit)\", \"Big Breakfast with Egg Whites (Regular Biscuit)\", \"Big Breakfast with Egg Whites (Large Biscuit)\", \"Big Breakfast with Hotcakes (Regular Biscuit)\", \"Big Breakfast with Hotcakes (Large Biscuit)\", \"Big Breakfast with Hotcakes and Egg Whites (Regular Biscuit)\", \"Big Breakfast with Hotcakes and Egg Whites (Large Biscuit)\", \"Hotcakes\", \"Hotcakes and Sausage\", \"Sausage Burrito\", \"Hash Brown\", \"Cinnamon Melts\", \"Fruit & Maple Oatmeal\", \"Fruit & Maple Oatmeal without Brown Sugar\", \"Big Mac\", \"Quarter Pounder with Cheese\", \"Quarter Pounder with Bacon & Cheese\", \"Quarter Pounder with Bacon Habanero Ranch\", \"Quarter Pounder Deluxe\", \"Double Quarter Pounder with Cheese\", \"Hamburger\", \"Cheeseburger\", \"Double Cheeseburger\", \"Bacon Clubhouse Burger\", \"McDouble\", \"Bacon McDouble\", \"Daily Double\", \"Jalape\\u00f1o Double\", \"McRib\", \"Premium Crispy Chicken Classic Sandwich\", \"Premium Grilled Chicken Classic Sandwich\", \"Premium Crispy Chicken Club Sandwich\", \"Premium Grilled Chicken Club Sandwich\", \"Premium Crispy Chicken Ranch BLT Sandwich\", \"Premium Grilled Chicken Ranch BLT Sandwich\", \"Bacon Clubhouse Crispy Chicken Sandwich\", \"Bacon Clubhouse Grilled Chicken Sandwich\", \"Southern Style Crispy Chicken Sandwich\", \"McChicken\", \"Bacon Cheddar McChicken\", \"Bacon Buffalo Ranch McChicken\", \"Buffalo Ranch McChicken\", \"Premium McWrap Chicken & Bacon (Crispy Chicken)\", \"Premium McWrap Chicken & Bacon (Grilled Chicken)\", \"Premium McWrap Chicken & Ranch (Crispy Chicken)\", \"Premium McWrap Chicken & Ranch (Grilled Chicken)\", \"Premium McWrap Southwest Chicken (Crispy Chicken)\", \"Premium McWrap Southwest Chicken (Grilled Chicken)\", \"Premium McWrap Chicken Sweet Chili (Crispy Chicken)\", \"Premium McWrap Chicken Sweet Chili (Grilled Chicken)\", \"Chicken McNuggets (4 piece)\", \"Chicken McNuggets (6 piece)\", \"Chicken McNuggets (10 piece)\", \"Chicken McNuggets (20 piece)\", \"Chicken McNuggets (40 piece)\", \"Filet-O-Fish\", \"Premium Bacon Ranch Salad (without Chicken)\", \"Premium Bacon Ranch Salad with Crispy Chicken\", \"Premium Bacon Ranch Salad with Grilled Chicken\", \"Premium Southwest Salad (without Chicken)\", \"Premium Southwest Salad with Crispy Chicken\", \"Premium Southwest Salad with Grilled Chicken\", \"Chipotle BBQ Snack Wrap (Crispy Chicken)\", \"Chipotle BBQ Snack Wrap (Grilled Chicken)\", \"Honey Mustard Snack Wrap (Crispy Chicken)\", \"Honey Mustard Snack Wrap (Grilled Chicken)\", \"Ranch Snack Wrap (Crispy Chicken)\", \"Ranch Snack Wrap (Grilled Chicken)\", \"Small French Fries\", \"Medium French Fries\", \"Large French Fries\", \"Kids French Fries\", \"Side Salad\", \"Apple Slices\", \"Fruit 'n Yogurt Parfait\", \"Baked Apple Pie\", \"Chocolate Chip Cookie\", \"Oatmeal Raisin Cookie\", \"Kids Ice Cream Cone\", \"Hot Fudge Sundae\", \"Hot Caramel Sundae\", \"Strawberry Sundae\", \"Coca-Cola Classic (Small)\", \"Coca-Cola Classic (Medium)\", \"Coca-Cola Classic (Large)\", \"Coca-Cola Classic (Child)\", \"Diet Coke (Small)\", \"Diet Coke (Medium)\", \"Diet Coke (Large)\", \"Diet Coke (Child)\", \"Dr Pepper (Small)\", \"Dr Pepper (Medium)\", \"Dr Pepper (Large)\", \"Dr Pepper (Child)\", \"Diet Dr Pepper (Small)\", \"Diet Dr Pepper (Medium)\", \"Diet Dr Pepper (Large)\", \"Diet Dr Pepper (Child)\", \"Sprite (Small)\", \"Sprite (Medium)\", \"Sprite (Large)\", \"Sprite (Child)\", \"1% Low Fat Milk Jug\", \"Fat Free Chocolate Milk Jug\", \"Minute Maid 100% Apple Juice Box\", \"Minute Maid Orange Juice (Small)\", \"Minute Maid Orange Juice (Medium)\", \"Minute Maid Orange Juice (Large)\", \"Dasani Water Bottle\", \"Iced Tea (Small)\", \"Iced Tea (Medium)\", \"Iced Tea (Large)\", \"Iced Tea (Child)\", \"Sweet Tea (Small)\", \"Sweet Tea (Medium)\", \"Sweet Tea (Large)\", \"Sweet Tea (Child)\", \"Coffee (Small)\", \"Coffee (Medium)\", \"Coffee (Large)\", \"Latte (Small)\", \"Latte (Medium)\", \"Latte (Large)\", \"Caramel Latte (Small)\", \"Caramel Latte (Medium)\", \"Caramel Latte (Large)\", \"Hazelnut Latte (Small)\", \"Hazelnut Latte (Medium)\", \"Hazelnut Latte (Large)\", \"French Vanilla Latte (Small)\", \"French Vanilla Latte (Medium)\", \"French Vanilla Latte (Large)\", \"Latte with Sugar Free French Vanilla Syrup (Small)\", \"Latte with Sugar Free French Vanilla Syrup (Medium)\", \"Latte with Sugar Free French Vanilla Syrup (Large)\", \"Nonfat Latte (Small)\", \"Nonfat Latte (Medium)\", \"Nonfat Latte (Large)\", \"Nonfat Caramel Latte (Small)\", \"Nonfat Caramel Latte (Medium)\", \"Nonfat Caramel Latte (Large)\", \"Nonfat Hazelnut Latte (Small)\", \"Nonfat Hazelnut Latte (Medium)\", \"Nonfat Hazelnut Latte (Large)\", \"Nonfat French Vanilla Latte (Small)\", \"Nonfat French Vanilla Latte (Medium)\", \"Nonfat French Vanilla Latte (Large)\", \"Nonfat Latte with Sugar Free French Vanilla Syrup (Small)\", \"Nonfat Latte with Sugar Free French Vanilla Syrup (Medium)\", \"Nonfat Latte with Sugar Free French Vanilla Syrup (Large)\", \"Mocha (Small)\", \"Mocha (Medium)\", \"Mocha (Large)\", \"Mocha with Nonfat Milk (Small)\", \"Mocha with Nonfat Milk (Medium)\", \"Mocha with Nonfat Milk (Large)\", \"Caramel Mocha (Small)\", \"Caramel Mocha (Medium)\", \"Caramel Mocha (Large)\", \"Nonfat Caramel Mocha (Small)\", \"Nonfat Caramel Mocha (Medium)\", \"Nonfat Caramel Mocha (Large)\", \"Hot Chocolate (Small)\", \"Hot Chocolate (Medium)\", \"Hot Chocolate (Large)\", \"Hot Chocolate with Nonfat Milk (Small)\", \"Hot Chocolate with Nonfat Milk (Medium)\", \"Hot Chocolate with Nonfat Milk (Large)\", \"Regular Iced Coffee (Small)\", \"Regular Iced Coffee (Medium)\", \"Regular Iced Coffee (Large)\", \"Caramel Iced Coffee (Small)\", \"Caramel Iced Coffee (Medium)\", \"Caramel Iced Coffee (Large)\", \"Hazelnut Iced Coffee (Small)\", \"Hazelnut Iced Coffee (Medium)\", \"Hazelnut Iced Coffee (Large)\", \"French Vanilla Iced Coffee (Small)\", \"French Vanilla Iced Coffee (Medium)\", \"French Vanilla Iced Coffee (Large)\", \"Iced Coffee with Sugar Free French Vanilla Syrup (Small)\", \"Iced Coffee with Sugar Free French Vanilla Syrup (Medium)\", \"Iced Coffee with Sugar Free French Vanilla Syrup (Large)\", \"Iced Mocha (Small)\", \"Iced Mocha (Medium)\", \"Iced Mocha (Large)\", \"Iced Mocha with Nonfat Milk (Small)\", \"Iced Mocha with Nonfat Milk (Medium)\", \"Iced Mocha with Nonfat Milk (Large)\", \"Iced Caramel Mocha (Small)\", \"Iced Caramel Mocha (Medium)\", \"Iced Caramel Mocha (Large)\", \"Iced Nonfat Caramel Mocha (Small)\", \"Iced Nonfat Caramel Mocha (Medium)\", \"Iced Nonfat Caramel Mocha (Large)\", \"Frapp\\u00e9 Mocha (Small)\", \"Frapp\\u00e9 Mocha (Medium)\", \"Frapp\\u00e9 Mocha (Large)\", \"Frapp\\u00e9 Caramel (Small)\", \"Frapp\\u00e9 Caramel (Medium)\", \"Frapp\\u00e9 Caramel (Large)\", \"Frapp\\u00e9 Chocolate Chip (Small)\", \"Frapp\\u00e9 Chocolate Chip (Medium)\", \"Frapp\\u00e9 Chocolate Chip (Large)\", \"Blueberry Pomegranate Smoothie (Small)\", \"Blueberry Pomegranate Smoothie (Medium)\", \"Blueberry Pomegranate Smoothie (Large)\", \"Strawberry Banana Smoothie (Small)\", \"Strawberry Banana Smoothie (Medium)\", \"Strawberry Banana Smoothie (Large)\", \"Mango Pineapple Smoothie (Small)\", \"Mango Pineapple Smoothie (Medium)\", \"Mango Pineapple Smoothie (Large)\", \"Vanilla Shake (Small)\", \"Vanilla Shake (Medium)\", \"Vanilla Shake (Large)\", \"Strawberry Shake (Small)\", \"Strawberry Shake (Medium)\", \"Strawberry Shake (Large)\", \"Chocolate Shake (Small)\", \"Chocolate Shake (Medium)\", \"Chocolate Shake (Large)\", \"Shamrock Shake (Medium)\", \"Shamrock Shake (Large)\", \"McFlurry with M&M\\u2019s Candies (Small)\", \"McFlurry with M&M\\u2019s Candies (Medium)\", \"McFlurry with M&M\\u2019s Candies (Snack)\", \"McFlurry with Oreo Cookies (Small)\", \"McFlurry with Oreo Cookies (Medium)\", \"McFlurry with Oreo Cookies (Snack)\", \"McFlurry with Reese's Peanut Butter Cups (Medium)\", \"McFlurry with Reese's Peanut Butter Cups (Snack)\"], \"y\": [17, 17, 17, 17, 17, 18, 7, 12, 7, 12, 6, 11, 6, 11, 6, 11, 6, 11, 8, 9, 9, 8, 9, 9, 11, 12, 12, 12, 17, 12, 17, 23, 28, 23, 28, 10, 10, 5, 6, 11, 19, 22, 13, 11, 12, 14, 13, 11, 6, 7, 8, 14, 7, 7, 8, 7, 10, 13, 13, 14, 13, 13, 13, 15, 15, 7, 7, 8, 7, 7, 13, 13, 14, 14, 19, 20, 13, 13, 2, 4, 6, 12, 24, 7, 12, 10, 10, 23, 28, 28, 6, 6, 5, 5, 5, 5, 10, 14, 22, 5, 6, 0, 3, 15, 3, 3, 0, 3, 0, 0, 0, 0, 0, 0, 0, 0, 0, 0, 0, 0, 0, 0, 0, 0, 0, 0, 0, 0, 0, 0, 0, 2, 0, 0, 0, 0, 0, 0, 0, 0, 0, 0, 0, 0, 0, 0, 0, 0, 3, 4, 6, 3, 4, 6, 3, 4, 6, 3, 4, 6, 4, 5, 7, 3, 4, 6, 3, 4, 6, 3, 4, 6, 3, 4, 6, 4, 5, 7, 6, 8, 10, 6, 8, 10, 3, 4, 5, 3, 4, 5, 3, 4, 5, 3, 4, 5, 0, 0, 0, 0, 0, 0, 0, 0, 0, 0, 0, 0, 0, 0, 0, 4, 5, 8, 4, 5, 8, 0, 2, 3, 0, 2, 3, 3, 4, 4, 0, 0, 0, 5, 5, 5, 12, 15, 19, 10, 13, 16, 4, 5, 6, 0, 0, 0, 0, 0, 0, 5, 6, 8, 0, 0, 6, 7, 4, 4, 5, 2, 9, 5]}],\n",
       "                        {\"autosize\": true, \"hovermode\": \"closest\", \"showlegend\": false, \"template\": {\"data\": {\"bar\": [{\"error_x\": {\"color\": \"#2a3f5f\"}, \"error_y\": {\"color\": \"#2a3f5f\"}, \"marker\": {\"line\": {\"color\": \"#E5ECF6\", \"width\": 0.5}}, \"type\": \"bar\"}], \"barpolar\": [{\"marker\": {\"line\": {\"color\": \"#E5ECF6\", \"width\": 0.5}}, \"type\": \"barpolar\"}], \"carpet\": [{\"aaxis\": {\"endlinecolor\": \"#2a3f5f\", \"gridcolor\": \"white\", \"linecolor\": \"white\", \"minorgridcolor\": \"white\", \"startlinecolor\": \"#2a3f5f\"}, \"baxis\": {\"endlinecolor\": \"#2a3f5f\", \"gridcolor\": \"white\", \"linecolor\": \"white\", \"minorgridcolor\": \"white\", \"startlinecolor\": \"#2a3f5f\"}, \"type\": \"carpet\"}], \"choropleth\": [{\"colorbar\": {\"outlinewidth\": 0, \"ticks\": \"\"}, \"type\": \"choropleth\"}], \"contour\": [{\"colorbar\": {\"outlinewidth\": 0, \"ticks\": \"\"}, \"colorscale\": [[0.0, \"#0d0887\"], [0.1111111111111111, \"#46039f\"], [0.2222222222222222, \"#7201a8\"], [0.3333333333333333, \"#9c179e\"], [0.4444444444444444, \"#bd3786\"], [0.5555555555555556, \"#d8576b\"], [0.6666666666666666, \"#ed7953\"], [0.7777777777777778, \"#fb9f3a\"], [0.8888888888888888, \"#fdca26\"], [1.0, \"#f0f921\"]], \"type\": \"contour\"}], \"contourcarpet\": [{\"colorbar\": {\"outlinewidth\": 0, \"ticks\": \"\"}, \"type\": \"contourcarpet\"}], \"heatmap\": [{\"colorbar\": {\"outlinewidth\": 0, \"ticks\": \"\"}, \"colorscale\": [[0.0, \"#0d0887\"], [0.1111111111111111, \"#46039f\"], [0.2222222222222222, \"#7201a8\"], [0.3333333333333333, \"#9c179e\"], [0.4444444444444444, \"#bd3786\"], [0.5555555555555556, \"#d8576b\"], [0.6666666666666666, \"#ed7953\"], [0.7777777777777778, \"#fb9f3a\"], [0.8888888888888888, \"#fdca26\"], [1.0, \"#f0f921\"]], \"type\": \"heatmap\"}], \"heatmapgl\": [{\"colorbar\": {\"outlinewidth\": 0, \"ticks\": \"\"}, \"colorscale\": [[0.0, \"#0d0887\"], [0.1111111111111111, \"#46039f\"], [0.2222222222222222, \"#7201a8\"], [0.3333333333333333, \"#9c179e\"], [0.4444444444444444, \"#bd3786\"], [0.5555555555555556, \"#d8576b\"], [0.6666666666666666, \"#ed7953\"], [0.7777777777777778, \"#fb9f3a\"], [0.8888888888888888, \"#fdca26\"], [1.0, \"#f0f921\"]], \"type\": \"heatmapgl\"}], \"histogram\": [{\"marker\": {\"colorbar\": {\"outlinewidth\": 0, \"ticks\": \"\"}}, \"type\": \"histogram\"}], \"histogram2d\": [{\"colorbar\": {\"outlinewidth\": 0, \"ticks\": \"\"}, \"colorscale\": [[0.0, \"#0d0887\"], [0.1111111111111111, \"#46039f\"], [0.2222222222222222, \"#7201a8\"], [0.3333333333333333, \"#9c179e\"], [0.4444444444444444, \"#bd3786\"], [0.5555555555555556, \"#d8576b\"], [0.6666666666666666, \"#ed7953\"], [0.7777777777777778, \"#fb9f3a\"], [0.8888888888888888, \"#fdca26\"], [1.0, \"#f0f921\"]], \"type\": \"histogram2d\"}], \"histogram2dcontour\": [{\"colorbar\": {\"outlinewidth\": 0, \"ticks\": \"\"}, \"colorscale\": [[0.0, \"#0d0887\"], [0.1111111111111111, \"#46039f\"], [0.2222222222222222, \"#7201a8\"], [0.3333333333333333, \"#9c179e\"], [0.4444444444444444, \"#bd3786\"], [0.5555555555555556, \"#d8576b\"], [0.6666666666666666, \"#ed7953\"], [0.7777777777777778, \"#fb9f3a\"], [0.8888888888888888, \"#fdca26\"], [1.0, \"#f0f921\"]], \"type\": \"histogram2dcontour\"}], \"mesh3d\": [{\"colorbar\": {\"outlinewidth\": 0, \"ticks\": \"\"}, \"type\": \"mesh3d\"}], \"parcoords\": [{\"line\": {\"colorbar\": {\"outlinewidth\": 0, \"ticks\": \"\"}}, \"type\": \"parcoords\"}], \"pie\": [{\"automargin\": true, \"type\": \"pie\"}], \"scatter\": [{\"marker\": {\"colorbar\": {\"outlinewidth\": 0, \"ticks\": \"\"}}, \"type\": \"scatter\"}], \"scatter3d\": [{\"line\": {\"colorbar\": {\"outlinewidth\": 0, \"ticks\": \"\"}}, \"marker\": {\"colorbar\": {\"outlinewidth\": 0, \"ticks\": \"\"}}, \"type\": \"scatter3d\"}], \"scattercarpet\": [{\"marker\": {\"colorbar\": {\"outlinewidth\": 0, \"ticks\": \"\"}}, \"type\": \"scattercarpet\"}], \"scattergeo\": [{\"marker\": {\"colorbar\": {\"outlinewidth\": 0, \"ticks\": \"\"}}, \"type\": \"scattergeo\"}], \"scattergl\": [{\"marker\": {\"colorbar\": {\"outlinewidth\": 0, \"ticks\": \"\"}}, \"type\": \"scattergl\"}], \"scattermapbox\": [{\"marker\": {\"colorbar\": {\"outlinewidth\": 0, \"ticks\": \"\"}}, \"type\": \"scattermapbox\"}], \"scatterpolar\": [{\"marker\": {\"colorbar\": {\"outlinewidth\": 0, \"ticks\": \"\"}}, \"type\": \"scatterpolar\"}], \"scatterpolargl\": [{\"marker\": {\"colorbar\": {\"outlinewidth\": 0, \"ticks\": \"\"}}, \"type\": \"scatterpolargl\"}], \"scatterternary\": [{\"marker\": {\"colorbar\": {\"outlinewidth\": 0, \"ticks\": \"\"}}, \"type\": \"scatterternary\"}], \"surface\": [{\"colorbar\": {\"outlinewidth\": 0, \"ticks\": \"\"}, \"colorscale\": [[0.0, \"#0d0887\"], [0.1111111111111111, \"#46039f\"], [0.2222222222222222, \"#7201a8\"], [0.3333333333333333, \"#9c179e\"], [0.4444444444444444, \"#bd3786\"], [0.5555555555555556, \"#d8576b\"], [0.6666666666666666, \"#ed7953\"], [0.7777777777777778, \"#fb9f3a\"], [0.8888888888888888, \"#fdca26\"], [1.0, \"#f0f921\"]], \"type\": \"surface\"}], \"table\": [{\"cells\": {\"fill\": {\"color\": \"#EBF0F8\"}, \"line\": {\"color\": \"white\"}}, \"header\": {\"fill\": {\"color\": \"#C8D4E3\"}, \"line\": {\"color\": \"white\"}}, \"type\": \"table\"}]}, \"layout\": {\"annotationdefaults\": {\"arrowcolor\": \"#2a3f5f\", \"arrowhead\": 0, \"arrowwidth\": 1}, \"coloraxis\": {\"colorbar\": {\"outlinewidth\": 0, \"ticks\": \"\"}}, \"colorscale\": {\"diverging\": [[0, \"#8e0152\"], [0.1, \"#c51b7d\"], [0.2, \"#de77ae\"], [0.3, \"#f1b6da\"], [0.4, \"#fde0ef\"], [0.5, \"#f7f7f7\"], [0.6, \"#e6f5d0\"], [0.7, \"#b8e186\"], [0.8, \"#7fbc41\"], [0.9, \"#4d9221\"], [1, \"#276419\"]], \"sequential\": [[0.0, \"#0d0887\"], [0.1111111111111111, \"#46039f\"], [0.2222222222222222, \"#7201a8\"], [0.3333333333333333, \"#9c179e\"], [0.4444444444444444, \"#bd3786\"], [0.5555555555555556, \"#d8576b\"], [0.6666666666666666, \"#ed7953\"], [0.7777777777777778, \"#fb9f3a\"], [0.8888888888888888, \"#fdca26\"], [1.0, \"#f0f921\"]], \"sequentialminus\": [[0.0, \"#0d0887\"], [0.1111111111111111, \"#46039f\"], [0.2222222222222222, \"#7201a8\"], [0.3333333333333333, \"#9c179e\"], [0.4444444444444444, \"#bd3786\"], [0.5555555555555556, \"#d8576b\"], [0.6666666666666666, \"#ed7953\"], [0.7777777777777778, \"#fb9f3a\"], [0.8888888888888888, \"#fdca26\"], [1.0, \"#f0f921\"]]}, \"colorway\": [\"#636efa\", \"#EF553B\", \"#00cc96\", \"#ab63fa\", \"#FFA15A\", \"#19d3f3\", \"#FF6692\", \"#B6E880\", \"#FF97FF\", \"#FECB52\"], \"font\": {\"color\": \"#2a3f5f\"}, \"geo\": {\"bgcolor\": \"white\", \"lakecolor\": \"white\", \"landcolor\": \"#E5ECF6\", \"showlakes\": true, \"showland\": true, \"subunitcolor\": \"white\"}, \"hoverlabel\": {\"align\": \"left\"}, \"hovermode\": \"closest\", \"mapbox\": {\"style\": \"light\"}, \"paper_bgcolor\": \"white\", \"plot_bgcolor\": \"#E5ECF6\", \"polar\": {\"angularaxis\": {\"gridcolor\": \"white\", \"linecolor\": \"white\", \"ticks\": \"\"}, \"bgcolor\": \"#E5ECF6\", \"radialaxis\": {\"gridcolor\": \"white\", \"linecolor\": \"white\", \"ticks\": \"\"}}, \"scene\": {\"xaxis\": {\"backgroundcolor\": \"#E5ECF6\", \"gridcolor\": \"white\", \"gridwidth\": 2, \"linecolor\": \"white\", \"showbackground\": true, \"ticks\": \"\", \"zerolinecolor\": \"white\"}, \"yaxis\": {\"backgroundcolor\": \"#E5ECF6\", \"gridcolor\": \"white\", \"gridwidth\": 2, \"linecolor\": \"white\", \"showbackground\": true, \"ticks\": \"\", \"zerolinecolor\": \"white\"}, \"zaxis\": {\"backgroundcolor\": \"#E5ECF6\", \"gridcolor\": \"white\", \"gridwidth\": 2, \"linecolor\": \"white\", \"showbackground\": true, \"ticks\": \"\", \"zerolinecolor\": \"white\"}}, \"shapedefaults\": {\"line\": {\"color\": \"#2a3f5f\"}}, \"ternary\": {\"aaxis\": {\"gridcolor\": \"white\", \"linecolor\": \"white\", \"ticks\": \"\"}, \"baxis\": {\"gridcolor\": \"white\", \"linecolor\": \"white\", \"ticks\": \"\"}, \"bgcolor\": \"#E5ECF6\", \"caxis\": {\"gridcolor\": \"white\", \"linecolor\": \"white\", \"ticks\": \"\"}}, \"title\": {\"x\": 0.05}, \"xaxis\": {\"automargin\": true, \"gridcolor\": \"white\", \"linecolor\": \"white\", \"ticks\": \"\", \"title\": {\"standoff\": 15}, \"zerolinecolor\": \"white\", \"zerolinewidth\": 2}, \"yaxis\": {\"automargin\": true, \"gridcolor\": \"white\", \"linecolor\": \"white\", \"ticks\": \"\", \"title\": {\"standoff\": 15}, \"zerolinecolor\": \"white\", \"zerolinewidth\": 2}}}, \"title\": {\"text\": \"Scatter plot of Dietary Fiber (% Daily Value) per Item on the Menu\"}, \"xaxis\": {\"showgrid\": false, \"showline\": false, \"zeroline\": false}, \"yaxis\": {\"gridwidth\": 2, \"showgrid\": false, \"showline\": false, \"ticklen\": 5, \"title\": {\"text\": \"Dietary Fiber (% Daily Value)\"}, \"zeroline\": false}},\n",
       "                        {\"responsive\": true}\n",
       "                    ).then(function(){\n",
       "                            \n",
       "var gd = document.getElementById('d892a099-4100-46f2-89f0-575f6c29e070');\n",
       "var x = new MutationObserver(function (mutations, observer) {{\n",
       "        var display = window.getComputedStyle(gd).display;\n",
       "        if (!display || display === 'none') {{\n",
       "            console.log([gd, 'removed!']);\n",
       "            Plotly.purge(gd);\n",
       "            observer.disconnect();\n",
       "        }}\n",
       "}});\n",
       "\n",
       "// Listen for the removal of the full notebook cells\n",
       "var notebookContainer = gd.closest('#notebook-container');\n",
       "if (notebookContainer) {{\n",
       "    x.observe(notebookContainer, {childList: true});\n",
       "}}\n",
       "\n",
       "// Listen for the clearing of the current output cell\n",
       "var outputEl = gd.closest('.output');\n",
       "if (outputEl) {{\n",
       "    x.observe(outputEl, {childList: true});\n",
       "}}\n",
       "\n",
       "                        })\n",
       "                };\n",
       "                });\n",
       "            </script>\n",
       "        </div>"
      ]
     },
     "metadata": {},
     "output_type": "display_data"
    },
    {
     "data": {
      "application/vnd.plotly.v1+json": {
       "config": {
        "linkText": "Export to plot.ly",
        "plotlyServerURL": "https://plot.ly",
        "showLink": false
       },
       "data": [
        {
         "marker": {
          "color": [
           25,
           25,
           25,
           30,
           25,
           30,
           15,
           20,
           15,
           15,
           6,
           8,
           10,
           10,
           8,
           8,
           6,
           8,
           20,
           20,
           15,
           8,
           20,
           20,
           20,
           20,
           25,
           15,
           15,
           10,
           10,
           25,
           30,
           25,
           25,
           15,
           15,
           15,
           0,
           6,
           10,
           6,
           25,
           30,
           25,
           25,
           25,
           30,
           10,
           20,
           30,
           30,
           20,
           20,
           20,
           20,
           15,
           15,
           15,
           30,
           30,
           15,
           15,
           30,
           30,
           15,
           10,
           20,
           15,
           15,
           20,
           20,
           20,
           15,
           20,
           20,
           8,
           8,
           0,
           2,
           2,
           4,
           8,
           15,
           15,
           15,
           15,
           15,
           15,
           15,
           10,
           10,
           10,
           10,
           10,
           10,
           0,
           2,
           2,
           0,
           2,
           2,
           10,
           2,
           2,
           2,
           4,
           25,
           25,
           20,
           0,
           0,
           0,
           0,
           0,
           0,
           0,
           0,
           0,
           0,
           0,
           0,
           0,
           0,
           0,
           0,
           0,
           0,
           0,
           0,
           30,
           30,
           10,
           2,
           4,
           4,
           0,
           0,
           0,
           0,
           0,
           0,
           0,
           0,
           0,
           0,
           0,
           0,
           30,
           35,
           50,
           30,
           35,
           50,
           30,
           35,
           50,
           30,
           35,
           50,
           30,
           35,
           50,
           30,
           40,
           50,
           30,
           40,
           50,
           30,
           40,
           50,
           30,
           40,
           50,
           30,
           40,
           50,
           30,
           40,
           50,
           35,
           40,
           50,
           30,
           40,
           50,
           35,
           40,
           50,
           40,
           45,
           60,
           40,
           50,
           60,
           4,
           4,
           8,
           4,
           4,
           6,
           4,
           4,
           8,
           4,
           4,
           8,
           4,
           4,
           8,
           25,
           30,
           40,
           25,
           30,
           45,
           25,
           30,
           40,
           25,
           30,
           45,
           20,
           25,
           35,
           25,
           30,
           35,
           25,
           30,
           35,
           6,
           8,
           10,
           8,
           8,
           10,
           8,
           8,
           10,
           40,
           50,
           60,
           40,
           50,
           70,
           40,
           50,
           60,
           50,
           60,
           45,
           70,
           30,
           40,
           50,
           25,
           60,
           30
          ],
          "colorscale": [
           [
            0,
            "rgb(12,51,131)"
           ],
           [
            0.25,
            "rgb(10,136,186)"
           ],
           [
            0.5,
            "rgb(242,211,56)"
           ],
           [
            0.75,
            "rgb(242,143,56)"
           ],
           [
            1,
            "rgb(217,30,30)"
           ]
          ],
          "reversescale": true,
          "showscale": true,
          "size": [
           25,
           25,
           25,
           30,
           25,
           30,
           15,
           20,
           15,
           15,
           6,
           8,
           10,
           10,
           8,
           8,
           6,
           8,
           20,
           20,
           15,
           8,
           20,
           20,
           20,
           20,
           25,
           15,
           15,
           10,
           10,
           25,
           30,
           25,
           25,
           15,
           15,
           15,
           0,
           6,
           10,
           6,
           25,
           30,
           25,
           25,
           25,
           30,
           10,
           20,
           30,
           30,
           20,
           20,
           20,
           20,
           15,
           15,
           15,
           30,
           30,
           15,
           15,
           30,
           30,
           15,
           10,
           20,
           15,
           15,
           20,
           20,
           20,
           15,
           20,
           20,
           8,
           8,
           0,
           2,
           2,
           4,
           8,
           15,
           15,
           15,
           15,
           15,
           15,
           15,
           10,
           10,
           10,
           10,
           10,
           10,
           0,
           2,
           2,
           0,
           2,
           2,
           10,
           2,
           2,
           2,
           4,
           25,
           25,
           20,
           0,
           0,
           0,
           0,
           0,
           0,
           0,
           0,
           0,
           0,
           0,
           0,
           0,
           0,
           0,
           0,
           0,
           0,
           0,
           0,
           30,
           30,
           10,
           2,
           4,
           4,
           0,
           0,
           0,
           0,
           0,
           0,
           0,
           0,
           0,
           0,
           0,
           0,
           30,
           35,
           50,
           30,
           35,
           50,
           30,
           35,
           50,
           30,
           35,
           50,
           30,
           35,
           50,
           30,
           40,
           50,
           30,
           40,
           50,
           30,
           40,
           50,
           30,
           40,
           50,
           30,
           40,
           50,
           30,
           40,
           50,
           35,
           40,
           50,
           30,
           40,
           50,
           35,
           40,
           50,
           40,
           45,
           60,
           40,
           50,
           60,
           4,
           4,
           8,
           4,
           4,
           6,
           4,
           4,
           8,
           4,
           4,
           8,
           4,
           4,
           8,
           25,
           30,
           40,
           25,
           30,
           45,
           25,
           30,
           40,
           25,
           30,
           45,
           20,
           25,
           35,
           25,
           30,
           35,
           25,
           30,
           35,
           6,
           8,
           10,
           8,
           8,
           10,
           8,
           8,
           10,
           40,
           50,
           60,
           40,
           50,
           70,
           40,
           50,
           60,
           50,
           60,
           45,
           70,
           30,
           40,
           50,
           25,
           60,
           30
          ]
         },
         "mode": "markers",
         "text": [
          "Egg McMuffin",
          "Egg White Delight",
          "Sausage McMuffin",
          "Sausage McMuffin with Egg",
          "Sausage McMuffin with Egg Whites",
          "Steak & Egg McMuffin",
          "Bacon, Egg & Cheese Biscuit (Regular Biscuit)",
          "Bacon, Egg & Cheese Biscuit (Large Biscuit)",
          "Bacon, Egg & Cheese Biscuit with Egg Whites (Regular Biscuit)",
          "Bacon, Egg & Cheese Biscuit with Egg Whites (Large Biscuit)",
          "Sausage Biscuit (Regular Biscuit)",
          "Sausage Biscuit (Large Biscuit)",
          "Sausage Biscuit with Egg (Regular Biscuit)",
          "Sausage Biscuit with Egg (Large Biscuit)",
          "Sausage Biscuit with Egg Whites (Regular Biscuit)",
          "Sausage Biscuit with Egg Whites (Large Biscuit)",
          "Southern Style Chicken Biscuit (Regular Biscuit)",
          "Southern Style Chicken Biscuit (Large Biscuit)",
          "Steak & Egg Biscuit (Regular Biscuit)",
          "Bacon, Egg & Cheese McGriddles",
          "Bacon, Egg & Cheese McGriddles with Egg Whites",
          "Sausage McGriddles",
          "Sausage, Egg & Cheese McGriddles",
          "Sausage, Egg & Cheese McGriddles with Egg Whites",
          "Bacon, Egg & Cheese Bagel",
          "Bacon, Egg & Cheese Bagel with Egg Whites",
          "Steak, Egg & Cheese Bagel",
          "Big Breakfast (Regular Biscuit)",
          "Big Breakfast (Large Biscuit)",
          "Big Breakfast with Egg Whites (Regular Biscuit)",
          "Big Breakfast with Egg Whites (Large Biscuit)",
          "Big Breakfast with Hotcakes (Regular Biscuit)",
          "Big Breakfast with Hotcakes (Large Biscuit)",
          "Big Breakfast with Hotcakes and Egg Whites (Regular Biscuit)",
          "Big Breakfast with Hotcakes and Egg Whites (Large Biscuit)",
          "Hotcakes",
          "Hotcakes and Sausage",
          "Sausage Burrito",
          "Hash Brown",
          "Cinnamon Melts",
          "Fruit & Maple Oatmeal",
          "Fruit & Maple Oatmeal without Brown Sugar",
          "Big Mac",
          "Quarter Pounder with Cheese",
          "Quarter Pounder with Bacon & Cheese",
          "Quarter Pounder with Bacon Habanero Ranch",
          "Quarter Pounder Deluxe",
          "Double Quarter Pounder with Cheese",
          "Hamburger",
          "Cheeseburger",
          "Double Cheeseburger",
          "Bacon Clubhouse Burger",
          "McDouble",
          "Bacon McDouble",
          "Daily Double",
          "Jalapeño Double",
          "McRib",
          "Premium Crispy Chicken Classic Sandwich",
          "Premium Grilled Chicken Classic Sandwich",
          "Premium Crispy Chicken Club Sandwich",
          "Premium Grilled Chicken Club Sandwich",
          "Premium Crispy Chicken Ranch BLT Sandwich",
          "Premium Grilled Chicken Ranch BLT Sandwich",
          "Bacon Clubhouse Crispy Chicken Sandwich",
          "Bacon Clubhouse Grilled Chicken Sandwich",
          "Southern Style Crispy Chicken Sandwich",
          "McChicken",
          "Bacon Cheddar McChicken",
          "Bacon Buffalo Ranch McChicken",
          "Buffalo Ranch McChicken",
          "Premium McWrap Chicken & Bacon (Crispy Chicken)",
          "Premium McWrap Chicken & Bacon (Grilled Chicken)",
          "Premium McWrap Chicken & Ranch (Crispy Chicken)",
          "Premium McWrap Chicken & Ranch (Grilled Chicken)",
          "Premium McWrap Southwest Chicken (Crispy Chicken)",
          "Premium McWrap Southwest Chicken (Grilled Chicken)",
          "Premium McWrap Chicken Sweet Chili (Crispy Chicken)",
          "Premium McWrap Chicken Sweet Chili (Grilled Chicken)",
          "Chicken McNuggets (4 piece)",
          "Chicken McNuggets (6 piece)",
          "Chicken McNuggets (10 piece)",
          "Chicken McNuggets (20 piece)",
          "Chicken McNuggets (40 piece)",
          "Filet-O-Fish",
          "Premium Bacon Ranch Salad (without Chicken)",
          "Premium Bacon Ranch Salad with Crispy Chicken",
          "Premium Bacon Ranch Salad with Grilled Chicken",
          "Premium Southwest Salad (without Chicken)",
          "Premium Southwest Salad with Crispy Chicken",
          "Premium Southwest Salad with Grilled Chicken",
          "Chipotle BBQ Snack Wrap (Crispy Chicken)",
          "Chipotle BBQ Snack Wrap (Grilled Chicken)",
          "Honey Mustard Snack Wrap (Crispy Chicken)",
          "Honey Mustard Snack Wrap (Grilled Chicken)",
          "Ranch Snack Wrap (Crispy Chicken)",
          "Ranch Snack Wrap (Grilled Chicken)",
          "Small French Fries",
          "Medium French Fries",
          "Large French Fries",
          "Kids French Fries",
          "Side Salad",
          "Apple Slices",
          "Fruit 'n Yogurt Parfait",
          "Baked Apple Pie",
          "Chocolate Chip Cookie",
          "Oatmeal Raisin Cookie",
          "Kids Ice Cream Cone",
          "Hot Fudge Sundae",
          "Hot Caramel Sundae",
          "Strawberry Sundae",
          "Coca-Cola Classic (Small)",
          "Coca-Cola Classic (Medium)",
          "Coca-Cola Classic (Large)",
          "Coca-Cola Classic (Child)",
          "Diet Coke (Small)",
          "Diet Coke (Medium)",
          "Diet Coke (Large)",
          "Diet Coke (Child)",
          "Dr Pepper (Small)",
          "Dr Pepper (Medium)",
          "Dr Pepper (Large)",
          "Dr Pepper (Child)",
          "Diet Dr Pepper (Small)",
          "Diet Dr Pepper (Medium)",
          "Diet Dr Pepper (Large)",
          "Diet Dr Pepper (Child)",
          "Sprite (Small)",
          "Sprite (Medium)",
          "Sprite (Large)",
          "Sprite (Child)",
          "1% Low Fat Milk Jug",
          "Fat Free Chocolate Milk Jug",
          "Minute Maid 100% Apple Juice Box",
          "Minute Maid Orange Juice (Small)",
          "Minute Maid Orange Juice (Medium)",
          "Minute Maid Orange Juice (Large)",
          "Dasani Water Bottle",
          "Iced Tea (Small)",
          "Iced Tea (Medium)",
          "Iced Tea (Large)",
          "Iced Tea (Child)",
          "Sweet Tea (Small)",
          "Sweet Tea (Medium)",
          "Sweet Tea (Large)",
          "Sweet Tea (Child)",
          "Coffee (Small)",
          "Coffee (Medium)",
          "Coffee (Large)",
          "Latte (Small)",
          "Latte (Medium)",
          "Latte (Large)",
          "Caramel Latte (Small)",
          "Caramel Latte (Medium)",
          "Caramel Latte (Large)",
          "Hazelnut Latte (Small)",
          "Hazelnut Latte (Medium)",
          "Hazelnut Latte (Large)",
          "French Vanilla Latte (Small)",
          "French Vanilla Latte (Medium)",
          "French Vanilla Latte (Large)",
          "Latte with Sugar Free French Vanilla Syrup (Small)",
          "Latte with Sugar Free French Vanilla Syrup (Medium)",
          "Latte with Sugar Free French Vanilla Syrup (Large)",
          "Nonfat Latte (Small)",
          "Nonfat Latte (Medium)",
          "Nonfat Latte (Large)",
          "Nonfat Caramel Latte (Small)",
          "Nonfat Caramel Latte (Medium)",
          "Nonfat Caramel Latte (Large)",
          "Nonfat Hazelnut Latte (Small)",
          "Nonfat Hazelnut Latte (Medium)",
          "Nonfat Hazelnut Latte (Large)",
          "Nonfat French Vanilla Latte (Small)",
          "Nonfat French Vanilla Latte (Medium)",
          "Nonfat French Vanilla Latte (Large)",
          "Nonfat Latte with Sugar Free French Vanilla Syrup (Small)",
          "Nonfat Latte with Sugar Free French Vanilla Syrup (Medium)",
          "Nonfat Latte with Sugar Free French Vanilla Syrup (Large)",
          "Mocha (Small)",
          "Mocha (Medium)",
          "Mocha (Large)",
          "Mocha with Nonfat Milk (Small)",
          "Mocha with Nonfat Milk (Medium)",
          "Mocha with Nonfat Milk (Large)",
          "Caramel Mocha (Small)",
          "Caramel Mocha (Medium)",
          "Caramel Mocha (Large)",
          "Nonfat Caramel Mocha (Small)",
          "Nonfat Caramel Mocha (Medium)",
          "Nonfat Caramel Mocha (Large)",
          "Hot Chocolate (Small)",
          "Hot Chocolate (Medium)",
          "Hot Chocolate (Large)",
          "Hot Chocolate with Nonfat Milk (Small)",
          "Hot Chocolate with Nonfat Milk (Medium)",
          "Hot Chocolate with Nonfat Milk (Large)",
          "Regular Iced Coffee (Small)",
          "Regular Iced Coffee (Medium)",
          "Regular Iced Coffee (Large)",
          "Caramel Iced Coffee (Small)",
          "Caramel Iced Coffee (Medium)",
          "Caramel Iced Coffee (Large)",
          "Hazelnut Iced Coffee (Small)",
          "Hazelnut Iced Coffee (Medium)",
          "Hazelnut Iced Coffee (Large)",
          "French Vanilla Iced Coffee (Small)",
          "French Vanilla Iced Coffee (Medium)",
          "French Vanilla Iced Coffee (Large)",
          "Iced Coffee with Sugar Free French Vanilla Syrup (Small)",
          "Iced Coffee with Sugar Free French Vanilla Syrup (Medium)",
          "Iced Coffee with Sugar Free French Vanilla Syrup (Large)",
          "Iced Mocha (Small)",
          "Iced Mocha (Medium)",
          "Iced Mocha (Large)",
          "Iced Mocha with Nonfat Milk (Small)",
          "Iced Mocha with Nonfat Milk (Medium)",
          "Iced Mocha with Nonfat Milk (Large)",
          "Iced Caramel Mocha (Small)",
          "Iced Caramel Mocha (Medium)",
          "Iced Caramel Mocha (Large)",
          "Iced Nonfat Caramel Mocha (Small)",
          "Iced Nonfat Caramel Mocha (Medium)",
          "Iced Nonfat Caramel Mocha (Large)",
          "Frappé Mocha (Small)",
          "Frappé Mocha (Medium)",
          "Frappé Mocha (Large)",
          "Frappé Caramel (Small)",
          "Frappé Caramel (Medium)",
          "Frappé Caramel (Large)",
          "Frappé Chocolate Chip (Small)",
          "Frappé Chocolate Chip (Medium)",
          "Frappé Chocolate Chip (Large)",
          "Blueberry Pomegranate Smoothie (Small)",
          "Blueberry Pomegranate Smoothie (Medium)",
          "Blueberry Pomegranate Smoothie (Large)",
          "Strawberry Banana Smoothie (Small)",
          "Strawberry Banana Smoothie (Medium)",
          "Strawberry Banana Smoothie (Large)",
          "Mango Pineapple Smoothie (Small)",
          "Mango Pineapple Smoothie (Medium)",
          "Mango Pineapple Smoothie (Large)",
          "Vanilla Shake (Small)",
          "Vanilla Shake (Medium)",
          "Vanilla Shake (Large)",
          "Strawberry Shake (Small)",
          "Strawberry Shake (Medium)",
          "Strawberry Shake (Large)",
          "Chocolate Shake (Small)",
          "Chocolate Shake (Medium)",
          "Chocolate Shake (Large)",
          "Shamrock Shake (Medium)",
          "Shamrock Shake (Large)",
          "McFlurry with M&M’s Candies (Small)",
          "McFlurry with M&M’s Candies (Medium)",
          "McFlurry with M&M’s Candies (Snack)",
          "McFlurry with Oreo Cookies (Small)",
          "McFlurry with Oreo Cookies (Medium)",
          "McFlurry with Oreo Cookies (Snack)",
          "McFlurry with Reese's Peanut Butter Cups (Medium)",
          "McFlurry with Reese's Peanut Butter Cups (Snack)"
         ],
         "type": "scatter",
         "x": [
          "Egg McMuffin",
          "Egg White Delight",
          "Sausage McMuffin",
          "Sausage McMuffin with Egg",
          "Sausage McMuffin with Egg Whites",
          "Steak & Egg McMuffin",
          "Bacon, Egg & Cheese Biscuit (Regular Biscuit)",
          "Bacon, Egg & Cheese Biscuit (Large Biscuit)",
          "Bacon, Egg & Cheese Biscuit with Egg Whites (Regular Biscuit)",
          "Bacon, Egg & Cheese Biscuit with Egg Whites (Large Biscuit)",
          "Sausage Biscuit (Regular Biscuit)",
          "Sausage Biscuit (Large Biscuit)",
          "Sausage Biscuit with Egg (Regular Biscuit)",
          "Sausage Biscuit with Egg (Large Biscuit)",
          "Sausage Biscuit with Egg Whites (Regular Biscuit)",
          "Sausage Biscuit with Egg Whites (Large Biscuit)",
          "Southern Style Chicken Biscuit (Regular Biscuit)",
          "Southern Style Chicken Biscuit (Large Biscuit)",
          "Steak & Egg Biscuit (Regular Biscuit)",
          "Bacon, Egg & Cheese McGriddles",
          "Bacon, Egg & Cheese McGriddles with Egg Whites",
          "Sausage McGriddles",
          "Sausage, Egg & Cheese McGriddles",
          "Sausage, Egg & Cheese McGriddles with Egg Whites",
          "Bacon, Egg & Cheese Bagel",
          "Bacon, Egg & Cheese Bagel with Egg Whites",
          "Steak, Egg & Cheese Bagel",
          "Big Breakfast (Regular Biscuit)",
          "Big Breakfast (Large Biscuit)",
          "Big Breakfast with Egg Whites (Regular Biscuit)",
          "Big Breakfast with Egg Whites (Large Biscuit)",
          "Big Breakfast with Hotcakes (Regular Biscuit)",
          "Big Breakfast with Hotcakes (Large Biscuit)",
          "Big Breakfast with Hotcakes and Egg Whites (Regular Biscuit)",
          "Big Breakfast with Hotcakes and Egg Whites (Large Biscuit)",
          "Hotcakes",
          "Hotcakes and Sausage",
          "Sausage Burrito",
          "Hash Brown",
          "Cinnamon Melts",
          "Fruit & Maple Oatmeal",
          "Fruit & Maple Oatmeal without Brown Sugar",
          "Big Mac",
          "Quarter Pounder with Cheese",
          "Quarter Pounder with Bacon & Cheese",
          "Quarter Pounder with Bacon Habanero Ranch",
          "Quarter Pounder Deluxe",
          "Double Quarter Pounder with Cheese",
          "Hamburger",
          "Cheeseburger",
          "Double Cheeseburger",
          "Bacon Clubhouse Burger",
          "McDouble",
          "Bacon McDouble",
          "Daily Double",
          "Jalapeño Double",
          "McRib",
          "Premium Crispy Chicken Classic Sandwich",
          "Premium Grilled Chicken Classic Sandwich",
          "Premium Crispy Chicken Club Sandwich",
          "Premium Grilled Chicken Club Sandwich",
          "Premium Crispy Chicken Ranch BLT Sandwich",
          "Premium Grilled Chicken Ranch BLT Sandwich",
          "Bacon Clubhouse Crispy Chicken Sandwich",
          "Bacon Clubhouse Grilled Chicken Sandwich",
          "Southern Style Crispy Chicken Sandwich",
          "McChicken",
          "Bacon Cheddar McChicken",
          "Bacon Buffalo Ranch McChicken",
          "Buffalo Ranch McChicken",
          "Premium McWrap Chicken & Bacon (Crispy Chicken)",
          "Premium McWrap Chicken & Bacon (Grilled Chicken)",
          "Premium McWrap Chicken & Ranch (Crispy Chicken)",
          "Premium McWrap Chicken & Ranch (Grilled Chicken)",
          "Premium McWrap Southwest Chicken (Crispy Chicken)",
          "Premium McWrap Southwest Chicken (Grilled Chicken)",
          "Premium McWrap Chicken Sweet Chili (Crispy Chicken)",
          "Premium McWrap Chicken Sweet Chili (Grilled Chicken)",
          "Chicken McNuggets (4 piece)",
          "Chicken McNuggets (6 piece)",
          "Chicken McNuggets (10 piece)",
          "Chicken McNuggets (20 piece)",
          "Chicken McNuggets (40 piece)",
          "Filet-O-Fish",
          "Premium Bacon Ranch Salad (without Chicken)",
          "Premium Bacon Ranch Salad with Crispy Chicken",
          "Premium Bacon Ranch Salad with Grilled Chicken",
          "Premium Southwest Salad (without Chicken)",
          "Premium Southwest Salad with Crispy Chicken",
          "Premium Southwest Salad with Grilled Chicken",
          "Chipotle BBQ Snack Wrap (Crispy Chicken)",
          "Chipotle BBQ Snack Wrap (Grilled Chicken)",
          "Honey Mustard Snack Wrap (Crispy Chicken)",
          "Honey Mustard Snack Wrap (Grilled Chicken)",
          "Ranch Snack Wrap (Crispy Chicken)",
          "Ranch Snack Wrap (Grilled Chicken)",
          "Small French Fries",
          "Medium French Fries",
          "Large French Fries",
          "Kids French Fries",
          "Side Salad",
          "Apple Slices",
          "Fruit 'n Yogurt Parfait",
          "Baked Apple Pie",
          "Chocolate Chip Cookie",
          "Oatmeal Raisin Cookie",
          "Kids Ice Cream Cone",
          "Hot Fudge Sundae",
          "Hot Caramel Sundae",
          "Strawberry Sundae",
          "Coca-Cola Classic (Small)",
          "Coca-Cola Classic (Medium)",
          "Coca-Cola Classic (Large)",
          "Coca-Cola Classic (Child)",
          "Diet Coke (Small)",
          "Diet Coke (Medium)",
          "Diet Coke (Large)",
          "Diet Coke (Child)",
          "Dr Pepper (Small)",
          "Dr Pepper (Medium)",
          "Dr Pepper (Large)",
          "Dr Pepper (Child)",
          "Diet Dr Pepper (Small)",
          "Diet Dr Pepper (Medium)",
          "Diet Dr Pepper (Large)",
          "Diet Dr Pepper (Child)",
          "Sprite (Small)",
          "Sprite (Medium)",
          "Sprite (Large)",
          "Sprite (Child)",
          "1% Low Fat Milk Jug",
          "Fat Free Chocolate Milk Jug",
          "Minute Maid 100% Apple Juice Box",
          "Minute Maid Orange Juice (Small)",
          "Minute Maid Orange Juice (Medium)",
          "Minute Maid Orange Juice (Large)",
          "Dasani Water Bottle",
          "Iced Tea (Small)",
          "Iced Tea (Medium)",
          "Iced Tea (Large)",
          "Iced Tea (Child)",
          "Sweet Tea (Small)",
          "Sweet Tea (Medium)",
          "Sweet Tea (Large)",
          "Sweet Tea (Child)",
          "Coffee (Small)",
          "Coffee (Medium)",
          "Coffee (Large)",
          "Latte (Small)",
          "Latte (Medium)",
          "Latte (Large)",
          "Caramel Latte (Small)",
          "Caramel Latte (Medium)",
          "Caramel Latte (Large)",
          "Hazelnut Latte (Small)",
          "Hazelnut Latte (Medium)",
          "Hazelnut Latte (Large)",
          "French Vanilla Latte (Small)",
          "French Vanilla Latte (Medium)",
          "French Vanilla Latte (Large)",
          "Latte with Sugar Free French Vanilla Syrup (Small)",
          "Latte with Sugar Free French Vanilla Syrup (Medium)",
          "Latte with Sugar Free French Vanilla Syrup (Large)",
          "Nonfat Latte (Small)",
          "Nonfat Latte (Medium)",
          "Nonfat Latte (Large)",
          "Nonfat Caramel Latte (Small)",
          "Nonfat Caramel Latte (Medium)",
          "Nonfat Caramel Latte (Large)",
          "Nonfat Hazelnut Latte (Small)",
          "Nonfat Hazelnut Latte (Medium)",
          "Nonfat Hazelnut Latte (Large)",
          "Nonfat French Vanilla Latte (Small)",
          "Nonfat French Vanilla Latte (Medium)",
          "Nonfat French Vanilla Latte (Large)",
          "Nonfat Latte with Sugar Free French Vanilla Syrup (Small)",
          "Nonfat Latte with Sugar Free French Vanilla Syrup (Medium)",
          "Nonfat Latte with Sugar Free French Vanilla Syrup (Large)",
          "Mocha (Small)",
          "Mocha (Medium)",
          "Mocha (Large)",
          "Mocha with Nonfat Milk (Small)",
          "Mocha with Nonfat Milk (Medium)",
          "Mocha with Nonfat Milk (Large)",
          "Caramel Mocha (Small)",
          "Caramel Mocha (Medium)",
          "Caramel Mocha (Large)",
          "Nonfat Caramel Mocha (Small)",
          "Nonfat Caramel Mocha (Medium)",
          "Nonfat Caramel Mocha (Large)",
          "Hot Chocolate (Small)",
          "Hot Chocolate (Medium)",
          "Hot Chocolate (Large)",
          "Hot Chocolate with Nonfat Milk (Small)",
          "Hot Chocolate with Nonfat Milk (Medium)",
          "Hot Chocolate with Nonfat Milk (Large)",
          "Regular Iced Coffee (Small)",
          "Regular Iced Coffee (Medium)",
          "Regular Iced Coffee (Large)",
          "Caramel Iced Coffee (Small)",
          "Caramel Iced Coffee (Medium)",
          "Caramel Iced Coffee (Large)",
          "Hazelnut Iced Coffee (Small)",
          "Hazelnut Iced Coffee (Medium)",
          "Hazelnut Iced Coffee (Large)",
          "French Vanilla Iced Coffee (Small)",
          "French Vanilla Iced Coffee (Medium)",
          "French Vanilla Iced Coffee (Large)",
          "Iced Coffee with Sugar Free French Vanilla Syrup (Small)",
          "Iced Coffee with Sugar Free French Vanilla Syrup (Medium)",
          "Iced Coffee with Sugar Free French Vanilla Syrup (Large)",
          "Iced Mocha (Small)",
          "Iced Mocha (Medium)",
          "Iced Mocha (Large)",
          "Iced Mocha with Nonfat Milk (Small)",
          "Iced Mocha with Nonfat Milk (Medium)",
          "Iced Mocha with Nonfat Milk (Large)",
          "Iced Caramel Mocha (Small)",
          "Iced Caramel Mocha (Medium)",
          "Iced Caramel Mocha (Large)",
          "Iced Nonfat Caramel Mocha (Small)",
          "Iced Nonfat Caramel Mocha (Medium)",
          "Iced Nonfat Caramel Mocha (Large)",
          "Frappé Mocha (Small)",
          "Frappé Mocha (Medium)",
          "Frappé Mocha (Large)",
          "Frappé Caramel (Small)",
          "Frappé Caramel (Medium)",
          "Frappé Caramel (Large)",
          "Frappé Chocolate Chip (Small)",
          "Frappé Chocolate Chip (Medium)",
          "Frappé Chocolate Chip (Large)",
          "Blueberry Pomegranate Smoothie (Small)",
          "Blueberry Pomegranate Smoothie (Medium)",
          "Blueberry Pomegranate Smoothie (Large)",
          "Strawberry Banana Smoothie (Small)",
          "Strawberry Banana Smoothie (Medium)",
          "Strawberry Banana Smoothie (Large)",
          "Mango Pineapple Smoothie (Small)",
          "Mango Pineapple Smoothie (Medium)",
          "Mango Pineapple Smoothie (Large)",
          "Vanilla Shake (Small)",
          "Vanilla Shake (Medium)",
          "Vanilla Shake (Large)",
          "Strawberry Shake (Small)",
          "Strawberry Shake (Medium)",
          "Strawberry Shake (Large)",
          "Chocolate Shake (Small)",
          "Chocolate Shake (Medium)",
          "Chocolate Shake (Large)",
          "Shamrock Shake (Medium)",
          "Shamrock Shake (Large)",
          "McFlurry with M&M’s Candies (Small)",
          "McFlurry with M&M’s Candies (Medium)",
          "McFlurry with M&M’s Candies (Snack)",
          "McFlurry with Oreo Cookies (Small)",
          "McFlurry with Oreo Cookies (Medium)",
          "McFlurry with Oreo Cookies (Snack)",
          "McFlurry with Reese's Peanut Butter Cups (Medium)",
          "McFlurry with Reese's Peanut Butter Cups (Snack)"
         ],
         "y": [
          25,
          25,
          25,
          30,
          25,
          30,
          15,
          20,
          15,
          15,
          6,
          8,
          10,
          10,
          8,
          8,
          6,
          8,
          20,
          20,
          15,
          8,
          20,
          20,
          20,
          20,
          25,
          15,
          15,
          10,
          10,
          25,
          30,
          25,
          25,
          15,
          15,
          15,
          0,
          6,
          10,
          6,
          25,
          30,
          25,
          25,
          25,
          30,
          10,
          20,
          30,
          30,
          20,
          20,
          20,
          20,
          15,
          15,
          15,
          30,
          30,
          15,
          15,
          30,
          30,
          15,
          10,
          20,
          15,
          15,
          20,
          20,
          20,
          15,
          20,
          20,
          8,
          8,
          0,
          2,
          2,
          4,
          8,
          15,
          15,
          15,
          15,
          15,
          15,
          15,
          10,
          10,
          10,
          10,
          10,
          10,
          0,
          2,
          2,
          0,
          2,
          2,
          10,
          2,
          2,
          2,
          4,
          25,
          25,
          20,
          0,
          0,
          0,
          0,
          0,
          0,
          0,
          0,
          0,
          0,
          0,
          0,
          0,
          0,
          0,
          0,
          0,
          0,
          0,
          0,
          30,
          30,
          10,
          2,
          4,
          4,
          0,
          0,
          0,
          0,
          0,
          0,
          0,
          0,
          0,
          0,
          0,
          0,
          30,
          35,
          50,
          30,
          35,
          50,
          30,
          35,
          50,
          30,
          35,
          50,
          30,
          35,
          50,
          30,
          40,
          50,
          30,
          40,
          50,
          30,
          40,
          50,
          30,
          40,
          50,
          30,
          40,
          50,
          30,
          40,
          50,
          35,
          40,
          50,
          30,
          40,
          50,
          35,
          40,
          50,
          40,
          45,
          60,
          40,
          50,
          60,
          4,
          4,
          8,
          4,
          4,
          6,
          4,
          4,
          8,
          4,
          4,
          8,
          4,
          4,
          8,
          25,
          30,
          40,
          25,
          30,
          45,
          25,
          30,
          40,
          25,
          30,
          45,
          20,
          25,
          35,
          25,
          30,
          35,
          25,
          30,
          35,
          6,
          8,
          10,
          8,
          8,
          10,
          8,
          8,
          10,
          40,
          50,
          60,
          40,
          50,
          70,
          40,
          50,
          60,
          50,
          60,
          45,
          70,
          30,
          40,
          50,
          25,
          60,
          30
         ]
        }
       ],
       "layout": {
        "autosize": true,
        "hovermode": "closest",
        "showlegend": false,
        "template": {
         "data": {
          "bar": [
           {
            "error_x": {
             "color": "#2a3f5f"
            },
            "error_y": {
             "color": "#2a3f5f"
            },
            "marker": {
             "line": {
              "color": "#E5ECF6",
              "width": 0.5
             }
            },
            "type": "bar"
           }
          ],
          "barpolar": [
           {
            "marker": {
             "line": {
              "color": "#E5ECF6",
              "width": 0.5
             }
            },
            "type": "barpolar"
           }
          ],
          "carpet": [
           {
            "aaxis": {
             "endlinecolor": "#2a3f5f",
             "gridcolor": "white",
             "linecolor": "white",
             "minorgridcolor": "white",
             "startlinecolor": "#2a3f5f"
            },
            "baxis": {
             "endlinecolor": "#2a3f5f",
             "gridcolor": "white",
             "linecolor": "white",
             "minorgridcolor": "white",
             "startlinecolor": "#2a3f5f"
            },
            "type": "carpet"
           }
          ],
          "choropleth": [
           {
            "colorbar": {
             "outlinewidth": 0,
             "ticks": ""
            },
            "type": "choropleth"
           }
          ],
          "contour": [
           {
            "colorbar": {
             "outlinewidth": 0,
             "ticks": ""
            },
            "colorscale": [
             [
              0,
              "#0d0887"
             ],
             [
              0.1111111111111111,
              "#46039f"
             ],
             [
              0.2222222222222222,
              "#7201a8"
             ],
             [
              0.3333333333333333,
              "#9c179e"
             ],
             [
              0.4444444444444444,
              "#bd3786"
             ],
             [
              0.5555555555555556,
              "#d8576b"
             ],
             [
              0.6666666666666666,
              "#ed7953"
             ],
             [
              0.7777777777777778,
              "#fb9f3a"
             ],
             [
              0.8888888888888888,
              "#fdca26"
             ],
             [
              1,
              "#f0f921"
             ]
            ],
            "type": "contour"
           }
          ],
          "contourcarpet": [
           {
            "colorbar": {
             "outlinewidth": 0,
             "ticks": ""
            },
            "type": "contourcarpet"
           }
          ],
          "heatmap": [
           {
            "colorbar": {
             "outlinewidth": 0,
             "ticks": ""
            },
            "colorscale": [
             [
              0,
              "#0d0887"
             ],
             [
              0.1111111111111111,
              "#46039f"
             ],
             [
              0.2222222222222222,
              "#7201a8"
             ],
             [
              0.3333333333333333,
              "#9c179e"
             ],
             [
              0.4444444444444444,
              "#bd3786"
             ],
             [
              0.5555555555555556,
              "#d8576b"
             ],
             [
              0.6666666666666666,
              "#ed7953"
             ],
             [
              0.7777777777777778,
              "#fb9f3a"
             ],
             [
              0.8888888888888888,
              "#fdca26"
             ],
             [
              1,
              "#f0f921"
             ]
            ],
            "type": "heatmap"
           }
          ],
          "heatmapgl": [
           {
            "colorbar": {
             "outlinewidth": 0,
             "ticks": ""
            },
            "colorscale": [
             [
              0,
              "#0d0887"
             ],
             [
              0.1111111111111111,
              "#46039f"
             ],
             [
              0.2222222222222222,
              "#7201a8"
             ],
             [
              0.3333333333333333,
              "#9c179e"
             ],
             [
              0.4444444444444444,
              "#bd3786"
             ],
             [
              0.5555555555555556,
              "#d8576b"
             ],
             [
              0.6666666666666666,
              "#ed7953"
             ],
             [
              0.7777777777777778,
              "#fb9f3a"
             ],
             [
              0.8888888888888888,
              "#fdca26"
             ],
             [
              1,
              "#f0f921"
             ]
            ],
            "type": "heatmapgl"
           }
          ],
          "histogram": [
           {
            "marker": {
             "colorbar": {
              "outlinewidth": 0,
              "ticks": ""
             }
            },
            "type": "histogram"
           }
          ],
          "histogram2d": [
           {
            "colorbar": {
             "outlinewidth": 0,
             "ticks": ""
            },
            "colorscale": [
             [
              0,
              "#0d0887"
             ],
             [
              0.1111111111111111,
              "#46039f"
             ],
             [
              0.2222222222222222,
              "#7201a8"
             ],
             [
              0.3333333333333333,
              "#9c179e"
             ],
             [
              0.4444444444444444,
              "#bd3786"
             ],
             [
              0.5555555555555556,
              "#d8576b"
             ],
             [
              0.6666666666666666,
              "#ed7953"
             ],
             [
              0.7777777777777778,
              "#fb9f3a"
             ],
             [
              0.8888888888888888,
              "#fdca26"
             ],
             [
              1,
              "#f0f921"
             ]
            ],
            "type": "histogram2d"
           }
          ],
          "histogram2dcontour": [
           {
            "colorbar": {
             "outlinewidth": 0,
             "ticks": ""
            },
            "colorscale": [
             [
              0,
              "#0d0887"
             ],
             [
              0.1111111111111111,
              "#46039f"
             ],
             [
              0.2222222222222222,
              "#7201a8"
             ],
             [
              0.3333333333333333,
              "#9c179e"
             ],
             [
              0.4444444444444444,
              "#bd3786"
             ],
             [
              0.5555555555555556,
              "#d8576b"
             ],
             [
              0.6666666666666666,
              "#ed7953"
             ],
             [
              0.7777777777777778,
              "#fb9f3a"
             ],
             [
              0.8888888888888888,
              "#fdca26"
             ],
             [
              1,
              "#f0f921"
             ]
            ],
            "type": "histogram2dcontour"
           }
          ],
          "mesh3d": [
           {
            "colorbar": {
             "outlinewidth": 0,
             "ticks": ""
            },
            "type": "mesh3d"
           }
          ],
          "parcoords": [
           {
            "line": {
             "colorbar": {
              "outlinewidth": 0,
              "ticks": ""
             }
            },
            "type": "parcoords"
           }
          ],
          "pie": [
           {
            "automargin": true,
            "type": "pie"
           }
          ],
          "scatter": [
           {
            "marker": {
             "colorbar": {
              "outlinewidth": 0,
              "ticks": ""
             }
            },
            "type": "scatter"
           }
          ],
          "scatter3d": [
           {
            "line": {
             "colorbar": {
              "outlinewidth": 0,
              "ticks": ""
             }
            },
            "marker": {
             "colorbar": {
              "outlinewidth": 0,
              "ticks": ""
             }
            },
            "type": "scatter3d"
           }
          ],
          "scattercarpet": [
           {
            "marker": {
             "colorbar": {
              "outlinewidth": 0,
              "ticks": ""
             }
            },
            "type": "scattercarpet"
           }
          ],
          "scattergeo": [
           {
            "marker": {
             "colorbar": {
              "outlinewidth": 0,
              "ticks": ""
             }
            },
            "type": "scattergeo"
           }
          ],
          "scattergl": [
           {
            "marker": {
             "colorbar": {
              "outlinewidth": 0,
              "ticks": ""
             }
            },
            "type": "scattergl"
           }
          ],
          "scattermapbox": [
           {
            "marker": {
             "colorbar": {
              "outlinewidth": 0,
              "ticks": ""
             }
            },
            "type": "scattermapbox"
           }
          ],
          "scatterpolar": [
           {
            "marker": {
             "colorbar": {
              "outlinewidth": 0,
              "ticks": ""
             }
            },
            "type": "scatterpolar"
           }
          ],
          "scatterpolargl": [
           {
            "marker": {
             "colorbar": {
              "outlinewidth": 0,
              "ticks": ""
             }
            },
            "type": "scatterpolargl"
           }
          ],
          "scatterternary": [
           {
            "marker": {
             "colorbar": {
              "outlinewidth": 0,
              "ticks": ""
             }
            },
            "type": "scatterternary"
           }
          ],
          "surface": [
           {
            "colorbar": {
             "outlinewidth": 0,
             "ticks": ""
            },
            "colorscale": [
             [
              0,
              "#0d0887"
             ],
             [
              0.1111111111111111,
              "#46039f"
             ],
             [
              0.2222222222222222,
              "#7201a8"
             ],
             [
              0.3333333333333333,
              "#9c179e"
             ],
             [
              0.4444444444444444,
              "#bd3786"
             ],
             [
              0.5555555555555556,
              "#d8576b"
             ],
             [
              0.6666666666666666,
              "#ed7953"
             ],
             [
              0.7777777777777778,
              "#fb9f3a"
             ],
             [
              0.8888888888888888,
              "#fdca26"
             ],
             [
              1,
              "#f0f921"
             ]
            ],
            "type": "surface"
           }
          ],
          "table": [
           {
            "cells": {
             "fill": {
              "color": "#EBF0F8"
             },
             "line": {
              "color": "white"
             }
            },
            "header": {
             "fill": {
              "color": "#C8D4E3"
             },
             "line": {
              "color": "white"
             }
            },
            "type": "table"
           }
          ]
         },
         "layout": {
          "annotationdefaults": {
           "arrowcolor": "#2a3f5f",
           "arrowhead": 0,
           "arrowwidth": 1
          },
          "coloraxis": {
           "colorbar": {
            "outlinewidth": 0,
            "ticks": ""
           }
          },
          "colorscale": {
           "diverging": [
            [
             0,
             "#8e0152"
            ],
            [
             0.1,
             "#c51b7d"
            ],
            [
             0.2,
             "#de77ae"
            ],
            [
             0.3,
             "#f1b6da"
            ],
            [
             0.4,
             "#fde0ef"
            ],
            [
             0.5,
             "#f7f7f7"
            ],
            [
             0.6,
             "#e6f5d0"
            ],
            [
             0.7,
             "#b8e186"
            ],
            [
             0.8,
             "#7fbc41"
            ],
            [
             0.9,
             "#4d9221"
            ],
            [
             1,
             "#276419"
            ]
           ],
           "sequential": [
            [
             0,
             "#0d0887"
            ],
            [
             0.1111111111111111,
             "#46039f"
            ],
            [
             0.2222222222222222,
             "#7201a8"
            ],
            [
             0.3333333333333333,
             "#9c179e"
            ],
            [
             0.4444444444444444,
             "#bd3786"
            ],
            [
             0.5555555555555556,
             "#d8576b"
            ],
            [
             0.6666666666666666,
             "#ed7953"
            ],
            [
             0.7777777777777778,
             "#fb9f3a"
            ],
            [
             0.8888888888888888,
             "#fdca26"
            ],
            [
             1,
             "#f0f921"
            ]
           ],
           "sequentialminus": [
            [
             0,
             "#0d0887"
            ],
            [
             0.1111111111111111,
             "#46039f"
            ],
            [
             0.2222222222222222,
             "#7201a8"
            ],
            [
             0.3333333333333333,
             "#9c179e"
            ],
            [
             0.4444444444444444,
             "#bd3786"
            ],
            [
             0.5555555555555556,
             "#d8576b"
            ],
            [
             0.6666666666666666,
             "#ed7953"
            ],
            [
             0.7777777777777778,
             "#fb9f3a"
            ],
            [
             0.8888888888888888,
             "#fdca26"
            ],
            [
             1,
             "#f0f921"
            ]
           ]
          },
          "colorway": [
           "#636efa",
           "#EF553B",
           "#00cc96",
           "#ab63fa",
           "#FFA15A",
           "#19d3f3",
           "#FF6692",
           "#B6E880",
           "#FF97FF",
           "#FECB52"
          ],
          "font": {
           "color": "#2a3f5f"
          },
          "geo": {
           "bgcolor": "white",
           "lakecolor": "white",
           "landcolor": "#E5ECF6",
           "showlakes": true,
           "showland": true,
           "subunitcolor": "white"
          },
          "hoverlabel": {
           "align": "left"
          },
          "hovermode": "closest",
          "mapbox": {
           "style": "light"
          },
          "paper_bgcolor": "white",
          "plot_bgcolor": "#E5ECF6",
          "polar": {
           "angularaxis": {
            "gridcolor": "white",
            "linecolor": "white",
            "ticks": ""
           },
           "bgcolor": "#E5ECF6",
           "radialaxis": {
            "gridcolor": "white",
            "linecolor": "white",
            "ticks": ""
           }
          },
          "scene": {
           "xaxis": {
            "backgroundcolor": "#E5ECF6",
            "gridcolor": "white",
            "gridwidth": 2,
            "linecolor": "white",
            "showbackground": true,
            "ticks": "",
            "zerolinecolor": "white"
           },
           "yaxis": {
            "backgroundcolor": "#E5ECF6",
            "gridcolor": "white",
            "gridwidth": 2,
            "linecolor": "white",
            "showbackground": true,
            "ticks": "",
            "zerolinecolor": "white"
           },
           "zaxis": {
            "backgroundcolor": "#E5ECF6",
            "gridcolor": "white",
            "gridwidth": 2,
            "linecolor": "white",
            "showbackground": true,
            "ticks": "",
            "zerolinecolor": "white"
           }
          },
          "shapedefaults": {
           "line": {
            "color": "#2a3f5f"
           }
          },
          "ternary": {
           "aaxis": {
            "gridcolor": "white",
            "linecolor": "white",
            "ticks": ""
           },
           "baxis": {
            "gridcolor": "white",
            "linecolor": "white",
            "ticks": ""
           },
           "bgcolor": "#E5ECF6",
           "caxis": {
            "gridcolor": "white",
            "linecolor": "white",
            "ticks": ""
           }
          },
          "title": {
           "x": 0.05
          },
          "xaxis": {
           "automargin": true,
           "gridcolor": "white",
           "linecolor": "white",
           "ticks": "",
           "title": {
            "standoff": 15
           },
           "zerolinecolor": "white",
           "zerolinewidth": 2
          },
          "yaxis": {
           "automargin": true,
           "gridcolor": "white",
           "linecolor": "white",
           "ticks": "",
           "title": {
            "standoff": 15
           },
           "zerolinecolor": "white",
           "zerolinewidth": 2
          }
         }
        },
        "title": {
         "text": "Scatter plot of Calcium (% Daily Value) per Item on the Menu"
        },
        "xaxis": {
         "showgrid": false,
         "showline": false,
         "zeroline": false
        },
        "yaxis": {
         "gridwidth": 2,
         "showgrid": false,
         "showline": false,
         "ticklen": 5,
         "title": {
          "text": "Calcium (% Daily Value)"
         },
         "zeroline": false
        }
       }
      },
      "text/html": [
       "<div>\n",
       "        \n",
       "        \n",
       "            <div id=\"3f67f2f5-9069-406b-b9f4-d99615be7d81\" class=\"plotly-graph-div\" style=\"height:525px; width:100%;\"></div>\n",
       "            <script type=\"text/javascript\">\n",
       "                require([\"plotly\"], function(Plotly) {\n",
       "                    window.PLOTLYENV=window.PLOTLYENV || {};\n",
       "                    \n",
       "                if (document.getElementById(\"3f67f2f5-9069-406b-b9f4-d99615be7d81\")) {\n",
       "                    Plotly.newPlot(\n",
       "                        '3f67f2f5-9069-406b-b9f4-d99615be7d81',\n",
       "                        [{\"marker\": {\"color\": [25, 25, 25, 30, 25, 30, 15, 20, 15, 15, 6, 8, 10, 10, 8, 8, 6, 8, 20, 20, 15, 8, 20, 20, 20, 20, 25, 15, 15, 10, 10, 25, 30, 25, 25, 15, 15, 15, 0, 6, 10, 6, 25, 30, 25, 25, 25, 30, 10, 20, 30, 30, 20, 20, 20, 20, 15, 15, 15, 30, 30, 15, 15, 30, 30, 15, 10, 20, 15, 15, 20, 20, 20, 15, 20, 20, 8, 8, 0, 2, 2, 4, 8, 15, 15, 15, 15, 15, 15, 15, 10, 10, 10, 10, 10, 10, 0, 2, 2, 0, 2, 2, 10, 2, 2, 2, 4, 25, 25, 20, 0, 0, 0, 0, 0, 0, 0, 0, 0, 0, 0, 0, 0, 0, 0, 0, 0, 0, 0, 0, 30, 30, 10, 2, 4, 4, 0, 0, 0, 0, 0, 0, 0, 0, 0, 0, 0, 0, 30, 35, 50, 30, 35, 50, 30, 35, 50, 30, 35, 50, 30, 35, 50, 30, 40, 50, 30, 40, 50, 30, 40, 50, 30, 40, 50, 30, 40, 50, 30, 40, 50, 35, 40, 50, 30, 40, 50, 35, 40, 50, 40, 45, 60, 40, 50, 60, 4, 4, 8, 4, 4, 6, 4, 4, 8, 4, 4, 8, 4, 4, 8, 25, 30, 40, 25, 30, 45, 25, 30, 40, 25, 30, 45, 20, 25, 35, 25, 30, 35, 25, 30, 35, 6, 8, 10, 8, 8, 10, 8, 8, 10, 40, 50, 60, 40, 50, 70, 40, 50, 60, 50, 60, 45, 70, 30, 40, 50, 25, 60, 30], \"colorscale\": [[0.0, \"rgb(12,51,131)\"], [0.25, \"rgb(10,136,186)\"], [0.5, \"rgb(242,211,56)\"], [0.75, \"rgb(242,143,56)\"], [1.0, \"rgb(217,30,30)\"]], \"reversescale\": true, \"showscale\": true, \"size\": [25, 25, 25, 30, 25, 30, 15, 20, 15, 15, 6, 8, 10, 10, 8, 8, 6, 8, 20, 20, 15, 8, 20, 20, 20, 20, 25, 15, 15, 10, 10, 25, 30, 25, 25, 15, 15, 15, 0, 6, 10, 6, 25, 30, 25, 25, 25, 30, 10, 20, 30, 30, 20, 20, 20, 20, 15, 15, 15, 30, 30, 15, 15, 30, 30, 15, 10, 20, 15, 15, 20, 20, 20, 15, 20, 20, 8, 8, 0, 2, 2, 4, 8, 15, 15, 15, 15, 15, 15, 15, 10, 10, 10, 10, 10, 10, 0, 2, 2, 0, 2, 2, 10, 2, 2, 2, 4, 25, 25, 20, 0, 0, 0, 0, 0, 0, 0, 0, 0, 0, 0, 0, 0, 0, 0, 0, 0, 0, 0, 0, 30, 30, 10, 2, 4, 4, 0, 0, 0, 0, 0, 0, 0, 0, 0, 0, 0, 0, 30, 35, 50, 30, 35, 50, 30, 35, 50, 30, 35, 50, 30, 35, 50, 30, 40, 50, 30, 40, 50, 30, 40, 50, 30, 40, 50, 30, 40, 50, 30, 40, 50, 35, 40, 50, 30, 40, 50, 35, 40, 50, 40, 45, 60, 40, 50, 60, 4, 4, 8, 4, 4, 6, 4, 4, 8, 4, 4, 8, 4, 4, 8, 25, 30, 40, 25, 30, 45, 25, 30, 40, 25, 30, 45, 20, 25, 35, 25, 30, 35, 25, 30, 35, 6, 8, 10, 8, 8, 10, 8, 8, 10, 40, 50, 60, 40, 50, 70, 40, 50, 60, 50, 60, 45, 70, 30, 40, 50, 25, 60, 30]}, \"mode\": \"markers\", \"text\": [\"Egg McMuffin\", \"Egg White Delight\", \"Sausage McMuffin\", \"Sausage McMuffin with Egg\", \"Sausage McMuffin with Egg Whites\", \"Steak & Egg McMuffin\", \"Bacon, Egg & Cheese Biscuit (Regular Biscuit)\", \"Bacon, Egg & Cheese Biscuit (Large Biscuit)\", \"Bacon, Egg & Cheese Biscuit with Egg Whites (Regular Biscuit)\", \"Bacon, Egg & Cheese Biscuit with Egg Whites (Large Biscuit)\", \"Sausage Biscuit (Regular Biscuit)\", \"Sausage Biscuit (Large Biscuit)\", \"Sausage Biscuit with Egg (Regular Biscuit)\", \"Sausage Biscuit with Egg (Large Biscuit)\", \"Sausage Biscuit with Egg Whites (Regular Biscuit)\", \"Sausage Biscuit with Egg Whites (Large Biscuit)\", \"Southern Style Chicken Biscuit (Regular Biscuit)\", \"Southern Style Chicken Biscuit (Large Biscuit)\", \"Steak & Egg Biscuit (Regular Biscuit)\", \"Bacon, Egg & Cheese McGriddles\", \"Bacon, Egg & Cheese McGriddles with Egg Whites\", \"Sausage McGriddles\", \"Sausage, Egg & Cheese McGriddles\", \"Sausage, Egg & Cheese McGriddles with Egg Whites\", \"Bacon, Egg & Cheese Bagel\", \"Bacon, Egg & Cheese Bagel with Egg Whites\", \"Steak, Egg & Cheese Bagel\", \"Big Breakfast (Regular Biscuit)\", \"Big Breakfast (Large Biscuit)\", \"Big Breakfast with Egg Whites (Regular Biscuit)\", \"Big Breakfast with Egg Whites (Large Biscuit)\", \"Big Breakfast with Hotcakes (Regular Biscuit)\", \"Big Breakfast with Hotcakes (Large Biscuit)\", \"Big Breakfast with Hotcakes and Egg Whites (Regular Biscuit)\", \"Big Breakfast with Hotcakes and Egg Whites (Large Biscuit)\", \"Hotcakes\", \"Hotcakes and Sausage\", \"Sausage Burrito\", \"Hash Brown\", \"Cinnamon Melts\", \"Fruit & Maple Oatmeal\", \"Fruit & Maple Oatmeal without Brown Sugar\", \"Big Mac\", \"Quarter Pounder with Cheese\", \"Quarter Pounder with Bacon & Cheese\", \"Quarter Pounder with Bacon Habanero Ranch\", \"Quarter Pounder Deluxe\", \"Double Quarter Pounder with Cheese\", \"Hamburger\", \"Cheeseburger\", \"Double Cheeseburger\", \"Bacon Clubhouse Burger\", \"McDouble\", \"Bacon McDouble\", \"Daily Double\", \"Jalape\\u00f1o Double\", \"McRib\", \"Premium Crispy Chicken Classic Sandwich\", \"Premium Grilled Chicken Classic Sandwich\", \"Premium Crispy Chicken Club Sandwich\", \"Premium Grilled Chicken Club Sandwich\", \"Premium Crispy Chicken Ranch BLT Sandwich\", \"Premium Grilled Chicken Ranch BLT Sandwich\", \"Bacon Clubhouse Crispy Chicken Sandwich\", \"Bacon Clubhouse Grilled Chicken Sandwich\", \"Southern Style Crispy Chicken Sandwich\", \"McChicken\", \"Bacon Cheddar McChicken\", \"Bacon Buffalo Ranch McChicken\", \"Buffalo Ranch McChicken\", \"Premium McWrap Chicken & Bacon (Crispy Chicken)\", \"Premium McWrap Chicken & Bacon (Grilled Chicken)\", \"Premium McWrap Chicken & Ranch (Crispy Chicken)\", \"Premium McWrap Chicken & Ranch (Grilled Chicken)\", \"Premium McWrap Southwest Chicken (Crispy Chicken)\", \"Premium McWrap Southwest Chicken (Grilled Chicken)\", \"Premium McWrap Chicken Sweet Chili (Crispy Chicken)\", \"Premium McWrap Chicken Sweet Chili (Grilled Chicken)\", \"Chicken McNuggets (4 piece)\", \"Chicken McNuggets (6 piece)\", \"Chicken McNuggets (10 piece)\", \"Chicken McNuggets (20 piece)\", \"Chicken McNuggets (40 piece)\", \"Filet-O-Fish\", \"Premium Bacon Ranch Salad (without Chicken)\", \"Premium Bacon Ranch Salad with Crispy Chicken\", \"Premium Bacon Ranch Salad with Grilled Chicken\", \"Premium Southwest Salad (without Chicken)\", \"Premium Southwest Salad with Crispy Chicken\", \"Premium Southwest Salad with Grilled Chicken\", \"Chipotle BBQ Snack Wrap (Crispy Chicken)\", \"Chipotle BBQ Snack Wrap (Grilled Chicken)\", \"Honey Mustard Snack Wrap (Crispy Chicken)\", \"Honey Mustard Snack Wrap (Grilled Chicken)\", \"Ranch Snack Wrap (Crispy Chicken)\", \"Ranch Snack Wrap (Grilled Chicken)\", \"Small French Fries\", \"Medium French Fries\", \"Large French Fries\", \"Kids French Fries\", \"Side Salad\", \"Apple Slices\", \"Fruit 'n Yogurt Parfait\", \"Baked Apple Pie\", \"Chocolate Chip Cookie\", \"Oatmeal Raisin Cookie\", \"Kids Ice Cream Cone\", \"Hot Fudge Sundae\", \"Hot Caramel Sundae\", \"Strawberry Sundae\", \"Coca-Cola Classic (Small)\", \"Coca-Cola Classic (Medium)\", \"Coca-Cola Classic (Large)\", \"Coca-Cola Classic (Child)\", \"Diet Coke (Small)\", \"Diet Coke (Medium)\", \"Diet Coke (Large)\", \"Diet Coke (Child)\", \"Dr Pepper (Small)\", \"Dr Pepper (Medium)\", \"Dr Pepper (Large)\", \"Dr Pepper (Child)\", \"Diet Dr Pepper (Small)\", \"Diet Dr Pepper (Medium)\", \"Diet Dr Pepper (Large)\", \"Diet Dr Pepper (Child)\", \"Sprite (Small)\", \"Sprite (Medium)\", \"Sprite (Large)\", \"Sprite (Child)\", \"1% Low Fat Milk Jug\", \"Fat Free Chocolate Milk Jug\", \"Minute Maid 100% Apple Juice Box\", \"Minute Maid Orange Juice (Small)\", \"Minute Maid Orange Juice (Medium)\", \"Minute Maid Orange Juice (Large)\", \"Dasani Water Bottle\", \"Iced Tea (Small)\", \"Iced Tea (Medium)\", \"Iced Tea (Large)\", \"Iced Tea (Child)\", \"Sweet Tea (Small)\", \"Sweet Tea (Medium)\", \"Sweet Tea (Large)\", \"Sweet Tea (Child)\", \"Coffee (Small)\", \"Coffee (Medium)\", \"Coffee (Large)\", \"Latte (Small)\", \"Latte (Medium)\", \"Latte (Large)\", \"Caramel Latte (Small)\", \"Caramel Latte (Medium)\", \"Caramel Latte (Large)\", \"Hazelnut Latte (Small)\", \"Hazelnut Latte (Medium)\", \"Hazelnut Latte (Large)\", \"French Vanilla Latte (Small)\", \"French Vanilla Latte (Medium)\", \"French Vanilla Latte (Large)\", \"Latte with Sugar Free French Vanilla Syrup (Small)\", \"Latte with Sugar Free French Vanilla Syrup (Medium)\", \"Latte with Sugar Free French Vanilla Syrup (Large)\", \"Nonfat Latte (Small)\", \"Nonfat Latte (Medium)\", \"Nonfat Latte (Large)\", \"Nonfat Caramel Latte (Small)\", \"Nonfat Caramel Latte (Medium)\", \"Nonfat Caramel Latte (Large)\", \"Nonfat Hazelnut Latte (Small)\", \"Nonfat Hazelnut Latte (Medium)\", \"Nonfat Hazelnut Latte (Large)\", \"Nonfat French Vanilla Latte (Small)\", \"Nonfat French Vanilla Latte (Medium)\", \"Nonfat French Vanilla Latte (Large)\", \"Nonfat Latte with Sugar Free French Vanilla Syrup (Small)\", \"Nonfat Latte with Sugar Free French Vanilla Syrup (Medium)\", \"Nonfat Latte with Sugar Free French Vanilla Syrup (Large)\", \"Mocha (Small)\", \"Mocha (Medium)\", \"Mocha (Large)\", \"Mocha with Nonfat Milk (Small)\", \"Mocha with Nonfat Milk (Medium)\", \"Mocha with Nonfat Milk (Large)\", \"Caramel Mocha (Small)\", \"Caramel Mocha (Medium)\", \"Caramel Mocha (Large)\", \"Nonfat Caramel Mocha (Small)\", \"Nonfat Caramel Mocha (Medium)\", \"Nonfat Caramel Mocha (Large)\", \"Hot Chocolate (Small)\", \"Hot Chocolate (Medium)\", \"Hot Chocolate (Large)\", \"Hot Chocolate with Nonfat Milk (Small)\", \"Hot Chocolate with Nonfat Milk (Medium)\", \"Hot Chocolate with Nonfat Milk (Large)\", \"Regular Iced Coffee (Small)\", \"Regular Iced Coffee (Medium)\", \"Regular Iced Coffee (Large)\", \"Caramel Iced Coffee (Small)\", \"Caramel Iced Coffee (Medium)\", \"Caramel Iced Coffee (Large)\", \"Hazelnut Iced Coffee (Small)\", \"Hazelnut Iced Coffee (Medium)\", \"Hazelnut Iced Coffee (Large)\", \"French Vanilla Iced Coffee (Small)\", \"French Vanilla Iced Coffee (Medium)\", \"French Vanilla Iced Coffee (Large)\", \"Iced Coffee with Sugar Free French Vanilla Syrup (Small)\", \"Iced Coffee with Sugar Free French Vanilla Syrup (Medium)\", \"Iced Coffee with Sugar Free French Vanilla Syrup (Large)\", \"Iced Mocha (Small)\", \"Iced Mocha (Medium)\", \"Iced Mocha (Large)\", \"Iced Mocha with Nonfat Milk (Small)\", \"Iced Mocha with Nonfat Milk (Medium)\", \"Iced Mocha with Nonfat Milk (Large)\", \"Iced Caramel Mocha (Small)\", \"Iced Caramel Mocha (Medium)\", \"Iced Caramel Mocha (Large)\", \"Iced Nonfat Caramel Mocha (Small)\", \"Iced Nonfat Caramel Mocha (Medium)\", \"Iced Nonfat Caramel Mocha (Large)\", \"Frapp\\u00e9 Mocha (Small)\", \"Frapp\\u00e9 Mocha (Medium)\", \"Frapp\\u00e9 Mocha (Large)\", \"Frapp\\u00e9 Caramel (Small)\", \"Frapp\\u00e9 Caramel (Medium)\", \"Frapp\\u00e9 Caramel (Large)\", \"Frapp\\u00e9 Chocolate Chip (Small)\", \"Frapp\\u00e9 Chocolate Chip (Medium)\", \"Frapp\\u00e9 Chocolate Chip (Large)\", \"Blueberry Pomegranate Smoothie (Small)\", \"Blueberry Pomegranate Smoothie (Medium)\", \"Blueberry Pomegranate Smoothie (Large)\", \"Strawberry Banana Smoothie (Small)\", \"Strawberry Banana Smoothie (Medium)\", \"Strawberry Banana Smoothie (Large)\", \"Mango Pineapple Smoothie (Small)\", \"Mango Pineapple Smoothie (Medium)\", \"Mango Pineapple Smoothie (Large)\", \"Vanilla Shake (Small)\", \"Vanilla Shake (Medium)\", \"Vanilla Shake (Large)\", \"Strawberry Shake (Small)\", \"Strawberry Shake (Medium)\", \"Strawberry Shake (Large)\", \"Chocolate Shake (Small)\", \"Chocolate Shake (Medium)\", \"Chocolate Shake (Large)\", \"Shamrock Shake (Medium)\", \"Shamrock Shake (Large)\", \"McFlurry with M&M\\u2019s Candies (Small)\", \"McFlurry with M&M\\u2019s Candies (Medium)\", \"McFlurry with M&M\\u2019s Candies (Snack)\", \"McFlurry with Oreo Cookies (Small)\", \"McFlurry with Oreo Cookies (Medium)\", \"McFlurry with Oreo Cookies (Snack)\", \"McFlurry with Reese's Peanut Butter Cups (Medium)\", \"McFlurry with Reese's Peanut Butter Cups (Snack)\"], \"type\": \"scatter\", \"x\": [\"Egg McMuffin\", \"Egg White Delight\", \"Sausage McMuffin\", \"Sausage McMuffin with Egg\", \"Sausage McMuffin with Egg Whites\", \"Steak & Egg McMuffin\", \"Bacon, Egg & Cheese Biscuit (Regular Biscuit)\", \"Bacon, Egg & Cheese Biscuit (Large Biscuit)\", \"Bacon, Egg & Cheese Biscuit with Egg Whites (Regular Biscuit)\", \"Bacon, Egg & Cheese Biscuit with Egg Whites (Large Biscuit)\", \"Sausage Biscuit (Regular Biscuit)\", \"Sausage Biscuit (Large Biscuit)\", \"Sausage Biscuit with Egg (Regular Biscuit)\", \"Sausage Biscuit with Egg (Large Biscuit)\", \"Sausage Biscuit with Egg Whites (Regular Biscuit)\", \"Sausage Biscuit with Egg Whites (Large Biscuit)\", \"Southern Style Chicken Biscuit (Regular Biscuit)\", \"Southern Style Chicken Biscuit (Large Biscuit)\", \"Steak & Egg Biscuit (Regular Biscuit)\", \"Bacon, Egg & Cheese McGriddles\", \"Bacon, Egg & Cheese McGriddles with Egg Whites\", \"Sausage McGriddles\", \"Sausage, Egg & Cheese McGriddles\", \"Sausage, Egg & Cheese McGriddles with Egg Whites\", \"Bacon, Egg & Cheese Bagel\", \"Bacon, Egg & Cheese Bagel with Egg Whites\", \"Steak, Egg & Cheese Bagel\", \"Big Breakfast (Regular Biscuit)\", \"Big Breakfast (Large Biscuit)\", \"Big Breakfast with Egg Whites (Regular Biscuit)\", \"Big Breakfast with Egg Whites (Large Biscuit)\", \"Big Breakfast with Hotcakes (Regular Biscuit)\", \"Big Breakfast with Hotcakes (Large Biscuit)\", \"Big Breakfast with Hotcakes and Egg Whites (Regular Biscuit)\", \"Big Breakfast with Hotcakes and Egg Whites (Large Biscuit)\", \"Hotcakes\", \"Hotcakes and Sausage\", \"Sausage Burrito\", \"Hash Brown\", \"Cinnamon Melts\", \"Fruit & Maple Oatmeal\", \"Fruit & Maple Oatmeal without Brown Sugar\", \"Big Mac\", \"Quarter Pounder with Cheese\", \"Quarter Pounder with Bacon & Cheese\", \"Quarter Pounder with Bacon Habanero Ranch\", \"Quarter Pounder Deluxe\", \"Double Quarter Pounder with Cheese\", \"Hamburger\", \"Cheeseburger\", \"Double Cheeseburger\", \"Bacon Clubhouse Burger\", \"McDouble\", \"Bacon McDouble\", \"Daily Double\", \"Jalape\\u00f1o Double\", \"McRib\", \"Premium Crispy Chicken Classic Sandwich\", \"Premium Grilled Chicken Classic Sandwich\", \"Premium Crispy Chicken Club Sandwich\", \"Premium Grilled Chicken Club Sandwich\", \"Premium Crispy Chicken Ranch BLT Sandwich\", \"Premium Grilled Chicken Ranch BLT Sandwich\", \"Bacon Clubhouse Crispy Chicken Sandwich\", \"Bacon Clubhouse Grilled Chicken Sandwich\", \"Southern Style Crispy Chicken Sandwich\", \"McChicken\", \"Bacon Cheddar McChicken\", \"Bacon Buffalo Ranch McChicken\", \"Buffalo Ranch McChicken\", \"Premium McWrap Chicken & Bacon (Crispy Chicken)\", \"Premium McWrap Chicken & Bacon (Grilled Chicken)\", \"Premium McWrap Chicken & Ranch (Crispy Chicken)\", \"Premium McWrap Chicken & Ranch (Grilled Chicken)\", \"Premium McWrap Southwest Chicken (Crispy Chicken)\", \"Premium McWrap Southwest Chicken (Grilled Chicken)\", \"Premium McWrap Chicken Sweet Chili (Crispy Chicken)\", \"Premium McWrap Chicken Sweet Chili (Grilled Chicken)\", \"Chicken McNuggets (4 piece)\", \"Chicken McNuggets (6 piece)\", \"Chicken McNuggets (10 piece)\", \"Chicken McNuggets (20 piece)\", \"Chicken McNuggets (40 piece)\", \"Filet-O-Fish\", \"Premium Bacon Ranch Salad (without Chicken)\", \"Premium Bacon Ranch Salad with Crispy Chicken\", \"Premium Bacon Ranch Salad with Grilled Chicken\", \"Premium Southwest Salad (without Chicken)\", \"Premium Southwest Salad with Crispy Chicken\", \"Premium Southwest Salad with Grilled Chicken\", \"Chipotle BBQ Snack Wrap (Crispy Chicken)\", \"Chipotle BBQ Snack Wrap (Grilled Chicken)\", \"Honey Mustard Snack Wrap (Crispy Chicken)\", \"Honey Mustard Snack Wrap (Grilled Chicken)\", \"Ranch Snack Wrap (Crispy Chicken)\", \"Ranch Snack Wrap (Grilled Chicken)\", \"Small French Fries\", \"Medium French Fries\", \"Large French Fries\", \"Kids French Fries\", \"Side Salad\", \"Apple Slices\", \"Fruit 'n Yogurt Parfait\", \"Baked Apple Pie\", \"Chocolate Chip Cookie\", \"Oatmeal Raisin Cookie\", \"Kids Ice Cream Cone\", \"Hot Fudge Sundae\", \"Hot Caramel Sundae\", \"Strawberry Sundae\", \"Coca-Cola Classic (Small)\", \"Coca-Cola Classic (Medium)\", \"Coca-Cola Classic (Large)\", \"Coca-Cola Classic (Child)\", \"Diet Coke (Small)\", \"Diet Coke (Medium)\", \"Diet Coke (Large)\", \"Diet Coke (Child)\", \"Dr Pepper (Small)\", \"Dr Pepper (Medium)\", \"Dr Pepper (Large)\", \"Dr Pepper (Child)\", \"Diet Dr Pepper (Small)\", \"Diet Dr Pepper (Medium)\", \"Diet Dr Pepper (Large)\", \"Diet Dr Pepper (Child)\", \"Sprite (Small)\", \"Sprite (Medium)\", \"Sprite (Large)\", \"Sprite (Child)\", \"1% Low Fat Milk Jug\", \"Fat Free Chocolate Milk Jug\", \"Minute Maid 100% Apple Juice Box\", \"Minute Maid Orange Juice (Small)\", \"Minute Maid Orange Juice (Medium)\", \"Minute Maid Orange Juice (Large)\", \"Dasani Water Bottle\", \"Iced Tea (Small)\", \"Iced Tea (Medium)\", \"Iced Tea (Large)\", \"Iced Tea (Child)\", \"Sweet Tea (Small)\", \"Sweet Tea (Medium)\", \"Sweet Tea (Large)\", \"Sweet Tea (Child)\", \"Coffee (Small)\", \"Coffee (Medium)\", \"Coffee (Large)\", \"Latte (Small)\", \"Latte (Medium)\", \"Latte (Large)\", \"Caramel Latte (Small)\", \"Caramel Latte (Medium)\", \"Caramel Latte (Large)\", \"Hazelnut Latte (Small)\", \"Hazelnut Latte (Medium)\", \"Hazelnut Latte (Large)\", \"French Vanilla Latte (Small)\", \"French Vanilla Latte (Medium)\", \"French Vanilla Latte (Large)\", \"Latte with Sugar Free French Vanilla Syrup (Small)\", \"Latte with Sugar Free French Vanilla Syrup (Medium)\", \"Latte with Sugar Free French Vanilla Syrup (Large)\", \"Nonfat Latte (Small)\", \"Nonfat Latte (Medium)\", \"Nonfat Latte (Large)\", \"Nonfat Caramel Latte (Small)\", \"Nonfat Caramel Latte (Medium)\", \"Nonfat Caramel Latte (Large)\", \"Nonfat Hazelnut Latte (Small)\", \"Nonfat Hazelnut Latte (Medium)\", \"Nonfat Hazelnut Latte (Large)\", \"Nonfat French Vanilla Latte (Small)\", \"Nonfat French Vanilla Latte (Medium)\", \"Nonfat French Vanilla Latte (Large)\", \"Nonfat Latte with Sugar Free French Vanilla Syrup (Small)\", \"Nonfat Latte with Sugar Free French Vanilla Syrup (Medium)\", \"Nonfat Latte with Sugar Free French Vanilla Syrup (Large)\", \"Mocha (Small)\", \"Mocha (Medium)\", \"Mocha (Large)\", \"Mocha with Nonfat Milk (Small)\", \"Mocha with Nonfat Milk (Medium)\", \"Mocha with Nonfat Milk (Large)\", \"Caramel Mocha (Small)\", \"Caramel Mocha (Medium)\", \"Caramel Mocha (Large)\", \"Nonfat Caramel Mocha (Small)\", \"Nonfat Caramel Mocha (Medium)\", \"Nonfat Caramel Mocha (Large)\", \"Hot Chocolate (Small)\", \"Hot Chocolate (Medium)\", \"Hot Chocolate (Large)\", \"Hot Chocolate with Nonfat Milk (Small)\", \"Hot Chocolate with Nonfat Milk (Medium)\", \"Hot Chocolate with Nonfat Milk (Large)\", \"Regular Iced Coffee (Small)\", \"Regular Iced Coffee (Medium)\", \"Regular Iced Coffee (Large)\", \"Caramel Iced Coffee (Small)\", \"Caramel Iced Coffee (Medium)\", \"Caramel Iced Coffee (Large)\", \"Hazelnut Iced Coffee (Small)\", \"Hazelnut Iced Coffee (Medium)\", \"Hazelnut Iced Coffee (Large)\", \"French Vanilla Iced Coffee (Small)\", \"French Vanilla Iced Coffee (Medium)\", \"French Vanilla Iced Coffee (Large)\", \"Iced Coffee with Sugar Free French Vanilla Syrup (Small)\", \"Iced Coffee with Sugar Free French Vanilla Syrup (Medium)\", \"Iced Coffee with Sugar Free French Vanilla Syrup (Large)\", \"Iced Mocha (Small)\", \"Iced Mocha (Medium)\", \"Iced Mocha (Large)\", \"Iced Mocha with Nonfat Milk (Small)\", \"Iced Mocha with Nonfat Milk (Medium)\", \"Iced Mocha with Nonfat Milk (Large)\", \"Iced Caramel Mocha (Small)\", \"Iced Caramel Mocha (Medium)\", \"Iced Caramel Mocha (Large)\", \"Iced Nonfat Caramel Mocha (Small)\", \"Iced Nonfat Caramel Mocha (Medium)\", \"Iced Nonfat Caramel Mocha (Large)\", \"Frapp\\u00e9 Mocha (Small)\", \"Frapp\\u00e9 Mocha (Medium)\", \"Frapp\\u00e9 Mocha (Large)\", \"Frapp\\u00e9 Caramel (Small)\", \"Frapp\\u00e9 Caramel (Medium)\", \"Frapp\\u00e9 Caramel (Large)\", \"Frapp\\u00e9 Chocolate Chip (Small)\", \"Frapp\\u00e9 Chocolate Chip (Medium)\", \"Frapp\\u00e9 Chocolate Chip (Large)\", \"Blueberry Pomegranate Smoothie (Small)\", \"Blueberry Pomegranate Smoothie (Medium)\", \"Blueberry Pomegranate Smoothie (Large)\", \"Strawberry Banana Smoothie (Small)\", \"Strawberry Banana Smoothie (Medium)\", \"Strawberry Banana Smoothie (Large)\", \"Mango Pineapple Smoothie (Small)\", \"Mango Pineapple Smoothie (Medium)\", \"Mango Pineapple Smoothie (Large)\", \"Vanilla Shake (Small)\", \"Vanilla Shake (Medium)\", \"Vanilla Shake (Large)\", \"Strawberry Shake (Small)\", \"Strawberry Shake (Medium)\", \"Strawberry Shake (Large)\", \"Chocolate Shake (Small)\", \"Chocolate Shake (Medium)\", \"Chocolate Shake (Large)\", \"Shamrock Shake (Medium)\", \"Shamrock Shake (Large)\", \"McFlurry with M&M\\u2019s Candies (Small)\", \"McFlurry with M&M\\u2019s Candies (Medium)\", \"McFlurry with M&M\\u2019s Candies (Snack)\", \"McFlurry with Oreo Cookies (Small)\", \"McFlurry with Oreo Cookies (Medium)\", \"McFlurry with Oreo Cookies (Snack)\", \"McFlurry with Reese's Peanut Butter Cups (Medium)\", \"McFlurry with Reese's Peanut Butter Cups (Snack)\"], \"y\": [25, 25, 25, 30, 25, 30, 15, 20, 15, 15, 6, 8, 10, 10, 8, 8, 6, 8, 20, 20, 15, 8, 20, 20, 20, 20, 25, 15, 15, 10, 10, 25, 30, 25, 25, 15, 15, 15, 0, 6, 10, 6, 25, 30, 25, 25, 25, 30, 10, 20, 30, 30, 20, 20, 20, 20, 15, 15, 15, 30, 30, 15, 15, 30, 30, 15, 10, 20, 15, 15, 20, 20, 20, 15, 20, 20, 8, 8, 0, 2, 2, 4, 8, 15, 15, 15, 15, 15, 15, 15, 10, 10, 10, 10, 10, 10, 0, 2, 2, 0, 2, 2, 10, 2, 2, 2, 4, 25, 25, 20, 0, 0, 0, 0, 0, 0, 0, 0, 0, 0, 0, 0, 0, 0, 0, 0, 0, 0, 0, 0, 30, 30, 10, 2, 4, 4, 0, 0, 0, 0, 0, 0, 0, 0, 0, 0, 0, 0, 30, 35, 50, 30, 35, 50, 30, 35, 50, 30, 35, 50, 30, 35, 50, 30, 40, 50, 30, 40, 50, 30, 40, 50, 30, 40, 50, 30, 40, 50, 30, 40, 50, 35, 40, 50, 30, 40, 50, 35, 40, 50, 40, 45, 60, 40, 50, 60, 4, 4, 8, 4, 4, 6, 4, 4, 8, 4, 4, 8, 4, 4, 8, 25, 30, 40, 25, 30, 45, 25, 30, 40, 25, 30, 45, 20, 25, 35, 25, 30, 35, 25, 30, 35, 6, 8, 10, 8, 8, 10, 8, 8, 10, 40, 50, 60, 40, 50, 70, 40, 50, 60, 50, 60, 45, 70, 30, 40, 50, 25, 60, 30]}],\n",
       "                        {\"autosize\": true, \"hovermode\": \"closest\", \"showlegend\": false, \"template\": {\"data\": {\"bar\": [{\"error_x\": {\"color\": \"#2a3f5f\"}, \"error_y\": {\"color\": \"#2a3f5f\"}, \"marker\": {\"line\": {\"color\": \"#E5ECF6\", \"width\": 0.5}}, \"type\": \"bar\"}], \"barpolar\": [{\"marker\": {\"line\": {\"color\": \"#E5ECF6\", \"width\": 0.5}}, \"type\": \"barpolar\"}], \"carpet\": [{\"aaxis\": {\"endlinecolor\": \"#2a3f5f\", \"gridcolor\": \"white\", \"linecolor\": \"white\", \"minorgridcolor\": \"white\", \"startlinecolor\": \"#2a3f5f\"}, \"baxis\": {\"endlinecolor\": \"#2a3f5f\", \"gridcolor\": \"white\", \"linecolor\": \"white\", \"minorgridcolor\": \"white\", \"startlinecolor\": \"#2a3f5f\"}, \"type\": \"carpet\"}], \"choropleth\": [{\"colorbar\": {\"outlinewidth\": 0, \"ticks\": \"\"}, \"type\": \"choropleth\"}], \"contour\": [{\"colorbar\": {\"outlinewidth\": 0, \"ticks\": \"\"}, \"colorscale\": [[0.0, \"#0d0887\"], [0.1111111111111111, \"#46039f\"], [0.2222222222222222, \"#7201a8\"], [0.3333333333333333, \"#9c179e\"], [0.4444444444444444, \"#bd3786\"], [0.5555555555555556, \"#d8576b\"], [0.6666666666666666, \"#ed7953\"], [0.7777777777777778, \"#fb9f3a\"], [0.8888888888888888, \"#fdca26\"], [1.0, \"#f0f921\"]], \"type\": \"contour\"}], \"contourcarpet\": [{\"colorbar\": {\"outlinewidth\": 0, \"ticks\": \"\"}, \"type\": \"contourcarpet\"}], \"heatmap\": [{\"colorbar\": {\"outlinewidth\": 0, \"ticks\": \"\"}, \"colorscale\": [[0.0, \"#0d0887\"], [0.1111111111111111, \"#46039f\"], [0.2222222222222222, \"#7201a8\"], [0.3333333333333333, \"#9c179e\"], [0.4444444444444444, \"#bd3786\"], [0.5555555555555556, \"#d8576b\"], [0.6666666666666666, \"#ed7953\"], [0.7777777777777778, \"#fb9f3a\"], [0.8888888888888888, \"#fdca26\"], [1.0, \"#f0f921\"]], \"type\": \"heatmap\"}], \"heatmapgl\": [{\"colorbar\": {\"outlinewidth\": 0, \"ticks\": \"\"}, \"colorscale\": [[0.0, \"#0d0887\"], [0.1111111111111111, \"#46039f\"], [0.2222222222222222, \"#7201a8\"], [0.3333333333333333, \"#9c179e\"], [0.4444444444444444, \"#bd3786\"], [0.5555555555555556, \"#d8576b\"], [0.6666666666666666, \"#ed7953\"], [0.7777777777777778, \"#fb9f3a\"], [0.8888888888888888, \"#fdca26\"], [1.0, \"#f0f921\"]], \"type\": \"heatmapgl\"}], \"histogram\": [{\"marker\": {\"colorbar\": {\"outlinewidth\": 0, \"ticks\": \"\"}}, \"type\": \"histogram\"}], \"histogram2d\": [{\"colorbar\": {\"outlinewidth\": 0, \"ticks\": \"\"}, \"colorscale\": [[0.0, \"#0d0887\"], [0.1111111111111111, \"#46039f\"], [0.2222222222222222, \"#7201a8\"], [0.3333333333333333, \"#9c179e\"], [0.4444444444444444, \"#bd3786\"], [0.5555555555555556, \"#d8576b\"], [0.6666666666666666, \"#ed7953\"], [0.7777777777777778, \"#fb9f3a\"], [0.8888888888888888, \"#fdca26\"], [1.0, \"#f0f921\"]], \"type\": \"histogram2d\"}], \"histogram2dcontour\": [{\"colorbar\": {\"outlinewidth\": 0, \"ticks\": \"\"}, \"colorscale\": [[0.0, \"#0d0887\"], [0.1111111111111111, \"#46039f\"], [0.2222222222222222, \"#7201a8\"], [0.3333333333333333, \"#9c179e\"], [0.4444444444444444, \"#bd3786\"], [0.5555555555555556, \"#d8576b\"], [0.6666666666666666, \"#ed7953\"], [0.7777777777777778, \"#fb9f3a\"], [0.8888888888888888, \"#fdca26\"], [1.0, \"#f0f921\"]], \"type\": \"histogram2dcontour\"}], \"mesh3d\": [{\"colorbar\": {\"outlinewidth\": 0, \"ticks\": \"\"}, \"type\": \"mesh3d\"}], \"parcoords\": [{\"line\": {\"colorbar\": {\"outlinewidth\": 0, \"ticks\": \"\"}}, \"type\": \"parcoords\"}], \"pie\": [{\"automargin\": true, \"type\": \"pie\"}], \"scatter\": [{\"marker\": {\"colorbar\": {\"outlinewidth\": 0, \"ticks\": \"\"}}, \"type\": \"scatter\"}], \"scatter3d\": [{\"line\": {\"colorbar\": {\"outlinewidth\": 0, \"ticks\": \"\"}}, \"marker\": {\"colorbar\": {\"outlinewidth\": 0, \"ticks\": \"\"}}, \"type\": \"scatter3d\"}], \"scattercarpet\": [{\"marker\": {\"colorbar\": {\"outlinewidth\": 0, \"ticks\": \"\"}}, \"type\": \"scattercarpet\"}], \"scattergeo\": [{\"marker\": {\"colorbar\": {\"outlinewidth\": 0, \"ticks\": \"\"}}, \"type\": \"scattergeo\"}], \"scattergl\": [{\"marker\": {\"colorbar\": {\"outlinewidth\": 0, \"ticks\": \"\"}}, \"type\": \"scattergl\"}], \"scattermapbox\": [{\"marker\": {\"colorbar\": {\"outlinewidth\": 0, \"ticks\": \"\"}}, \"type\": \"scattermapbox\"}], \"scatterpolar\": [{\"marker\": {\"colorbar\": {\"outlinewidth\": 0, \"ticks\": \"\"}}, \"type\": \"scatterpolar\"}], \"scatterpolargl\": [{\"marker\": {\"colorbar\": {\"outlinewidth\": 0, \"ticks\": \"\"}}, \"type\": \"scatterpolargl\"}], \"scatterternary\": [{\"marker\": {\"colorbar\": {\"outlinewidth\": 0, \"ticks\": \"\"}}, \"type\": \"scatterternary\"}], \"surface\": [{\"colorbar\": {\"outlinewidth\": 0, \"ticks\": \"\"}, \"colorscale\": [[0.0, \"#0d0887\"], [0.1111111111111111, \"#46039f\"], [0.2222222222222222, \"#7201a8\"], [0.3333333333333333, \"#9c179e\"], [0.4444444444444444, \"#bd3786\"], [0.5555555555555556, \"#d8576b\"], [0.6666666666666666, \"#ed7953\"], [0.7777777777777778, \"#fb9f3a\"], [0.8888888888888888, \"#fdca26\"], [1.0, \"#f0f921\"]], \"type\": \"surface\"}], \"table\": [{\"cells\": {\"fill\": {\"color\": \"#EBF0F8\"}, \"line\": {\"color\": \"white\"}}, \"header\": {\"fill\": {\"color\": \"#C8D4E3\"}, \"line\": {\"color\": \"white\"}}, \"type\": \"table\"}]}, \"layout\": {\"annotationdefaults\": {\"arrowcolor\": \"#2a3f5f\", \"arrowhead\": 0, \"arrowwidth\": 1}, \"coloraxis\": {\"colorbar\": {\"outlinewidth\": 0, \"ticks\": \"\"}}, \"colorscale\": {\"diverging\": [[0, \"#8e0152\"], [0.1, \"#c51b7d\"], [0.2, \"#de77ae\"], [0.3, \"#f1b6da\"], [0.4, \"#fde0ef\"], [0.5, \"#f7f7f7\"], [0.6, \"#e6f5d0\"], [0.7, \"#b8e186\"], [0.8, \"#7fbc41\"], [0.9, \"#4d9221\"], [1, \"#276419\"]], \"sequential\": [[0.0, \"#0d0887\"], [0.1111111111111111, \"#46039f\"], [0.2222222222222222, \"#7201a8\"], [0.3333333333333333, \"#9c179e\"], [0.4444444444444444, \"#bd3786\"], [0.5555555555555556, \"#d8576b\"], [0.6666666666666666, \"#ed7953\"], [0.7777777777777778, \"#fb9f3a\"], [0.8888888888888888, \"#fdca26\"], [1.0, \"#f0f921\"]], \"sequentialminus\": [[0.0, \"#0d0887\"], [0.1111111111111111, \"#46039f\"], [0.2222222222222222, \"#7201a8\"], [0.3333333333333333, \"#9c179e\"], [0.4444444444444444, \"#bd3786\"], [0.5555555555555556, \"#d8576b\"], [0.6666666666666666, \"#ed7953\"], [0.7777777777777778, \"#fb9f3a\"], [0.8888888888888888, \"#fdca26\"], [1.0, \"#f0f921\"]]}, \"colorway\": [\"#636efa\", \"#EF553B\", \"#00cc96\", \"#ab63fa\", \"#FFA15A\", \"#19d3f3\", \"#FF6692\", \"#B6E880\", \"#FF97FF\", \"#FECB52\"], \"font\": {\"color\": \"#2a3f5f\"}, \"geo\": {\"bgcolor\": \"white\", \"lakecolor\": \"white\", \"landcolor\": \"#E5ECF6\", \"showlakes\": true, \"showland\": true, \"subunitcolor\": \"white\"}, \"hoverlabel\": {\"align\": \"left\"}, \"hovermode\": \"closest\", \"mapbox\": {\"style\": \"light\"}, \"paper_bgcolor\": \"white\", \"plot_bgcolor\": \"#E5ECF6\", \"polar\": {\"angularaxis\": {\"gridcolor\": \"white\", \"linecolor\": \"white\", \"ticks\": \"\"}, \"bgcolor\": \"#E5ECF6\", \"radialaxis\": {\"gridcolor\": \"white\", \"linecolor\": \"white\", \"ticks\": \"\"}}, \"scene\": {\"xaxis\": {\"backgroundcolor\": \"#E5ECF6\", \"gridcolor\": \"white\", \"gridwidth\": 2, \"linecolor\": \"white\", \"showbackground\": true, \"ticks\": \"\", \"zerolinecolor\": \"white\"}, \"yaxis\": {\"backgroundcolor\": \"#E5ECF6\", \"gridcolor\": \"white\", \"gridwidth\": 2, \"linecolor\": \"white\", \"showbackground\": true, \"ticks\": \"\", \"zerolinecolor\": \"white\"}, \"zaxis\": {\"backgroundcolor\": \"#E5ECF6\", \"gridcolor\": \"white\", \"gridwidth\": 2, \"linecolor\": \"white\", \"showbackground\": true, \"ticks\": \"\", \"zerolinecolor\": \"white\"}}, \"shapedefaults\": {\"line\": {\"color\": \"#2a3f5f\"}}, \"ternary\": {\"aaxis\": {\"gridcolor\": \"white\", \"linecolor\": \"white\", \"ticks\": \"\"}, \"baxis\": {\"gridcolor\": \"white\", \"linecolor\": \"white\", \"ticks\": \"\"}, \"bgcolor\": \"#E5ECF6\", \"caxis\": {\"gridcolor\": \"white\", \"linecolor\": \"white\", \"ticks\": \"\"}}, \"title\": {\"x\": 0.05}, \"xaxis\": {\"automargin\": true, \"gridcolor\": \"white\", \"linecolor\": \"white\", \"ticks\": \"\", \"title\": {\"standoff\": 15}, \"zerolinecolor\": \"white\", \"zerolinewidth\": 2}, \"yaxis\": {\"automargin\": true, \"gridcolor\": \"white\", \"linecolor\": \"white\", \"ticks\": \"\", \"title\": {\"standoff\": 15}, \"zerolinecolor\": \"white\", \"zerolinewidth\": 2}}}, \"title\": {\"text\": \"Scatter plot of Calcium (% Daily Value) per Item on the Menu\"}, \"xaxis\": {\"showgrid\": false, \"showline\": false, \"zeroline\": false}, \"yaxis\": {\"gridwidth\": 2, \"showgrid\": false, \"showline\": false, \"ticklen\": 5, \"title\": {\"text\": \"Calcium (% Daily Value)\"}, \"zeroline\": false}},\n",
       "                        {\"responsive\": true}\n",
       "                    ).then(function(){\n",
       "                            \n",
       "var gd = document.getElementById('3f67f2f5-9069-406b-b9f4-d99615be7d81');\n",
       "var x = new MutationObserver(function (mutations, observer) {{\n",
       "        var display = window.getComputedStyle(gd).display;\n",
       "        if (!display || display === 'none') {{\n",
       "            console.log([gd, 'removed!']);\n",
       "            Plotly.purge(gd);\n",
       "            observer.disconnect();\n",
       "        }}\n",
       "}});\n",
       "\n",
       "// Listen for the removal of the full notebook cells\n",
       "var notebookContainer = gd.closest('#notebook-container');\n",
       "if (notebookContainer) {{\n",
       "    x.observe(notebookContainer, {childList: true});\n",
       "}}\n",
       "\n",
       "// Listen for the clearing of the current output cell\n",
       "var outputEl = gd.closest('.output');\n",
       "if (outputEl) {{\n",
       "    x.observe(outputEl, {childList: true});\n",
       "}}\n",
       "\n",
       "                        })\n",
       "                };\n",
       "                });\n",
       "            </script>\n",
       "        </div>"
      ]
     },
     "metadata": {},
     "output_type": "display_data"
    },
    {
     "data": {
      "application/vnd.plotly.v1+json": {
       "config": {
        "linkText": "Export to plot.ly",
        "plotlyServerURL": "https://plot.ly",
        "showLink": false
       },
       "data": [
        {
         "marker": {
          "color": [
           15,
           8,
           10,
           15,
           10,
           20,
           15,
           20,
           10,
           15,
           15,
           15,
           20,
           20,
           15,
           15,
           15,
           15,
           25,
           15,
           10,
           10,
           15,
           10,
           20,
           15,
           25,
           25,
           30,
           15,
           15,
           40,
           40,
           30,
           30,
           15,
           15,
           15,
           2,
           15,
           10,
           10,
           25,
           25,
           30,
           30,
           30,
           35,
           15,
           15,
           20,
           25,
           20,
           20,
           20,
           20,
           20,
           20,
           20,
           20,
           20,
           20,
           20,
           15,
           15,
           15,
           15,
           15,
           15,
           15,
           20,
           20,
           20,
           20,
           20,
           20,
           20,
           20,
           2,
           4,
           6,
           10,
           25,
           10,
           6,
           8,
           8,
           10,
           15,
           15,
           10,
           10,
           10,
           10,
           10,
           10,
           4,
           4,
           8,
           2,
           4,
           0,
           4,
           6,
           8,
           6,
           0,
           8,
           0,
           0,
           0,
           0,
           0,
           0,
           0,
           0,
           0,
           0,
           0,
           0,
           0,
           0,
           0,
           0,
           0,
           0,
           0,
           0,
           0,
           0,
           0,
           8,
           0,
           0,
           0,
           0,
           0,
           0,
           0,
           0,
           0,
           0,
           0,
           0,
           0,
           0,
           0,
           0,
           0,
           0,
           2,
           0,
           0,
           2,
           0,
           0,
           2,
           0,
           2,
           2,
           0,
           0,
           2,
           0,
           0,
           2,
           0,
           0,
           2,
           0,
           0,
           2,
           0,
           2,
           2,
           0,
           0,
           2,
           6,
           6,
           8,
           6,
           6,
           8,
           2,
           2,
           4,
           2,
           2,
           4,
           6,
           6,
           8,
           6,
           6,
           8,
           0,
           0,
           0,
           0,
           0,
           0,
           0,
           0,
           0,
           0,
           0,
           0,
           0,
           0,
           0,
           4,
           6,
           8,
           4,
           6,
           8,
           2,
           2,
           4,
           2,
           2,
           4,
           4,
           4,
           4,
           2,
           2,
           2,
           4,
           4,
           6,
           2,
           2,
           2,
           2,
           4,
           4,
           2,
           2,
           2,
           0,
           0,
           0,
           0,
           0,
           0,
           8,
           10,
           15,
           0,
           0,
           8,
           10,
           4,
           8,
           10,
           6,
           6,
           4
          ],
          "colorscale": [
           [
            0,
            "rgb(12,51,131)"
           ],
           [
            0.25,
            "rgb(10,136,186)"
           ],
           [
            0.5,
            "rgb(242,211,56)"
           ],
           [
            0.75,
            "rgb(242,143,56)"
           ],
           [
            1,
            "rgb(217,30,30)"
           ]
          ],
          "reversescale": true,
          "showscale": true,
          "size": [
           15,
           8,
           10,
           15,
           10,
           20,
           15,
           20,
           10,
           15,
           15,
           15,
           20,
           20,
           15,
           15,
           15,
           15,
           25,
           15,
           10,
           10,
           15,
           10,
           20,
           15,
           25,
           25,
           30,
           15,
           15,
           40,
           40,
           30,
           30,
           15,
           15,
           15,
           2,
           15,
           10,
           10,
           25,
           25,
           30,
           30,
           30,
           35,
           15,
           15,
           20,
           25,
           20,
           20,
           20,
           20,
           20,
           20,
           20,
           20,
           20,
           20,
           20,
           15,
           15,
           15,
           15,
           15,
           15,
           15,
           20,
           20,
           20,
           20,
           20,
           20,
           20,
           20,
           2,
           4,
           6,
           10,
           25,
           10,
           6,
           8,
           8,
           10,
           15,
           15,
           10,
           10,
           10,
           10,
           10,
           10,
           4,
           4,
           8,
           2,
           4,
           0,
           4,
           6,
           8,
           6,
           0,
           8,
           0,
           0,
           0,
           0,
           0,
           0,
           0,
           0,
           0,
           0,
           0,
           0,
           0,
           0,
           0,
           0,
           0,
           0,
           0,
           0,
           0,
           0,
           0,
           8,
           0,
           0,
           0,
           0,
           0,
           0,
           0,
           0,
           0,
           0,
           0,
           0,
           0,
           0,
           0,
           0,
           0,
           0,
           2,
           0,
           0,
           2,
           0,
           0,
           2,
           0,
           2,
           2,
           0,
           0,
           2,
           0,
           0,
           2,
           0,
           0,
           2,
           0,
           0,
           2,
           0,
           2,
           2,
           0,
           0,
           2,
           6,
           6,
           8,
           6,
           6,
           8,
           2,
           2,
           4,
           2,
           2,
           4,
           6,
           6,
           8,
           6,
           6,
           8,
           0,
           0,
           0,
           0,
           0,
           0,
           0,
           0,
           0,
           0,
           0,
           0,
           0,
           0,
           0,
           4,
           6,
           8,
           4,
           6,
           8,
           2,
           2,
           4,
           2,
           2,
           4,
           4,
           4,
           4,
           2,
           2,
           2,
           4,
           4,
           6,
           2,
           2,
           2,
           2,
           4,
           4,
           2,
           2,
           2,
           0,
           0,
           0,
           0,
           0,
           0,
           8,
           10,
           15,
           0,
           0,
           8,
           10,
           4,
           8,
           10,
           6,
           6,
           4
          ]
         },
         "mode": "markers",
         "text": [
          "Egg McMuffin",
          "Egg White Delight",
          "Sausage McMuffin",
          "Sausage McMuffin with Egg",
          "Sausage McMuffin with Egg Whites",
          "Steak & Egg McMuffin",
          "Bacon, Egg & Cheese Biscuit (Regular Biscuit)",
          "Bacon, Egg & Cheese Biscuit (Large Biscuit)",
          "Bacon, Egg & Cheese Biscuit with Egg Whites (Regular Biscuit)",
          "Bacon, Egg & Cheese Biscuit with Egg Whites (Large Biscuit)",
          "Sausage Biscuit (Regular Biscuit)",
          "Sausage Biscuit (Large Biscuit)",
          "Sausage Biscuit with Egg (Regular Biscuit)",
          "Sausage Biscuit with Egg (Large Biscuit)",
          "Sausage Biscuit with Egg Whites (Regular Biscuit)",
          "Sausage Biscuit with Egg Whites (Large Biscuit)",
          "Southern Style Chicken Biscuit (Regular Biscuit)",
          "Southern Style Chicken Biscuit (Large Biscuit)",
          "Steak & Egg Biscuit (Regular Biscuit)",
          "Bacon, Egg & Cheese McGriddles",
          "Bacon, Egg & Cheese McGriddles with Egg Whites",
          "Sausage McGriddles",
          "Sausage, Egg & Cheese McGriddles",
          "Sausage, Egg & Cheese McGriddles with Egg Whites",
          "Bacon, Egg & Cheese Bagel",
          "Bacon, Egg & Cheese Bagel with Egg Whites",
          "Steak, Egg & Cheese Bagel",
          "Big Breakfast (Regular Biscuit)",
          "Big Breakfast (Large Biscuit)",
          "Big Breakfast with Egg Whites (Regular Biscuit)",
          "Big Breakfast with Egg Whites (Large Biscuit)",
          "Big Breakfast with Hotcakes (Regular Biscuit)",
          "Big Breakfast with Hotcakes (Large Biscuit)",
          "Big Breakfast with Hotcakes and Egg Whites (Regular Biscuit)",
          "Big Breakfast with Hotcakes and Egg Whites (Large Biscuit)",
          "Hotcakes",
          "Hotcakes and Sausage",
          "Sausage Burrito",
          "Hash Brown",
          "Cinnamon Melts",
          "Fruit & Maple Oatmeal",
          "Fruit & Maple Oatmeal without Brown Sugar",
          "Big Mac",
          "Quarter Pounder with Cheese",
          "Quarter Pounder with Bacon & Cheese",
          "Quarter Pounder with Bacon Habanero Ranch",
          "Quarter Pounder Deluxe",
          "Double Quarter Pounder with Cheese",
          "Hamburger",
          "Cheeseburger",
          "Double Cheeseburger",
          "Bacon Clubhouse Burger",
          "McDouble",
          "Bacon McDouble",
          "Daily Double",
          "Jalapeño Double",
          "McRib",
          "Premium Crispy Chicken Classic Sandwich",
          "Premium Grilled Chicken Classic Sandwich",
          "Premium Crispy Chicken Club Sandwich",
          "Premium Grilled Chicken Club Sandwich",
          "Premium Crispy Chicken Ranch BLT Sandwich",
          "Premium Grilled Chicken Ranch BLT Sandwich",
          "Bacon Clubhouse Crispy Chicken Sandwich",
          "Bacon Clubhouse Grilled Chicken Sandwich",
          "Southern Style Crispy Chicken Sandwich",
          "McChicken",
          "Bacon Cheddar McChicken",
          "Bacon Buffalo Ranch McChicken",
          "Buffalo Ranch McChicken",
          "Premium McWrap Chicken & Bacon (Crispy Chicken)",
          "Premium McWrap Chicken & Bacon (Grilled Chicken)",
          "Premium McWrap Chicken & Ranch (Crispy Chicken)",
          "Premium McWrap Chicken & Ranch (Grilled Chicken)",
          "Premium McWrap Southwest Chicken (Crispy Chicken)",
          "Premium McWrap Southwest Chicken (Grilled Chicken)",
          "Premium McWrap Chicken Sweet Chili (Crispy Chicken)",
          "Premium McWrap Chicken Sweet Chili (Grilled Chicken)",
          "Chicken McNuggets (4 piece)",
          "Chicken McNuggets (6 piece)",
          "Chicken McNuggets (10 piece)",
          "Chicken McNuggets (20 piece)",
          "Chicken McNuggets (40 piece)",
          "Filet-O-Fish",
          "Premium Bacon Ranch Salad (without Chicken)",
          "Premium Bacon Ranch Salad with Crispy Chicken",
          "Premium Bacon Ranch Salad with Grilled Chicken",
          "Premium Southwest Salad (without Chicken)",
          "Premium Southwest Salad with Crispy Chicken",
          "Premium Southwest Salad with Grilled Chicken",
          "Chipotle BBQ Snack Wrap (Crispy Chicken)",
          "Chipotle BBQ Snack Wrap (Grilled Chicken)",
          "Honey Mustard Snack Wrap (Crispy Chicken)",
          "Honey Mustard Snack Wrap (Grilled Chicken)",
          "Ranch Snack Wrap (Crispy Chicken)",
          "Ranch Snack Wrap (Grilled Chicken)",
          "Small French Fries",
          "Medium French Fries",
          "Large French Fries",
          "Kids French Fries",
          "Side Salad",
          "Apple Slices",
          "Fruit 'n Yogurt Parfait",
          "Baked Apple Pie",
          "Chocolate Chip Cookie",
          "Oatmeal Raisin Cookie",
          "Kids Ice Cream Cone",
          "Hot Fudge Sundae",
          "Hot Caramel Sundae",
          "Strawberry Sundae",
          "Coca-Cola Classic (Small)",
          "Coca-Cola Classic (Medium)",
          "Coca-Cola Classic (Large)",
          "Coca-Cola Classic (Child)",
          "Diet Coke (Small)",
          "Diet Coke (Medium)",
          "Diet Coke (Large)",
          "Diet Coke (Child)",
          "Dr Pepper (Small)",
          "Dr Pepper (Medium)",
          "Dr Pepper (Large)",
          "Dr Pepper (Child)",
          "Diet Dr Pepper (Small)",
          "Diet Dr Pepper (Medium)",
          "Diet Dr Pepper (Large)",
          "Diet Dr Pepper (Child)",
          "Sprite (Small)",
          "Sprite (Medium)",
          "Sprite (Large)",
          "Sprite (Child)",
          "1% Low Fat Milk Jug",
          "Fat Free Chocolate Milk Jug",
          "Minute Maid 100% Apple Juice Box",
          "Minute Maid Orange Juice (Small)",
          "Minute Maid Orange Juice (Medium)",
          "Minute Maid Orange Juice (Large)",
          "Dasani Water Bottle",
          "Iced Tea (Small)",
          "Iced Tea (Medium)",
          "Iced Tea (Large)",
          "Iced Tea (Child)",
          "Sweet Tea (Small)",
          "Sweet Tea (Medium)",
          "Sweet Tea (Large)",
          "Sweet Tea (Child)",
          "Coffee (Small)",
          "Coffee (Medium)",
          "Coffee (Large)",
          "Latte (Small)",
          "Latte (Medium)",
          "Latte (Large)",
          "Caramel Latte (Small)",
          "Caramel Latte (Medium)",
          "Caramel Latte (Large)",
          "Hazelnut Latte (Small)",
          "Hazelnut Latte (Medium)",
          "Hazelnut Latte (Large)",
          "French Vanilla Latte (Small)",
          "French Vanilla Latte (Medium)",
          "French Vanilla Latte (Large)",
          "Latte with Sugar Free French Vanilla Syrup (Small)",
          "Latte with Sugar Free French Vanilla Syrup (Medium)",
          "Latte with Sugar Free French Vanilla Syrup (Large)",
          "Nonfat Latte (Small)",
          "Nonfat Latte (Medium)",
          "Nonfat Latte (Large)",
          "Nonfat Caramel Latte (Small)",
          "Nonfat Caramel Latte (Medium)",
          "Nonfat Caramel Latte (Large)",
          "Nonfat Hazelnut Latte (Small)",
          "Nonfat Hazelnut Latte (Medium)",
          "Nonfat Hazelnut Latte (Large)",
          "Nonfat French Vanilla Latte (Small)",
          "Nonfat French Vanilla Latte (Medium)",
          "Nonfat French Vanilla Latte (Large)",
          "Nonfat Latte with Sugar Free French Vanilla Syrup (Small)",
          "Nonfat Latte with Sugar Free French Vanilla Syrup (Medium)",
          "Nonfat Latte with Sugar Free French Vanilla Syrup (Large)",
          "Mocha (Small)",
          "Mocha (Medium)",
          "Mocha (Large)",
          "Mocha with Nonfat Milk (Small)",
          "Mocha with Nonfat Milk (Medium)",
          "Mocha with Nonfat Milk (Large)",
          "Caramel Mocha (Small)",
          "Caramel Mocha (Medium)",
          "Caramel Mocha (Large)",
          "Nonfat Caramel Mocha (Small)",
          "Nonfat Caramel Mocha (Medium)",
          "Nonfat Caramel Mocha (Large)",
          "Hot Chocolate (Small)",
          "Hot Chocolate (Medium)",
          "Hot Chocolate (Large)",
          "Hot Chocolate with Nonfat Milk (Small)",
          "Hot Chocolate with Nonfat Milk (Medium)",
          "Hot Chocolate with Nonfat Milk (Large)",
          "Regular Iced Coffee (Small)",
          "Regular Iced Coffee (Medium)",
          "Regular Iced Coffee (Large)",
          "Caramel Iced Coffee (Small)",
          "Caramel Iced Coffee (Medium)",
          "Caramel Iced Coffee (Large)",
          "Hazelnut Iced Coffee (Small)",
          "Hazelnut Iced Coffee (Medium)",
          "Hazelnut Iced Coffee (Large)",
          "French Vanilla Iced Coffee (Small)",
          "French Vanilla Iced Coffee (Medium)",
          "French Vanilla Iced Coffee (Large)",
          "Iced Coffee with Sugar Free French Vanilla Syrup (Small)",
          "Iced Coffee with Sugar Free French Vanilla Syrup (Medium)",
          "Iced Coffee with Sugar Free French Vanilla Syrup (Large)",
          "Iced Mocha (Small)",
          "Iced Mocha (Medium)",
          "Iced Mocha (Large)",
          "Iced Mocha with Nonfat Milk (Small)",
          "Iced Mocha with Nonfat Milk (Medium)",
          "Iced Mocha with Nonfat Milk (Large)",
          "Iced Caramel Mocha (Small)",
          "Iced Caramel Mocha (Medium)",
          "Iced Caramel Mocha (Large)",
          "Iced Nonfat Caramel Mocha (Small)",
          "Iced Nonfat Caramel Mocha (Medium)",
          "Iced Nonfat Caramel Mocha (Large)",
          "Frappé Mocha (Small)",
          "Frappé Mocha (Medium)",
          "Frappé Mocha (Large)",
          "Frappé Caramel (Small)",
          "Frappé Caramel (Medium)",
          "Frappé Caramel (Large)",
          "Frappé Chocolate Chip (Small)",
          "Frappé Chocolate Chip (Medium)",
          "Frappé Chocolate Chip (Large)",
          "Blueberry Pomegranate Smoothie (Small)",
          "Blueberry Pomegranate Smoothie (Medium)",
          "Blueberry Pomegranate Smoothie (Large)",
          "Strawberry Banana Smoothie (Small)",
          "Strawberry Banana Smoothie (Medium)",
          "Strawberry Banana Smoothie (Large)",
          "Mango Pineapple Smoothie (Small)",
          "Mango Pineapple Smoothie (Medium)",
          "Mango Pineapple Smoothie (Large)",
          "Vanilla Shake (Small)",
          "Vanilla Shake (Medium)",
          "Vanilla Shake (Large)",
          "Strawberry Shake (Small)",
          "Strawberry Shake (Medium)",
          "Strawberry Shake (Large)",
          "Chocolate Shake (Small)",
          "Chocolate Shake (Medium)",
          "Chocolate Shake (Large)",
          "Shamrock Shake (Medium)",
          "Shamrock Shake (Large)",
          "McFlurry with M&M’s Candies (Small)",
          "McFlurry with M&M’s Candies (Medium)",
          "McFlurry with M&M’s Candies (Snack)",
          "McFlurry with Oreo Cookies (Small)",
          "McFlurry with Oreo Cookies (Medium)",
          "McFlurry with Oreo Cookies (Snack)",
          "McFlurry with Reese's Peanut Butter Cups (Medium)",
          "McFlurry with Reese's Peanut Butter Cups (Snack)"
         ],
         "type": "scatter",
         "x": [
          "Egg McMuffin",
          "Egg White Delight",
          "Sausage McMuffin",
          "Sausage McMuffin with Egg",
          "Sausage McMuffin with Egg Whites",
          "Steak & Egg McMuffin",
          "Bacon, Egg & Cheese Biscuit (Regular Biscuit)",
          "Bacon, Egg & Cheese Biscuit (Large Biscuit)",
          "Bacon, Egg & Cheese Biscuit with Egg Whites (Regular Biscuit)",
          "Bacon, Egg & Cheese Biscuit with Egg Whites (Large Biscuit)",
          "Sausage Biscuit (Regular Biscuit)",
          "Sausage Biscuit (Large Biscuit)",
          "Sausage Biscuit with Egg (Regular Biscuit)",
          "Sausage Biscuit with Egg (Large Biscuit)",
          "Sausage Biscuit with Egg Whites (Regular Biscuit)",
          "Sausage Biscuit with Egg Whites (Large Biscuit)",
          "Southern Style Chicken Biscuit (Regular Biscuit)",
          "Southern Style Chicken Biscuit (Large Biscuit)",
          "Steak & Egg Biscuit (Regular Biscuit)",
          "Bacon, Egg & Cheese McGriddles",
          "Bacon, Egg & Cheese McGriddles with Egg Whites",
          "Sausage McGriddles",
          "Sausage, Egg & Cheese McGriddles",
          "Sausage, Egg & Cheese McGriddles with Egg Whites",
          "Bacon, Egg & Cheese Bagel",
          "Bacon, Egg & Cheese Bagel with Egg Whites",
          "Steak, Egg & Cheese Bagel",
          "Big Breakfast (Regular Biscuit)",
          "Big Breakfast (Large Biscuit)",
          "Big Breakfast with Egg Whites (Regular Biscuit)",
          "Big Breakfast with Egg Whites (Large Biscuit)",
          "Big Breakfast with Hotcakes (Regular Biscuit)",
          "Big Breakfast with Hotcakes (Large Biscuit)",
          "Big Breakfast with Hotcakes and Egg Whites (Regular Biscuit)",
          "Big Breakfast with Hotcakes and Egg Whites (Large Biscuit)",
          "Hotcakes",
          "Hotcakes and Sausage",
          "Sausage Burrito",
          "Hash Brown",
          "Cinnamon Melts",
          "Fruit & Maple Oatmeal",
          "Fruit & Maple Oatmeal without Brown Sugar",
          "Big Mac",
          "Quarter Pounder with Cheese",
          "Quarter Pounder with Bacon & Cheese",
          "Quarter Pounder with Bacon Habanero Ranch",
          "Quarter Pounder Deluxe",
          "Double Quarter Pounder with Cheese",
          "Hamburger",
          "Cheeseburger",
          "Double Cheeseburger",
          "Bacon Clubhouse Burger",
          "McDouble",
          "Bacon McDouble",
          "Daily Double",
          "Jalapeño Double",
          "McRib",
          "Premium Crispy Chicken Classic Sandwich",
          "Premium Grilled Chicken Classic Sandwich",
          "Premium Crispy Chicken Club Sandwich",
          "Premium Grilled Chicken Club Sandwich",
          "Premium Crispy Chicken Ranch BLT Sandwich",
          "Premium Grilled Chicken Ranch BLT Sandwich",
          "Bacon Clubhouse Crispy Chicken Sandwich",
          "Bacon Clubhouse Grilled Chicken Sandwich",
          "Southern Style Crispy Chicken Sandwich",
          "McChicken",
          "Bacon Cheddar McChicken",
          "Bacon Buffalo Ranch McChicken",
          "Buffalo Ranch McChicken",
          "Premium McWrap Chicken & Bacon (Crispy Chicken)",
          "Premium McWrap Chicken & Bacon (Grilled Chicken)",
          "Premium McWrap Chicken & Ranch (Crispy Chicken)",
          "Premium McWrap Chicken & Ranch (Grilled Chicken)",
          "Premium McWrap Southwest Chicken (Crispy Chicken)",
          "Premium McWrap Southwest Chicken (Grilled Chicken)",
          "Premium McWrap Chicken Sweet Chili (Crispy Chicken)",
          "Premium McWrap Chicken Sweet Chili (Grilled Chicken)",
          "Chicken McNuggets (4 piece)",
          "Chicken McNuggets (6 piece)",
          "Chicken McNuggets (10 piece)",
          "Chicken McNuggets (20 piece)",
          "Chicken McNuggets (40 piece)",
          "Filet-O-Fish",
          "Premium Bacon Ranch Salad (without Chicken)",
          "Premium Bacon Ranch Salad with Crispy Chicken",
          "Premium Bacon Ranch Salad with Grilled Chicken",
          "Premium Southwest Salad (without Chicken)",
          "Premium Southwest Salad with Crispy Chicken",
          "Premium Southwest Salad with Grilled Chicken",
          "Chipotle BBQ Snack Wrap (Crispy Chicken)",
          "Chipotle BBQ Snack Wrap (Grilled Chicken)",
          "Honey Mustard Snack Wrap (Crispy Chicken)",
          "Honey Mustard Snack Wrap (Grilled Chicken)",
          "Ranch Snack Wrap (Crispy Chicken)",
          "Ranch Snack Wrap (Grilled Chicken)",
          "Small French Fries",
          "Medium French Fries",
          "Large French Fries",
          "Kids French Fries",
          "Side Salad",
          "Apple Slices",
          "Fruit 'n Yogurt Parfait",
          "Baked Apple Pie",
          "Chocolate Chip Cookie",
          "Oatmeal Raisin Cookie",
          "Kids Ice Cream Cone",
          "Hot Fudge Sundae",
          "Hot Caramel Sundae",
          "Strawberry Sundae",
          "Coca-Cola Classic (Small)",
          "Coca-Cola Classic (Medium)",
          "Coca-Cola Classic (Large)",
          "Coca-Cola Classic (Child)",
          "Diet Coke (Small)",
          "Diet Coke (Medium)",
          "Diet Coke (Large)",
          "Diet Coke (Child)",
          "Dr Pepper (Small)",
          "Dr Pepper (Medium)",
          "Dr Pepper (Large)",
          "Dr Pepper (Child)",
          "Diet Dr Pepper (Small)",
          "Diet Dr Pepper (Medium)",
          "Diet Dr Pepper (Large)",
          "Diet Dr Pepper (Child)",
          "Sprite (Small)",
          "Sprite (Medium)",
          "Sprite (Large)",
          "Sprite (Child)",
          "1% Low Fat Milk Jug",
          "Fat Free Chocolate Milk Jug",
          "Minute Maid 100% Apple Juice Box",
          "Minute Maid Orange Juice (Small)",
          "Minute Maid Orange Juice (Medium)",
          "Minute Maid Orange Juice (Large)",
          "Dasani Water Bottle",
          "Iced Tea (Small)",
          "Iced Tea (Medium)",
          "Iced Tea (Large)",
          "Iced Tea (Child)",
          "Sweet Tea (Small)",
          "Sweet Tea (Medium)",
          "Sweet Tea (Large)",
          "Sweet Tea (Child)",
          "Coffee (Small)",
          "Coffee (Medium)",
          "Coffee (Large)",
          "Latte (Small)",
          "Latte (Medium)",
          "Latte (Large)",
          "Caramel Latte (Small)",
          "Caramel Latte (Medium)",
          "Caramel Latte (Large)",
          "Hazelnut Latte (Small)",
          "Hazelnut Latte (Medium)",
          "Hazelnut Latte (Large)",
          "French Vanilla Latte (Small)",
          "French Vanilla Latte (Medium)",
          "French Vanilla Latte (Large)",
          "Latte with Sugar Free French Vanilla Syrup (Small)",
          "Latte with Sugar Free French Vanilla Syrup (Medium)",
          "Latte with Sugar Free French Vanilla Syrup (Large)",
          "Nonfat Latte (Small)",
          "Nonfat Latte (Medium)",
          "Nonfat Latte (Large)",
          "Nonfat Caramel Latte (Small)",
          "Nonfat Caramel Latte (Medium)",
          "Nonfat Caramel Latte (Large)",
          "Nonfat Hazelnut Latte (Small)",
          "Nonfat Hazelnut Latte (Medium)",
          "Nonfat Hazelnut Latte (Large)",
          "Nonfat French Vanilla Latte (Small)",
          "Nonfat French Vanilla Latte (Medium)",
          "Nonfat French Vanilla Latte (Large)",
          "Nonfat Latte with Sugar Free French Vanilla Syrup (Small)",
          "Nonfat Latte with Sugar Free French Vanilla Syrup (Medium)",
          "Nonfat Latte with Sugar Free French Vanilla Syrup (Large)",
          "Mocha (Small)",
          "Mocha (Medium)",
          "Mocha (Large)",
          "Mocha with Nonfat Milk (Small)",
          "Mocha with Nonfat Milk (Medium)",
          "Mocha with Nonfat Milk (Large)",
          "Caramel Mocha (Small)",
          "Caramel Mocha (Medium)",
          "Caramel Mocha (Large)",
          "Nonfat Caramel Mocha (Small)",
          "Nonfat Caramel Mocha (Medium)",
          "Nonfat Caramel Mocha (Large)",
          "Hot Chocolate (Small)",
          "Hot Chocolate (Medium)",
          "Hot Chocolate (Large)",
          "Hot Chocolate with Nonfat Milk (Small)",
          "Hot Chocolate with Nonfat Milk (Medium)",
          "Hot Chocolate with Nonfat Milk (Large)",
          "Regular Iced Coffee (Small)",
          "Regular Iced Coffee (Medium)",
          "Regular Iced Coffee (Large)",
          "Caramel Iced Coffee (Small)",
          "Caramel Iced Coffee (Medium)",
          "Caramel Iced Coffee (Large)",
          "Hazelnut Iced Coffee (Small)",
          "Hazelnut Iced Coffee (Medium)",
          "Hazelnut Iced Coffee (Large)",
          "French Vanilla Iced Coffee (Small)",
          "French Vanilla Iced Coffee (Medium)",
          "French Vanilla Iced Coffee (Large)",
          "Iced Coffee with Sugar Free French Vanilla Syrup (Small)",
          "Iced Coffee with Sugar Free French Vanilla Syrup (Medium)",
          "Iced Coffee with Sugar Free French Vanilla Syrup (Large)",
          "Iced Mocha (Small)",
          "Iced Mocha (Medium)",
          "Iced Mocha (Large)",
          "Iced Mocha with Nonfat Milk (Small)",
          "Iced Mocha with Nonfat Milk (Medium)",
          "Iced Mocha with Nonfat Milk (Large)",
          "Iced Caramel Mocha (Small)",
          "Iced Caramel Mocha (Medium)",
          "Iced Caramel Mocha (Large)",
          "Iced Nonfat Caramel Mocha (Small)",
          "Iced Nonfat Caramel Mocha (Medium)",
          "Iced Nonfat Caramel Mocha (Large)",
          "Frappé Mocha (Small)",
          "Frappé Mocha (Medium)",
          "Frappé Mocha (Large)",
          "Frappé Caramel (Small)",
          "Frappé Caramel (Medium)",
          "Frappé Caramel (Large)",
          "Frappé Chocolate Chip (Small)",
          "Frappé Chocolate Chip (Medium)",
          "Frappé Chocolate Chip (Large)",
          "Blueberry Pomegranate Smoothie (Small)",
          "Blueberry Pomegranate Smoothie (Medium)",
          "Blueberry Pomegranate Smoothie (Large)",
          "Strawberry Banana Smoothie (Small)",
          "Strawberry Banana Smoothie (Medium)",
          "Strawberry Banana Smoothie (Large)",
          "Mango Pineapple Smoothie (Small)",
          "Mango Pineapple Smoothie (Medium)",
          "Mango Pineapple Smoothie (Large)",
          "Vanilla Shake (Small)",
          "Vanilla Shake (Medium)",
          "Vanilla Shake (Large)",
          "Strawberry Shake (Small)",
          "Strawberry Shake (Medium)",
          "Strawberry Shake (Large)",
          "Chocolate Shake (Small)",
          "Chocolate Shake (Medium)",
          "Chocolate Shake (Large)",
          "Shamrock Shake (Medium)",
          "Shamrock Shake (Large)",
          "McFlurry with M&M’s Candies (Small)",
          "McFlurry with M&M’s Candies (Medium)",
          "McFlurry with M&M’s Candies (Snack)",
          "McFlurry with Oreo Cookies (Small)",
          "McFlurry with Oreo Cookies (Medium)",
          "McFlurry with Oreo Cookies (Snack)",
          "McFlurry with Reese's Peanut Butter Cups (Medium)",
          "McFlurry with Reese's Peanut Butter Cups (Snack)"
         ],
         "y": [
          15,
          8,
          10,
          15,
          10,
          20,
          15,
          20,
          10,
          15,
          15,
          15,
          20,
          20,
          15,
          15,
          15,
          15,
          25,
          15,
          10,
          10,
          15,
          10,
          20,
          15,
          25,
          25,
          30,
          15,
          15,
          40,
          40,
          30,
          30,
          15,
          15,
          15,
          2,
          15,
          10,
          10,
          25,
          25,
          30,
          30,
          30,
          35,
          15,
          15,
          20,
          25,
          20,
          20,
          20,
          20,
          20,
          20,
          20,
          20,
          20,
          20,
          20,
          15,
          15,
          15,
          15,
          15,
          15,
          15,
          20,
          20,
          20,
          20,
          20,
          20,
          20,
          20,
          2,
          4,
          6,
          10,
          25,
          10,
          6,
          8,
          8,
          10,
          15,
          15,
          10,
          10,
          10,
          10,
          10,
          10,
          4,
          4,
          8,
          2,
          4,
          0,
          4,
          6,
          8,
          6,
          0,
          8,
          0,
          0,
          0,
          0,
          0,
          0,
          0,
          0,
          0,
          0,
          0,
          0,
          0,
          0,
          0,
          0,
          0,
          0,
          0,
          0,
          0,
          0,
          0,
          8,
          0,
          0,
          0,
          0,
          0,
          0,
          0,
          0,
          0,
          0,
          0,
          0,
          0,
          0,
          0,
          0,
          0,
          0,
          2,
          0,
          0,
          2,
          0,
          0,
          2,
          0,
          2,
          2,
          0,
          0,
          2,
          0,
          0,
          2,
          0,
          0,
          2,
          0,
          0,
          2,
          0,
          2,
          2,
          0,
          0,
          2,
          6,
          6,
          8,
          6,
          6,
          8,
          2,
          2,
          4,
          2,
          2,
          4,
          6,
          6,
          8,
          6,
          6,
          8,
          0,
          0,
          0,
          0,
          0,
          0,
          0,
          0,
          0,
          0,
          0,
          0,
          0,
          0,
          0,
          4,
          6,
          8,
          4,
          6,
          8,
          2,
          2,
          4,
          2,
          2,
          4,
          4,
          4,
          4,
          2,
          2,
          2,
          4,
          4,
          6,
          2,
          2,
          2,
          2,
          4,
          4,
          2,
          2,
          2,
          0,
          0,
          0,
          0,
          0,
          0,
          8,
          10,
          15,
          0,
          0,
          8,
          10,
          4,
          8,
          10,
          6,
          6,
          4
         ]
        }
       ],
       "layout": {
        "autosize": true,
        "hovermode": "closest",
        "showlegend": false,
        "template": {
         "data": {
          "bar": [
           {
            "error_x": {
             "color": "#2a3f5f"
            },
            "error_y": {
             "color": "#2a3f5f"
            },
            "marker": {
             "line": {
              "color": "#E5ECF6",
              "width": 0.5
             }
            },
            "type": "bar"
           }
          ],
          "barpolar": [
           {
            "marker": {
             "line": {
              "color": "#E5ECF6",
              "width": 0.5
             }
            },
            "type": "barpolar"
           }
          ],
          "carpet": [
           {
            "aaxis": {
             "endlinecolor": "#2a3f5f",
             "gridcolor": "white",
             "linecolor": "white",
             "minorgridcolor": "white",
             "startlinecolor": "#2a3f5f"
            },
            "baxis": {
             "endlinecolor": "#2a3f5f",
             "gridcolor": "white",
             "linecolor": "white",
             "minorgridcolor": "white",
             "startlinecolor": "#2a3f5f"
            },
            "type": "carpet"
           }
          ],
          "choropleth": [
           {
            "colorbar": {
             "outlinewidth": 0,
             "ticks": ""
            },
            "type": "choropleth"
           }
          ],
          "contour": [
           {
            "colorbar": {
             "outlinewidth": 0,
             "ticks": ""
            },
            "colorscale": [
             [
              0,
              "#0d0887"
             ],
             [
              0.1111111111111111,
              "#46039f"
             ],
             [
              0.2222222222222222,
              "#7201a8"
             ],
             [
              0.3333333333333333,
              "#9c179e"
             ],
             [
              0.4444444444444444,
              "#bd3786"
             ],
             [
              0.5555555555555556,
              "#d8576b"
             ],
             [
              0.6666666666666666,
              "#ed7953"
             ],
             [
              0.7777777777777778,
              "#fb9f3a"
             ],
             [
              0.8888888888888888,
              "#fdca26"
             ],
             [
              1,
              "#f0f921"
             ]
            ],
            "type": "contour"
           }
          ],
          "contourcarpet": [
           {
            "colorbar": {
             "outlinewidth": 0,
             "ticks": ""
            },
            "type": "contourcarpet"
           }
          ],
          "heatmap": [
           {
            "colorbar": {
             "outlinewidth": 0,
             "ticks": ""
            },
            "colorscale": [
             [
              0,
              "#0d0887"
             ],
             [
              0.1111111111111111,
              "#46039f"
             ],
             [
              0.2222222222222222,
              "#7201a8"
             ],
             [
              0.3333333333333333,
              "#9c179e"
             ],
             [
              0.4444444444444444,
              "#bd3786"
             ],
             [
              0.5555555555555556,
              "#d8576b"
             ],
             [
              0.6666666666666666,
              "#ed7953"
             ],
             [
              0.7777777777777778,
              "#fb9f3a"
             ],
             [
              0.8888888888888888,
              "#fdca26"
             ],
             [
              1,
              "#f0f921"
             ]
            ],
            "type": "heatmap"
           }
          ],
          "heatmapgl": [
           {
            "colorbar": {
             "outlinewidth": 0,
             "ticks": ""
            },
            "colorscale": [
             [
              0,
              "#0d0887"
             ],
             [
              0.1111111111111111,
              "#46039f"
             ],
             [
              0.2222222222222222,
              "#7201a8"
             ],
             [
              0.3333333333333333,
              "#9c179e"
             ],
             [
              0.4444444444444444,
              "#bd3786"
             ],
             [
              0.5555555555555556,
              "#d8576b"
             ],
             [
              0.6666666666666666,
              "#ed7953"
             ],
             [
              0.7777777777777778,
              "#fb9f3a"
             ],
             [
              0.8888888888888888,
              "#fdca26"
             ],
             [
              1,
              "#f0f921"
             ]
            ],
            "type": "heatmapgl"
           }
          ],
          "histogram": [
           {
            "marker": {
             "colorbar": {
              "outlinewidth": 0,
              "ticks": ""
             }
            },
            "type": "histogram"
           }
          ],
          "histogram2d": [
           {
            "colorbar": {
             "outlinewidth": 0,
             "ticks": ""
            },
            "colorscale": [
             [
              0,
              "#0d0887"
             ],
             [
              0.1111111111111111,
              "#46039f"
             ],
             [
              0.2222222222222222,
              "#7201a8"
             ],
             [
              0.3333333333333333,
              "#9c179e"
             ],
             [
              0.4444444444444444,
              "#bd3786"
             ],
             [
              0.5555555555555556,
              "#d8576b"
             ],
             [
              0.6666666666666666,
              "#ed7953"
             ],
             [
              0.7777777777777778,
              "#fb9f3a"
             ],
             [
              0.8888888888888888,
              "#fdca26"
             ],
             [
              1,
              "#f0f921"
             ]
            ],
            "type": "histogram2d"
           }
          ],
          "histogram2dcontour": [
           {
            "colorbar": {
             "outlinewidth": 0,
             "ticks": ""
            },
            "colorscale": [
             [
              0,
              "#0d0887"
             ],
             [
              0.1111111111111111,
              "#46039f"
             ],
             [
              0.2222222222222222,
              "#7201a8"
             ],
             [
              0.3333333333333333,
              "#9c179e"
             ],
             [
              0.4444444444444444,
              "#bd3786"
             ],
             [
              0.5555555555555556,
              "#d8576b"
             ],
             [
              0.6666666666666666,
              "#ed7953"
             ],
             [
              0.7777777777777778,
              "#fb9f3a"
             ],
             [
              0.8888888888888888,
              "#fdca26"
             ],
             [
              1,
              "#f0f921"
             ]
            ],
            "type": "histogram2dcontour"
           }
          ],
          "mesh3d": [
           {
            "colorbar": {
             "outlinewidth": 0,
             "ticks": ""
            },
            "type": "mesh3d"
           }
          ],
          "parcoords": [
           {
            "line": {
             "colorbar": {
              "outlinewidth": 0,
              "ticks": ""
             }
            },
            "type": "parcoords"
           }
          ],
          "pie": [
           {
            "automargin": true,
            "type": "pie"
           }
          ],
          "scatter": [
           {
            "marker": {
             "colorbar": {
              "outlinewidth": 0,
              "ticks": ""
             }
            },
            "type": "scatter"
           }
          ],
          "scatter3d": [
           {
            "line": {
             "colorbar": {
              "outlinewidth": 0,
              "ticks": ""
             }
            },
            "marker": {
             "colorbar": {
              "outlinewidth": 0,
              "ticks": ""
             }
            },
            "type": "scatter3d"
           }
          ],
          "scattercarpet": [
           {
            "marker": {
             "colorbar": {
              "outlinewidth": 0,
              "ticks": ""
             }
            },
            "type": "scattercarpet"
           }
          ],
          "scattergeo": [
           {
            "marker": {
             "colorbar": {
              "outlinewidth": 0,
              "ticks": ""
             }
            },
            "type": "scattergeo"
           }
          ],
          "scattergl": [
           {
            "marker": {
             "colorbar": {
              "outlinewidth": 0,
              "ticks": ""
             }
            },
            "type": "scattergl"
           }
          ],
          "scattermapbox": [
           {
            "marker": {
             "colorbar": {
              "outlinewidth": 0,
              "ticks": ""
             }
            },
            "type": "scattermapbox"
           }
          ],
          "scatterpolar": [
           {
            "marker": {
             "colorbar": {
              "outlinewidth": 0,
              "ticks": ""
             }
            },
            "type": "scatterpolar"
           }
          ],
          "scatterpolargl": [
           {
            "marker": {
             "colorbar": {
              "outlinewidth": 0,
              "ticks": ""
             }
            },
            "type": "scatterpolargl"
           }
          ],
          "scatterternary": [
           {
            "marker": {
             "colorbar": {
              "outlinewidth": 0,
              "ticks": ""
             }
            },
            "type": "scatterternary"
           }
          ],
          "surface": [
           {
            "colorbar": {
             "outlinewidth": 0,
             "ticks": ""
            },
            "colorscale": [
             [
              0,
              "#0d0887"
             ],
             [
              0.1111111111111111,
              "#46039f"
             ],
             [
              0.2222222222222222,
              "#7201a8"
             ],
             [
              0.3333333333333333,
              "#9c179e"
             ],
             [
              0.4444444444444444,
              "#bd3786"
             ],
             [
              0.5555555555555556,
              "#d8576b"
             ],
             [
              0.6666666666666666,
              "#ed7953"
             ],
             [
              0.7777777777777778,
              "#fb9f3a"
             ],
             [
              0.8888888888888888,
              "#fdca26"
             ],
             [
              1,
              "#f0f921"
             ]
            ],
            "type": "surface"
           }
          ],
          "table": [
           {
            "cells": {
             "fill": {
              "color": "#EBF0F8"
             },
             "line": {
              "color": "white"
             }
            },
            "header": {
             "fill": {
              "color": "#C8D4E3"
             },
             "line": {
              "color": "white"
             }
            },
            "type": "table"
           }
          ]
         },
         "layout": {
          "annotationdefaults": {
           "arrowcolor": "#2a3f5f",
           "arrowhead": 0,
           "arrowwidth": 1
          },
          "coloraxis": {
           "colorbar": {
            "outlinewidth": 0,
            "ticks": ""
           }
          },
          "colorscale": {
           "diverging": [
            [
             0,
             "#8e0152"
            ],
            [
             0.1,
             "#c51b7d"
            ],
            [
             0.2,
             "#de77ae"
            ],
            [
             0.3,
             "#f1b6da"
            ],
            [
             0.4,
             "#fde0ef"
            ],
            [
             0.5,
             "#f7f7f7"
            ],
            [
             0.6,
             "#e6f5d0"
            ],
            [
             0.7,
             "#b8e186"
            ],
            [
             0.8,
             "#7fbc41"
            ],
            [
             0.9,
             "#4d9221"
            ],
            [
             1,
             "#276419"
            ]
           ],
           "sequential": [
            [
             0,
             "#0d0887"
            ],
            [
             0.1111111111111111,
             "#46039f"
            ],
            [
             0.2222222222222222,
             "#7201a8"
            ],
            [
             0.3333333333333333,
             "#9c179e"
            ],
            [
             0.4444444444444444,
             "#bd3786"
            ],
            [
             0.5555555555555556,
             "#d8576b"
            ],
            [
             0.6666666666666666,
             "#ed7953"
            ],
            [
             0.7777777777777778,
             "#fb9f3a"
            ],
            [
             0.8888888888888888,
             "#fdca26"
            ],
            [
             1,
             "#f0f921"
            ]
           ],
           "sequentialminus": [
            [
             0,
             "#0d0887"
            ],
            [
             0.1111111111111111,
             "#46039f"
            ],
            [
             0.2222222222222222,
             "#7201a8"
            ],
            [
             0.3333333333333333,
             "#9c179e"
            ],
            [
             0.4444444444444444,
             "#bd3786"
            ],
            [
             0.5555555555555556,
             "#d8576b"
            ],
            [
             0.6666666666666666,
             "#ed7953"
            ],
            [
             0.7777777777777778,
             "#fb9f3a"
            ],
            [
             0.8888888888888888,
             "#fdca26"
            ],
            [
             1,
             "#f0f921"
            ]
           ]
          },
          "colorway": [
           "#636efa",
           "#EF553B",
           "#00cc96",
           "#ab63fa",
           "#FFA15A",
           "#19d3f3",
           "#FF6692",
           "#B6E880",
           "#FF97FF",
           "#FECB52"
          ],
          "font": {
           "color": "#2a3f5f"
          },
          "geo": {
           "bgcolor": "white",
           "lakecolor": "white",
           "landcolor": "#E5ECF6",
           "showlakes": true,
           "showland": true,
           "subunitcolor": "white"
          },
          "hoverlabel": {
           "align": "left"
          },
          "hovermode": "closest",
          "mapbox": {
           "style": "light"
          },
          "paper_bgcolor": "white",
          "plot_bgcolor": "#E5ECF6",
          "polar": {
           "angularaxis": {
            "gridcolor": "white",
            "linecolor": "white",
            "ticks": ""
           },
           "bgcolor": "#E5ECF6",
           "radialaxis": {
            "gridcolor": "white",
            "linecolor": "white",
            "ticks": ""
           }
          },
          "scene": {
           "xaxis": {
            "backgroundcolor": "#E5ECF6",
            "gridcolor": "white",
            "gridwidth": 2,
            "linecolor": "white",
            "showbackground": true,
            "ticks": "",
            "zerolinecolor": "white"
           },
           "yaxis": {
            "backgroundcolor": "#E5ECF6",
            "gridcolor": "white",
            "gridwidth": 2,
            "linecolor": "white",
            "showbackground": true,
            "ticks": "",
            "zerolinecolor": "white"
           },
           "zaxis": {
            "backgroundcolor": "#E5ECF6",
            "gridcolor": "white",
            "gridwidth": 2,
            "linecolor": "white",
            "showbackground": true,
            "ticks": "",
            "zerolinecolor": "white"
           }
          },
          "shapedefaults": {
           "line": {
            "color": "#2a3f5f"
           }
          },
          "ternary": {
           "aaxis": {
            "gridcolor": "white",
            "linecolor": "white",
            "ticks": ""
           },
           "baxis": {
            "gridcolor": "white",
            "linecolor": "white",
            "ticks": ""
           },
           "bgcolor": "#E5ECF6",
           "caxis": {
            "gridcolor": "white",
            "linecolor": "white",
            "ticks": ""
           }
          },
          "title": {
           "x": 0.05
          },
          "xaxis": {
           "automargin": true,
           "gridcolor": "white",
           "linecolor": "white",
           "ticks": "",
           "title": {
            "standoff": 15
           },
           "zerolinecolor": "white",
           "zerolinewidth": 2
          },
          "yaxis": {
           "automargin": true,
           "gridcolor": "white",
           "linecolor": "white",
           "ticks": "",
           "title": {
            "standoff": 15
           },
           "zerolinecolor": "white",
           "zerolinewidth": 2
          }
         }
        },
        "title": {
         "text": "Scatter plot of Iron (% Daily Value) per Item on the Menu"
        },
        "xaxis": {
         "showgrid": false,
         "showline": false,
         "zeroline": false
        },
        "yaxis": {
         "gridwidth": 2,
         "showgrid": false,
         "showline": false,
         "ticklen": 5,
         "title": {
          "text": "Iron (% Daily Value)"
         },
         "zeroline": false
        }
       }
      },
      "text/html": [
       "<div>\n",
       "        \n",
       "        \n",
       "            <div id=\"5e6264b5-5f09-4783-82e0-8dd6db5905e0\" class=\"plotly-graph-div\" style=\"height:525px; width:100%;\"></div>\n",
       "            <script type=\"text/javascript\">\n",
       "                require([\"plotly\"], function(Plotly) {\n",
       "                    window.PLOTLYENV=window.PLOTLYENV || {};\n",
       "                    \n",
       "                if (document.getElementById(\"5e6264b5-5f09-4783-82e0-8dd6db5905e0\")) {\n",
       "                    Plotly.newPlot(\n",
       "                        '5e6264b5-5f09-4783-82e0-8dd6db5905e0',\n",
       "                        [{\"marker\": {\"color\": [15, 8, 10, 15, 10, 20, 15, 20, 10, 15, 15, 15, 20, 20, 15, 15, 15, 15, 25, 15, 10, 10, 15, 10, 20, 15, 25, 25, 30, 15, 15, 40, 40, 30, 30, 15, 15, 15, 2, 15, 10, 10, 25, 25, 30, 30, 30, 35, 15, 15, 20, 25, 20, 20, 20, 20, 20, 20, 20, 20, 20, 20, 20, 15, 15, 15, 15, 15, 15, 15, 20, 20, 20, 20, 20, 20, 20, 20, 2, 4, 6, 10, 25, 10, 6, 8, 8, 10, 15, 15, 10, 10, 10, 10, 10, 10, 4, 4, 8, 2, 4, 0, 4, 6, 8, 6, 0, 8, 0, 0, 0, 0, 0, 0, 0, 0, 0, 0, 0, 0, 0, 0, 0, 0, 0, 0, 0, 0, 0, 0, 0, 8, 0, 0, 0, 0, 0, 0, 0, 0, 0, 0, 0, 0, 0, 0, 0, 0, 0, 0, 2, 0, 0, 2, 0, 0, 2, 0, 2, 2, 0, 0, 2, 0, 0, 2, 0, 0, 2, 0, 0, 2, 0, 2, 2, 0, 0, 2, 6, 6, 8, 6, 6, 8, 2, 2, 4, 2, 2, 4, 6, 6, 8, 6, 6, 8, 0, 0, 0, 0, 0, 0, 0, 0, 0, 0, 0, 0, 0, 0, 0, 4, 6, 8, 4, 6, 8, 2, 2, 4, 2, 2, 4, 4, 4, 4, 2, 2, 2, 4, 4, 6, 2, 2, 2, 2, 4, 4, 2, 2, 2, 0, 0, 0, 0, 0, 0, 8, 10, 15, 0, 0, 8, 10, 4, 8, 10, 6, 6, 4], \"colorscale\": [[0.0, \"rgb(12,51,131)\"], [0.25, \"rgb(10,136,186)\"], [0.5, \"rgb(242,211,56)\"], [0.75, \"rgb(242,143,56)\"], [1.0, \"rgb(217,30,30)\"]], \"reversescale\": true, \"showscale\": true, \"size\": [15, 8, 10, 15, 10, 20, 15, 20, 10, 15, 15, 15, 20, 20, 15, 15, 15, 15, 25, 15, 10, 10, 15, 10, 20, 15, 25, 25, 30, 15, 15, 40, 40, 30, 30, 15, 15, 15, 2, 15, 10, 10, 25, 25, 30, 30, 30, 35, 15, 15, 20, 25, 20, 20, 20, 20, 20, 20, 20, 20, 20, 20, 20, 15, 15, 15, 15, 15, 15, 15, 20, 20, 20, 20, 20, 20, 20, 20, 2, 4, 6, 10, 25, 10, 6, 8, 8, 10, 15, 15, 10, 10, 10, 10, 10, 10, 4, 4, 8, 2, 4, 0, 4, 6, 8, 6, 0, 8, 0, 0, 0, 0, 0, 0, 0, 0, 0, 0, 0, 0, 0, 0, 0, 0, 0, 0, 0, 0, 0, 0, 0, 8, 0, 0, 0, 0, 0, 0, 0, 0, 0, 0, 0, 0, 0, 0, 0, 0, 0, 0, 2, 0, 0, 2, 0, 0, 2, 0, 2, 2, 0, 0, 2, 0, 0, 2, 0, 0, 2, 0, 0, 2, 0, 2, 2, 0, 0, 2, 6, 6, 8, 6, 6, 8, 2, 2, 4, 2, 2, 4, 6, 6, 8, 6, 6, 8, 0, 0, 0, 0, 0, 0, 0, 0, 0, 0, 0, 0, 0, 0, 0, 4, 6, 8, 4, 6, 8, 2, 2, 4, 2, 2, 4, 4, 4, 4, 2, 2, 2, 4, 4, 6, 2, 2, 2, 2, 4, 4, 2, 2, 2, 0, 0, 0, 0, 0, 0, 8, 10, 15, 0, 0, 8, 10, 4, 8, 10, 6, 6, 4]}, \"mode\": \"markers\", \"text\": [\"Egg McMuffin\", \"Egg White Delight\", \"Sausage McMuffin\", \"Sausage McMuffin with Egg\", \"Sausage McMuffin with Egg Whites\", \"Steak & Egg McMuffin\", \"Bacon, Egg & Cheese Biscuit (Regular Biscuit)\", \"Bacon, Egg & Cheese Biscuit (Large Biscuit)\", \"Bacon, Egg & Cheese Biscuit with Egg Whites (Regular Biscuit)\", \"Bacon, Egg & Cheese Biscuit with Egg Whites (Large Biscuit)\", \"Sausage Biscuit (Regular Biscuit)\", \"Sausage Biscuit (Large Biscuit)\", \"Sausage Biscuit with Egg (Regular Biscuit)\", \"Sausage Biscuit with Egg (Large Biscuit)\", \"Sausage Biscuit with Egg Whites (Regular Biscuit)\", \"Sausage Biscuit with Egg Whites (Large Biscuit)\", \"Southern Style Chicken Biscuit (Regular Biscuit)\", \"Southern Style Chicken Biscuit (Large Biscuit)\", \"Steak & Egg Biscuit (Regular Biscuit)\", \"Bacon, Egg & Cheese McGriddles\", \"Bacon, Egg & Cheese McGriddles with Egg Whites\", \"Sausage McGriddles\", \"Sausage, Egg & Cheese McGriddles\", \"Sausage, Egg & Cheese McGriddles with Egg Whites\", \"Bacon, Egg & Cheese Bagel\", \"Bacon, Egg & Cheese Bagel with Egg Whites\", \"Steak, Egg & Cheese Bagel\", \"Big Breakfast (Regular Biscuit)\", \"Big Breakfast (Large Biscuit)\", \"Big Breakfast with Egg Whites (Regular Biscuit)\", \"Big Breakfast with Egg Whites (Large Biscuit)\", \"Big Breakfast with Hotcakes (Regular Biscuit)\", \"Big Breakfast with Hotcakes (Large Biscuit)\", \"Big Breakfast with Hotcakes and Egg Whites (Regular Biscuit)\", \"Big Breakfast with Hotcakes and Egg Whites (Large Biscuit)\", \"Hotcakes\", \"Hotcakes and Sausage\", \"Sausage Burrito\", \"Hash Brown\", \"Cinnamon Melts\", \"Fruit & Maple Oatmeal\", \"Fruit & Maple Oatmeal without Brown Sugar\", \"Big Mac\", \"Quarter Pounder with Cheese\", \"Quarter Pounder with Bacon & Cheese\", \"Quarter Pounder with Bacon Habanero Ranch\", \"Quarter Pounder Deluxe\", \"Double Quarter Pounder with Cheese\", \"Hamburger\", \"Cheeseburger\", \"Double Cheeseburger\", \"Bacon Clubhouse Burger\", \"McDouble\", \"Bacon McDouble\", \"Daily Double\", \"Jalape\\u00f1o Double\", \"McRib\", \"Premium Crispy Chicken Classic Sandwich\", \"Premium Grilled Chicken Classic Sandwich\", \"Premium Crispy Chicken Club Sandwich\", \"Premium Grilled Chicken Club Sandwich\", \"Premium Crispy Chicken Ranch BLT Sandwich\", \"Premium Grilled Chicken Ranch BLT Sandwich\", \"Bacon Clubhouse Crispy Chicken Sandwich\", \"Bacon Clubhouse Grilled Chicken Sandwich\", \"Southern Style Crispy Chicken Sandwich\", \"McChicken\", \"Bacon Cheddar McChicken\", \"Bacon Buffalo Ranch McChicken\", \"Buffalo Ranch McChicken\", \"Premium McWrap Chicken & Bacon (Crispy Chicken)\", \"Premium McWrap Chicken & Bacon (Grilled Chicken)\", \"Premium McWrap Chicken & Ranch (Crispy Chicken)\", \"Premium McWrap Chicken & Ranch (Grilled Chicken)\", \"Premium McWrap Southwest Chicken (Crispy Chicken)\", \"Premium McWrap Southwest Chicken (Grilled Chicken)\", \"Premium McWrap Chicken Sweet Chili (Crispy Chicken)\", \"Premium McWrap Chicken Sweet Chili (Grilled Chicken)\", \"Chicken McNuggets (4 piece)\", \"Chicken McNuggets (6 piece)\", \"Chicken McNuggets (10 piece)\", \"Chicken McNuggets (20 piece)\", \"Chicken McNuggets (40 piece)\", \"Filet-O-Fish\", \"Premium Bacon Ranch Salad (without Chicken)\", \"Premium Bacon Ranch Salad with Crispy Chicken\", \"Premium Bacon Ranch Salad with Grilled Chicken\", \"Premium Southwest Salad (without Chicken)\", \"Premium Southwest Salad with Crispy Chicken\", \"Premium Southwest Salad with Grilled Chicken\", \"Chipotle BBQ Snack Wrap (Crispy Chicken)\", \"Chipotle BBQ Snack Wrap (Grilled Chicken)\", \"Honey Mustard Snack Wrap (Crispy Chicken)\", \"Honey Mustard Snack Wrap (Grilled Chicken)\", \"Ranch Snack Wrap (Crispy Chicken)\", \"Ranch Snack Wrap (Grilled Chicken)\", \"Small French Fries\", \"Medium French Fries\", \"Large French Fries\", \"Kids French Fries\", \"Side Salad\", \"Apple Slices\", \"Fruit 'n Yogurt Parfait\", \"Baked Apple Pie\", \"Chocolate Chip Cookie\", \"Oatmeal Raisin Cookie\", \"Kids Ice Cream Cone\", \"Hot Fudge Sundae\", \"Hot Caramel Sundae\", \"Strawberry Sundae\", \"Coca-Cola Classic (Small)\", \"Coca-Cola Classic (Medium)\", \"Coca-Cola Classic (Large)\", \"Coca-Cola Classic (Child)\", \"Diet Coke (Small)\", \"Diet Coke (Medium)\", \"Diet Coke (Large)\", \"Diet Coke (Child)\", \"Dr Pepper (Small)\", \"Dr Pepper (Medium)\", \"Dr Pepper (Large)\", \"Dr Pepper (Child)\", \"Diet Dr Pepper (Small)\", \"Diet Dr Pepper (Medium)\", \"Diet Dr Pepper (Large)\", \"Diet Dr Pepper (Child)\", \"Sprite (Small)\", \"Sprite (Medium)\", \"Sprite (Large)\", \"Sprite (Child)\", \"1% Low Fat Milk Jug\", \"Fat Free Chocolate Milk Jug\", \"Minute Maid 100% Apple Juice Box\", \"Minute Maid Orange Juice (Small)\", \"Minute Maid Orange Juice (Medium)\", \"Minute Maid Orange Juice (Large)\", \"Dasani Water Bottle\", \"Iced Tea (Small)\", \"Iced Tea (Medium)\", \"Iced Tea (Large)\", \"Iced Tea (Child)\", \"Sweet Tea (Small)\", \"Sweet Tea (Medium)\", \"Sweet Tea (Large)\", \"Sweet Tea (Child)\", \"Coffee (Small)\", \"Coffee (Medium)\", \"Coffee (Large)\", \"Latte (Small)\", \"Latte (Medium)\", \"Latte (Large)\", \"Caramel Latte (Small)\", \"Caramel Latte (Medium)\", \"Caramel Latte (Large)\", \"Hazelnut Latte (Small)\", \"Hazelnut Latte (Medium)\", \"Hazelnut Latte (Large)\", \"French Vanilla Latte (Small)\", \"French Vanilla Latte (Medium)\", \"French Vanilla Latte (Large)\", \"Latte with Sugar Free French Vanilla Syrup (Small)\", \"Latte with Sugar Free French Vanilla Syrup (Medium)\", \"Latte with Sugar Free French Vanilla Syrup (Large)\", \"Nonfat Latte (Small)\", \"Nonfat Latte (Medium)\", \"Nonfat Latte (Large)\", \"Nonfat Caramel Latte (Small)\", \"Nonfat Caramel Latte (Medium)\", \"Nonfat Caramel Latte (Large)\", \"Nonfat Hazelnut Latte (Small)\", \"Nonfat Hazelnut Latte (Medium)\", \"Nonfat Hazelnut Latte (Large)\", \"Nonfat French Vanilla Latte (Small)\", \"Nonfat French Vanilla Latte (Medium)\", \"Nonfat French Vanilla Latte (Large)\", \"Nonfat Latte with Sugar Free French Vanilla Syrup (Small)\", \"Nonfat Latte with Sugar Free French Vanilla Syrup (Medium)\", \"Nonfat Latte with Sugar Free French Vanilla Syrup (Large)\", \"Mocha (Small)\", \"Mocha (Medium)\", \"Mocha (Large)\", \"Mocha with Nonfat Milk (Small)\", \"Mocha with Nonfat Milk (Medium)\", \"Mocha with Nonfat Milk (Large)\", \"Caramel Mocha (Small)\", \"Caramel Mocha (Medium)\", \"Caramel Mocha (Large)\", \"Nonfat Caramel Mocha (Small)\", \"Nonfat Caramel Mocha (Medium)\", \"Nonfat Caramel Mocha (Large)\", \"Hot Chocolate (Small)\", \"Hot Chocolate (Medium)\", \"Hot Chocolate (Large)\", \"Hot Chocolate with Nonfat Milk (Small)\", \"Hot Chocolate with Nonfat Milk (Medium)\", \"Hot Chocolate with Nonfat Milk (Large)\", \"Regular Iced Coffee (Small)\", \"Regular Iced Coffee (Medium)\", \"Regular Iced Coffee (Large)\", \"Caramel Iced Coffee (Small)\", \"Caramel Iced Coffee (Medium)\", \"Caramel Iced Coffee (Large)\", \"Hazelnut Iced Coffee (Small)\", \"Hazelnut Iced Coffee (Medium)\", \"Hazelnut Iced Coffee (Large)\", \"French Vanilla Iced Coffee (Small)\", \"French Vanilla Iced Coffee (Medium)\", \"French Vanilla Iced Coffee (Large)\", \"Iced Coffee with Sugar Free French Vanilla Syrup (Small)\", \"Iced Coffee with Sugar Free French Vanilla Syrup (Medium)\", \"Iced Coffee with Sugar Free French Vanilla Syrup (Large)\", \"Iced Mocha (Small)\", \"Iced Mocha (Medium)\", \"Iced Mocha (Large)\", \"Iced Mocha with Nonfat Milk (Small)\", \"Iced Mocha with Nonfat Milk (Medium)\", \"Iced Mocha with Nonfat Milk (Large)\", \"Iced Caramel Mocha (Small)\", \"Iced Caramel Mocha (Medium)\", \"Iced Caramel Mocha (Large)\", \"Iced Nonfat Caramel Mocha (Small)\", \"Iced Nonfat Caramel Mocha (Medium)\", \"Iced Nonfat Caramel Mocha (Large)\", \"Frapp\\u00e9 Mocha (Small)\", \"Frapp\\u00e9 Mocha (Medium)\", \"Frapp\\u00e9 Mocha (Large)\", \"Frapp\\u00e9 Caramel (Small)\", \"Frapp\\u00e9 Caramel (Medium)\", \"Frapp\\u00e9 Caramel (Large)\", \"Frapp\\u00e9 Chocolate Chip (Small)\", \"Frapp\\u00e9 Chocolate Chip (Medium)\", \"Frapp\\u00e9 Chocolate Chip (Large)\", \"Blueberry Pomegranate Smoothie (Small)\", \"Blueberry Pomegranate Smoothie (Medium)\", \"Blueberry Pomegranate Smoothie (Large)\", \"Strawberry Banana Smoothie (Small)\", \"Strawberry Banana Smoothie (Medium)\", \"Strawberry Banana Smoothie (Large)\", \"Mango Pineapple Smoothie (Small)\", \"Mango Pineapple Smoothie (Medium)\", \"Mango Pineapple Smoothie (Large)\", \"Vanilla Shake (Small)\", \"Vanilla Shake (Medium)\", \"Vanilla Shake (Large)\", \"Strawberry Shake (Small)\", \"Strawberry Shake (Medium)\", \"Strawberry Shake (Large)\", \"Chocolate Shake (Small)\", \"Chocolate Shake (Medium)\", \"Chocolate Shake (Large)\", \"Shamrock Shake (Medium)\", \"Shamrock Shake (Large)\", \"McFlurry with M&M\\u2019s Candies (Small)\", \"McFlurry with M&M\\u2019s Candies (Medium)\", \"McFlurry with M&M\\u2019s Candies (Snack)\", \"McFlurry with Oreo Cookies (Small)\", \"McFlurry with Oreo Cookies (Medium)\", \"McFlurry with Oreo Cookies (Snack)\", \"McFlurry with Reese's Peanut Butter Cups (Medium)\", \"McFlurry with Reese's Peanut Butter Cups (Snack)\"], \"type\": \"scatter\", \"x\": [\"Egg McMuffin\", \"Egg White Delight\", \"Sausage McMuffin\", \"Sausage McMuffin with Egg\", \"Sausage McMuffin with Egg Whites\", \"Steak & Egg McMuffin\", \"Bacon, Egg & Cheese Biscuit (Regular Biscuit)\", \"Bacon, Egg & Cheese Biscuit (Large Biscuit)\", \"Bacon, Egg & Cheese Biscuit with Egg Whites (Regular Biscuit)\", \"Bacon, Egg & Cheese Biscuit with Egg Whites (Large Biscuit)\", \"Sausage Biscuit (Regular Biscuit)\", \"Sausage Biscuit (Large Biscuit)\", \"Sausage Biscuit with Egg (Regular Biscuit)\", \"Sausage Biscuit with Egg (Large Biscuit)\", \"Sausage Biscuit with Egg Whites (Regular Biscuit)\", \"Sausage Biscuit with Egg Whites (Large Biscuit)\", \"Southern Style Chicken Biscuit (Regular Biscuit)\", \"Southern Style Chicken Biscuit (Large Biscuit)\", \"Steak & Egg Biscuit (Regular Biscuit)\", \"Bacon, Egg & Cheese McGriddles\", \"Bacon, Egg & Cheese McGriddles with Egg Whites\", \"Sausage McGriddles\", \"Sausage, Egg & Cheese McGriddles\", \"Sausage, Egg & Cheese McGriddles with Egg Whites\", \"Bacon, Egg & Cheese Bagel\", \"Bacon, Egg & Cheese Bagel with Egg Whites\", \"Steak, Egg & Cheese Bagel\", \"Big Breakfast (Regular Biscuit)\", \"Big Breakfast (Large Biscuit)\", \"Big Breakfast with Egg Whites (Regular Biscuit)\", \"Big Breakfast with Egg Whites (Large Biscuit)\", \"Big Breakfast with Hotcakes (Regular Biscuit)\", \"Big Breakfast with Hotcakes (Large Biscuit)\", \"Big Breakfast with Hotcakes and Egg Whites (Regular Biscuit)\", \"Big Breakfast with Hotcakes and Egg Whites (Large Biscuit)\", \"Hotcakes\", \"Hotcakes and Sausage\", \"Sausage Burrito\", \"Hash Brown\", \"Cinnamon Melts\", \"Fruit & Maple Oatmeal\", \"Fruit & Maple Oatmeal without Brown Sugar\", \"Big Mac\", \"Quarter Pounder with Cheese\", \"Quarter Pounder with Bacon & Cheese\", \"Quarter Pounder with Bacon Habanero Ranch\", \"Quarter Pounder Deluxe\", \"Double Quarter Pounder with Cheese\", \"Hamburger\", \"Cheeseburger\", \"Double Cheeseburger\", \"Bacon Clubhouse Burger\", \"McDouble\", \"Bacon McDouble\", \"Daily Double\", \"Jalape\\u00f1o Double\", \"McRib\", \"Premium Crispy Chicken Classic Sandwich\", \"Premium Grilled Chicken Classic Sandwich\", \"Premium Crispy Chicken Club Sandwich\", \"Premium Grilled Chicken Club Sandwich\", \"Premium Crispy Chicken Ranch BLT Sandwich\", \"Premium Grilled Chicken Ranch BLT Sandwich\", \"Bacon Clubhouse Crispy Chicken Sandwich\", \"Bacon Clubhouse Grilled Chicken Sandwich\", \"Southern Style Crispy Chicken Sandwich\", \"McChicken\", \"Bacon Cheddar McChicken\", \"Bacon Buffalo Ranch McChicken\", \"Buffalo Ranch McChicken\", \"Premium McWrap Chicken & Bacon (Crispy Chicken)\", \"Premium McWrap Chicken & Bacon (Grilled Chicken)\", \"Premium McWrap Chicken & Ranch (Crispy Chicken)\", \"Premium McWrap Chicken & Ranch (Grilled Chicken)\", \"Premium McWrap Southwest Chicken (Crispy Chicken)\", \"Premium McWrap Southwest Chicken (Grilled Chicken)\", \"Premium McWrap Chicken Sweet Chili (Crispy Chicken)\", \"Premium McWrap Chicken Sweet Chili (Grilled Chicken)\", \"Chicken McNuggets (4 piece)\", \"Chicken McNuggets (6 piece)\", \"Chicken McNuggets (10 piece)\", \"Chicken McNuggets (20 piece)\", \"Chicken McNuggets (40 piece)\", \"Filet-O-Fish\", \"Premium Bacon Ranch Salad (without Chicken)\", \"Premium Bacon Ranch Salad with Crispy Chicken\", \"Premium Bacon Ranch Salad with Grilled Chicken\", \"Premium Southwest Salad (without Chicken)\", \"Premium Southwest Salad with Crispy Chicken\", \"Premium Southwest Salad with Grilled Chicken\", \"Chipotle BBQ Snack Wrap (Crispy Chicken)\", \"Chipotle BBQ Snack Wrap (Grilled Chicken)\", \"Honey Mustard Snack Wrap (Crispy Chicken)\", \"Honey Mustard Snack Wrap (Grilled Chicken)\", \"Ranch Snack Wrap (Crispy Chicken)\", \"Ranch Snack Wrap (Grilled Chicken)\", \"Small French Fries\", \"Medium French Fries\", \"Large French Fries\", \"Kids French Fries\", \"Side Salad\", \"Apple Slices\", \"Fruit 'n Yogurt Parfait\", \"Baked Apple Pie\", \"Chocolate Chip Cookie\", \"Oatmeal Raisin Cookie\", \"Kids Ice Cream Cone\", \"Hot Fudge Sundae\", \"Hot Caramel Sundae\", \"Strawberry Sundae\", \"Coca-Cola Classic (Small)\", \"Coca-Cola Classic (Medium)\", \"Coca-Cola Classic (Large)\", \"Coca-Cola Classic (Child)\", \"Diet Coke (Small)\", \"Diet Coke (Medium)\", \"Diet Coke (Large)\", \"Diet Coke (Child)\", \"Dr Pepper (Small)\", \"Dr Pepper (Medium)\", \"Dr Pepper (Large)\", \"Dr Pepper (Child)\", \"Diet Dr Pepper (Small)\", \"Diet Dr Pepper (Medium)\", \"Diet Dr Pepper (Large)\", \"Diet Dr Pepper (Child)\", \"Sprite (Small)\", \"Sprite (Medium)\", \"Sprite (Large)\", \"Sprite (Child)\", \"1% Low Fat Milk Jug\", \"Fat Free Chocolate Milk Jug\", \"Minute Maid 100% Apple Juice Box\", \"Minute Maid Orange Juice (Small)\", \"Minute Maid Orange Juice (Medium)\", \"Minute Maid Orange Juice (Large)\", \"Dasani Water Bottle\", \"Iced Tea (Small)\", \"Iced Tea (Medium)\", \"Iced Tea (Large)\", \"Iced Tea (Child)\", \"Sweet Tea (Small)\", \"Sweet Tea (Medium)\", \"Sweet Tea (Large)\", \"Sweet Tea (Child)\", \"Coffee (Small)\", \"Coffee (Medium)\", \"Coffee (Large)\", \"Latte (Small)\", \"Latte (Medium)\", \"Latte (Large)\", \"Caramel Latte (Small)\", \"Caramel Latte (Medium)\", \"Caramel Latte (Large)\", \"Hazelnut Latte (Small)\", \"Hazelnut Latte (Medium)\", \"Hazelnut Latte (Large)\", \"French Vanilla Latte (Small)\", \"French Vanilla Latte (Medium)\", \"French Vanilla Latte (Large)\", \"Latte with Sugar Free French Vanilla Syrup (Small)\", \"Latte with Sugar Free French Vanilla Syrup (Medium)\", \"Latte with Sugar Free French Vanilla Syrup (Large)\", \"Nonfat Latte (Small)\", \"Nonfat Latte (Medium)\", \"Nonfat Latte (Large)\", \"Nonfat Caramel Latte (Small)\", \"Nonfat Caramel Latte (Medium)\", \"Nonfat Caramel Latte (Large)\", \"Nonfat Hazelnut Latte (Small)\", \"Nonfat Hazelnut Latte (Medium)\", \"Nonfat Hazelnut Latte (Large)\", \"Nonfat French Vanilla Latte (Small)\", \"Nonfat French Vanilla Latte (Medium)\", \"Nonfat French Vanilla Latte (Large)\", \"Nonfat Latte with Sugar Free French Vanilla Syrup (Small)\", \"Nonfat Latte with Sugar Free French Vanilla Syrup (Medium)\", \"Nonfat Latte with Sugar Free French Vanilla Syrup (Large)\", \"Mocha (Small)\", \"Mocha (Medium)\", \"Mocha (Large)\", \"Mocha with Nonfat Milk (Small)\", \"Mocha with Nonfat Milk (Medium)\", \"Mocha with Nonfat Milk (Large)\", \"Caramel Mocha (Small)\", \"Caramel Mocha (Medium)\", \"Caramel Mocha (Large)\", \"Nonfat Caramel Mocha (Small)\", \"Nonfat Caramel Mocha (Medium)\", \"Nonfat Caramel Mocha (Large)\", \"Hot Chocolate (Small)\", \"Hot Chocolate (Medium)\", \"Hot Chocolate (Large)\", \"Hot Chocolate with Nonfat Milk (Small)\", \"Hot Chocolate with Nonfat Milk (Medium)\", \"Hot Chocolate with Nonfat Milk (Large)\", \"Regular Iced Coffee (Small)\", \"Regular Iced Coffee (Medium)\", \"Regular Iced Coffee (Large)\", \"Caramel Iced Coffee (Small)\", \"Caramel Iced Coffee (Medium)\", \"Caramel Iced Coffee (Large)\", \"Hazelnut Iced Coffee (Small)\", \"Hazelnut Iced Coffee (Medium)\", \"Hazelnut Iced Coffee (Large)\", \"French Vanilla Iced Coffee (Small)\", \"French Vanilla Iced Coffee (Medium)\", \"French Vanilla Iced Coffee (Large)\", \"Iced Coffee with Sugar Free French Vanilla Syrup (Small)\", \"Iced Coffee with Sugar Free French Vanilla Syrup (Medium)\", \"Iced Coffee with Sugar Free French Vanilla Syrup (Large)\", \"Iced Mocha (Small)\", \"Iced Mocha (Medium)\", \"Iced Mocha (Large)\", \"Iced Mocha with Nonfat Milk (Small)\", \"Iced Mocha with Nonfat Milk (Medium)\", \"Iced Mocha with Nonfat Milk (Large)\", \"Iced Caramel Mocha (Small)\", \"Iced Caramel Mocha (Medium)\", \"Iced Caramel Mocha (Large)\", \"Iced Nonfat Caramel Mocha (Small)\", \"Iced Nonfat Caramel Mocha (Medium)\", \"Iced Nonfat Caramel Mocha (Large)\", \"Frapp\\u00e9 Mocha (Small)\", \"Frapp\\u00e9 Mocha (Medium)\", \"Frapp\\u00e9 Mocha (Large)\", \"Frapp\\u00e9 Caramel (Small)\", \"Frapp\\u00e9 Caramel (Medium)\", \"Frapp\\u00e9 Caramel (Large)\", \"Frapp\\u00e9 Chocolate Chip (Small)\", \"Frapp\\u00e9 Chocolate Chip (Medium)\", \"Frapp\\u00e9 Chocolate Chip (Large)\", \"Blueberry Pomegranate Smoothie (Small)\", \"Blueberry Pomegranate Smoothie (Medium)\", \"Blueberry Pomegranate Smoothie (Large)\", \"Strawberry Banana Smoothie (Small)\", \"Strawberry Banana Smoothie (Medium)\", \"Strawberry Banana Smoothie (Large)\", \"Mango Pineapple Smoothie (Small)\", \"Mango Pineapple Smoothie (Medium)\", \"Mango Pineapple Smoothie (Large)\", \"Vanilla Shake (Small)\", \"Vanilla Shake (Medium)\", \"Vanilla Shake (Large)\", \"Strawberry Shake (Small)\", \"Strawberry Shake (Medium)\", \"Strawberry Shake (Large)\", \"Chocolate Shake (Small)\", \"Chocolate Shake (Medium)\", \"Chocolate Shake (Large)\", \"Shamrock Shake (Medium)\", \"Shamrock Shake (Large)\", \"McFlurry with M&M\\u2019s Candies (Small)\", \"McFlurry with M&M\\u2019s Candies (Medium)\", \"McFlurry with M&M\\u2019s Candies (Snack)\", \"McFlurry with Oreo Cookies (Small)\", \"McFlurry with Oreo Cookies (Medium)\", \"McFlurry with Oreo Cookies (Snack)\", \"McFlurry with Reese's Peanut Butter Cups (Medium)\", \"McFlurry with Reese's Peanut Butter Cups (Snack)\"], \"y\": [15, 8, 10, 15, 10, 20, 15, 20, 10, 15, 15, 15, 20, 20, 15, 15, 15, 15, 25, 15, 10, 10, 15, 10, 20, 15, 25, 25, 30, 15, 15, 40, 40, 30, 30, 15, 15, 15, 2, 15, 10, 10, 25, 25, 30, 30, 30, 35, 15, 15, 20, 25, 20, 20, 20, 20, 20, 20, 20, 20, 20, 20, 20, 15, 15, 15, 15, 15, 15, 15, 20, 20, 20, 20, 20, 20, 20, 20, 2, 4, 6, 10, 25, 10, 6, 8, 8, 10, 15, 15, 10, 10, 10, 10, 10, 10, 4, 4, 8, 2, 4, 0, 4, 6, 8, 6, 0, 8, 0, 0, 0, 0, 0, 0, 0, 0, 0, 0, 0, 0, 0, 0, 0, 0, 0, 0, 0, 0, 0, 0, 0, 8, 0, 0, 0, 0, 0, 0, 0, 0, 0, 0, 0, 0, 0, 0, 0, 0, 0, 0, 2, 0, 0, 2, 0, 0, 2, 0, 2, 2, 0, 0, 2, 0, 0, 2, 0, 0, 2, 0, 0, 2, 0, 2, 2, 0, 0, 2, 6, 6, 8, 6, 6, 8, 2, 2, 4, 2, 2, 4, 6, 6, 8, 6, 6, 8, 0, 0, 0, 0, 0, 0, 0, 0, 0, 0, 0, 0, 0, 0, 0, 4, 6, 8, 4, 6, 8, 2, 2, 4, 2, 2, 4, 4, 4, 4, 2, 2, 2, 4, 4, 6, 2, 2, 2, 2, 4, 4, 2, 2, 2, 0, 0, 0, 0, 0, 0, 8, 10, 15, 0, 0, 8, 10, 4, 8, 10, 6, 6, 4]}],\n",
       "                        {\"autosize\": true, \"hovermode\": \"closest\", \"showlegend\": false, \"template\": {\"data\": {\"bar\": [{\"error_x\": {\"color\": \"#2a3f5f\"}, \"error_y\": {\"color\": \"#2a3f5f\"}, \"marker\": {\"line\": {\"color\": \"#E5ECF6\", \"width\": 0.5}}, \"type\": \"bar\"}], \"barpolar\": [{\"marker\": {\"line\": {\"color\": \"#E5ECF6\", \"width\": 0.5}}, \"type\": \"barpolar\"}], \"carpet\": [{\"aaxis\": {\"endlinecolor\": \"#2a3f5f\", \"gridcolor\": \"white\", \"linecolor\": \"white\", \"minorgridcolor\": \"white\", \"startlinecolor\": \"#2a3f5f\"}, \"baxis\": {\"endlinecolor\": \"#2a3f5f\", \"gridcolor\": \"white\", \"linecolor\": \"white\", \"minorgridcolor\": \"white\", \"startlinecolor\": \"#2a3f5f\"}, \"type\": \"carpet\"}], \"choropleth\": [{\"colorbar\": {\"outlinewidth\": 0, \"ticks\": \"\"}, \"type\": \"choropleth\"}], \"contour\": [{\"colorbar\": {\"outlinewidth\": 0, \"ticks\": \"\"}, \"colorscale\": [[0.0, \"#0d0887\"], [0.1111111111111111, \"#46039f\"], [0.2222222222222222, \"#7201a8\"], [0.3333333333333333, \"#9c179e\"], [0.4444444444444444, \"#bd3786\"], [0.5555555555555556, \"#d8576b\"], [0.6666666666666666, \"#ed7953\"], [0.7777777777777778, \"#fb9f3a\"], [0.8888888888888888, \"#fdca26\"], [1.0, \"#f0f921\"]], \"type\": \"contour\"}], \"contourcarpet\": [{\"colorbar\": {\"outlinewidth\": 0, \"ticks\": \"\"}, \"type\": \"contourcarpet\"}], \"heatmap\": [{\"colorbar\": {\"outlinewidth\": 0, \"ticks\": \"\"}, \"colorscale\": [[0.0, \"#0d0887\"], [0.1111111111111111, \"#46039f\"], [0.2222222222222222, \"#7201a8\"], [0.3333333333333333, \"#9c179e\"], [0.4444444444444444, \"#bd3786\"], [0.5555555555555556, \"#d8576b\"], [0.6666666666666666, \"#ed7953\"], [0.7777777777777778, \"#fb9f3a\"], [0.8888888888888888, \"#fdca26\"], [1.0, \"#f0f921\"]], \"type\": \"heatmap\"}], \"heatmapgl\": [{\"colorbar\": {\"outlinewidth\": 0, \"ticks\": \"\"}, \"colorscale\": [[0.0, \"#0d0887\"], [0.1111111111111111, \"#46039f\"], [0.2222222222222222, \"#7201a8\"], [0.3333333333333333, \"#9c179e\"], [0.4444444444444444, \"#bd3786\"], [0.5555555555555556, \"#d8576b\"], [0.6666666666666666, \"#ed7953\"], [0.7777777777777778, \"#fb9f3a\"], [0.8888888888888888, \"#fdca26\"], [1.0, \"#f0f921\"]], \"type\": \"heatmapgl\"}], \"histogram\": [{\"marker\": {\"colorbar\": {\"outlinewidth\": 0, \"ticks\": \"\"}}, \"type\": \"histogram\"}], \"histogram2d\": [{\"colorbar\": {\"outlinewidth\": 0, \"ticks\": \"\"}, \"colorscale\": [[0.0, \"#0d0887\"], [0.1111111111111111, \"#46039f\"], [0.2222222222222222, \"#7201a8\"], [0.3333333333333333, \"#9c179e\"], [0.4444444444444444, \"#bd3786\"], [0.5555555555555556, \"#d8576b\"], [0.6666666666666666, \"#ed7953\"], [0.7777777777777778, \"#fb9f3a\"], [0.8888888888888888, \"#fdca26\"], [1.0, \"#f0f921\"]], \"type\": \"histogram2d\"}], \"histogram2dcontour\": [{\"colorbar\": {\"outlinewidth\": 0, \"ticks\": \"\"}, \"colorscale\": [[0.0, \"#0d0887\"], [0.1111111111111111, \"#46039f\"], [0.2222222222222222, \"#7201a8\"], [0.3333333333333333, \"#9c179e\"], [0.4444444444444444, \"#bd3786\"], [0.5555555555555556, \"#d8576b\"], [0.6666666666666666, \"#ed7953\"], [0.7777777777777778, \"#fb9f3a\"], [0.8888888888888888, \"#fdca26\"], [1.0, \"#f0f921\"]], \"type\": \"histogram2dcontour\"}], \"mesh3d\": [{\"colorbar\": {\"outlinewidth\": 0, \"ticks\": \"\"}, \"type\": \"mesh3d\"}], \"parcoords\": [{\"line\": {\"colorbar\": {\"outlinewidth\": 0, \"ticks\": \"\"}}, \"type\": \"parcoords\"}], \"pie\": [{\"automargin\": true, \"type\": \"pie\"}], \"scatter\": [{\"marker\": {\"colorbar\": {\"outlinewidth\": 0, \"ticks\": \"\"}}, \"type\": \"scatter\"}], \"scatter3d\": [{\"line\": {\"colorbar\": {\"outlinewidth\": 0, \"ticks\": \"\"}}, \"marker\": {\"colorbar\": {\"outlinewidth\": 0, \"ticks\": \"\"}}, \"type\": \"scatter3d\"}], \"scattercarpet\": [{\"marker\": {\"colorbar\": {\"outlinewidth\": 0, \"ticks\": \"\"}}, \"type\": \"scattercarpet\"}], \"scattergeo\": [{\"marker\": {\"colorbar\": {\"outlinewidth\": 0, \"ticks\": \"\"}}, \"type\": \"scattergeo\"}], \"scattergl\": [{\"marker\": {\"colorbar\": {\"outlinewidth\": 0, \"ticks\": \"\"}}, \"type\": \"scattergl\"}], \"scattermapbox\": [{\"marker\": {\"colorbar\": {\"outlinewidth\": 0, \"ticks\": \"\"}}, \"type\": \"scattermapbox\"}], \"scatterpolar\": [{\"marker\": {\"colorbar\": {\"outlinewidth\": 0, \"ticks\": \"\"}}, \"type\": \"scatterpolar\"}], \"scatterpolargl\": [{\"marker\": {\"colorbar\": {\"outlinewidth\": 0, \"ticks\": \"\"}}, \"type\": \"scatterpolargl\"}], \"scatterternary\": [{\"marker\": {\"colorbar\": {\"outlinewidth\": 0, \"ticks\": \"\"}}, \"type\": \"scatterternary\"}], \"surface\": [{\"colorbar\": {\"outlinewidth\": 0, \"ticks\": \"\"}, \"colorscale\": [[0.0, \"#0d0887\"], [0.1111111111111111, \"#46039f\"], [0.2222222222222222, \"#7201a8\"], [0.3333333333333333, \"#9c179e\"], [0.4444444444444444, \"#bd3786\"], [0.5555555555555556, \"#d8576b\"], [0.6666666666666666, \"#ed7953\"], [0.7777777777777778, \"#fb9f3a\"], [0.8888888888888888, \"#fdca26\"], [1.0, \"#f0f921\"]], \"type\": \"surface\"}], \"table\": [{\"cells\": {\"fill\": {\"color\": \"#EBF0F8\"}, \"line\": {\"color\": \"white\"}}, \"header\": {\"fill\": {\"color\": \"#C8D4E3\"}, \"line\": {\"color\": \"white\"}}, \"type\": \"table\"}]}, \"layout\": {\"annotationdefaults\": {\"arrowcolor\": \"#2a3f5f\", \"arrowhead\": 0, \"arrowwidth\": 1}, \"coloraxis\": {\"colorbar\": {\"outlinewidth\": 0, \"ticks\": \"\"}}, \"colorscale\": {\"diverging\": [[0, \"#8e0152\"], [0.1, \"#c51b7d\"], [0.2, \"#de77ae\"], [0.3, \"#f1b6da\"], [0.4, \"#fde0ef\"], [0.5, \"#f7f7f7\"], [0.6, \"#e6f5d0\"], [0.7, \"#b8e186\"], [0.8, \"#7fbc41\"], [0.9, \"#4d9221\"], [1, \"#276419\"]], \"sequential\": [[0.0, \"#0d0887\"], [0.1111111111111111, \"#46039f\"], [0.2222222222222222, \"#7201a8\"], [0.3333333333333333, \"#9c179e\"], [0.4444444444444444, \"#bd3786\"], [0.5555555555555556, \"#d8576b\"], [0.6666666666666666, \"#ed7953\"], [0.7777777777777778, \"#fb9f3a\"], [0.8888888888888888, \"#fdca26\"], [1.0, \"#f0f921\"]], \"sequentialminus\": [[0.0, \"#0d0887\"], [0.1111111111111111, \"#46039f\"], [0.2222222222222222, \"#7201a8\"], [0.3333333333333333, \"#9c179e\"], [0.4444444444444444, \"#bd3786\"], [0.5555555555555556, \"#d8576b\"], [0.6666666666666666, \"#ed7953\"], [0.7777777777777778, \"#fb9f3a\"], [0.8888888888888888, \"#fdca26\"], [1.0, \"#f0f921\"]]}, \"colorway\": [\"#636efa\", \"#EF553B\", \"#00cc96\", \"#ab63fa\", \"#FFA15A\", \"#19d3f3\", \"#FF6692\", \"#B6E880\", \"#FF97FF\", \"#FECB52\"], \"font\": {\"color\": \"#2a3f5f\"}, \"geo\": {\"bgcolor\": \"white\", \"lakecolor\": \"white\", \"landcolor\": \"#E5ECF6\", \"showlakes\": true, \"showland\": true, \"subunitcolor\": \"white\"}, \"hoverlabel\": {\"align\": \"left\"}, \"hovermode\": \"closest\", \"mapbox\": {\"style\": \"light\"}, \"paper_bgcolor\": \"white\", \"plot_bgcolor\": \"#E5ECF6\", \"polar\": {\"angularaxis\": {\"gridcolor\": \"white\", \"linecolor\": \"white\", \"ticks\": \"\"}, \"bgcolor\": \"#E5ECF6\", \"radialaxis\": {\"gridcolor\": \"white\", \"linecolor\": \"white\", \"ticks\": \"\"}}, \"scene\": {\"xaxis\": {\"backgroundcolor\": \"#E5ECF6\", \"gridcolor\": \"white\", \"gridwidth\": 2, \"linecolor\": \"white\", \"showbackground\": true, \"ticks\": \"\", \"zerolinecolor\": \"white\"}, \"yaxis\": {\"backgroundcolor\": \"#E5ECF6\", \"gridcolor\": \"white\", \"gridwidth\": 2, \"linecolor\": \"white\", \"showbackground\": true, \"ticks\": \"\", \"zerolinecolor\": \"white\"}, \"zaxis\": {\"backgroundcolor\": \"#E5ECF6\", \"gridcolor\": \"white\", \"gridwidth\": 2, \"linecolor\": \"white\", \"showbackground\": true, \"ticks\": \"\", \"zerolinecolor\": \"white\"}}, \"shapedefaults\": {\"line\": {\"color\": \"#2a3f5f\"}}, \"ternary\": {\"aaxis\": {\"gridcolor\": \"white\", \"linecolor\": \"white\", \"ticks\": \"\"}, \"baxis\": {\"gridcolor\": \"white\", \"linecolor\": \"white\", \"ticks\": \"\"}, \"bgcolor\": \"#E5ECF6\", \"caxis\": {\"gridcolor\": \"white\", \"linecolor\": \"white\", \"ticks\": \"\"}}, \"title\": {\"x\": 0.05}, \"xaxis\": {\"automargin\": true, \"gridcolor\": \"white\", \"linecolor\": \"white\", \"ticks\": \"\", \"title\": {\"standoff\": 15}, \"zerolinecolor\": \"white\", \"zerolinewidth\": 2}, \"yaxis\": {\"automargin\": true, \"gridcolor\": \"white\", \"linecolor\": \"white\", \"ticks\": \"\", \"title\": {\"standoff\": 15}, \"zerolinecolor\": \"white\", \"zerolinewidth\": 2}}}, \"title\": {\"text\": \"Scatter plot of Iron (% Daily Value) per Item on the Menu\"}, \"xaxis\": {\"showgrid\": false, \"showline\": false, \"zeroline\": false}, \"yaxis\": {\"gridwidth\": 2, \"showgrid\": false, \"showline\": false, \"ticklen\": 5, \"title\": {\"text\": \"Iron (% Daily Value)\"}, \"zeroline\": false}},\n",
       "                        {\"responsive\": true}\n",
       "                    ).then(function(){\n",
       "                            \n",
       "var gd = document.getElementById('5e6264b5-5f09-4783-82e0-8dd6db5905e0');\n",
       "var x = new MutationObserver(function (mutations, observer) {{\n",
       "        var display = window.getComputedStyle(gd).display;\n",
       "        if (!display || display === 'none') {{\n",
       "            console.log([gd, 'removed!']);\n",
       "            Plotly.purge(gd);\n",
       "            observer.disconnect();\n",
       "        }}\n",
       "}});\n",
       "\n",
       "// Listen for the removal of the full notebook cells\n",
       "var notebookContainer = gd.closest('#notebook-container');\n",
       "if (notebookContainer) {{\n",
       "    x.observe(notebookContainer, {childList: true});\n",
       "}}\n",
       "\n",
       "// Listen for the clearing of the current output cell\n",
       "var outputEl = gd.closest('.output');\n",
       "if (outputEl) {{\n",
       "    x.observe(outputEl, {childList: true});\n",
       "}}\n",
       "\n",
       "                        })\n",
       "                };\n",
       "                });\n",
       "            </script>\n",
       "        </div>"
      ]
     },
     "metadata": {},
     "output_type": "display_data"
    }
   ],
   "source": [
    "trace = go.Scatter(\n",
    "    y = data['Dietary Fiber (% Daily Value)'].values,\n",
    "    x = data['Item'].values,\n",
    "    mode='markers',\n",
    "    marker=dict(\n",
    "        size= data['Dietary Fiber (% Daily Value)'].values,\n",
    "        #color = np.random.randn(500), #set color equal to a variable\n",
    "        color = data['Dietary Fiber (% Daily Value)'].values,\n",
    "        colorscale='Portland',\n",
    "        reversescale = True,\n",
    "        showscale=True\n",
    "    ),\n",
    "    text = data['Item'].values\n",
    ")\n",
    "data1 = [trace]\n",
    "\n",
    "layout= go.Layout(\n",
    "    autosize= True,\n",
    "    title= 'Scatter plot of Dietary Fiber (% Daily Value) per Item on the Menu',\n",
    "    hovermode= 'closest',\n",
    "        xaxis=dict(\n",
    "        showgrid=False,\n",
    "        zeroline=False,\n",
    "        showline=False\n",
    "    ),\n",
    "    yaxis=dict(\n",
    "        title= 'Dietary Fiber (% Daily Value)',\n",
    "        ticklen= 5,\n",
    "        gridwidth= 2,\n",
    "        showgrid=False,\n",
    "        zeroline=False,\n",
    "        showline=False,\n",
    "    ),\n",
    "    showlegend= False\n",
    ")\n",
    "fig = go.Figure(data=data1, layout=layout)\n",
    "py.iplot(fig,filename='scatterChol')\n",
    "\n",
    "# Calcium Scatter plots\n",
    "trace = go.Scatter(\n",
    "    y = data['Calcium (% Daily Value)'].values,\n",
    "    x = data['Item'].values,\n",
    "    mode='markers',\n",
    "    marker=dict(\n",
    "        size= data['Calcium (% Daily Value)'].values,\n",
    "        #color = np.random.randn(500), #set color equal to a variable\n",
    "        color = data['Calcium (% Daily Value)'].values,\n",
    "        colorscale='Portland',\n",
    "        reversescale = True,\n",
    "        showscale=True\n",
    "    ),\n",
    "    text = data['Item'].values\n",
    ")\n",
    "data2 = [trace]\n",
    "\n",
    "layout= go.Layout(\n",
    "    autosize= True,\n",
    "    title= 'Scatter plot of Calcium (% Daily Value) per Item on the Menu',\n",
    "    hovermode= 'closest',\n",
    "        xaxis=dict(\n",
    "        showgrid=False,\n",
    "        zeroline=False,\n",
    "        showline=False\n",
    "    ),\n",
    "    yaxis=dict(\n",
    "        title= 'Calcium (% Daily Value)',\n",
    "        ticklen= 5,\n",
    "        gridwidth= 2,\n",
    "        showgrid=False,\n",
    "        zeroline=False,\n",
    "        showline=False,\n",
    "    ),\n",
    "    showlegend= False\n",
    ")\n",
    "fig = go.Figure(data=data2, layout=layout)\n",
    "py.iplot(fig,filename='scatterChol')\n",
    "\n",
    "# Iron Scatter plots\n",
    "trace = go.Scatter(\n",
    "    y = data['Iron (% Daily Value)'].values,\n",
    "    x = data['Item'].values,\n",
    "    mode='markers',\n",
    "    marker=dict(\n",
    "        size= data['Iron (% Daily Value)'].values,\n",
    "        #color = np.random.randn(500), #set color equal to a variable\n",
    "        color = data['Iron (% Daily Value)'].values,\n",
    "        colorscale='Portland',\n",
    "        reversescale = True,\n",
    "        showscale=True\n",
    "    ),\n",
    "    text = data['Item'].values\n",
    ")\n",
    "data3 = [trace]\n",
    "\n",
    "layout= go.Layout(\n",
    "    autosize= True,\n",
    "    title= 'Scatter plot of Iron (% Daily Value) per Item on the Menu',\n",
    "    hovermode= 'closest',\n",
    "        xaxis=dict(\n",
    "        showgrid=False,\n",
    "        zeroline=False,\n",
    "        showline=False\n",
    "    ),\n",
    "    yaxis=dict(\n",
    "        title= 'Iron (% Daily Value)',\n",
    "        ticklen= 5,\n",
    "        gridwidth= 2,\n",
    "        showgrid=False,\n",
    "        zeroline=False,\n",
    "        showline=False,\n",
    "    ),\n",
    "    showlegend= False\n",
    ")\n",
    "fig = go.Figure(data=data3, layout=layout)\n",
    "py.iplot(fig,filename='scatterChol')"
   ]
  },
  {
   "cell_type": "code",
   "execution_count": null,
   "metadata": {},
   "outputs": [],
   "source": []
  },
  {
   "cell_type": "markdown",
   "metadata": {},
   "source": [
    "### Interactive Barplots of Calorie content per food item\n",
    "\n",
    "Finally to close out this section on analysing the nutritional content per item on the menu, let us generate some barplots. Since calories seems to be quite a sticking point with health guidelines and people in general, it may be informative to plot calorific plots for each food item in this dataset just to give readers a general overview of what each item on the MacDonald's menu entails.\n",
    "\n",
    "In this plot, I will play around with some of Plotly's statistical plots which give it a Seaborn-type feel to the plots while keeping the interactivity. First we identify the column containing the calorie values and sort them as follows:\n"
   ]
  },
  {
   "cell_type": "code",
   "execution_count": 30,
   "metadata": {},
   "outputs": [],
   "source": [
    "x, y = (list(x) for x in zip(*sorted(zip(data.Calories.values, data.Item.values), reverse = False)))\n"
   ]
  },
  {
   "cell_type": "code",
   "execution_count": 31,
   "metadata": {},
   "outputs": [
    {
     "data": {
      "text/plain": [
       "['Coffee (Large)',\n",
       " 'Coffee (Medium)',\n",
       " 'Coffee (Small)',\n",
       " 'Dasani Water Bottle',\n",
       " 'Diet Coke (Child)',\n",
       " 'Diet Coke (Large)',\n",
       " 'Diet Coke (Medium)',\n",
       " 'Diet Coke (Small)',\n",
       " 'Diet Dr Pepper (Child)',\n",
       " 'Diet Dr Pepper (Large)',\n",
       " 'Diet Dr Pepper (Medium)',\n",
       " 'Diet Dr Pepper (Small)',\n",
       " 'Iced Tea (Child)',\n",
       " 'Iced Tea (Large)',\n",
       " 'Iced Tea (Medium)',\n",
       " 'Iced Tea (Small)',\n",
       " 'Apple Slices',\n",
       " 'Side Salad',\n",
       " 'Kids Ice Cream Cone',\n",
       " 'Iced Coffee with Sugar Free French Vanilla Syrup (Small)',\n",
       " 'Minute Maid 100% Apple Juice Box',\n",
       " '1% Low Fat Milk Jug',\n",
       " 'Coca-Cola Classic (Child)',\n",
       " 'Dr Pepper (Child)',\n",
       " 'Nonfat Latte (Small)',\n",
       " 'Sprite (Child)',\n",
       " 'Kids French Fries',\n",
       " 'Sweet Tea (Child)',\n",
       " 'French Vanilla Iced Coffee (Small)',\n",
       " 'Iced Coffee with Sugar Free French Vanilla Syrup (Medium)',\n",
       " 'Caramel Iced Coffee (Small)',\n",
       " 'Fat Free Chocolate Milk Jug',\n",
       " 'Hazelnut Iced Coffee (Small)',\n",
       " 'Nonfat Latte (Medium)',\n",
       " 'Coca-Cola Classic (Small)',\n",
       " 'Dr Pepper (Small)',\n",
       " 'Nonfat Latte with Sugar Free French Vanilla Syrup (Small)',\n",
       " 'Premium Bacon Ranch Salad (without Chicken)',\n",
       " 'Premium Southwest Salad (without Chicken)',\n",
       " 'Regular Iced Coffee (Small)',\n",
       " 'Sprite (Small)',\n",
       " \"Fruit 'n Yogurt Parfait\",\n",
       " 'Hash Brown',\n",
       " 'Minute Maid Orange Juice (Small)',\n",
       " 'Oatmeal Raisin Cookie',\n",
       " 'Sweet Tea (Small)',\n",
       " 'Chocolate Chip Cookie',\n",
       " 'Iced Coffee with Sugar Free French Vanilla Syrup (Large)',\n",
       " 'French Vanilla Iced Coffee (Medium)',\n",
       " 'Latte (Small)',\n",
       " 'Nonfat Latte (Large)',\n",
       " 'Nonfat Latte with Sugar Free French Vanilla Syrup (Medium)',\n",
       " 'Caramel Iced Coffee (Medium)',\n",
       " 'Hazelnut Iced Coffee (Medium)',\n",
       " 'Sweet Tea (Medium)',\n",
       " 'Chicken McNuggets (4 piece)',\n",
       " 'Dr Pepper (Medium)',\n",
       " 'Minute Maid Orange Juice (Medium)',\n",
       " 'Nonfat French Vanilla Latte (Small)',\n",
       " 'Regular Iced Coffee (Medium)',\n",
       " 'Coca-Cola Classic (Medium)',\n",
       " 'Nonfat Caramel Latte (Small)',\n",
       " 'Nonfat Hazelnut Latte (Small)',\n",
       " 'Sprite (Medium)',\n",
       " 'Latte (Medium)',\n",
       " 'Latte with Sugar Free French Vanilla Syrup (Small)',\n",
       " 'Mango Pineapple Smoothie (Small)',\n",
       " 'Strawberry Banana Smoothie (Small)',\n",
       " 'Blueberry Pomegranate Smoothie (Small)',\n",
       " 'Nonfat Latte with Sugar Free French Vanilla Syrup (Large)',\n",
       " 'Premium Bacon Ranch Salad with Grilled Chicken',\n",
       " 'Sweet Tea (Large)',\n",
       " 'Iced Nonfat Caramel Mocha (Small)',\n",
       " 'Small French Fries',\n",
       " 'French Vanilla Iced Coffee (Large)',\n",
       " 'Hamburger',\n",
       " 'Iced Mocha with Nonfat Milk (Small)',\n",
       " 'Nonfat French Vanilla Latte (Medium)',\n",
       " 'Baked Apple Pie',\n",
       " 'Egg White Delight',\n",
       " 'Hazelnut Iced Coffee (Large)',\n",
       " 'Honey Mustard Snack Wrap (Grilled Chicken)',\n",
       " 'Nonfat Caramel Latte (Medium)',\n",
       " 'Nonfat Caramel Mocha (Small)',\n",
       " 'Nonfat Hazelnut Latte (Medium)',\n",
       " 'Strawberry Banana Smoothie (Medium)',\n",
       " 'Blueberry Pomegranate Smoothie (Medium)',\n",
       " 'Caramel Iced Coffee (Large)',\n",
       " 'Chipotle BBQ Snack Wrap (Grilled Chicken)',\n",
       " 'French Vanilla Latte (Small)',\n",
       " 'Fruit & Maple Oatmeal without Brown Sugar',\n",
       " 'Latte with Sugar Free French Vanilla Syrup (Medium)',\n",
       " 'Mango Pineapple Smoothie (Medium)',\n",
       " 'Caramel Latte (Small)',\n",
       " 'Dr Pepper (Large)',\n",
       " 'Hazelnut Latte (Small)',\n",
       " 'Iced Nonfat Caramel Mocha (Medium)',\n",
       " 'Mocha with Nonfat Milk (Small)',\n",
       " 'Regular Iced Coffee (Large)',\n",
       " 'Chicken McNuggets (6 piece)',\n",
       " 'Coca-Cola Classic (Large)',\n",
       " 'Hot Chocolate with Nonfat Milk (Small)',\n",
       " 'Iced Caramel Mocha (Small)',\n",
       " 'Latte (Large)',\n",
       " 'Minute Maid Orange Juice (Large)',\n",
       " 'Ranch Snack Wrap (Grilled Chicken)',\n",
       " 'Sprite (Large)',\n",
       " 'Strawberry Sundae',\n",
       " 'Cheeseburger',\n",
       " 'Fruit & Maple Oatmeal',\n",
       " 'Iced Mocha (Small)',\n",
       " 'Iced Mocha with Nonfat Milk (Medium)',\n",
       " 'Premium Southwest Salad with Grilled Chicken',\n",
       " 'Egg McMuffin',\n",
       " 'Nonfat French Vanilla Latte (Large)',\n",
       " 'Sausage Burrito',\n",
       " 'Nonfat Caramel Latte (Large)',\n",
       " 'Nonfat Caramel Mocha (Medium)',\n",
       " 'Nonfat Hazelnut Latte (Large)',\n",
       " 'Caramel Mocha (Small)',\n",
       " 'French Vanilla Latte (Medium)',\n",
       " 'Hazelnut Latte (Medium)',\n",
       " 'Honey Mustard Snack Wrap (Crispy Chicken)',\n",
       " 'Hot Fudge Sundae',\n",
       " 'Latte with Sugar Free French Vanilla Syrup (Large)',\n",
       " 'Mocha with Nonfat Milk (Medium)',\n",
       " 'Strawberry Banana Smoothie (Large)',\n",
       " 'Blueberry Pomegranate Smoothie (Large)',\n",
       " 'Caramel Latte (Medium)',\n",
       " 'Chipotle BBQ Snack Wrap (Crispy Chicken)',\n",
       " 'Hot Caramel Sundae',\n",
       " 'Hot Chocolate with Nonfat Milk (Medium)',\n",
       " 'Iced Caramel Mocha (Medium)',\n",
       " 'Mango Pineapple Smoothie (Large)',\n",
       " 'McFlurry with Oreo Cookies (Snack)',\n",
       " 'Medium French Fries',\n",
       " 'Mocha (Small)',\n",
       " 'Hotcakes',\n",
       " 'Iced Mocha (Medium)',\n",
       " 'Premium Grilled Chicken Classic Sandwich',\n",
       " 'Buffalo Ranch McChicken',\n",
       " 'Hot Chocolate (Small)',\n",
       " 'McChicken',\n",
       " 'Ranch Snack Wrap (Crispy Chicken)',\n",
       " 'Iced Nonfat Caramel Mocha (Large)',\n",
       " 'Nonfat Caramel Mocha (Large)',\n",
       " 'Sausage McMuffin',\n",
       " 'McDouble',\n",
       " 'Premium Bacon Ranch Salad with Crispy Chicken',\n",
       " 'Premium McWrap Chicken Sweet Chili (Grilled Chicken)',\n",
       " 'Caramel Mocha (Medium)',\n",
       " 'Filet-O-Fish',\n",
       " 'Iced Mocha with Nonfat Milk (Large)',\n",
       " 'Mocha with Nonfat Milk (Large)',\n",
       " 'Bacon, Egg & Cheese McGriddles with Egg Whites',\n",
       " 'Hot Chocolate with Nonfat Milk (Large)',\n",
       " 'Sausage McMuffin with Egg Whites',\n",
       " 'Bacon, Egg & Cheese Biscuit with Egg Whites (Regular Biscuit)',\n",
       " \"McFlurry with Reese's Peanut Butter Cups (Snack)\",\n",
       " 'Mocha (Medium)',\n",
       " 'Southern Style Chicken Biscuit (Regular Biscuit)',\n",
       " 'French Vanilla Latte (Large)',\n",
       " 'Sausage McGriddles',\n",
       " 'Bacon Buffalo Ranch McChicken',\n",
       " 'Caramel Latte (Large)',\n",
       " 'Daily Double',\n",
       " 'Double Cheeseburger',\n",
       " 'Hazelnut Latte (Large)',\n",
       " 'Jalapeño Double',\n",
       " 'McFlurry with M&M’s Candies (Snack)',\n",
       " 'Sausage Biscuit (Regular Biscuit)',\n",
       " 'Southern Style Crispy Chicken Sandwich',\n",
       " 'Steak & Egg McMuffin',\n",
       " 'Bacon McDouble',\n",
       " 'Hot Chocolate (Medium)',\n",
       " 'Frappé Caramel (Small)',\n",
       " 'Frappé Mocha (Small)',\n",
       " 'Premium Grilled Chicken Ranch BLT Sandwich',\n",
       " 'Premium McWrap Chicken & Ranch (Grilled Chicken)',\n",
       " 'Premium Southwest Salad with Crispy Chicken',\n",
       " 'Sausage McMuffin with Egg',\n",
       " 'Bacon, Egg & Cheese Biscuit (Regular Biscuit)',\n",
       " 'Bacon, Egg & Cheese McGriddles',\n",
       " 'Cinnamon Melts',\n",
       " 'Iced Caramel Mocha (Large)',\n",
       " 'Sausage Biscuit with Egg Whites (Regular Biscuit)',\n",
       " 'Bacon, Egg & Cheese Biscuit with Egg Whites (Large Biscuit)',\n",
       " 'Chicken McNuggets (10 piece)',\n",
       " 'Southern Style Chicken Biscuit (Large Biscuit)',\n",
       " 'Bacon Cheddar McChicken',\n",
       " 'Caramel Mocha (Large)',\n",
       " 'Iced Mocha (Large)',\n",
       " 'Premium McWrap Chicken & Bacon (Grilled Chicken)',\n",
       " 'Sausage Biscuit (Large Biscuit)',\n",
       " 'McRib',\n",
       " 'Mocha (Large)',\n",
       " 'Sausage, Egg & Cheese McGriddles with Egg Whites',\n",
       " 'Large French Fries',\n",
       " 'McFlurry with Oreo Cookies (Small)',\n",
       " 'Premium Crispy Chicken Classic Sandwich',\n",
       " 'Premium Grilled Chicken Club Sandwich',\n",
       " 'Sausage Biscuit with Egg (Regular Biscuit)',\n",
       " 'Bacon, Egg & Cheese Biscuit (Large Biscuit)',\n",
       " 'Hotcakes and Sausage',\n",
       " 'Premium McWrap Southwest Chicken (Grilled Chicken)',\n",
       " 'Quarter Pounder with Cheese',\n",
       " 'Sausage Biscuit with Egg Whites (Large Biscuit)',\n",
       " 'Big Mac',\n",
       " 'Frappé Chocolate Chip (Small)',\n",
       " 'Vanilla Shake (Small)',\n",
       " 'Hot Chocolate (Large)',\n",
       " 'Premium McWrap Chicken Sweet Chili (Crispy Chicken)',\n",
       " 'Quarter Pounder Deluxe',\n",
       " 'Steak & Egg Biscuit (Regular Biscuit)',\n",
       " 'Frappé Caramel (Medium)',\n",
       " 'Frappé Mocha (Medium)',\n",
       " 'Sausage, Egg & Cheese McGriddles',\n",
       " 'Strawberry Shake (Small)',\n",
       " 'Chocolate Shake (Small)',\n",
       " 'Bacon, Egg & Cheese Bagel with Egg Whites',\n",
       " 'Sausage Biscuit with Egg (Large Biscuit)',\n",
       " 'Bacon Clubhouse Grilled Chicken Sandwich',\n",
       " 'Quarter Pounder with Bacon & Cheese',\n",
       " 'Premium Crispy Chicken Ranch BLT Sandwich',\n",
       " 'Premium McWrap Chicken & Ranch (Crispy Chicken)',\n",
       " 'Quarter Pounder with Bacon Habanero Ranch',\n",
       " 'Bacon, Egg & Cheese Bagel',\n",
       " 'Frappé Chocolate Chip (Medium)',\n",
       " 'Premium McWrap Chicken & Bacon (Crispy Chicken)',\n",
       " 'Big Breakfast with Egg Whites (Regular Biscuit)',\n",
       " 'McFlurry with M&M’s Candies (Small)',\n",
       " 'Shamrock Shake (Medium)',\n",
       " 'Vanilla Shake (Medium)',\n",
       " 'Frappé Caramel (Large)',\n",
       " 'Frappé Mocha (Large)',\n",
       " 'Premium Crispy Chicken Club Sandwich',\n",
       " 'Premium McWrap Southwest Chicken (Crispy Chicken)',\n",
       " 'Steak, Egg & Cheese Bagel',\n",
       " 'Big Breakfast with Egg Whites (Large Biscuit)',\n",
       " 'McFlurry with Oreo Cookies (Medium)',\n",
       " 'Strawberry Shake (Medium)',\n",
       " 'Chocolate Shake (Medium)',\n",
       " 'Bacon Clubhouse Burger',\n",
       " 'Big Breakfast (Regular Biscuit)',\n",
       " 'Bacon Clubhouse Crispy Chicken Sandwich',\n",
       " 'Double Quarter Pounder with Cheese',\n",
       " 'Frappé Chocolate Chip (Large)',\n",
       " 'Big Breakfast (Large Biscuit)',\n",
       " \"McFlurry with Reese's Peanut Butter Cups (Medium)\",\n",
       " 'Shamrock Shake (Large)',\n",
       " 'Vanilla Shake (Large)',\n",
       " 'Chocolate Shake (Large)',\n",
       " 'Strawberry Shake (Large)',\n",
       " 'McFlurry with M&M’s Candies (Medium)',\n",
       " 'Chicken McNuggets (20 piece)',\n",
       " 'Big Breakfast with Hotcakes and Egg Whites (Regular Biscuit)',\n",
       " 'Big Breakfast with Hotcakes and Egg Whites (Large Biscuit)',\n",
       " 'Big Breakfast with Hotcakes (Regular Biscuit)',\n",
       " 'Big Breakfast with Hotcakes (Large Biscuit)',\n",
       " 'Chicken McNuggets (40 piece)']"
      ]
     },
     "execution_count": 31,
     "metadata": {},
     "output_type": "execute_result"
    }
   ],
   "source": [
    "y"
   ]
  },
  {
   "cell_type": "code",
   "execution_count": null,
   "metadata": {},
   "outputs": [],
   "source": []
  },
  {
   "cell_type": "markdown",
   "metadata": {},
   "source": [
    "Then we invoke the Bar plotting functionality within Plotly as such"
   ]
  },
  {
   "cell_type": "code",
   "execution_count": 32,
   "metadata": {},
   "outputs": [
    {
     "data": {
      "application/vnd.plotly.v1+json": {
       "config": {
        "linkText": "Export to plot.ly",
        "plotlyServerURL": "https://plot.ly",
        "showLink": false
       },
       "data": [
        {
         "marker": {
          "color": [
           0,
           0,
           0,
           0,
           0,
           0,
           0,
           0,
           0,
           0,
           0,
           0,
           0,
           0,
           0,
           0,
           15,
           20,
           45,
           80,
           80,
           100,
           100,
           100,
           100,
           100,
           110,
           110,
           120,
           120,
           130,
           130,
           130,
           130,
           140,
           140,
           140,
           140,
           140,
           140,
           140,
           150,
           150,
           150,
           150,
           150,
           160,
           160,
           170,
           170,
           170,
           170,
           180,
           180,
           180,
           190,
           190,
           190,
           190,
           190,
           200,
           200,
           200,
           200,
           210,
           210,
           210,
           210,
           220,
           220,
           220,
           220,
           230,
           230,
           240,
           240,
           240,
           240,
           250,
           250,
           250,
           250,
           250,
           250,
           250,
           250,
           260,
           260,
           260,
           260,
           260,
           260,
           260,
           270,
           270,
           270,
           270,
           270,
           270,
           280,
           280,
           280,
           280,
           280,
           280,
           280,
           280,
           280,
           290,
           290,
           290,
           290,
           290,
           300,
           300,
           300,
           310,
           310,
           310,
           320,
           330,
           330,
           330,
           330,
           330,
           330,
           330,
           340,
           340,
           340,
           340,
           340,
           340,
           340,
           340,
           340,
           340,
           350,
           350,
           350,
           360,
           360,
           360,
           360,
           370,
           370,
           370,
           380,
           380,
           380,
           390,
           390,
           390,
           390,
           400,
           400,
           400,
           410,
           410,
           410,
           410,
           420,
           420,
           430,
           430,
           430,
           430,
           430,
           430,
           430,
           430,
           430,
           430,
           440,
           440,
           450,
           450,
           450,
           450,
           450,
           450,
           460,
           460,
           460,
           460,
           460,
           470,
           470,
           470,
           480,
           480,
           480,
           480,
           480,
           500,
           500,
           500,
           510,
           510,
           510,
           510,
           510,
           520,
           520,
           520,
           520,
           520,
           530,
           530,
           530,
           540,
           540,
           540,
           540,
           550,
           550,
           550,
           550,
           560,
           570,
           570,
           590,
           600,
           610,
           610,
           610,
           620,
           630,
           630,
           640,
           650,
           660,
           660,
           670,
           670,
           670,
           670,
           670,
           690,
           690,
           690,
           700,
           720,
           740,
           750,
           750,
           760,
           800,
           810,
           820,
           820,
           850,
           850,
           930,
           940,
           990,
           1050,
           1090,
           1150,
           1880
          ],
          "colorscale": [
           [
            0,
            "rgb(0,0,131)"
           ],
           [
            0.2,
            "rgb(0,60,170)"
           ],
           [
            0.4,
            "rgb(5,255,255)"
           ],
           [
            0.6,
            "rgb(255,255,0)"
           ],
           [
            0.8,
            "rgb(250,0,0)"
           ],
           [
            1,
            "rgb(128,0,0)"
           ]
          ],
          "reversescale": false
         },
         "orientation": "h",
         "type": "bar",
         "x": [
          0,
          0,
          0,
          0,
          0,
          0,
          0,
          0,
          0,
          0,
          0,
          0,
          0,
          0,
          0,
          0,
          15,
          20,
          45,
          80,
          80,
          100,
          100,
          100,
          100,
          100,
          110,
          110,
          120,
          120,
          130,
          130,
          130,
          130,
          140,
          140,
          140,
          140,
          140,
          140,
          140,
          150,
          150,
          150,
          150,
          150,
          160,
          160,
          170,
          170,
          170,
          170,
          180,
          180,
          180,
          190,
          190,
          190,
          190,
          190,
          200,
          200,
          200,
          200,
          210,
          210,
          210,
          210,
          220,
          220,
          220,
          220,
          230,
          230,
          240,
          240,
          240,
          240,
          250,
          250,
          250,
          250,
          250,
          250,
          250,
          250,
          260,
          260,
          260,
          260,
          260,
          260,
          260,
          270,
          270,
          270,
          270,
          270,
          270,
          280,
          280,
          280,
          280,
          280,
          280,
          280,
          280,
          280,
          290,
          290,
          290,
          290,
          290,
          300,
          300,
          300,
          310,
          310,
          310,
          320,
          330,
          330,
          330,
          330,
          330,
          330,
          330,
          340,
          340,
          340,
          340,
          340,
          340,
          340,
          340,
          340,
          340,
          350,
          350,
          350,
          360,
          360,
          360,
          360,
          370,
          370,
          370,
          380,
          380,
          380,
          390,
          390,
          390,
          390,
          400,
          400,
          400,
          410,
          410,
          410,
          410,
          420,
          420,
          430,
          430,
          430,
          430,
          430,
          430,
          430,
          430,
          430,
          430,
          440,
          440,
          450,
          450,
          450,
          450,
          450,
          450,
          460,
          460,
          460,
          460,
          460,
          470,
          470,
          470,
          480,
          480,
          480,
          480,
          480,
          500,
          500,
          500,
          510,
          510,
          510,
          510,
          510,
          520,
          520,
          520,
          520,
          520,
          530,
          530,
          530,
          540,
          540,
          540,
          540,
          550,
          550,
          550,
          550,
          560,
          570,
          570,
          590,
          600,
          610,
          610,
          610,
          620,
          630,
          630,
          640,
          650,
          660,
          660,
          670,
          670,
          670,
          670,
          670,
          690,
          690,
          690,
          700,
          720,
          740,
          750,
          750,
          760,
          800,
          810,
          820,
          820,
          850,
          850,
          930,
          940,
          990,
          1050,
          1090,
          1150,
          1880
         ],
         "y": [
          "Coffee (Large)",
          "Coffee (Medium)",
          "Coffee (Small)",
          "Dasani Water Bottle",
          "Diet Coke (Child)",
          "Diet Coke (Large)",
          "Diet Coke (Medium)",
          "Diet Coke (Small)",
          "Diet Dr Pepper (Child)",
          "Diet Dr Pepper (Large)",
          "Diet Dr Pepper (Medium)",
          "Diet Dr Pepper (Small)",
          "Iced Tea (Child)",
          "Iced Tea (Large)",
          "Iced Tea (Medium)",
          "Iced Tea (Small)",
          "Apple Slices",
          "Side Salad",
          "Kids Ice Cream Cone",
          "Iced Coffee with Sugar Free French Vanilla Syrup (Small)",
          "Minute Maid 100% Apple Juice Box",
          "1% Low Fat Milk Jug",
          "Coca-Cola Classic (Child)",
          "Dr Pepper (Child)",
          "Nonfat Latte (Small)",
          "Sprite (Child)",
          "Kids French Fries",
          "Sweet Tea (Child)",
          "French Vanilla Iced Coffee (Small)",
          "Iced Coffee with Sugar Free French Vanilla Syrup (Medium)",
          "Caramel Iced Coffee (Small)",
          "Fat Free Chocolate Milk Jug",
          "Hazelnut Iced Coffee (Small)",
          "Nonfat Latte (Medium)",
          "Coca-Cola Classic (Small)",
          "Dr Pepper (Small)",
          "Nonfat Latte with Sugar Free French Vanilla Syrup (Small)",
          "Premium Bacon Ranch Salad (without Chicken)",
          "Premium Southwest Salad (without Chicken)",
          "Regular Iced Coffee (Small)",
          "Sprite (Small)",
          "Fruit 'n Yogurt Parfait",
          "Hash Brown",
          "Minute Maid Orange Juice (Small)",
          "Oatmeal Raisin Cookie",
          "Sweet Tea (Small)",
          "Chocolate Chip Cookie",
          "Iced Coffee with Sugar Free French Vanilla Syrup (Large)",
          "French Vanilla Iced Coffee (Medium)",
          "Latte (Small)",
          "Nonfat Latte (Large)",
          "Nonfat Latte with Sugar Free French Vanilla Syrup (Medium)",
          "Caramel Iced Coffee (Medium)",
          "Hazelnut Iced Coffee (Medium)",
          "Sweet Tea (Medium)",
          "Chicken McNuggets (4 piece)",
          "Dr Pepper (Medium)",
          "Minute Maid Orange Juice (Medium)",
          "Nonfat French Vanilla Latte (Small)",
          "Regular Iced Coffee (Medium)",
          "Coca-Cola Classic (Medium)",
          "Nonfat Caramel Latte (Small)",
          "Nonfat Hazelnut Latte (Small)",
          "Sprite (Medium)",
          "Latte (Medium)",
          "Latte with Sugar Free French Vanilla Syrup (Small)",
          "Mango Pineapple Smoothie (Small)",
          "Strawberry Banana Smoothie (Small)",
          "Blueberry Pomegranate Smoothie (Small)",
          "Nonfat Latte with Sugar Free French Vanilla Syrup (Large)",
          "Premium Bacon Ranch Salad with Grilled Chicken",
          "Sweet Tea (Large)",
          "Iced Nonfat Caramel Mocha (Small)",
          "Small French Fries",
          "French Vanilla Iced Coffee (Large)",
          "Hamburger",
          "Iced Mocha with Nonfat Milk (Small)",
          "Nonfat French Vanilla Latte (Medium)",
          "Baked Apple Pie",
          "Egg White Delight",
          "Hazelnut Iced Coffee (Large)",
          "Honey Mustard Snack Wrap (Grilled Chicken)",
          "Nonfat Caramel Latte (Medium)",
          "Nonfat Caramel Mocha (Small)",
          "Nonfat Hazelnut Latte (Medium)",
          "Strawberry Banana Smoothie (Medium)",
          "Blueberry Pomegranate Smoothie (Medium)",
          "Caramel Iced Coffee (Large)",
          "Chipotle BBQ Snack Wrap (Grilled Chicken)",
          "French Vanilla Latte (Small)",
          "Fruit & Maple Oatmeal without Brown Sugar",
          "Latte with Sugar Free French Vanilla Syrup (Medium)",
          "Mango Pineapple Smoothie (Medium)",
          "Caramel Latte (Small)",
          "Dr Pepper (Large)",
          "Hazelnut Latte (Small)",
          "Iced Nonfat Caramel Mocha (Medium)",
          "Mocha with Nonfat Milk (Small)",
          "Regular Iced Coffee (Large)",
          "Chicken McNuggets (6 piece)",
          "Coca-Cola Classic (Large)",
          "Hot Chocolate with Nonfat Milk (Small)",
          "Iced Caramel Mocha (Small)",
          "Latte (Large)",
          "Minute Maid Orange Juice (Large)",
          "Ranch Snack Wrap (Grilled Chicken)",
          "Sprite (Large)",
          "Strawberry Sundae",
          "Cheeseburger",
          "Fruit & Maple Oatmeal",
          "Iced Mocha (Small)",
          "Iced Mocha with Nonfat Milk (Medium)",
          "Premium Southwest Salad with Grilled Chicken",
          "Egg McMuffin",
          "Nonfat French Vanilla Latte (Large)",
          "Sausage Burrito",
          "Nonfat Caramel Latte (Large)",
          "Nonfat Caramel Mocha (Medium)",
          "Nonfat Hazelnut Latte (Large)",
          "Caramel Mocha (Small)",
          "French Vanilla Latte (Medium)",
          "Hazelnut Latte (Medium)",
          "Honey Mustard Snack Wrap (Crispy Chicken)",
          "Hot Fudge Sundae",
          "Latte with Sugar Free French Vanilla Syrup (Large)",
          "Mocha with Nonfat Milk (Medium)",
          "Strawberry Banana Smoothie (Large)",
          "Blueberry Pomegranate Smoothie (Large)",
          "Caramel Latte (Medium)",
          "Chipotle BBQ Snack Wrap (Crispy Chicken)",
          "Hot Caramel Sundae",
          "Hot Chocolate with Nonfat Milk (Medium)",
          "Iced Caramel Mocha (Medium)",
          "Mango Pineapple Smoothie (Large)",
          "McFlurry with Oreo Cookies (Snack)",
          "Medium French Fries",
          "Mocha (Small)",
          "Hotcakes",
          "Iced Mocha (Medium)",
          "Premium Grilled Chicken Classic Sandwich",
          "Buffalo Ranch McChicken",
          "Hot Chocolate (Small)",
          "McChicken",
          "Ranch Snack Wrap (Crispy Chicken)",
          "Iced Nonfat Caramel Mocha (Large)",
          "Nonfat Caramel Mocha (Large)",
          "Sausage McMuffin",
          "McDouble",
          "Premium Bacon Ranch Salad with Crispy Chicken",
          "Premium McWrap Chicken Sweet Chili (Grilled Chicken)",
          "Caramel Mocha (Medium)",
          "Filet-O-Fish",
          "Iced Mocha with Nonfat Milk (Large)",
          "Mocha with Nonfat Milk (Large)",
          "Bacon, Egg & Cheese McGriddles with Egg Whites",
          "Hot Chocolate with Nonfat Milk (Large)",
          "Sausage McMuffin with Egg Whites",
          "Bacon, Egg & Cheese Biscuit with Egg Whites (Regular Biscuit)",
          "McFlurry with Reese's Peanut Butter Cups (Snack)",
          "Mocha (Medium)",
          "Southern Style Chicken Biscuit (Regular Biscuit)",
          "French Vanilla Latte (Large)",
          "Sausage McGriddles",
          "Bacon Buffalo Ranch McChicken",
          "Caramel Latte (Large)",
          "Daily Double",
          "Double Cheeseburger",
          "Hazelnut Latte (Large)",
          "Jalapeño Double",
          "McFlurry with M&M’s Candies (Snack)",
          "Sausage Biscuit (Regular Biscuit)",
          "Southern Style Crispy Chicken Sandwich",
          "Steak & Egg McMuffin",
          "Bacon McDouble",
          "Hot Chocolate (Medium)",
          "Frappé Caramel (Small)",
          "Frappé Mocha (Small)",
          "Premium Grilled Chicken Ranch BLT Sandwich",
          "Premium McWrap Chicken & Ranch (Grilled Chicken)",
          "Premium Southwest Salad with Crispy Chicken",
          "Sausage McMuffin with Egg",
          "Bacon, Egg & Cheese Biscuit (Regular Biscuit)",
          "Bacon, Egg & Cheese McGriddles",
          "Cinnamon Melts",
          "Iced Caramel Mocha (Large)",
          "Sausage Biscuit with Egg Whites (Regular Biscuit)",
          "Bacon, Egg & Cheese Biscuit with Egg Whites (Large Biscuit)",
          "Chicken McNuggets (10 piece)",
          "Southern Style Chicken Biscuit (Large Biscuit)",
          "Bacon Cheddar McChicken",
          "Caramel Mocha (Large)",
          "Iced Mocha (Large)",
          "Premium McWrap Chicken & Bacon (Grilled Chicken)",
          "Sausage Biscuit (Large Biscuit)",
          "McRib",
          "Mocha (Large)",
          "Sausage, Egg & Cheese McGriddles with Egg Whites",
          "Large French Fries",
          "McFlurry with Oreo Cookies (Small)",
          "Premium Crispy Chicken Classic Sandwich",
          "Premium Grilled Chicken Club Sandwich",
          "Sausage Biscuit with Egg (Regular Biscuit)",
          "Bacon, Egg & Cheese Biscuit (Large Biscuit)",
          "Hotcakes and Sausage",
          "Premium McWrap Southwest Chicken (Grilled Chicken)",
          "Quarter Pounder with Cheese",
          "Sausage Biscuit with Egg Whites (Large Biscuit)",
          "Big Mac",
          "Frappé Chocolate Chip (Small)",
          "Vanilla Shake (Small)",
          "Hot Chocolate (Large)",
          "Premium McWrap Chicken Sweet Chili (Crispy Chicken)",
          "Quarter Pounder Deluxe",
          "Steak & Egg Biscuit (Regular Biscuit)",
          "Frappé Caramel (Medium)",
          "Frappé Mocha (Medium)",
          "Sausage, Egg & Cheese McGriddles",
          "Strawberry Shake (Small)",
          "Chocolate Shake (Small)",
          "Bacon, Egg & Cheese Bagel with Egg Whites",
          "Sausage Biscuit with Egg (Large Biscuit)",
          "Bacon Clubhouse Grilled Chicken Sandwich",
          "Quarter Pounder with Bacon & Cheese",
          "Premium Crispy Chicken Ranch BLT Sandwich",
          "Premium McWrap Chicken & Ranch (Crispy Chicken)",
          "Quarter Pounder with Bacon Habanero Ranch",
          "Bacon, Egg & Cheese Bagel",
          "Frappé Chocolate Chip (Medium)",
          "Premium McWrap Chicken & Bacon (Crispy Chicken)",
          "Big Breakfast with Egg Whites (Regular Biscuit)",
          "McFlurry with M&M’s Candies (Small)",
          "Shamrock Shake (Medium)",
          "Vanilla Shake (Medium)",
          "Frappé Caramel (Large)",
          "Frappé Mocha (Large)",
          "Premium Crispy Chicken Club Sandwich",
          "Premium McWrap Southwest Chicken (Crispy Chicken)",
          "Steak, Egg & Cheese Bagel",
          "Big Breakfast with Egg Whites (Large Biscuit)",
          "McFlurry with Oreo Cookies (Medium)",
          "Strawberry Shake (Medium)",
          "Chocolate Shake (Medium)",
          "Bacon Clubhouse Burger",
          "Big Breakfast (Regular Biscuit)",
          "Bacon Clubhouse Crispy Chicken Sandwich",
          "Double Quarter Pounder with Cheese",
          "Frappé Chocolate Chip (Large)",
          "Big Breakfast (Large Biscuit)",
          "McFlurry with Reese's Peanut Butter Cups (Medium)",
          "Shamrock Shake (Large)",
          "Vanilla Shake (Large)",
          "Chocolate Shake (Large)",
          "Strawberry Shake (Large)",
          "McFlurry with M&M’s Candies (Medium)",
          "Chicken McNuggets (20 piece)",
          "Big Breakfast with Hotcakes and Egg Whites (Regular Biscuit)",
          "Big Breakfast with Hotcakes and Egg Whites (Large Biscuit)",
          "Big Breakfast with Hotcakes (Regular Biscuit)",
          "Big Breakfast with Hotcakes (Large Biscuit)",
          "Chicken McNuggets (40 piece)"
         ]
        }
       ],
       "layout": {
        "height": 2600,
        "template": {
         "data": {
          "bar": [
           {
            "error_x": {
             "color": "#2a3f5f"
            },
            "error_y": {
             "color": "#2a3f5f"
            },
            "marker": {
             "line": {
              "color": "#E5ECF6",
              "width": 0.5
             }
            },
            "type": "bar"
           }
          ],
          "barpolar": [
           {
            "marker": {
             "line": {
              "color": "#E5ECF6",
              "width": 0.5
             }
            },
            "type": "barpolar"
           }
          ],
          "carpet": [
           {
            "aaxis": {
             "endlinecolor": "#2a3f5f",
             "gridcolor": "white",
             "linecolor": "white",
             "minorgridcolor": "white",
             "startlinecolor": "#2a3f5f"
            },
            "baxis": {
             "endlinecolor": "#2a3f5f",
             "gridcolor": "white",
             "linecolor": "white",
             "minorgridcolor": "white",
             "startlinecolor": "#2a3f5f"
            },
            "type": "carpet"
           }
          ],
          "choropleth": [
           {
            "colorbar": {
             "outlinewidth": 0,
             "ticks": ""
            },
            "type": "choropleth"
           }
          ],
          "contour": [
           {
            "colorbar": {
             "outlinewidth": 0,
             "ticks": ""
            },
            "colorscale": [
             [
              0,
              "#0d0887"
             ],
             [
              0.1111111111111111,
              "#46039f"
             ],
             [
              0.2222222222222222,
              "#7201a8"
             ],
             [
              0.3333333333333333,
              "#9c179e"
             ],
             [
              0.4444444444444444,
              "#bd3786"
             ],
             [
              0.5555555555555556,
              "#d8576b"
             ],
             [
              0.6666666666666666,
              "#ed7953"
             ],
             [
              0.7777777777777778,
              "#fb9f3a"
             ],
             [
              0.8888888888888888,
              "#fdca26"
             ],
             [
              1,
              "#f0f921"
             ]
            ],
            "type": "contour"
           }
          ],
          "contourcarpet": [
           {
            "colorbar": {
             "outlinewidth": 0,
             "ticks": ""
            },
            "type": "contourcarpet"
           }
          ],
          "heatmap": [
           {
            "colorbar": {
             "outlinewidth": 0,
             "ticks": ""
            },
            "colorscale": [
             [
              0,
              "#0d0887"
             ],
             [
              0.1111111111111111,
              "#46039f"
             ],
             [
              0.2222222222222222,
              "#7201a8"
             ],
             [
              0.3333333333333333,
              "#9c179e"
             ],
             [
              0.4444444444444444,
              "#bd3786"
             ],
             [
              0.5555555555555556,
              "#d8576b"
             ],
             [
              0.6666666666666666,
              "#ed7953"
             ],
             [
              0.7777777777777778,
              "#fb9f3a"
             ],
             [
              0.8888888888888888,
              "#fdca26"
             ],
             [
              1,
              "#f0f921"
             ]
            ],
            "type": "heatmap"
           }
          ],
          "heatmapgl": [
           {
            "colorbar": {
             "outlinewidth": 0,
             "ticks": ""
            },
            "colorscale": [
             [
              0,
              "#0d0887"
             ],
             [
              0.1111111111111111,
              "#46039f"
             ],
             [
              0.2222222222222222,
              "#7201a8"
             ],
             [
              0.3333333333333333,
              "#9c179e"
             ],
             [
              0.4444444444444444,
              "#bd3786"
             ],
             [
              0.5555555555555556,
              "#d8576b"
             ],
             [
              0.6666666666666666,
              "#ed7953"
             ],
             [
              0.7777777777777778,
              "#fb9f3a"
             ],
             [
              0.8888888888888888,
              "#fdca26"
             ],
             [
              1,
              "#f0f921"
             ]
            ],
            "type": "heatmapgl"
           }
          ],
          "histogram": [
           {
            "marker": {
             "colorbar": {
              "outlinewidth": 0,
              "ticks": ""
             }
            },
            "type": "histogram"
           }
          ],
          "histogram2d": [
           {
            "colorbar": {
             "outlinewidth": 0,
             "ticks": ""
            },
            "colorscale": [
             [
              0,
              "#0d0887"
             ],
             [
              0.1111111111111111,
              "#46039f"
             ],
             [
              0.2222222222222222,
              "#7201a8"
             ],
             [
              0.3333333333333333,
              "#9c179e"
             ],
             [
              0.4444444444444444,
              "#bd3786"
             ],
             [
              0.5555555555555556,
              "#d8576b"
             ],
             [
              0.6666666666666666,
              "#ed7953"
             ],
             [
              0.7777777777777778,
              "#fb9f3a"
             ],
             [
              0.8888888888888888,
              "#fdca26"
             ],
             [
              1,
              "#f0f921"
             ]
            ],
            "type": "histogram2d"
           }
          ],
          "histogram2dcontour": [
           {
            "colorbar": {
             "outlinewidth": 0,
             "ticks": ""
            },
            "colorscale": [
             [
              0,
              "#0d0887"
             ],
             [
              0.1111111111111111,
              "#46039f"
             ],
             [
              0.2222222222222222,
              "#7201a8"
             ],
             [
              0.3333333333333333,
              "#9c179e"
             ],
             [
              0.4444444444444444,
              "#bd3786"
             ],
             [
              0.5555555555555556,
              "#d8576b"
             ],
             [
              0.6666666666666666,
              "#ed7953"
             ],
             [
              0.7777777777777778,
              "#fb9f3a"
             ],
             [
              0.8888888888888888,
              "#fdca26"
             ],
             [
              1,
              "#f0f921"
             ]
            ],
            "type": "histogram2dcontour"
           }
          ],
          "mesh3d": [
           {
            "colorbar": {
             "outlinewidth": 0,
             "ticks": ""
            },
            "type": "mesh3d"
           }
          ],
          "parcoords": [
           {
            "line": {
             "colorbar": {
              "outlinewidth": 0,
              "ticks": ""
             }
            },
            "type": "parcoords"
           }
          ],
          "pie": [
           {
            "automargin": true,
            "type": "pie"
           }
          ],
          "scatter": [
           {
            "marker": {
             "colorbar": {
              "outlinewidth": 0,
              "ticks": ""
             }
            },
            "type": "scatter"
           }
          ],
          "scatter3d": [
           {
            "line": {
             "colorbar": {
              "outlinewidth": 0,
              "ticks": ""
             }
            },
            "marker": {
             "colorbar": {
              "outlinewidth": 0,
              "ticks": ""
             }
            },
            "type": "scatter3d"
           }
          ],
          "scattercarpet": [
           {
            "marker": {
             "colorbar": {
              "outlinewidth": 0,
              "ticks": ""
             }
            },
            "type": "scattercarpet"
           }
          ],
          "scattergeo": [
           {
            "marker": {
             "colorbar": {
              "outlinewidth": 0,
              "ticks": ""
             }
            },
            "type": "scattergeo"
           }
          ],
          "scattergl": [
           {
            "marker": {
             "colorbar": {
              "outlinewidth": 0,
              "ticks": ""
             }
            },
            "type": "scattergl"
           }
          ],
          "scattermapbox": [
           {
            "marker": {
             "colorbar": {
              "outlinewidth": 0,
              "ticks": ""
             }
            },
            "type": "scattermapbox"
           }
          ],
          "scatterpolar": [
           {
            "marker": {
             "colorbar": {
              "outlinewidth": 0,
              "ticks": ""
             }
            },
            "type": "scatterpolar"
           }
          ],
          "scatterpolargl": [
           {
            "marker": {
             "colorbar": {
              "outlinewidth": 0,
              "ticks": ""
             }
            },
            "type": "scatterpolargl"
           }
          ],
          "scatterternary": [
           {
            "marker": {
             "colorbar": {
              "outlinewidth": 0,
              "ticks": ""
             }
            },
            "type": "scatterternary"
           }
          ],
          "surface": [
           {
            "colorbar": {
             "outlinewidth": 0,
             "ticks": ""
            },
            "colorscale": [
             [
              0,
              "#0d0887"
             ],
             [
              0.1111111111111111,
              "#46039f"
             ],
             [
              0.2222222222222222,
              "#7201a8"
             ],
             [
              0.3333333333333333,
              "#9c179e"
             ],
             [
              0.4444444444444444,
              "#bd3786"
             ],
             [
              0.5555555555555556,
              "#d8576b"
             ],
             [
              0.6666666666666666,
              "#ed7953"
             ],
             [
              0.7777777777777778,
              "#fb9f3a"
             ],
             [
              0.8888888888888888,
              "#fdca26"
             ],
             [
              1,
              "#f0f921"
             ]
            ],
            "type": "surface"
           }
          ],
          "table": [
           {
            "cells": {
             "fill": {
              "color": "#EBF0F8"
             },
             "line": {
              "color": "white"
             }
            },
            "header": {
             "fill": {
              "color": "#C8D4E3"
             },
             "line": {
              "color": "white"
             }
            },
            "type": "table"
           }
          ]
         },
         "layout": {
          "annotationdefaults": {
           "arrowcolor": "#2a3f5f",
           "arrowhead": 0,
           "arrowwidth": 1
          },
          "coloraxis": {
           "colorbar": {
            "outlinewidth": 0,
            "ticks": ""
           }
          },
          "colorscale": {
           "diverging": [
            [
             0,
             "#8e0152"
            ],
            [
             0.1,
             "#c51b7d"
            ],
            [
             0.2,
             "#de77ae"
            ],
            [
             0.3,
             "#f1b6da"
            ],
            [
             0.4,
             "#fde0ef"
            ],
            [
             0.5,
             "#f7f7f7"
            ],
            [
             0.6,
             "#e6f5d0"
            ],
            [
             0.7,
             "#b8e186"
            ],
            [
             0.8,
             "#7fbc41"
            ],
            [
             0.9,
             "#4d9221"
            ],
            [
             1,
             "#276419"
            ]
           ],
           "sequential": [
            [
             0,
             "#0d0887"
            ],
            [
             0.1111111111111111,
             "#46039f"
            ],
            [
             0.2222222222222222,
             "#7201a8"
            ],
            [
             0.3333333333333333,
             "#9c179e"
            ],
            [
             0.4444444444444444,
             "#bd3786"
            ],
            [
             0.5555555555555556,
             "#d8576b"
            ],
            [
             0.6666666666666666,
             "#ed7953"
            ],
            [
             0.7777777777777778,
             "#fb9f3a"
            ],
            [
             0.8888888888888888,
             "#fdca26"
            ],
            [
             1,
             "#f0f921"
            ]
           ],
           "sequentialminus": [
            [
             0,
             "#0d0887"
            ],
            [
             0.1111111111111111,
             "#46039f"
            ],
            [
             0.2222222222222222,
             "#7201a8"
            ],
            [
             0.3333333333333333,
             "#9c179e"
            ],
            [
             0.4444444444444444,
             "#bd3786"
            ],
            [
             0.5555555555555556,
             "#d8576b"
            ],
            [
             0.6666666666666666,
             "#ed7953"
            ],
            [
             0.7777777777777778,
             "#fb9f3a"
            ],
            [
             0.8888888888888888,
             "#fdca26"
            ],
            [
             1,
             "#f0f921"
            ]
           ]
          },
          "colorway": [
           "#636efa",
           "#EF553B",
           "#00cc96",
           "#ab63fa",
           "#FFA15A",
           "#19d3f3",
           "#FF6692",
           "#B6E880",
           "#FF97FF",
           "#FECB52"
          ],
          "font": {
           "color": "#2a3f5f"
          },
          "geo": {
           "bgcolor": "white",
           "lakecolor": "white",
           "landcolor": "#E5ECF6",
           "showlakes": true,
           "showland": true,
           "subunitcolor": "white"
          },
          "hoverlabel": {
           "align": "left"
          },
          "hovermode": "closest",
          "mapbox": {
           "style": "light"
          },
          "paper_bgcolor": "white",
          "plot_bgcolor": "#E5ECF6",
          "polar": {
           "angularaxis": {
            "gridcolor": "white",
            "linecolor": "white",
            "ticks": ""
           },
           "bgcolor": "#E5ECF6",
           "radialaxis": {
            "gridcolor": "white",
            "linecolor": "white",
            "ticks": ""
           }
          },
          "scene": {
           "xaxis": {
            "backgroundcolor": "#E5ECF6",
            "gridcolor": "white",
            "gridwidth": 2,
            "linecolor": "white",
            "showbackground": true,
            "ticks": "",
            "zerolinecolor": "white"
           },
           "yaxis": {
            "backgroundcolor": "#E5ECF6",
            "gridcolor": "white",
            "gridwidth": 2,
            "linecolor": "white",
            "showbackground": true,
            "ticks": "",
            "zerolinecolor": "white"
           },
           "zaxis": {
            "backgroundcolor": "#E5ECF6",
            "gridcolor": "white",
            "gridwidth": 2,
            "linecolor": "white",
            "showbackground": true,
            "ticks": "",
            "zerolinecolor": "white"
           }
          },
          "shapedefaults": {
           "line": {
            "color": "#2a3f5f"
           }
          },
          "ternary": {
           "aaxis": {
            "gridcolor": "white",
            "linecolor": "white",
            "ticks": ""
           },
           "baxis": {
            "gridcolor": "white",
            "linecolor": "white",
            "ticks": ""
           },
           "bgcolor": "#E5ECF6",
           "caxis": {
            "gridcolor": "white",
            "linecolor": "white",
            "ticks": ""
           }
          },
          "title": {
           "x": 0.05
          },
          "xaxis": {
           "automargin": true,
           "gridcolor": "white",
           "linecolor": "white",
           "ticks": "",
           "title": {
            "standoff": 15
           },
           "zerolinecolor": "white",
           "zerolinewidth": 2
          },
          "yaxis": {
           "automargin": true,
           "gridcolor": "white",
           "linecolor": "white",
           "ticks": "",
           "title": {
            "standoff": 15
           },
           "zerolinecolor": "white",
           "zerolinewidth": 2
          }
         }
        },
        "title": {
         "text": "Barplot of Calories in MacDonald Food Items"
        },
        "width": 1500,
        "yaxis": {
         "showgrid": false,
         "showline": false,
         "showticklabels": true
        }
       }
      },
      "text/html": [
       "<div>\n",
       "        \n",
       "        \n",
       "            <div id=\"1c24297f-1272-420d-b456-8d4ab4ce3757\" class=\"plotly-graph-div\" style=\"height:2600px; width:1500px;\"></div>\n",
       "            <script type=\"text/javascript\">\n",
       "                require([\"plotly\"], function(Plotly) {\n",
       "                    window.PLOTLYENV=window.PLOTLYENV || {};\n",
       "                    \n",
       "                if (document.getElementById(\"1c24297f-1272-420d-b456-8d4ab4ce3757\")) {\n",
       "                    Plotly.newPlot(\n",
       "                        '1c24297f-1272-420d-b456-8d4ab4ce3757',\n",
       "                        [{\"marker\": {\"color\": [0, 0, 0, 0, 0, 0, 0, 0, 0, 0, 0, 0, 0, 0, 0, 0, 15, 20, 45, 80, 80, 100, 100, 100, 100, 100, 110, 110, 120, 120, 130, 130, 130, 130, 140, 140, 140, 140, 140, 140, 140, 150, 150, 150, 150, 150, 160, 160, 170, 170, 170, 170, 180, 180, 180, 190, 190, 190, 190, 190, 200, 200, 200, 200, 210, 210, 210, 210, 220, 220, 220, 220, 230, 230, 240, 240, 240, 240, 250, 250, 250, 250, 250, 250, 250, 250, 260, 260, 260, 260, 260, 260, 260, 270, 270, 270, 270, 270, 270, 280, 280, 280, 280, 280, 280, 280, 280, 280, 290, 290, 290, 290, 290, 300, 300, 300, 310, 310, 310, 320, 330, 330, 330, 330, 330, 330, 330, 340, 340, 340, 340, 340, 340, 340, 340, 340, 340, 350, 350, 350, 360, 360, 360, 360, 370, 370, 370, 380, 380, 380, 390, 390, 390, 390, 400, 400, 400, 410, 410, 410, 410, 420, 420, 430, 430, 430, 430, 430, 430, 430, 430, 430, 430, 440, 440, 450, 450, 450, 450, 450, 450, 460, 460, 460, 460, 460, 470, 470, 470, 480, 480, 480, 480, 480, 500, 500, 500, 510, 510, 510, 510, 510, 520, 520, 520, 520, 520, 530, 530, 530, 540, 540, 540, 540, 550, 550, 550, 550, 560, 570, 570, 590, 600, 610, 610, 610, 620, 630, 630, 640, 650, 660, 660, 670, 670, 670, 670, 670, 690, 690, 690, 700, 720, 740, 750, 750, 760, 800, 810, 820, 820, 850, 850, 930, 940, 990, 1050, 1090, 1150, 1880], \"colorscale\": [[0.0, \"rgb(0,0,131)\"], [0.2, \"rgb(0,60,170)\"], [0.4, \"rgb(5,255,255)\"], [0.6, \"rgb(255,255,0)\"], [0.8, \"rgb(250,0,0)\"], [1.0, \"rgb(128,0,0)\"]], \"reversescale\": false}, \"orientation\": \"h\", \"type\": \"bar\", \"x\": [0, 0, 0, 0, 0, 0, 0, 0, 0, 0, 0, 0, 0, 0, 0, 0, 15, 20, 45, 80, 80, 100, 100, 100, 100, 100, 110, 110, 120, 120, 130, 130, 130, 130, 140, 140, 140, 140, 140, 140, 140, 150, 150, 150, 150, 150, 160, 160, 170, 170, 170, 170, 180, 180, 180, 190, 190, 190, 190, 190, 200, 200, 200, 200, 210, 210, 210, 210, 220, 220, 220, 220, 230, 230, 240, 240, 240, 240, 250, 250, 250, 250, 250, 250, 250, 250, 260, 260, 260, 260, 260, 260, 260, 270, 270, 270, 270, 270, 270, 280, 280, 280, 280, 280, 280, 280, 280, 280, 290, 290, 290, 290, 290, 300, 300, 300, 310, 310, 310, 320, 330, 330, 330, 330, 330, 330, 330, 340, 340, 340, 340, 340, 340, 340, 340, 340, 340, 350, 350, 350, 360, 360, 360, 360, 370, 370, 370, 380, 380, 380, 390, 390, 390, 390, 400, 400, 400, 410, 410, 410, 410, 420, 420, 430, 430, 430, 430, 430, 430, 430, 430, 430, 430, 440, 440, 450, 450, 450, 450, 450, 450, 460, 460, 460, 460, 460, 470, 470, 470, 480, 480, 480, 480, 480, 500, 500, 500, 510, 510, 510, 510, 510, 520, 520, 520, 520, 520, 530, 530, 530, 540, 540, 540, 540, 550, 550, 550, 550, 560, 570, 570, 590, 600, 610, 610, 610, 620, 630, 630, 640, 650, 660, 660, 670, 670, 670, 670, 670, 690, 690, 690, 700, 720, 740, 750, 750, 760, 800, 810, 820, 820, 850, 850, 930, 940, 990, 1050, 1090, 1150, 1880], \"y\": [\"Coffee (Large)\", \"Coffee (Medium)\", \"Coffee (Small)\", \"Dasani Water Bottle\", \"Diet Coke (Child)\", \"Diet Coke (Large)\", \"Diet Coke (Medium)\", \"Diet Coke (Small)\", \"Diet Dr Pepper (Child)\", \"Diet Dr Pepper (Large)\", \"Diet Dr Pepper (Medium)\", \"Diet Dr Pepper (Small)\", \"Iced Tea (Child)\", \"Iced Tea (Large)\", \"Iced Tea (Medium)\", \"Iced Tea (Small)\", \"Apple Slices\", \"Side Salad\", \"Kids Ice Cream Cone\", \"Iced Coffee with Sugar Free French Vanilla Syrup (Small)\", \"Minute Maid 100% Apple Juice Box\", \"1% Low Fat Milk Jug\", \"Coca-Cola Classic (Child)\", \"Dr Pepper (Child)\", \"Nonfat Latte (Small)\", \"Sprite (Child)\", \"Kids French Fries\", \"Sweet Tea (Child)\", \"French Vanilla Iced Coffee (Small)\", \"Iced Coffee with Sugar Free French Vanilla Syrup (Medium)\", \"Caramel Iced Coffee (Small)\", \"Fat Free Chocolate Milk Jug\", \"Hazelnut Iced Coffee (Small)\", \"Nonfat Latte (Medium)\", \"Coca-Cola Classic (Small)\", \"Dr Pepper (Small)\", \"Nonfat Latte with Sugar Free French Vanilla Syrup (Small)\", \"Premium Bacon Ranch Salad (without Chicken)\", \"Premium Southwest Salad (without Chicken)\", \"Regular Iced Coffee (Small)\", \"Sprite (Small)\", \"Fruit 'n Yogurt Parfait\", \"Hash Brown\", \"Minute Maid Orange Juice (Small)\", \"Oatmeal Raisin Cookie\", \"Sweet Tea (Small)\", \"Chocolate Chip Cookie\", \"Iced Coffee with Sugar Free French Vanilla Syrup (Large)\", \"French Vanilla Iced Coffee (Medium)\", \"Latte (Small)\", \"Nonfat Latte (Large)\", \"Nonfat Latte with Sugar Free French Vanilla Syrup (Medium)\", \"Caramel Iced Coffee (Medium)\", \"Hazelnut Iced Coffee (Medium)\", \"Sweet Tea (Medium)\", \"Chicken McNuggets (4 piece)\", \"Dr Pepper (Medium)\", \"Minute Maid Orange Juice (Medium)\", \"Nonfat French Vanilla Latte (Small)\", \"Regular Iced Coffee (Medium)\", \"Coca-Cola Classic (Medium)\", \"Nonfat Caramel Latte (Small)\", \"Nonfat Hazelnut Latte (Small)\", \"Sprite (Medium)\", \"Latte (Medium)\", \"Latte with Sugar Free French Vanilla Syrup (Small)\", \"Mango Pineapple Smoothie (Small)\", \"Strawberry Banana Smoothie (Small)\", \"Blueberry Pomegranate Smoothie (Small)\", \"Nonfat Latte with Sugar Free French Vanilla Syrup (Large)\", \"Premium Bacon Ranch Salad with Grilled Chicken\", \"Sweet Tea (Large)\", \"Iced Nonfat Caramel Mocha (Small)\", \"Small French Fries\", \"French Vanilla Iced Coffee (Large)\", \"Hamburger\", \"Iced Mocha with Nonfat Milk (Small)\", \"Nonfat French Vanilla Latte (Medium)\", \"Baked Apple Pie\", \"Egg White Delight\", \"Hazelnut Iced Coffee (Large)\", \"Honey Mustard Snack Wrap (Grilled Chicken)\", \"Nonfat Caramel Latte (Medium)\", \"Nonfat Caramel Mocha (Small)\", \"Nonfat Hazelnut Latte (Medium)\", \"Strawberry Banana Smoothie (Medium)\", \"Blueberry Pomegranate Smoothie (Medium)\", \"Caramel Iced Coffee (Large)\", \"Chipotle BBQ Snack Wrap (Grilled Chicken)\", \"French Vanilla Latte (Small)\", \"Fruit & Maple Oatmeal without Brown Sugar\", \"Latte with Sugar Free French Vanilla Syrup (Medium)\", \"Mango Pineapple Smoothie (Medium)\", \"Caramel Latte (Small)\", \"Dr Pepper (Large)\", \"Hazelnut Latte (Small)\", \"Iced Nonfat Caramel Mocha (Medium)\", \"Mocha with Nonfat Milk (Small)\", \"Regular Iced Coffee (Large)\", \"Chicken McNuggets (6 piece)\", \"Coca-Cola Classic (Large)\", \"Hot Chocolate with Nonfat Milk (Small)\", \"Iced Caramel Mocha (Small)\", \"Latte (Large)\", \"Minute Maid Orange Juice (Large)\", \"Ranch Snack Wrap (Grilled Chicken)\", \"Sprite (Large)\", \"Strawberry Sundae\", \"Cheeseburger\", \"Fruit & Maple Oatmeal\", \"Iced Mocha (Small)\", \"Iced Mocha with Nonfat Milk (Medium)\", \"Premium Southwest Salad with Grilled Chicken\", \"Egg McMuffin\", \"Nonfat French Vanilla Latte (Large)\", \"Sausage Burrito\", \"Nonfat Caramel Latte (Large)\", \"Nonfat Caramel Mocha (Medium)\", \"Nonfat Hazelnut Latte (Large)\", \"Caramel Mocha (Small)\", \"French Vanilla Latte (Medium)\", \"Hazelnut Latte (Medium)\", \"Honey Mustard Snack Wrap (Crispy Chicken)\", \"Hot Fudge Sundae\", \"Latte with Sugar Free French Vanilla Syrup (Large)\", \"Mocha with Nonfat Milk (Medium)\", \"Strawberry Banana Smoothie (Large)\", \"Blueberry Pomegranate Smoothie (Large)\", \"Caramel Latte (Medium)\", \"Chipotle BBQ Snack Wrap (Crispy Chicken)\", \"Hot Caramel Sundae\", \"Hot Chocolate with Nonfat Milk (Medium)\", \"Iced Caramel Mocha (Medium)\", \"Mango Pineapple Smoothie (Large)\", \"McFlurry with Oreo Cookies (Snack)\", \"Medium French Fries\", \"Mocha (Small)\", \"Hotcakes\", \"Iced Mocha (Medium)\", \"Premium Grilled Chicken Classic Sandwich\", \"Buffalo Ranch McChicken\", \"Hot Chocolate (Small)\", \"McChicken\", \"Ranch Snack Wrap (Crispy Chicken)\", \"Iced Nonfat Caramel Mocha (Large)\", \"Nonfat Caramel Mocha (Large)\", \"Sausage McMuffin\", \"McDouble\", \"Premium Bacon Ranch Salad with Crispy Chicken\", \"Premium McWrap Chicken Sweet Chili (Grilled Chicken)\", \"Caramel Mocha (Medium)\", \"Filet-O-Fish\", \"Iced Mocha with Nonfat Milk (Large)\", \"Mocha with Nonfat Milk (Large)\", \"Bacon, Egg & Cheese McGriddles with Egg Whites\", \"Hot Chocolate with Nonfat Milk (Large)\", \"Sausage McMuffin with Egg Whites\", \"Bacon, Egg & Cheese Biscuit with Egg Whites (Regular Biscuit)\", \"McFlurry with Reese's Peanut Butter Cups (Snack)\", \"Mocha (Medium)\", \"Southern Style Chicken Biscuit (Regular Biscuit)\", \"French Vanilla Latte (Large)\", \"Sausage McGriddles\", \"Bacon Buffalo Ranch McChicken\", \"Caramel Latte (Large)\", \"Daily Double\", \"Double Cheeseburger\", \"Hazelnut Latte (Large)\", \"Jalape\\u00f1o Double\", \"McFlurry with M&M\\u2019s Candies (Snack)\", \"Sausage Biscuit (Regular Biscuit)\", \"Southern Style Crispy Chicken Sandwich\", \"Steak & Egg McMuffin\", \"Bacon McDouble\", \"Hot Chocolate (Medium)\", \"Frapp\\u00e9 Caramel (Small)\", \"Frapp\\u00e9 Mocha (Small)\", \"Premium Grilled Chicken Ranch BLT Sandwich\", \"Premium McWrap Chicken & Ranch (Grilled Chicken)\", \"Premium Southwest Salad with Crispy Chicken\", \"Sausage McMuffin with Egg\", \"Bacon, Egg & Cheese Biscuit (Regular Biscuit)\", \"Bacon, Egg & Cheese McGriddles\", \"Cinnamon Melts\", \"Iced Caramel Mocha (Large)\", \"Sausage Biscuit with Egg Whites (Regular Biscuit)\", \"Bacon, Egg & Cheese Biscuit with Egg Whites (Large Biscuit)\", \"Chicken McNuggets (10 piece)\", \"Southern Style Chicken Biscuit (Large Biscuit)\", \"Bacon Cheddar McChicken\", \"Caramel Mocha (Large)\", \"Iced Mocha (Large)\", \"Premium McWrap Chicken & Bacon (Grilled Chicken)\", \"Sausage Biscuit (Large Biscuit)\", \"McRib\", \"Mocha (Large)\", \"Sausage, Egg & Cheese McGriddles with Egg Whites\", \"Large French Fries\", \"McFlurry with Oreo Cookies (Small)\", \"Premium Crispy Chicken Classic Sandwich\", \"Premium Grilled Chicken Club Sandwich\", \"Sausage Biscuit with Egg (Regular Biscuit)\", \"Bacon, Egg & Cheese Biscuit (Large Biscuit)\", \"Hotcakes and Sausage\", \"Premium McWrap Southwest Chicken (Grilled Chicken)\", \"Quarter Pounder with Cheese\", \"Sausage Biscuit with Egg Whites (Large Biscuit)\", \"Big Mac\", \"Frapp\\u00e9 Chocolate Chip (Small)\", \"Vanilla Shake (Small)\", \"Hot Chocolate (Large)\", \"Premium McWrap Chicken Sweet Chili (Crispy Chicken)\", \"Quarter Pounder Deluxe\", \"Steak & Egg Biscuit (Regular Biscuit)\", \"Frapp\\u00e9 Caramel (Medium)\", \"Frapp\\u00e9 Mocha (Medium)\", \"Sausage, Egg & Cheese McGriddles\", \"Strawberry Shake (Small)\", \"Chocolate Shake (Small)\", \"Bacon, Egg & Cheese Bagel with Egg Whites\", \"Sausage Biscuit with Egg (Large Biscuit)\", \"Bacon Clubhouse Grilled Chicken Sandwich\", \"Quarter Pounder with Bacon & Cheese\", \"Premium Crispy Chicken Ranch BLT Sandwich\", \"Premium McWrap Chicken & Ranch (Crispy Chicken)\", \"Quarter Pounder with Bacon Habanero Ranch\", \"Bacon, Egg & Cheese Bagel\", \"Frapp\\u00e9 Chocolate Chip (Medium)\", \"Premium McWrap Chicken & Bacon (Crispy Chicken)\", \"Big Breakfast with Egg Whites (Regular Biscuit)\", \"McFlurry with M&M\\u2019s Candies (Small)\", \"Shamrock Shake (Medium)\", \"Vanilla Shake (Medium)\", \"Frapp\\u00e9 Caramel (Large)\", \"Frapp\\u00e9 Mocha (Large)\", \"Premium Crispy Chicken Club Sandwich\", \"Premium McWrap Southwest Chicken (Crispy Chicken)\", \"Steak, Egg & Cheese Bagel\", \"Big Breakfast with Egg Whites (Large Biscuit)\", \"McFlurry with Oreo Cookies (Medium)\", \"Strawberry Shake (Medium)\", \"Chocolate Shake (Medium)\", \"Bacon Clubhouse Burger\", \"Big Breakfast (Regular Biscuit)\", \"Bacon Clubhouse Crispy Chicken Sandwich\", \"Double Quarter Pounder with Cheese\", \"Frapp\\u00e9 Chocolate Chip (Large)\", \"Big Breakfast (Large Biscuit)\", \"McFlurry with Reese's Peanut Butter Cups (Medium)\", \"Shamrock Shake (Large)\", \"Vanilla Shake (Large)\", \"Chocolate Shake (Large)\", \"Strawberry Shake (Large)\", \"McFlurry with M&M\\u2019s Candies (Medium)\", \"Chicken McNuggets (20 piece)\", \"Big Breakfast with Hotcakes and Egg Whites (Regular Biscuit)\", \"Big Breakfast with Hotcakes and Egg Whites (Large Biscuit)\", \"Big Breakfast with Hotcakes (Regular Biscuit)\", \"Big Breakfast with Hotcakes (Large Biscuit)\", \"Chicken McNuggets (40 piece)\"]}],\n",
       "                        {\"height\": 2600, \"template\": {\"data\": {\"bar\": [{\"error_x\": {\"color\": \"#2a3f5f\"}, \"error_y\": {\"color\": \"#2a3f5f\"}, \"marker\": {\"line\": {\"color\": \"#E5ECF6\", \"width\": 0.5}}, \"type\": \"bar\"}], \"barpolar\": [{\"marker\": {\"line\": {\"color\": \"#E5ECF6\", \"width\": 0.5}}, \"type\": \"barpolar\"}], \"carpet\": [{\"aaxis\": {\"endlinecolor\": \"#2a3f5f\", \"gridcolor\": \"white\", \"linecolor\": \"white\", \"minorgridcolor\": \"white\", \"startlinecolor\": \"#2a3f5f\"}, \"baxis\": {\"endlinecolor\": \"#2a3f5f\", \"gridcolor\": \"white\", \"linecolor\": \"white\", \"minorgridcolor\": \"white\", \"startlinecolor\": \"#2a3f5f\"}, \"type\": \"carpet\"}], \"choropleth\": [{\"colorbar\": {\"outlinewidth\": 0, \"ticks\": \"\"}, \"type\": \"choropleth\"}], \"contour\": [{\"colorbar\": {\"outlinewidth\": 0, \"ticks\": \"\"}, \"colorscale\": [[0.0, \"#0d0887\"], [0.1111111111111111, \"#46039f\"], [0.2222222222222222, \"#7201a8\"], [0.3333333333333333, \"#9c179e\"], [0.4444444444444444, \"#bd3786\"], [0.5555555555555556, \"#d8576b\"], [0.6666666666666666, \"#ed7953\"], [0.7777777777777778, \"#fb9f3a\"], [0.8888888888888888, \"#fdca26\"], [1.0, \"#f0f921\"]], \"type\": \"contour\"}], \"contourcarpet\": [{\"colorbar\": {\"outlinewidth\": 0, \"ticks\": \"\"}, \"type\": \"contourcarpet\"}], \"heatmap\": [{\"colorbar\": {\"outlinewidth\": 0, \"ticks\": \"\"}, \"colorscale\": [[0.0, \"#0d0887\"], [0.1111111111111111, \"#46039f\"], [0.2222222222222222, \"#7201a8\"], [0.3333333333333333, \"#9c179e\"], [0.4444444444444444, \"#bd3786\"], [0.5555555555555556, \"#d8576b\"], [0.6666666666666666, \"#ed7953\"], [0.7777777777777778, \"#fb9f3a\"], [0.8888888888888888, \"#fdca26\"], [1.0, \"#f0f921\"]], \"type\": \"heatmap\"}], \"heatmapgl\": [{\"colorbar\": {\"outlinewidth\": 0, \"ticks\": \"\"}, \"colorscale\": [[0.0, \"#0d0887\"], [0.1111111111111111, \"#46039f\"], [0.2222222222222222, \"#7201a8\"], [0.3333333333333333, \"#9c179e\"], [0.4444444444444444, \"#bd3786\"], [0.5555555555555556, \"#d8576b\"], [0.6666666666666666, \"#ed7953\"], [0.7777777777777778, \"#fb9f3a\"], [0.8888888888888888, \"#fdca26\"], [1.0, \"#f0f921\"]], \"type\": \"heatmapgl\"}], \"histogram\": [{\"marker\": {\"colorbar\": {\"outlinewidth\": 0, \"ticks\": \"\"}}, \"type\": \"histogram\"}], \"histogram2d\": [{\"colorbar\": {\"outlinewidth\": 0, \"ticks\": \"\"}, \"colorscale\": [[0.0, \"#0d0887\"], [0.1111111111111111, \"#46039f\"], [0.2222222222222222, \"#7201a8\"], [0.3333333333333333, \"#9c179e\"], [0.4444444444444444, \"#bd3786\"], [0.5555555555555556, \"#d8576b\"], [0.6666666666666666, \"#ed7953\"], [0.7777777777777778, \"#fb9f3a\"], [0.8888888888888888, \"#fdca26\"], [1.0, \"#f0f921\"]], \"type\": \"histogram2d\"}], \"histogram2dcontour\": [{\"colorbar\": {\"outlinewidth\": 0, \"ticks\": \"\"}, \"colorscale\": [[0.0, \"#0d0887\"], [0.1111111111111111, \"#46039f\"], [0.2222222222222222, \"#7201a8\"], [0.3333333333333333, \"#9c179e\"], [0.4444444444444444, \"#bd3786\"], [0.5555555555555556, \"#d8576b\"], [0.6666666666666666, \"#ed7953\"], [0.7777777777777778, \"#fb9f3a\"], [0.8888888888888888, \"#fdca26\"], [1.0, \"#f0f921\"]], \"type\": \"histogram2dcontour\"}], \"mesh3d\": [{\"colorbar\": {\"outlinewidth\": 0, \"ticks\": \"\"}, \"type\": \"mesh3d\"}], \"parcoords\": [{\"line\": {\"colorbar\": {\"outlinewidth\": 0, \"ticks\": \"\"}}, \"type\": \"parcoords\"}], \"pie\": [{\"automargin\": true, \"type\": \"pie\"}], \"scatter\": [{\"marker\": {\"colorbar\": {\"outlinewidth\": 0, \"ticks\": \"\"}}, \"type\": \"scatter\"}], \"scatter3d\": [{\"line\": {\"colorbar\": {\"outlinewidth\": 0, \"ticks\": \"\"}}, \"marker\": {\"colorbar\": {\"outlinewidth\": 0, \"ticks\": \"\"}}, \"type\": \"scatter3d\"}], \"scattercarpet\": [{\"marker\": {\"colorbar\": {\"outlinewidth\": 0, \"ticks\": \"\"}}, \"type\": \"scattercarpet\"}], \"scattergeo\": [{\"marker\": {\"colorbar\": {\"outlinewidth\": 0, \"ticks\": \"\"}}, \"type\": \"scattergeo\"}], \"scattergl\": [{\"marker\": {\"colorbar\": {\"outlinewidth\": 0, \"ticks\": \"\"}}, \"type\": \"scattergl\"}], \"scattermapbox\": [{\"marker\": {\"colorbar\": {\"outlinewidth\": 0, \"ticks\": \"\"}}, \"type\": \"scattermapbox\"}], \"scatterpolar\": [{\"marker\": {\"colorbar\": {\"outlinewidth\": 0, \"ticks\": \"\"}}, \"type\": \"scatterpolar\"}], \"scatterpolargl\": [{\"marker\": {\"colorbar\": {\"outlinewidth\": 0, \"ticks\": \"\"}}, \"type\": \"scatterpolargl\"}], \"scatterternary\": [{\"marker\": {\"colorbar\": {\"outlinewidth\": 0, \"ticks\": \"\"}}, \"type\": \"scatterternary\"}], \"surface\": [{\"colorbar\": {\"outlinewidth\": 0, \"ticks\": \"\"}, \"colorscale\": [[0.0, \"#0d0887\"], [0.1111111111111111, \"#46039f\"], [0.2222222222222222, \"#7201a8\"], [0.3333333333333333, \"#9c179e\"], [0.4444444444444444, \"#bd3786\"], [0.5555555555555556, \"#d8576b\"], [0.6666666666666666, \"#ed7953\"], [0.7777777777777778, \"#fb9f3a\"], [0.8888888888888888, \"#fdca26\"], [1.0, \"#f0f921\"]], \"type\": \"surface\"}], \"table\": [{\"cells\": {\"fill\": {\"color\": \"#EBF0F8\"}, \"line\": {\"color\": \"white\"}}, \"header\": {\"fill\": {\"color\": \"#C8D4E3\"}, \"line\": {\"color\": \"white\"}}, \"type\": \"table\"}]}, \"layout\": {\"annotationdefaults\": {\"arrowcolor\": \"#2a3f5f\", \"arrowhead\": 0, \"arrowwidth\": 1}, \"coloraxis\": {\"colorbar\": {\"outlinewidth\": 0, \"ticks\": \"\"}}, \"colorscale\": {\"diverging\": [[0, \"#8e0152\"], [0.1, \"#c51b7d\"], [0.2, \"#de77ae\"], [0.3, \"#f1b6da\"], [0.4, \"#fde0ef\"], [0.5, \"#f7f7f7\"], [0.6, \"#e6f5d0\"], [0.7, \"#b8e186\"], [0.8, \"#7fbc41\"], [0.9, \"#4d9221\"], [1, \"#276419\"]], \"sequential\": [[0.0, \"#0d0887\"], [0.1111111111111111, \"#46039f\"], [0.2222222222222222, \"#7201a8\"], [0.3333333333333333, \"#9c179e\"], [0.4444444444444444, \"#bd3786\"], [0.5555555555555556, \"#d8576b\"], [0.6666666666666666, \"#ed7953\"], [0.7777777777777778, \"#fb9f3a\"], [0.8888888888888888, \"#fdca26\"], [1.0, \"#f0f921\"]], \"sequentialminus\": [[0.0, \"#0d0887\"], [0.1111111111111111, \"#46039f\"], [0.2222222222222222, \"#7201a8\"], [0.3333333333333333, \"#9c179e\"], [0.4444444444444444, \"#bd3786\"], [0.5555555555555556, \"#d8576b\"], [0.6666666666666666, \"#ed7953\"], [0.7777777777777778, \"#fb9f3a\"], [0.8888888888888888, \"#fdca26\"], [1.0, \"#f0f921\"]]}, \"colorway\": [\"#636efa\", \"#EF553B\", \"#00cc96\", \"#ab63fa\", \"#FFA15A\", \"#19d3f3\", \"#FF6692\", \"#B6E880\", \"#FF97FF\", \"#FECB52\"], \"font\": {\"color\": \"#2a3f5f\"}, \"geo\": {\"bgcolor\": \"white\", \"lakecolor\": \"white\", \"landcolor\": \"#E5ECF6\", \"showlakes\": true, \"showland\": true, \"subunitcolor\": \"white\"}, \"hoverlabel\": {\"align\": \"left\"}, \"hovermode\": \"closest\", \"mapbox\": {\"style\": \"light\"}, \"paper_bgcolor\": \"white\", \"plot_bgcolor\": \"#E5ECF6\", \"polar\": {\"angularaxis\": {\"gridcolor\": \"white\", \"linecolor\": \"white\", \"ticks\": \"\"}, \"bgcolor\": \"#E5ECF6\", \"radialaxis\": {\"gridcolor\": \"white\", \"linecolor\": \"white\", \"ticks\": \"\"}}, \"scene\": {\"xaxis\": {\"backgroundcolor\": \"#E5ECF6\", \"gridcolor\": \"white\", \"gridwidth\": 2, \"linecolor\": \"white\", \"showbackground\": true, \"ticks\": \"\", \"zerolinecolor\": \"white\"}, \"yaxis\": {\"backgroundcolor\": \"#E5ECF6\", \"gridcolor\": \"white\", \"gridwidth\": 2, \"linecolor\": \"white\", \"showbackground\": true, \"ticks\": \"\", \"zerolinecolor\": \"white\"}, \"zaxis\": {\"backgroundcolor\": \"#E5ECF6\", \"gridcolor\": \"white\", \"gridwidth\": 2, \"linecolor\": \"white\", \"showbackground\": true, \"ticks\": \"\", \"zerolinecolor\": \"white\"}}, \"shapedefaults\": {\"line\": {\"color\": \"#2a3f5f\"}}, \"ternary\": {\"aaxis\": {\"gridcolor\": \"white\", \"linecolor\": \"white\", \"ticks\": \"\"}, \"baxis\": {\"gridcolor\": \"white\", \"linecolor\": \"white\", \"ticks\": \"\"}, \"bgcolor\": \"#E5ECF6\", \"caxis\": {\"gridcolor\": \"white\", \"linecolor\": \"white\", \"ticks\": \"\"}}, \"title\": {\"x\": 0.05}, \"xaxis\": {\"automargin\": true, \"gridcolor\": \"white\", \"linecolor\": \"white\", \"ticks\": \"\", \"title\": {\"standoff\": 15}, \"zerolinecolor\": \"white\", \"zerolinewidth\": 2}, \"yaxis\": {\"automargin\": true, \"gridcolor\": \"white\", \"linecolor\": \"white\", \"ticks\": \"\", \"title\": {\"standoff\": 15}, \"zerolinecolor\": \"white\", \"zerolinewidth\": 2}}}, \"title\": {\"text\": \"Barplot of Calories in MacDonald Food Items\"}, \"width\": 1500, \"yaxis\": {\"showgrid\": false, \"showline\": false, \"showticklabels\": true}},\n",
       "                        {\"responsive\": true}\n",
       "                    ).then(function(){\n",
       "                            \n",
       "var gd = document.getElementById('1c24297f-1272-420d-b456-8d4ab4ce3757');\n",
       "var x = new MutationObserver(function (mutations, observer) {{\n",
       "        var display = window.getComputedStyle(gd).display;\n",
       "        if (!display || display === 'none') {{\n",
       "            console.log([gd, 'removed!']);\n",
       "            Plotly.purge(gd);\n",
       "            observer.disconnect();\n",
       "        }}\n",
       "}});\n",
       "\n",
       "// Listen for the removal of the full notebook cells\n",
       "var notebookContainer = gd.closest('#notebook-container');\n",
       "if (notebookContainer) {{\n",
       "    x.observe(notebookContainer, {childList: true});\n",
       "}}\n",
       "\n",
       "// Listen for the clearing of the current output cell\n",
       "var outputEl = gd.closest('.output');\n",
       "if (outputEl) {{\n",
       "    x.observe(outputEl, {childList: true});\n",
       "}}\n",
       "\n",
       "                        })\n",
       "                };\n",
       "                });\n",
       "            </script>\n",
       "        </div>"
      ]
     },
     "metadata": {},
     "output_type": "display_data"
    }
   ],
   "source": [
    "trace2 = go.Bar(\n",
    "    x=x ,\n",
    "    y=y,\n",
    "    marker=dict(\n",
    "        color=x,\n",
    "        colorscale = 'Jet',\n",
    "        reversescale = False\n",
    "    ),\n",
    "#    name='Household savings, percentage of household disposable income',\n",
    "    orientation='h',\n",
    ")\n",
    "\n",
    "layout = dict(\n",
    "    title='Barplot of Calories in MacDonald Food Items',\n",
    "     width = 1500, height = 2600,\n",
    "    yaxis=dict(\n",
    "        showgrid=False,\n",
    "        showline=False,\n",
    "        showticklabels=True,\n",
    "#         domain=[0, 0.85],\n",
    "    ))\n",
    "\n",
    "fig1 = go.Figure(data=[trace2])\n",
    "fig1['layout'].update(layout)\n",
    "py.iplot(fig1, filename='plots')"
   ]
  },
  {
   "cell_type": "code",
   "execution_count": null,
   "metadata": {},
   "outputs": [],
   "source": []
  }
 ],
 "metadata": {
  "kernelspec": {
   "display_name": "Python 3",
   "language": "python",
   "name": "python3"
  },
  "language_info": {
   "codemirror_mode": {
    "name": "ipython",
    "version": 3
   },
   "file_extension": ".py",
   "mimetype": "text/x-python",
   "name": "python",
   "nbconvert_exporter": "python",
   "pygments_lexer": "ipython3",
   "version": "3.7.5"
  }
 },
 "nbformat": 4,
 "nbformat_minor": 2
}
