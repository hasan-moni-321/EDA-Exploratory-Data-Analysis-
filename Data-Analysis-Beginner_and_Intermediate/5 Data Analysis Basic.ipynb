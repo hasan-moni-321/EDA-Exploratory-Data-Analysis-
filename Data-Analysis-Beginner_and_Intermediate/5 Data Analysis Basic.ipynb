{
 "cells": [
  {
   "cell_type": "code",
   "execution_count": 1,
   "metadata": {},
   "outputs": [],
   "source": [
    "import numpy as np\n",
    "import pandas as pd\n",
    "import matplotlib.pyplot as plt"
   ]
  },
  {
   "cell_type": "code",
   "execution_count": 2,
   "metadata": {},
   "outputs": [
    {
     "name": "stdout",
     "output_type": "stream",
     "text": [
      "A  5     120\n",
      "   10    220\n",
      "B  5     320\n",
      "   10    420\n",
      "C  5     520\n",
      "   10    620\n",
      "dtype: int64\n",
      "A    220\n",
      "B    420\n",
      "C    620\n",
      "dtype: int64\n",
      "    5    10\n",
      "A  120  220\n",
      "B  320  420\n",
      "C  520  620\n",
      "A  5     120\n",
      "   10    220\n",
      "B  5     320\n",
      "   10    420\n",
      "C  5     520\n",
      "   10    620\n",
      "dtype: int64\n"
     ]
    }
   ],
   "source": [
    "#multiindex series\n",
    "\n",
    "index = [('A',5), ('A',10), ('B',5), ('B',10), ('C',5), ('C',10)]\n",
    "value = [120, 220, 320, 420, 520, 620]\n",
    "#making multiple index\n",
    "index = pd.MultiIndex.from_tuples(index)\n",
    "s = pd.Series(value, index)\n",
    "print(s)\n",
    "#printing only 10 index value\n",
    "index_10 = s[:,10]\n",
    "print(index_10)\n",
    "#unstacking of the s. That make extra column\n",
    "unstack = s.unstack()\n",
    "print(unstack)\n",
    "#again stacking of the unstack\n",
    "stack = unstack.stack()\n",
    "print(stack)"
   ]
  },
  {
   "cell_type": "code",
   "execution_count": 3,
   "metadata": {},
   "outputs": [
    {
     "name": "stdout",
     "output_type": "stream",
     "text": [
      "      number  country\n",
      "A 5      120      500\n",
      "  10     220     1000\n",
      "B 5      320      350\n",
      "  10     420      650\n",
      "C 5      520      850\n",
      "  10     620      950\n",
      "A  5     4.166667\n",
      "   10    4.545455\n",
      "B  5     1.093750\n",
      "   10    1.547619\n",
      "C  5     1.634615\n",
      "   10    1.532258\n",
      "dtype: float64\n"
     ]
    }
   ],
   "source": [
    "#multiindex DataFrame\n",
    "\n",
    "index = [('A',5), ('A',10), ('B',5), ('B',10), ('C',5), ('C',10)]\n",
    "value = [120, 220, 320, 420, 520, 620]\n",
    "index = pd.MultiIndex.from_tuples(index)\n",
    "s = pd.Series(value, index=index)\n",
    "df = pd.DataFrame({'number':s, 'country':[500,1000,350,650,850,950]})\n",
    "print(df)\n",
    "#making new column\n",
    "new_column = df['country'] / df['number']\n",
    "new_column.unstack()\n",
    "print(new_column)"
   ]
  },
  {
   "cell_type": "code",
   "execution_count": 4,
   "metadata": {},
   "outputs": [
    {
     "name": "stdout",
     "output_type": "stream",
     "text": [
      "        data1     data2\n",
      "a 1  0.691352  0.711610\n",
      "  2  0.621082  0.867018\n",
      "b 1  0.580684  0.064644\n",
      "  2  0.282513  0.872373\n",
      "                  data1     data2\n",
      "letter number                    \n",
      "a      1       0.691352  0.711610\n",
      "       2       0.621082  0.867018\n",
      "b      1       0.580684  0.064644\n",
      "       2       0.282513  0.872373\n",
      "A  5     100\n",
      "   10    200\n",
      "B  5     300\n",
      "   10    400\n",
      "C  5     500\n",
      "   10    600\n",
      "dtype: int64\n"
     ]
    }
   ],
   "source": [
    "#creating multiindex\n",
    "\n",
    "df = pd.DataFrame(np.random.rand(4,2),\n",
    "\n",
    "index=[['a','a','b','b'], [1,2,1,2]],\n",
    "columns=['data1','data2'])\n",
    "\n",
    "print(df)\n",
    "#giving the name of the index\n",
    "df.index.names = ['letter','number']\n",
    "print(df)\n",
    "\n",
    "data = {('A',5):100, ('A',10):200, ('B',5):300, ('B',10):400, ('C',5):500\n",
    ", ('C',10):600}\n",
    "s = pd.Series(data)\n",
    "print(s)"
   ]
  },
  {
   "cell_type": "code",
   "execution_count": 5,
   "metadata": {},
   "outputs": [
    {
     "name": "stderr",
     "output_type": "stream",
     "text": [
      "/home/hasan/anaconda3/lib/python3.7/site-packages/ipykernel_launcher.py:7: FutureWarning: the 'labels' keyword is deprecated, use 'codes' instead\n",
      "  import sys\n"
     ]
    }
   ],
   "source": [
    "#multiindex constructor\n",
    "\n",
    "arrar = pd.MultiIndex.from_arrays([['a','a','b','b'], [1,2,1,2]])\n",
    "tuples = pd.MultiIndex.from_tuples([('a',1),('a',2),('b',1),('b',2)])\n",
    "product = pd.MultiIndex.from_product([['a','b'], [1,2]])\n",
    "multi_index = pd.MultiIndex(levels=[['a','b'], [1,2]],\n",
    "labels=[[0,0,1,1],[0,1,0,1]])"
   ]
  },
  {
   "cell_type": "code",
   "execution_count": 7,
   "metadata": {},
   "outputs": [
    {
     "name": "stdout",
     "output_type": "stream",
     "text": [
      "upp_name      AX    BY    CZ   \n",
      "low_name       X  Y  X  Y  X  Y\n",
      "letter number                  \n",
      "A      5       2  4  7  6  3  4\n",
      "       10      5  5  3  6  4  6\n",
      "B      5       4  6  2  4  3  5\n",
      "       10      5  6  7  2  7  3\n",
      "printing BY column :\n",
      " low_name       X  Y\n",
      "letter number      \n",
      "A      5       7  6\n",
      "       10      3  6\n",
      "B      5       2  4\n",
      "       10      7  2\n",
      "printing only Y of BY column : letter  number\n",
      "A       5         6\n",
      "        10        6\n",
      "B       5         4\n",
      "        10        2\n",
      "Name: (BY, Y), dtype: int64\n",
      "printing two row and two column : upp_name      AX   \n",
      "low_name       X  Y\n",
      "letter number      \n",
      "A      5       2  4\n",
      "       10      5  5\n",
      "printing two row and two column : upp_name      AX    BY   \n",
      "low_name       X  Y  X  Y\n",
      "letter number            \n",
      "A      5       2  4  7  6\n",
      "       10      5  5  3  6\n",
      "B      5       4  6  2  4\n",
      "       10      5  6  7  2\n",
      "upp_name      AX BY CZ\n",
      "low_name       X  X  X\n",
      "letter number         \n",
      "A      10      5  3  4\n",
      "B      10      5  7  7\n"
     ]
    }
   ],
   "source": [
    "#MultiIndex for rows and columns. And names of rows and columns\n",
    "\n",
    "index = pd.MultiIndex.from_product([['A','B'], [5,10]], names=['letter','number'])\n",
    "column = pd.MultiIndex.from_product([['AX','BY','CZ'], ['X','Y']], names=['upp_name','low_name'])\n",
    "df = pd.DataFrame(np.random.randint(2,8, (4,6)), index=index, columns=column)\n",
    "print(df)\n",
    "#printing only one upp_name columns\n",
    "col_name = df['BY']\n",
    "print('printing BY column :\\n',col_name)\n",
    "#printing Y of BY column\n",
    "BY_Y = df['BY','Y']\n",
    "print('printing only Y of BY column :',BY_Y)\n",
    "#printing two row and two column using iloc\n",
    "two_row_and_two_col = df.iloc[:2, :2]\n",
    "print('printing two row and two column :',two_row_and_two_col)\n",
    "#printing two row and two column using loc\n",
    "two_row_two_col = df.loc[:, ['AX','BY']]\n",
    "print('printing two row and two column :',two_row_two_col)\n",
    "#Use of IndexSlice\n",
    "idx = pd.IndexSlice\n",
    "sliced_df = df.loc[idx[:,10], idx[:,'X']]\n",
    "print(sliced_df)"
   ]
  },
  {
   "cell_type": "code",
   "execution_count": 8,
   "metadata": {},
   "outputs": [
    {
     "name": "stdout",
     "output_type": "stream",
     "text": [
      "upp_name      AX    BY    CZ   \n",
      "low_name       X  Y  X  Y  X  Y\n",
      "letter number                  \n",
      "A      5       3  6  2  3  6  5\n",
      "       10      4  7  2  6  7  5\n",
      "B      5       5  4  5  4  6  7\n",
      "       10      7  3  4  5  2  4\n",
      "upp_name   AX        BY        CZ     \n",
      "low_name    X    Y    X    Y    X    Y\n",
      "number                                \n",
      "5         4.0  5.0  3.5  3.5  6.0  6.0\n",
      "10        5.5  5.0  3.0  5.5  4.5  4.5\n",
      "low_name              X         Y\n",
      "letter number                    \n",
      "A      5       3.666667  4.666667\n",
      "       10      4.333333  6.000000\n",
      "B      5       5.333333  5.000000\n",
      "       10      4.333333  4.000000\n"
     ]
    }
   ],
   "source": [
    "#MultiIndex for rows and columns. And names of rows and columns\n",
    "\n",
    "index = pd.MultiIndex.from_product([['A','B'], [5,10]], names=['letter','number'])\n",
    "column = pd.MultiIndex.from_product([['AX','BY','CZ'], ['X','Y']], names=['upp_name','low_name'])\n",
    "df = pd.DataFrame(np.random.randint(2,8, (4,6)), index=index, columns=column)\n",
    "print(df)\n",
    "mean = df.mean(level='number')\n",
    "print(mean)\n",
    "mean = df.mean(axis=1, level='low_name')\n",
    "print(mean)"
   ]
  },
  {
   "cell_type": "code",
   "execution_count": 9,
   "metadata": {},
   "outputs": [
    {
     "name": "stdout",
     "output_type": "stream",
     "text": [
      "        data1     data2\n",
      "a 1  0.966872  0.232193\n",
      "  2  0.916869  0.469702\n",
      "c 1  0.131632  0.399791\n",
      "  2  0.244440  0.780596\n",
      "b 1  0.036177  0.002275\n",
      "  2  0.308429  0.208901\n",
      "                  data1     data2\n",
      "letter number                    \n",
      "a      1       0.966872  0.232193\n",
      "       2       0.916869  0.469702\n",
      "b      1       0.036177  0.002275\n",
      "       2       0.308429  0.208901\n",
      "c      1       0.131632  0.399791\n",
      "       2       0.244440  0.780596\n",
      "           data1                         data2                    \n",
      "letter         a         b         c         a         b         c\n",
      "number                                                            \n",
      "1       0.966872  0.036177  0.131632  0.232193  0.002275  0.399791\n",
      "2       0.916869  0.308429  0.244440  0.469702  0.208901  0.780596\n",
      "           data1               data2          \n",
      "number         1         2         1         2\n",
      "letter                                        \n",
      "a       0.966872  0.916869  0.232193  0.469702\n",
      "b       0.036177  0.308429  0.002275  0.208901\n",
      "c       0.131632  0.244440  0.399791  0.780596\n",
      "resetting the df DataFrame :\n",
      "   letter  number     data1     data2\n",
      "0      a       1  0.966872  0.232193\n",
      "1      a       2  0.916869  0.469702\n",
      "2      c       1  0.131632  0.399791\n",
      "3      c       2  0.244440  0.780596\n",
      "4      b       1  0.036177  0.002275\n",
      "5      b       2  0.308429  0.208901\n",
      "setting the df DataFrame :\n",
      "                   data1     data2\n",
      "letter number                    \n",
      "a      1       0.966872  0.232193\n",
      "       2       0.916869  0.469702\n",
      "c      1       0.131632  0.399791\n",
      "       2       0.244440  0.780596\n",
      "b      1       0.036177  0.002275\n",
      "       2       0.308429  0.208901\n"
     ]
    }
   ],
   "source": [
    "df = pd.DataFrame(np.random.rand(6,2),\n",
    "\n",
    "index=[['a','a','c','c','b','b'], [1,2,1,2,1,2]],\n",
    "columns=['data1','data2'])\n",
    "\n",
    "print(df)\n",
    "#giving name of the index\n",
    "df.index.names = ['letter','number']\n",
    "#sorting the value\n",
    "sort = df.sort_index()\n",
    "print(sort)\n",
    "#unstacking with level 0\n",
    "unstack = df.unstack(level=0)\n",
    "print(unstack)\n",
    "#unstacking with level 1\n",
    "unstack = df.unstack(level=1)\n",
    "print(unstack)\n",
    "#resetting the df DataFrame\n",
    "df_flat = df.reset_index()\n",
    "print('resetting the df DataFrame :\\n',df_flat)\n",
    "#setting the df DataFrame\n",
    "sett = df_flat.set_index(['letter','number'])\n",
    "print('setting the df DataFrame :\\n',sett)"
   ]
  },
  {
   "cell_type": "code",
   "execution_count": 10,
   "metadata": {},
   "outputs": [
    {
     "name": "stdout",
     "output_type": "stream",
     "text": [
      "        data1     data2\n",
      "a 1  0.957092  0.068211\n",
      "  2  0.074269  0.555762\n",
      "c 1  0.363100  0.457169\n",
      "  2  0.871321  0.675092\n",
      "b 1  0.617718  0.357187\n",
      "  2  0.215321  0.617833\n",
      "      data1     data2\n",
      "1  0.957092  0.068211\n",
      "2  0.074269  0.555762\n",
      "data1    0.871321\n",
      "data2    0.675092\n",
      "Name: (c, 2), dtype: float64\n",
      "        data1     data2\n",
      "a 2  0.074269  0.555762\n",
      "c 2  0.871321  0.675092\n",
      "b 2  0.215321  0.617833\n",
      "        data1     data2\n",
      "a 1  0.957092       NaN\n",
      "  2       NaN  0.555762\n",
      "c 1       NaN       NaN\n",
      "  2  0.871321  0.675092\n",
      "b 1  0.617718       NaN\n",
      "  2       NaN  0.617833\n",
      "        data1     data2\n",
      "a 1  0.957092  0.068211\n",
      "  2  0.074269  0.555762\n",
      "c 1  0.363100  0.457169\n",
      "  2  0.871321  0.675092\n"
     ]
    }
   ],
   "source": [
    "df = pd.DataFrame(np.random.rand(6,2),\n",
    "\n",
    "index=[['a','a','c','c','b','b'], [1,2,1,2,1,2]],\n",
    "columns=['data1','data2'])\n",
    "\n",
    "print(df)\n",
    "#printing first two row\n",
    "f_two_row = df.loc['a',:]\n",
    "print(f_two_row)\n",
    "#printing row three\n",
    "row_three = df.loc['c',2]\n",
    "print(row_three)\n",
    "#printing only two index value\n",
    "sli = pd.IndexSlice\n",
    "only_two_index = df.loc[sli[:,2], sli['data1','data2']]\n",
    "print(only_two_index)\n",
    "#printing greater than .5 value\n",
    "greater_than = df[df>.5]\n",
    "print(greater_than)\n",
    "a_and_c = df.loc[['a','c']]\n",
    "print(a_and_c)"
   ]
  },
  {
   "cell_type": "code",
   "execution_count": null,
   "metadata": {},
   "outputs": [],
   "source": []
  }
 ],
 "metadata": {
  "kernelspec": {
   "display_name": "Python 3",
   "language": "python",
   "name": "python3"
  },
  "language_info": {
   "codemirror_mode": {
    "name": "ipython",
    "version": 3
   },
   "file_extension": ".py",
   "mimetype": "text/x-python",
   "name": "python",
   "nbconvert_exporter": "python",
   "pygments_lexer": "ipython3",
   "version": "3.7.4"
  }
 },
 "nbformat": 4,
 "nbformat_minor": 2
}
