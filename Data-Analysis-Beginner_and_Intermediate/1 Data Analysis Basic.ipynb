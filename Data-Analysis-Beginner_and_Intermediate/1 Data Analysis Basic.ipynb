{
 "cells": [
  {
   "cell_type": "code",
   "execution_count": 1,
   "metadata": {},
   "outputs": [],
   "source": [
    "import numpy as np\n",
    "import pandas as pd"
   ]
  },
  {
   "cell_type": "code",
   "execution_count": 2,
   "metadata": {},
   "outputs": [
    {
     "name": "stdout",
     "output_type": "stream",
     "text": [
      "   A  B  C  D\n",
      "0  5  0  3  3\n",
      "1  7  9  3  5\n",
      "2  2  4  7  6\n",
      "finding exponent value of df\n",
      "             A            B            C           D\n",
      "0   148.413159     1.000000    20.085537   20.085537\n",
      "1  1096.633158  8103.083928    20.085537  148.413159\n",
      "2     7.389056    54.598150  1096.633158  403.428793\n",
      "sin value of df\n",
      "          A             B         C         D\n",
      "0 -0.707107  0.000000e+00  0.707107  0.707107\n",
      "1 -0.707107  7.071068e-01  0.707107 -0.707107\n",
      "2  1.000000  1.224647e-16 -0.707107 -1.000000\n"
     ]
    }
   ],
   "source": [
    "rng = np.random.RandomState(0)\n",
    "\n",
    "df = pd.DataFrame(rng.randint(0,10, (3,4)), columns=['A','B','C','D'])\n",
    "print(df)\n",
    "print('finding exponent value of df')\n",
    "exponent = np.exp(df)\n",
    "print(exponent)\n",
    "print('sin value of df')\n",
    "sine = np.sin(df*np.pi/4)\n",
    "print(sine)"
   ]
  },
  {
   "cell_type": "code",
   "execution_count": 3,
   "metadata": {},
   "outputs": [
    {
     "name": "stdout",
     "output_type": "stream",
     "text": [
      "addition of Name and Address\n",
      "A    26.0\n",
      "B    77.0\n",
      "C     NaN\n",
      "D     NaN\n",
      "dtype: float64\n",
      "subtraction between Name and Address\n",
      "A   -4.0\n",
      "B   -9.0\n",
      "C    NaN\n",
      "D    NaN\n",
      "dtype: float64\n",
      "multiplication of Name and Address\n",
      "A     165.0\n",
      "B    1462.0\n",
      "C       NaN\n",
      "D       NaN\n",
      "dtype: float64\n",
      "dividing Name by Address\n",
      "A    0.733333\n",
      "B    0.790698\n",
      "C         NaN\n",
      "D         NaN\n",
      "dtype: float64\n",
      "printing index of Name and Address\n",
      "Index(['A', 'B', 'C', 'D'], dtype='object')\n"
     ]
    }
   ],
   "source": [
    "#addition, subtraction, multiplication and division between two series\n",
    "\n",
    "Name = pd.Series({'A':11, 'B':34, 'C':31}, name='Name')\n",
    "Address = pd.Series({'B':43, 'A':15, 'D':51}, name='Address')\n",
    "print('addition of Name and Address')\n",
    "add = Name + Address\n",
    "print(add)\n",
    "\n",
    "print('subtraction between Name and Address')\n",
    "sub = Name - Address\n",
    "print(sub)\n",
    "print('multiplication of Name and Address')\n",
    "mul = Name*Address\n",
    "print(mul)\n",
    "print('dividing Name by Address')\n",
    "division = Name/Address\n",
    "print(division)\n",
    "\n",
    "print('printing index of Name and Address')\n",
    "index = Name.index | Address.index\n",
    "print(index)"
   ]
  },
  {
   "cell_type": "code",
   "execution_count": 5,
   "metadata": {},
   "outputs": [
    {
     "name": "stdout",
     "output_type": "stream",
     "text": [
      "addition of Name and Address\n",
      "A    26.0\n",
      "B    77.0\n",
      "C    31.0\n",
      "D    51.0\n",
      "dtype: float64\n",
      "subtraction between Name and Address\n",
      "A    -4.0\n",
      "B    -9.0\n",
      "C    31.0\n",
      "D   -51.0\n",
      "dtype: float64\n",
      "multiplication of Name and Address\n",
      "A     165.0\n",
      "B    1462.0\n",
      "C       0.0\n",
      "D       0.0\n",
      "dtype: float64\n",
      "dividing Name by Address\n",
      "A    0.733333\n",
      "B    0.790698\n",
      "C         inf\n",
      "D    0.000000\n",
      "dtype: float64\n",
      "printing index of Name and Address\n",
      "Index(['A', 'B', 'C', 'D'], dtype='object')\n"
     ]
    }
   ],
   "source": [
    "#addition, subtraction, multiplication and division between two series using fill_value\n",
    "Name = pd.Series({'A':11, 'B':34, 'C':31}, name='Name')\n",
    "Address = pd.Series({'B':43, 'A':15, 'D':51}, name='Address')\n",
    "print('addition of Name and Address')\n",
    "add = Name.add(Address, fill_value=0)\n",
    "print(add)\n",
    "print('subtraction between Name and Address')\n",
    "sub = Name.sub(Address, fill_value=0)\n",
    "print(sub)\n",
    "print('multiplication of Name and Address')\n",
    "mul = Name.mul(Address, fill_value=0)\n",
    "print(mul)\n",
    "print('dividing Name by Address')\n",
    "division = Name.div(Address, fill_value=0)\n",
    "print(division)\n",
    "print('printing index of Name and Address')\n",
    "index = Name.index | Address.index\n",
    "print(index)"
   ]
  },
  {
   "cell_type": "code",
   "execution_count": 6,
   "metadata": {},
   "outputs": [
    {
     "name": "stdout",
     "output_type": "stream",
     "text": [
      "adding df1 and df2\n",
      "      A     B   C\n",
      "0  15.0  15.0 NaN\n",
      "1   2.0  11.0 NaN\n",
      "2   NaN   NaN NaN\n",
      "subtraction df1 and df2\n",
      "     A    B   C\n",
      "0  1.0  1.0 NaN\n",
      "1  0.0  1.0 NaN\n",
      "2  NaN  NaN NaN\n",
      "multiplication of df1 and df2\n",
      "      A     B   C\n",
      "0  56.0  56.0 NaN\n",
      "1   1.0  30.0 NaN\n",
      "2   NaN   NaN NaN\n",
      "dividing df1 and df2\n",
      "          A         B   C\n",
      "0  1.142857  1.142857 NaN\n",
      "1  1.000000  1.200000 NaN\n",
      "2       NaN       NaN NaN\n",
      "columns of df1 and df2\n",
      "Index(['A', 'B', 'C'], dtype='object')\n"
     ]
    }
   ],
   "source": [
    "#addition, subtraction, multiplication and division between two DataFrame\n",
    "\n",
    "df1 = pd.DataFrame(rng.randint(0,10, (2,2)), columns=['A','B'])\n",
    "df2 = pd.DataFrame(rng.randint(0,10, (3,3)), columns=['A','B','C'])\n",
    "print('adding df1 and df2')\n",
    "add = df1+df2\n",
    "print(add)\n",
    "print('subtraction df1 and df2')\n",
    "sub = df1-df2\n",
    "print(sub)\n",
    "\n",
    "print('multiplication of df1 and df2')\n",
    "mul = df1*df2\n",
    "print(mul)\n",
    "print('dividing df1 and df2')\n",
    "div = df1/df2\n",
    "print(div)\n",
    "print('columns of df1 and df2')\n",
    "columns = df1.columns | df2.columns\n",
    "print(columns)"
   ]
  },
  {
   "cell_type": "code",
   "execution_count": 7,
   "metadata": {},
   "outputs": [
    {
     "name": "stdout",
     "output_type": "stream",
     "text": [
      "adding df1 and df2\n",
      "       A     B     C\n",
      "0   3.00  2.00  5.75\n",
      "1  11.00  6.00  5.75\n",
      "2   5.75  5.75  9.75\n",
      "subtraction df1 and df2\n",
      "       A     B     C\n",
      "0   3.00  2.00  5.75\n",
      "1  11.00  6.00  5.75\n",
      "2   5.75  5.75  9.75\n",
      "multiplication of df1 and df2\n",
      "       A     B      C\n",
      "0   0.00  0.00   8.25\n",
      "1  24.00  5.00   8.25\n",
      "2   8.25  8.25  19.25\n",
      "dividing df1 and df2\n",
      "          A         B         C\n",
      "0       inf  0.000000  0.916667\n",
      "1  0.375000  5.000000  0.916667\n",
      "2  0.916667  0.916667  0.392857\n",
      "columns of df1 and df2\n",
      "Index(['A', 'B', 'C'], dtype='object')\n"
     ]
    }
   ],
   "source": [
    "#addition, subtraction, multiplication and division between two DataFrame\n",
    "\n",
    "df1 = pd.DataFrame(rng.randint(0,10, (2,2)), columns=['A','B'])\n",
    "df2 = pd.DataFrame(rng.randint(0,10, (3,3)), columns=['A','B','C'])\n",
    "#finding mean value of the df1 DataFrame\n",
    "mean = df1.stack().mean()\n",
    "print('adding df1 and df2')\n",
    "add = df1.add(df2, fill_value=mean)\n",
    "print(add)\n",
    "print('subtraction df1 and df2')\n",
    "sub = df1.add(df2, fill_value=mean)\n",
    "print(sub)\n",
    "\n",
    "print('multiplication of df1 and df2')\n",
    "mul = df1.mul(df2, fill_value=mean)\n",
    "print(mul)\n",
    "print('dividing df1 and df2')\n",
    "div = df1.div(df2, fill_value=mean)\n",
    "print(div)\n",
    "print('columns of df1 and df2')\n",
    "columns = df1.columns | df2.columns\n",
    "print(columns)"
   ]
  },
  {
   "cell_type": "code",
   "execution_count": 8,
   "metadata": {},
   "outputs": [
    {
     "name": "stdout",
     "output_type": "stream",
     "text": [
      "[[0 1 9 9]\n",
      " [0 4 7 3]\n",
      " [2 7 2 0]]\n",
      "subtracting 1st row from A\n",
      "[[ 0  0  0  0]\n",
      " [ 0  3 -2 -6]\n",
      " [ 2  6 -7 -9]]\n",
      "printing dataframe\n",
      "   Q  R  S  T\n",
      "0  0  1  9  9\n",
      "1  0  4  7  3\n",
      "2  2  7  2  0\n",
      "subtracting 1st row from df\n",
      "   Q  R  S  T\n",
      "0  0  0  0  0\n",
      "1  0  3 -2 -6\n",
      "2  2  6 -7 -9\n",
      "subtracting from df through column\n",
      "   Q  R  S  T\n",
      "0 -1  0  8  8\n",
      "1 -4  0  3 -1\n",
      "2 -5  0 -5 -7\n",
      "printing 1st row's 1st and 3rd columns value\n",
      "Q    0\n",
      "S    9\n",
      "Name: 0, dtype: int64\n",
      "     Q   R    S   T\n",
      "0  0.0 NaN  0.0 NaN\n",
      "1  0.0 NaN -2.0 NaN\n",
      "2  2.0 NaN -7.0 NaN\n"
     ]
    }
   ],
   "source": [
    "#subtracting from own array\n",
    "A = rng.randint(10, size=(3,4))\n",
    "print(A)\n",
    "print('subtracting 1st row from A')\n",
    "sub = A - A[0]\n",
    "print(sub)\n",
    "print('printing dataframe')\n",
    "df = pd.DataFrame(A, columns=list('QRST'))\n",
    "print(df)\n",
    "print('subtracting 1st row from df')\n",
    "sub = df-df.iloc[0]\n",
    "print(sub)\n",
    "print('subtracting from df through column')\n",
    "sub = df.sub(df['R'], axis=0)\n",
    "print(sub)\n",
    "print(\"printing 1st row's 1st and 3rd columns value\")\n",
    "short_df = df.iloc[0, ::2]\n",
    "print(short_df)\n",
    "sub_short_df = df - short_df\n",
    "print(sub_short_df)"
   ]
  },
  {
   "cell_type": "code",
   "execution_count": null,
   "metadata": {},
   "outputs": [],
   "source": []
  }
 ],
 "metadata": {
  "kernelspec": {
   "display_name": "Python 3",
   "language": "python",
   "name": "python3"
  },
  "language_info": {
   "codemirror_mode": {
    "name": "ipython",
    "version": 3
   },
   "file_extension": ".py",
   "mimetype": "text/x-python",
   "name": "python",
   "nbconvert_exporter": "python",
   "pygments_lexer": "ipython3",
   "version": "3.7.4"
  }
 },
 "nbformat": 4,
 "nbformat_minor": 2
}
