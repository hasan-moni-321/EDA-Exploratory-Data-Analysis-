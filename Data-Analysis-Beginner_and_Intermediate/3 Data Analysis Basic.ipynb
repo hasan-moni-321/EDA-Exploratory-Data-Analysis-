{
 "cells": [
  {
   "cell_type": "code",
   "execution_count": 1,
   "metadata": {},
   "outputs": [],
   "source": [
    "import numpy as np\n",
    "import pandas as pd"
   ]
  },
  {
   "cell_type": "code",
   "execution_count": 2,
   "metadata": {},
   "outputs": [
    {
     "name": "stdout",
     "output_type": "stream",
     "text": [
      "None in array\n",
      "[1 None 3 7]\n",
      "object\n",
      "printing another array with np.nan\n",
      "[ 1. nan  5.  2.]\n",
      "float64\n",
      "finding sum, min, max of val2\n",
      "nan\n",
      "nan\n",
      "nan\n",
      "finding real sum, min, max of val2\n",
      "8.0\n",
      "1.0\n",
      "5.0\n",
      "calculation with np.nan\n",
      "nan\n",
      "nan\n",
      "nan\n"
     ]
    }
   ],
   "source": [
    "#Handling missing data\n",
    "print('None in array')\n",
    "val = np.array([1,None, 3,7])\n",
    "print(val)\n",
    "print(val.dtype)\n",
    "print('printing another array with np.nan')\n",
    "val2 = np.array([1,np.nan,5,2])\n",
    "print(val2)\n",
    "print(val2.dtype)\n",
    "print('finding sum, min, max of val2')\n",
    "print(val2.sum())\n",
    "print(val2.min())\n",
    "print(val2.max())\n",
    "print('finding real sum, min, max of val2')\n",
    "print(np.nansum(val2))\n",
    "print(np.nanmin(val2))\n",
    "print(np.nanmax(val2))\n",
    "print('calculation with np.nan')\n",
    "n = np.nan+4\n",
    "print(n)\n",
    "nn = np.nan*4\n",
    "print(nn)\n",
    "nnn = np.nan-4\n",
    "print(nnn)"
   ]
  },
  {
   "cell_type": "code",
   "execution_count": 3,
   "metadata": {},
   "outputs": [
    {
     "name": "stdout",
     "output_type": "stream",
     "text": [
      "np.nan and None in Series\n",
      "0    1.0\n",
      "1    NaN\n",
      "2    2.0\n",
      "3    NaN\n",
      "dtype: float64\n",
      "exchange None in Series\n",
      "0    0\n",
      "1    1\n",
      "dtype: int64\n",
      "0    NaN\n",
      "1    1.0\n",
      "dtype: float64\n"
     ]
    }
   ],
   "source": [
    "#np.nan and None in Series\n",
    "print('np.nan and None in Series')\n",
    "s = pd.Series([1,np.nan,2,None])\n",
    "print(s)\n",
    "print('exchange None in Series')\n",
    "s = pd.Series(range(2), dtype=int)\n",
    "print(s)\n",
    "s[0]=None\n",
    "print(s)"
   ]
  },
  {
   "cell_type": "code",
   "execution_count": 4,
   "metadata": {},
   "outputs": [
    {
     "ename": "SyntaxError",
     "evalue": "invalid syntax (<ipython-input-4-38940e6a1afb>, line 3)",
     "output_type": "error",
     "traceback": [
      "\u001b[0;36m  File \u001b[0;32m\"<ipython-input-4-38940e6a1afb>\"\u001b[0;36m, line \u001b[0;32m3\u001b[0m\n\u001b[0;31m    1. isnull()\u001b[0m\n\u001b[0m            ^\u001b[0m\n\u001b[0;31mSyntaxError\u001b[0m\u001b[0;31m:\u001b[0m invalid syntax\n"
     ]
    }
   ],
   "source": [
    "#function of Operating on Null Value\n",
    "\n",
    "1. isnull()\n",
    "2. notnull()\n",
    "3. dropna()\n",
    "4. fillna()"
   ]
  },
  {
   "cell_type": "code",
   "execution_count": 5,
   "metadata": {},
   "outputs": [
    {
     "name": "stdout",
     "output_type": "stream",
     "text": [
      "0        1\n",
      "1      NaN\n",
      "2    hello\n",
      "3     None\n",
      "dtype: object\n",
      "use of isnull() function\n"
     ]
    },
    {
     "ename": "NameError",
     "evalue": "name 'a' is not defined",
     "output_type": "error",
     "traceback": [
      "\u001b[0;31m---------------------------------------------------------------------------\u001b[0m",
      "\u001b[0;31mNameError\u001b[0m                                 Traceback (most recent call last)",
      "\u001b[0;32m<ipython-input-5-66ab7d18c36d>\u001b[0m in \u001b[0;36m<module>\u001b[0;34m\u001b[0m\n\u001b[1;32m      5\u001b[0m \u001b[0mprint\u001b[0m\u001b[0;34m(\u001b[0m\u001b[0;34m'use of isnull() function'\u001b[0m\u001b[0;34m)\u001b[0m\u001b[0;34m\u001b[0m\u001b[0;34m\u001b[0m\u001b[0m\n\u001b[1;32m      6\u001b[0m \u001b[0misnull\u001b[0m \u001b[0;34m=\u001b[0m \u001b[0ms\u001b[0m\u001b[0;34m.\u001b[0m\u001b[0misnull\u001b[0m\u001b[0;34m(\u001b[0m\u001b[0;34m)\u001b[0m\u001b[0;34m\u001b[0m\u001b[0;34m\u001b[0m\u001b[0m\n\u001b[0;32m----> 7\u001b[0;31m \u001b[0mprint\u001b[0m\u001b[0;34m(\u001b[0m\u001b[0ma\u001b[0m\u001b[0;34m)\u001b[0m\u001b[0;34m\u001b[0m\u001b[0;34m\u001b[0m\u001b[0m\n\u001b[0m\u001b[1;32m      8\u001b[0m \u001b[0mprint\u001b[0m\u001b[0;34m(\u001b[0m\u001b[0;34m'use of notnull() function'\u001b[0m\u001b[0;34m)\u001b[0m\u001b[0;34m\u001b[0m\u001b[0;34m\u001b[0m\u001b[0m\n\u001b[1;32m      9\u001b[0m \u001b[0mnotnull\u001b[0m \u001b[0;34m=\u001b[0m \u001b[0ms\u001b[0m\u001b[0;34m.\u001b[0m\u001b[0mnotnull\u001b[0m\u001b[0;34m(\u001b[0m\u001b[0;34m)\u001b[0m\u001b[0;34m\u001b[0m\u001b[0;34m\u001b[0m\u001b[0m\n",
      "\u001b[0;31mNameError\u001b[0m: name 'a' is not defined"
     ]
    }
   ],
   "source": [
    "#detecting null value\n",
    "\n",
    "s = pd.Series([1, np.nan, 'hello', None])\n",
    "print(s)\n",
    "print('use of isnull() function')\n",
    "isnull = s.isnull()\n",
    "print(a)\n",
    "print('use of notnull() function')\n",
    "notnull = s.notnull()\n",
    "print(notnull)"
   ]
  },
  {
   "cell_type": "code",
   "execution_count": 6,
   "metadata": {},
   "outputs": [
    {
     "name": "stdout",
     "output_type": "stream",
     "text": [
      "0        1\n",
      "1      NaN\n",
      "2    hello\n",
      "3     None\n",
      "dtype: object\n",
      "use of dropna() function for dropping null value\n",
      "0        1\n",
      "2    hello\n",
      "dtype: object\n",
      "printing a DataFrame\n",
      "     0    1  2\n",
      "0  1.0  NaN  2\n",
      "1  2.0  3.0  5\n",
      "2  NaN  4.0  6\n",
      "to drop null value from df\n",
      "     0    1  2\n",
      "1  2.0  3.0  5\n",
      "to drop null value through rows\n",
      "     0    1  2\n",
      "1  2.0  3.0  5\n",
      "to drop null value through columns\n",
      "   2\n",
      "0  2\n",
      "1  5\n",
      "2  6\n",
      "keeping np.nan value to the df\n",
      "     0    1  2   3\n",
      "0  1.0  NaN  2 NaN\n",
      "1  2.0  3.0  5 NaN\n",
      "2  NaN  4.0  6 NaN\n",
      "to drop np.nan column\n",
      "     0    1  2\n",
      "0  1.0  NaN  2\n",
      "1  2.0  3.0  5\n",
      "2  NaN  4.0  6\n",
      "to print minimum number of row\n",
      "     0    1  2   3\n",
      "1  2.0  3.0  5 NaN\n"
     ]
    }
   ],
   "source": [
    "#dropping null value\n",
    "\n",
    "s = pd.Series([1, np.nan, 'hello', None])\n",
    "print(s)\n",
    "print('use of dropna() function for dropping null value')\n",
    "dropna = s.dropna()\n",
    "print(dropna)\n",
    "print('printing a DataFrame')\n",
    "df = pd.DataFrame([[1, np.nan, 2],\n",
    "[2, 3, 5],\n",
    "[np.nan, 4, 6]])\n",
    "\n",
    "print(df)\n",
    "print('to drop null value from df')\n",
    "to_drop = df.dropna()\n",
    "print(to_drop)\n",
    "print('to drop null value through rows')\n",
    "to_drop = df.dropna(axis='rows')\n",
    "print(to_drop)\n",
    "print('to drop null value through columns')\n",
    "to_drop = df.dropna(axis='columns')\n",
    "print(to_drop)\n",
    "print('keeping np.nan value to the df')\n",
    "df[3] = np.nan\n",
    "print(df)\n",
    "print('to drop np.nan column')\n",
    "drop_col = df.dropna(axis='columns', how='all')\n",
    "print(drop_col)\n",
    "print('to print minimum number of row')\n",
    "drop_specific_null = df.dropna(axis='rows', thresh=3)\n",
    "print(drop_specific_null)"
   ]
  },
  {
   "cell_type": "code",
   "execution_count": 7,
   "metadata": {},
   "outputs": [
    {
     "name": "stdout",
     "output_type": "stream",
     "text": [
      "printing a Series with null value\n",
      "a    1.0\n",
      "b    NaN\n",
      "c    2.0\n",
      "d    NaN\n",
      "e    3.0\n",
      "dtype: float64\n",
      "filling null value by zero(0)\n",
      "a    1.0\n",
      "b    0.0\n",
      "c    2.0\n",
      "d    0.0\n",
      "e    3.0\n",
      "dtype: float64\n",
      "filling null value by 1\n",
      "a    1.0\n",
      "b    0.0\n",
      "c    2.0\n",
      "d    0.0\n",
      "e    3.0\n",
      "dtype: float64\n",
      "forwarding fill\n",
      "a    1.0\n",
      "b    1.0\n",
      "c    2.0\n",
      "d    2.0\n",
      "e    3.0\n",
      "dtype: float64\n",
      "backward fill\n",
      "a    1.0\n",
      "b    2.0\n",
      "c    2.0\n",
      "d    3.0\n",
      "e    3.0\n",
      "dtype: float64\n",
      "printing DataFrame\n",
      "     0    1  2\n",
      "0  1.0  NaN  2\n",
      "1  2.0  3.0  5\n",
      "2  NaN  4.0  6\n",
      "increasing null column\n",
      "     0    1  2     3\n",
      "0  1.0  NaN  2  None\n",
      "1  2.0  3.0  5  None\n",
      "2  NaN  4.0  6  None\n",
      "filling the null column\n",
      "     0    1    2    3\n",
      "0  1.0  1.0  2.0  2.0\n",
      "1  2.0  3.0  5.0  5.0\n",
      "2  NaN  4.0  6.0  6.0\n"
     ]
    }
   ],
   "source": [
    "#Filling the null values\n",
    "\n",
    "print('printing a Series with null value')\n",
    "s = pd.Series([1,np.nan,2,None,3], index=list('abcde'))\n",
    "print(s)\n",
    "print('filling null value by zero(0)')\n",
    "to_fill = s.fillna(0)\n",
    "print(to_fill)\n",
    "print('filling null value by 1')\n",
    "to_fil = s.fillna(1)\n",
    "print(to_fill)\n",
    "print('forwarding fill')\n",
    "to_fill = s.fillna(method='ffill')\n",
    "print(to_fill)\n",
    "print('backward fill')\n",
    "to_fill = s.fillna(method='bfill')\n",
    "print(to_fill)\n",
    "\n",
    "print('printing DataFrame')\n",
    "df = pd.DataFrame([[1, np.nan, 2],\n",
    "[2, 3, 5],\n",
    "[np.nan, 4, 6]])\n",
    "\n",
    "print(df)\n",
    "print(\"increasing null column\")\n",
    "df[3] = None\n",
    "print(df)\n",
    "print('filling the null column')\n",
    "df = df.fillna(method='ffill', axis=1)\n",
    "print(df)"
   ]
  },
  {
   "cell_type": "code",
   "execution_count": null,
   "metadata": {},
   "outputs": [],
   "source": []
  }
 ],
 "metadata": {
  "kernelspec": {
   "display_name": "Python 3",
   "language": "python",
   "name": "python3"
  },
  "language_info": {
   "codemirror_mode": {
    "name": "ipython",
    "version": 3
   },
   "file_extension": ".py",
   "mimetype": "text/x-python",
   "name": "python",
   "nbconvert_exporter": "python",
   "pygments_lexer": "ipython3",
   "version": "3.7.4"
  }
 },
 "nbformat": 4,
 "nbformat_minor": 2
}
