{
 "cells": [
  {
   "cell_type": "code",
   "execution_count": 1,
   "metadata": {},
   "outputs": [],
   "source": [
    "import numpy as np\n",
    "import pandas as pd\n",
    "import matplotlib.pyplot as plt\n",
    "from datetime import datetime\n",
    "from dateutil import parser"
   ]
  },
  {
   "cell_type": "code",
   "execution_count": 3,
   "metadata": {},
   "outputs": [
    {
     "name": "stdout",
     "output_type": "stream",
     "text": [
      "2020-07-03 00:00:00\n",
      "Friday\n",
      "2020-07-04 00:00:00\n"
     ]
    }
   ],
   "source": [
    "#from python datetime and dateutil\n",
    "#datetime for integer date\n",
    "date_datetime = datetime(year=2020, month=7, day=3)\n",
    "print(date_datetime)\n",
    "#to print the day using datetime\n",
    "day = date_datetime.strftime('%A')\n",
    "print(day)\n",
    "#parser for string date\n",
    "date_parser = parser.parse('2020 4 july')\n",
    "print(date_parser)"
   ]
  },
  {
   "cell_type": "code",
   "execution_count": 4,
   "metadata": {},
   "outputs": [
    {
     "name": "stdout",
     "output_type": "stream",
     "text": [
      "2020-07-09\n",
      "['2020-07-09' '2020-07-10' '2020-07-11' '2020-07-12' '2020-07-13'\n",
      " '2020-07-14' '2020-07-15' '2020-07-16' '2020-07-17' '2020-07-18'\n",
      " '2020-07-19' '2020-07-20']\n",
      "2020-02-07\n",
      "2020-07-20T12:00\n",
      "2020-05-23T12:55:32.500000000\n"
     ]
    }
   ],
   "source": [
    "#numpy's datetime64\n",
    "\n",
    "date = np.array('2020-07-09', dtype=np.datetime64)\n",
    "print(date)\n",
    "#to increase the day\n",
    "date_increase = date+np.arange(12)\n",
    "print(date_increase)\n",
    "#only datetime64 using\n",
    "only_datetime64 = np.datetime64('2020-02-07')\n",
    "print(only_datetime64)\n",
    "#minute base datetime64\n",
    "m_datetime64 = np.datetime64('2020-07-20 12:00')\n",
    "print(m_datetime64)\n",
    "ns_datetime64 = np.datetime64('2020-05-23 12:55:32.50', 'ns')\n",
    "print(ns_datetime64)"
   ]
  },
  {
   "cell_type": "code",
   "execution_count": 5,
   "metadata": {},
   "outputs": [
    {
     "name": "stdout",
     "output_type": "stream",
     "text": [
      "2020-08-27 00:00:00\n",
      "2020-12-20 00:00:00\n",
      "DatetimeIndex(['2020-08-27', '2020-08-28', '2020-08-29', '2020-08-30',\n",
      "               '2020-08-31', '2020-09-01', '2020-09-02', '2020-09-03',\n",
      "               '2020-09-04', '2020-09-05'],\n",
      "              dtype='datetime64[ns]', freq=None)\n"
     ]
    }
   ],
   "source": [
    "#pandas's to_datetime\n",
    "\n",
    "date = pd.to_datetime('2020-08-27')\n",
    "print(date)\n",
    "#full date\n",
    "date2 = pd.to_datetime('20 December 2020')\n",
    "print(date2)\n",
    "#to_timedelta to increament the date\n",
    "inc_date = date+pd.to_timedelta(np.arange(10), 'D')\n",
    "print(inc_date)"
   ]
  },
  {
   "cell_type": "code",
   "execution_count": 6,
   "metadata": {},
   "outputs": [
    {
     "name": "stdout",
     "output_type": "stream",
     "text": [
      "2020-01-01    5\n",
      "2020-01-02    4\n",
      "2021-01-03    3\n",
      "2021-01-04    2\n",
      "2021-01-05    1\n",
      "dtype: int64\n",
      "2020-01-02    4\n",
      "2021-01-03    3\n",
      "2021-01-04    2\n",
      "dtype: int64\n",
      "2020-01-01    5\n",
      "2020-01-02    4\n",
      "dtype: int64\n"
     ]
    }
   ],
   "source": [
    "#pandas's DatetimeIndex\n",
    "\n",
    "index = pd.DatetimeIndex(['2020-01-01', '2020-01-02', '2021-01-03', '2021-01-04', '2021-01-05'])\n",
    "s = pd.Series([5,4,3,2,1], index=index)\n",
    "print(s)\n",
    "#printing a range\n",
    "part_of_s = s['2020-01-02': '2021-01-04']\n",
    "print(part_of_s)\n",
    "#printing only 2020 dates\n",
    "unique_s = s['2020']\n",
    "print(unique_s)"
   ]
  },
  {
   "cell_type": "code",
   "execution_count": 7,
   "metadata": {},
   "outputs": [
    {
     "name": "stdout",
     "output_type": "stream",
     "text": [
      "DatetimeIndex(['2020-07-03', '2020-07-04', '2020-07-06', '2020-10-07',\n",
      "               '2020-07-22'],\n",
      "              dtype='datetime64[ns]', freq=None)\n",
      "PeriodIndex(['2020-07-03', '2020-07-04', '2020-07-06', '2020-10-07',\n",
      "             '2020-07-22'],\n",
      "            dtype='period[D]', freq='D')\n",
      "TimedeltaIndex(['-19 days', '-18 days', '-16 days', '77 days', '0 days'], dtype='timedelta64[ns]', freq=None)\n"
     ]
    }
   ],
   "source": [
    "#pandas's to_datetime\n",
    "\n",
    "date = pd.to_datetime([datetime(2020,7,3), '4th of july 2020', '2020-jul-06', '10-07-2020', '20200722'])\n",
    "\n",
    "print(date)\n",
    "#any DatetimeIndex is converted to period\n",
    "period_date = date.to_period('D')\n",
    "print(period_date)\n",
    "#finding difference of days\n",
    "difference_day = date - date[4]\n",
    "print(difference_day)"
   ]
  },
  {
   "cell_type": "code",
   "execution_count": 8,
   "metadata": {},
   "outputs": [
    {
     "name": "stdout",
     "output_type": "stream",
     "text": [
      "DatetimeIndex(['2020-07-03', '2020-07-04', '2020-07-05', '2020-07-06',\n",
      "               '2020-07-07', '2020-07-08', '2020-07-09', '2020-07-10',\n",
      "               '2020-07-11', '2020-07-12', '2020-07-13'],\n",
      "              dtype='datetime64[ns]', freq='D')\n",
      "DatetimeIndex(['2020-07-03', '2020-07-04', '2020-07-05', '2020-07-06',\n",
      "               '2020-07-07', '2020-07-08', '2020-07-09', '2020-07-10'],\n",
      "              dtype='datetime64[ns]', freq='D')\n",
      "DatetimeIndex(['2020-08-01 00:00:00', '2020-08-01 01:00:00',\n",
      "               '2020-08-01 02:00:00', '2020-08-01 03:00:00',\n",
      "               '2020-08-01 04:00:00', '2020-08-01 05:00:00'],\n",
      "              dtype='datetime64[ns]', freq='H')\n"
     ]
    }
   ],
   "source": [
    "#use of the pandas's date_range\n",
    "\n",
    "date = pd.date_range('07-03-2020','2020-07-13')\n",
    "print(date)\n",
    "date2= pd.date_range('07-03-2020', periods=8)\n",
    "print(date2)\n",
    "date3 = pd.date_range('08-01-2020', periods=6, freq='H')\n",
    "print(date3)"
   ]
  },
  {
   "cell_type": "code",
   "execution_count": 9,
   "metadata": {},
   "outputs": [
    {
     "name": "stdout",
     "output_type": "stream",
     "text": [
      "PeriodIndex(['2020-01-01', '2020-01-02', '2020-01-03', '2020-01-04',\n",
      "             '2020-01-05', '2020-01-06', '2020-01-07'],\n",
      "            dtype='period[D]', freq='D')\n",
      "PeriodIndex(['2020-01-01 00:00', '2020-01-01 01:00', '2020-01-01 02:00',\n",
      "             '2020-01-01 03:00', '2020-01-01 04:00', '2020-01-01 05:00',\n",
      "             '2020-01-01 06:00', '2020-01-01 07:00', '2020-01-01 08:00'],\n",
      "            dtype='period[H]', freq='H')\n"
     ]
    }
   ],
   "source": [
    "#use of the pandas's period_range\n",
    "\n",
    "date = pd.period_range('2020-01-01', periods=7)\n",
    "print(date)\n",
    "date2 = pd.period_range('2020-01-01', periods=9, freq='H')\n",
    "print(date2)"
   ]
  },
  {
   "cell_type": "code",
   "execution_count": 10,
   "metadata": {},
   "outputs": [
    {
     "name": "stdout",
     "output_type": "stream",
     "text": [
      "TimedeltaIndex(['00:00:00', '01:00:00', '02:00:00', '03:00:00', '04:00:00',\n",
      "                '05:00:00', '06:00:00', '07:00:00', '08:00:00', '09:00:00',\n",
      "                '10:00:00', '11:00:00'],\n",
      "               dtype='timedelta64[ns]', freq='H')\n",
      "TimedeltaIndex(['12:15:12', '13:15:12', '14:15:12', '15:15:12', '16:15:12',\n",
      "                '17:15:12', '18:15:12'],\n",
      "               dtype='timedelta64[ns]', freq='H')\n",
      "TimedeltaIndex(['00:00:00', '02:30:00', '05:00:00', '07:30:00', '10:00:00',\n",
      "                '12:30:00', '15:00:00', '17:30:00'],\n",
      "               dtype='timedelta64[ns]', freq='150T')\n"
     ]
    }
   ],
   "source": [
    "#use of the timedelta_range\n",
    "\n",
    "date = pd.timedelta_range(0, periods=12, freq='H')\n",
    "print(date)\n",
    "date2 = pd.timedelta_range('12:15:12', periods=7, freq='H')\n",
    "print(date2)\n",
    "date3 = pd.timedelta_range(0, periods=8, freq='2H30T')\n",
    "print(date3)"
   ]
  },
  {
   "cell_type": "code",
   "execution_count": null,
   "metadata": {},
   "outputs": [],
   "source": []
  }
 ],
 "metadata": {
  "kernelspec": {
   "display_name": "Python 3",
   "language": "python",
   "name": "python3"
  },
  "language_info": {
   "codemirror_mode": {
    "name": "ipython",
    "version": 3
   },
   "file_extension": ".py",
   "mimetype": "text/x-python",
   "name": "python",
   "nbconvert_exporter": "python",
   "pygments_lexer": "ipython3",
   "version": "3.7.4"
  }
 },
 "nbformat": 4,
 "nbformat_minor": 2
}
